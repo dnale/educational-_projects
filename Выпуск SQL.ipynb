{
 "cells": [
  {
   "cell_type": "markdown",
   "metadata": {},
   "source": [
    "# Анализ базы данных книжного сервиса. SQL"
   ]
  },
  {
   "cell_type": "markdown",
   "metadata": {},
   "source": [
    "## Цели исследования"
   ]
  },
  {
   "cell_type": "markdown",
   "metadata": {},
   "source": [
    "Коронавирус застал мир врасплох, изменив привычный порядок вещей. В свободное время жители городов больше не выходят на улицу, не посещают кафе и торговые центры. Зато стало больше времени для книг. Это заметили стартаперы — и бросились создавать приложения для тех, кто любит читать.\n",
    "\n",
    "Ваша компания решила быть на волне и купила крупный сервис для чтения книг по подписке. Ваша первая задача как аналитика — проанализировать базу данных. В ней — информация о книгах, издательствах, авторах, а также пользовательские обзоры книг. Эти данные помогут сформулировать ценностное предложение для нового продукта."
   ]
  },
  {
   "cell_type": "markdown",
   "metadata": {},
   "source": [
    "## Описание данных"
   ]
  },
  {
   "cell_type": "markdown",
   "metadata": {},
   "source": [
    "**Таблица books**\n",
    "\n",
    "**Содержит данные о книгах:**\n",
    "\n",
    "book_id — идентификатор книги;\n",
    "\n",
    "author_id — идентификатор автора;\n",
    "\n",
    "title — название книги;\n",
    "\n",
    "num_pages — количество страниц;\n",
    "\n",
    "publication_date — дата публикации книги;\n",
    "\n",
    "publisher_id — идентификатор издателя.\n",
    "\n",
    "\n",
    "**Таблица authors**\n",
    "\n",
    "**Содержит данные об авторах:**\n",
    "\n",
    "author_id — идентификатор автора;\n",
    "\n",
    "author — имя автора.\n",
    "\n",
    "\n",
    "**Таблица publishers**\n",
    "\n",
    "**Содержит данные об издательствах:**\n",
    "\n",
    "publisher_id — идентификатор издательства;\n",
    "\n",
    "publisher — название издательства;\n",
    "\n",
    "\n",
    "**Таблица ratings**\n",
    "\n",
    "**Содержит данные о пользовательских оценках книг:**\n",
    "\n",
    "rating_id — идентификатор оценки;\n",
    "\n",
    "book_id — идентификатор книги;\n",
    "\n",
    "username — имя пользователя, оставившего оценку;\n",
    "\n",
    "rating — оценка книги\n",
    "\n",
    ".\n",
    "**Таблица reviews**\n",
    "\n",
    "**Содержит данные о пользовательских обзорах на книги:**\n",
    "\n",
    "review_id — идентификатор обзора;\n",
    "\n",
    "book_id — идентификатор книги;\n",
    "\n",
    "username — имя пользователя, написавшего обзор;\n",
    "\n",
    "text — текст обзора."
   ]
  },
  {
   "cell_type": "markdown",
   "metadata": {},
   "source": [
    "## Исследуем таблицы"
   ]
  },
  {
   "cell_type": "code",
   "execution_count": 1,
   "metadata": {},
   "outputs": [],
   "source": [
    "# импортируем библиотеки\n",
    "import pandas as pd\n",
    "from sqlalchemy import create_engine\n",
    "# устанавливаем параметры\n",
    "db_config = {'user': 'praktikum_student', # имя пользователя\n",
    " 'pwd': 'Sdf4$2;d-d30pp', # пароль\n",
    " 'host': 'rc1b-wcoijxj3yxfsf3fs.mdb.yandexcloud.net',\n",
    " 'port': 6432, # порт подключения\n",
    " 'db': 'data-analyst-final-project-db'} # название базы данных\n",
    "connection_string = 'postgresql://{}:{}@{}:{}/{}'.format(db_config['user'],\n",
    " db_config['pwd'],\n",
    " db_config['host'],\n",
    " db_config['port'],\n",
    " db_config['db'])\n",
    "# сохраняем коннектор\n",
    "engine = create_engine(connection_string, connect_args={'sslmode':'require'})"
   ]
  },
  {
   "cell_type": "markdown",
   "metadata": {},
   "source": [
    "**Функия выводящая результаты SQL-запроса**"
   ]
  },
  {
   "cell_type": "code",
   "execution_count": 2,
   "metadata": {},
   "outputs": [],
   "source": [
    "def sql_result(query):\n",
    "  return pd.io.sql.read_sql(query, con = engine)"
   ]
  },
  {
   "cell_type": "markdown",
   "metadata": {},
   "source": [
    "### Запрос к таблице books"
   ]
  },
  {
   "cell_type": "code",
   "execution_count": 41,
   "metadata": {},
   "outputs": [
    {
     "data": {
      "text/html": [
       "<div>\n",
       "<style scoped>\n",
       "    .dataframe tbody tr th:only-of-type {\n",
       "        vertical-align: middle;\n",
       "    }\n",
       "\n",
       "    .dataframe tbody tr th {\n",
       "        vertical-align: top;\n",
       "    }\n",
       "\n",
       "    .dataframe thead th {\n",
       "        text-align: right;\n",
       "    }\n",
       "</style>\n",
       "<table border=\"1\" class=\"dataframe\">\n",
       "  <thead>\n",
       "    <tr style=\"text-align: right;\">\n",
       "      <th></th>\n",
       "      <th>book_id</th>\n",
       "      <th>author_id</th>\n",
       "      <th>title</th>\n",
       "      <th>num_pages</th>\n",
       "      <th>publication_date</th>\n",
       "      <th>publisher_id</th>\n",
       "    </tr>\n",
       "  </thead>\n",
       "  <tbody>\n",
       "    <tr>\n",
       "      <th>0</th>\n",
       "      <td>1</td>\n",
       "      <td>546</td>\n",
       "      <td>'Salem's Lot</td>\n",
       "      <td>594</td>\n",
       "      <td>2005-11-01</td>\n",
       "      <td>93</td>\n",
       "    </tr>\n",
       "    <tr>\n",
       "      <th>1</th>\n",
       "      <td>2</td>\n",
       "      <td>465</td>\n",
       "      <td>1 000 Places to See Before You Die</td>\n",
       "      <td>992</td>\n",
       "      <td>2003-05-22</td>\n",
       "      <td>336</td>\n",
       "    </tr>\n",
       "    <tr>\n",
       "      <th>2</th>\n",
       "      <td>3</td>\n",
       "      <td>407</td>\n",
       "      <td>13 Little Blue Envelopes (Little Blue Envelope...</td>\n",
       "      <td>322</td>\n",
       "      <td>2010-12-21</td>\n",
       "      <td>135</td>\n",
       "    </tr>\n",
       "    <tr>\n",
       "      <th>3</th>\n",
       "      <td>4</td>\n",
       "      <td>82</td>\n",
       "      <td>1491: New Revelations of the Americas Before C...</td>\n",
       "      <td>541</td>\n",
       "      <td>2006-10-10</td>\n",
       "      <td>309</td>\n",
       "    </tr>\n",
       "    <tr>\n",
       "      <th>4</th>\n",
       "      <td>5</td>\n",
       "      <td>125</td>\n",
       "      <td>1776</td>\n",
       "      <td>386</td>\n",
       "      <td>2006-07-04</td>\n",
       "      <td>268</td>\n",
       "    </tr>\n",
       "  </tbody>\n",
       "</table>\n",
       "</div>"
      ],
      "text/plain": [
       "   book_id  author_id                                              title  \\\n",
       "0        1        546                                       'Salem's Lot   \n",
       "1        2        465                 1 000 Places to See Before You Die   \n",
       "2        3        407  13 Little Blue Envelopes (Little Blue Envelope...   \n",
       "3        4         82  1491: New Revelations of the Americas Before C...   \n",
       "4        5        125                                               1776   \n",
       "\n",
       "   num_pages publication_date  publisher_id  \n",
       "0        594       2005-11-01            93  \n",
       "1        992       2003-05-22           336  \n",
       "2        322       2010-12-21           135  \n",
       "3        541       2006-10-10           309  \n",
       "4        386       2006-07-04           268  "
      ]
     },
     "execution_count": 41,
     "metadata": {},
     "output_type": "execute_result"
    }
   ],
   "source": [
    "query = \\\n",
    "'''\n",
    "\n",
    "SELECT * \n",
    "  FROM books\n",
    "   LIMIT 5\n",
    "\n",
    "'''\n",
    "sql_result(query)"
   ]
  },
  {
   "cell_type": "markdown",
   "metadata": {},
   "source": [
    "### Запрос к таблице authors"
   ]
  },
  {
   "cell_type": "code",
   "execution_count": 42,
   "metadata": {},
   "outputs": [
    {
     "data": {
      "text/html": [
       "<div>\n",
       "<style scoped>\n",
       "    .dataframe tbody tr th:only-of-type {\n",
       "        vertical-align: middle;\n",
       "    }\n",
       "\n",
       "    .dataframe tbody tr th {\n",
       "        vertical-align: top;\n",
       "    }\n",
       "\n",
       "    .dataframe thead th {\n",
       "        text-align: right;\n",
       "    }\n",
       "</style>\n",
       "<table border=\"1\" class=\"dataframe\">\n",
       "  <thead>\n",
       "    <tr style=\"text-align: right;\">\n",
       "      <th></th>\n",
       "      <th>author_id</th>\n",
       "      <th>author</th>\n",
       "    </tr>\n",
       "  </thead>\n",
       "  <tbody>\n",
       "    <tr>\n",
       "      <th>0</th>\n",
       "      <td>1</td>\n",
       "      <td>A.S. Byatt</td>\n",
       "    </tr>\n",
       "    <tr>\n",
       "      <th>1</th>\n",
       "      <td>2</td>\n",
       "      <td>Aesop/Laura Harris/Laura Gibbs</td>\n",
       "    </tr>\n",
       "    <tr>\n",
       "      <th>2</th>\n",
       "      <td>3</td>\n",
       "      <td>Agatha Christie</td>\n",
       "    </tr>\n",
       "    <tr>\n",
       "      <th>3</th>\n",
       "      <td>4</td>\n",
       "      <td>Alan Brennert</td>\n",
       "    </tr>\n",
       "    <tr>\n",
       "      <th>4</th>\n",
       "      <td>5</td>\n",
       "      <td>Alan Moore/David   Lloyd</td>\n",
       "    </tr>\n",
       "  </tbody>\n",
       "</table>\n",
       "</div>"
      ],
      "text/plain": [
       "   author_id                          author\n",
       "0          1                      A.S. Byatt\n",
       "1          2  Aesop/Laura Harris/Laura Gibbs\n",
       "2          3                 Agatha Christie\n",
       "3          4                   Alan Brennert\n",
       "4          5        Alan Moore/David   Lloyd"
      ]
     },
     "execution_count": 42,
     "metadata": {},
     "output_type": "execute_result"
    }
   ],
   "source": [
    "query = \\\n",
    "'''\n",
    "\n",
    "SELECT * \n",
    "  FROM authors\n",
    "    LIMIT 5\n",
    "\n",
    "'''\n",
    "sql_result(query)"
   ]
  },
  {
   "cell_type": "markdown",
   "metadata": {},
   "source": [
    "### Запрос к таблице publishers"
   ]
  },
  {
   "cell_type": "code",
   "execution_count": 43,
   "metadata": {},
   "outputs": [
    {
     "data": {
      "text/html": [
       "<div>\n",
       "<style scoped>\n",
       "    .dataframe tbody tr th:only-of-type {\n",
       "        vertical-align: middle;\n",
       "    }\n",
       "\n",
       "    .dataframe tbody tr th {\n",
       "        vertical-align: top;\n",
       "    }\n",
       "\n",
       "    .dataframe thead th {\n",
       "        text-align: right;\n",
       "    }\n",
       "</style>\n",
       "<table border=\"1\" class=\"dataframe\">\n",
       "  <thead>\n",
       "    <tr style=\"text-align: right;\">\n",
       "      <th></th>\n",
       "      <th>publisher_id</th>\n",
       "      <th>publisher</th>\n",
       "    </tr>\n",
       "  </thead>\n",
       "  <tbody>\n",
       "    <tr>\n",
       "      <th>0</th>\n",
       "      <td>1</td>\n",
       "      <td>Ace</td>\n",
       "    </tr>\n",
       "    <tr>\n",
       "      <th>1</th>\n",
       "      <td>2</td>\n",
       "      <td>Ace Book</td>\n",
       "    </tr>\n",
       "    <tr>\n",
       "      <th>2</th>\n",
       "      <td>3</td>\n",
       "      <td>Ace Books</td>\n",
       "    </tr>\n",
       "    <tr>\n",
       "      <th>3</th>\n",
       "      <td>4</td>\n",
       "      <td>Ace Hardcover</td>\n",
       "    </tr>\n",
       "    <tr>\n",
       "      <th>4</th>\n",
       "      <td>5</td>\n",
       "      <td>Addison Wesley Publishing Company</td>\n",
       "    </tr>\n",
       "  </tbody>\n",
       "</table>\n",
       "</div>"
      ],
      "text/plain": [
       "   publisher_id                          publisher\n",
       "0             1                                Ace\n",
       "1             2                           Ace Book\n",
       "2             3                          Ace Books\n",
       "3             4                      Ace Hardcover\n",
       "4             5  Addison Wesley Publishing Company"
      ]
     },
     "execution_count": 43,
     "metadata": {},
     "output_type": "execute_result"
    }
   ],
   "source": [
    "query = \\\n",
    "'''\n",
    "\n",
    "SELECT * \n",
    "  FROM publishers\n",
    "    LIMIT 5\n",
    "\n",
    "'''\n",
    "sql_result(query)"
   ]
  },
  {
   "cell_type": "markdown",
   "metadata": {},
   "source": [
    "### Запрос к таблице ratings"
   ]
  },
  {
   "cell_type": "code",
   "execution_count": 44,
   "metadata": {},
   "outputs": [
    {
     "data": {
      "text/html": [
       "<div>\n",
       "<style scoped>\n",
       "    .dataframe tbody tr th:only-of-type {\n",
       "        vertical-align: middle;\n",
       "    }\n",
       "\n",
       "    .dataframe tbody tr th {\n",
       "        vertical-align: top;\n",
       "    }\n",
       "\n",
       "    .dataframe thead th {\n",
       "        text-align: right;\n",
       "    }\n",
       "</style>\n",
       "<table border=\"1\" class=\"dataframe\">\n",
       "  <thead>\n",
       "    <tr style=\"text-align: right;\">\n",
       "      <th></th>\n",
       "      <th>rating_id</th>\n",
       "      <th>book_id</th>\n",
       "      <th>username</th>\n",
       "      <th>rating</th>\n",
       "    </tr>\n",
       "  </thead>\n",
       "  <tbody>\n",
       "    <tr>\n",
       "      <th>0</th>\n",
       "      <td>1</td>\n",
       "      <td>1</td>\n",
       "      <td>ryanfranco</td>\n",
       "      <td>4</td>\n",
       "    </tr>\n",
       "    <tr>\n",
       "      <th>1</th>\n",
       "      <td>2</td>\n",
       "      <td>1</td>\n",
       "      <td>grantpatricia</td>\n",
       "      <td>2</td>\n",
       "    </tr>\n",
       "    <tr>\n",
       "      <th>2</th>\n",
       "      <td>3</td>\n",
       "      <td>1</td>\n",
       "      <td>brandtandrea</td>\n",
       "      <td>5</td>\n",
       "    </tr>\n",
       "    <tr>\n",
       "      <th>3</th>\n",
       "      <td>4</td>\n",
       "      <td>2</td>\n",
       "      <td>lorichen</td>\n",
       "      <td>3</td>\n",
       "    </tr>\n",
       "    <tr>\n",
       "      <th>4</th>\n",
       "      <td>5</td>\n",
       "      <td>2</td>\n",
       "      <td>mariokeller</td>\n",
       "      <td>2</td>\n",
       "    </tr>\n",
       "  </tbody>\n",
       "</table>\n",
       "</div>"
      ],
      "text/plain": [
       "   rating_id  book_id       username  rating\n",
       "0          1        1     ryanfranco       4\n",
       "1          2        1  grantpatricia       2\n",
       "2          3        1   brandtandrea       5\n",
       "3          4        2       lorichen       3\n",
       "4          5        2    mariokeller       2"
      ]
     },
     "execution_count": 44,
     "metadata": {},
     "output_type": "execute_result"
    }
   ],
   "source": [
    "query = \\\n",
    "'''\n",
    "\n",
    "SELECT * \n",
    "  FROM ratings\n",
    "   LIMIT 5\n",
    "\n",
    "'''\n",
    "sql_result(query)"
   ]
  },
  {
   "cell_type": "markdown",
   "metadata": {},
   "source": [
    "### Запрос к таблице reviews"
   ]
  },
  {
   "cell_type": "code",
   "execution_count": 15,
   "metadata": {},
   "outputs": [
    {
     "data": {
      "text/html": [
       "<div>\n",
       "<style scoped>\n",
       "    .dataframe tbody tr th:only-of-type {\n",
       "        vertical-align: middle;\n",
       "    }\n",
       "\n",
       "    .dataframe tbody tr th {\n",
       "        vertical-align: top;\n",
       "    }\n",
       "\n",
       "    .dataframe thead th {\n",
       "        text-align: right;\n",
       "    }\n",
       "</style>\n",
       "<table border=\"1\" class=\"dataframe\">\n",
       "  <thead>\n",
       "    <tr style=\"text-align: right;\">\n",
       "      <th></th>\n",
       "      <th>review_id</th>\n",
       "      <th>book_id</th>\n",
       "      <th>username</th>\n",
       "      <th>text</th>\n",
       "    </tr>\n",
       "  </thead>\n",
       "  <tbody>\n",
       "    <tr>\n",
       "      <th>0</th>\n",
       "      <td>1</td>\n",
       "      <td>1</td>\n",
       "      <td>brandtandrea</td>\n",
       "      <td>Mention society tell send professor analysis. ...</td>\n",
       "    </tr>\n",
       "    <tr>\n",
       "      <th>1</th>\n",
       "      <td>2</td>\n",
       "      <td>1</td>\n",
       "      <td>ryanfranco</td>\n",
       "      <td>Foot glass pretty audience hit themselves. Amo...</td>\n",
       "    </tr>\n",
       "    <tr>\n",
       "      <th>2</th>\n",
       "      <td>3</td>\n",
       "      <td>2</td>\n",
       "      <td>lorichen</td>\n",
       "      <td>Listen treat keep worry. Miss husband tax but ...</td>\n",
       "    </tr>\n",
       "    <tr>\n",
       "      <th>3</th>\n",
       "      <td>4</td>\n",
       "      <td>3</td>\n",
       "      <td>johnsonamanda</td>\n",
       "      <td>Finally month interesting blue could nature cu...</td>\n",
       "    </tr>\n",
       "    <tr>\n",
       "      <th>4</th>\n",
       "      <td>5</td>\n",
       "      <td>3</td>\n",
       "      <td>scotttamara</td>\n",
       "      <td>Nation purpose heavy give wait song will. List...</td>\n",
       "    </tr>\n",
       "  </tbody>\n",
       "</table>\n",
       "</div>"
      ],
      "text/plain": [
       "   review_id  book_id       username  \\\n",
       "0          1        1   brandtandrea   \n",
       "1          2        1     ryanfranco   \n",
       "2          3        2       lorichen   \n",
       "3          4        3  johnsonamanda   \n",
       "4          5        3    scotttamara   \n",
       "\n",
       "                                                text  \n",
       "0  Mention society tell send professor analysis. ...  \n",
       "1  Foot glass pretty audience hit themselves. Amo...  \n",
       "2  Listen treat keep worry. Miss husband tax but ...  \n",
       "3  Finally month interesting blue could nature cu...  \n",
       "4  Nation purpose heavy give wait song will. List...  "
      ]
     },
     "execution_count": 15,
     "metadata": {},
     "output_type": "execute_result"
    }
   ],
   "source": [
    "query = \\\n",
    "'''\n",
    "\n",
    "SELECT * \n",
    "  FROM reviews\n",
    "   LIMIT 5\n",
    "\n",
    "'''\n",
    "sql_result(query)"
   ]
  },
  {
   "cell_type": "markdown",
   "metadata": {},
   "source": [
    "## Проведем исследование"
   ]
  },
  {
   "cell_type": "markdown",
   "metadata": {},
   "source": [
    "### Посчитаем количество книг вышедших после 1 января 2000 года"
   ]
  },
  {
   "cell_type": "code",
   "execution_count": 45,
   "metadata": {},
   "outputs": [
    {
     "data": {
      "text/html": [
       "<div>\n",
       "<style scoped>\n",
       "    .dataframe tbody tr th:only-of-type {\n",
       "        vertical-align: middle;\n",
       "    }\n",
       "\n",
       "    .dataframe tbody tr th {\n",
       "        vertical-align: top;\n",
       "    }\n",
       "\n",
       "    .dataframe thead th {\n",
       "        text-align: right;\n",
       "    }\n",
       "</style>\n",
       "<table border=\"1\" class=\"dataframe\">\n",
       "  <thead>\n",
       "    <tr style=\"text-align: right;\">\n",
       "      <th></th>\n",
       "      <th>book_cnt</th>\n",
       "    </tr>\n",
       "  </thead>\n",
       "  <tbody>\n",
       "    <tr>\n",
       "      <th>0</th>\n",
       "      <td>819</td>\n",
       "    </tr>\n",
       "  </tbody>\n",
       "</table>\n",
       "</div>"
      ],
      "text/plain": [
       "   book_cnt\n",
       "0       819"
      ]
     },
     "execution_count": 45,
     "metadata": {},
     "output_type": "execute_result"
    }
   ],
   "source": [
    "query = \\\n",
    "'''\n",
    "\n",
    "SELECT COUNT (book_id) as book_cnt\n",
    "  FROM books\n",
    "    WHERE publication_date > '2000-01-01'\n",
    "\n",
    "'''\n",
    "sql_result(query)"
   ]
  },
  {
   "cell_type": "markdown",
   "metadata": {},
   "source": [
    "### Подсчитаем количество обзоров и среднюю оценку для каждой книги"
   ]
  },
  {
   "cell_type": "code",
   "execution_count": 48,
   "metadata": {
    "scrolled": false
   },
   "outputs": [
    {
     "data": {
      "text/html": [
       "<div>\n",
       "<style scoped>\n",
       "    .dataframe tbody tr th:only-of-type {\n",
       "        vertical-align: middle;\n",
       "    }\n",
       "\n",
       "    .dataframe tbody tr th {\n",
       "        vertical-align: top;\n",
       "    }\n",
       "\n",
       "    .dataframe thead th {\n",
       "        text-align: right;\n",
       "    }\n",
       "</style>\n",
       "<table border=\"1\" class=\"dataframe\">\n",
       "  <thead>\n",
       "    <tr style=\"text-align: right;\">\n",
       "      <th></th>\n",
       "      <th>book_id</th>\n",
       "      <th>title</th>\n",
       "      <th>review_cnt</th>\n",
       "      <th>avg_rating</th>\n",
       "    </tr>\n",
       "  </thead>\n",
       "  <tbody>\n",
       "    <tr>\n",
       "      <th>0</th>\n",
       "      <td>948</td>\n",
       "      <td>Twilight (Twilight  #1)</td>\n",
       "      <td>7</td>\n",
       "      <td>3.662500</td>\n",
       "    </tr>\n",
       "    <tr>\n",
       "      <th>1</th>\n",
       "      <td>750</td>\n",
       "      <td>The Hobbit  or There and Back Again</td>\n",
       "      <td>6</td>\n",
       "      <td>4.125000</td>\n",
       "    </tr>\n",
       "    <tr>\n",
       "      <th>2</th>\n",
       "      <td>673</td>\n",
       "      <td>The Catcher in the Rye</td>\n",
       "      <td>6</td>\n",
       "      <td>3.825581</td>\n",
       "    </tr>\n",
       "    <tr>\n",
       "      <th>3</th>\n",
       "      <td>302</td>\n",
       "      <td>Harry Potter and the Prisoner of Azkaban (Harr...</td>\n",
       "      <td>6</td>\n",
       "      <td>4.414634</td>\n",
       "    </tr>\n",
       "    <tr>\n",
       "      <th>4</th>\n",
       "      <td>299</td>\n",
       "      <td>Harry Potter and the Chamber of Secrets (Harry...</td>\n",
       "      <td>6</td>\n",
       "      <td>4.287500</td>\n",
       "    </tr>\n",
       "    <tr>\n",
       "      <th>...</th>\n",
       "      <td>...</td>\n",
       "      <td>...</td>\n",
       "      <td>...</td>\n",
       "      <td>...</td>\n",
       "    </tr>\n",
       "    <tr>\n",
       "      <th>995</th>\n",
       "      <td>221</td>\n",
       "      <td>Essential Tales and Poems</td>\n",
       "      <td>0</td>\n",
       "      <td>4.000000</td>\n",
       "    </tr>\n",
       "    <tr>\n",
       "      <th>996</th>\n",
       "      <td>387</td>\n",
       "      <td>Leonardo's Notebooks</td>\n",
       "      <td>0</td>\n",
       "      <td>4.000000</td>\n",
       "    </tr>\n",
       "    <tr>\n",
       "      <th>997</th>\n",
       "      <td>672</td>\n",
       "      <td>The Cat in the Hat and Other Dr. Seuss Favorites</td>\n",
       "      <td>0</td>\n",
       "      <td>5.000000</td>\n",
       "    </tr>\n",
       "    <tr>\n",
       "      <th>998</th>\n",
       "      <td>83</td>\n",
       "      <td>Anne Rice's The Vampire Lestat: A Graphic Novel</td>\n",
       "      <td>0</td>\n",
       "      <td>3.666667</td>\n",
       "    </tr>\n",
       "    <tr>\n",
       "      <th>999</th>\n",
       "      <td>808</td>\n",
       "      <td>The Natural Way to Draw</td>\n",
       "      <td>0</td>\n",
       "      <td>3.000000</td>\n",
       "    </tr>\n",
       "  </tbody>\n",
       "</table>\n",
       "<p>1000 rows × 4 columns</p>\n",
       "</div>"
      ],
      "text/plain": [
       "     book_id                                              title  review_cnt  \\\n",
       "0        948                            Twilight (Twilight  #1)           7   \n",
       "1        750                The Hobbit  or There and Back Again           6   \n",
       "2        673                             The Catcher in the Rye           6   \n",
       "3        302  Harry Potter and the Prisoner of Azkaban (Harr...           6   \n",
       "4        299  Harry Potter and the Chamber of Secrets (Harry...           6   \n",
       "..       ...                                                ...         ...   \n",
       "995      221                          Essential Tales and Poems           0   \n",
       "996      387                               Leonardo's Notebooks           0   \n",
       "997      672   The Cat in the Hat and Other Dr. Seuss Favorites           0   \n",
       "998       83    Anne Rice's The Vampire Lestat: A Graphic Novel           0   \n",
       "999      808                            The Natural Way to Draw           0   \n",
       "\n",
       "     avg_rating  \n",
       "0      3.662500  \n",
       "1      4.125000  \n",
       "2      3.825581  \n",
       "3      4.414634  \n",
       "4      4.287500  \n",
       "..          ...  \n",
       "995    4.000000  \n",
       "996    4.000000  \n",
       "997    5.000000  \n",
       "998    3.666667  \n",
       "999    3.000000  \n",
       "\n",
       "[1000 rows x 4 columns]"
      ]
     },
     "execution_count": 48,
     "metadata": {},
     "output_type": "execute_result"
    }
   ],
   "source": [
    "query = \\\n",
    "'''\n",
    "\n",
    "SELECT\n",
    "      books.book_id,\n",
    "      books.title,\n",
    "      COUNT (DISTINCT review_id) AS review_cnt,\n",
    "      AVG(rating) AS avg_rating\n",
    "  FROM\n",
    "      books\n",
    "        LEFT JOIN \n",
    "  reviews ON reviews.book_id = books.book_id\n",
    "  \n",
    "        LEFT JOIN\n",
    "  ratings ON ratings.book_id = books.book_id\n",
    "  \n",
    "  GROUP BY\n",
    "    books.book_id \n",
    "  ORDER BY\n",
    "    COUNT(reviews.review_id) DESC \n",
    "  \n",
    "'''\n",
    "sql_result(query)"
   ]
  },
  {
   "cell_type": "markdown",
   "metadata": {},
   "source": [
    "<div class=\"alert alert-block alert-info Исправил. Может в книгах есть двух томник, который имеет два id."
   ]
  },
  {
   "cell_type": "markdown",
   "metadata": {},
   "source": [
    "### Определим издательство, которое выпустило наибольшее число книг толще 50 страниц — так мы исключим из анализа брошюры"
   ]
  },
  {
   "cell_type": "code",
   "execution_count": 49,
   "metadata": {},
   "outputs": [
    {
     "data": {
      "text/html": [
       "<div>\n",
       "<style scoped>\n",
       "    .dataframe tbody tr th:only-of-type {\n",
       "        vertical-align: middle;\n",
       "    }\n",
       "\n",
       "    .dataframe tbody tr th {\n",
       "        vertical-align: top;\n",
       "    }\n",
       "\n",
       "    .dataframe thead th {\n",
       "        text-align: right;\n",
       "    }\n",
       "</style>\n",
       "<table border=\"1\" class=\"dataframe\">\n",
       "  <thead>\n",
       "    <tr style=\"text-align: right;\">\n",
       "      <th></th>\n",
       "      <th>publisher</th>\n",
       "      <th>book_cnt</th>\n",
       "    </tr>\n",
       "  </thead>\n",
       "  <tbody>\n",
       "    <tr>\n",
       "      <th>0</th>\n",
       "      <td>Penguin Books</td>\n",
       "      <td>42</td>\n",
       "    </tr>\n",
       "    <tr>\n",
       "      <th>1</th>\n",
       "      <td>Vintage</td>\n",
       "      <td>31</td>\n",
       "    </tr>\n",
       "    <tr>\n",
       "      <th>2</th>\n",
       "      <td>Grand Central Publishing</td>\n",
       "      <td>25</td>\n",
       "    </tr>\n",
       "    <tr>\n",
       "      <th>3</th>\n",
       "      <td>Penguin Classics</td>\n",
       "      <td>24</td>\n",
       "    </tr>\n",
       "    <tr>\n",
       "      <th>4</th>\n",
       "      <td>Ballantine Books</td>\n",
       "      <td>19</td>\n",
       "    </tr>\n",
       "    <tr>\n",
       "      <th>...</th>\n",
       "      <td>...</td>\n",
       "      <td>...</td>\n",
       "    </tr>\n",
       "    <tr>\n",
       "      <th>329</th>\n",
       "      <td>Turtleback</td>\n",
       "      <td>1</td>\n",
       "    </tr>\n",
       "    <tr>\n",
       "      <th>330</th>\n",
       "      <td>Atheneum Books for Young Readers: Richard Jack...</td>\n",
       "      <td>1</td>\n",
       "    </tr>\n",
       "    <tr>\n",
       "      <th>331</th>\n",
       "      <td>Penguin Signet</td>\n",
       "      <td>1</td>\n",
       "    </tr>\n",
       "    <tr>\n",
       "      <th>332</th>\n",
       "      <td>Victor Gollancz</td>\n",
       "      <td>1</td>\n",
       "    </tr>\n",
       "    <tr>\n",
       "      <th>333</th>\n",
       "      <td>Harvard Business Review Press</td>\n",
       "      <td>1</td>\n",
       "    </tr>\n",
       "  </tbody>\n",
       "</table>\n",
       "<p>334 rows × 2 columns</p>\n",
       "</div>"
      ],
      "text/plain": [
       "                                             publisher  book_cnt\n",
       "0                                        Penguin Books        42\n",
       "1                                              Vintage        31\n",
       "2                             Grand Central Publishing        25\n",
       "3                                     Penguin Classics        24\n",
       "4                                     Ballantine Books        19\n",
       "..                                                 ...       ...\n",
       "329                                         Turtleback         1\n",
       "330  Atheneum Books for Young Readers: Richard Jack...         1\n",
       "331                                     Penguin Signet         1\n",
       "332                                    Victor Gollancz         1\n",
       "333                      Harvard Business Review Press         1\n",
       "\n",
       "[334 rows x 2 columns]"
      ]
     },
     "execution_count": 49,
     "metadata": {},
     "output_type": "execute_result"
    }
   ],
   "source": [
    "query = \\\n",
    "'''\n",
    "\n",
    "SELECT\n",
    "     publisher,\n",
    "     COUNT (book_id) as book_cnt\n",
    "  FROM\n",
    "     books\n",
    "      LEFT JOIN\n",
    "  publishers ON publishers.publisher_id=books.publisher_id\n",
    "  WHERE\n",
    "      num_pages>50\n",
    "  GROUP BY\n",
    "      publisher\n",
    "  ORDER BY\n",
    "      book_cnt DESC\n",
    "\n",
    "'''\n",
    "sql_result(query)"
   ]
  },
  {
   "cell_type": "markdown",
   "metadata": {},
   "source": [
    "### Определим автора с самой высокой средней оценкой книг, при учете только книг с 50 и более оценками"
   ]
  },
  {
   "cell_type": "code",
   "execution_count": 50,
   "metadata": {},
   "outputs": [
    {
     "data": {
      "text/html": [
       "<div>\n",
       "<style scoped>\n",
       "    .dataframe tbody tr th:only-of-type {\n",
       "        vertical-align: middle;\n",
       "    }\n",
       "\n",
       "    .dataframe tbody tr th {\n",
       "        vertical-align: top;\n",
       "    }\n",
       "\n",
       "    .dataframe thead th {\n",
       "        text-align: right;\n",
       "    }\n",
       "</style>\n",
       "<table border=\"1\" class=\"dataframe\">\n",
       "  <thead>\n",
       "    <tr style=\"text-align: right;\">\n",
       "      <th></th>\n",
       "      <th>author</th>\n",
       "      <th>high_avg_rating</th>\n",
       "    </tr>\n",
       "  </thead>\n",
       "  <tbody>\n",
       "    <tr>\n",
       "      <th>0</th>\n",
       "      <td>J.K. Rowling/Mary GrandPré</td>\n",
       "      <td>4.283844</td>\n",
       "    </tr>\n",
       "    <tr>\n",
       "      <th>1</th>\n",
       "      <td>Markus Zusak/Cao Xuân Việt Khương</td>\n",
       "      <td>4.264151</td>\n",
       "    </tr>\n",
       "    <tr>\n",
       "      <th>2</th>\n",
       "      <td>J.R.R. Tolkien</td>\n",
       "      <td>4.258446</td>\n",
       "    </tr>\n",
       "    <tr>\n",
       "      <th>3</th>\n",
       "      <td>Louisa May Alcott</td>\n",
       "      <td>4.192308</td>\n",
       "    </tr>\n",
       "    <tr>\n",
       "      <th>4</th>\n",
       "      <td>Rick Riordan</td>\n",
       "      <td>4.080645</td>\n",
       "    </tr>\n",
       "    <tr>\n",
       "      <th>5</th>\n",
       "      <td>William Golding</td>\n",
       "      <td>3.901408</td>\n",
       "    </tr>\n",
       "    <tr>\n",
       "      <th>6</th>\n",
       "      <td>J.D. Salinger</td>\n",
       "      <td>3.825581</td>\n",
       "    </tr>\n",
       "    <tr>\n",
       "      <th>7</th>\n",
       "      <td>Paulo Coelho/Alan R. Clarke/Özdemir İnce</td>\n",
       "      <td>3.789474</td>\n",
       "    </tr>\n",
       "    <tr>\n",
       "      <th>8</th>\n",
       "      <td>William Shakespeare/Paul Werstine/Barbara A. M...</td>\n",
       "      <td>3.787879</td>\n",
       "    </tr>\n",
       "    <tr>\n",
       "      <th>9</th>\n",
       "      <td>Dan Brown</td>\n",
       "      <td>3.754540</td>\n",
       "    </tr>\n",
       "    <tr>\n",
       "      <th>10</th>\n",
       "      <td>Lois Lowry</td>\n",
       "      <td>3.750000</td>\n",
       "    </tr>\n",
       "    <tr>\n",
       "      <th>11</th>\n",
       "      <td>George Orwell/Boris Grabnar/Peter Škerl</td>\n",
       "      <td>3.729730</td>\n",
       "    </tr>\n",
       "    <tr>\n",
       "      <th>12</th>\n",
       "      <td>Stephenie Meyer</td>\n",
       "      <td>3.662500</td>\n",
       "    </tr>\n",
       "    <tr>\n",
       "      <th>13</th>\n",
       "      <td>John Steinbeck</td>\n",
       "      <td>3.622951</td>\n",
       "    </tr>\n",
       "  </tbody>\n",
       "</table>\n",
       "</div>"
      ],
      "text/plain": [
       "                                               author  high_avg_rating\n",
       "0                          J.K. Rowling/Mary GrandPré         4.283844\n",
       "1                   Markus Zusak/Cao Xuân Việt Khương         4.264151\n",
       "2                                      J.R.R. Tolkien         4.258446\n",
       "3                                   Louisa May Alcott         4.192308\n",
       "4                                        Rick Riordan         4.080645\n",
       "5                                     William Golding         3.901408\n",
       "6                                       J.D. Salinger         3.825581\n",
       "7            Paulo Coelho/Alan R. Clarke/Özdemir İnce         3.789474\n",
       "8   William Shakespeare/Paul Werstine/Barbara A. M...         3.787879\n",
       "9                                           Dan Brown         3.754540\n",
       "10                                         Lois Lowry         3.750000\n",
       "11            George Orwell/Boris Grabnar/Peter Škerl         3.729730\n",
       "12                                    Stephenie Meyer         3.662500\n",
       "13                                     John Steinbeck         3.622951"
      ]
     },
     "execution_count": 50,
     "metadata": {},
     "output_type": "execute_result"
    }
   ],
   "source": [
    "query = \\\n",
    "'''\n",
    "SELECT\n",
    "     author,\n",
    "     AVG(sub.avg_rating) AS high_avg_rating\n",
    "  FROM\n",
    "     (SELECT\n",
    "          author,\n",
    "          books.book_id,\n",
    "          AVG(rating) AS avg_rating\n",
    "  FROM \n",
    "     authors\n",
    "      LEFT JOIN books ON books.author_id = authors.author_id\n",
    "      LEFT JOIN ratings ON ratings.book_id = books.book_id\n",
    "  GROUP BY\n",
    "      author,\n",
    "      books.book_id\n",
    "  HAVING\n",
    "      COUNT(rating) > 50) AS sub\n",
    "  GROUP BY\n",
    "      author\n",
    "  ORDER BY\n",
    "      high_avg_rating DESC\n",
    "'''\n",
    "\n",
    "sql_result(query)"
   ]
  },
  {
   "cell_type": "markdown",
   "metadata": {},
   "source": [
    "### Посчитаем среднее количество обзоров от пользователей, которые поставили больше 50 оценок"
   ]
  },
  {
   "cell_type": "code",
   "execution_count": 51,
   "metadata": {},
   "outputs": [
    {
     "data": {
      "text/html": [
       "<div>\n",
       "<style scoped>\n",
       "    .dataframe tbody tr th:only-of-type {\n",
       "        vertical-align: middle;\n",
       "    }\n",
       "\n",
       "    .dataframe tbody tr th {\n",
       "        vertical-align: top;\n",
       "    }\n",
       "\n",
       "    .dataframe thead th {\n",
       "        text-align: right;\n",
       "    }\n",
       "</style>\n",
       "<table border=\"1\" class=\"dataframe\">\n",
       "  <thead>\n",
       "    <tr style=\"text-align: right;\">\n",
       "      <th></th>\n",
       "      <th>avg_review_cnt</th>\n",
       "    </tr>\n",
       "  </thead>\n",
       "  <tbody>\n",
       "    <tr>\n",
       "      <th>0</th>\n",
       "      <td>24.333333</td>\n",
       "    </tr>\n",
       "  </tbody>\n",
       "</table>\n",
       "</div>"
      ],
      "text/plain": [
       "   avg_review_cnt\n",
       "0       24.333333"
      ]
     },
     "execution_count": 51,
     "metadata": {},
     "output_type": "execute_result"
    }
   ],
   "source": [
    "query = \\\n",
    "'''\n",
    "SELECT\n",
    "     AVG(review_cnt) as avg_review_cnt\n",
    "  FROM\n",
    "     (SELECT\n",
    "     COUNT(review_id) as review_cnt\n",
    "  FROM\n",
    "     reviews\n",
    "  WHERE username IN\n",
    "      (SELECT\n",
    "           username\n",
    "  FROM\n",
    "     ratings\n",
    "  GROUP BY\n",
    "     username\n",
    "  HAVING\n",
    "     COUNT(ratings) > 50)\n",
    "  GROUP BY\n",
    "     username) as sub_review_cnt \n",
    "\n",
    "'''\n",
    "sql_result(query)"
   ]
  },
  {
   "cell_type": "markdown",
   "metadata": {},
   "source": [
    "## Выводы:"
   ]
  },
  {
   "cell_type": "markdown",
   "metadata": {},
   "source": [
    "1. После 1 января 2000 года вышло 819 книг;\n",
    "\n",
    "2. На книгу Twilight (Twilight #1) вышло максимальное количество обзоров - 7, рейтинг книги - 3.7;\n",
    "\n",
    "3. Издательство, выпустившее наибольшее число книг толще 50 страниц: Penguin Books, они выпустили 42 книги;\n",
    "\n",
    "4. Автор с самой высокой средней оценкой книг: J.K. Rowling/Mary GrandPré с рейтингом 4.28;\n",
    "\n",
    "5. Среднее количество обзоров от пользователей, которые поставили больше 50 оценок: 24.3."
   ]
  },
  {
   "cell_type": "code",
   "execution_count": null,
   "metadata": {},
   "outputs": [],
   "source": []
  }
 ],
 "metadata": {
  "ExecuteTimeLog": [
   {
    "duration": 943,
    "start_time": "2022-05-26T14:51:13.764Z"
   },
   {
    "duration": 3,
    "start_time": "2022-05-26T14:54:33.315Z"
   },
   {
    "duration": 104,
    "start_time": "2022-05-26T14:55:53.008Z"
   },
   {
    "duration": 11,
    "start_time": "2022-05-26T14:57:39.196Z"
   },
   {
    "duration": 11,
    "start_time": "2022-05-26T14:59:54.730Z"
   },
   {
    "duration": 15,
    "start_time": "2022-05-26T15:00:58.647Z"
   },
   {
    "duration": 13,
    "start_time": "2022-05-26T15:01:44.037Z"
   },
   {
    "duration": 10,
    "start_time": "2022-05-26T15:04:50.703Z"
   },
   {
    "duration": 34,
    "start_time": "2022-05-26T15:08:48.477Z"
   },
   {
    "duration": 13,
    "start_time": "2022-05-26T15:12:11.125Z"
   },
   {
    "duration": 16,
    "start_time": "2022-05-26T15:16:23.754Z"
   },
   {
    "duration": 13,
    "start_time": "2022-05-26T15:21:35.805Z"
   },
   {
    "duration": 818,
    "start_time": "2022-05-26T18:01:23.609Z"
   },
   {
    "duration": 3,
    "start_time": "2022-05-26T18:01:24.429Z"
   },
   {
    "duration": 356,
    "start_time": "2022-05-26T18:01:24.434Z"
   },
   {
    "duration": 84,
    "start_time": "2022-05-26T18:01:24.792Z"
   },
   {
    "duration": 86,
    "start_time": "2022-05-26T18:01:24.878Z"
   },
   {
    "duration": 86,
    "start_time": "2022-05-26T18:01:24.965Z"
   },
   {
    "duration": 93,
    "start_time": "2022-05-26T18:01:25.053Z"
   },
   {
    "duration": 83,
    "start_time": "2022-05-26T18:01:25.148Z"
   },
   {
    "duration": 126,
    "start_time": "2022-05-26T18:01:25.233Z"
   },
   {
    "duration": 84,
    "start_time": "2022-05-26T18:01:25.361Z"
   },
   {
    "duration": 85,
    "start_time": "2022-05-26T18:01:25.447Z"
   },
   {
    "duration": 82,
    "start_time": "2022-05-26T18:01:25.533Z"
   },
   {
    "duration": 285,
    "start_time": "2022-05-27T04:10:02.397Z"
   },
   {
    "duration": 598,
    "start_time": "2022-05-27T04:10:35.025Z"
   },
   {
    "duration": 2,
    "start_time": "2022-05-27T04:10:35.625Z"
   },
   {
    "duration": 287,
    "start_time": "2022-05-27T04:10:35.629Z"
   },
   {
    "duration": 84,
    "start_time": "2022-05-27T04:10:35.917Z"
   },
   {
    "duration": 83,
    "start_time": "2022-05-27T04:10:36.003Z"
   },
   {
    "duration": 92,
    "start_time": "2022-05-27T04:10:36.088Z"
   },
   {
    "duration": 90,
    "start_time": "2022-05-27T04:10:36.182Z"
   },
   {
    "duration": 70,
    "start_time": "2022-05-27T04:10:36.277Z"
   },
   {
    "duration": 170,
    "start_time": "2022-05-27T04:10:36.349Z"
   },
   {
    "duration": 0,
    "start_time": "2022-05-27T04:10:36.520Z"
   },
   {
    "duration": 0,
    "start_time": "2022-05-27T04:10:36.522Z"
   },
   {
    "duration": 0,
    "start_time": "2022-05-27T04:10:36.522Z"
   },
   {
    "duration": 126,
    "start_time": "2022-05-27T04:14:10.793Z"
   },
   {
    "duration": 131,
    "start_time": "2022-05-27T04:17:01.675Z"
   },
   {
    "duration": 149,
    "start_time": "2022-05-27T04:20:17.476Z"
   },
   {
    "duration": 89,
    "start_time": "2022-05-27T04:20:53.414Z"
   },
   {
    "duration": 165,
    "start_time": "2022-05-27T04:21:07.869Z"
   },
   {
    "duration": 70,
    "start_time": "2022-05-27T04:21:36.180Z"
   },
   {
    "duration": 173,
    "start_time": "2022-05-27T04:24:20.740Z"
   },
   {
    "duration": 141,
    "start_time": "2022-05-27T04:31:27.841Z"
   },
   {
    "duration": 173,
    "start_time": "2022-05-27T04:32:51.324Z"
   },
   {
    "duration": 257,
    "start_time": "2022-05-27T04:34:02.416Z"
   },
   {
    "duration": 134,
    "start_time": "2022-05-27T04:34:58.989Z"
   },
   {
    "duration": 120,
    "start_time": "2022-05-27T05:08:09.192Z"
   },
   {
    "duration": 116,
    "start_time": "2022-05-27T05:09:15.551Z"
   },
   {
    "duration": 137,
    "start_time": "2022-05-27T05:33:48.297Z"
   },
   {
    "duration": 153,
    "start_time": "2022-05-27T05:34:41.317Z"
   },
   {
    "duration": 149,
    "start_time": "2022-05-27T05:35:06.278Z"
   },
   {
    "duration": 217,
    "start_time": "2022-05-27T05:37:19.249Z"
   },
   {
    "duration": 134,
    "start_time": "2022-05-27T05:37:56.003Z"
   },
   {
    "duration": 241,
    "start_time": "2022-05-27T06:13:28.980Z"
   },
   {
    "duration": 160,
    "start_time": "2022-05-27T06:14:10.950Z"
   },
   {
    "duration": 125,
    "start_time": "2022-05-27T06:15:46.397Z"
   },
   {
    "duration": 129,
    "start_time": "2022-05-27T06:17:53.216Z"
   },
   {
    "duration": 108,
    "start_time": "2022-05-27T06:18:53.782Z"
   },
   {
    "duration": 192,
    "start_time": "2022-05-27T06:19:55.038Z"
   },
   {
    "duration": 149,
    "start_time": "2022-05-27T06:20:40.780Z"
   },
   {
    "duration": 133,
    "start_time": "2022-05-27T06:21:25.320Z"
   },
   {
    "duration": 135,
    "start_time": "2022-05-27T06:22:00.277Z"
   },
   {
    "duration": 119,
    "start_time": "2022-05-27T06:23:02.477Z"
   },
   {
    "duration": 144,
    "start_time": "2022-05-27T06:24:30.173Z"
   },
   {
    "duration": 134,
    "start_time": "2022-05-27T06:32:00.764Z"
   },
   {
    "duration": 141,
    "start_time": "2022-05-27T06:32:42.092Z"
   },
   {
    "duration": 149,
    "start_time": "2022-05-27T06:38:36.085Z"
   },
   {
    "duration": 130,
    "start_time": "2022-05-27T06:39:04.297Z"
   },
   {
    "duration": 151,
    "start_time": "2022-05-27T06:39:22.572Z"
   },
   {
    "duration": 125,
    "start_time": "2022-05-27T06:40:41.895Z"
   },
   {
    "duration": 125,
    "start_time": "2022-05-27T06:42:37.200Z"
   },
   {
    "duration": 125,
    "start_time": "2022-05-27T06:54:17.575Z"
   },
   {
    "duration": 116,
    "start_time": "2022-05-27T06:54:33.775Z"
   },
   {
    "duration": 133,
    "start_time": "2022-05-27T06:57:41.398Z"
   },
   {
    "duration": 138,
    "start_time": "2022-05-27T06:58:52.678Z"
   },
   {
    "duration": 159,
    "start_time": "2022-05-27T07:28:24.828Z"
   },
   {
    "duration": 81,
    "start_time": "2022-05-27T07:29:42.293Z"
   },
   {
    "duration": 97,
    "start_time": "2022-05-27T07:30:06.392Z"
   },
   {
    "duration": 99,
    "start_time": "2022-05-27T07:30:33.684Z"
   },
   {
    "duration": 102,
    "start_time": "2022-05-27T07:31:43.907Z"
   },
   {
    "duration": 135,
    "start_time": "2022-05-27T07:32:39.391Z"
   },
   {
    "duration": 136,
    "start_time": "2022-05-27T07:34:54.396Z"
   },
   {
    "duration": 131,
    "start_time": "2022-05-27T07:36:08.838Z"
   },
   {
    "duration": 111,
    "start_time": "2022-05-27T07:38:52.820Z"
   },
   {
    "duration": 94,
    "start_time": "2022-05-27T07:42:08.228Z"
   },
   {
    "duration": 108,
    "start_time": "2022-05-27T07:44:53.631Z"
   }
  ],
  "kernelspec": {
   "display_name": "Python 3 (ipykernel)",
   "language": "python",
   "name": "python3"
  },
  "language_info": {
   "codemirror_mode": {
    "name": "ipython",
    "version": 3
   },
   "file_extension": ".py",
   "mimetype": "text/x-python",
   "name": "python",
   "nbconvert_exporter": "python",
   "pygments_lexer": "ipython3",
   "version": "3.9.7"
  },
  "toc": {
   "base_numbering": 1,
   "nav_menu": {},
   "number_sections": false,
   "sideBar": true,
   "skip_h1_title": false,
   "title_cell": "Table of Contents",
   "title_sidebar": "Contents",
   "toc_cell": false,
   "toc_position": {},
   "toc_section_display": true,
   "toc_window_display": false
  }
 },
 "nbformat": 4,
 "nbformat_minor": 2
}
