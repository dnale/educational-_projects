{
 "cells": [
  {
   "cell_type": "markdown",
   "metadata": {},
   "source": [
    " #                  Анализ рынка компьютерных игр."
   ]
  },
  {
   "cell_type": "markdown",
   "metadata": {},
   "source": [
    "Надо найти закономерности определяющие успешность игр. Для того, чтобы сделать ставку на потенциально популярный продукт и спланировать рекламные компании."
   ]
  },
  {
   "cell_type": "markdown",
   "metadata": {},
   "source": [
    "##  Обзор данных"
   ]
  },
  {
   "cell_type": "code",
   "execution_count": 1,
   "metadata": {},
   "outputs": [],
   "source": [
    "import pandas as pd\n",
    "\n",
    "import numpy as np\n",
    "\n",
    "import matplotlib.pyplot as plt"
   ]
  },
  {
   "cell_type": "code",
   "execution_count": 2,
   "metadata": {},
   "outputs": [
    {
     "data": {
      "text/html": [
       "<div>\n",
       "<style scoped>\n",
       "    .dataframe tbody tr th:only-of-type {\n",
       "        vertical-align: middle;\n",
       "    }\n",
       "\n",
       "    .dataframe tbody tr th {\n",
       "        vertical-align: top;\n",
       "    }\n",
       "\n",
       "    .dataframe thead th {\n",
       "        text-align: right;\n",
       "    }\n",
       "</style>\n",
       "<table border=\"1\" class=\"dataframe\">\n",
       "  <thead>\n",
       "    <tr style=\"text-align: right;\">\n",
       "      <th></th>\n",
       "      <th>Name</th>\n",
       "      <th>Platform</th>\n",
       "      <th>Year_of_Release</th>\n",
       "      <th>Genre</th>\n",
       "      <th>NA_sales</th>\n",
       "      <th>EU_sales</th>\n",
       "      <th>JP_sales</th>\n",
       "      <th>Other_sales</th>\n",
       "      <th>Critic_Score</th>\n",
       "      <th>User_Score</th>\n",
       "      <th>Rating</th>\n",
       "    </tr>\n",
       "  </thead>\n",
       "  <tbody>\n",
       "    <tr>\n",
       "      <td>0</td>\n",
       "      <td>Wii Sports</td>\n",
       "      <td>Wii</td>\n",
       "      <td>2006.0</td>\n",
       "      <td>Sports</td>\n",
       "      <td>41.36</td>\n",
       "      <td>28.96</td>\n",
       "      <td>3.77</td>\n",
       "      <td>8.45</td>\n",
       "      <td>76.0</td>\n",
       "      <td>8</td>\n",
       "      <td>E</td>\n",
       "    </tr>\n",
       "    <tr>\n",
       "      <td>1</td>\n",
       "      <td>Super Mario Bros.</td>\n",
       "      <td>NES</td>\n",
       "      <td>1985.0</td>\n",
       "      <td>Platform</td>\n",
       "      <td>29.08</td>\n",
       "      <td>3.58</td>\n",
       "      <td>6.81</td>\n",
       "      <td>0.77</td>\n",
       "      <td>NaN</td>\n",
       "      <td>NaN</td>\n",
       "      <td>NaN</td>\n",
       "    </tr>\n",
       "    <tr>\n",
       "      <td>2</td>\n",
       "      <td>Mario Kart Wii</td>\n",
       "      <td>Wii</td>\n",
       "      <td>2008.0</td>\n",
       "      <td>Racing</td>\n",
       "      <td>15.68</td>\n",
       "      <td>12.76</td>\n",
       "      <td>3.79</td>\n",
       "      <td>3.29</td>\n",
       "      <td>82.0</td>\n",
       "      <td>8.3</td>\n",
       "      <td>E</td>\n",
       "    </tr>\n",
       "    <tr>\n",
       "      <td>3</td>\n",
       "      <td>Wii Sports Resort</td>\n",
       "      <td>Wii</td>\n",
       "      <td>2009.0</td>\n",
       "      <td>Sports</td>\n",
       "      <td>15.61</td>\n",
       "      <td>10.93</td>\n",
       "      <td>3.28</td>\n",
       "      <td>2.95</td>\n",
       "      <td>80.0</td>\n",
       "      <td>8</td>\n",
       "      <td>E</td>\n",
       "    </tr>\n",
       "    <tr>\n",
       "      <td>4</td>\n",
       "      <td>Pokemon Red/Pokemon Blue</td>\n",
       "      <td>GB</td>\n",
       "      <td>1996.0</td>\n",
       "      <td>Role-Playing</td>\n",
       "      <td>11.27</td>\n",
       "      <td>8.89</td>\n",
       "      <td>10.22</td>\n",
       "      <td>1.00</td>\n",
       "      <td>NaN</td>\n",
       "      <td>NaN</td>\n",
       "      <td>NaN</td>\n",
       "    </tr>\n",
       "    <tr>\n",
       "      <td>...</td>\n",
       "      <td>...</td>\n",
       "      <td>...</td>\n",
       "      <td>...</td>\n",
       "      <td>...</td>\n",
       "      <td>...</td>\n",
       "      <td>...</td>\n",
       "      <td>...</td>\n",
       "      <td>...</td>\n",
       "      <td>...</td>\n",
       "      <td>...</td>\n",
       "      <td>...</td>\n",
       "    </tr>\n",
       "    <tr>\n",
       "      <td>16710</td>\n",
       "      <td>Samurai Warriors: Sanada Maru</td>\n",
       "      <td>PS3</td>\n",
       "      <td>2016.0</td>\n",
       "      <td>Action</td>\n",
       "      <td>0.00</td>\n",
       "      <td>0.00</td>\n",
       "      <td>0.01</td>\n",
       "      <td>0.00</td>\n",
       "      <td>NaN</td>\n",
       "      <td>NaN</td>\n",
       "      <td>NaN</td>\n",
       "    </tr>\n",
       "    <tr>\n",
       "      <td>16711</td>\n",
       "      <td>LMA Manager 2007</td>\n",
       "      <td>X360</td>\n",
       "      <td>2006.0</td>\n",
       "      <td>Sports</td>\n",
       "      <td>0.00</td>\n",
       "      <td>0.01</td>\n",
       "      <td>0.00</td>\n",
       "      <td>0.00</td>\n",
       "      <td>NaN</td>\n",
       "      <td>NaN</td>\n",
       "      <td>NaN</td>\n",
       "    </tr>\n",
       "    <tr>\n",
       "      <td>16712</td>\n",
       "      <td>Haitaka no Psychedelica</td>\n",
       "      <td>PSV</td>\n",
       "      <td>2016.0</td>\n",
       "      <td>Adventure</td>\n",
       "      <td>0.00</td>\n",
       "      <td>0.00</td>\n",
       "      <td>0.01</td>\n",
       "      <td>0.00</td>\n",
       "      <td>NaN</td>\n",
       "      <td>NaN</td>\n",
       "      <td>NaN</td>\n",
       "    </tr>\n",
       "    <tr>\n",
       "      <td>16713</td>\n",
       "      <td>Spirits &amp; Spells</td>\n",
       "      <td>GBA</td>\n",
       "      <td>2003.0</td>\n",
       "      <td>Platform</td>\n",
       "      <td>0.01</td>\n",
       "      <td>0.00</td>\n",
       "      <td>0.00</td>\n",
       "      <td>0.00</td>\n",
       "      <td>NaN</td>\n",
       "      <td>NaN</td>\n",
       "      <td>NaN</td>\n",
       "    </tr>\n",
       "    <tr>\n",
       "      <td>16714</td>\n",
       "      <td>Winning Post 8 2016</td>\n",
       "      <td>PSV</td>\n",
       "      <td>2016.0</td>\n",
       "      <td>Simulation</td>\n",
       "      <td>0.00</td>\n",
       "      <td>0.00</td>\n",
       "      <td>0.01</td>\n",
       "      <td>0.00</td>\n",
       "      <td>NaN</td>\n",
       "      <td>NaN</td>\n",
       "      <td>NaN</td>\n",
       "    </tr>\n",
       "  </tbody>\n",
       "</table>\n",
       "<p>16715 rows × 11 columns</p>\n",
       "</div>"
      ],
      "text/plain": [
       "                                Name Platform  Year_of_Release         Genre  \\\n",
       "0                         Wii Sports      Wii           2006.0        Sports   \n",
       "1                  Super Mario Bros.      NES           1985.0      Platform   \n",
       "2                     Mario Kart Wii      Wii           2008.0        Racing   \n",
       "3                  Wii Sports Resort      Wii           2009.0        Sports   \n",
       "4           Pokemon Red/Pokemon Blue       GB           1996.0  Role-Playing   \n",
       "...                              ...      ...              ...           ...   \n",
       "16710  Samurai Warriors: Sanada Maru      PS3           2016.0        Action   \n",
       "16711               LMA Manager 2007     X360           2006.0        Sports   \n",
       "16712        Haitaka no Psychedelica      PSV           2016.0     Adventure   \n",
       "16713               Spirits & Spells      GBA           2003.0      Platform   \n",
       "16714            Winning Post 8 2016      PSV           2016.0    Simulation   \n",
       "\n",
       "       NA_sales  EU_sales  JP_sales  Other_sales  Critic_Score User_Score  \\\n",
       "0         41.36     28.96      3.77         8.45          76.0          8   \n",
       "1         29.08      3.58      6.81         0.77           NaN        NaN   \n",
       "2         15.68     12.76      3.79         3.29          82.0        8.3   \n",
       "3         15.61     10.93      3.28         2.95          80.0          8   \n",
       "4         11.27      8.89     10.22         1.00           NaN        NaN   \n",
       "...         ...       ...       ...          ...           ...        ...   \n",
       "16710      0.00      0.00      0.01         0.00           NaN        NaN   \n",
       "16711      0.00      0.01      0.00         0.00           NaN        NaN   \n",
       "16712      0.00      0.00      0.01         0.00           NaN        NaN   \n",
       "16713      0.01      0.00      0.00         0.00           NaN        NaN   \n",
       "16714      0.00      0.00      0.01         0.00           NaN        NaN   \n",
       "\n",
       "      Rating  \n",
       "0          E  \n",
       "1        NaN  \n",
       "2          E  \n",
       "3          E  \n",
       "4        NaN  \n",
       "...      ...  \n",
       "16710    NaN  \n",
       "16711    NaN  \n",
       "16712    NaN  \n",
       "16713    NaN  \n",
       "16714    NaN  \n",
       "\n",
       "[16715 rows x 11 columns]"
      ]
     },
     "metadata": {},
     "output_type": "display_data"
    },
    {
     "name": "stdout",
     "output_type": "stream",
     "text": [
      "<class 'pandas.core.frame.DataFrame'>\n",
      "RangeIndex: 16715 entries, 0 to 16714\n",
      "Data columns (total 11 columns):\n",
      "Name               16713 non-null object\n",
      "Platform           16715 non-null object\n",
      "Year_of_Release    16446 non-null float64\n",
      "Genre              16713 non-null object\n",
      "NA_sales           16715 non-null float64\n",
      "EU_sales           16715 non-null float64\n",
      "JP_sales           16715 non-null float64\n",
      "Other_sales        16715 non-null float64\n",
      "Critic_Score       8137 non-null float64\n",
      "User_Score         10014 non-null object\n",
      "Rating             9949 non-null object\n",
      "dtypes: float64(6), object(5)\n",
      "memory usage: 1.4+ MB\n",
      "None\n"
     ]
    }
   ],
   "source": [
    "data = pd.read_csv('/datasets/games.csv')\n",
    "\n",
    "display(data)\n",
    "print(data.info())"
   ]
  },
  {
   "cell_type": "markdown",
   "metadata": {},
   "source": [
    "##  Предобработка данных"
   ]
  },
  {
   "cell_type": "code",
   "execution_count": 3,
   "metadata": {},
   "outputs": [
    {
     "data": {
      "text/plain": [
       "Index(['Name', 'Platform', 'Year_of_Release', 'Genre', 'NA_sales', 'EU_sales',\n",
       "       'JP_sales', 'Other_sales', 'Critic_Score', 'User_Score', 'Rating'],\n",
       "      dtype='object')"
      ]
     },
     "execution_count": 3,
     "metadata": {},
     "output_type": "execute_result"
    }
   ],
   "source": [
    "data.columns"
   ]
  },
  {
   "cell_type": "markdown",
   "metadata": {},
   "source": [
    "### Приведём названия столбцов к нижнему регистру"
   ]
  },
  {
   "cell_type": "code",
   "execution_count": 4,
   "metadata": {},
   "outputs": [
    {
     "data": {
      "text/html": [
       "<div>\n",
       "<style scoped>\n",
       "    .dataframe tbody tr th:only-of-type {\n",
       "        vertical-align: middle;\n",
       "    }\n",
       "\n",
       "    .dataframe tbody tr th {\n",
       "        vertical-align: top;\n",
       "    }\n",
       "\n",
       "    .dataframe thead th {\n",
       "        text-align: right;\n",
       "    }\n",
       "</style>\n",
       "<table border=\"1\" class=\"dataframe\">\n",
       "  <thead>\n",
       "    <tr style=\"text-align: right;\">\n",
       "      <th></th>\n",
       "      <th>name</th>\n",
       "      <th>platform</th>\n",
       "      <th>year_of_release</th>\n",
       "      <th>genre</th>\n",
       "      <th>na_sales</th>\n",
       "      <th>eu_sales</th>\n",
       "      <th>jp_sales</th>\n",
       "      <th>other_sales</th>\n",
       "      <th>critic_score</th>\n",
       "      <th>user_score</th>\n",
       "      <th>rating</th>\n",
       "    </tr>\n",
       "  </thead>\n",
       "  <tbody>\n",
       "    <tr>\n",
       "      <td>0</td>\n",
       "      <td>Wii Sports</td>\n",
       "      <td>Wii</td>\n",
       "      <td>2006.0</td>\n",
       "      <td>Sports</td>\n",
       "      <td>41.36</td>\n",
       "      <td>28.96</td>\n",
       "      <td>3.77</td>\n",
       "      <td>8.45</td>\n",
       "      <td>76.0</td>\n",
       "      <td>8</td>\n",
       "      <td>E</td>\n",
       "    </tr>\n",
       "    <tr>\n",
       "      <td>1</td>\n",
       "      <td>Super Mario Bros.</td>\n",
       "      <td>NES</td>\n",
       "      <td>1985.0</td>\n",
       "      <td>Platform</td>\n",
       "      <td>29.08</td>\n",
       "      <td>3.58</td>\n",
       "      <td>6.81</td>\n",
       "      <td>0.77</td>\n",
       "      <td>NaN</td>\n",
       "      <td>NaN</td>\n",
       "      <td>NaN</td>\n",
       "    </tr>\n",
       "    <tr>\n",
       "      <td>2</td>\n",
       "      <td>Mario Kart Wii</td>\n",
       "      <td>Wii</td>\n",
       "      <td>2008.0</td>\n",
       "      <td>Racing</td>\n",
       "      <td>15.68</td>\n",
       "      <td>12.76</td>\n",
       "      <td>3.79</td>\n",
       "      <td>3.29</td>\n",
       "      <td>82.0</td>\n",
       "      <td>8.3</td>\n",
       "      <td>E</td>\n",
       "    </tr>\n",
       "    <tr>\n",
       "      <td>3</td>\n",
       "      <td>Wii Sports Resort</td>\n",
       "      <td>Wii</td>\n",
       "      <td>2009.0</td>\n",
       "      <td>Sports</td>\n",
       "      <td>15.61</td>\n",
       "      <td>10.93</td>\n",
       "      <td>3.28</td>\n",
       "      <td>2.95</td>\n",
       "      <td>80.0</td>\n",
       "      <td>8</td>\n",
       "      <td>E</td>\n",
       "    </tr>\n",
       "    <tr>\n",
       "      <td>4</td>\n",
       "      <td>Pokemon Red/Pokemon Blue</td>\n",
       "      <td>GB</td>\n",
       "      <td>1996.0</td>\n",
       "      <td>Role-Playing</td>\n",
       "      <td>11.27</td>\n",
       "      <td>8.89</td>\n",
       "      <td>10.22</td>\n",
       "      <td>1.00</td>\n",
       "      <td>NaN</td>\n",
       "      <td>NaN</td>\n",
       "      <td>NaN</td>\n",
       "    </tr>\n",
       "  </tbody>\n",
       "</table>\n",
       "</div>"
      ],
      "text/plain": [
       "                       name platform  year_of_release         genre  na_sales  \\\n",
       "0                Wii Sports      Wii           2006.0        Sports     41.36   \n",
       "1         Super Mario Bros.      NES           1985.0      Platform     29.08   \n",
       "2            Mario Kart Wii      Wii           2008.0        Racing     15.68   \n",
       "3         Wii Sports Resort      Wii           2009.0        Sports     15.61   \n",
       "4  Pokemon Red/Pokemon Blue       GB           1996.0  Role-Playing     11.27   \n",
       "\n",
       "   eu_sales  jp_sales  other_sales  critic_score user_score rating  \n",
       "0     28.96      3.77         8.45          76.0          8      E  \n",
       "1      3.58      6.81         0.77           NaN        NaN    NaN  \n",
       "2     12.76      3.79         3.29          82.0        8.3      E  \n",
       "3     10.93      3.28         2.95          80.0          8      E  \n",
       "4      8.89     10.22         1.00           NaN        NaN    NaN  "
      ]
     },
     "execution_count": 4,
     "metadata": {},
     "output_type": "execute_result"
    }
   ],
   "source": [
    "data.columns = data.columns.str.lower()\n",
    "\n",
    "data.head(5)"
   ]
  },
  {
   "cell_type": "markdown",
   "metadata": {},
   "source": [
    "###  Преобразование типа данных"
   ]
  },
  {
   "cell_type": "markdown",
   "metadata": {},
   "source": [
    "В столбце 'user_score' обнаружена аббревиатура 'tbd'. Понять её можно как скоро будет определено. Для преобразования типа данных заменим на NaN"
   ]
  },
  {
   "cell_type": "code",
   "execution_count": 5,
   "metadata": {},
   "outputs": [
    {
     "name": "stdout",
     "output_type": "stream",
     "text": [
      "<class 'pandas.core.frame.DataFrame'>\n",
      "RangeIndex: 16715 entries, 0 to 16714\n",
      "Data columns (total 11 columns):\n",
      "name               16713 non-null object\n",
      "platform           16715 non-null object\n",
      "year_of_release    16446 non-null Int64\n",
      "genre              16713 non-null object\n",
      "na_sales           16715 non-null float64\n",
      "eu_sales           16715 non-null float64\n",
      "jp_sales           16715 non-null float64\n",
      "other_sales        16715 non-null float64\n",
      "critic_score       8137 non-null float64\n",
      "user_score         7590 non-null float64\n",
      "rating             9949 non-null object\n",
      "dtypes: Int64(1), float64(6), object(4)\n",
      "memory usage: 1.4+ MB\n",
      "None\n"
     ]
    },
    {
     "data": {
      "text/html": [
       "<div>\n",
       "<style scoped>\n",
       "    .dataframe tbody tr th:only-of-type {\n",
       "        vertical-align: middle;\n",
       "    }\n",
       "\n",
       "    .dataframe tbody tr th {\n",
       "        vertical-align: top;\n",
       "    }\n",
       "\n",
       "    .dataframe thead th {\n",
       "        text-align: right;\n",
       "    }\n",
       "</style>\n",
       "<table border=\"1\" class=\"dataframe\">\n",
       "  <thead>\n",
       "    <tr style=\"text-align: right;\">\n",
       "      <th></th>\n",
       "      <th>name</th>\n",
       "      <th>platform</th>\n",
       "      <th>year_of_release</th>\n",
       "      <th>genre</th>\n",
       "      <th>na_sales</th>\n",
       "      <th>eu_sales</th>\n",
       "      <th>jp_sales</th>\n",
       "      <th>other_sales</th>\n",
       "      <th>critic_score</th>\n",
       "      <th>user_score</th>\n",
       "      <th>rating</th>\n",
       "    </tr>\n",
       "  </thead>\n",
       "  <tbody>\n",
       "    <tr>\n",
       "      <td>0</td>\n",
       "      <td>Wii Sports</td>\n",
       "      <td>Wii</td>\n",
       "      <td>2006</td>\n",
       "      <td>Sports</td>\n",
       "      <td>41.4</td>\n",
       "      <td>29.0</td>\n",
       "      <td>3.8</td>\n",
       "      <td>8.4</td>\n",
       "      <td>76.0</td>\n",
       "      <td>8.0</td>\n",
       "      <td>E</td>\n",
       "    </tr>\n",
       "    <tr>\n",
       "      <td>1</td>\n",
       "      <td>Super Mario Bros.</td>\n",
       "      <td>NES</td>\n",
       "      <td>1985</td>\n",
       "      <td>Platform</td>\n",
       "      <td>29.1</td>\n",
       "      <td>3.6</td>\n",
       "      <td>6.8</td>\n",
       "      <td>0.8</td>\n",
       "      <td>NaN</td>\n",
       "      <td>NaN</td>\n",
       "      <td>NaN</td>\n",
       "    </tr>\n",
       "    <tr>\n",
       "      <td>2</td>\n",
       "      <td>Mario Kart Wii</td>\n",
       "      <td>Wii</td>\n",
       "      <td>2008</td>\n",
       "      <td>Racing</td>\n",
       "      <td>15.7</td>\n",
       "      <td>12.8</td>\n",
       "      <td>3.8</td>\n",
       "      <td>3.3</td>\n",
       "      <td>82.0</td>\n",
       "      <td>8.3</td>\n",
       "      <td>E</td>\n",
       "    </tr>\n",
       "    <tr>\n",
       "      <td>3</td>\n",
       "      <td>Wii Sports Resort</td>\n",
       "      <td>Wii</td>\n",
       "      <td>2009</td>\n",
       "      <td>Sports</td>\n",
       "      <td>15.6</td>\n",
       "      <td>10.9</td>\n",
       "      <td>3.3</td>\n",
       "      <td>3.0</td>\n",
       "      <td>80.0</td>\n",
       "      <td>8.0</td>\n",
       "      <td>E</td>\n",
       "    </tr>\n",
       "    <tr>\n",
       "      <td>4</td>\n",
       "      <td>Pokemon Red/Pokemon Blue</td>\n",
       "      <td>GB</td>\n",
       "      <td>1996</td>\n",
       "      <td>Role-Playing</td>\n",
       "      <td>11.3</td>\n",
       "      <td>8.9</td>\n",
       "      <td>10.2</td>\n",
       "      <td>1.0</td>\n",
       "      <td>NaN</td>\n",
       "      <td>NaN</td>\n",
       "      <td>NaN</td>\n",
       "    </tr>\n",
       "  </tbody>\n",
       "</table>\n",
       "</div>"
      ],
      "text/plain": [
       "                       name platform  year_of_release         genre  na_sales  \\\n",
       "0                Wii Sports      Wii             2006        Sports      41.4   \n",
       "1         Super Mario Bros.      NES             1985      Platform      29.1   \n",
       "2            Mario Kart Wii      Wii             2008        Racing      15.7   \n",
       "3         Wii Sports Resort      Wii             2009        Sports      15.6   \n",
       "4  Pokemon Red/Pokemon Blue       GB             1996  Role-Playing      11.3   \n",
       "\n",
       "   eu_sales  jp_sales  other_sales  critic_score  user_score rating  \n",
       "0      29.0       3.8          8.4          76.0         8.0      E  \n",
       "1       3.6       6.8          0.8           NaN         NaN    NaN  \n",
       "2      12.8       3.8          3.3          82.0         8.3      E  \n",
       "3      10.9       3.3          3.0          80.0         8.0      E  \n",
       "4       8.9      10.2          1.0           NaN         NaN    NaN  "
      ]
     },
     "execution_count": 5,
     "metadata": {},
     "output_type": "execute_result"
    }
   ],
   "source": [
    "data['user_score'] = data['user_score'].replace('tbd', np.nan)\n",
    "    \n",
    "\n",
    "data = data.round(1).astype({'year_of_release':'Int64'})\n",
    "data['user_score'] = pd.to_numeric(data['user_score'], errors='coerce')\n",
    "print(data.info())\n",
    "data.head(5)"
   ]
  },
  {
   "cell_type": "markdown",
   "metadata": {},
   "source": [
    "Провёл замену типа данных в столбце year_of_release. Что бы год релиза не был дробным числом. Так же в столбце user_score. Для удобства дальнейшего анализа с участием этого столбца."
   ]
  },
  {
   "cell_type": "markdown",
   "metadata": {},
   "source": [
    "###  Обработка пропусков"
   ]
  },
  {
   "cell_type": "code",
   "execution_count": 6,
   "metadata": {},
   "outputs": [
    {
     "data": {
      "text/plain": [
       "name                  2\n",
       "platform              0\n",
       "year_of_release     269\n",
       "genre                 2\n",
       "na_sales              0\n",
       "eu_sales              0\n",
       "jp_sales              0\n",
       "other_sales           0\n",
       "critic_score       8578\n",
       "user_score         9125\n",
       "rating             6766\n",
       "dtype: int64"
      ]
     },
     "execution_count": 6,
     "metadata": {},
     "output_type": "execute_result"
    }
   ],
   "source": [
    "data.isna().sum()"
   ]
  },
  {
   "cell_type": "code",
   "execution_count": 7,
   "metadata": {},
   "outputs": [
    {
     "data": {
      "text/plain": [
       "name                  0\n",
       "platform              0\n",
       "year_of_release       0\n",
       "genre                 0\n",
       "na_sales              0\n",
       "eu_sales              0\n",
       "jp_sales              0\n",
       "other_sales           0\n",
       "critic_score       8461\n",
       "user_score         8981\n",
       "rating             6676\n",
       "dtype: int64"
      ]
     },
     "execution_count": 7,
     "metadata": {},
     "output_type": "execute_result"
    }
   ],
   "source": [
    "data.dropna(subset=['name', 'genre', 'year_of_release'], inplace=True)\n",
    "\n",
    "data.isna().sum()"
   ]
  },
  {
   "cell_type": "markdown",
   "metadata": {},
   "source": [
    "Есть пропуски в year_of_release. Скорее всего их или забыли внести, при заполнении, или были потеряны при манипуляциями с данными. Заполнить их не имеем возможности, так как данных по релизу этих игр у нас нет. Много пропусков в critic_score и user_score. Здесь нет оценок специалистов и игроков, скорее всего, из за того, что эти игры не выделялись на рынке и не вызвали интереса как специалистов, так и игроков. Заполнение пропусков средним или медианой считаю здесь не логичным. Потому что изменится общая картина по отношению к играм, у которых есть оценка. Пропуски в столбце с рейтингом ESRB так же могли возникнуть потому, что некоторые игры могли не попасть в поле зрения этой организации. Заполнить их так же не представляется возможным."
   ]
  },
  {
   "cell_type": "markdown",
   "metadata": {},
   "source": [
    "###  Cуммарные продажи"
   ]
  },
  {
   "cell_type": "code",
   "execution_count": 8,
   "metadata": {},
   "outputs": [
    {
     "data": {
      "text/html": [
       "<div>\n",
       "<style scoped>\n",
       "    .dataframe tbody tr th:only-of-type {\n",
       "        vertical-align: middle;\n",
       "    }\n",
       "\n",
       "    .dataframe tbody tr th {\n",
       "        vertical-align: top;\n",
       "    }\n",
       "\n",
       "    .dataframe thead th {\n",
       "        text-align: right;\n",
       "    }\n",
       "</style>\n",
       "<table border=\"1\" class=\"dataframe\">\n",
       "  <thead>\n",
       "    <tr style=\"text-align: right;\">\n",
       "      <th></th>\n",
       "      <th>name</th>\n",
       "      <th>platform</th>\n",
       "      <th>year_of_release</th>\n",
       "      <th>genre</th>\n",
       "      <th>na_sales</th>\n",
       "      <th>eu_sales</th>\n",
       "      <th>jp_sales</th>\n",
       "      <th>other_sales</th>\n",
       "      <th>critic_score</th>\n",
       "      <th>user_score</th>\n",
       "      <th>rating</th>\n",
       "      <th>total_sales</th>\n",
       "    </tr>\n",
       "  </thead>\n",
       "  <tbody>\n",
       "    <tr>\n",
       "      <td>0</td>\n",
       "      <td>Wii Sports</td>\n",
       "      <td>Wii</td>\n",
       "      <td>2006</td>\n",
       "      <td>Sports</td>\n",
       "      <td>41.4</td>\n",
       "      <td>29.0</td>\n",
       "      <td>3.8</td>\n",
       "      <td>8.4</td>\n",
       "      <td>76.0</td>\n",
       "      <td>8.0</td>\n",
       "      <td>E</td>\n",
       "      <td>82.6</td>\n",
       "    </tr>\n",
       "    <tr>\n",
       "      <td>1</td>\n",
       "      <td>Super Mario Bros.</td>\n",
       "      <td>NES</td>\n",
       "      <td>1985</td>\n",
       "      <td>Platform</td>\n",
       "      <td>29.1</td>\n",
       "      <td>3.6</td>\n",
       "      <td>6.8</td>\n",
       "      <td>0.8</td>\n",
       "      <td>NaN</td>\n",
       "      <td>NaN</td>\n",
       "      <td>NaN</td>\n",
       "      <td>40.3</td>\n",
       "    </tr>\n",
       "    <tr>\n",
       "      <td>2</td>\n",
       "      <td>Mario Kart Wii</td>\n",
       "      <td>Wii</td>\n",
       "      <td>2008</td>\n",
       "      <td>Racing</td>\n",
       "      <td>15.7</td>\n",
       "      <td>12.8</td>\n",
       "      <td>3.8</td>\n",
       "      <td>3.3</td>\n",
       "      <td>82.0</td>\n",
       "      <td>8.3</td>\n",
       "      <td>E</td>\n",
       "      <td>35.6</td>\n",
       "    </tr>\n",
       "    <tr>\n",
       "      <td>3</td>\n",
       "      <td>Wii Sports Resort</td>\n",
       "      <td>Wii</td>\n",
       "      <td>2009</td>\n",
       "      <td>Sports</td>\n",
       "      <td>15.6</td>\n",
       "      <td>10.9</td>\n",
       "      <td>3.3</td>\n",
       "      <td>3.0</td>\n",
       "      <td>80.0</td>\n",
       "      <td>8.0</td>\n",
       "      <td>E</td>\n",
       "      <td>32.8</td>\n",
       "    </tr>\n",
       "    <tr>\n",
       "      <td>4</td>\n",
       "      <td>Pokemon Red/Pokemon Blue</td>\n",
       "      <td>GB</td>\n",
       "      <td>1996</td>\n",
       "      <td>Role-Playing</td>\n",
       "      <td>11.3</td>\n",
       "      <td>8.9</td>\n",
       "      <td>10.2</td>\n",
       "      <td>1.0</td>\n",
       "      <td>NaN</td>\n",
       "      <td>NaN</td>\n",
       "      <td>NaN</td>\n",
       "      <td>31.4</td>\n",
       "    </tr>\n",
       "    <tr>\n",
       "      <td>...</td>\n",
       "      <td>...</td>\n",
       "      <td>...</td>\n",
       "      <td>...</td>\n",
       "      <td>...</td>\n",
       "      <td>...</td>\n",
       "      <td>...</td>\n",
       "      <td>...</td>\n",
       "      <td>...</td>\n",
       "      <td>...</td>\n",
       "      <td>...</td>\n",
       "      <td>...</td>\n",
       "      <td>...</td>\n",
       "    </tr>\n",
       "    <tr>\n",
       "      <td>16710</td>\n",
       "      <td>Samurai Warriors: Sanada Maru</td>\n",
       "      <td>PS3</td>\n",
       "      <td>2016</td>\n",
       "      <td>Action</td>\n",
       "      <td>0.0</td>\n",
       "      <td>0.0</td>\n",
       "      <td>0.0</td>\n",
       "      <td>0.0</td>\n",
       "      <td>NaN</td>\n",
       "      <td>NaN</td>\n",
       "      <td>NaN</td>\n",
       "      <td>0.0</td>\n",
       "    </tr>\n",
       "    <tr>\n",
       "      <td>16711</td>\n",
       "      <td>LMA Manager 2007</td>\n",
       "      <td>X360</td>\n",
       "      <td>2006</td>\n",
       "      <td>Sports</td>\n",
       "      <td>0.0</td>\n",
       "      <td>0.0</td>\n",
       "      <td>0.0</td>\n",
       "      <td>0.0</td>\n",
       "      <td>NaN</td>\n",
       "      <td>NaN</td>\n",
       "      <td>NaN</td>\n",
       "      <td>0.0</td>\n",
       "    </tr>\n",
       "    <tr>\n",
       "      <td>16712</td>\n",
       "      <td>Haitaka no Psychedelica</td>\n",
       "      <td>PSV</td>\n",
       "      <td>2016</td>\n",
       "      <td>Adventure</td>\n",
       "      <td>0.0</td>\n",
       "      <td>0.0</td>\n",
       "      <td>0.0</td>\n",
       "      <td>0.0</td>\n",
       "      <td>NaN</td>\n",
       "      <td>NaN</td>\n",
       "      <td>NaN</td>\n",
       "      <td>0.0</td>\n",
       "    </tr>\n",
       "    <tr>\n",
       "      <td>16713</td>\n",
       "      <td>Spirits &amp; Spells</td>\n",
       "      <td>GBA</td>\n",
       "      <td>2003</td>\n",
       "      <td>Platform</td>\n",
       "      <td>0.0</td>\n",
       "      <td>0.0</td>\n",
       "      <td>0.0</td>\n",
       "      <td>0.0</td>\n",
       "      <td>NaN</td>\n",
       "      <td>NaN</td>\n",
       "      <td>NaN</td>\n",
       "      <td>0.0</td>\n",
       "    </tr>\n",
       "    <tr>\n",
       "      <td>16714</td>\n",
       "      <td>Winning Post 8 2016</td>\n",
       "      <td>PSV</td>\n",
       "      <td>2016</td>\n",
       "      <td>Simulation</td>\n",
       "      <td>0.0</td>\n",
       "      <td>0.0</td>\n",
       "      <td>0.0</td>\n",
       "      <td>0.0</td>\n",
       "      <td>NaN</td>\n",
       "      <td>NaN</td>\n",
       "      <td>NaN</td>\n",
       "      <td>0.0</td>\n",
       "    </tr>\n",
       "  </tbody>\n",
       "</table>\n",
       "<p>16444 rows × 12 columns</p>\n",
       "</div>"
      ],
      "text/plain": [
       "                                name platform  year_of_release         genre  \\\n",
       "0                         Wii Sports      Wii             2006        Sports   \n",
       "1                  Super Mario Bros.      NES             1985      Platform   \n",
       "2                     Mario Kart Wii      Wii             2008        Racing   \n",
       "3                  Wii Sports Resort      Wii             2009        Sports   \n",
       "4           Pokemon Red/Pokemon Blue       GB             1996  Role-Playing   \n",
       "...                              ...      ...              ...           ...   \n",
       "16710  Samurai Warriors: Sanada Maru      PS3             2016        Action   \n",
       "16711               LMA Manager 2007     X360             2006        Sports   \n",
       "16712        Haitaka no Psychedelica      PSV             2016     Adventure   \n",
       "16713               Spirits & Spells      GBA             2003      Platform   \n",
       "16714            Winning Post 8 2016      PSV             2016    Simulation   \n",
       "\n",
       "       na_sales  eu_sales  jp_sales  other_sales  critic_score  user_score  \\\n",
       "0          41.4      29.0       3.8          8.4          76.0         8.0   \n",
       "1          29.1       3.6       6.8          0.8           NaN         NaN   \n",
       "2          15.7      12.8       3.8          3.3          82.0         8.3   \n",
       "3          15.6      10.9       3.3          3.0          80.0         8.0   \n",
       "4          11.3       8.9      10.2          1.0           NaN         NaN   \n",
       "...         ...       ...       ...          ...           ...         ...   \n",
       "16710       0.0       0.0       0.0          0.0           NaN         NaN   \n",
       "16711       0.0       0.0       0.0          0.0           NaN         NaN   \n",
       "16712       0.0       0.0       0.0          0.0           NaN         NaN   \n",
       "16713       0.0       0.0       0.0          0.0           NaN         NaN   \n",
       "16714       0.0       0.0       0.0          0.0           NaN         NaN   \n",
       "\n",
       "      rating  total_sales  \n",
       "0          E         82.6  \n",
       "1        NaN         40.3  \n",
       "2          E         35.6  \n",
       "3          E         32.8  \n",
       "4        NaN         31.4  \n",
       "...      ...          ...  \n",
       "16710    NaN          0.0  \n",
       "16711    NaN          0.0  \n",
       "16712    NaN          0.0  \n",
       "16713    NaN          0.0  \n",
       "16714    NaN          0.0  \n",
       "\n",
       "[16444 rows x 12 columns]"
      ]
     },
     "execution_count": 8,
     "metadata": {},
     "output_type": "execute_result"
    }
   ],
   "source": [
    "data['total_sales'] = data[['na_sales', 'eu_sales', 'jp_sales', 'other_sales']].sum(axis=1)\n",
    "data "
   ]
  },
  {
   "cell_type": "markdown",
   "metadata": {},
   "source": [
    "## Исследовательский анализ"
   ]
  },
  {
   "cell_type": "markdown",
   "metadata": {},
   "source": [
    "### Продажи игр по годам"
   ]
  },
  {
   "cell_type": "code",
   "execution_count": 9,
   "metadata": {},
   "outputs": [
    {
     "data": {
      "text/plain": [
       "year_of_release\n",
       "1980       9\n",
       "1981      46\n",
       "1982      36\n",
       "1983      17\n",
       "1984      14\n",
       "1985      14\n",
       "1986      21\n",
       "1987      16\n",
       "1988      15\n",
       "1989      17\n",
       "1990      16\n",
       "1991      41\n",
       "1992      43\n",
       "1993      60\n",
       "1994     121\n",
       "1995     219\n",
       "1996     263\n",
       "1997     289\n",
       "1998     379\n",
       "1999     338\n",
       "2000     350\n",
       "2001     482\n",
       "2002     829\n",
       "2003     775\n",
       "2004     762\n",
       "2005     939\n",
       "2006    1006\n",
       "2007    1197\n",
       "2008    1427\n",
       "2009    1426\n",
       "2010    1255\n",
       "2011    1136\n",
       "2012     653\n",
       "2013     544\n",
       "2014     581\n",
       "2015     606\n",
       "2016     502\n",
       "Name: name, dtype: int64"
      ]
     },
     "metadata": {},
     "output_type": "display_data"
    },
    {
     "data": {
      "text/plain": [
       "<matplotlib.axes._subplots.AxesSubplot at 0x7f5ddb622690>"
      ]
     },
     "execution_count": 9,
     "metadata": {},
     "output_type": "execute_result"
    },
    {
     "data": {
      "image/png": "[encoded data removed]",
      "text/plain": [
       "<Figure size 720x216 with 1 Axes>"
      ]
     },
     "metadata": {
      "needs_background": "light"
     },
     "output_type": "display_data"
    }
   ],
   "source": [
    "pivot_year_of_release = data.groupby('year_of_release')['name'].count()\n",
    "display(pivot_year_of_release)\n",
    "pivot_year_of_release.plot(kind='bar', title='Колличество игр по годам', figsize=(10, 3))"
   ]
  },
  {
   "cell_type": "markdown",
   "metadata": {},
   "source": [
    "Данные за все года нам будут не нужны. С 2012 года виден чёткий спад и до  2016 выпуск игр примерно одинаков. Так что для расчётов на 2017 год целесообразно использовать данные с 2012 по 2016 года."
   ]
  },
  {
   "cell_type": "markdown",
   "metadata": {},
   "source": [
    "### Продажи по платформам за все года"
   ]
  },
  {
   "cell_type": "code",
   "execution_count": 10,
   "metadata": {},
   "outputs": [
    {
     "data": {
      "text/plain": [
       "<matplotlib.axes._subplots.AxesSubplot at 0x7f5dd2dffad0>"
      ]
     },
     "execution_count": 10,
     "metadata": {},
     "output_type": "execute_result"
    },
    {
     "data": {
      "image/png": "[encoded data removed]",
      "text/plain": [
       "<Figure size 1440x720 with 1 Axes>"
      ]
     },
     "metadata": {
      "needs_background": "light"
     },
     "output_type": "display_data"
    }
   ],
   "source": [
    "pivot_platform = data.pivot_table(index=['platform', 'year_of_release'], values=['total_sales'], aggfunc='sum')\n",
    "pivot_platform = pivot_platform.unstack('platform')\n",
    "\n",
    "pivot_platform.plot(style='o-', title='Платформы по годам', figsize=(20, 10))"
   ]
  },
  {
   "cell_type": "markdown",
   "metadata": {},
   "source": [
    "### Платформы с наиболее большими продажами за все года"
   ]
  },
  {
   "cell_type": "code",
   "execution_count": 11,
   "metadata": {
    "scrolled": false
   },
   "outputs": [
    {
     "data": {
      "text/html": [
       "<div>\n",
       "<style scoped>\n",
       "    .dataframe tbody tr th:only-of-type {\n",
       "        vertical-align: middle;\n",
       "    }\n",
       "\n",
       "    .dataframe tbody tr th {\n",
       "        vertical-align: top;\n",
       "    }\n",
       "\n",
       "    .dataframe thead th {\n",
       "        text-align: right;\n",
       "    }\n",
       "</style>\n",
       "<table border=\"1\" class=\"dataframe\">\n",
       "  <thead>\n",
       "    <tr style=\"text-align: right;\">\n",
       "      <th></th>\n",
       "      <th></th>\n",
       "      <th>total_sales</th>\n",
       "    </tr>\n",
       "    <tr>\n",
       "      <th>platform</th>\n",
       "      <th>year_of_release</th>\n",
       "      <th></th>\n",
       "    </tr>\n",
       "  </thead>\n",
       "  <tbody>\n",
       "    <tr>\n",
       "      <td>PS</td>\n",
       "      <td>1998</td>\n",
       "      <td>163.1</td>\n",
       "    </tr>\n",
       "    <tr>\n",
       "      <td rowspan=\"5\" valign=\"top\">PS2</td>\n",
       "      <td>2001</td>\n",
       "      <td>164.2</td>\n",
       "    </tr>\n",
       "    <tr>\n",
       "      <td>2002</td>\n",
       "      <td>200.1</td>\n",
       "    </tr>\n",
       "    <tr>\n",
       "      <td>2003</td>\n",
       "      <td>180.8</td>\n",
       "    </tr>\n",
       "    <tr>\n",
       "      <td>2004</td>\n",
       "      <td>206.6</td>\n",
       "    </tr>\n",
       "    <tr>\n",
       "      <td>2005</td>\n",
       "      <td>155.0</td>\n",
       "    </tr>\n",
       "    <tr>\n",
       "      <td>PS3</td>\n",
       "      <td>2011</td>\n",
       "      <td>154.1</td>\n",
       "    </tr>\n",
       "    <tr>\n",
       "      <td rowspan=\"2\" valign=\"top\">Wii</td>\n",
       "      <td>2008</td>\n",
       "      <td>168.0</td>\n",
       "    </tr>\n",
       "    <tr>\n",
       "      <td>2009</td>\n",
       "      <td>200.7</td>\n",
       "    </tr>\n",
       "    <tr>\n",
       "      <td>X360</td>\n",
       "      <td>2010</td>\n",
       "      <td>166.6</td>\n",
       "    </tr>\n",
       "  </tbody>\n",
       "</table>\n",
       "</div>"
      ],
      "text/plain": [
       "                          total_sales\n",
       "platform year_of_release             \n",
       "PS       1998                   163.1\n",
       "PS2      2001                   164.2\n",
       "         2002                   200.1\n",
       "         2003                   180.8\n",
       "         2004                   206.6\n",
       "         2005                   155.0\n",
       "PS3      2011                   154.1\n",
       "Wii      2008                   168.0\n",
       "         2009                   200.7\n",
       "X360     2010                   166.6"
      ]
     },
     "metadata": {},
     "output_type": "display_data"
    },
    {
     "data": {
      "text/plain": [
       "<matplotlib.axes._subplots.AxesSubplot at 0x7f5dd28c57d0>"
      ]
     },
     "execution_count": 11,
     "metadata": {},
     "output_type": "execute_result"
    },
    {
     "data": {
      "image/png": "[encoded data removed]",
      "text/plain": [
       "<Figure size 864x360 with 1 Axes>"
      ]
     },
     "metadata": {
      "needs_background": "light"
     },
     "output_type": "display_data"
    }
   ],
   "source": [
    "pivot_platform = data.pivot_table(index=['platform', 'year_of_release'], values=['total_sales'], aggfunc='sum')\n",
    "top_platform = pivot_platform.query('total_sales > 150')\n",
    "\n",
    "display(top_platform)\n",
    "top_platform.plot(style='o-', title='Топ платформы по годам', figsize=(12, 5))"
   ]
  },
  {
   "cell_type": "markdown",
   "metadata": {},
   "source": [
    "Рассматривая продажи по платформам видно, что с появлением платформы продажи начинают расти по годам. Потом постепенно интерес начинает снижаться. В среднем цикл занимает около 4 -5 лет."
   ]
  },
  {
   "cell_type": "markdown",
   "metadata": {},
   "source": [
    "### Анализ по актуальным данным (2012 -2016)"
   ]
  },
  {
   "cell_type": "code",
   "execution_count": 12,
   "metadata": {
    "scrolled": false
   },
   "outputs": [
    {
     "data": {
      "text/html": [
       "<div>\n",
       "<style scoped>\n",
       "    .dataframe tbody tr th:only-of-type {\n",
       "        vertical-align: middle;\n",
       "    }\n",
       "\n",
       "    .dataframe tbody tr th {\n",
       "        vertical-align: top;\n",
       "    }\n",
       "\n",
       "    .dataframe thead th {\n",
       "        text-align: right;\n",
       "    }\n",
       "</style>\n",
       "<table border=\"1\" class=\"dataframe\">\n",
       "  <thead>\n",
       "    <tr style=\"text-align: right;\">\n",
       "      <th></th>\n",
       "      <th>name</th>\n",
       "      <th>platform</th>\n",
       "      <th>year_of_release</th>\n",
       "      <th>genre</th>\n",
       "      <th>na_sales</th>\n",
       "      <th>eu_sales</th>\n",
       "      <th>jp_sales</th>\n",
       "      <th>other_sales</th>\n",
       "      <th>critic_score</th>\n",
       "      <th>user_score</th>\n",
       "      <th>rating</th>\n",
       "      <th>total_sales</th>\n",
       "    </tr>\n",
       "  </thead>\n",
       "  <tbody>\n",
       "    <tr>\n",
       "      <td>16</td>\n",
       "      <td>Grand Theft Auto V</td>\n",
       "      <td>PS3</td>\n",
       "      <td>2013</td>\n",
       "      <td>Action</td>\n",
       "      <td>7.0</td>\n",
       "      <td>9.1</td>\n",
       "      <td>1.0</td>\n",
       "      <td>4.0</td>\n",
       "      <td>97.0</td>\n",
       "      <td>8.2</td>\n",
       "      <td>M</td>\n",
       "      <td>21.1</td>\n",
       "    </tr>\n",
       "    <tr>\n",
       "      <td>23</td>\n",
       "      <td>Grand Theft Auto V</td>\n",
       "      <td>X360</td>\n",
       "      <td>2013</td>\n",
       "      <td>Action</td>\n",
       "      <td>9.7</td>\n",
       "      <td>5.1</td>\n",
       "      <td>0.1</td>\n",
       "      <td>1.4</td>\n",
       "      <td>97.0</td>\n",
       "      <td>8.1</td>\n",
       "      <td>M</td>\n",
       "      <td>16.3</td>\n",
       "    </tr>\n",
       "    <tr>\n",
       "      <td>31</td>\n",
       "      <td>Call of Duty: Black Ops 3</td>\n",
       "      <td>PS4</td>\n",
       "      <td>2015</td>\n",
       "      <td>Shooter</td>\n",
       "      <td>6.0</td>\n",
       "      <td>5.9</td>\n",
       "      <td>0.4</td>\n",
       "      <td>2.4</td>\n",
       "      <td>NaN</td>\n",
       "      <td>NaN</td>\n",
       "      <td>NaN</td>\n",
       "      <td>14.7</td>\n",
       "    </tr>\n",
       "    <tr>\n",
       "      <td>33</td>\n",
       "      <td>Pokemon X/Pokemon Y</td>\n",
       "      <td>3DS</td>\n",
       "      <td>2013</td>\n",
       "      <td>Role-Playing</td>\n",
       "      <td>5.3</td>\n",
       "      <td>4.2</td>\n",
       "      <td>4.4</td>\n",
       "      <td>0.8</td>\n",
       "      <td>NaN</td>\n",
       "      <td>NaN</td>\n",
       "      <td>NaN</td>\n",
       "      <td>14.7</td>\n",
       "    </tr>\n",
       "    <tr>\n",
       "      <td>34</td>\n",
       "      <td>Call of Duty: Black Ops II</td>\n",
       "      <td>PS3</td>\n",
       "      <td>2012</td>\n",
       "      <td>Shooter</td>\n",
       "      <td>5.0</td>\n",
       "      <td>5.7</td>\n",
       "      <td>0.6</td>\n",
       "      <td>2.4</td>\n",
       "      <td>83.0</td>\n",
       "      <td>5.3</td>\n",
       "      <td>M</td>\n",
       "      <td>13.7</td>\n",
       "    </tr>\n",
       "    <tr>\n",
       "      <td>...</td>\n",
       "      <td>...</td>\n",
       "      <td>...</td>\n",
       "      <td>...</td>\n",
       "      <td>...</td>\n",
       "      <td>...</td>\n",
       "      <td>...</td>\n",
       "      <td>...</td>\n",
       "      <td>...</td>\n",
       "      <td>...</td>\n",
       "      <td>...</td>\n",
       "      <td>...</td>\n",
       "      <td>...</td>\n",
       "    </tr>\n",
       "    <tr>\n",
       "      <td>16703</td>\n",
       "      <td>Strawberry Nauts</td>\n",
       "      <td>PSV</td>\n",
       "      <td>2016</td>\n",
       "      <td>Adventure</td>\n",
       "      <td>0.0</td>\n",
       "      <td>0.0</td>\n",
       "      <td>0.0</td>\n",
       "      <td>0.0</td>\n",
       "      <td>NaN</td>\n",
       "      <td>NaN</td>\n",
       "      <td>NaN</td>\n",
       "      <td>0.0</td>\n",
       "    </tr>\n",
       "    <tr>\n",
       "      <td>16707</td>\n",
       "      <td>Aiyoku no Eustia</td>\n",
       "      <td>PSV</td>\n",
       "      <td>2014</td>\n",
       "      <td>Misc</td>\n",
       "      <td>0.0</td>\n",
       "      <td>0.0</td>\n",
       "      <td>0.0</td>\n",
       "      <td>0.0</td>\n",
       "      <td>NaN</td>\n",
       "      <td>NaN</td>\n",
       "      <td>NaN</td>\n",
       "      <td>0.0</td>\n",
       "    </tr>\n",
       "    <tr>\n",
       "      <td>16710</td>\n",
       "      <td>Samurai Warriors: Sanada Maru</td>\n",
       "      <td>PS3</td>\n",
       "      <td>2016</td>\n",
       "      <td>Action</td>\n",
       "      <td>0.0</td>\n",
       "      <td>0.0</td>\n",
       "      <td>0.0</td>\n",
       "      <td>0.0</td>\n",
       "      <td>NaN</td>\n",
       "      <td>NaN</td>\n",
       "      <td>NaN</td>\n",
       "      <td>0.0</td>\n",
       "    </tr>\n",
       "    <tr>\n",
       "      <td>16712</td>\n",
       "      <td>Haitaka no Psychedelica</td>\n",
       "      <td>PSV</td>\n",
       "      <td>2016</td>\n",
       "      <td>Adventure</td>\n",
       "      <td>0.0</td>\n",
       "      <td>0.0</td>\n",
       "      <td>0.0</td>\n",
       "      <td>0.0</td>\n",
       "      <td>NaN</td>\n",
       "      <td>NaN</td>\n",
       "      <td>NaN</td>\n",
       "      <td>0.0</td>\n",
       "    </tr>\n",
       "    <tr>\n",
       "      <td>16714</td>\n",
       "      <td>Winning Post 8 2016</td>\n",
       "      <td>PSV</td>\n",
       "      <td>2016</td>\n",
       "      <td>Simulation</td>\n",
       "      <td>0.0</td>\n",
       "      <td>0.0</td>\n",
       "      <td>0.0</td>\n",
       "      <td>0.0</td>\n",
       "      <td>NaN</td>\n",
       "      <td>NaN</td>\n",
       "      <td>NaN</td>\n",
       "      <td>0.0</td>\n",
       "    </tr>\n",
       "  </tbody>\n",
       "</table>\n",
       "<p>2886 rows × 12 columns</p>\n",
       "</div>"
      ],
      "text/plain": [
       "                                name platform  year_of_release         genre  \\\n",
       "16                Grand Theft Auto V      PS3             2013        Action   \n",
       "23                Grand Theft Auto V     X360             2013        Action   \n",
       "31         Call of Duty: Black Ops 3      PS4             2015       Shooter   \n",
       "33               Pokemon X/Pokemon Y      3DS             2013  Role-Playing   \n",
       "34        Call of Duty: Black Ops II      PS3             2012       Shooter   \n",
       "...                              ...      ...              ...           ...   \n",
       "16703               Strawberry Nauts      PSV             2016     Adventure   \n",
       "16707               Aiyoku no Eustia      PSV             2014          Misc   \n",
       "16710  Samurai Warriors: Sanada Maru      PS3             2016        Action   \n",
       "16712        Haitaka no Psychedelica      PSV             2016     Adventure   \n",
       "16714            Winning Post 8 2016      PSV             2016    Simulation   \n",
       "\n",
       "       na_sales  eu_sales  jp_sales  other_sales  critic_score  user_score  \\\n",
       "16          7.0       9.1       1.0          4.0          97.0         8.2   \n",
       "23          9.7       5.1       0.1          1.4          97.0         8.1   \n",
       "31          6.0       5.9       0.4          2.4           NaN         NaN   \n",
       "33          5.3       4.2       4.4          0.8           NaN         NaN   \n",
       "34          5.0       5.7       0.6          2.4          83.0         5.3   \n",
       "...         ...       ...       ...          ...           ...         ...   \n",
       "16703       0.0       0.0       0.0          0.0           NaN         NaN   \n",
       "16707       0.0       0.0       0.0          0.0           NaN         NaN   \n",
       "16710       0.0       0.0       0.0          0.0           NaN         NaN   \n",
       "16712       0.0       0.0       0.0          0.0           NaN         NaN   \n",
       "16714       0.0       0.0       0.0          0.0           NaN         NaN   \n",
       "\n",
       "      rating  total_sales  \n",
       "16         M         21.1  \n",
       "23         M         16.3  \n",
       "31       NaN         14.7  \n",
       "33       NaN         14.7  \n",
       "34         M         13.7  \n",
       "...      ...          ...  \n",
       "16703    NaN          0.0  \n",
       "16707    NaN          0.0  \n",
       "16710    NaN          0.0  \n",
       "16712    NaN          0.0  \n",
       "16714    NaN          0.0  \n",
       "\n",
       "[2886 rows x 12 columns]"
      ]
     },
     "metadata": {},
     "output_type": "display_data"
    },
    {
     "data": {
      "text/html": [
       "<div>\n",
       "<style scoped>\n",
       "    .dataframe tbody tr th:only-of-type {\n",
       "        vertical-align: middle;\n",
       "    }\n",
       "\n",
       "    .dataframe tbody tr th {\n",
       "        vertical-align: top;\n",
       "    }\n",
       "\n",
       "    .dataframe thead tr th {\n",
       "        text-align: left;\n",
       "    }\n",
       "\n",
       "    .dataframe thead tr:last-of-type th {\n",
       "        text-align: right;\n",
       "    }\n",
       "</style>\n",
       "<table border=\"1\" class=\"dataframe\">\n",
       "  <thead>\n",
       "    <tr>\n",
       "      <th></th>\n",
       "      <th colspan=\"11\" halign=\"left\">total_sales</th>\n",
       "    </tr>\n",
       "    <tr>\n",
       "      <th>platform</th>\n",
       "      <th>3DS</th>\n",
       "      <th>DS</th>\n",
       "      <th>PC</th>\n",
       "      <th>PS3</th>\n",
       "      <th>PS4</th>\n",
       "      <th>PSP</th>\n",
       "      <th>PSV</th>\n",
       "      <th>Wii</th>\n",
       "      <th>WiiU</th>\n",
       "      <th>X360</th>\n",
       "      <th>XOne</th>\n",
       "    </tr>\n",
       "    <tr>\n",
       "      <th>year_of_release</th>\n",
       "      <th></th>\n",
       "      <th></th>\n",
       "      <th></th>\n",
       "      <th></th>\n",
       "      <th></th>\n",
       "      <th></th>\n",
       "      <th></th>\n",
       "      <th></th>\n",
       "      <th></th>\n",
       "      <th></th>\n",
       "      <th></th>\n",
       "    </tr>\n",
       "  </thead>\n",
       "  <tbody>\n",
       "    <tr>\n",
       "      <td>2012</td>\n",
       "      <td>50.4</td>\n",
       "      <td>10.5</td>\n",
       "      <td>22.4</td>\n",
       "      <td>104.8</td>\n",
       "      <td>NaN</td>\n",
       "      <td>6.4</td>\n",
       "      <td>15.5</td>\n",
       "      <td>21.6</td>\n",
       "      <td>16.6</td>\n",
       "      <td>97.5</td>\n",
       "      <td>NaN</td>\n",
       "    </tr>\n",
       "    <tr>\n",
       "      <td>2013</td>\n",
       "      <td>55.6</td>\n",
       "      <td>1.3</td>\n",
       "      <td>11.8</td>\n",
       "      <td>111.5</td>\n",
       "      <td>26.1</td>\n",
       "      <td>2.3</td>\n",
       "      <td>9.0</td>\n",
       "      <td>8.5</td>\n",
       "      <td>20.2</td>\n",
       "      <td>87.8</td>\n",
       "      <td>19.1</td>\n",
       "    </tr>\n",
       "    <tr>\n",
       "      <td>2014</td>\n",
       "      <td>43.4</td>\n",
       "      <td>NaN</td>\n",
       "      <td>12.6</td>\n",
       "      <td>45.6</td>\n",
       "      <td>99.0</td>\n",
       "      <td>0.1</td>\n",
       "      <td>9.8</td>\n",
       "      <td>3.7</td>\n",
       "      <td>21.7</td>\n",
       "      <td>33.7</td>\n",
       "      <td>52.8</td>\n",
       "    </tr>\n",
       "    <tr>\n",
       "      <td>2015</td>\n",
       "      <td>26.1</td>\n",
       "      <td>NaN</td>\n",
       "      <td>7.4</td>\n",
       "      <td>15.7</td>\n",
       "      <td>115.9</td>\n",
       "      <td>0.1</td>\n",
       "      <td>3.8</td>\n",
       "      <td>1.1</td>\n",
       "      <td>15.5</td>\n",
       "      <td>11.0</td>\n",
       "      <td>58.0</td>\n",
       "    </tr>\n",
       "    <tr>\n",
       "      <td>2016</td>\n",
       "      <td>13.9</td>\n",
       "      <td>NaN</td>\n",
       "      <td>3.7</td>\n",
       "      <td>2.5</td>\n",
       "      <td>65.1</td>\n",
       "      <td>NaN</td>\n",
       "      <td>2.7</td>\n",
       "      <td>0.2</td>\n",
       "      <td>4.6</td>\n",
       "      <td>1.0</td>\n",
       "      <td>24.2</td>\n",
       "    </tr>\n",
       "  </tbody>\n",
       "</table>\n",
       "</div>"
      ],
      "text/plain": [
       "                total_sales                                                   \\\n",
       "platform                3DS    DS    PC    PS3    PS4  PSP   PSV   Wii  WiiU   \n",
       "year_of_release                                                                \n",
       "2012                   50.4  10.5  22.4  104.8    NaN  6.4  15.5  21.6  16.6   \n",
       "2013                   55.6   1.3  11.8  111.5   26.1  2.3   9.0   8.5  20.2   \n",
       "2014                   43.4   NaN  12.6   45.6   99.0  0.1   9.8   3.7  21.7   \n",
       "2015                   26.1   NaN   7.4   15.7  115.9  0.1   3.8   1.1  15.5   \n",
       "2016                   13.9   NaN   3.7    2.5   65.1  NaN   2.7   0.2   4.6   \n",
       "\n",
       "                             \n",
       "platform         X360  XOne  \n",
       "year_of_release              \n",
       "2012             97.5   NaN  \n",
       "2013             87.8  19.1  \n",
       "2014             33.7  52.8  \n",
       "2015             11.0  58.0  \n",
       "2016              1.0  24.2  "
      ]
     },
     "metadata": {},
     "output_type": "display_data"
    },
    {
     "data": {
      "text/plain": [
       "<matplotlib.axes._subplots.AxesSubplot at 0x7f5dd2cb9a90>"
      ]
     },
     "execution_count": 12,
     "metadata": {},
     "output_type": "execute_result"
    },
    {
     "data": {
      "image/png": "[encoded data removed]",
      "text/plain": [
       "<Figure size 864x360 with 1 Axes>"
      ]
     },
     "metadata": {
      "needs_background": "light"
     },
     "output_type": "display_data"
    }
   ],
   "source": [
    "topical_data = data.query('year_of_release >= 2012')\n",
    "display(topical_data)\n",
    "\n",
    "topical_pivot_platform = topical_data.pivot_table(index=['platform', 'year_of_release'], values=['total_sales'], aggfunc='sum')\n",
    "topical_pivot_platform = topical_pivot_platform.unstack('platform')\n",
    "\n",
    "display(topical_pivot_platform)\n",
    "topical_pivot_platform.plot(style='o-', grid=True, figsize=(12, 5))\n"
   ]
  },
  {
   "cell_type": "markdown",
   "metadata": {},
   "source": [
    "Почти все платформы с 2012 года имеют снижение продаж. Отличаются только PS4 и XOne. Эти платформы начали продавать с 2013 года и до 2015 они имели рост, но к 2016 так же имеют стабильное падение. До 2013 года наиболле прибыльные были PS3, X360 и 3DS. После 2013 года постепенно лидерство захватили PS4 и XOne. 3DS к 2016 года сохранила уровень продаж в топ 3. Эти три платформы и будем рассматривать, как переспективные на дальнейшее получение прибыли."
   ]
  },
  {
   "cell_type": "markdown",
   "metadata": {},
   "source": [
    "### Продажи игр по переспективным платформам"
   ]
  },
  {
   "cell_type": "markdown",
   "metadata": {},
   "source": [
    "Платформа PS4"
   ]
  },
  {
   "cell_type": "code",
   "execution_count": 13,
   "metadata": {},
   "outputs": [
    {
     "data": {
      "text/html": [
       "<div>\n",
       "<style scoped>\n",
       "    .dataframe tbody tr th:only-of-type {\n",
       "        vertical-align: middle;\n",
       "    }\n",
       "\n",
       "    .dataframe tbody tr th {\n",
       "        vertical-align: top;\n",
       "    }\n",
       "\n",
       "    .dataframe thead th {\n",
       "        text-align: right;\n",
       "    }\n",
       "</style>\n",
       "<table border=\"1\" class=\"dataframe\">\n",
       "  <thead>\n",
       "    <tr style=\"text-align: right;\">\n",
       "      <th></th>\n",
       "      <th></th>\n",
       "      <th>total_sales</th>\n",
       "    </tr>\n",
       "    <tr>\n",
       "      <th>name</th>\n",
       "      <th>platform</th>\n",
       "      <th></th>\n",
       "    </tr>\n",
       "  </thead>\n",
       "  <tbody>\n",
       "    <tr>\n",
       "      <td>7 Days to Die</td>\n",
       "      <td>PS4</td>\n",
       "      <td>0.1</td>\n",
       "    </tr>\n",
       "    <tr>\n",
       "      <td>Adventure Time: Finn &amp; Jake Investigations</td>\n",
       "      <td>PS4</td>\n",
       "      <td>0.0</td>\n",
       "    </tr>\n",
       "    <tr>\n",
       "      <td>Aegis of Earth: Protonovus Assault</td>\n",
       "      <td>PS4</td>\n",
       "      <td>0.0</td>\n",
       "    </tr>\n",
       "    <tr>\n",
       "      <td>Agatha Christie's The ABC Murders</td>\n",
       "      <td>PS4</td>\n",
       "      <td>0.0</td>\n",
       "    </tr>\n",
       "    <tr>\n",
       "      <td>Akiba's Trip: Undead &amp; Undressed</td>\n",
       "      <td>PS4</td>\n",
       "      <td>0.1</td>\n",
       "    </tr>\n",
       "    <tr>\n",
       "      <td>...</td>\n",
       "      <td>...</td>\n",
       "      <td>...</td>\n",
       "    </tr>\n",
       "    <tr>\n",
       "      <td>Yakuza: Ishin</td>\n",
       "      <td>PS4</td>\n",
       "      <td>0.2</td>\n",
       "    </tr>\n",
       "    <tr>\n",
       "      <td>Yoru no Nai Kuni</td>\n",
       "      <td>PS4</td>\n",
       "      <td>0.1</td>\n",
       "    </tr>\n",
       "    <tr>\n",
       "      <td>ZombiU</td>\n",
       "      <td>PS4</td>\n",
       "      <td>0.0</td>\n",
       "    </tr>\n",
       "    <tr>\n",
       "      <td>Zombie Army Trilogy</td>\n",
       "      <td>PS4</td>\n",
       "      <td>0.1</td>\n",
       "    </tr>\n",
       "    <tr>\n",
       "      <td>inFAMOUS: Second Son</td>\n",
       "      <td>PS4</td>\n",
       "      <td>2.9</td>\n",
       "    </tr>\n",
       "  </tbody>\n",
       "</table>\n",
       "<p>392 rows × 1 columns</p>\n",
       "</div>"
      ],
      "text/plain": [
       "                                                     total_sales\n",
       "name                                       platform             \n",
       "7 Days to Die                              PS4               0.1\n",
       "Adventure Time: Finn & Jake Investigations PS4               0.0\n",
       "Aegis of Earth: Protonovus Assault         PS4               0.0\n",
       "Agatha Christie's The ABC Murders          PS4               0.0\n",
       "Akiba's Trip: Undead & Undressed           PS4               0.1\n",
       "...                                                          ...\n",
       "Yakuza: Ishin                              PS4               0.2\n",
       "Yoru no Nai Kuni                           PS4               0.1\n",
       "ZombiU                                     PS4               0.0\n",
       "Zombie Army Trilogy                        PS4               0.1\n",
       "inFAMOUS: Second Son                       PS4               2.9\n",
       "\n",
       "[392 rows x 1 columns]"
      ]
     },
     "metadata": {},
     "output_type": "display_data"
    },
    {
     "name": "stdout",
     "output_type": "stream",
     "text": [
      "       total_sales\n",
      "count   392.000000\n",
      "mean      0.780867\n",
      "std       1.621677\n",
      "min       0.000000\n",
      "25%       0.000000\n",
      "50%       0.200000\n",
      "75%       0.700000\n",
      "max      14.700000\n"
     ]
    },
    {
     "data": {
      "image/png": "[encoded data removed]",
      "text/plain": [
       "<Figure size 432x288 with 1 Axes>"
      ]
     },
     "metadata": {
      "needs_background": "light"
     },
     "output_type": "display_data"
    }
   ],
   "source": [
    "platform_ps4 = topical_data.query('platform == \"PS4\"')\n",
    "\n",
    "pivot_platform_ps4 = platform_ps4.pivot_table(index=['name', 'platform'], values=['total_sales'])\n",
    "display(pivot_platform_ps4)\n",
    "\n",
    "pivot_platform_ps4.boxplot()\n",
    "plt.ylim(-5, 16)\n",
    "print(pivot_platform_ps4.describe())"
   ]
  },
  {
   "cell_type": "markdown",
   "metadata": {},
   "source": [
    "Платформа XOne"
   ]
  },
  {
   "cell_type": "code",
   "execution_count": 14,
   "metadata": {
    "scrolled": false
   },
   "outputs": [
    {
     "data": {
      "text/html": [
       "<div>\n",
       "<style scoped>\n",
       "    .dataframe tbody tr th:only-of-type {\n",
       "        vertical-align: middle;\n",
       "    }\n",
       "\n",
       "    .dataframe tbody tr th {\n",
       "        vertical-align: top;\n",
       "    }\n",
       "\n",
       "    .dataframe thead th {\n",
       "        text-align: right;\n",
       "    }\n",
       "</style>\n",
       "<table border=\"1\" class=\"dataframe\">\n",
       "  <thead>\n",
       "    <tr style=\"text-align: right;\">\n",
       "      <th></th>\n",
       "      <th></th>\n",
       "      <th>total_sales</th>\n",
       "    </tr>\n",
       "    <tr>\n",
       "      <th>name</th>\n",
       "      <th>platform</th>\n",
       "      <th></th>\n",
       "    </tr>\n",
       "  </thead>\n",
       "  <tbody>\n",
       "    <tr>\n",
       "      <td>7 Days to Die</td>\n",
       "      <td>XOne</td>\n",
       "      <td>0.0</td>\n",
       "    </tr>\n",
       "    <tr>\n",
       "      <td>Adventure Time: Finn &amp; Jake Investigations</td>\n",
       "      <td>XOne</td>\n",
       "      <td>0.0</td>\n",
       "    </tr>\n",
       "    <tr>\n",
       "      <td>Agatha Christie's The ABC Murders</td>\n",
       "      <td>XOne</td>\n",
       "      <td>0.0</td>\n",
       "    </tr>\n",
       "    <tr>\n",
       "      <td>Alien: Isolation</td>\n",
       "      <td>XOne</td>\n",
       "      <td>0.4</td>\n",
       "    </tr>\n",
       "    <tr>\n",
       "      <td>Angry Birds Star Wars</td>\n",
       "      <td>XOne</td>\n",
       "      <td>0.1</td>\n",
       "    </tr>\n",
       "    <tr>\n",
       "      <td>...</td>\n",
       "      <td>...</td>\n",
       "      <td>...</td>\n",
       "    </tr>\n",
       "    <tr>\n",
       "      <td>XCOM 2</td>\n",
       "      <td>XOne</td>\n",
       "      <td>0.0</td>\n",
       "    </tr>\n",
       "    <tr>\n",
       "      <td>ZombiU</td>\n",
       "      <td>XOne</td>\n",
       "      <td>0.0</td>\n",
       "    </tr>\n",
       "    <tr>\n",
       "      <td>Zombie Army Trilogy</td>\n",
       "      <td>XOne</td>\n",
       "      <td>0.0</td>\n",
       "    </tr>\n",
       "    <tr>\n",
       "      <td>Zoo Tycoon (2013)</td>\n",
       "      <td>XOne</td>\n",
       "      <td>0.4</td>\n",
       "    </tr>\n",
       "    <tr>\n",
       "      <td>Zumba Fitness: World Party</td>\n",
       "      <td>XOne</td>\n",
       "      <td>0.2</td>\n",
       "    </tr>\n",
       "  </tbody>\n",
       "</table>\n",
       "<p>247 rows × 1 columns</p>\n",
       "</div>"
      ],
      "text/plain": [
       "                                                     total_sales\n",
       "name                                       platform             \n",
       "7 Days to Die                              XOne              0.0\n",
       "Adventure Time: Finn & Jake Investigations XOne              0.0\n",
       "Agatha Christie's The ABC Murders          XOne              0.0\n",
       "Alien: Isolation                           XOne              0.4\n",
       "Angry Birds Star Wars                      XOne              0.1\n",
       "...                                                          ...\n",
       "XCOM 2                                     XOne              0.0\n",
       "ZombiU                                     XOne              0.0\n",
       "Zombie Army Trilogy                        XOne              0.0\n",
       "Zoo Tycoon (2013)                          XOne              0.4\n",
       "Zumba Fitness: World Party                 XOne              0.2\n",
       "\n",
       "[247 rows x 1 columns]"
      ]
     },
     "metadata": {},
     "output_type": "display_data"
    },
    {
     "name": "stdout",
     "output_type": "stream",
     "text": [
      "       total_sales\n",
      "count   247.000000\n",
      "mean      0.623887\n",
      "std       1.045332\n",
      "min       0.000000\n",
      "25%       0.000000\n",
      "50%       0.200000\n",
      "75%       0.700000\n",
      "max       7.400000\n"
     ]
    },
    {
     "data": {
      "image/png": "[encoded data removed]",
      "text/plain": [
       "<Figure size 432x288 with 1 Axes>"
      ]
     },
     "metadata": {
      "needs_background": "light"
     },
     "output_type": "display_data"
    }
   ],
   "source": [
    "platform_xone = topical_data.query('platform == \"XOne\"')\n",
    "\n",
    "pivot_platform_xone = platform_xone.pivot_table(index=['name', 'platform'], values=['total_sales'])\n",
    "display(pivot_platform_xone)\n",
    "\n",
    "pivot_platform_xone.boxplot()\n",
    "plt.ylim(-5, 16)\n",
    "print(pivot_platform_xone.describe())"
   ]
  },
  {
   "cell_type": "markdown",
   "metadata": {},
   "source": [
    "Платформа 3DS"
   ]
  },
  {
   "cell_type": "code",
   "execution_count": 15,
   "metadata": {},
   "outputs": [
    {
     "data": {
      "text/html": [
       "<div>\n",
       "<style scoped>\n",
       "    .dataframe tbody tr th:only-of-type {\n",
       "        vertical-align: middle;\n",
       "    }\n",
       "\n",
       "    .dataframe tbody tr th {\n",
       "        vertical-align: top;\n",
       "    }\n",
       "\n",
       "    .dataframe thead th {\n",
       "        text-align: right;\n",
       "    }\n",
       "</style>\n",
       "<table border=\"1\" class=\"dataframe\">\n",
       "  <thead>\n",
       "    <tr style=\"text-align: right;\">\n",
       "      <th></th>\n",
       "      <th></th>\n",
       "      <th>total_sales</th>\n",
       "    </tr>\n",
       "    <tr>\n",
       "      <th>name</th>\n",
       "      <th>platform</th>\n",
       "      <th></th>\n",
       "    </tr>\n",
       "  </thead>\n",
       "  <tbody>\n",
       "    <tr>\n",
       "      <td>Beyblade Burst</td>\n",
       "      <td>3DS</td>\n",
       "      <td>0.0</td>\n",
       "    </tr>\n",
       "    <tr>\n",
       "      <td>Fire Emblem Fates</td>\n",
       "      <td>3DS</td>\n",
       "      <td>1.6</td>\n",
       "    </tr>\n",
       "    <tr>\n",
       "      <td>Frozen: Olaf's Quest</td>\n",
       "      <td>3DS</td>\n",
       "      <td>0.6</td>\n",
       "    </tr>\n",
       "    <tr>\n",
       "      <td>Haikyu!! Cross Team Match!</td>\n",
       "      <td>3DS</td>\n",
       "      <td>0.0</td>\n",
       "    </tr>\n",
       "    <tr>\n",
       "      <td>12-Sai. Honto no Kimochi</td>\n",
       "      <td>3DS</td>\n",
       "      <td>0.1</td>\n",
       "    </tr>\n",
       "    <tr>\n",
       "      <td>...</td>\n",
       "      <td>...</td>\n",
       "      <td>...</td>\n",
       "    </tr>\n",
       "    <tr>\n",
       "      <td>Yu-Gi-Oh! Zexal World Duel Carnival</td>\n",
       "      <td>3DS</td>\n",
       "      <td>0.2</td>\n",
       "    </tr>\n",
       "    <tr>\n",
       "      <td>Yumi's Odd Odyssey</td>\n",
       "      <td>3DS</td>\n",
       "      <td>0.0</td>\n",
       "    </tr>\n",
       "    <tr>\n",
       "      <td>Zero Escape: Virtue's Last Reward</td>\n",
       "      <td>3DS</td>\n",
       "      <td>0.0</td>\n",
       "    </tr>\n",
       "    <tr>\n",
       "      <td>Zero Escape: Zero Time Dilemma</td>\n",
       "      <td>3DS</td>\n",
       "      <td>0.0</td>\n",
       "    </tr>\n",
       "    <tr>\n",
       "      <td>Zyuden Sentai Kyoryuger: Game de Gaburincho!!</td>\n",
       "      <td>3DS</td>\n",
       "      <td>0.0</td>\n",
       "    </tr>\n",
       "  </tbody>\n",
       "</table>\n",
       "<p>396 rows × 1 columns</p>\n",
       "</div>"
      ],
      "text/plain": [
       "                                                        total_sales\n",
       "name                                          platform             \n",
       " Beyblade Burst                               3DS               0.0\n",
       " Fire Emblem Fates                            3DS               1.6\n",
       " Frozen: Olaf's Quest                         3DS               0.6\n",
       " Haikyu!! Cross Team Match!                   3DS               0.0\n",
       "12-Sai. Honto no Kimochi                      3DS               0.1\n",
       "...                                                             ...\n",
       "Yu-Gi-Oh! Zexal World Duel Carnival           3DS               0.2\n",
       "Yumi's Odd Odyssey                            3DS               0.0\n",
       "Zero Escape: Virtue's Last Reward             3DS               0.0\n",
       "Zero Escape: Zero Time Dilemma                3DS               0.0\n",
       "Zyuden Sentai Kyoryuger: Game de Gaburincho!! 3DS               0.0\n",
       "\n",
       "[396 rows x 1 columns]"
      ]
     },
     "metadata": {},
     "output_type": "display_data"
    },
    {
     "name": "stdout",
     "output_type": "stream",
     "text": [
      "       total_sales\n",
      "count   396.000000\n",
      "mean      0.478283\n",
      "std       1.393251\n",
      "min       0.000000\n",
      "25%       0.000000\n",
      "50%       0.100000\n",
      "75%       0.300000\n",
      "max      14.700000\n"
     ]
    },
    {
     "data": {
      "image/png": "[encoded data removed]",
      "text/plain": [
       "<Figure size 432x288 with 1 Axes>"
      ]
     },
     "metadata": {
      "needs_background": "light"
     },
     "output_type": "display_data"
    }
   ],
   "source": [
    "platform_3ds = topical_data.query('platform == \"3DS\"')\n",
    "\n",
    "pivot_platform_3ds = platform_3ds.pivot_table(index=['name', 'platform'], values=['total_sales'])\n",
    "display(pivot_platform_3ds)\n",
    "\n",
    "pivot_platform_3ds.boxplot()\n",
    "plt.ylim(-5, 16)\n",
    "print(pivot_platform_3ds.describe())"
   ]
  },
  {
   "cell_type": "markdown",
   "metadata": {},
   "source": [
    "Для платфлормы XOne игр продаётся меньше. На PS4 и 3DS примерно одинаково. Средняя цена и медиана на 3DS не много меньше  чем на PS4 и XOne, а на них примерно равны. На XOne максимальная  цена не привышает 7.4, а вот на PS4 и 3DS ряд игр значительно дороже."
   ]
  },
  {
   "cell_type": "markdown",
   "metadata": {},
   "source": [
    "### Корреляция по отзывам"
   ]
  },
  {
   "cell_type": "markdown",
   "metadata": {},
   "source": [
    "Платформа PS4"
   ]
  },
  {
   "cell_type": "code",
   "execution_count": 16,
   "metadata": {},
   "outputs": [
    {
     "name": "stdout",
     "output_type": "stream",
     "text": [
      "0.40644116536825853\n"
     ]
    },
    {
     "data": {
      "text/plain": [
       "<matplotlib.axes._subplots.AxesSubplot at 0x7f5dd2a140d0>"
      ]
     },
     "execution_count": 16,
     "metadata": {},
     "output_type": "execute_result"
    },
    {
     "data": {
      "image/png": "[encoded data removed]",
      "text/plain": [
       "<Figure size 432x288 with 1 Axes>"
      ]
     },
     "metadata": {
      "needs_background": "light"
     },
     "output_type": "display_data"
    }
   ],
   "source": [
    "print(platform_ps4['critic_score'].corr(platform_ps4['total_sales']))\n",
    "platform_ps4.plot(x='critic_score', y='total_sales', kind='scatter')"
   ]
  },
  {
   "cell_type": "markdown",
   "metadata": {},
   "source": [
    "Зависимость продаж от отзывов критиков есть, но она не велика."
   ]
  },
  {
   "cell_type": "code",
   "execution_count": 17,
   "metadata": {},
   "outputs": [
    {
     "name": "stdout",
     "output_type": "stream",
     "text": [
      "-0.03311301528027414\n"
     ]
    },
    {
     "data": {
      "text/plain": [
       "<matplotlib.axes._subplots.AxesSubplot at 0x7f5dd2a9eb50>"
      ]
     },
     "execution_count": 17,
     "metadata": {},
     "output_type": "execute_result"
    },
    {
     "data": {
      "image/png": "[encoded data removed]",
      "text/plain": [
       "<Figure size 432x288 with 1 Axes>"
      ]
     },
     "metadata": {
      "needs_background": "light"
     },
     "output_type": "display_data"
    }
   ],
   "source": [
    "print(platform_ps4['user_score'].corr(platform_ps4['total_sales']))\n",
    "platform_ps4.plot(x='user_score', y='total_sales', kind='scatter')"
   ]
  },
  {
   "cell_type": "markdown",
   "metadata": {},
   "source": [
    "Зависимости продаж от отзывов игроков нет."
   ]
  },
  {
   "cell_type": "markdown",
   "metadata": {},
   "source": [
    "Платформа XOne"
   ]
  },
  {
   "cell_type": "code",
   "execution_count": 18,
   "metadata": {},
   "outputs": [
    {
     "name": "stdout",
     "output_type": "stream",
     "text": [
      "0.4207952150760362\n"
     ]
    },
    {
     "data": {
      "text/plain": [
       "<matplotlib.axes._subplots.AxesSubplot at 0x7f5dd2916150>"
      ]
     },
     "execution_count": 18,
     "metadata": {},
     "output_type": "execute_result"
    },
    {
     "data": {
      "image/png": "[encoded data removed]",
      "text/plain": [
       "<Figure size 432x288 with 1 Axes>"
      ]
     },
     "metadata": {
      "needs_background": "light"
     },
     "output_type": "display_data"
    }
   ],
   "source": [
    "print(platform_xone['critic_score'].corr(platform_xone['total_sales']))\n",
    "platform_xone.plot(x='critic_score', y='total_sales', kind='scatter')"
   ]
  },
  {
   "cell_type": "code",
   "execution_count": 19,
   "metadata": {},
   "outputs": [
    {
     "name": "stdout",
     "output_type": "stream",
     "text": [
      "-0.06732244012922815\n"
     ]
    },
    {
     "data": {
      "text/plain": [
       "<matplotlib.axes._subplots.AxesSubplot at 0x7f5dd0d1eb90>"
      ]
     },
     "execution_count": 19,
     "metadata": {},
     "output_type": "execute_result"
    },
    {
     "data": {
      "image/png": "[encoded data removed]",
      "text/plain": [
       "<Figure size 432x288 with 1 Axes>"
      ]
     },
     "metadata": {
      "needs_background": "light"
     },
     "output_type": "display_data"
    }
   ],
   "source": [
    "print(platform_xone['user_score'].corr(platform_xone['total_sales']))\n",
    "platform_xone.plot(x='user_score', y='total_sales', kind='scatter')"
   ]
  },
  {
   "cell_type": "markdown",
   "metadata": {},
   "source": [
    "На платформе XOne такая же картина."
   ]
  },
  {
   "cell_type": "code",
   "execution_count": 20,
   "metadata": {},
   "outputs": [
    {
     "name": "stdout",
     "output_type": "stream",
     "text": [
      "0.32121259252559375\n"
     ]
    },
    {
     "data": {
      "text/plain": [
       "<matplotlib.axes._subplots.AxesSubplot at 0x7f5ddba73910>"
      ]
     },
     "execution_count": 20,
     "metadata": {},
     "output_type": "execute_result"
    },
    {
     "data": {
      "image/png": "[encoded data removed]",
      "text/plain": [
       "<Figure size 432x288 with 1 Axes>"
      ]
     },
     "metadata": {
      "needs_background": "light"
     },
     "output_type": "display_data"
    }
   ],
   "source": [
    "print(platform_3ds['critic_score'].corr(platform_3ds['total_sales']))\n",
    "platform_3ds.plot(x='critic_score', y='total_sales', kind='scatter')"
   ]
  },
  {
   "cell_type": "code",
   "execution_count": 21,
   "metadata": {},
   "outputs": [
    {
     "name": "stdout",
     "output_type": "stream",
     "text": [
      "0.19877478961060127\n"
     ]
    },
    {
     "data": {
      "text/plain": [
       "<matplotlib.axes._subplots.AxesSubplot at 0x7f5dd0c80d10>"
      ]
     },
     "execution_count": 21,
     "metadata": {},
     "output_type": "execute_result"
    },
    {
     "data": {
      "image/png": "[encoded data removed]",
      "text/plain": [
       "<Figure size 432x288 with 1 Axes>"
      ]
     },
     "metadata": {
      "needs_background": "light"
     },
     "output_type": "display_data"
    }
   ],
   "source": [
    "print(platform_3ds['user_score'].corr(platform_3ds['total_sales']))\n",
    "platform_3ds.plot(x='user_score', y='total_sales', kind='scatter')"
   ]
  },
  {
   "cell_type": "markdown",
   "metadata": {},
   "source": [
    "На платформе 3DS есть отличия. Зависимость от отзывов критиков не много ниже, а вот зависимость от отзывов игроков не большая, но есть."
   ]
  },
  {
   "cell_type": "markdown",
   "metadata": {},
   "source": [
    "###  Продажи игр по жанрам"
   ]
  },
  {
   "cell_type": "code",
   "execution_count": 22,
   "metadata": {
    "scrolled": false
   },
   "outputs": [
    {
     "data": {
      "text/html": [
       "<div>\n",
       "<style scoped>\n",
       "    .dataframe tbody tr th:only-of-type {\n",
       "        vertical-align: middle;\n",
       "    }\n",
       "\n",
       "    .dataframe tbody tr th {\n",
       "        vertical-align: top;\n",
       "    }\n",
       "\n",
       "    .dataframe thead th {\n",
       "        text-align: right;\n",
       "    }\n",
       "</style>\n",
       "<table border=\"1\" class=\"dataframe\">\n",
       "  <thead>\n",
       "    <tr style=\"text-align: right;\">\n",
       "      <th></th>\n",
       "      <th>total_sales</th>\n",
       "    </tr>\n",
       "    <tr>\n",
       "      <th>genre</th>\n",
       "      <th></th>\n",
       "    </tr>\n",
       "  </thead>\n",
       "  <tbody>\n",
       "    <tr>\n",
       "      <td>Action</td>\n",
       "      <td>424.9</td>\n",
       "    </tr>\n",
       "    <tr>\n",
       "      <td>Shooter</td>\n",
       "      <td>300.0</td>\n",
       "    </tr>\n",
       "    <tr>\n",
       "      <td>Role-Playing</td>\n",
       "      <td>186.3</td>\n",
       "    </tr>\n",
       "    <tr>\n",
       "      <td>Sports</td>\n",
       "      <td>177.2</td>\n",
       "    </tr>\n",
       "    <tr>\n",
       "      <td>Misc</td>\n",
       "      <td>82.0</td>\n",
       "    </tr>\n",
       "    <tr>\n",
       "      <td>Platform</td>\n",
       "      <td>58.8</td>\n",
       "    </tr>\n",
       "    <tr>\n",
       "      <td>Racing</td>\n",
       "      <td>50.4</td>\n",
       "    </tr>\n",
       "    <tr>\n",
       "      <td>Fighting</td>\n",
       "      <td>41.6</td>\n",
       "    </tr>\n",
       "    <tr>\n",
       "      <td>Simulation</td>\n",
       "      <td>33.6</td>\n",
       "    </tr>\n",
       "    <tr>\n",
       "      <td>Adventure</td>\n",
       "      <td>22.4</td>\n",
       "    </tr>\n",
       "    <tr>\n",
       "      <td>Strategy</td>\n",
       "      <td>12.0</td>\n",
       "    </tr>\n",
       "    <tr>\n",
       "      <td>Puzzle</td>\n",
       "      <td>4.6</td>\n",
       "    </tr>\n",
       "  </tbody>\n",
       "</table>\n",
       "</div>"
      ],
      "text/plain": [
       "              total_sales\n",
       "genre                    \n",
       "Action              424.9\n",
       "Shooter             300.0\n",
       "Role-Playing        186.3\n",
       "Sports              177.2\n",
       "Misc                 82.0\n",
       "Platform             58.8\n",
       "Racing               50.4\n",
       "Fighting             41.6\n",
       "Simulation           33.6\n",
       "Adventure            22.4\n",
       "Strategy             12.0\n",
       "Puzzle                4.6"
      ]
     },
     "metadata": {},
     "output_type": "display_data"
    },
    {
     "data": {
      "text/html": [
       "<div>\n",
       "<style scoped>\n",
       "    .dataframe tbody tr th:only-of-type {\n",
       "        vertical-align: middle;\n",
       "    }\n",
       "\n",
       "    .dataframe tbody tr th {\n",
       "        vertical-align: top;\n",
       "    }\n",
       "\n",
       "    .dataframe thead th {\n",
       "        text-align: right;\n",
       "    }\n",
       "</style>\n",
       "<table border=\"1\" class=\"dataframe\">\n",
       "  <thead>\n",
       "    <tr style=\"text-align: right;\">\n",
       "      <th></th>\n",
       "      <th>total_sales</th>\n",
       "    </tr>\n",
       "    <tr>\n",
       "      <th>genre</th>\n",
       "      <th></th>\n",
       "    </tr>\n",
       "  </thead>\n",
       "  <tbody>\n",
       "    <tr>\n",
       "      <td>Shooter</td>\n",
       "      <td>0.4</td>\n",
       "    </tr>\n",
       "    <tr>\n",
       "      <td>Platform</td>\n",
       "      <td>0.2</td>\n",
       "    </tr>\n",
       "    <tr>\n",
       "      <td>Sports</td>\n",
       "      <td>0.2</td>\n",
       "    </tr>\n",
       "    <tr>\n",
       "      <td>Action</td>\n",
       "      <td>0.1</td>\n",
       "    </tr>\n",
       "    <tr>\n",
       "      <td>Fighting</td>\n",
       "      <td>0.1</td>\n",
       "    </tr>\n",
       "    <tr>\n",
       "      <td>Misc</td>\n",
       "      <td>0.1</td>\n",
       "    </tr>\n",
       "    <tr>\n",
       "      <td>Racing</td>\n",
       "      <td>0.1</td>\n",
       "    </tr>\n",
       "    <tr>\n",
       "      <td>Role-Playing</td>\n",
       "      <td>0.1</td>\n",
       "    </tr>\n",
       "    <tr>\n",
       "      <td>Simulation</td>\n",
       "      <td>0.1</td>\n",
       "    </tr>\n",
       "    <tr>\n",
       "      <td>Strategy</td>\n",
       "      <td>0.1</td>\n",
       "    </tr>\n",
       "    <tr>\n",
       "      <td>Adventure</td>\n",
       "      <td>0.0</td>\n",
       "    </tr>\n",
       "    <tr>\n",
       "      <td>Puzzle</td>\n",
       "      <td>0.0</td>\n",
       "    </tr>\n",
       "  </tbody>\n",
       "</table>\n",
       "</div>"
      ],
      "text/plain": [
       "              total_sales\n",
       "genre                    \n",
       "Shooter               0.4\n",
       "Platform              0.2\n",
       "Sports                0.2\n",
       "Action                0.1\n",
       "Fighting              0.1\n",
       "Misc                  0.1\n",
       "Racing                0.1\n",
       "Role-Playing          0.1\n",
       "Simulation            0.1\n",
       "Strategy              0.1\n",
       "Adventure             0.0\n",
       "Puzzle                0.0"
      ]
     },
     "metadata": {},
     "output_type": "display_data"
    },
    {
     "data": {
      "text/plain": [
       "<matplotlib.axes._subplots.AxesSubplot at 0x7f5dd2a9ef10>"
      ]
     },
     "execution_count": 22,
     "metadata": {},
     "output_type": "execute_result"
    },
    {
     "data": {
      "image/png": "[encoded data removed]",
      "text/plain": [
       "<Figure size 720x288 with 1 Axes>"
      ]
     },
     "metadata": {
      "needs_background": "light"
     },
     "output_type": "display_data"
    },
    {
     "data": {
      "image/png": "[encoded data removed]",
      "text/plain": [
       "<Figure size 720x288 with 1 Axes>"
      ]
     },
     "metadata": {
      "needs_background": "light"
     },
     "output_type": "display_data"
    }
   ],
   "source": [
    "pivot_genre = topical_data.pivot_table(index='genre', values='total_sales', aggfunc='sum')\n",
    "pivot_genre_median = topical_data.pivot_table(index='genre', values='total_sales', aggfunc='median')\n",
    "pivot_genre = pivot_genre.sort_values('total_sales',  ascending=False)\n",
    "pivot_genre_median = pivot_genre_median.sort_values('total_sales',  ascending=False)\n",
    "\n",
    "display(pivot_genre)\n",
    "display(pivot_genre_median)\n",
    "pivot_genre.plot(kind='bar', title='Продажи по жанрам', figsize=(10,4))\n",
    "pivot_genre_median.plot(kind='bar', title='Продажи по жанрам', figsize=(10,4))"
   ]
  },
  {
   "cell_type": "markdown",
   "metadata": {},
   "source": [
    "Все жанры имеют разную доходность.  Самые популярные это экшены и стрелялки. Явный фаворит это Action, есть и явный аутсайдер это Puzzle."
   ]
  },
  {
   "cell_type": "markdown",
   "metadata": {},
   "source": [
    "## Портрет пользователей по регионам"
   ]
  },
  {
   "cell_type": "markdown",
   "metadata": {},
   "source": [
    "### Регион NA"
   ]
  },
  {
   "cell_type": "markdown",
   "metadata": {},
   "source": [
    "Топ 5 популярных платформ"
   ]
  },
  {
   "cell_type": "code",
   "execution_count": 23,
   "metadata": {},
   "outputs": [
    {
     "data": {
      "text/html": [
       "<div>\n",
       "<style scoped>\n",
       "    .dataframe tbody tr th:only-of-type {\n",
       "        vertical-align: middle;\n",
       "    }\n",
       "\n",
       "    .dataframe tbody tr th {\n",
       "        vertical-align: top;\n",
       "    }\n",
       "\n",
       "    .dataframe thead th {\n",
       "        text-align: right;\n",
       "    }\n",
       "</style>\n",
       "<table border=\"1\" class=\"dataframe\">\n",
       "  <thead>\n",
       "    <tr style=\"text-align: right;\">\n",
       "      <th></th>\n",
       "      <th>platform</th>\n",
       "      <th>na_sales</th>\n",
       "      <th>share_sales</th>\n",
       "    </tr>\n",
       "  </thead>\n",
       "  <tbody>\n",
       "    <tr>\n",
       "      <td>0</td>\n",
       "      <td>X360</td>\n",
       "      <td>140.1</td>\n",
       "      <td>0.239897</td>\n",
       "    </tr>\n",
       "    <tr>\n",
       "      <td>1</td>\n",
       "      <td>PS4</td>\n",
       "      <td>107.2</td>\n",
       "      <td>0.183562</td>\n",
       "    </tr>\n",
       "    <tr>\n",
       "      <td>2</td>\n",
       "      <td>PS3</td>\n",
       "      <td>102.1</td>\n",
       "      <td>0.174829</td>\n",
       "    </tr>\n",
       "    <tr>\n",
       "      <td>3</td>\n",
       "      <td>XOne</td>\n",
       "      <td>91.9</td>\n",
       "      <td>0.157363</td>\n",
       "    </tr>\n",
       "    <tr>\n",
       "      <td>4</td>\n",
       "      <td>3DS</td>\n",
       "      <td>54.9</td>\n",
       "      <td>0.094007</td>\n",
       "    </tr>\n",
       "  </tbody>\n",
       "</table>\n",
       "</div>"
      ],
      "text/plain": [
       "  platform  na_sales  share_sales\n",
       "0     X360     140.1     0.239897\n",
       "1      PS4     107.2     0.183562\n",
       "2      PS3     102.1     0.174829\n",
       "3     XOne      91.9     0.157363\n",
       "4      3DS      54.9     0.094007"
      ]
     },
     "metadata": {},
     "output_type": "display_data"
    },
    {
     "data": {
      "image/png": "[encoded data removed]",
      "text/plain": [
       "<Figure size 432x288 with 1 Axes>"
      ]
     },
     "metadata": {},
     "output_type": "display_data"
    }
   ],
   "source": [
    "pivot_na_platform = topical_data.pivot_table(index='platform', values='na_sales', aggfunc='sum').sort_values('na_sales', ascending=False)\n",
    "total_share_sales = pivot_na_platform['na_sales'].sum()\n",
    "pivot_na_platform['share_sales'] = pivot_na_platform['na_sales'] / total_share_sales\n",
    "\n",
    "\n",
    "top_share = pivot_na_platform.head(5).reset_index() \n",
    "display(top_share) \n",
    "\n",
    "plt.pie(top_share['share_sales'], labels=top_share['platform'], autopct='%.1f%%')\n",
    "plt.show() "
   ]
  },
  {
   "cell_type": "markdown",
   "metadata": {},
   "source": [
    "До сих пор пальму первенства держит платформа PS3. Как не странно, но довольно старая платформа 3DS держит середину в доле продаж топовых платформ."
   ]
  },
  {
   "cell_type": "markdown",
   "metadata": {},
   "source": [
    "Топ 5 популярных жанров"
   ]
  },
  {
   "cell_type": "code",
   "execution_count": 24,
   "metadata": {},
   "outputs": [
    {
     "data": {
      "text/html": [
       "<div>\n",
       "<style scoped>\n",
       "    .dataframe tbody tr th:only-of-type {\n",
       "        vertical-align: middle;\n",
       "    }\n",
       "\n",
       "    .dataframe tbody tr th {\n",
       "        vertical-align: top;\n",
       "    }\n",
       "\n",
       "    .dataframe thead th {\n",
       "        text-align: right;\n",
       "    }\n",
       "</style>\n",
       "<table border=\"1\" class=\"dataframe\">\n",
       "  <thead>\n",
       "    <tr style=\"text-align: right;\">\n",
       "      <th></th>\n",
       "      <th>genre</th>\n",
       "      <th>na_sales</th>\n",
       "      <th>share_sales</th>\n",
       "    </tr>\n",
       "  </thead>\n",
       "  <tbody>\n",
       "    <tr>\n",
       "      <td>0</td>\n",
       "      <td>Action</td>\n",
       "      <td>176.1</td>\n",
       "      <td>0.301541</td>\n",
       "    </tr>\n",
       "    <tr>\n",
       "      <td>1</td>\n",
       "      <td>Shooter</td>\n",
       "      <td>143.9</td>\n",
       "      <td>0.246404</td>\n",
       "    </tr>\n",
       "    <tr>\n",
       "      <td>2</td>\n",
       "      <td>Sports</td>\n",
       "      <td>82.0</td>\n",
       "      <td>0.140411</td>\n",
       "    </tr>\n",
       "    <tr>\n",
       "      <td>3</td>\n",
       "      <td>Role-Playing</td>\n",
       "      <td>62.8</td>\n",
       "      <td>0.107534</td>\n",
       "    </tr>\n",
       "    <tr>\n",
       "      <td>4</td>\n",
       "      <td>Misc</td>\n",
       "      <td>38.0</td>\n",
       "      <td>0.065068</td>\n",
       "    </tr>\n",
       "  </tbody>\n",
       "</table>\n",
       "</div>"
      ],
      "text/plain": [
       "          genre  na_sales  share_sales\n",
       "0        Action     176.1     0.301541\n",
       "1       Shooter     143.9     0.246404\n",
       "2        Sports      82.0     0.140411\n",
       "3  Role-Playing      62.8     0.107534\n",
       "4          Misc      38.0     0.065068"
      ]
     },
     "metadata": {},
     "output_type": "display_data"
    },
    {
     "data": {
      "image/png": "[encoded data removed]",
      "text/plain": [
       "<Figure size 432x288 with 1 Axes>"
      ]
     },
     "metadata": {},
     "output_type": "display_data"
    }
   ],
   "source": [
    "pivot_na_genre = topical_data.pivot_table(index='genre', values='na_sales', aggfunc='sum').sort_values('na_sales', ascending=False)\n",
    "genre_share_sales = pivot_na_genre['na_sales'].sum()\n",
    "pivot_na_genre ['share_sales'] = pivot_na_genre['na_sales'] / genre_share_sales\n",
    "\n",
    "top__na_genre = pivot_na_genre.head(5).reset_index()\n",
    "display(top__na_genre)\n",
    "\n",
    "plt.pie(top__na_genre['share_sales'], labels=top__na_genre['genre'], autopct='%.1f%%')\n",
    "plt.show() "
   ]
  },
  {
   "cell_type": "markdown",
   "metadata": {},
   "source": [
    "Однозначное лидерсво держат жанр Action и Shooter. Они занимают больше половины всего сегмента игр."
   ]
  },
  {
   "cell_type": "markdown",
   "metadata": {},
   "source": [
    "### Регион EU"
   ]
  },
  {
   "cell_type": "markdown",
   "metadata": {},
   "source": [
    "Топ 5 популярных платформ"
   ]
  },
  {
   "cell_type": "code",
   "execution_count": 25,
   "metadata": {},
   "outputs": [
    {
     "data": {
      "text/html": [
       "<div>\n",
       "<style scoped>\n",
       "    .dataframe tbody tr th:only-of-type {\n",
       "        vertical-align: middle;\n",
       "    }\n",
       "\n",
       "    .dataframe tbody tr th {\n",
       "        vertical-align: top;\n",
       "    }\n",
       "\n",
       "    .dataframe thead th {\n",
       "        text-align: right;\n",
       "    }\n",
       "</style>\n",
       "<table border=\"1\" class=\"dataframe\">\n",
       "  <thead>\n",
       "    <tr style=\"text-align: right;\">\n",
       "      <th></th>\n",
       "      <th>platform</th>\n",
       "      <th>eu_sales</th>\n",
       "      <th>share_sales</th>\n",
       "    </tr>\n",
       "  </thead>\n",
       "  <tbody>\n",
       "    <tr>\n",
       "      <td>0</td>\n",
       "      <td>PS4</td>\n",
       "      <td>139.0</td>\n",
       "      <td>0.282004</td>\n",
       "    </tr>\n",
       "    <tr>\n",
       "      <td>1</td>\n",
       "      <td>PS3</td>\n",
       "      <td>104.4</td>\n",
       "      <td>0.211808</td>\n",
       "    </tr>\n",
       "    <tr>\n",
       "      <td>2</td>\n",
       "      <td>X360</td>\n",
       "      <td>72.8</td>\n",
       "      <td>0.147697</td>\n",
       "    </tr>\n",
       "    <tr>\n",
       "      <td>3</td>\n",
       "      <td>XOne</td>\n",
       "      <td>50.4</td>\n",
       "      <td>0.102252</td>\n",
       "    </tr>\n",
       "    <tr>\n",
       "      <td>4</td>\n",
       "      <td>3DS</td>\n",
       "      <td>41.2</td>\n",
       "      <td>0.083587</td>\n",
       "    </tr>\n",
       "  </tbody>\n",
       "</table>\n",
       "</div>"
      ],
      "text/plain": [
       "  platform  eu_sales  share_sales\n",
       "0      PS4     139.0     0.282004\n",
       "1      PS3     104.4     0.211808\n",
       "2     X360      72.8     0.147697\n",
       "3     XOne      50.4     0.102252\n",
       "4      3DS      41.2     0.083587"
      ]
     },
     "metadata": {},
     "output_type": "display_data"
    },
    {
     "data": {
      "image/png": "[encoded data removed]",
      "text/plain": [
       "<Figure size 432x288 with 1 Axes>"
      ]
     },
     "metadata": {},
     "output_type": "display_data"
    }
   ],
   "source": [
    "pivot_eu_platform = topical_data.pivot_table(index='platform', values='eu_sales', aggfunc='sum').sort_values('eu_sales', ascending=False)\n",
    "total_share_sales_eu = pivot_eu_platform['eu_sales'].sum()\n",
    "pivot_eu_platform['share_sales'] = pivot_eu_platform['eu_sales'] / total_share_sales_eu\n",
    "\n",
    "\n",
    "top_share_eu = pivot_eu_platform.head(5).reset_index() \n",
    "display(top_share_eu) \n",
    "\n",
    "plt.pie(top_share_eu['share_sales'], labels=top_share_eu['platform'], autopct='%.1f%%')\n",
    "plt.show() "
   ]
  },
  {
   "cell_type": "markdown",
   "metadata": {},
   "source": [
    "В регионе EU Уверенно лидируют PS3 и Ps4. PS4, скорее всего, постепенно будет отваёвывать себе всё больше територии."
   ]
  },
  {
   "cell_type": "markdown",
   "metadata": {},
   "source": [
    "Топ 5 популярных жанров\n"
   ]
  },
  {
   "cell_type": "code",
   "execution_count": 26,
   "metadata": {},
   "outputs": [
    {
     "data": {
      "text/html": [
       "<div>\n",
       "<style scoped>\n",
       "    .dataframe tbody tr th:only-of-type {\n",
       "        vertical-align: middle;\n",
       "    }\n",
       "\n",
       "    .dataframe tbody tr th {\n",
       "        vertical-align: top;\n",
       "    }\n",
       "\n",
       "    .dataframe thead th {\n",
       "        text-align: right;\n",
       "    }\n",
       "</style>\n",
       "<table border=\"1\" class=\"dataframe\">\n",
       "  <thead>\n",
       "    <tr style=\"text-align: right;\">\n",
       "      <th></th>\n",
       "      <th>genre</th>\n",
       "      <th>eu_sales</th>\n",
       "      <th>share_sales</th>\n",
       "    </tr>\n",
       "  </thead>\n",
       "  <tbody>\n",
       "    <tr>\n",
       "      <td>0</td>\n",
       "      <td>Action</td>\n",
       "      <td>155.4</td>\n",
       "      <td>0.315277</td>\n",
       "    </tr>\n",
       "    <tr>\n",
       "      <td>1</td>\n",
       "      <td>Shooter</td>\n",
       "      <td>112.2</td>\n",
       "      <td>0.227632</td>\n",
       "    </tr>\n",
       "    <tr>\n",
       "      <td>2</td>\n",
       "      <td>Sports</td>\n",
       "      <td>67.5</td>\n",
       "      <td>0.136945</td>\n",
       "    </tr>\n",
       "    <tr>\n",
       "      <td>3</td>\n",
       "      <td>Role-Playing</td>\n",
       "      <td>47.2</td>\n",
       "      <td>0.095760</td>\n",
       "    </tr>\n",
       "    <tr>\n",
       "      <td>4</td>\n",
       "      <td>Racing</td>\n",
       "      <td>26.4</td>\n",
       "      <td>0.053561</td>\n",
       "    </tr>\n",
       "  </tbody>\n",
       "</table>\n",
       "</div>"
      ],
      "text/plain": [
       "          genre  eu_sales  share_sales\n",
       "0        Action     155.4     0.315277\n",
       "1       Shooter     112.2     0.227632\n",
       "2        Sports      67.5     0.136945\n",
       "3  Role-Playing      47.2     0.095760\n",
       "4        Racing      26.4     0.053561"
      ]
     },
     "metadata": {},
     "output_type": "display_data"
    },
    {
     "data": {
      "image/png": "[encoded data removed]",
      "text/plain": [
       "<Figure size 432x288 with 1 Axes>"
      ]
     },
     "metadata": {},
     "output_type": "display_data"
    }
   ],
   "source": [
    "pivot_eu_genre = topical_data.pivot_table(index='genre', values='eu_sales', aggfunc='sum').sort_values('eu_sales', ascending=False)\n",
    "\n",
    "genre_share_sales_eu = pivot_eu_genre['eu_sales'].sum()\n",
    "pivot_eu_genre ['share_sales'] = pivot_eu_genre['eu_sales'] / genre_share_sales_eu\n",
    "\n",
    "top_eu_genre = pivot_eu_genre.head(5).reset_index()\n",
    "display(top_eu_genre)\n",
    "\n",
    "plt.pie(top_eu_genre['share_sales'], labels=top_eu_genre['genre'], autopct='%.1f%%')\n",
    "plt.show() "
   ]
  },
  {
   "cell_type": "markdown",
   "metadata": {},
   "source": [
    "По жанрам здесь так же однозначное первенство у Action и Shooter. Больше половины продаж."
   ]
  },
  {
   "cell_type": "markdown",
   "metadata": {},
   "source": [
    "### Регион JP"
   ]
  },
  {
   "cell_type": "markdown",
   "metadata": {},
   "source": [
    "Топ 5 популярных платформ"
   ]
  },
  {
   "cell_type": "code",
   "execution_count": 27,
   "metadata": {},
   "outputs": [
    {
     "data": {
      "text/html": [
       "<div>\n",
       "<style scoped>\n",
       "    .dataframe tbody tr th:only-of-type {\n",
       "        vertical-align: middle;\n",
       "    }\n",
       "\n",
       "    .dataframe tbody tr th {\n",
       "        vertical-align: top;\n",
       "    }\n",
       "\n",
       "    .dataframe thead th {\n",
       "        text-align: right;\n",
       "    }\n",
       "</style>\n",
       "<table border=\"1\" class=\"dataframe\">\n",
       "  <thead>\n",
       "    <tr style=\"text-align: right;\">\n",
       "      <th></th>\n",
       "      <th>platform</th>\n",
       "      <th>jp_sales</th>\n",
       "      <th>share_sales</th>\n",
       "    </tr>\n",
       "  </thead>\n",
       "  <tbody>\n",
       "    <tr>\n",
       "      <td>0</td>\n",
       "      <td>3DS</td>\n",
       "      <td>86.9</td>\n",
       "      <td>0.488477</td>\n",
       "    </tr>\n",
       "    <tr>\n",
       "      <td>1</td>\n",
       "      <td>PS3</td>\n",
       "      <td>31.8</td>\n",
       "      <td>0.178752</td>\n",
       "    </tr>\n",
       "    <tr>\n",
       "      <td>2</td>\n",
       "      <td>PSV</td>\n",
       "      <td>17.1</td>\n",
       "      <td>0.096121</td>\n",
       "    </tr>\n",
       "    <tr>\n",
       "      <td>3</td>\n",
       "      <td>PS4</td>\n",
       "      <td>14.0</td>\n",
       "      <td>0.078696</td>\n",
       "    </tr>\n",
       "    <tr>\n",
       "      <td>4</td>\n",
       "      <td>WiiU</td>\n",
       "      <td>12.4</td>\n",
       "      <td>0.069702</td>\n",
       "    </tr>\n",
       "  </tbody>\n",
       "</table>\n",
       "</div>"
      ],
      "text/plain": [
       "  platform  jp_sales  share_sales\n",
       "0      3DS      86.9     0.488477\n",
       "1      PS3      31.8     0.178752\n",
       "2      PSV      17.1     0.096121\n",
       "3      PS4      14.0     0.078696\n",
       "4     WiiU      12.4     0.069702"
      ]
     },
     "metadata": {},
     "output_type": "display_data"
    },
    {
     "data": {
      "image/png": "[encoded data removed]",
      "text/plain": [
       "<Figure size 432x288 with 1 Axes>"
      ]
     },
     "metadata": {},
     "output_type": "display_data"
    }
   ],
   "source": [
    "pivot_jp_platform = topical_data.pivot_table(index='platform', values='jp_sales', aggfunc='sum').sort_values('jp_sales', ascending=False)\n",
    "total_share_sales_jp = pivot_jp_platform['jp_sales'].sum()\n",
    "pivot_jp_platform['share_sales'] = pivot_jp_platform['jp_sales'] / total_share_sales_jp\n",
    "\n",
    "\n",
    "top_share_jp = pivot_jp_platform.head(5).reset_index() \n",
    "display(top_share_jp) \n",
    "\n",
    "plt.pie(top_share_jp['share_sales'], labels=top_share_jp['platform'], autopct='%.1f%%')\n",
    "plt.show() "
   ]
  },
  {
   "cell_type": "markdown",
   "metadata": {},
   "source": [
    "А вот в регионе JP совсем другая картина. Здесь однозначное лидерство держит одна платформа 3DS."
   ]
  },
  {
   "cell_type": "markdown",
   "metadata": {},
   "source": [
    "Топ 5 популярных жанров"
   ]
  },
  {
   "cell_type": "code",
   "execution_count": 28,
   "metadata": {},
   "outputs": [
    {
     "data": {
      "text/html": [
       "<div>\n",
       "<style scoped>\n",
       "    .dataframe tbody tr th:only-of-type {\n",
       "        vertical-align: middle;\n",
       "    }\n",
       "\n",
       "    .dataframe tbody tr th {\n",
       "        vertical-align: top;\n",
       "    }\n",
       "\n",
       "    .dataframe thead th {\n",
       "        text-align: right;\n",
       "    }\n",
       "</style>\n",
       "<table border=\"1\" class=\"dataframe\">\n",
       "  <thead>\n",
       "    <tr style=\"text-align: right;\">\n",
       "      <th></th>\n",
       "      <th>genre</th>\n",
       "      <th>jp_sales</th>\n",
       "      <th>share_sales</th>\n",
       "    </tr>\n",
       "  </thead>\n",
       "  <tbody>\n",
       "    <tr>\n",
       "      <td>0</td>\n",
       "      <td>Role-Playing</td>\n",
       "      <td>63.7</td>\n",
       "      <td>0.358066</td>\n",
       "    </tr>\n",
       "    <tr>\n",
       "      <td>1</td>\n",
       "      <td>Action</td>\n",
       "      <td>47.5</td>\n",
       "      <td>0.267004</td>\n",
       "    </tr>\n",
       "    <tr>\n",
       "      <td>2</td>\n",
       "      <td>Misc</td>\n",
       "      <td>12.3</td>\n",
       "      <td>0.069140</td>\n",
       "    </tr>\n",
       "    <tr>\n",
       "      <td>3</td>\n",
       "      <td>Simulation</td>\n",
       "      <td>10.1</td>\n",
       "      <td>0.056773</td>\n",
       "    </tr>\n",
       "    <tr>\n",
       "      <td>4</td>\n",
       "      <td>Fighting</td>\n",
       "      <td>8.6</td>\n",
       "      <td>0.048342</td>\n",
       "    </tr>\n",
       "  </tbody>\n",
       "</table>\n",
       "</div>"
      ],
      "text/plain": [
       "          genre  jp_sales  share_sales\n",
       "0  Role-Playing      63.7     0.358066\n",
       "1        Action      47.5     0.267004\n",
       "2          Misc      12.3     0.069140\n",
       "3    Simulation      10.1     0.056773\n",
       "4      Fighting       8.6     0.048342"
      ]
     },
     "metadata": {},
     "output_type": "display_data"
    },
    {
     "data": {
      "image/png": "[encoded data removed]",
      "text/plain": [
       "<Figure size 432x288 with 1 Axes>"
      ]
     },
     "metadata": {},
     "output_type": "display_data"
    }
   ],
   "source": [
    "pivot_jp_genre = topical_data.pivot_table(index='genre', values='jp_sales', aggfunc='sum').sort_values('jp_sales', ascending=False)\n",
    "\n",
    "genre_share_sales_jp = pivot_jp_genre['jp_sales'].sum()\n",
    "pivot_jp_genre ['share_sales'] = pivot_jp_genre['jp_sales'] / genre_share_sales_jp\n",
    "\n",
    "top_jp_genre = pivot_jp_genre.head(5).reset_index()\n",
    "display(top_jp_genre)\n",
    "\n",
    "plt.pie(top_jp_genre['share_sales'], labels=top_jp_genre['genre'], autopct='%.1f%%')\n",
    "plt.show() "
   ]
  },
  {
   "cell_type": "markdown",
   "metadata": {},
   "source": [
    "И по жанру игр так же есть значительные отличия. Лидирует здесь Role-Playing. И с достаточно серьёзным отстованием идёт Action. \t"
   ]
  },
  {
   "cell_type": "markdown",
   "metadata": {},
   "source": [
    "### Влияние рейтинга ESRB на продажи"
   ]
  },
  {
   "cell_type": "markdown",
   "metadata": {},
   "source": [
    "Рейтинг ESRB - это определение возрастной группы, для которой предназначена игра.\n",
    "\n",
    "«EC» («Early childhood») — «Для детей младшего возраста»\n",
    "\n",
    "«E» («Everyone») — «Для всех»\n",
    "\n",
    "«E10+» («Everyone 10 and older») — «Для всех от 10 лет и старше»\n",
    "\n",
    "«T» («Teen») — «Подросткам»\n",
    "\n",
    "«M» («Mature») — «Для взрослых»\n",
    "\n",
    "«AO» («Adults Only 18+») — «Только для взрослых»\n",
    "\n",
    "«RP» («Rating Pending») — «Рейтинг ожидается»\n",
    "\n",
    "Что бы не упускать из расчётов игры не имеющие рейтинга заменим пропущенные значения на букву N."
   ]
  },
  {
   "cell_type": "code",
   "execution_count": 29,
   "metadata": {
    "scrolled": false
   },
   "outputs": [
    {
     "data": {
      "text/html": [
       "<div>\n",
       "<style scoped>\n",
       "    .dataframe tbody tr th:only-of-type {\n",
       "        vertical-align: middle;\n",
       "    }\n",
       "\n",
       "    .dataframe tbody tr th {\n",
       "        vertical-align: top;\n",
       "    }\n",
       "\n",
       "    .dataframe thead th {\n",
       "        text-align: right;\n",
       "    }\n",
       "</style>\n",
       "<table border=\"1\" class=\"dataframe\">\n",
       "  <thead>\n",
       "    <tr style=\"text-align: right;\">\n",
       "      <th></th>\n",
       "      <th>rating</th>\n",
       "      <th>na_sales</th>\n",
       "      <th>share_sales</th>\n",
       "    </tr>\n",
       "  </thead>\n",
       "  <tbody>\n",
       "    <tr>\n",
       "      <td>0</td>\n",
       "      <td>M</td>\n",
       "      <td>230.3</td>\n",
       "      <td>0.394349</td>\n",
       "    </tr>\n",
       "    <tr>\n",
       "      <td>1</td>\n",
       "      <td>E</td>\n",
       "      <td>114.1</td>\n",
       "      <td>0.195377</td>\n",
       "    </tr>\n",
       "    <tr>\n",
       "      <td>2</td>\n",
       "      <td>N</td>\n",
       "      <td>101.2</td>\n",
       "      <td>0.173288</td>\n",
       "    </tr>\n",
       "    <tr>\n",
       "      <td>3</td>\n",
       "      <td>E10+</td>\n",
       "      <td>74.2</td>\n",
       "      <td>0.127055</td>\n",
       "    </tr>\n",
       "    <tr>\n",
       "      <td>4</td>\n",
       "      <td>T</td>\n",
       "      <td>64.2</td>\n",
       "      <td>0.109932</td>\n",
       "    </tr>\n",
       "  </tbody>\n",
       "</table>\n",
       "</div>"
      ],
      "text/plain": [
       "  rating  na_sales  share_sales\n",
       "0      M     230.3     0.394349\n",
       "1      E     114.1     0.195377\n",
       "2      N     101.2     0.173288\n",
       "3   E10+      74.2     0.127055\n",
       "4      T      64.2     0.109932"
      ]
     },
     "metadata": {},
     "output_type": "display_data"
    },
    {
     "data": {
      "image/png": "[encoded data removed]",
      "text/plain": [
       "<Figure size 432x288 with 1 Axes>"
      ]
     },
     "metadata": {},
     "output_type": "display_data"
    }
   ],
   "source": [
    "pd.set_option('mode.chained_assignment', None)\n",
    "topical_data['rating'] = topical_data['rating'].fillna('N')\n",
    "\n",
    "\n",
    "pivot_na_rating = topical_data.pivot_table(index='rating', values='na_sales', aggfunc='sum').sort_values('na_sales', ascending=False)\n",
    "\n",
    "total_na_rating = pivot_na_rating['na_sales'].sum()\n",
    "pivot_na_rating['share_sales'] = pivot_na_rating['na_sales'] / total_na_rating\n",
    "\n",
    "\n",
    "pivot_na_rating = pivot_na_rating.reset_index() \n",
    "display(pivot_na_rating) \n",
    "\n",
    "plt.pie(pivot_na_rating['share_sales'], labels=pivot_na_rating['rating'], autopct='%.1f%%')\n",
    "plt.show() "
   ]
  },
  {
   "cell_type": "markdown",
   "metadata": {},
   "source": [
    "В Северной Америке однозначно лидируют игры предназначенные для взрослого населения."
   ]
  },
  {
   "cell_type": "code",
   "execution_count": 30,
   "metadata": {},
   "outputs": [
    {
     "data": {
      "text/html": [
       "<div>\n",
       "<style scoped>\n",
       "    .dataframe tbody tr th:only-of-type {\n",
       "        vertical-align: middle;\n",
       "    }\n",
       "\n",
       "    .dataframe tbody tr th {\n",
       "        vertical-align: top;\n",
       "    }\n",
       "\n",
       "    .dataframe thead th {\n",
       "        text-align: right;\n",
       "    }\n",
       "</style>\n",
       "<table border=\"1\" class=\"dataframe\">\n",
       "  <thead>\n",
       "    <tr style=\"text-align: right;\">\n",
       "      <th></th>\n",
       "      <th>rating</th>\n",
       "      <th>eu_sales</th>\n",
       "      <th>share_sales</th>\n",
       "    </tr>\n",
       "  </thead>\n",
       "  <tbody>\n",
       "    <tr>\n",
       "      <td>0</td>\n",
       "      <td>M</td>\n",
       "      <td>191.9</td>\n",
       "      <td>0.389328</td>\n",
       "    </tr>\n",
       "    <tr>\n",
       "      <td>1</td>\n",
       "      <td>E</td>\n",
       "      <td>109.9</td>\n",
       "      <td>0.222966</td>\n",
       "    </tr>\n",
       "    <tr>\n",
       "      <td>2</td>\n",
       "      <td>N</td>\n",
       "      <td>86.7</td>\n",
       "      <td>0.175898</td>\n",
       "    </tr>\n",
       "    <tr>\n",
       "      <td>3</td>\n",
       "      <td>E10+</td>\n",
       "      <td>54.6</td>\n",
       "      <td>0.110773</td>\n",
       "    </tr>\n",
       "    <tr>\n",
       "      <td>4</td>\n",
       "      <td>T</td>\n",
       "      <td>49.8</td>\n",
       "      <td>0.101035</td>\n",
       "    </tr>\n",
       "  </tbody>\n",
       "</table>\n",
       "</div>"
      ],
      "text/plain": [
       "  rating  eu_sales  share_sales\n",
       "0      M     191.9     0.389328\n",
       "1      E     109.9     0.222966\n",
       "2      N      86.7     0.175898\n",
       "3   E10+      54.6     0.110773\n",
       "4      T      49.8     0.101035"
      ]
     },
     "metadata": {},
     "output_type": "display_data"
    },
    {
     "data": {
      "image/png": "[encoded data removed]",
      "text/plain": [
       "<Figure size 432x288 with 1 Axes>"
      ]
     },
     "metadata": {},
     "output_type": "display_data"
    }
   ],
   "source": [
    "pivot_eu_rating = topical_data.pivot_table(index='rating', values='eu_sales', aggfunc='sum').sort_values('eu_sales', ascending=False)\n",
    "\n",
    "total_eu_rating = pivot_eu_rating['eu_sales'].sum()\n",
    "pivot_eu_rating['share_sales'] = pivot_eu_rating['eu_sales'] / total_eu_rating\n",
    "\n",
    "\n",
    "pivot_eu_rating = pivot_eu_rating.reset_index() \n",
    "display(pivot_eu_rating) \n",
    "\n",
    "plt.pie(pivot_eu_rating['share_sales'], labels=pivot_eu_rating['rating'], autopct='%.1f%%')\n",
    "plt.show() "
   ]
  },
  {
   "cell_type": "markdown",
   "metadata": {},
   "source": [
    "В Европе картина мало чем отличается от Северной Америке"
   ]
  },
  {
   "cell_type": "code",
   "execution_count": 31,
   "metadata": {},
   "outputs": [
    {
     "data": {
      "text/html": [
       "<div>\n",
       "<style scoped>\n",
       "    .dataframe tbody tr th:only-of-type {\n",
       "        vertical-align: middle;\n",
       "    }\n",
       "\n",
       "    .dataframe tbody tr th {\n",
       "        vertical-align: top;\n",
       "    }\n",
       "\n",
       "    .dataframe thead th {\n",
       "        text-align: right;\n",
       "    }\n",
       "</style>\n",
       "<table border=\"1\" class=\"dataframe\">\n",
       "  <thead>\n",
       "    <tr style=\"text-align: right;\">\n",
       "      <th></th>\n",
       "      <th>rating</th>\n",
       "      <th>jp_sales</th>\n",
       "      <th>share_sales</th>\n",
       "    </tr>\n",
       "  </thead>\n",
       "  <tbody>\n",
       "    <tr>\n",
       "      <td>0</td>\n",
       "      <td>N</td>\n",
       "      <td>98.5</td>\n",
       "      <td>0.553682</td>\n",
       "    </tr>\n",
       "    <tr>\n",
       "      <td>1</td>\n",
       "      <td>E</td>\n",
       "      <td>27.5</td>\n",
       "      <td>0.154581</td>\n",
       "    </tr>\n",
       "    <tr>\n",
       "      <td>2</td>\n",
       "      <td>T</td>\n",
       "      <td>24.7</td>\n",
       "      <td>0.138842</td>\n",
       "    </tr>\n",
       "    <tr>\n",
       "      <td>3</td>\n",
       "      <td>M</td>\n",
       "      <td>19.6</td>\n",
       "      <td>0.110174</td>\n",
       "    </tr>\n",
       "    <tr>\n",
       "      <td>4</td>\n",
       "      <td>E10+</td>\n",
       "      <td>7.6</td>\n",
       "      <td>0.042721</td>\n",
       "    </tr>\n",
       "  </tbody>\n",
       "</table>\n",
       "</div>"
      ],
      "text/plain": [
       "  rating  jp_sales  share_sales\n",
       "0      N      98.5     0.553682\n",
       "1      E      27.5     0.154581\n",
       "2      T      24.7     0.138842\n",
       "3      M      19.6     0.110174\n",
       "4   E10+       7.6     0.042721"
      ]
     },
     "metadata": {},
     "output_type": "display_data"
    },
    {
     "data": {
      "image/png": "[encoded data removed]",
      "text/plain": [
       "<Figure size 432x288 with 1 Axes>"
      ]
     },
     "metadata": {},
     "output_type": "display_data"
    }
   ],
   "source": [
    "pivot_jp_rating = topical_data.pivot_table(index='rating', values='jp_sales', aggfunc='sum').sort_values('jp_sales', ascending=False)\n",
    "\n",
    "total_jp_rating = pivot_jp_rating['jp_sales'].sum()\n",
    "pivot_jp_rating['share_sales'] = pivot_jp_rating['jp_sales'] / total_jp_rating\n",
    "\n",
    "\n",
    "pivot_jp_rating = pivot_jp_rating.reset_index() \n",
    "display(pivot_jp_rating) \n",
    "\n",
    "plt.pie(pivot_jp_rating['share_sales'], labels=pivot_jp_rating['rating'], autopct='%.1f%%')\n",
    "plt.show() "
   ]
  },
  {
   "cell_type": "markdown",
   "metadata": {},
   "source": [
    "А вот в Японии совсем всё по другому. Лидируют игры без рйтинга, а за ними уже идут игры для всех и для подростков."
   ]
  },
  {
   "cell_type": "markdown",
   "metadata": {},
   "source": [
    "## Проверка гипотез"
   ]
  },
  {
   "cell_type": "code",
   "execution_count": 32,
   "metadata": {},
   "outputs": [],
   "source": [
    "from scipy import stats as st"
   ]
  },
  {
   "cell_type": "markdown",
   "metadata": {},
   "source": [
    "### Пользовательские рейтинги платформ Xbox One и PC"
   ]
  },
  {
   "cell_type": "code",
   "execution_count": 33,
   "metadata": {},
   "outputs": [
    {
     "name": "stdout",
     "output_type": "stream",
     "text": [
      "count    182.000000\n",
      "mean       6.521429\n",
      "std        1.380941\n",
      "min        1.600000\n",
      "25%        5.800000\n",
      "50%        6.800000\n",
      "75%        7.500000\n",
      "max        9.200000\n",
      "Name: user_score, dtype: float64\n",
      "Дисперсия: 1.8965188383045526\n"
     ]
    },
    {
     "data": {
      "image/png": "[encoded data removed]",
      "text/plain": [
       "<Figure size 432x288 with 1 Axes>"
      ]
     },
     "metadata": {
      "needs_background": "light"
     },
     "output_type": "display_data"
    }
   ],
   "source": [
    "platform_xone = topical_data.query('platform == \"XOne\"')\n",
    "\n",
    "\n",
    "platform_xone['user_score'].plot(kind='hist', title='Пользовательские отзывы')\n",
    "print(platform_xone['user_score'].describe())\n",
    "\n",
    "print('Дисперсия:', np.var(platform_xone['user_score']))"
   ]
  },
  {
   "cell_type": "code",
   "execution_count": 34,
   "metadata": {},
   "outputs": [
    {
     "name": "stdout",
     "output_type": "stream",
     "text": [
      "count    206.000000\n",
      "mean       6.428641\n",
      "std        1.664465\n",
      "min        1.400000\n",
      "25%        5.500000\n",
      "50%        6.800000\n",
      "75%        7.700000\n",
      "max        9.300000\n",
      "Name: user_score, dtype: float64\n",
      "Дисперсия: 2.7569952398906588\n"
     ]
    },
    {
     "data": {
      "image/png": "[encoded data removed]",
      "text/plain": [
       "<Figure size 432x288 with 1 Axes>"
      ]
     },
     "metadata": {
      "needs_background": "light"
     },
     "output_type": "display_data"
    }
   ],
   "source": [
    "platform_pc = topical_data.query('platform == \"PC\"')\n",
    "\n",
    "\n",
    "platform_pc['user_score'].plot(kind='hist', title='Пользовательские отзывы')\n",
    "print(platform_pc['user_score'].describe())\n",
    "\n",
    "print('Дисперсия:', np.var(platform_pc['user_score']))"
   ]
  },
  {
   "cell_type": "markdown",
   "metadata": {},
   "source": [
    "  Гипотеза Н0 - средний пользовательский рейтинг на платформе Xbox равен среднему рейтингу на платформе PC. Гипотеза Н1 - среднии рейтинги не равны.\n",
    "  \n",
    "  Дисперсии разные значит equal_var=False"
   ]
  },
  {
   "cell_type": "code",
   "execution_count": 35,
   "metadata": {},
   "outputs": [
    {
     "name": "stdout",
     "output_type": "stream",
     "text": [
      "p-значение:  0.5489537965134426\n",
      "Не получилось отвергнуть нулевую гипотезу\n"
     ]
    }
   ],
   "source": [
    "alpha = .05\n",
    "results = st.ttest_ind(platform_pc['user_score'], platform_xone['user_score'], equal_var=False, nan_policy = 'omit')\n",
    "print('p-значение: ', results.pvalue)\n",
    "\n",
    "if results.pvalue < alpha:\n",
    "    print(\"Отвергаем нулевую гипотезу\")\n",
    "else:\n",
    "    print(\"Не получилось отвергнуть нулевую гипотезу\")"
   ]
  },
  {
   "cell_type": "markdown",
   "metadata": {},
   "source": [
    "1 Не получилось отвергнуть ннулевую гипотезу. Среднии этих платформ лежат в диапозоне, когда нельзя однозначно сказать, что они не равны.\n",
    "\n",
    "2 Гипотезы формировал по принцыпу- нулевая это равенство средних, а альтернативная соответственно нет. \n",
    "\n",
    "3 В качестве критерия для определения взял столбцы с данными по пользовательскому рейтингу из срезов данных по нужным нам платформам."
   ]
  },
  {
   "cell_type": "markdown",
   "metadata": {},
   "source": [
    "### Пользовательские рейтинги жанров Action и Sports"
   ]
  },
  {
   "cell_type": "code",
   "execution_count": 36,
   "metadata": {},
   "outputs": [
    {
     "name": "stdout",
     "output_type": "stream",
     "text": [
      "count    523.000000\n",
      "mean       6.825048\n",
      "std        1.374440\n",
      "min        1.600000\n",
      "25%        6.250000\n",
      "50%        7.100000\n",
      "75%        7.800000\n",
      "max        9.100000\n",
      "Name: user_score, dtype: float64\n",
      "Дисперсия: 1.8854720340439224\n"
     ]
    },
    {
     "data": {
      "image/png": "[encoded data removed]",
      "text/plain": [
       "<Figure size 432x288 with 1 Axes>"
      ]
     },
     "metadata": {
      "needs_background": "light"
     },
     "output_type": "display_data"
    }
   ],
   "source": [
    "genre_action = topical_data.query('genre == \"Action\"')\n",
    "\n",
    "#display(genre_action)\n",
    "\n",
    "genre_action['user_score'].plot(kind='hist', title='Пользовательские отзывы')\n",
    "print(genre_action['user_score']. describe())\n",
    "\n",
    "print('Дисперсия:', np.var(genre_action['user_score']))"
   ]
  },
  {
   "cell_type": "code",
   "execution_count": 37,
   "metadata": {},
   "outputs": [
    {
     "name": "stdout",
     "output_type": "stream",
     "text": [
      "count    195.000000\n",
      "mean       5.455897\n",
      "std        1.738646\n",
      "min        0.200000\n",
      "25%        4.300000\n",
      "50%        5.700000\n",
      "75%        6.800000\n",
      "max        8.800000\n",
      "Name: user_score, dtype: float64\n",
      "Дисперсия: 3.0073882971729127\n"
     ]
    },
    {
     "data": {
      "image/png": "[encoded data removed]",
      "text/plain": [
       "<Figure size 432x288 with 1 Axes>"
      ]
     },
     "metadata": {
      "needs_background": "light"
     },
     "output_type": "display_data"
    }
   ],
   "source": [
    "genre_sports = topical_data.query('genre == \"Sports\"')\n",
    "genre_sports\n",
    "genre_sports['user_score'].plot(kind='hist', title='Пользовательские отзывы')\n",
    "print(genre_sports['user_score']. describe())\n",
    "\n",
    "print('Дисперсия:', np.var(genre_sports['user_score']))"
   ]
  },
  {
   "cell_type": "markdown",
   "metadata": {},
   "source": [
    "Гипотеза Н0 - Среднии пользовательский рейтинг жанра Action равен среднему рейтингу жанра Sports. Гипотеза Н1 - эти рейтинги не равны.\n",
    "\n",
    "Дисперсии разные значит equal_var=False"
   ]
  },
  {
   "cell_type": "code",
   "execution_count": 38,
   "metadata": {},
   "outputs": [
    {
     "name": "stdout",
     "output_type": "stream",
     "text": [
      "p-значение:  4.2430777657264175e-20\n",
      "Отвергаем нулевую гипотезу\n"
     ]
    }
   ],
   "source": [
    "alpha = .05\n",
    "results = st.ttest_ind(genre_action['user_score'], genre_sports['user_score'], equal_var=False, nan_policy = 'omit')\n",
    "print('p-значение: ', results.pvalue)\n",
    "\n",
    "if results.pvalue < alpha:\n",
    "    print(\"Отвергаем нулевую гипотезу\")\n",
    "else:\n",
    "    print(\"Не получилось отвергнуть нулевую гипотезу\")"
   ]
  },
  {
   "cell_type": "markdown",
   "metadata": {},
   "source": [
    "1  В данном случае нулевую гипотезу отвергли. Среднии по иследуемым жанрам не равны.\n",
    "\n",
    "2  Гипотезы фомировались по такому же приципу, как в предыдущей задаче.\n",
    "\n",
    "3  Критериями взяты данные пользовательских рейтингов из среза данных по интересующим нас жанров игр."
   ]
  },
  {
   "cell_type": "markdown",
   "metadata": {},
   "source": [
    "##  Вывод\n",
    "\n",
    "1  После 2012 идёт серьёзный спад на рынке игр.\n",
    "\n",
    "2  Рынки по регионам отличаются. \n",
    "\n",
    "3  По Северной Америке и Европе надо делать упор на платформы PS4 и XOne, по жанрам Action и Shooter.\n",
    "\n",
    "4  По Японии платформа 3DS. И по жанру игр Role-Playing.\n",
    "\n",
    "5  Так же в Северной Америке и Европе надо делать упор на игры для взрослого населения.\n",
    "\n",
    "6 В Японии для игр категории для всех и подростков."
   ]
  },
  {
   "cell_type": "code",
   "execution_count": null,
   "metadata": {},
   "outputs": [],
   "source": []
  }
 ],
 "metadata": {
  "ExecuteTimeLog": [
   {
    "duration": 755,
    "start_time": "2022-01-17T08:33:59.792Z"
   },
   {
    "duration": 49,
    "start_time": "2022-01-17T08:34:01.354Z"
   },
   {
    "duration": 771,
    "start_time": "2022-01-17T08:34:27.347Z"
   },
   {
    "duration": 51,
    "start_time": "2022-01-17T08:34:28.120Z"
   },
   {
    "duration": 3,
    "start_time": "2022-01-17T08:35:08.648Z"
   },
   {
    "duration": 81,
    "start_time": "2022-01-17T08:35:40.977Z"
   },
   {
    "duration": 57,
    "start_time": "2022-01-17T08:39:48.995Z"
   },
   {
    "duration": 82,
    "start_time": "2022-01-17T08:43:33.770Z"
   },
   {
    "duration": 341,
    "start_time": "2022-01-17T15:05:58.559Z"
   },
   {
    "duration": 773,
    "start_time": "2022-01-17T15:06:11.151Z"
   },
   {
    "duration": 90,
    "start_time": "2022-01-17T15:06:11.927Z"
   },
   {
    "duration": 5,
    "start_time": "2022-01-17T15:06:12.023Z"
   },
   {
    "duration": 75,
    "start_time": "2022-01-17T15:08:05.923Z"
   },
   {
    "duration": 79,
    "start_time": "2022-01-17T15:08:47.961Z"
   },
   {
    "duration": 33,
    "start_time": "2022-01-17T15:27:52.126Z"
   },
   {
    "duration": 30,
    "start_time": "2022-01-17T15:41:57.233Z"
   },
   {
    "duration": 408,
    "start_time": "2022-01-17T15:53:41.882Z"
   },
   {
    "duration": 155,
    "start_time": "2022-01-17T16:59:10.466Z"
   },
   {
    "duration": 133,
    "start_time": "2022-01-17T16:59:42.546Z"
   },
   {
    "duration": 80,
    "start_time": "2022-01-17T17:00:27.916Z"
   },
   {
    "duration": 78,
    "start_time": "2022-01-17T17:01:01.739Z"
   },
   {
    "duration": 93,
    "start_time": "2022-01-17T17:01:17.139Z"
   },
   {
    "duration": 90,
    "start_time": "2022-01-17T17:01:59.970Z"
   },
   {
    "duration": 86,
    "start_time": "2022-01-17T17:02:41.747Z"
   },
   {
    "duration": 87,
    "start_time": "2022-01-17T17:03:19.164Z"
   },
   {
    "duration": 467,
    "start_time": "2022-01-17T17:06:40.750Z"
   },
   {
    "duration": 169,
    "start_time": "2022-01-17T17:07:35.071Z"
   },
   {
    "duration": 7212,
    "start_time": "2022-01-17T17:08:05.815Z"
   },
   {
    "duration": 905,
    "start_time": "2022-01-17T17:08:45.035Z"
   },
   {
    "duration": 155,
    "start_time": "2022-01-17T17:08:45.944Z"
   },
   {
    "duration": 7,
    "start_time": "2022-01-17T17:08:46.102Z"
   },
   {
    "duration": 63,
    "start_time": "2022-01-17T17:08:46.113Z"
   },
   {
    "duration": 399,
    "start_time": "2022-01-17T17:08:46.178Z"
   },
   {
    "duration": 4121,
    "start_time": "2022-01-17T17:09:51.857Z"
   },
   {
    "duration": 3710,
    "start_time": "2022-01-17T17:12:51.324Z"
   },
   {
    "duration": 90,
    "start_time": "2022-01-17T17:15:21.478Z"
   },
   {
    "duration": 3968,
    "start_time": "2022-01-17T17:15:42.084Z"
   },
   {
    "duration": 4363,
    "start_time": "2022-01-17T17:17:11.886Z"
   },
   {
    "duration": 5541,
    "start_time": "2022-01-17T17:18:12.752Z"
   },
   {
    "duration": 3833,
    "start_time": "2022-01-17T17:18:41.728Z"
   },
   {
    "duration": 4247,
    "start_time": "2022-01-17T17:19:03.696Z"
   },
   {
    "duration": 3910,
    "start_time": "2022-01-17T17:21:01.737Z"
   },
   {
    "duration": 4858,
    "start_time": "2022-01-17T17:22:06.122Z"
   },
   {
    "duration": 79,
    "start_time": "2022-01-17T17:22:57.460Z"
   },
   {
    "duration": 7562,
    "start_time": "2022-01-17T17:29:54.826Z"
   },
   {
    "duration": 695,
    "start_time": "2022-01-17T17:30:54.715Z"
   },
   {
    "duration": 89,
    "start_time": "2022-01-17T17:30:55.413Z"
   },
   {
    "duration": 6,
    "start_time": "2022-01-17T17:30:55.506Z"
   },
   {
    "duration": 56,
    "start_time": "2022-01-17T17:30:55.515Z"
   },
   {
    "duration": 3724,
    "start_time": "2022-01-17T17:30:55.574Z"
   },
   {
    "duration": 4008,
    "start_time": "2022-01-17T17:33:10.043Z"
   },
   {
    "duration": 714,
    "start_time": "2022-01-17T17:33:42.816Z"
   },
   {
    "duration": 94,
    "start_time": "2022-01-17T17:33:43.533Z"
   },
   {
    "duration": 5,
    "start_time": "2022-01-17T17:33:43.630Z"
   },
   {
    "duration": 54,
    "start_time": "2022-01-17T17:33:43.637Z"
   },
   {
    "duration": 5686,
    "start_time": "2022-01-17T17:33:43.693Z"
   },
   {
    "duration": 742,
    "start_time": "2022-01-17T17:35:12.055Z"
   },
   {
    "duration": 91,
    "start_time": "2022-01-17T17:35:12.800Z"
   },
   {
    "duration": 5,
    "start_time": "2022-01-17T17:35:12.894Z"
   },
   {
    "duration": 39,
    "start_time": "2022-01-17T17:35:12.902Z"
   },
   {
    "duration": 382,
    "start_time": "2022-01-17T17:35:12.944Z"
   },
   {
    "duration": 729,
    "start_time": "2022-01-17T17:36:11.728Z"
   },
   {
    "duration": 113,
    "start_time": "2022-01-17T17:36:12.460Z"
   },
   {
    "duration": 7,
    "start_time": "2022-01-17T17:36:12.577Z"
   },
   {
    "duration": 44,
    "start_time": "2022-01-17T17:36:12.587Z"
   },
   {
    "duration": 5767,
    "start_time": "2022-01-17T17:36:12.635Z"
   },
   {
    "duration": 3940,
    "start_time": "2022-01-17T17:45:25.403Z"
   },
   {
    "duration": 772,
    "start_time": "2022-01-17T17:45:56.175Z"
   },
   {
    "duration": 95,
    "start_time": "2022-01-17T17:45:56.950Z"
   },
   {
    "duration": 6,
    "start_time": "2022-01-17T17:45:57.048Z"
   },
   {
    "duration": 48,
    "start_time": "2022-01-17T17:45:57.070Z"
   },
   {
    "duration": 4275,
    "start_time": "2022-01-17T17:45:57.120Z"
   },
   {
    "duration": 865,
    "start_time": "2022-01-17T17:47:19.826Z"
   },
   {
    "duration": 98,
    "start_time": "2022-01-17T17:47:20.694Z"
   },
   {
    "duration": 7,
    "start_time": "2022-01-17T17:47:20.795Z"
   },
   {
    "duration": 63,
    "start_time": "2022-01-17T17:47:20.806Z"
   },
   {
    "duration": 4097,
    "start_time": "2022-01-17T17:47:20.872Z"
   },
   {
    "duration": 844,
    "start_time": "2022-01-17T17:47:50.366Z"
   },
   {
    "duration": 101,
    "start_time": "2022-01-17T17:47:51.213Z"
   },
   {
    "duration": 6,
    "start_time": "2022-01-17T17:47:51.318Z"
   },
   {
    "duration": 59,
    "start_time": "2022-01-17T17:47:51.327Z"
   },
   {
    "duration": 3731,
    "start_time": "2022-01-17T17:47:51.389Z"
   },
   {
    "duration": 1002,
    "start_time": "2022-01-17T17:48:47.456Z"
   },
   {
    "duration": 93,
    "start_time": "2022-01-17T17:48:48.461Z"
   },
   {
    "duration": 14,
    "start_time": "2022-01-17T17:48:48.557Z"
   },
   {
    "duration": 37,
    "start_time": "2022-01-17T17:48:48.574Z"
   },
   {
    "duration": 5674,
    "start_time": "2022-01-17T17:48:48.614Z"
   },
   {
    "duration": 939,
    "start_time": "2022-01-17T17:49:31.911Z"
   },
   {
    "duration": 130,
    "start_time": "2022-01-17T17:49:32.854Z"
   },
   {
    "duration": 6,
    "start_time": "2022-01-17T17:49:32.987Z"
   },
   {
    "duration": 47,
    "start_time": "2022-01-17T17:49:32.996Z"
   },
   {
    "duration": 8383,
    "start_time": "2022-01-17T17:49:33.070Z"
   },
   {
    "duration": 746,
    "start_time": "2022-01-17T17:50:39.075Z"
   },
   {
    "duration": 91,
    "start_time": "2022-01-17T17:50:39.824Z"
   },
   {
    "duration": 6,
    "start_time": "2022-01-17T17:50:39.918Z"
   },
   {
    "duration": 59,
    "start_time": "2022-01-17T17:50:39.926Z"
   },
   {
    "duration": 7295,
    "start_time": "2022-01-17T17:50:39.988Z"
   },
   {
    "duration": 745,
    "start_time": "2022-01-17T17:52:13.054Z"
   },
   {
    "duration": 96,
    "start_time": "2022-01-17T17:52:13.801Z"
   },
   {
    "duration": 6,
    "start_time": "2022-01-17T17:52:13.903Z"
   },
   {
    "duration": 65,
    "start_time": "2022-01-17T17:52:13.912Z"
   },
   {
    "duration": 98,
    "start_time": "2022-01-17T17:52:13.979Z"
   },
   {
    "duration": 757,
    "start_time": "2022-01-17T17:52:53.511Z"
   },
   {
    "duration": 104,
    "start_time": "2022-01-17T17:52:54.271Z"
   },
   {
    "duration": 6,
    "start_time": "2022-01-17T17:52:54.378Z"
   },
   {
    "duration": 40,
    "start_time": "2022-01-17T17:52:54.387Z"
   },
   {
    "duration": 2088,
    "start_time": "2022-01-17T17:52:54.429Z"
   },
   {
    "duration": 758,
    "start_time": "2022-01-17T17:54:07.365Z"
   },
   {
    "duration": 99,
    "start_time": "2022-01-17T17:54:08.126Z"
   },
   {
    "duration": 5,
    "start_time": "2022-01-17T17:54:08.229Z"
   },
   {
    "duration": 58,
    "start_time": "2022-01-17T17:54:08.237Z"
   },
   {
    "duration": 370,
    "start_time": "2022-01-17T17:54:08.297Z"
   },
   {
    "duration": 807,
    "start_time": "2022-01-17T17:54:35.042Z"
   },
   {
    "duration": 90,
    "start_time": "2022-01-17T17:54:35.852Z"
   },
   {
    "duration": 5,
    "start_time": "2022-01-17T17:54:35.945Z"
   },
   {
    "duration": 45,
    "start_time": "2022-01-17T17:54:35.953Z"
   },
   {
    "duration": 5723,
    "start_time": "2022-01-17T17:54:36.001Z"
   },
   {
    "duration": 767,
    "start_time": "2022-01-17T17:57:01.293Z"
   },
   {
    "duration": 92,
    "start_time": "2022-01-17T17:57:02.063Z"
   },
   {
    "duration": 6,
    "start_time": "2022-01-17T17:57:02.169Z"
   },
   {
    "duration": 39,
    "start_time": "2022-01-17T17:57:02.178Z"
   },
   {
    "duration": 611,
    "start_time": "2022-01-17T17:57:02.219Z"
   },
   {
    "duration": 799,
    "start_time": "2022-01-17T17:57:32.453Z"
   },
   {
    "duration": 94,
    "start_time": "2022-01-17T17:57:33.255Z"
   },
   {
    "duration": 18,
    "start_time": "2022-01-17T17:57:33.352Z"
   },
   {
    "duration": 37,
    "start_time": "2022-01-17T17:57:33.373Z"
   },
   {
    "duration": 1471,
    "start_time": "2022-01-17T17:57:33.412Z"
   },
   {
    "duration": 754,
    "start_time": "2022-01-17T17:58:05.775Z"
   },
   {
    "duration": 97,
    "start_time": "2022-01-17T17:58:06.532Z"
   },
   {
    "duration": 7,
    "start_time": "2022-01-17T17:58:06.637Z"
   },
   {
    "duration": 35,
    "start_time": "2022-01-17T17:58:06.671Z"
   },
   {
    "duration": 699,
    "start_time": "2022-01-17T17:58:06.709Z"
   },
   {
    "duration": 6329,
    "start_time": "2022-01-17T18:01:22.429Z"
   },
   {
    "duration": 758,
    "start_time": "2022-01-17T18:01:38.353Z"
   },
   {
    "duration": 97,
    "start_time": "2022-01-17T18:01:39.113Z"
   },
   {
    "duration": 5,
    "start_time": "2022-01-17T18:01:39.213Z"
   },
   {
    "duration": 63,
    "start_time": "2022-01-17T18:01:39.220Z"
   },
   {
    "duration": 6161,
    "start_time": "2022-01-17T18:01:39.286Z"
   },
   {
    "duration": 739,
    "start_time": "2022-01-17T18:03:16.713Z"
   },
   {
    "duration": 91,
    "start_time": "2022-01-17T18:03:17.455Z"
   },
   {
    "duration": 19,
    "start_time": "2022-01-17T18:03:17.552Z"
   },
   {
    "duration": 33,
    "start_time": "2022-01-17T18:03:17.573Z"
   },
   {
    "duration": 6090,
    "start_time": "2022-01-17T18:03:17.608Z"
   },
   {
    "duration": 816,
    "start_time": "2022-01-17T18:03:44.660Z"
   },
   {
    "duration": 98,
    "start_time": "2022-01-17T18:03:45.479Z"
   },
   {
    "duration": 6,
    "start_time": "2022-01-17T18:03:45.580Z"
   },
   {
    "duration": 35,
    "start_time": "2022-01-17T18:03:45.590Z"
   },
   {
    "duration": 6124,
    "start_time": "2022-01-17T18:03:45.628Z"
   },
   {
    "duration": 776,
    "start_time": "2022-01-17T18:07:08.755Z"
   },
   {
    "duration": 96,
    "start_time": "2022-01-17T18:07:09.534Z"
   },
   {
    "duration": 5,
    "start_time": "2022-01-17T18:07:09.633Z"
   },
   {
    "duration": 53,
    "start_time": "2022-01-17T18:07:09.640Z"
   },
   {
    "duration": 8533,
    "start_time": "2022-01-17T18:07:09.696Z"
   },
   {
    "duration": 799,
    "start_time": "2022-01-17T18:08:00.979Z"
   },
   {
    "duration": 102,
    "start_time": "2022-01-17T18:08:01.781Z"
   },
   {
    "duration": 6,
    "start_time": "2022-01-17T18:08:01.887Z"
   },
   {
    "duration": 39,
    "start_time": "2022-01-17T18:08:01.896Z"
   },
   {
    "duration": 6423,
    "start_time": "2022-01-17T18:08:01.937Z"
   },
   {
    "duration": 714,
    "start_time": "2022-01-17T18:18:23.821Z"
   },
   {
    "duration": 100,
    "start_time": "2022-01-17T18:18:24.538Z"
   },
   {
    "duration": 5,
    "start_time": "2022-01-17T18:18:24.641Z"
   },
   {
    "duration": 54,
    "start_time": "2022-01-17T18:18:24.649Z"
   },
   {
    "duration": 4036,
    "start_time": "2022-01-17T18:18:24.706Z"
   },
   {
    "duration": 800,
    "start_time": "2022-01-17T18:19:25.569Z"
   },
   {
    "duration": 97,
    "start_time": "2022-01-17T18:19:26.372Z"
   },
   {
    "duration": 5,
    "start_time": "2022-01-17T18:19:26.472Z"
   },
   {
    "duration": 40,
    "start_time": "2022-01-17T18:19:26.479Z"
   },
   {
    "duration": 3735,
    "start_time": "2022-01-17T18:19:26.522Z"
   },
   {
    "duration": 398,
    "start_time": "2022-01-17T18:20:50.609Z"
   },
   {
    "duration": 867,
    "start_time": "2022-01-17T18:21:02.454Z"
   },
   {
    "duration": 132,
    "start_time": "2022-01-17T18:21:03.324Z"
   },
   {
    "duration": 7,
    "start_time": "2022-01-17T18:21:03.468Z"
   },
   {
    "duration": 63,
    "start_time": "2022-01-17T18:21:03.478Z"
   },
   {
    "duration": 4501,
    "start_time": "2022-01-17T18:21:03.544Z"
   },
   {
    "duration": 713,
    "start_time": "2022-01-18T04:02:45.985Z"
   },
   {
    "duration": 91,
    "start_time": "2022-01-18T04:02:46.701Z"
   },
   {
    "duration": 5,
    "start_time": "2022-01-18T04:02:46.796Z"
   },
   {
    "duration": 31,
    "start_time": "2022-01-18T04:02:46.804Z"
   },
   {
    "duration": 3516,
    "start_time": "2022-01-18T04:02:46.838Z"
   },
   {
    "duration": 11,
    "start_time": "2022-01-18T04:02:50.364Z"
   },
   {
    "duration": 370,
    "start_time": "2022-01-18T04:16:32.034Z"
   },
   {
    "duration": 308,
    "start_time": "2022-01-18T04:18:09.548Z"
   },
   {
    "duration": 4,
    "start_time": "2022-01-18T04:26:14.395Z"
   },
   {
    "duration": 297,
    "start_time": "2022-01-18T04:28:46.137Z"
   },
   {
    "duration": 730,
    "start_time": "2022-01-18T04:30:02.776Z"
   },
   {
    "duration": 4,
    "start_time": "2022-01-18T04:30:03.509Z"
   },
   {
    "duration": 100,
    "start_time": "2022-01-18T04:30:03.517Z"
   },
   {
    "duration": 5,
    "start_time": "2022-01-18T04:30:03.621Z"
   },
   {
    "duration": 50,
    "start_time": "2022-01-18T04:30:03.629Z"
   },
   {
    "duration": 383,
    "start_time": "2022-01-18T04:30:03.681Z"
   },
   {
    "duration": 847,
    "start_time": "2022-01-18T04:30:03.220Z"
   },
   {
    "duration": 308,
    "start_time": "2022-01-18T04:31:25.380Z"
   },
   {
    "duration": 324,
    "start_time": "2022-01-18T04:32:43.361Z"
   },
   {
    "duration": 369,
    "start_time": "2022-01-18T04:34:44.699Z"
   },
   {
    "duration": 887,
    "start_time": "2022-01-18T04:36:00.543Z"
   },
   {
    "duration": 4,
    "start_time": "2022-01-18T04:36:01.433Z"
   },
   {
    "duration": 98,
    "start_time": "2022-01-18T04:36:01.441Z"
   },
   {
    "duration": 6,
    "start_time": "2022-01-18T04:36:01.541Z"
   },
   {
    "duration": 31,
    "start_time": "2022-01-18T04:36:01.566Z"
   },
   {
    "duration": 463,
    "start_time": "2022-01-18T04:36:01.600Z"
   },
   {
    "duration": 780,
    "start_time": "2022-01-18T04:36:01.286Z"
   },
   {
    "duration": 53,
    "start_time": "2022-01-18T04:37:30.381Z"
   },
   {
    "duration": 675,
    "start_time": "2022-01-18T04:37:34.243Z"
   },
   {
    "duration": 753,
    "start_time": "2022-01-18T04:38:39.578Z"
   },
   {
    "duration": 3,
    "start_time": "2022-01-18T04:38:40.333Z"
   },
   {
    "duration": 96,
    "start_time": "2022-01-18T04:38:40.339Z"
   },
   {
    "duration": 5,
    "start_time": "2022-01-18T04:38:40.437Z"
   },
   {
    "duration": 55,
    "start_time": "2022-01-18T04:38:40.445Z"
   },
   {
    "duration": 64,
    "start_time": "2022-01-18T04:38:40.502Z"
   },
   {
    "duration": 11,
    "start_time": "2022-01-18T04:38:40.569Z"
   },
   {
    "duration": 709,
    "start_time": "2022-01-18T04:40:42.273Z"
   },
   {
    "duration": 3,
    "start_time": "2022-01-18T04:40:42.985Z"
   },
   {
    "duration": 90,
    "start_time": "2022-01-18T04:40:42.991Z"
   },
   {
    "duration": 6,
    "start_time": "2022-01-18T04:40:43.083Z"
   },
   {
    "duration": 33,
    "start_time": "2022-01-18T04:40:43.091Z"
   },
   {
    "duration": 78,
    "start_time": "2022-01-18T04:40:43.126Z"
   },
   {
    "duration": 11,
    "start_time": "2022-01-18T04:40:43.207Z"
   },
   {
    "duration": 778,
    "start_time": "2022-01-18T06:21:47.338Z"
   },
   {
    "duration": 3,
    "start_time": "2022-01-18T06:21:48.119Z"
   },
   {
    "duration": 96,
    "start_time": "2022-01-18T06:21:48.125Z"
   },
   {
    "duration": 4,
    "start_time": "2022-01-18T06:21:48.224Z"
   },
   {
    "duration": 54,
    "start_time": "2022-01-18T06:21:48.231Z"
   },
   {
    "duration": 71,
    "start_time": "2022-01-18T06:21:48.288Z"
   },
   {
    "duration": 14,
    "start_time": "2022-01-18T06:21:48.362Z"
   },
   {
    "duration": 580,
    "start_time": "2022-01-18T08:26:54.158Z"
   },
   {
    "duration": 2,
    "start_time": "2022-01-18T08:26:54.739Z"
   },
   {
    "duration": 71,
    "start_time": "2022-01-18T08:26:54.744Z"
   },
   {
    "duration": 4,
    "start_time": "2022-01-18T08:26:54.817Z"
   },
   {
    "duration": 26,
    "start_time": "2022-01-18T08:26:54.822Z"
   },
   {
    "duration": 61,
    "start_time": "2022-01-18T08:26:54.849Z"
   },
   {
    "duration": 8,
    "start_time": "2022-01-18T08:26:54.911Z"
   },
   {
    "duration": 586,
    "start_time": "2022-01-18T11:09:38.494Z"
   },
   {
    "duration": 3,
    "start_time": "2022-01-18T11:09:39.082Z"
   },
   {
    "duration": 73,
    "start_time": "2022-01-18T11:09:39.088Z"
   },
   {
    "duration": 4,
    "start_time": "2022-01-18T11:09:39.163Z"
   },
   {
    "duration": 44,
    "start_time": "2022-01-18T11:09:39.169Z"
   },
   {
    "duration": 37,
    "start_time": "2022-01-18T11:09:39.216Z"
   },
   {
    "duration": 9,
    "start_time": "2022-01-18T11:09:39.255Z"
   },
   {
    "duration": 51,
    "start_time": "2022-01-18T11:09:39.266Z"
   },
   {
    "duration": 760,
    "start_time": "2022-01-18T15:06:26.259Z"
   },
   {
    "duration": 3,
    "start_time": "2022-01-18T15:06:27.021Z"
   },
   {
    "duration": 114,
    "start_time": "2022-01-18T15:06:27.033Z"
   },
   {
    "duration": 5,
    "start_time": "2022-01-18T15:06:27.150Z"
   },
   {
    "duration": 72,
    "start_time": "2022-01-18T15:06:27.158Z"
   },
   {
    "duration": 56,
    "start_time": "2022-01-18T15:06:27.235Z"
   },
   {
    "duration": 31,
    "start_time": "2022-01-18T15:06:27.294Z"
   },
   {
    "duration": 39,
    "start_time": "2022-01-18T15:06:27.328Z"
   },
   {
    "duration": 75,
    "start_time": "2022-01-18T15:11:04.447Z"
   },
   {
    "duration": 27,
    "start_time": "2022-01-18T15:11:34.733Z"
   },
   {
    "duration": 52,
    "start_time": "2022-01-18T15:12:20.526Z"
   },
   {
    "duration": 125,
    "start_time": "2022-01-18T15:34:35.180Z"
   },
   {
    "duration": 403,
    "start_time": "2022-01-18T15:34:47.276Z"
   },
   {
    "duration": 469,
    "start_time": "2022-01-18T15:35:06.197Z"
   },
   {
    "duration": 22,
    "start_time": "2022-01-18T15:36:12.381Z"
   },
   {
    "duration": 24,
    "start_time": "2022-01-18T15:36:26.557Z"
   },
   {
    "duration": 13,
    "start_time": "2022-01-18T15:38:36.961Z"
   },
   {
    "duration": 759,
    "start_time": "2022-01-18T15:41:46.956Z"
   },
   {
    "duration": 681,
    "start_time": "2022-01-18T15:43:00.500Z"
   },
   {
    "duration": 878,
    "start_time": "2022-01-18T15:43:34.788Z"
   },
   {
    "duration": 1024,
    "start_time": "2022-01-18T15:57:47.703Z"
   },
   {
    "duration": 737,
    "start_time": "2022-01-18T15:59:16.219Z"
   },
   {
    "duration": 4,
    "start_time": "2022-01-18T15:59:16.958Z"
   },
   {
    "duration": 101,
    "start_time": "2022-01-18T15:59:16.964Z"
   },
   {
    "duration": 5,
    "start_time": "2022-01-18T15:59:17.068Z"
   },
   {
    "duration": 24,
    "start_time": "2022-01-18T15:59:17.076Z"
   },
   {
    "duration": 50,
    "start_time": "2022-01-18T15:59:17.123Z"
   },
   {
    "duration": 11,
    "start_time": "2022-01-18T15:59:17.175Z"
   },
   {
    "duration": 67,
    "start_time": "2022-01-18T15:59:17.189Z"
   },
   {
    "duration": 664,
    "start_time": "2022-01-18T15:59:17.259Z"
   },
   {
    "duration": 25,
    "start_time": "2022-01-18T15:59:17.926Z"
   },
   {
    "duration": 93,
    "start_time": "2022-01-18T16:03:02.330Z"
   },
   {
    "duration": 18,
    "start_time": "2022-01-18T16:03:11.176Z"
   },
   {
    "duration": 5004,
    "start_time": "2022-01-18T16:06:56.147Z"
   },
   {
    "duration": 4793,
    "start_time": "2022-01-18T16:09:27.021Z"
   },
   {
    "duration": 4971,
    "start_time": "2022-01-18T16:15:01.673Z"
   },
   {
    "duration": 4719,
    "start_time": "2022-01-18T16:23:06.590Z"
   },
   {
    "duration": 4721,
    "start_time": "2022-01-18T16:23:53.528Z"
   },
   {
    "duration": 7749,
    "start_time": "2022-01-18T16:26:39.297Z"
   },
   {
    "duration": 4035,
    "start_time": "2022-01-18T16:27:14.226Z"
   },
   {
    "duration": 489,
    "start_time": "2022-01-18T16:32:44.511Z"
   },
   {
    "duration": 310,
    "start_time": "2022-01-18T16:33:22.529Z"
   },
   {
    "duration": 408,
    "start_time": "2022-01-18T16:34:14.223Z"
   },
   {
    "duration": 719,
    "start_time": "2022-01-18T16:34:39.873Z"
   },
   {
    "duration": 3,
    "start_time": "2022-01-18T16:34:40.595Z"
   },
   {
    "duration": 93,
    "start_time": "2022-01-18T16:34:40.601Z"
   },
   {
    "duration": 26,
    "start_time": "2022-01-18T16:34:40.697Z"
   },
   {
    "duration": 23,
    "start_time": "2022-01-18T16:34:40.726Z"
   },
   {
    "duration": 75,
    "start_time": "2022-01-18T16:34:40.751Z"
   },
   {
    "duration": 12,
    "start_time": "2022-01-18T16:34:40.829Z"
   },
   {
    "duration": 35,
    "start_time": "2022-01-18T16:34:40.845Z"
   },
   {
    "duration": 695,
    "start_time": "2022-01-18T16:34:40.885Z"
   },
   {
    "duration": 437,
    "start_time": "2022-01-18T16:34:41.583Z"
   },
   {
    "duration": 7897,
    "start_time": "2022-01-18T16:35:44.449Z"
   },
   {
    "duration": 32,
    "start_time": "2022-01-18T16:36:58.259Z"
   },
   {
    "duration": 3951,
    "start_time": "2022-01-18T16:37:28.034Z"
   },
   {
    "duration": 3985,
    "start_time": "2022-01-18T16:39:21.935Z"
   },
   {
    "duration": 311,
    "start_time": "2022-01-18T16:42:02.382Z"
   },
   {
    "duration": 318,
    "start_time": "2022-01-18T16:43:50.879Z"
   },
   {
    "duration": 3928,
    "start_time": "2022-01-18T16:44:24.552Z"
   },
   {
    "duration": 301,
    "start_time": "2022-01-18T17:05:02.375Z"
   },
   {
    "duration": 5857,
    "start_time": "2022-01-18T17:06:19.183Z"
   },
   {
    "duration": 4081,
    "start_time": "2022-01-18T17:06:43.775Z"
   },
   {
    "duration": 4281,
    "start_time": "2022-01-18T17:08:04.657Z"
   },
   {
    "duration": 4305,
    "start_time": "2022-01-18T17:09:02.385Z"
   },
   {
    "duration": 302,
    "start_time": "2022-01-18T17:12:01.763Z"
   },
   {
    "duration": 4085,
    "start_time": "2022-01-18T17:12:59.060Z"
   },
   {
    "duration": 4495,
    "start_time": "2022-01-18T17:14:12.789Z"
   },
   {
    "duration": 562,
    "start_time": "2022-01-18T17:15:14.894Z"
   },
   {
    "duration": 794,
    "start_time": "2022-01-18T17:20:02.875Z"
   },
   {
    "duration": 553,
    "start_time": "2022-01-18T17:22:32.755Z"
   },
   {
    "duration": 344,
    "start_time": "2022-01-18T17:23:37.004Z"
   },
   {
    "duration": 354,
    "start_time": "2022-01-18T17:25:48.494Z"
   },
   {
    "duration": 350,
    "start_time": "2022-01-18T17:27:48.423Z"
   },
   {
    "duration": 920,
    "start_time": "2022-01-18T17:28:22.761Z"
   },
   {
    "duration": 644,
    "start_time": "2022-01-18T17:34:43.804Z"
   },
   {
    "duration": 562,
    "start_time": "2022-01-18T17:38:40.048Z"
   },
   {
    "duration": 362,
    "start_time": "2022-01-18T17:39:18.832Z"
   },
   {
    "duration": 369,
    "start_time": "2022-01-18T17:41:33.442Z"
   },
   {
    "duration": 380,
    "start_time": "2022-01-18T17:43:04.947Z"
   },
   {
    "duration": 527,
    "start_time": "2022-01-18T17:46:38.885Z"
   },
   {
    "duration": 397,
    "start_time": "2022-01-18T17:47:19.118Z"
   },
   {
    "duration": 372,
    "start_time": "2022-01-18T17:47:43.959Z"
   },
   {
    "duration": 303,
    "start_time": "2022-01-18T17:53:18.563Z"
   },
   {
    "duration": 359,
    "start_time": "2022-01-18T17:53:34.459Z"
   },
   {
    "duration": 357,
    "start_time": "2022-01-18T17:54:44.547Z"
   },
   {
    "duration": 393,
    "start_time": "2022-01-18T17:59:04.279Z"
   },
   {
    "duration": 588,
    "start_time": "2022-01-18T18:01:05.288Z"
   },
   {
    "duration": 381,
    "start_time": "2022-01-18T18:03:25.306Z"
   },
   {
    "duration": 677,
    "start_time": "2022-01-18T18:11:32.400Z"
   },
   {
    "duration": 50,
    "start_time": "2022-01-18T18:32:22.648Z"
   },
   {
    "duration": 582,
    "start_time": "2022-01-19T04:05:05.982Z"
   },
   {
    "duration": 2,
    "start_time": "2022-01-19T04:05:06.567Z"
   },
   {
    "duration": 96,
    "start_time": "2022-01-19T04:05:06.571Z"
   },
   {
    "duration": 4,
    "start_time": "2022-01-19T04:05:06.669Z"
   },
   {
    "duration": 40,
    "start_time": "2022-01-19T04:05:06.674Z"
   },
   {
    "duration": 36,
    "start_time": "2022-01-19T04:05:06.716Z"
   },
   {
    "duration": 7,
    "start_time": "2022-01-19T04:05:06.754Z"
   },
   {
    "duration": 35,
    "start_time": "2022-01-19T04:05:06.763Z"
   },
   {
    "duration": 413,
    "start_time": "2022-01-19T04:05:06.800Z"
   },
   {
    "duration": 305,
    "start_time": "2022-01-19T04:05:07.215Z"
   },
   {
    "duration": 21,
    "start_time": "2022-01-19T04:05:07.522Z"
   },
   {
    "duration": 327,
    "start_time": "2022-01-19T04:14:58.826Z"
   },
   {
    "duration": 20,
    "start_time": "2022-01-19T04:36:45.729Z"
   },
   {
    "duration": 17,
    "start_time": "2022-01-19T04:39:29.394Z"
   },
   {
    "duration": 159,
    "start_time": "2022-01-19T04:39:51.208Z"
   },
   {
    "duration": 207,
    "start_time": "2022-01-19T04:41:00.021Z"
   },
   {
    "duration": 202,
    "start_time": "2022-01-19T04:43:10.317Z"
   },
   {
    "duration": 578,
    "start_time": "2022-01-19T05:38:12.685Z"
   },
   {
    "duration": 2,
    "start_time": "2022-01-19T05:38:13.265Z"
   },
   {
    "duration": 69,
    "start_time": "2022-01-19T05:38:13.269Z"
   },
   {
    "duration": 3,
    "start_time": "2022-01-19T05:38:13.340Z"
   },
   {
    "duration": 33,
    "start_time": "2022-01-19T05:38:13.345Z"
   },
   {
    "duration": 33,
    "start_time": "2022-01-19T05:38:13.380Z"
   },
   {
    "duration": 9,
    "start_time": "2022-01-19T05:38:13.415Z"
   },
   {
    "duration": 44,
    "start_time": "2022-01-19T05:38:13.426Z"
   },
   {
    "duration": 390,
    "start_time": "2022-01-19T05:38:13.472Z"
   },
   {
    "duration": 2,
    "start_time": "2022-01-19T05:38:13.863Z"
   },
   {
    "duration": 231,
    "start_time": "2022-01-19T05:38:13.866Z"
   },
   {
    "duration": 262,
    "start_time": "2022-01-19T05:40:18.727Z"
   },
   {
    "duration": 210,
    "start_time": "2022-01-19T05:49:31.018Z"
   },
   {
    "duration": 577,
    "start_time": "2022-01-19T05:49:54.899Z"
   },
   {
    "duration": 3,
    "start_time": "2022-01-19T05:49:55.478Z"
   },
   {
    "duration": 72,
    "start_time": "2022-01-19T05:49:55.483Z"
   },
   {
    "duration": 4,
    "start_time": "2022-01-19T05:49:55.557Z"
   },
   {
    "duration": 19,
    "start_time": "2022-01-19T05:49:55.563Z"
   },
   {
    "duration": 32,
    "start_time": "2022-01-19T05:49:55.584Z"
   },
   {
    "duration": 8,
    "start_time": "2022-01-19T05:49:55.617Z"
   },
   {
    "duration": 47,
    "start_time": "2022-01-19T05:49:55.627Z"
   },
   {
    "duration": 390,
    "start_time": "2022-01-19T05:49:55.675Z"
   },
   {
    "duration": 2,
    "start_time": "2022-01-19T05:49:56.067Z"
   },
   {
    "duration": 230,
    "start_time": "2022-01-19T05:49:56.071Z"
   },
   {
    "duration": 83,
    "start_time": "2022-01-19T05:54:34.457Z"
   },
   {
    "duration": 278,
    "start_time": "2022-01-19T05:54:52.364Z"
   },
   {
    "duration": 213,
    "start_time": "2022-01-19T06:28:46.896Z"
   },
   {
    "duration": 2,
    "start_time": "2022-01-19T06:30:41.456Z"
   },
   {
    "duration": 2,
    "start_time": "2022-01-19T06:30:56.018Z"
   },
   {
    "duration": 26,
    "start_time": "2022-01-19T06:33:35.619Z"
   },
   {
    "duration": 561,
    "start_time": "2022-01-19T07:07:29.094Z"
   },
   {
    "duration": 2,
    "start_time": "2022-01-19T07:07:29.657Z"
   },
   {
    "duration": 75,
    "start_time": "2022-01-19T07:07:29.661Z"
   },
   {
    "duration": 4,
    "start_time": "2022-01-19T07:07:29.738Z"
   },
   {
    "duration": 23,
    "start_time": "2022-01-19T07:07:29.743Z"
   },
   {
    "duration": 33,
    "start_time": "2022-01-19T07:07:29.768Z"
   },
   {
    "duration": 8,
    "start_time": "2022-01-19T07:07:29.803Z"
   },
   {
    "duration": 24,
    "start_time": "2022-01-19T07:07:29.813Z"
   },
   {
    "duration": 433,
    "start_time": "2022-01-19T07:07:29.839Z"
   },
   {
    "duration": 25,
    "start_time": "2022-01-19T07:07:30.273Z"
   },
   {
    "duration": 246,
    "start_time": "2022-01-19T07:07:30.300Z"
   },
   {
    "duration": 31,
    "start_time": "2022-01-19T07:14:36.183Z"
   },
   {
    "duration": 354,
    "start_time": "2022-01-19T07:14:56.543Z"
   },
   {
    "duration": 83,
    "start_time": "2022-01-19T07:17:37.164Z"
   },
   {
    "duration": 294,
    "start_time": "2022-01-19T07:18:07.962Z"
   },
   {
    "duration": 304,
    "start_time": "2022-01-19T07:18:53.788Z"
   },
   {
    "duration": 318,
    "start_time": "2022-01-19T07:27:14.215Z"
   },
   {
    "duration": 297,
    "start_time": "2022-01-19T07:29:21.977Z"
   },
   {
    "duration": 85,
    "start_time": "2022-01-19T07:37:48.586Z"
   },
   {
    "duration": 821,
    "start_time": "2022-01-19T07:38:42.302Z"
   },
   {
    "duration": 3,
    "start_time": "2022-01-19T07:38:43.126Z"
   },
   {
    "duration": 70,
    "start_time": "2022-01-19T07:38:43.132Z"
   },
   {
    "duration": 4,
    "start_time": "2022-01-19T07:38:43.205Z"
   },
   {
    "duration": 21,
    "start_time": "2022-01-19T07:38:43.212Z"
   },
   {
    "duration": 51,
    "start_time": "2022-01-19T07:38:43.234Z"
   },
   {
    "duration": 8,
    "start_time": "2022-01-19T07:38:43.286Z"
   },
   {
    "duration": 22,
    "start_time": "2022-01-19T07:38:43.296Z"
   },
   {
    "duration": 430,
    "start_time": "2022-01-19T07:38:43.320Z"
   },
   {
    "duration": 391,
    "start_time": "2022-01-19T07:38:43.751Z"
   },
   {
    "duration": 88,
    "start_time": "2022-01-19T07:38:44.143Z"
   },
   {
    "duration": -954,
    "start_time": "2022-01-19T07:38:45.187Z"
   },
   {
    "duration": 298,
    "start_time": "2022-01-19T07:39:09.582Z"
   },
   {
    "duration": 93,
    "start_time": "2022-01-19T07:39:56.734Z"
   },
   {
    "duration": 106,
    "start_time": "2022-01-19T07:41:39.187Z"
   },
   {
    "duration": 87,
    "start_time": "2022-01-19T07:42:25.173Z"
   },
   {
    "duration": 222,
    "start_time": "2022-01-19T07:43:49.740Z"
   },
   {
    "duration": 388,
    "start_time": "2022-01-19T08:42:55.014Z"
   },
   {
    "duration": 260,
    "start_time": "2022-01-19T09:00:45.784Z"
   },
   {
    "duration": 216,
    "start_time": "2022-01-19T09:02:04.259Z"
   },
   {
    "duration": 221,
    "start_time": "2022-01-19T09:03:30.248Z"
   },
   {
    "duration": 579,
    "start_time": "2022-01-19T10:53:12.896Z"
   },
   {
    "duration": 3,
    "start_time": "2022-01-19T10:53:13.477Z"
   },
   {
    "duration": 73,
    "start_time": "2022-01-19T10:53:13.482Z"
   },
   {
    "duration": 4,
    "start_time": "2022-01-19T10:53:13.557Z"
   },
   {
    "duration": 17,
    "start_time": "2022-01-19T10:53:13.563Z"
   },
   {
    "duration": 35,
    "start_time": "2022-01-19T10:53:13.581Z"
   },
   {
    "duration": 8,
    "start_time": "2022-01-19T10:53:13.618Z"
   },
   {
    "duration": 48,
    "start_time": "2022-01-19T10:53:13.628Z"
   },
   {
    "duration": 409,
    "start_time": "2022-01-19T10:53:13.679Z"
   },
   {
    "duration": 328,
    "start_time": "2022-01-19T10:53:14.090Z"
   },
   {
    "duration": 297,
    "start_time": "2022-01-19T10:53:14.421Z"
   },
   {
    "duration": 395,
    "start_time": "2022-01-19T10:53:14.720Z"
   },
   {
    "duration": 368,
    "start_time": "2022-01-19T10:59:56.515Z"
   },
   {
    "duration": 589,
    "start_time": "2022-01-19T11:04:18.882Z"
   },
   {
    "duration": 2,
    "start_time": "2022-01-19T11:04:19.474Z"
   },
   {
    "duration": 94,
    "start_time": "2022-01-19T11:04:19.479Z"
   },
   {
    "duration": 5,
    "start_time": "2022-01-19T11:04:19.576Z"
   },
   {
    "duration": 34,
    "start_time": "2022-01-19T11:04:19.583Z"
   },
   {
    "duration": 42,
    "start_time": "2022-01-19T11:04:19.620Z"
   },
   {
    "duration": 25,
    "start_time": "2022-01-19T11:04:19.665Z"
   },
   {
    "duration": 59,
    "start_time": "2022-01-19T11:04:19.692Z"
   },
   {
    "duration": 618,
    "start_time": "2022-01-19T11:04:19.755Z"
   },
   {
    "duration": 473,
    "start_time": "2022-01-19T11:04:20.375Z"
   },
   {
    "duration": 304,
    "start_time": "2022-01-19T11:04:20.851Z"
   },
   {
    "duration": 384,
    "start_time": "2022-01-19T11:04:21.160Z"
   },
   {
    "duration": 396,
    "start_time": "2022-01-19T11:04:21.546Z"
   },
   {
    "duration": 13,
    "start_time": "2022-01-19T11:05:19.825Z"
   },
   {
    "duration": 13,
    "start_time": "2022-01-19T11:08:42.692Z"
   },
   {
    "duration": 24,
    "start_time": "2022-01-19T11:09:41.494Z"
   },
   {
    "duration": 251,
    "start_time": "2022-01-19T11:11:12.403Z"
   },
   {
    "duration": 23,
    "start_time": "2022-01-19T11:12:04.438Z"
   },
   {
    "duration": 22,
    "start_time": "2022-01-19T11:15:01.688Z"
   },
   {
    "duration": 267,
    "start_time": "2022-01-19T11:17:34.874Z"
   },
   {
    "duration": 23,
    "start_time": "2022-01-19T11:17:58.274Z"
   },
   {
    "duration": 13,
    "start_time": "2022-01-19T11:21:21.751Z"
   },
   {
    "duration": 26,
    "start_time": "2022-01-19T11:22:31.974Z"
   },
   {
    "duration": 591,
    "start_time": "2022-01-19T11:25:23.364Z"
   },
   {
    "duration": 3,
    "start_time": "2022-01-19T11:25:23.957Z"
   },
   {
    "duration": 79,
    "start_time": "2022-01-19T11:25:23.962Z"
   },
   {
    "duration": 4,
    "start_time": "2022-01-19T11:25:24.043Z"
   },
   {
    "duration": 30,
    "start_time": "2022-01-19T11:25:24.049Z"
   },
   {
    "duration": 46,
    "start_time": "2022-01-19T11:25:24.081Z"
   },
   {
    "duration": 8,
    "start_time": "2022-01-19T11:25:24.129Z"
   },
   {
    "duration": 35,
    "start_time": "2022-01-19T11:25:24.139Z"
   },
   {
    "duration": 414,
    "start_time": "2022-01-19T11:25:24.176Z"
   },
   {
    "duration": 320,
    "start_time": "2022-01-19T11:25:24.592Z"
   },
   {
    "duration": 292,
    "start_time": "2022-01-19T11:25:24.914Z"
   },
   {
    "duration": 387,
    "start_time": "2022-01-19T11:25:25.208Z"
   },
   {
    "duration": 26,
    "start_time": "2022-01-19T11:25:25.597Z"
   },
   {
    "duration": 679,
    "start_time": "2022-01-19T12:21:29.317Z"
   },
   {
    "duration": 3,
    "start_time": "2022-01-19T12:21:29.998Z"
   },
   {
    "duration": 98,
    "start_time": "2022-01-19T12:21:30.003Z"
   },
   {
    "duration": 4,
    "start_time": "2022-01-19T12:21:30.103Z"
   },
   {
    "duration": 18,
    "start_time": "2022-01-19T12:21:30.108Z"
   },
   {
    "duration": 63,
    "start_time": "2022-01-19T12:21:30.127Z"
   },
   {
    "duration": 8,
    "start_time": "2022-01-19T12:21:30.192Z"
   },
   {
    "duration": 24,
    "start_time": "2022-01-19T12:21:30.203Z"
   },
   {
    "duration": 479,
    "start_time": "2022-01-19T12:21:30.229Z"
   },
   {
    "duration": 355,
    "start_time": "2022-01-19T12:21:30.711Z"
   },
   {
    "duration": 323,
    "start_time": "2022-01-19T12:21:31.068Z"
   },
   {
    "duration": 432,
    "start_time": "2022-01-19T12:21:31.393Z"
   },
   {
    "duration": 42,
    "start_time": "2022-01-19T12:21:31.827Z"
   },
   {
    "duration": 358,
    "start_time": "2022-01-19T12:24:37.168Z"
   },
   {
    "duration": 270,
    "start_time": "2022-01-19T12:26:37.876Z"
   },
   {
    "duration": 309,
    "start_time": "2022-01-19T12:28:44.914Z"
   },
   {
    "duration": 613,
    "start_time": "2022-01-19T12:29:17.157Z"
   },
   {
    "duration": 2,
    "start_time": "2022-01-19T12:29:17.772Z"
   },
   {
    "duration": 74,
    "start_time": "2022-01-19T12:29:17.776Z"
   },
   {
    "duration": 4,
    "start_time": "2022-01-19T12:29:17.852Z"
   },
   {
    "duration": 36,
    "start_time": "2022-01-19T12:29:17.858Z"
   },
   {
    "duration": 43,
    "start_time": "2022-01-19T12:29:17.896Z"
   },
   {
    "duration": 19,
    "start_time": "2022-01-19T12:29:17.941Z"
   },
   {
    "duration": 33,
    "start_time": "2022-01-19T12:29:17.962Z"
   },
   {
    "duration": 418,
    "start_time": "2022-01-19T12:29:17.998Z"
   },
   {
    "duration": 317,
    "start_time": "2022-01-19T12:29:18.418Z"
   },
   {
    "duration": 303,
    "start_time": "2022-01-19T12:29:18.737Z"
   },
   {
    "duration": 376,
    "start_time": "2022-01-19T12:29:19.042Z"
   },
   {
    "duration": 325,
    "start_time": "2022-01-19T12:29:19.420Z"
   },
   {
    "duration": 1139,
    "start_time": "2022-01-19T12:31:41.193Z"
   },
   {
    "duration": 400,
    "start_time": "2022-01-19T12:33:45.996Z"
   },
   {
    "duration": 372,
    "start_time": "2022-01-19T12:38:31.610Z"
   },
   {
    "duration": 350,
    "start_time": "2022-01-19T12:41:56.852Z"
   },
   {
    "duration": 604,
    "start_time": "2022-01-19T12:42:18.591Z"
   },
   {
    "duration": 3,
    "start_time": "2022-01-19T12:42:19.197Z"
   },
   {
    "duration": 70,
    "start_time": "2022-01-19T12:42:19.202Z"
   },
   {
    "duration": 3,
    "start_time": "2022-01-19T12:42:19.274Z"
   },
   {
    "duration": 18,
    "start_time": "2022-01-19T12:42:19.279Z"
   },
   {
    "duration": 33,
    "start_time": "2022-01-19T12:42:19.299Z"
   },
   {
    "duration": 33,
    "start_time": "2022-01-19T12:42:19.333Z"
   },
   {
    "duration": 21,
    "start_time": "2022-01-19T12:42:19.368Z"
   },
   {
    "duration": 407,
    "start_time": "2022-01-19T12:42:19.392Z"
   },
   {
    "duration": 320,
    "start_time": "2022-01-19T12:42:19.801Z"
   },
   {
    "duration": 299,
    "start_time": "2022-01-19T12:42:20.123Z"
   },
   {
    "duration": 368,
    "start_time": "2022-01-19T12:42:20.424Z"
   },
   {
    "duration": 359,
    "start_time": "2022-01-19T12:42:20.794Z"
   },
   {
    "duration": 311,
    "start_time": "2022-01-19T12:42:52.053Z"
   },
   {
    "duration": 1949,
    "start_time": "2022-01-19T12:43:40.063Z"
   },
   {
    "duration": 660,
    "start_time": "2022-01-19T12:44:35.220Z"
   },
   {
    "duration": 3,
    "start_time": "2022-01-19T12:44:35.883Z"
   },
   {
    "duration": 88,
    "start_time": "2022-01-19T12:44:35.888Z"
   },
   {
    "duration": 5,
    "start_time": "2022-01-19T12:44:35.978Z"
   },
   {
    "duration": 51,
    "start_time": "2022-01-19T12:44:35.985Z"
   },
   {
    "duration": 42,
    "start_time": "2022-01-19T12:44:36.039Z"
   },
   {
    "duration": 19,
    "start_time": "2022-01-19T12:44:36.083Z"
   },
   {
    "duration": 56,
    "start_time": "2022-01-19T12:44:36.105Z"
   },
   {
    "duration": 510,
    "start_time": "2022-01-19T12:44:36.164Z"
   },
   {
    "duration": 358,
    "start_time": "2022-01-19T12:44:36.677Z"
   },
   {
    "duration": 331,
    "start_time": "2022-01-19T12:44:37.038Z"
   },
   {
    "duration": 393,
    "start_time": "2022-01-19T12:44:37.371Z"
   },
   {
    "duration": 2027,
    "start_time": "2022-01-19T12:44:37.766Z"
   },
   {
    "duration": 773,
    "start_time": "2022-01-19T14:37:21.552Z"
   },
   {
    "duration": 4,
    "start_time": "2022-01-19T14:37:22.327Z"
   },
   {
    "duration": 120,
    "start_time": "2022-01-19T14:37:22.334Z"
   },
   {
    "duration": 9,
    "start_time": "2022-01-19T14:37:22.456Z"
   },
   {
    "duration": 49,
    "start_time": "2022-01-19T14:37:22.468Z"
   },
   {
    "duration": 56,
    "start_time": "2022-01-19T14:37:22.520Z"
   },
   {
    "duration": 14,
    "start_time": "2022-01-19T14:37:22.580Z"
   },
   {
    "duration": 68,
    "start_time": "2022-01-19T14:37:22.597Z"
   },
   {
    "duration": 873,
    "start_time": "2022-01-19T14:37:22.670Z"
   },
   {
    "duration": 743,
    "start_time": "2022-01-19T14:37:23.547Z"
   },
   {
    "duration": 454,
    "start_time": "2022-01-19T14:37:24.293Z"
   },
   {
    "duration": 772,
    "start_time": "2022-01-19T14:37:24.750Z"
   },
   {
    "duration": 2162,
    "start_time": "2022-01-19T14:37:25.525Z"
   },
   {
    "duration": 44,
    "start_time": "2022-01-19T14:40:58.902Z"
   },
   {
    "duration": 35,
    "start_time": "2022-01-19T14:51:20.492Z"
   },
   {
    "duration": 477,
    "start_time": "2022-01-19T14:53:12.134Z"
   },
   {
    "duration": 510,
    "start_time": "2022-01-19T14:55:41.783Z"
   },
   {
    "duration": 974,
    "start_time": "2022-01-19T14:56:09.245Z"
   },
   {
    "duration": 1072,
    "start_time": "2022-01-19T14:56:55.440Z"
   },
   {
    "duration": 1161,
    "start_time": "2022-01-19T15:03:19.238Z"
   },
   {
    "duration": 1062,
    "start_time": "2022-01-19T15:04:08.070Z"
   },
   {
    "duration": 4,
    "start_time": "2022-01-19T15:10:42.706Z"
   },
   {
    "duration": 4,
    "start_time": "2022-01-19T15:11:01.915Z"
   },
   {
    "duration": 34,
    "start_time": "2022-01-19T15:15:33.496Z"
   },
   {
    "duration": 508,
    "start_time": "2022-01-19T15:16:14.525Z"
   },
   {
    "duration": 450,
    "start_time": "2022-01-19T15:20:59.483Z"
   },
   {
    "duration": 447,
    "start_time": "2022-01-19T15:21:57.378Z"
   },
   {
    "duration": 243,
    "start_time": "2022-01-19T15:23:33.477Z"
   },
   {
    "duration": 100,
    "start_time": "2022-01-19T15:26:11.045Z"
   },
   {
    "duration": 349,
    "start_time": "2022-01-19T15:26:26.462Z"
   },
   {
    "duration": 59,
    "start_time": "2022-01-19T15:27:07.951Z"
   },
   {
    "duration": 278,
    "start_time": "2022-01-19T15:28:16.527Z"
   },
   {
    "duration": 249,
    "start_time": "2022-01-19T15:29:33.643Z"
   },
   {
    "duration": 367,
    "start_time": "2022-01-19T15:31:34.985Z"
   },
   {
    "duration": 251,
    "start_time": "2022-01-19T15:35:28.164Z"
   },
   {
    "duration": 328,
    "start_time": "2022-01-19T15:35:45.691Z"
   },
   {
    "duration": 251,
    "start_time": "2022-01-19T15:35:59.108Z"
   },
   {
    "duration": 251,
    "start_time": "2022-01-19T15:37:08.709Z"
   },
   {
    "duration": 256,
    "start_time": "2022-01-19T15:37:20.429Z"
   },
   {
    "duration": 35,
    "start_time": "2022-01-19T15:42:46.209Z"
   },
   {
    "duration": 47,
    "start_time": "2022-01-19T15:52:28.450Z"
   },
   {
    "duration": 398,
    "start_time": "2022-01-19T15:54:28.379Z"
   },
   {
    "duration": 256,
    "start_time": "2022-01-19T15:56:17.372Z"
   },
   {
    "duration": 267,
    "start_time": "2022-01-19T15:56:48.348Z"
   },
   {
    "duration": 292,
    "start_time": "2022-01-19T15:57:05.758Z"
   },
   {
    "duration": 54,
    "start_time": "2022-01-19T15:59:13.036Z"
   },
   {
    "duration": 445,
    "start_time": "2022-01-19T16:01:23.472Z"
   },
   {
    "duration": 265,
    "start_time": "2022-01-19T16:08:44.469Z"
   },
   {
    "duration": 728,
    "start_time": "2022-01-19T17:27:26.425Z"
   },
   {
    "duration": 8,
    "start_time": "2022-01-19T17:27:27.156Z"
   },
   {
    "duration": 98,
    "start_time": "2022-01-19T17:27:27.167Z"
   },
   {
    "duration": 6,
    "start_time": "2022-01-19T17:27:27.267Z"
   },
   {
    "duration": 43,
    "start_time": "2022-01-19T17:27:27.275Z"
   },
   {
    "duration": 60,
    "start_time": "2022-01-19T17:27:27.320Z"
   },
   {
    "duration": 11,
    "start_time": "2022-01-19T17:27:27.383Z"
   },
   {
    "duration": 33,
    "start_time": "2022-01-19T17:27:27.398Z"
   },
   {
    "duration": 651,
    "start_time": "2022-01-19T17:27:27.466Z"
   },
   {
    "duration": 1130,
    "start_time": "2022-01-19T17:27:28.120Z"
   },
   {
    "duration": 462,
    "start_time": "2022-01-19T17:27:29.253Z"
   },
   {
    "duration": 213,
    "start_time": "2022-01-19T17:27:29.505Z"
   },
   {
    "duration": 212,
    "start_time": "2022-01-19T17:27:29.507Z"
   },
   {
    "duration": 213,
    "start_time": "2022-01-19T17:27:29.508Z"
   },
   {
    "duration": 212,
    "start_time": "2022-01-19T17:27:29.510Z"
   },
   {
    "duration": 214,
    "start_time": "2022-01-19T17:27:29.510Z"
   },
   {
    "duration": 507,
    "start_time": "2022-01-19T17:28:11.622Z"
   },
   {
    "duration": 771,
    "start_time": "2022-01-19T17:30:44.595Z"
   },
   {
    "duration": 4,
    "start_time": "2022-01-19T17:30:45.369Z"
   },
   {
    "duration": 91,
    "start_time": "2022-01-19T17:30:45.376Z"
   },
   {
    "duration": 6,
    "start_time": "2022-01-19T17:30:45.469Z"
   },
   {
    "duration": 24,
    "start_time": "2022-01-19T17:30:45.477Z"
   },
   {
    "duration": 79,
    "start_time": "2022-01-19T17:30:45.504Z"
   },
   {
    "duration": 11,
    "start_time": "2022-01-19T17:30:45.586Z"
   },
   {
    "duration": 34,
    "start_time": "2022-01-19T17:30:45.600Z"
   },
   {
    "duration": 788,
    "start_time": "2022-01-19T17:30:45.636Z"
   },
   {
    "duration": 1157,
    "start_time": "2022-01-19T17:30:46.426Z"
   },
   {
    "duration": 426,
    "start_time": "2022-01-19T17:30:47.585Z"
   },
   {
    "duration": 605,
    "start_time": "2022-01-19T17:30:48.014Z"
   },
   {
    "duration": 3,
    "start_time": "2022-01-19T17:30:48.622Z"
   },
   {
    "duration": 286,
    "start_time": "2022-01-19T17:30:48.628Z"
   },
   {
    "duration": 281,
    "start_time": "2022-01-19T17:30:48.916Z"
   },
   {
    "duration": 281,
    "start_time": "2022-01-19T17:30:49.200Z"
   },
   {
    "duration": 266,
    "start_time": "2022-01-19T17:38:15.072Z"
   },
   {
    "duration": 746,
    "start_time": "2022-01-19T17:38:44.127Z"
   },
   {
    "duration": 4,
    "start_time": "2022-01-19T17:38:44.875Z"
   },
   {
    "duration": 97,
    "start_time": "2022-01-19T17:38:44.882Z"
   },
   {
    "duration": 5,
    "start_time": "2022-01-19T17:38:44.982Z"
   },
   {
    "duration": 26,
    "start_time": "2022-01-19T17:38:44.990Z"
   },
   {
    "duration": 83,
    "start_time": "2022-01-19T17:38:45.019Z"
   },
   {
    "duration": 14,
    "start_time": "2022-01-19T17:38:45.105Z"
   },
   {
    "duration": 72,
    "start_time": "2022-01-19T17:38:45.122Z"
   },
   {
    "duration": 730,
    "start_time": "2022-01-19T17:38:45.198Z"
   },
   {
    "duration": 1176,
    "start_time": "2022-01-19T17:38:45.931Z"
   },
   {
    "duration": 383,
    "start_time": "2022-01-19T17:38:47.109Z"
   },
   {
    "duration": 581,
    "start_time": "2022-01-19T17:38:47.495Z"
   },
   {
    "duration": 4,
    "start_time": "2022-01-19T17:38:48.079Z"
   },
   {
    "duration": 280,
    "start_time": "2022-01-19T17:38:48.085Z"
   },
   {
    "duration": 272,
    "start_time": "2022-01-19T17:38:48.368Z"
   },
   {
    "duration": 269,
    "start_time": "2022-01-19T17:38:48.644Z"
   },
   {
    "duration": 8459,
    "start_time": "2022-01-19T17:38:48.916Z"
   },
   {
    "duration": 6,
    "start_time": "2022-01-19T17:39:48.208Z"
   },
   {
    "duration": 419,
    "start_time": "2022-01-19T17:48:57.548Z"
   },
   {
    "duration": 561,
    "start_time": "2022-01-19T17:52:00.798Z"
   },
   {
    "duration": 410,
    "start_time": "2022-01-19T18:04:15.624Z"
   },
   {
    "duration": 418,
    "start_time": "2022-01-19T18:04:54.122Z"
   },
   {
    "duration": 385,
    "start_time": "2022-01-19T18:08:47.604Z"
   },
   {
    "duration": 484,
    "start_time": "2022-01-19T18:11:51.302Z"
   },
   {
    "duration": 393,
    "start_time": "2022-01-19T18:21:35.421Z"
   },
   {
    "duration": 753,
    "start_time": "2022-01-20T03:59:23.333Z"
   },
   {
    "duration": 3,
    "start_time": "2022-01-20T03:59:24.089Z"
   },
   {
    "duration": 106,
    "start_time": "2022-01-20T03:59:24.095Z"
   },
   {
    "duration": 6,
    "start_time": "2022-01-20T03:59:24.204Z"
   },
   {
    "duration": 35,
    "start_time": "2022-01-20T03:59:24.212Z"
   },
   {
    "duration": 62,
    "start_time": "2022-01-20T03:59:24.250Z"
   },
   {
    "duration": 13,
    "start_time": "2022-01-20T03:59:24.315Z"
   },
   {
    "duration": 33,
    "start_time": "2022-01-20T03:59:24.364Z"
   },
   {
    "duration": 608,
    "start_time": "2022-01-20T03:59:24.400Z"
   },
   {
    "duration": 1137,
    "start_time": "2022-01-20T03:59:25.011Z"
   },
   {
    "duration": 486,
    "start_time": "2022-01-20T03:59:26.150Z"
   },
   {
    "duration": 582,
    "start_time": "2022-01-20T03:59:26.638Z"
   },
   {
    "duration": 4,
    "start_time": "2022-01-20T03:59:27.222Z"
   },
   {
    "duration": 268,
    "start_time": "2022-01-20T03:59:27.228Z"
   },
   {
    "duration": 272,
    "start_time": "2022-01-20T03:59:27.498Z"
   },
   {
    "duration": 278,
    "start_time": "2022-01-20T03:59:27.772Z"
   },
   {
    "duration": 451,
    "start_time": "2022-01-20T03:59:28.053Z"
   },
   {
    "duration": 451,
    "start_time": "2022-01-20T03:59:28.508Z"
   },
   {
    "duration": 402,
    "start_time": "2022-01-20T03:59:28.965Z"
   },
   {
    "duration": 387,
    "start_time": "2022-01-20T03:59:29.369Z"
   },
   {
    "duration": 393,
    "start_time": "2022-01-20T03:59:29.759Z"
   },
   {
    "duration": 505,
    "start_time": "2022-01-20T03:59:30.154Z"
   },
   {
    "duration": 21,
    "start_time": "2022-01-20T04:09:05.206Z"
   },
   {
    "duration": 20,
    "start_time": "2022-01-20T04:09:44.580Z"
   },
   {
    "duration": 537,
    "start_time": "2022-01-20T04:25:29.884Z"
   },
   {
    "duration": 543,
    "start_time": "2022-01-20T04:30:04.570Z"
   },
   {
    "duration": 382,
    "start_time": "2022-01-20T04:31:50.079Z"
   },
   {
    "duration": 368,
    "start_time": "2022-01-20T04:35:47.706Z"
   },
   {
    "duration": 1055,
    "start_time": "2022-01-20T06:15:21.741Z"
   },
   {
    "duration": 4,
    "start_time": "2022-01-20T06:15:22.799Z"
   },
   {
    "duration": 133,
    "start_time": "2022-01-20T06:15:22.806Z"
   },
   {
    "duration": 6,
    "start_time": "2022-01-20T06:15:22.943Z"
   },
   {
    "duration": 24,
    "start_time": "2022-01-20T06:15:22.951Z"
   },
   {
    "duration": 77,
    "start_time": "2022-01-20T06:15:22.978Z"
   },
   {
    "duration": 11,
    "start_time": "2022-01-20T06:15:23.057Z"
   },
   {
    "duration": 58,
    "start_time": "2022-01-20T06:15:23.072Z"
   },
   {
    "duration": 648,
    "start_time": "2022-01-20T06:15:23.133Z"
   },
   {
    "duration": 1133,
    "start_time": "2022-01-20T06:15:23.784Z"
   },
   {
    "duration": 399,
    "start_time": "2022-01-20T06:15:24.924Z"
   },
   {
    "duration": 608,
    "start_time": "2022-01-20T06:15:25.325Z"
   },
   {
    "duration": 4,
    "start_time": "2022-01-20T06:15:25.935Z"
   },
   {
    "duration": 282,
    "start_time": "2022-01-20T06:15:25.941Z"
   },
   {
    "duration": 267,
    "start_time": "2022-01-20T06:15:26.226Z"
   },
   {
    "duration": 278,
    "start_time": "2022-01-20T06:15:26.495Z"
   },
   {
    "duration": 470,
    "start_time": "2022-01-20T06:15:26.776Z"
   },
   {
    "duration": 394,
    "start_time": "2022-01-20T06:15:27.249Z"
   },
   {
    "duration": 413,
    "start_time": "2022-01-20T06:15:27.645Z"
   },
   {
    "duration": 416,
    "start_time": "2022-01-20T06:15:28.060Z"
   },
   {
    "duration": 423,
    "start_time": "2022-01-20T06:15:28.479Z"
   },
   {
    "duration": 456,
    "start_time": "2022-01-20T06:15:28.905Z"
   },
   {
    "duration": 393,
    "start_time": "2022-01-20T06:15:29.366Z"
   },
   {
    "duration": 20,
    "start_time": "2022-01-20T06:31:23.631Z"
   },
   {
    "duration": 20,
    "start_time": "2022-01-20T06:33:51.387Z"
   },
   {
    "duration": 21,
    "start_time": "2022-01-20T06:35:25.467Z"
   },
   {
    "duration": 403,
    "start_time": "2022-01-20T06:45:09.603Z"
   },
   {
    "duration": 20,
    "start_time": "2022-01-20T06:45:38.644Z"
   },
   {
    "duration": 19,
    "start_time": "2022-01-20T06:54:00.319Z"
   },
   {
    "duration": 22,
    "start_time": "2022-01-20T06:57:43.939Z"
   },
   {
    "duration": 657,
    "start_time": "2022-01-20T08:43:24.005Z"
   },
   {
    "duration": 2,
    "start_time": "2022-01-20T08:43:24.664Z"
   },
   {
    "duration": 67,
    "start_time": "2022-01-20T08:43:24.668Z"
   },
   {
    "duration": 3,
    "start_time": "2022-01-20T08:43:24.737Z"
   },
   {
    "duration": 15,
    "start_time": "2022-01-20T08:43:24.741Z"
   },
   {
    "duration": 28,
    "start_time": "2022-01-20T08:43:24.757Z"
   },
   {
    "duration": 8,
    "start_time": "2022-01-20T08:43:24.786Z"
   },
   {
    "duration": 49,
    "start_time": "2022-01-20T08:43:24.795Z"
   },
   {
    "duration": 365,
    "start_time": "2022-01-20T08:43:24.846Z"
   },
   {
    "duration": 666,
    "start_time": "2022-01-20T08:43:25.213Z"
   },
   {
    "duration": 247,
    "start_time": "2022-01-20T08:43:25.880Z"
   },
   {
    "duration": 381,
    "start_time": "2022-01-20T08:43:26.129Z"
   },
   {
    "duration": 3,
    "start_time": "2022-01-20T08:43:26.511Z"
   },
   {
    "duration": 146,
    "start_time": "2022-01-20T08:43:26.527Z"
   },
   {
    "duration": 160,
    "start_time": "2022-01-20T08:43:26.675Z"
   },
   {
    "duration": 153,
    "start_time": "2022-01-20T08:43:26.837Z"
   },
   {
    "duration": 282,
    "start_time": "2022-01-20T08:43:26.992Z"
   },
   {
    "duration": 265,
    "start_time": "2022-01-20T08:43:27.275Z"
   },
   {
    "duration": 268,
    "start_time": "2022-01-20T08:43:27.541Z"
   },
   {
    "duration": 285,
    "start_time": "2022-01-20T08:43:27.811Z"
   },
   {
    "duration": 294,
    "start_time": "2022-01-20T08:43:28.098Z"
   },
   {
    "duration": 313,
    "start_time": "2022-01-20T08:43:28.394Z"
   },
   {
    "duration": 220,
    "start_time": "2022-01-20T08:43:28.709Z"
   },
   {
    "duration": 12,
    "start_time": "2022-01-20T08:43:28.930Z"
   },
   {
    "duration": 542,
    "start_time": "2022-01-20T08:57:53.346Z"
   },
   {
    "duration": 64,
    "start_time": "2022-01-20T09:00:09.401Z"
   },
   {
    "duration": 13,
    "start_time": "2022-01-20T09:01:37.345Z"
   },
   {
    "duration": 62,
    "start_time": "2022-01-20T09:07:19.791Z"
   },
   {
    "duration": 8294,
    "start_time": "2022-01-20T09:09:30.915Z"
   },
   {
    "duration": 14,
    "start_time": "2022-01-20T09:10:36.908Z"
   },
   {
    "duration": 763,
    "start_time": "2022-01-20T11:01:45.800Z"
   },
   {
    "duration": 3,
    "start_time": "2022-01-20T11:01:46.566Z"
   },
   {
    "duration": 93,
    "start_time": "2022-01-20T11:01:46.572Z"
   },
   {
    "duration": 4,
    "start_time": "2022-01-20T11:01:46.668Z"
   },
   {
    "duration": 26,
    "start_time": "2022-01-20T11:01:46.674Z"
   },
   {
    "duration": 69,
    "start_time": "2022-01-20T11:01:46.702Z"
   },
   {
    "duration": 11,
    "start_time": "2022-01-20T11:01:46.773Z"
   },
   {
    "duration": 58,
    "start_time": "2022-01-20T11:01:46.788Z"
   },
   {
    "duration": 645,
    "start_time": "2022-01-20T11:01:46.849Z"
   },
   {
    "duration": 1163,
    "start_time": "2022-01-20T11:01:47.496Z"
   },
   {
    "duration": 418,
    "start_time": "2022-01-20T11:01:48.662Z"
   },
   {
    "duration": 599,
    "start_time": "2022-01-20T11:01:49.084Z"
   },
   {
    "duration": 3,
    "start_time": "2022-01-20T11:01:49.685Z"
   },
   {
    "duration": 294,
    "start_time": "2022-01-20T11:01:49.691Z"
   },
   {
    "duration": 283,
    "start_time": "2022-01-20T11:01:49.988Z"
   },
   {
    "duration": 281,
    "start_time": "2022-01-20T11:01:50.274Z"
   },
   {
    "duration": 403,
    "start_time": "2022-01-20T11:01:50.557Z"
   },
   {
    "duration": 408,
    "start_time": "2022-01-20T11:01:50.963Z"
   },
   {
    "duration": 417,
    "start_time": "2022-01-20T11:01:51.373Z"
   },
   {
    "duration": 451,
    "start_time": "2022-01-20T11:01:51.792Z"
   },
   {
    "duration": 406,
    "start_time": "2022-01-20T11:01:52.246Z"
   },
   {
    "duration": 517,
    "start_time": "2022-01-20T11:01:52.654Z"
   },
   {
    "duration": 411,
    "start_time": "2022-01-20T11:01:53.175Z"
   },
   {
    "duration": 43,
    "start_time": "2022-01-20T11:01:53.590Z"
   },
   {
    "duration": 8055,
    "start_time": "2022-01-20T11:03:51.521Z"
   },
   {
    "duration": 126,
    "start_time": "2022-01-20T11:07:41.482Z"
   },
   {
    "duration": 141,
    "start_time": "2022-01-20T11:12:10.037Z"
   },
   {
    "duration": 129,
    "start_time": "2022-01-20T11:12:38.356Z"
   },
   {
    "duration": 147,
    "start_time": "2022-01-20T11:19:46.041Z"
   },
   {
    "duration": 732,
    "start_time": "2022-01-20T14:41:18.970Z"
   },
   {
    "duration": 3,
    "start_time": "2022-01-20T14:41:19.705Z"
   },
   {
    "duration": 96,
    "start_time": "2022-01-20T14:41:19.712Z"
   },
   {
    "duration": 14,
    "start_time": "2022-01-20T14:41:19.811Z"
   },
   {
    "duration": 22,
    "start_time": "2022-01-20T14:41:19.827Z"
   },
   {
    "duration": 73,
    "start_time": "2022-01-20T14:41:19.852Z"
   },
   {
    "duration": 10,
    "start_time": "2022-01-20T14:41:19.928Z"
   },
   {
    "duration": 31,
    "start_time": "2022-01-20T14:41:19.943Z"
   },
   {
    "duration": 629,
    "start_time": "2022-01-20T14:41:19.977Z"
   },
   {
    "duration": 1176,
    "start_time": "2022-01-20T14:41:20.609Z"
   },
   {
    "duration": 406,
    "start_time": "2022-01-20T14:41:21.787Z"
   },
   {
    "duration": 770,
    "start_time": "2022-01-20T14:41:22.196Z"
   },
   {
    "duration": 4,
    "start_time": "2022-01-20T14:41:22.969Z"
   },
   {
    "duration": 269,
    "start_time": "2022-01-20T14:41:22.976Z"
   },
   {
    "duration": 273,
    "start_time": "2022-01-20T14:41:23.248Z"
   },
   {
    "duration": 262,
    "start_time": "2022-01-20T14:41:23.524Z"
   },
   {
    "duration": 425,
    "start_time": "2022-01-20T14:41:23.789Z"
   },
   {
    "duration": 366,
    "start_time": "2022-01-20T14:41:24.223Z"
   },
   {
    "duration": 407,
    "start_time": "2022-01-20T14:41:24.592Z"
   },
   {
    "duration": 396,
    "start_time": "2022-01-20T14:41:25.001Z"
   },
   {
    "duration": 405,
    "start_time": "2022-01-20T14:41:25.399Z"
   },
   {
    "duration": 537,
    "start_time": "2022-01-20T14:41:25.806Z"
   },
   {
    "duration": 381,
    "start_time": "2022-01-20T14:41:26.348Z"
   },
   {
    "duration": 148,
    "start_time": "2022-01-20T14:41:26.732Z"
   },
   {
    "duration": 135,
    "start_time": "2022-01-20T14:42:47.074Z"
   },
   {
    "duration": 19,
    "start_time": "2022-01-20T14:53:18.563Z"
   },
   {
    "duration": 25,
    "start_time": "2022-01-20T14:55:01.684Z"
   },
   {
    "duration": 22,
    "start_time": "2022-01-20T15:02:40.794Z"
   },
   {
    "duration": 140,
    "start_time": "2022-01-20T15:04:33.476Z"
   },
   {
    "duration": 136,
    "start_time": "2022-01-20T15:05:54.156Z"
   },
   {
    "duration": 156,
    "start_time": "2022-01-20T15:06:53.918Z"
   },
   {
    "duration": 138,
    "start_time": "2022-01-20T15:20:01.440Z"
   },
   {
    "duration": 136,
    "start_time": "2022-01-20T15:21:23.264Z"
   },
   {
    "duration": 402,
    "start_time": "2022-01-20T15:30:50.399Z"
   },
   {
    "duration": 296,
    "start_time": "2022-01-20T15:31:54.632Z"
   },
   {
    "duration": 8588,
    "start_time": "2022-01-20T15:32:28.519Z"
   },
   {
    "duration": 697,
    "start_time": "2022-01-20T15:34:16.848Z"
   },
   {
    "duration": 3,
    "start_time": "2022-01-20T15:34:17.548Z"
   },
   {
    "duration": 93,
    "start_time": "2022-01-20T15:34:17.555Z"
   },
   {
    "duration": 6,
    "start_time": "2022-01-20T15:34:17.651Z"
   },
   {
    "duration": 25,
    "start_time": "2022-01-20T15:34:17.660Z"
   },
   {
    "duration": 89,
    "start_time": "2022-01-20T15:34:17.687Z"
   },
   {
    "duration": 10,
    "start_time": "2022-01-20T15:34:17.779Z"
   },
   {
    "duration": 60,
    "start_time": "2022-01-20T15:34:17.791Z"
   },
   {
    "duration": 640,
    "start_time": "2022-01-20T15:34:17.855Z"
   },
   {
    "duration": 1253,
    "start_time": "2022-01-20T15:34:18.498Z"
   },
   {
    "duration": 396,
    "start_time": "2022-01-20T15:34:19.753Z"
   },
   {
    "duration": 577,
    "start_time": "2022-01-20T15:34:20.152Z"
   },
   {
    "duration": 3,
    "start_time": "2022-01-20T15:34:20.731Z"
   },
   {
    "duration": 289,
    "start_time": "2022-01-20T15:34:20.737Z"
   },
   {
    "duration": 287,
    "start_time": "2022-01-20T15:34:21.029Z"
   },
   {
    "duration": 288,
    "start_time": "2022-01-20T15:34:21.318Z"
   },
   {
    "duration": 473,
    "start_time": "2022-01-20T15:34:21.609Z"
   },
   {
    "duration": 453,
    "start_time": "2022-01-20T15:34:22.086Z"
   },
   {
    "duration": 429,
    "start_time": "2022-01-20T15:34:22.541Z"
   },
   {
    "duration": 454,
    "start_time": "2022-01-20T15:34:22.973Z"
   },
   {
    "duration": 389,
    "start_time": "2022-01-20T15:34:23.429Z"
   },
   {
    "duration": 503,
    "start_time": "2022-01-20T15:34:23.824Z"
   },
   {
    "duration": 406,
    "start_time": "2022-01-20T15:34:24.331Z"
   },
   {
    "duration": 150,
    "start_time": "2022-01-20T15:34:24.740Z"
   },
   {
    "duration": 158,
    "start_time": "2022-01-20T15:34:24.892Z"
   },
   {
    "duration": 8493,
    "start_time": "2022-01-20T15:34:25.052Z"
   },
   {
    "duration": 596,
    "start_time": "2022-01-20T15:35:45.911Z"
   },
   {
    "duration": 7662,
    "start_time": "2022-01-20T15:39:22.266Z"
   },
   {
    "duration": 155,
    "start_time": "2022-01-20T15:39:51.849Z"
   },
   {
    "duration": 133,
    "start_time": "2022-01-20T15:42:03.899Z"
   },
   {
    "duration": 857,
    "start_time": "2022-01-20T15:46:12.347Z"
   },
   {
    "duration": 3,
    "start_time": "2022-01-20T15:46:13.207Z"
   },
   {
    "duration": 112,
    "start_time": "2022-01-20T15:46:13.214Z"
   },
   {
    "duration": 8,
    "start_time": "2022-01-20T15:46:13.330Z"
   },
   {
    "duration": 34,
    "start_time": "2022-01-20T15:46:13.342Z"
   },
   {
    "duration": 85,
    "start_time": "2022-01-20T15:46:13.379Z"
   },
   {
    "duration": 13,
    "start_time": "2022-01-20T15:46:13.467Z"
   },
   {
    "duration": 77,
    "start_time": "2022-01-20T15:46:13.483Z"
   },
   {
    "duration": 944,
    "start_time": "2022-01-20T15:46:13.566Z"
   },
   {
    "duration": 1260,
    "start_time": "2022-01-20T15:46:14.514Z"
   },
   {
    "duration": 407,
    "start_time": "2022-01-20T15:46:15.778Z"
   },
   {
    "duration": 640,
    "start_time": "2022-01-20T15:46:16.187Z"
   },
   {
    "duration": 4,
    "start_time": "2022-01-20T15:46:16.830Z"
   },
   {
    "duration": 394,
    "start_time": "2022-01-20T15:46:16.837Z"
   },
   {
    "duration": 308,
    "start_time": "2022-01-20T15:46:17.234Z"
   },
   {
    "duration": 291,
    "start_time": "2022-01-20T15:46:17.545Z"
   },
   {
    "duration": 503,
    "start_time": "2022-01-20T15:46:17.838Z"
   },
   {
    "duration": 519,
    "start_time": "2022-01-20T15:46:18.344Z"
   },
   {
    "duration": 575,
    "start_time": "2022-01-20T15:46:18.866Z"
   },
   {
    "duration": 411,
    "start_time": "2022-01-20T15:46:19.444Z"
   },
   {
    "duration": 407,
    "start_time": "2022-01-20T15:46:19.858Z"
   },
   {
    "duration": 501,
    "start_time": "2022-01-20T15:46:20.267Z"
   },
   {
    "duration": 422,
    "start_time": "2022-01-20T15:46:20.771Z"
   },
   {
    "duration": 150,
    "start_time": "2022-01-20T15:46:21.195Z"
   },
   {
    "duration": 174,
    "start_time": "2022-01-20T15:46:21.348Z"
   },
   {
    "duration": 154,
    "start_time": "2022-01-20T15:46:21.524Z"
   },
   {
    "duration": 154,
    "start_time": "2022-01-20T15:51:17.017Z"
   },
   {
    "duration": 155,
    "start_time": "2022-01-20T15:52:33.936Z"
   },
   {
    "duration": 135,
    "start_time": "2022-01-20T15:55:25.778Z"
   },
   {
    "duration": 189,
    "start_time": "2022-01-20T15:56:20.468Z"
   },
   {
    "duration": 135,
    "start_time": "2022-01-20T15:56:43.260Z"
   },
   {
    "duration": 151,
    "start_time": "2022-01-20T15:57:12.741Z"
   },
   {
    "duration": 135,
    "start_time": "2022-01-20T15:57:51.390Z"
   },
   {
    "duration": 224,
    "start_time": "2022-01-20T16:04:06.373Z"
   },
   {
    "duration": 516,
    "start_time": "2022-01-20T16:08:15.544Z"
   },
   {
    "duration": 139,
    "start_time": "2022-01-20T16:08:42.672Z"
   },
   {
    "duration": 134,
    "start_time": "2022-01-20T16:09:11.849Z"
   },
   {
    "duration": 29,
    "start_time": "2022-01-20T16:23:05.858Z"
   },
   {
    "duration": 31,
    "start_time": "2022-01-20T16:24:40.868Z"
   },
   {
    "duration": 35,
    "start_time": "2022-01-20T16:25:21.027Z"
   },
   {
    "duration": 37,
    "start_time": "2022-01-20T16:25:54.642Z"
   },
   {
    "duration": 361,
    "start_time": "2022-01-20T16:47:24.939Z"
   },
   {
    "duration": 355,
    "start_time": "2022-01-20T16:50:00.533Z"
   },
   {
    "duration": 400,
    "start_time": "2022-01-20T16:51:34.294Z"
   },
   {
    "duration": 33,
    "start_time": "2022-01-20T17:06:23.744Z"
   },
   {
    "duration": 8,
    "start_time": "2022-01-20T17:10:11.052Z"
   },
   {
    "duration": 11,
    "start_time": "2022-01-20T17:10:25.411Z"
   },
   {
    "duration": 39,
    "start_time": "2022-01-20T17:13:28.366Z"
   },
   {
    "duration": 43,
    "start_time": "2022-01-20T17:14:12.822Z"
   },
   {
    "duration": 147,
    "start_time": "2022-01-20T17:19:51.915Z"
   },
   {
    "duration": 44,
    "start_time": "2022-01-20T17:20:11.338Z"
   },
   {
    "duration": 41,
    "start_time": "2022-01-20T17:22:04.276Z"
   },
   {
    "duration": 34,
    "start_time": "2022-01-20T17:26:12.965Z"
   },
   {
    "duration": 58,
    "start_time": "2022-01-20T17:27:08.832Z"
   },
   {
    "duration": 20,
    "start_time": "2022-01-20T17:33:39.117Z"
   },
   {
    "duration": 14,
    "start_time": "2022-01-20T17:33:49.829Z"
   },
   {
    "duration": 444,
    "start_time": "2022-01-20T17:36:25.717Z"
   },
   {
    "duration": 3,
    "start_time": "2022-01-20T17:36:52.791Z"
   },
   {
    "duration": 6,
    "start_time": "2022-01-20T17:39:44.593Z"
   },
   {
    "duration": 15,
    "start_time": "2022-01-20T17:44:42.133Z"
   },
   {
    "duration": 15,
    "start_time": "2022-01-20T17:45:15.062Z"
   },
   {
    "duration": 8,
    "start_time": "2022-01-20T17:45:18.190Z"
   },
   {
    "duration": 20,
    "start_time": "2022-01-20T17:47:34.352Z"
   },
   {
    "duration": 20,
    "start_time": "2022-01-20T17:47:51.136Z"
   },
   {
    "duration": 16,
    "start_time": "2022-01-20T17:48:07.471Z"
   },
   {
    "duration": 49,
    "start_time": "2022-01-20T17:53:27.730Z"
   },
   {
    "duration": 18,
    "start_time": "2022-01-20T17:55:38.741Z"
   },
   {
    "duration": 7,
    "start_time": "2022-01-20T17:55:46.926Z"
   },
   {
    "duration": 19,
    "start_time": "2022-01-20T17:56:34.682Z"
   },
   {
    "duration": 37,
    "start_time": "2022-01-20T18:04:58.572Z"
   },
   {
    "duration": 13,
    "start_time": "2022-01-20T18:05:28.883Z"
   },
   {
    "duration": 813,
    "start_time": "2022-01-20T19:12:24.110Z"
   },
   {
    "duration": 3,
    "start_time": "2022-01-20T19:12:24.926Z"
   },
   {
    "duration": 98,
    "start_time": "2022-01-20T19:12:24.932Z"
   },
   {
    "duration": 5,
    "start_time": "2022-01-20T19:12:25.033Z"
   },
   {
    "duration": 26,
    "start_time": "2022-01-20T19:12:25.041Z"
   },
   {
    "duration": 85,
    "start_time": "2022-01-20T19:12:25.069Z"
   },
   {
    "duration": 11,
    "start_time": "2022-01-20T19:12:25.156Z"
   },
   {
    "duration": 64,
    "start_time": "2022-01-20T19:12:25.170Z"
   },
   {
    "duration": 630,
    "start_time": "2022-01-20T19:12:25.238Z"
   },
   {
    "duration": 1206,
    "start_time": "2022-01-20T19:12:25.871Z"
   },
   {
    "duration": 401,
    "start_time": "2022-01-20T19:12:27.080Z"
   },
   {
    "duration": 622,
    "start_time": "2022-01-20T19:12:27.483Z"
   },
   {
    "duration": 15,
    "start_time": "2022-01-20T19:12:28.108Z"
   },
   {
    "duration": 304,
    "start_time": "2022-01-20T19:12:28.125Z"
   },
   {
    "duration": 270,
    "start_time": "2022-01-20T19:12:28.432Z"
   },
   {
    "duration": 274,
    "start_time": "2022-01-20T19:12:28.705Z"
   },
   {
    "duration": 435,
    "start_time": "2022-01-20T19:12:28.982Z"
   },
   {
    "duration": 394,
    "start_time": "2022-01-20T19:12:29.423Z"
   },
   {
    "duration": 403,
    "start_time": "2022-01-20T19:12:29.820Z"
   },
   {
    "duration": 404,
    "start_time": "2022-01-20T19:12:30.226Z"
   },
   {
    "duration": 388,
    "start_time": "2022-01-20T19:12:30.632Z"
   },
   {
    "duration": 467,
    "start_time": "2022-01-20T19:12:31.022Z"
   },
   {
    "duration": 394,
    "start_time": "2022-01-20T19:12:31.496Z"
   },
   {
    "duration": 151,
    "start_time": "2022-01-20T19:12:31.893Z"
   },
   {
    "duration": 161,
    "start_time": "2022-01-20T19:12:32.047Z"
   },
   {
    "duration": 142,
    "start_time": "2022-01-20T19:12:32.223Z"
   },
   {
    "duration": 391,
    "start_time": "2022-01-20T19:12:32.368Z"
   },
   {
    "duration": -164,
    "start_time": "2022-01-20T19:12:32.926Z"
   },
   {
    "duration": -186,
    "start_time": "2022-01-20T19:12:32.950Z"
   },
   {
    "duration": -266,
    "start_time": "2022-01-20T19:12:33.033Z"
   },
   {
    "duration": -290,
    "start_time": "2022-01-20T19:12:33.059Z"
   },
   {
    "duration": -326,
    "start_time": "2022-01-20T19:12:33.097Z"
   },
   {
    "duration": -349,
    "start_time": "2022-01-20T19:12:33.122Z"
   },
   {
    "duration": -380,
    "start_time": "2022-01-20T19:12:33.156Z"
   },
   {
    "duration": -392,
    "start_time": "2022-01-20T19:12:33.170Z"
   },
   {
    "duration": 169,
    "start_time": "2022-01-20T19:13:31.379Z"
   },
   {
    "duration": 328,
    "start_time": "2022-01-20T19:15:39.027Z"
   },
   {
    "duration": 481,
    "start_time": "2022-01-20T19:15:59.612Z"
   },
   {
    "duration": 326,
    "start_time": "2022-01-20T19:16:08.009Z"
   },
   {
    "duration": 706,
    "start_time": "2022-01-20T19:16:39.347Z"
   },
   {
    "duration": 3,
    "start_time": "2022-01-20T19:16:40.056Z"
   },
   {
    "duration": 89,
    "start_time": "2022-01-20T19:16:40.063Z"
   },
   {
    "duration": 5,
    "start_time": "2022-01-20T19:16:40.155Z"
   },
   {
    "duration": 23,
    "start_time": "2022-01-20T19:16:40.163Z"
   },
   {
    "duration": 72,
    "start_time": "2022-01-20T19:16:40.188Z"
   },
   {
    "duration": 9,
    "start_time": "2022-01-20T19:16:40.263Z"
   },
   {
    "duration": 55,
    "start_time": "2022-01-20T19:16:40.276Z"
   },
   {
    "duration": 622,
    "start_time": "2022-01-20T19:16:40.334Z"
   },
   {
    "duration": 1152,
    "start_time": "2022-01-20T19:16:40.959Z"
   },
   {
    "duration": 364,
    "start_time": "2022-01-20T19:16:42.113Z"
   },
   {
    "duration": 598,
    "start_time": "2022-01-20T19:16:42.479Z"
   },
   {
    "duration": 4,
    "start_time": "2022-01-20T19:16:43.079Z"
   },
   {
    "duration": 269,
    "start_time": "2022-01-20T19:16:43.085Z"
   },
   {
    "duration": 269,
    "start_time": "2022-01-20T19:16:43.356Z"
   },
   {
    "duration": 282,
    "start_time": "2022-01-20T19:16:43.628Z"
   },
   {
    "duration": 407,
    "start_time": "2022-01-20T19:16:43.912Z"
   },
   {
    "duration": 400,
    "start_time": "2022-01-20T19:16:44.323Z"
   },
   {
    "duration": 410,
    "start_time": "2022-01-20T19:16:44.725Z"
   },
   {
    "duration": 386,
    "start_time": "2022-01-20T19:16:45.137Z"
   },
   {
    "duration": 381,
    "start_time": "2022-01-20T19:16:45.525Z"
   },
   {
    "duration": 450,
    "start_time": "2022-01-20T19:16:45.908Z"
   },
   {
    "duration": 377,
    "start_time": "2022-01-20T19:16:46.362Z"
   },
   {
    "duration": 149,
    "start_time": "2022-01-20T19:16:46.742Z"
   },
   {
    "duration": 153,
    "start_time": "2022-01-20T19:16:46.894Z"
   },
   {
    "duration": 147,
    "start_time": "2022-01-20T19:16:47.049Z"
   },
   {
    "duration": 157,
    "start_time": "2022-01-20T19:16:47.199Z"
   },
   {
    "duration": 144,
    "start_time": "2022-01-20T19:16:47.358Z"
   },
   {
    "duration": 390,
    "start_time": "2022-01-20T19:16:47.504Z"
   },
   {
    "duration": -175,
    "start_time": "2022-01-20T19:16:48.071Z"
   },
   {
    "duration": -206,
    "start_time": "2022-01-20T19:16:48.103Z"
   },
   {
    "duration": -218,
    "start_time": "2022-01-20T19:16:48.117Z"
   },
   {
    "duration": -240,
    "start_time": "2022-01-20T19:16:48.140Z"
   },
   {
    "duration": -268,
    "start_time": "2022-01-20T19:16:48.170Z"
   },
   {
    "duration": -279,
    "start_time": "2022-01-20T19:16:48.182Z"
   },
   {
    "duration": 145,
    "start_time": "2022-01-20T19:17:18.935Z"
   },
   {
    "duration": 753,
    "start_time": "2022-01-20T19:17:25.548Z"
   },
   {
    "duration": 3,
    "start_time": "2022-01-20T19:17:26.305Z"
   },
   {
    "duration": 107,
    "start_time": "2022-01-20T19:17:26.311Z"
   },
   {
    "duration": 5,
    "start_time": "2022-01-20T19:17:26.421Z"
   },
   {
    "duration": 23,
    "start_time": "2022-01-20T19:17:26.428Z"
   },
   {
    "duration": 75,
    "start_time": "2022-01-20T19:17:26.453Z"
   },
   {
    "duration": 11,
    "start_time": "2022-01-20T19:17:26.530Z"
   },
   {
    "duration": 33,
    "start_time": "2022-01-20T19:17:26.544Z"
   },
   {
    "duration": 793,
    "start_time": "2022-01-20T19:17:26.581Z"
   },
   {
    "duration": 1176,
    "start_time": "2022-01-20T19:17:27.377Z"
   },
   {
    "duration": 403,
    "start_time": "2022-01-20T19:17:28.556Z"
   },
   {
    "duration": 733,
    "start_time": "2022-01-20T19:17:28.962Z"
   },
   {
    "duration": 4,
    "start_time": "2022-01-20T19:17:29.698Z"
   },
   {
    "duration": 298,
    "start_time": "2022-01-20T19:17:29.704Z"
   },
   {
    "duration": 284,
    "start_time": "2022-01-20T19:17:30.005Z"
   },
   {
    "duration": 281,
    "start_time": "2022-01-20T19:17:30.291Z"
   },
   {
    "duration": 437,
    "start_time": "2022-01-20T19:17:30.575Z"
   },
   {
    "duration": 542,
    "start_time": "2022-01-20T19:17:31.015Z"
   },
   {
    "duration": 488,
    "start_time": "2022-01-20T19:17:31.560Z"
   },
   {
    "duration": 426,
    "start_time": "2022-01-20T19:17:32.050Z"
   },
   {
    "duration": 395,
    "start_time": "2022-01-20T19:17:32.478Z"
   },
   {
    "duration": 449,
    "start_time": "2022-01-20T19:17:32.876Z"
   },
   {
    "duration": 385,
    "start_time": "2022-01-20T19:17:33.330Z"
   },
   {
    "duration": 159,
    "start_time": "2022-01-20T19:17:33.717Z"
   },
   {
    "duration": 157,
    "start_time": "2022-01-20T19:17:33.879Z"
   },
   {
    "duration": 149,
    "start_time": "2022-01-20T19:17:34.039Z"
   },
   {
    "duration": 163,
    "start_time": "2022-01-20T19:17:34.190Z"
   },
   {
    "duration": 146,
    "start_time": "2022-01-20T19:17:34.356Z"
   },
   {
    "duration": 143,
    "start_time": "2022-01-20T19:17:34.504Z"
   },
   {
    "duration": 375,
    "start_time": "2022-01-20T19:17:34.650Z"
   },
   {
    "duration": 519,
    "start_time": "2022-01-20T19:17:35.028Z"
   },
   {
    "duration": 15,
    "start_time": "2022-01-20T19:17:35.549Z"
   },
   {
    "duration": 14,
    "start_time": "2022-01-20T19:17:35.566Z"
   },
   {
    "duration": 8,
    "start_time": "2022-01-20T19:17:35.582Z"
   },
   {
    "duration": 13,
    "start_time": "2022-01-20T19:17:35.623Z"
   },
   {
    "duration": 13,
    "start_time": "2022-01-20T19:22:42.567Z"
   },
   {
    "duration": 642,
    "start_time": "2022-01-21T08:50:57.022Z"
   },
   {
    "duration": 2,
    "start_time": "2022-01-21T08:50:57.666Z"
   },
   {
    "duration": 70,
    "start_time": "2022-01-21T08:50:57.669Z"
   },
   {
    "duration": 3,
    "start_time": "2022-01-21T08:50:57.741Z"
   },
   {
    "duration": 14,
    "start_time": "2022-01-21T08:50:57.745Z"
   },
   {
    "duration": 27,
    "start_time": "2022-01-21T08:50:57.761Z"
   },
   {
    "duration": 7,
    "start_time": "2022-01-21T08:50:57.789Z"
   },
   {
    "duration": 47,
    "start_time": "2022-01-21T08:50:57.797Z"
   },
   {
    "duration": 369,
    "start_time": "2022-01-21T08:50:57.846Z"
   },
   {
    "duration": 668,
    "start_time": "2022-01-21T08:50:58.217Z"
   },
   {
    "duration": 249,
    "start_time": "2022-01-21T08:50:58.887Z"
   },
   {
    "duration": 359,
    "start_time": "2022-01-21T08:50:59.137Z"
   },
   {
    "duration": 3,
    "start_time": "2022-01-21T08:50:59.498Z"
   },
   {
    "duration": 165,
    "start_time": "2022-01-21T08:50:59.502Z"
   },
   {
    "duration": 162,
    "start_time": "2022-01-21T08:50:59.668Z"
   },
   {
    "duration": 155,
    "start_time": "2022-01-21T08:50:59.832Z"
   },
   {
    "duration": 300,
    "start_time": "2022-01-21T08:50:59.989Z"
   },
   {
    "duration": 300,
    "start_time": "2022-01-21T08:51:00.291Z"
   },
   {
    "duration": 291,
    "start_time": "2022-01-21T08:51:00.592Z"
   },
   {
    "duration": 284,
    "start_time": "2022-01-21T08:51:00.885Z"
   },
   {
    "duration": 280,
    "start_time": "2022-01-21T08:51:01.171Z"
   },
   {
    "duration": 372,
    "start_time": "2022-01-21T08:51:01.453Z"
   },
   {
    "duration": 221,
    "start_time": "2022-01-21T08:51:01.831Z"
   },
   {
    "duration": 91,
    "start_time": "2022-01-21T08:51:02.053Z"
   },
   {
    "duration": 88,
    "start_time": "2022-01-21T08:51:02.145Z"
   },
   {
    "duration": 76,
    "start_time": "2022-01-21T08:51:02.235Z"
   },
   {
    "duration": 82,
    "start_time": "2022-01-21T08:51:02.328Z"
   },
   {
    "duration": 95,
    "start_time": "2022-01-21T08:51:02.412Z"
   },
   {
    "duration": 88,
    "start_time": "2022-01-21T08:51:02.510Z"
   },
   {
    "duration": 223,
    "start_time": "2022-01-21T08:51:02.600Z"
   },
   {
    "duration": 382,
    "start_time": "2022-01-21T08:51:02.827Z"
   },
   {
    "duration": 16,
    "start_time": "2022-01-21T08:51:03.211Z"
   },
   {
    "duration": 13,
    "start_time": "2022-01-21T08:51:03.235Z"
   },
   {
    "duration": 32,
    "start_time": "2022-01-21T08:51:03.249Z"
   },
   {
    "duration": 20,
    "start_time": "2022-01-21T08:51:03.283Z"
   },
   {
    "duration": 190,
    "start_time": "2022-01-21T08:57:33.969Z"
   },
   {
    "duration": 172,
    "start_time": "2022-01-21T08:59:42.440Z"
   },
   {
    "duration": 165,
    "start_time": "2022-01-21T09:02:35.158Z"
   },
   {
    "duration": 176,
    "start_time": "2022-01-21T09:05:42.319Z"
   },
   {
    "duration": 20,
    "start_time": "2022-01-21T09:08:06.841Z"
   },
   {
    "duration": 161,
    "start_time": "2022-01-21T09:10:18.439Z"
   },
   {
    "duration": 6,
    "start_time": "2022-01-21T09:18:22.104Z"
   },
   {
    "duration": 957,
    "start_time": "2022-01-26T08:42:16.664Z"
   },
   {
    "duration": 91,
    "start_time": "2022-01-26T08:42:17.624Z"
   },
   {
    "duration": 6,
    "start_time": "2022-01-26T08:42:17.718Z"
   },
   {
    "duration": 54,
    "start_time": "2022-01-26T08:42:17.727Z"
   },
   {
    "duration": 45,
    "start_time": "2022-01-26T08:42:17.784Z"
   },
   {
    "duration": 18,
    "start_time": "2022-01-26T08:42:17.848Z"
   },
   {
    "duration": 35,
    "start_time": "2022-01-26T08:42:17.869Z"
   },
   {
    "duration": 628,
    "start_time": "2022-01-26T08:42:17.907Z"
   },
   {
    "duration": 1234,
    "start_time": "2022-01-26T08:42:18.540Z"
   },
   {
    "duration": 488,
    "start_time": "2022-01-26T08:42:19.779Z"
   },
   {
    "duration": 673,
    "start_time": "2022-01-26T08:42:20.269Z"
   },
   {
    "duration": 290,
    "start_time": "2022-01-26T08:42:20.945Z"
   },
   {
    "duration": 290,
    "start_time": "2022-01-26T08:42:21.238Z"
   },
   {
    "duration": 317,
    "start_time": "2022-01-26T08:42:21.531Z"
   },
   {
    "duration": 451,
    "start_time": "2022-01-26T08:42:21.852Z"
   },
   {
    "duration": 469,
    "start_time": "2022-01-26T08:42:22.305Z"
   },
   {
    "duration": 435,
    "start_time": "2022-01-26T08:42:22.777Z"
   },
   {
    "duration": 454,
    "start_time": "2022-01-26T08:42:23.215Z"
   },
   {
    "duration": 420,
    "start_time": "2022-01-26T08:42:23.672Z"
   },
   {
    "duration": 456,
    "start_time": "2022-01-26T08:42:24.095Z"
   },
   {
    "duration": 595,
    "start_time": "2022-01-26T08:42:24.554Z"
   },
   {
    "duration": 164,
    "start_time": "2022-01-26T08:42:25.153Z"
   },
   {
    "duration": 161,
    "start_time": "2022-01-26T08:42:25.320Z"
   },
   {
    "duration": 156,
    "start_time": "2022-01-26T08:42:25.483Z"
   },
   {
    "duration": 167,
    "start_time": "2022-01-26T08:42:25.653Z"
   },
   {
    "duration": 149,
    "start_time": "2022-01-26T08:42:25.823Z"
   },
   {
    "duration": 168,
    "start_time": "2022-01-26T08:42:25.977Z"
   },
   {
    "duration": 400,
    "start_time": "2022-01-26T08:42:26.148Z"
   },
   {
    "duration": 512,
    "start_time": "2022-01-26T08:42:26.552Z"
   },
   {
    "duration": 359,
    "start_time": "2022-01-26T08:42:27.067Z"
   },
   {
    "duration": 339,
    "start_time": "2022-01-26T08:42:27.429Z"
   },
   {
    "duration": 9,
    "start_time": "2022-01-26T08:42:27.771Z"
   },
   {
    "duration": 361,
    "start_time": "2022-01-26T08:42:27.782Z"
   },
   {
    "duration": 320,
    "start_time": "2022-01-26T08:42:28.152Z"
   },
   {
    "duration": 10,
    "start_time": "2022-01-26T08:42:28.475Z"
   },
   {
    "duration": 14,
    "start_time": "2022-01-26T08:47:46.206Z"
   },
   {
    "duration": 478,
    "start_time": "2022-01-26T08:48:05.982Z"
   },
   {
    "duration": 440,
    "start_time": "2022-01-26T08:51:36.407Z"
   },
   {
    "duration": 434,
    "start_time": "2022-01-26T09:14:58.880Z"
   },
   {
    "duration": 905,
    "start_time": "2022-01-26T09:15:33.417Z"
   },
   {
    "duration": 94,
    "start_time": "2022-01-26T09:15:34.325Z"
   },
   {
    "duration": 6,
    "start_time": "2022-01-26T09:15:34.422Z"
   },
   {
    "duration": 49,
    "start_time": "2022-01-26T09:15:34.431Z"
   },
   {
    "duration": 75,
    "start_time": "2022-01-26T09:15:34.484Z"
   },
   {
    "duration": 11,
    "start_time": "2022-01-26T09:15:34.562Z"
   },
   {
    "duration": 26,
    "start_time": "2022-01-26T09:15:34.576Z"
   },
   {
    "duration": 56,
    "start_time": "2022-01-26T09:15:34.607Z"
   },
   {
    "duration": 619,
    "start_time": "2022-01-26T09:15:34.667Z"
   },
   {
    "duration": 1194,
    "start_time": "2022-01-26T09:15:35.289Z"
   },
   {
    "duration": 513,
    "start_time": "2022-01-26T09:15:36.486Z"
   },
   {
    "duration": 730,
    "start_time": "2022-01-26T09:15:37.001Z"
   },
   {
    "duration": 363,
    "start_time": "2022-01-26T09:15:37.734Z"
   },
   {
    "duration": 301,
    "start_time": "2022-01-26T09:15:38.099Z"
   },
   {
    "duration": 308,
    "start_time": "2022-01-26T09:15:38.402Z"
   },
   {
    "duration": 474,
    "start_time": "2022-01-26T09:15:38.712Z"
   },
   {
    "duration": 427,
    "start_time": "2022-01-26T09:15:39.188Z"
   },
   {
    "duration": 480,
    "start_time": "2022-01-26T09:15:39.619Z"
   },
   {
    "duration": 464,
    "start_time": "2022-01-26T09:15:40.102Z"
   },
   {
    "duration": 457,
    "start_time": "2022-01-26T09:15:40.569Z"
   },
   {
    "duration": 535,
    "start_time": "2022-01-26T09:15:41.029Z"
   },
   {
    "duration": 552,
    "start_time": "2022-01-26T09:15:41.567Z"
   },
   {
    "duration": 188,
    "start_time": "2022-01-26T09:15:42.124Z"
   },
   {
    "duration": 171,
    "start_time": "2022-01-26T09:15:42.317Z"
   },
   {
    "duration": 162,
    "start_time": "2022-01-26T09:15:42.491Z"
   },
   {
    "duration": 216,
    "start_time": "2022-01-26T09:15:42.656Z"
   },
   {
    "duration": 168,
    "start_time": "2022-01-26T09:15:42.874Z"
   },
   {
    "duration": 175,
    "start_time": "2022-01-26T09:15:43.044Z"
   },
   {
    "duration": 426,
    "start_time": "2022-01-26T09:15:43.223Z"
   },
   {
    "duration": 496,
    "start_time": "2022-01-26T09:15:43.652Z"
   },
   {
    "duration": 368,
    "start_time": "2022-01-26T09:15:44.152Z"
   },
   {
    "duration": 374,
    "start_time": "2022-01-26T09:15:44.522Z"
   },
   {
    "duration": 9,
    "start_time": "2022-01-26T09:15:44.899Z"
   },
   {
    "duration": 368,
    "start_time": "2022-01-26T09:15:44.911Z"
   },
   {
    "duration": 343,
    "start_time": "2022-01-26T09:15:45.282Z"
   },
   {
    "duration": 22,
    "start_time": "2022-01-26T09:15:45.627Z"
   },
   {
    "duration": 30,
    "start_time": "2022-01-26T09:15:58.337Z"
   },
   {
    "duration": 635,
    "start_time": "2022-01-26T09:17:02.051Z"
   },
   {
    "duration": 870,
    "start_time": "2022-01-26T09:17:11.596Z"
   },
   {
    "duration": 87,
    "start_time": "2022-01-26T09:17:12.469Z"
   },
   {
    "duration": 7,
    "start_time": "2022-01-26T09:17:12.559Z"
   },
   {
    "duration": 35,
    "start_time": "2022-01-26T09:17:12.570Z"
   },
   {
    "duration": 88,
    "start_time": "2022-01-26T09:17:12.608Z"
   },
   {
    "duration": 14,
    "start_time": "2022-01-26T09:17:12.699Z"
   },
   {
    "duration": 461,
    "start_time": "2022-01-26T09:17:12.716Z"
   },
   {
    "duration": 294,
    "start_time": "2022-01-26T09:17:12.888Z"
   },
   {
    "duration": 291,
    "start_time": "2022-01-26T09:17:12.893Z"
   },
   {
    "duration": 290,
    "start_time": "2022-01-26T09:17:12.896Z"
   },
   {
    "duration": 289,
    "start_time": "2022-01-26T09:17:12.898Z"
   },
   {
    "duration": 288,
    "start_time": "2022-01-26T09:17:12.901Z"
   },
   {
    "duration": 282,
    "start_time": "2022-01-26T09:17:12.908Z"
   },
   {
    "duration": 282,
    "start_time": "2022-01-26T09:17:12.910Z"
   },
   {
    "duration": 280,
    "start_time": "2022-01-26T09:17:12.913Z"
   },
   {
    "duration": 280,
    "start_time": "2022-01-26T09:17:12.915Z"
   },
   {
    "duration": 275,
    "start_time": "2022-01-26T09:17:12.922Z"
   },
   {
    "duration": 253,
    "start_time": "2022-01-26T09:17:12.946Z"
   },
   {
    "duration": 251,
    "start_time": "2022-01-26T09:17:12.949Z"
   },
   {
    "duration": 250,
    "start_time": "2022-01-26T09:17:12.952Z"
   },
   {
    "duration": 249,
    "start_time": "2022-01-26T09:17:12.955Z"
   },
   {
    "duration": 244,
    "start_time": "2022-01-26T09:17:12.961Z"
   },
   {
    "duration": 243,
    "start_time": "2022-01-26T09:17:12.964Z"
   },
   {
    "duration": 242,
    "start_time": "2022-01-26T09:17:12.966Z"
   },
   {
    "duration": 241,
    "start_time": "2022-01-26T09:17:12.969Z"
   },
   {
    "duration": 236,
    "start_time": "2022-01-26T09:17:12.975Z"
   },
   {
    "duration": 235,
    "start_time": "2022-01-26T09:17:12.978Z"
   },
   {
    "duration": 233,
    "start_time": "2022-01-26T09:17:12.981Z"
   },
   {
    "duration": 227,
    "start_time": "2022-01-26T09:17:12.989Z"
   },
   {
    "duration": 225,
    "start_time": "2022-01-26T09:17:12.993Z"
   },
   {
    "duration": 225,
    "start_time": "2022-01-26T09:17:12.994Z"
   },
   {
    "duration": 254,
    "start_time": "2022-01-26T09:17:13.003Z"
   },
   {
    "duration": 254,
    "start_time": "2022-01-26T09:17:13.005Z"
   },
   {
    "duration": 244,
    "start_time": "2022-01-26T09:17:13.017Z"
   },
   {
    "duration": 235,
    "start_time": "2022-01-26T09:17:13.027Z"
   },
   {
    "duration": 234,
    "start_time": "2022-01-26T09:17:13.030Z"
   },
   {
    "duration": 292,
    "start_time": "2022-01-26T09:18:09.482Z"
   },
   {
    "duration": 936,
    "start_time": "2022-01-26T09:18:17.144Z"
   },
   {
    "duration": 89,
    "start_time": "2022-01-26T09:18:18.083Z"
   },
   {
    "duration": 6,
    "start_time": "2022-01-26T09:18:18.179Z"
   },
   {
    "duration": 32,
    "start_time": "2022-01-26T09:18:18.187Z"
   },
   {
    "duration": 77,
    "start_time": "2022-01-26T09:18:18.222Z"
   },
   {
    "duration": 11,
    "start_time": "2022-01-26T09:18:18.302Z"
   },
   {
    "duration": 50,
    "start_time": "2022-01-26T09:18:18.315Z"
   },
   {
    "duration": 35,
    "start_time": "2022-01-26T09:18:18.370Z"
   },
   {
    "duration": 660,
    "start_time": "2022-01-26T09:18:18.408Z"
   },
   {
    "duration": 1207,
    "start_time": "2022-01-26T09:18:19.072Z"
   },
   {
    "duration": 458,
    "start_time": "2022-01-26T09:18:20.281Z"
   },
   {
    "duration": 671,
    "start_time": "2022-01-26T09:18:20.748Z"
   },
   {
    "duration": 305,
    "start_time": "2022-01-26T09:18:21.422Z"
   },
   {
    "duration": 334,
    "start_time": "2022-01-26T09:18:21.730Z"
   },
   {
    "duration": 344,
    "start_time": "2022-01-26T09:18:22.067Z"
   },
   {
    "duration": 453,
    "start_time": "2022-01-26T09:18:22.414Z"
   },
   {
    "duration": 446,
    "start_time": "2022-01-26T09:18:22.869Z"
   },
   {
    "duration": 438,
    "start_time": "2022-01-26T09:18:23.318Z"
   },
   {
    "duration": 428,
    "start_time": "2022-01-26T09:18:23.760Z"
   },
   {
    "duration": 385,
    "start_time": "2022-01-26T09:18:24.191Z"
   },
   {
    "duration": 400,
    "start_time": "2022-01-26T09:18:24.579Z"
   },
   {
    "duration": 485,
    "start_time": "2022-01-26T09:18:24.981Z"
   },
   {
    "duration": 156,
    "start_time": "2022-01-26T09:18:25.469Z"
   },
   {
    "duration": 160,
    "start_time": "2022-01-26T09:18:25.628Z"
   },
   {
    "duration": 150,
    "start_time": "2022-01-26T09:18:25.791Z"
   },
   {
    "duration": 162,
    "start_time": "2022-01-26T09:18:25.953Z"
   },
   {
    "duration": 162,
    "start_time": "2022-01-26T09:18:26.119Z"
   },
   {
    "duration": 158,
    "start_time": "2022-01-26T09:18:26.284Z"
   },
   {
    "duration": 396,
    "start_time": "2022-01-26T09:18:26.444Z"
   },
   {
    "duration": 532,
    "start_time": "2022-01-26T09:18:26.844Z"
   },
   {
    "duration": 345,
    "start_time": "2022-01-26T09:18:27.378Z"
   },
   {
    "duration": 354,
    "start_time": "2022-01-26T09:18:27.725Z"
   },
   {
    "duration": 9,
    "start_time": "2022-01-26T09:18:28.081Z"
   },
   {
    "duration": 367,
    "start_time": "2022-01-26T09:18:28.092Z"
   },
   {
    "duration": 316,
    "start_time": "2022-01-26T09:18:28.462Z"
   },
   {
    "duration": 11,
    "start_time": "2022-01-26T09:18:28.780Z"
   },
   {
    "duration": 478,
    "start_time": "2022-01-26T09:22:35.570Z"
   },
   {
    "duration": 829,
    "start_time": "2022-01-26T09:32:09.314Z"
   },
   {
    "duration": 867,
    "start_time": "2022-01-26T09:32:31.762Z"
   },
   {
    "duration": 869,
    "start_time": "2022-01-26T09:33:52.490Z"
   },
   {
    "duration": 20,
    "start_time": "2022-01-26T09:56:53.384Z"
   },
   {
    "duration": 141,
    "start_time": "2022-01-26T10:03:19.947Z"
   },
   {
    "duration": 8209,
    "start_time": "2022-01-26T10:07:31.764Z"
   },
   {
    "duration": 814,
    "start_time": "2022-01-26T10:09:43.983Z"
   },
   {
    "duration": 84,
    "start_time": "2022-01-26T10:09:44.799Z"
   },
   {
    "duration": 6,
    "start_time": "2022-01-26T10:09:44.887Z"
   },
   {
    "duration": 28,
    "start_time": "2022-01-26T10:09:44.895Z"
   },
   {
    "duration": 66,
    "start_time": "2022-01-26T10:09:44.925Z"
   },
   {
    "duration": 9,
    "start_time": "2022-01-26T10:09:44.994Z"
   },
   {
    "duration": 50,
    "start_time": "2022-01-26T10:09:45.006Z"
   },
   {
    "duration": 35,
    "start_time": "2022-01-26T10:09:45.062Z"
   },
   {
    "duration": 567,
    "start_time": "2022-01-26T10:09:45.101Z"
   },
   {
    "duration": 1074,
    "start_time": "2022-01-26T10:09:45.671Z"
   },
   {
    "duration": 485,
    "start_time": "2022-01-26T10:09:46.750Z"
   },
   {
    "duration": 620,
    "start_time": "2022-01-26T10:09:47.239Z"
   },
   {
    "duration": 289,
    "start_time": "2022-01-26T10:09:47.862Z"
   },
   {
    "duration": 270,
    "start_time": "2022-01-26T10:09:48.154Z"
   },
   {
    "duration": 282,
    "start_time": "2022-01-26T10:09:48.426Z"
   },
   {
    "duration": 538,
    "start_time": "2022-01-26T10:09:48.710Z"
   },
   {
    "duration": 399,
    "start_time": "2022-01-26T10:09:49.251Z"
   },
   {
    "duration": 426,
    "start_time": "2022-01-26T10:09:49.653Z"
   },
   {
    "duration": 388,
    "start_time": "2022-01-26T10:09:50.082Z"
   },
   {
    "duration": 386,
    "start_time": "2022-01-26T10:09:50.473Z"
   },
   {
    "duration": 397,
    "start_time": "2022-01-26T10:09:50.861Z"
   },
   {
    "duration": 839,
    "start_time": "2022-01-26T10:09:51.261Z"
   },
   {
    "duration": 154,
    "start_time": "2022-01-26T10:09:52.106Z"
   },
   {
    "duration": 158,
    "start_time": "2022-01-26T10:09:52.263Z"
   },
   {
    "duration": 150,
    "start_time": "2022-01-26T10:09:52.423Z"
   },
   {
    "duration": 155,
    "start_time": "2022-01-26T10:09:52.576Z"
   },
   {
    "duration": 149,
    "start_time": "2022-01-26T10:09:52.734Z"
   },
   {
    "duration": 163,
    "start_time": "2022-01-26T10:09:52.885Z"
   },
   {
    "duration": 137,
    "start_time": "2022-01-26T10:09:53.051Z"
   },
   {
    "duration": 8337,
    "start_time": "2022-01-26T10:09:53.191Z"
   },
   {
    "duration": 249,
    "start_time": "2022-01-26T10:10:01.282Z"
   },
   {
    "duration": 248,
    "start_time": "2022-01-26T10:10:01.285Z"
   },
   {
    "duration": 244,
    "start_time": "2022-01-26T10:10:01.291Z"
   },
   {
    "duration": 243,
    "start_time": "2022-01-26T10:10:01.294Z"
   },
   {
    "duration": 242,
    "start_time": "2022-01-26T10:10:01.297Z"
   },
   {
    "duration": 241,
    "start_time": "2022-01-26T10:10:01.300Z"
   },
   {
    "duration": 237,
    "start_time": "2022-01-26T10:10:01.305Z"
   },
   {
    "duration": 7871,
    "start_time": "2022-01-26T10:13:49.122Z"
   },
   {
    "duration": 136,
    "start_time": "2022-01-26T10:16:49.015Z"
   },
   {
    "duration": 144,
    "start_time": "2022-01-26T10:19:46.849Z"
   },
   {
    "duration": 131,
    "start_time": "2022-01-26T10:30:27.634Z"
   },
   {
    "duration": 100,
    "start_time": "2022-01-26T10:51:40.600Z"
   },
   {
    "duration": 22,
    "start_time": "2022-01-26T10:52:50.482Z"
   },
   {
    "duration": 921,
    "start_time": "2022-01-26T10:53:44.710Z"
   },
   {
    "duration": 92,
    "start_time": "2022-01-26T10:53:45.634Z"
   },
   {
    "duration": 20,
    "start_time": "2022-01-26T10:53:45.730Z"
   },
   {
    "duration": 22,
    "start_time": "2022-01-26T10:53:45.753Z"
   },
   {
    "duration": 79,
    "start_time": "2022-01-26T10:53:45.778Z"
   },
   {
    "duration": 13,
    "start_time": "2022-01-26T10:53:45.859Z"
   },
   {
    "duration": 24,
    "start_time": "2022-01-26T10:53:45.875Z"
   },
   {
    "duration": 66,
    "start_time": "2022-01-26T10:53:45.903Z"
   },
   {
    "duration": 587,
    "start_time": "2022-01-26T10:53:45.973Z"
   },
   {
    "duration": 1180,
    "start_time": "2022-01-26T10:53:46.562Z"
   },
   {
    "duration": 441,
    "start_time": "2022-01-26T10:53:47.749Z"
   },
   {
    "duration": 647,
    "start_time": "2022-01-26T10:53:48.193Z"
   },
   {
    "duration": 318,
    "start_time": "2022-01-26T10:53:48.843Z"
   },
   {
    "duration": 286,
    "start_time": "2022-01-26T10:53:49.163Z"
   },
   {
    "duration": 297,
    "start_time": "2022-01-26T10:53:49.452Z"
   },
   {
    "duration": 441,
    "start_time": "2022-01-26T10:53:49.752Z"
   },
   {
    "duration": 468,
    "start_time": "2022-01-26T10:53:50.196Z"
   },
   {
    "duration": 420,
    "start_time": "2022-01-26T10:53:50.667Z"
   },
   {
    "duration": 438,
    "start_time": "2022-01-26T10:53:51.089Z"
   },
   {
    "duration": 424,
    "start_time": "2022-01-26T10:53:51.530Z"
   },
   {
    "duration": 411,
    "start_time": "2022-01-26T10:53:51.957Z"
   },
   {
    "duration": 881,
    "start_time": "2022-01-26T10:53:52.370Z"
   },
   {
    "duration": 157,
    "start_time": "2022-01-26T10:53:53.256Z"
   },
   {
    "duration": 164,
    "start_time": "2022-01-26T10:53:53.417Z"
   },
   {
    "duration": 169,
    "start_time": "2022-01-26T10:53:53.584Z"
   },
   {
    "duration": 164,
    "start_time": "2022-01-26T10:53:53.756Z"
   },
   {
    "duration": 197,
    "start_time": "2022-01-26T10:53:53.923Z"
   },
   {
    "duration": 164,
    "start_time": "2022-01-26T10:53:54.123Z"
   },
   {
    "duration": 161,
    "start_time": "2022-01-26T10:53:54.290Z"
   },
   {
    "duration": 154,
    "start_time": "2022-01-26T10:53:54.455Z"
   },
   {
    "duration": 166,
    "start_time": "2022-01-26T10:53:54.612Z"
   },
   {
    "duration": 600,
    "start_time": "2022-01-26T10:53:54.781Z"
   },
   {
    "duration": 442,
    "start_time": "2022-01-26T10:53:55.383Z"
   },
   {
    "duration": 399,
    "start_time": "2022-01-26T10:53:55.827Z"
   },
   {
    "duration": 28,
    "start_time": "2022-01-26T10:53:56.229Z"
   },
   {
    "duration": 419,
    "start_time": "2022-01-26T10:53:56.259Z"
   },
   {
    "duration": 340,
    "start_time": "2022-01-26T10:53:56.681Z"
   },
   {
    "duration": 24,
    "start_time": "2022-01-26T10:53:57.024Z"
   },
   {
    "duration": 871,
    "start_time": "2022-01-26T12:54:31.506Z"
   },
   {
    "duration": 85,
    "start_time": "2022-01-26T12:54:32.380Z"
   },
   {
    "duration": 7,
    "start_time": "2022-01-26T12:54:32.467Z"
   },
   {
    "duration": 22,
    "start_time": "2022-01-26T12:54:32.477Z"
   },
   {
    "duration": 89,
    "start_time": "2022-01-26T12:54:32.502Z"
   },
   {
    "duration": 17,
    "start_time": "2022-01-26T12:54:32.594Z"
   },
   {
    "duration": 55,
    "start_time": "2022-01-26T12:54:32.614Z"
   },
   {
    "duration": 38,
    "start_time": "2022-01-26T12:54:32.675Z"
   },
   {
    "duration": 565,
    "start_time": "2022-01-26T12:54:32.716Z"
   },
   {
    "duration": 1123,
    "start_time": "2022-01-26T12:54:33.284Z"
   },
   {
    "duration": 487,
    "start_time": "2022-01-26T12:54:34.409Z"
   },
   {
    "duration": 774,
    "start_time": "2022-01-26T12:54:34.900Z"
   },
   {
    "duration": 282,
    "start_time": "2022-01-26T12:54:35.677Z"
   },
   {
    "duration": 296,
    "start_time": "2022-01-26T12:54:35.961Z"
   },
   {
    "duration": 293,
    "start_time": "2022-01-26T12:54:36.259Z"
   },
   {
    "duration": 437,
    "start_time": "2022-01-26T12:54:36.554Z"
   },
   {
    "duration": 397,
    "start_time": "2022-01-26T12:54:36.993Z"
   },
   {
    "duration": 546,
    "start_time": "2022-01-26T12:54:37.392Z"
   },
   {
    "duration": 449,
    "start_time": "2022-01-26T12:54:37.941Z"
   },
   {
    "duration": 384,
    "start_time": "2022-01-26T12:54:38.392Z"
   },
   {
    "duration": 537,
    "start_time": "2022-01-26T12:54:38.779Z"
   },
   {
    "duration": 866,
    "start_time": "2022-01-26T12:54:39.319Z"
   },
   {
    "duration": 161,
    "start_time": "2022-01-26T12:54:40.191Z"
   },
   {
    "duration": 160,
    "start_time": "2022-01-26T12:54:40.354Z"
   },
   {
    "duration": 156,
    "start_time": "2022-01-26T12:54:40.517Z"
   },
   {
    "duration": 169,
    "start_time": "2022-01-26T12:54:40.676Z"
   },
   {
    "duration": 169,
    "start_time": "2022-01-26T12:54:40.848Z"
   },
   {
    "duration": 156,
    "start_time": "2022-01-26T12:54:41.020Z"
   },
   {
    "duration": 153,
    "start_time": "2022-01-26T12:54:41.178Z"
   },
   {
    "duration": 143,
    "start_time": "2022-01-26T12:54:41.333Z"
   },
   {
    "duration": 148,
    "start_time": "2022-01-26T12:54:41.478Z"
   },
   {
    "duration": 575,
    "start_time": "2022-01-26T12:54:41.628Z"
   },
   {
    "duration": 345,
    "start_time": "2022-01-26T12:54:42.206Z"
   },
   {
    "duration": 323,
    "start_time": "2022-01-26T12:54:42.570Z"
   },
   {
    "duration": 7,
    "start_time": "2022-01-26T12:54:42.896Z"
   },
   {
    "duration": 357,
    "start_time": "2022-01-26T12:54:42.906Z"
   },
   {
    "duration": 325,
    "start_time": "2022-01-26T12:54:43.266Z"
   },
   {
    "duration": 9,
    "start_time": "2022-01-26T12:54:43.593Z"
   },
   {
    "duration": 341,
    "start_time": "2022-01-26T13:43:21.734Z"
   },
   {
    "duration": 936,
    "start_time": "2022-01-26T13:43:33.430Z"
   },
   {
    "duration": 85,
    "start_time": "2022-01-26T13:43:34.368Z"
   },
   {
    "duration": 14,
    "start_time": "2022-01-26T13:43:34.456Z"
   },
   {
    "duration": 20,
    "start_time": "2022-01-26T13:43:34.473Z"
   },
   {
    "duration": 74,
    "start_time": "2022-01-26T13:43:34.496Z"
   },
   {
    "duration": 12,
    "start_time": "2022-01-26T13:43:34.572Z"
   },
   {
    "duration": 17,
    "start_time": "2022-01-26T13:43:34.587Z"
   },
   {
    "duration": 68,
    "start_time": "2022-01-26T13:43:34.607Z"
   },
   {
    "duration": 856,
    "start_time": "2022-01-26T13:43:34.679Z"
   },
   {
    "duration": 1210,
    "start_time": "2022-01-26T13:43:35.539Z"
   },
   {
    "duration": 458,
    "start_time": "2022-01-26T13:43:36.752Z"
   },
   {
    "duration": 644,
    "start_time": "2022-01-26T13:43:37.213Z"
   },
   {
    "duration": 297,
    "start_time": "2022-01-26T13:43:37.860Z"
   },
   {
    "duration": 448,
    "start_time": "2022-01-26T13:43:38.159Z"
   },
   {
    "duration": 436,
    "start_time": "2022-01-26T13:43:38.611Z"
   },
   {
    "duration": 515,
    "start_time": "2022-01-26T13:43:39.050Z"
   },
   {
    "duration": 573,
    "start_time": "2022-01-26T13:43:39.567Z"
   },
   {
    "duration": 586,
    "start_time": "2022-01-26T13:43:40.143Z"
   },
   {
    "duration": 459,
    "start_time": "2022-01-26T13:43:40.732Z"
   },
   {
    "duration": 380,
    "start_time": "2022-01-26T13:43:41.194Z"
   },
   {
    "duration": 418,
    "start_time": "2022-01-26T13:43:41.577Z"
   },
   {
    "duration": 880,
    "start_time": "2022-01-26T13:43:41.998Z"
   },
   {
    "duration": 158,
    "start_time": "2022-01-26T13:43:42.880Z"
   },
   {
    "duration": 172,
    "start_time": "2022-01-26T13:43:43.040Z"
   },
   {
    "duration": 159,
    "start_time": "2022-01-26T13:43:43.215Z"
   },
   {
    "duration": 162,
    "start_time": "2022-01-26T13:43:43.376Z"
   },
   {
    "duration": 169,
    "start_time": "2022-01-26T13:43:43.543Z"
   },
   {
    "duration": 165,
    "start_time": "2022-01-26T13:43:43.715Z"
   },
   {
    "duration": 155,
    "start_time": "2022-01-26T13:43:43.884Z"
   },
   {
    "duration": 162,
    "start_time": "2022-01-26T13:43:44.042Z"
   },
   {
    "duration": 147,
    "start_time": "2022-01-26T13:43:44.207Z"
   },
   {
    "duration": 553,
    "start_time": "2022-01-26T13:43:44.356Z"
   },
   {
    "duration": 347,
    "start_time": "2022-01-26T13:43:44.911Z"
   },
   {
    "duration": 343,
    "start_time": "2022-01-26T13:43:45.261Z"
   },
   {
    "duration": 10,
    "start_time": "2022-01-26T13:43:45.607Z"
   },
   {
    "duration": 367,
    "start_time": "2022-01-26T13:43:45.620Z"
   },
   {
    "duration": 308,
    "start_time": "2022-01-26T13:43:45.990Z"
   },
   {
    "duration": 9,
    "start_time": "2022-01-26T13:43:46.301Z"
   },
   {
    "duration": 27,
    "start_time": "2022-01-26T13:47:33.111Z"
   },
   {
    "duration": 28,
    "start_time": "2022-01-26T13:49:06.238Z"
   },
   {
    "duration": 25,
    "start_time": "2022-01-26T13:55:28.096Z"
   },
   {
    "duration": 27,
    "start_time": "2022-01-26T13:59:06.551Z"
   },
   {
    "duration": 47,
    "start_time": "2022-01-26T14:00:07.324Z"
   },
   {
    "duration": 26,
    "start_time": "2022-01-26T14:00:35.837Z"
   },
   {
    "duration": 459,
    "start_time": "2022-01-26T14:00:50.052Z"
   },
   {
    "duration": 27,
    "start_time": "2022-01-26T14:01:04.037Z"
   },
   {
    "duration": 296,
    "start_time": "2022-01-26T14:09:37.332Z"
   },
   {
    "duration": 17,
    "start_time": "2022-01-26T14:11:06.293Z"
   },
   {
    "duration": 101,
    "start_time": "2022-01-26T14:13:18.038Z"
   },
   {
    "duration": 24,
    "start_time": "2022-01-26T14:13:26.445Z"
   },
   {
    "duration": 28,
    "start_time": "2022-01-26T14:14:10.373Z"
   },
   {
    "duration": 18,
    "start_time": "2022-01-26T14:21:56.667Z"
   },
   {
    "duration": 346,
    "start_time": "2022-01-26T14:22:13.300Z"
   },
   {
    "duration": 20,
    "start_time": "2022-01-26T14:22:21.619Z"
   },
   {
    "duration": 288,
    "start_time": "2022-01-26T14:23:46.661Z"
   },
   {
    "duration": 448,
    "start_time": "2022-01-26T14:23:58.133Z"
   },
   {
    "duration": 15,
    "start_time": "2022-01-26T14:24:17.395Z"
   },
   {
    "duration": 29,
    "start_time": "2022-01-26T14:25:38.870Z"
   },
   {
    "duration": 290,
    "start_time": "2022-01-26T14:44:12.810Z"
   },
   {
    "duration": 141,
    "start_time": "2022-01-26T14:46:54.284Z"
   },
   {
    "duration": 853,
    "start_time": "2022-01-26T14:48:17.022Z"
   },
   {
    "duration": 98,
    "start_time": "2022-01-26T14:48:17.878Z"
   },
   {
    "duration": 7,
    "start_time": "2022-01-26T14:48:17.980Z"
   },
   {
    "duration": 21,
    "start_time": "2022-01-26T14:48:17.990Z"
   },
   {
    "duration": 83,
    "start_time": "2022-01-26T14:48:18.014Z"
   },
   {
    "duration": 11,
    "start_time": "2022-01-26T14:48:18.099Z"
   },
   {
    "duration": 19,
    "start_time": "2022-01-26T14:48:18.113Z"
   },
   {
    "duration": 69,
    "start_time": "2022-01-26T14:48:18.136Z"
   },
   {
    "duration": 577,
    "start_time": "2022-01-26T14:48:18.208Z"
   },
   {
    "duration": 1243,
    "start_time": "2022-01-26T14:48:18.788Z"
   },
   {
    "duration": 462,
    "start_time": "2022-01-26T14:48:20.033Z"
   },
   {
    "duration": 713,
    "start_time": "2022-01-26T14:48:20.497Z"
   },
   {
    "duration": 297,
    "start_time": "2022-01-26T14:48:21.212Z"
   },
   {
    "duration": 299,
    "start_time": "2022-01-26T14:48:21.512Z"
   },
   {
    "duration": 296,
    "start_time": "2022-01-26T14:48:21.814Z"
   },
   {
    "duration": 592,
    "start_time": "2022-01-26T14:48:22.113Z"
   },
   {
    "duration": 479,
    "start_time": "2022-01-26T14:48:22.709Z"
   },
   {
    "duration": 411,
    "start_time": "2022-01-26T14:48:23.191Z"
   },
   {
    "duration": 451,
    "start_time": "2022-01-26T14:48:23.606Z"
   },
   {
    "duration": 447,
    "start_time": "2022-01-26T14:48:24.059Z"
   },
   {
    "duration": 457,
    "start_time": "2022-01-26T14:48:24.509Z"
   },
   {
    "duration": 964,
    "start_time": "2022-01-26T14:48:24.970Z"
   },
   {
    "duration": 170,
    "start_time": "2022-01-26T14:48:25.939Z"
   },
   {
    "duration": 166,
    "start_time": "2022-01-26T14:48:26.112Z"
   },
   {
    "duration": 168,
    "start_time": "2022-01-26T14:48:26.281Z"
   },
   {
    "duration": 178,
    "start_time": "2022-01-26T14:48:26.451Z"
   },
   {
    "duration": 178,
    "start_time": "2022-01-26T14:48:26.631Z"
   },
   {
    "duration": 172,
    "start_time": "2022-01-26T14:48:26.813Z"
   },
   {
    "duration": 169,
    "start_time": "2022-01-26T14:48:26.989Z"
   },
   {
    "duration": 167,
    "start_time": "2022-01-26T14:48:27.169Z"
   },
   {
    "duration": 158,
    "start_time": "2022-01-26T14:48:27.338Z"
   },
   {
    "duration": 545,
    "start_time": "2022-01-26T14:48:27.498Z"
   },
   {
    "duration": 379,
    "start_time": "2022-01-26T14:48:28.045Z"
   },
   {
    "duration": 363,
    "start_time": "2022-01-26T14:48:28.427Z"
   },
   {
    "duration": 9,
    "start_time": "2022-01-26T14:48:28.793Z"
   },
   {
    "duration": 382,
    "start_time": "2022-01-26T14:48:28.804Z"
   },
   {
    "duration": 363,
    "start_time": "2022-01-26T14:48:29.188Z"
   },
   {
    "duration": 23,
    "start_time": "2022-01-26T14:48:29.554Z"
   },
   {
    "duration": 162,
    "start_time": "2022-01-26T14:50:31.029Z"
   },
   {
    "duration": 144,
    "start_time": "2022-01-26T14:51:06.751Z"
   },
   {
    "duration": 366,
    "start_time": "2022-02-18T16:40:31.299Z"
   },
   {
    "duration": 929,
    "start_time": "2022-02-18T16:40:43.289Z"
   },
   {
    "duration": 93,
    "start_time": "2022-02-18T16:40:44.222Z"
   },
   {
    "duration": 6,
    "start_time": "2022-02-18T16:40:44.318Z"
   },
   {
    "duration": 25,
    "start_time": "2022-02-18T16:40:44.327Z"
   },
   {
    "duration": 80,
    "start_time": "2022-02-18T16:40:44.354Z"
   },
   {
    "duration": 10,
    "start_time": "2022-02-18T16:40:44.437Z"
   },
   {
    "duration": 49,
    "start_time": "2022-02-18T16:40:44.449Z"
   },
   {
    "duration": 36,
    "start_time": "2022-02-18T16:40:44.502Z"
   },
   {
    "duration": 598,
    "start_time": "2022-02-18T16:40:44.542Z"
   },
   {
    "duration": 1202,
    "start_time": "2022-02-18T16:40:45.143Z"
   },
   {
    "duration": 454,
    "start_time": "2022-02-18T16:40:46.348Z"
   },
   {
    "duration": 659,
    "start_time": "2022-02-18T16:40:46.805Z"
   },
   {
    "duration": 309,
    "start_time": "2022-02-18T16:40:47.466Z"
   },
   {
    "duration": 299,
    "start_time": "2022-02-18T16:40:47.778Z"
   },
   {
    "duration": 299,
    "start_time": "2022-02-18T16:40:48.080Z"
   },
   {
    "duration": 449,
    "start_time": "2022-02-18T16:40:48.381Z"
   },
   {
    "duration": 398,
    "start_time": "2022-02-18T16:40:48.833Z"
   },
   {
    "duration": 494,
    "start_time": "2022-02-18T16:40:49.234Z"
   },
   {
    "duration": 410,
    "start_time": "2022-02-18T16:40:49.730Z"
   },
   {
    "duration": 498,
    "start_time": "2022-02-18T16:40:50.143Z"
   },
   {
    "duration": 456,
    "start_time": "2022-02-18T16:40:50.643Z"
   },
   {
    "duration": 892,
    "start_time": "2022-02-18T16:40:51.101Z"
   },
   {
    "duration": 156,
    "start_time": "2022-02-18T16:40:51.999Z"
   },
   {
    "duration": 168,
    "start_time": "2022-02-18T16:40:52.158Z"
   },
   {
    "duration": 153,
    "start_time": "2022-02-18T16:40:52.328Z"
   },
   {
    "duration": 156,
    "start_time": "2022-02-18T16:40:52.483Z"
   },
   {
    "duration": 161,
    "start_time": "2022-02-18T16:40:52.642Z"
   },
   {
    "duration": 163,
    "start_time": "2022-02-18T16:40:52.805Z"
   },
   {
    "duration": 162,
    "start_time": "2022-02-18T16:40:52.970Z"
   },
   {
    "duration": 153,
    "start_time": "2022-02-18T16:40:53.136Z"
   },
   {
    "duration": 163,
    "start_time": "2022-02-18T16:40:53.295Z"
   },
   {
    "duration": 551,
    "start_time": "2022-02-18T16:40:53.461Z"
   },
   {
    "duration": 360,
    "start_time": "2022-02-18T16:40:54.014Z"
   },
   {
    "duration": 341,
    "start_time": "2022-02-18T16:40:54.376Z"
   },
   {
    "duration": 7,
    "start_time": "2022-02-18T16:40:54.720Z"
   },
   {
    "duration": 358,
    "start_time": "2022-02-18T16:40:54.729Z"
   },
   {
    "duration": 310,
    "start_time": "2022-02-18T16:40:55.093Z"
   },
   {
    "duration": 12,
    "start_time": "2022-02-18T16:40:55.405Z"
   }
  ],
  "kernelspec": {
   "display_name": "Python 3 (ipykernel)",
   "language": "python",
   "name": "python3"
  },
  "language_info": {
   "codemirror_mode": {
    "name": "ipython",
    "version": 3
   },
   "file_extension": ".py",
   "mimetype": "text/x-python",
   "name": "python",
   "nbconvert_exporter": "python",
   "pygments_lexer": "ipython3",
   "version": "3.9.7"
  },
  "toc": {
   "base_numbering": 1,
   "nav_menu": {},
   "number_sections": true,
   "sideBar": true,
   "skip_h1_title": true,
   "title_cell": "Table of Contents",
   "title_sidebar": "Contents",
   "toc_cell": false,
   "toc_position": {},
   "toc_section_display": true,
   "toc_window_display": true
  }
 },
 "nbformat": 4,
 "nbformat_minor": 2
}
