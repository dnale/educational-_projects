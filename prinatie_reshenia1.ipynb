{
 "cells": [
  {
   "cell_type": "markdown",
   "metadata": {},
   "source": [
    "# Анализ и принятие решения по А/В тесту"
   ]
  },
  {
   "cell_type": "markdown",
   "metadata": {},
   "source": [
    "## Описание проекта."
   ]
  },
  {
   "cell_type": "markdown",
   "metadata": {},
   "source": [
    "Я аналитик интернет-магапзина . Вместе с отделом маркетинга мы подготовили список гипотиз для увеличения выручки.  \n",
    "\n",
    "\n",
    "Требуется:\n",
    "\n",
    "1. Приоритизировать гипотезы.\n",
    "\n",
    "2. Запустить A/B тест.\n",
    "\n",
    "3. Проанализировать результаты."
   ]
  },
  {
   "cell_type": "markdown",
   "metadata": {},
   "source": [
    "## Приоритизация гипотиз"
   ]
  },
  {
   "cell_type": "code",
   "execution_count": 1,
   "metadata": {},
   "outputs": [],
   "source": [
    "import pandas as pd\n",
    "import scipy.stats as stats\n",
    "import datetime as dt\n",
    "import numpy as np\n",
    "import matplotlib.pyplot as plt"
   ]
  },
  {
   "cell_type": "code",
   "execution_count": 2,
   "metadata": {},
   "outputs": [
    {
     "data": {
      "text/html": [
       "<div>\n",
       "<style scoped>\n",
       "    .dataframe tbody tr th:only-of-type {\n",
       "        vertical-align: middle;\n",
       "    }\n",
       "\n",
       "    .dataframe tbody tr th {\n",
       "        vertical-align: top;\n",
       "    }\n",
       "\n",
       "    .dataframe thead th {\n",
       "        text-align: right;\n",
       "    }\n",
       "</style>\n",
       "<table border=\"1\" class=\"dataframe\">\n",
       "  <thead>\n",
       "    <tr style=\"text-align: right;\">\n",
       "      <th></th>\n",
       "      <th>Hypothesis</th>\n",
       "      <th>Reach</th>\n",
       "      <th>Impact</th>\n",
       "      <th>Confidence</th>\n",
       "      <th>Efforts</th>\n",
       "    </tr>\n",
       "  </thead>\n",
       "  <tbody>\n",
       "    <tr>\n",
       "      <th>0</th>\n",
       "      <td>Добавить два новых канала привлечения трафика, что позволит привлекать на 30% больше пользователей</td>\n",
       "      <td>3</td>\n",
       "      <td>10</td>\n",
       "      <td>8</td>\n",
       "      <td>6</td>\n",
       "    </tr>\n",
       "    <tr>\n",
       "      <th>1</th>\n",
       "      <td>Запустить собственную службу доставки, что сократит срок доставки заказов</td>\n",
       "      <td>2</td>\n",
       "      <td>5</td>\n",
       "      <td>4</td>\n",
       "      <td>10</td>\n",
       "    </tr>\n",
       "    <tr>\n",
       "      <th>2</th>\n",
       "      <td>Добавить блоки рекомендаций товаров на сайт интернет магазина, чтобы повысить конверсию и средний чек заказа</td>\n",
       "      <td>8</td>\n",
       "      <td>3</td>\n",
       "      <td>7</td>\n",
       "      <td>3</td>\n",
       "    </tr>\n",
       "    <tr>\n",
       "      <th>3</th>\n",
       "      <td>Изменить структура категорий, что увеличит конверсию, т.к. пользователи быстрее найдут нужный товар</td>\n",
       "      <td>8</td>\n",
       "      <td>3</td>\n",
       "      <td>3</td>\n",
       "      <td>8</td>\n",
       "    </tr>\n",
       "    <tr>\n",
       "      <th>4</th>\n",
       "      <td>Изменить цвет фона главной страницы, чтобы увеличить вовлеченность пользователей</td>\n",
       "      <td>3</td>\n",
       "      <td>1</td>\n",
       "      <td>1</td>\n",
       "      <td>1</td>\n",
       "    </tr>\n",
       "    <tr>\n",
       "      <th>5</th>\n",
       "      <td>Добавить страницу отзывов клиентов о магазине, что позволит увеличить количество заказов</td>\n",
       "      <td>3</td>\n",
       "      <td>2</td>\n",
       "      <td>2</td>\n",
       "      <td>3</td>\n",
       "    </tr>\n",
       "    <tr>\n",
       "      <th>6</th>\n",
       "      <td>Показать на главной странице баннеры с актуальными акциями и распродажами, чтобы увеличить конверсию</td>\n",
       "      <td>5</td>\n",
       "      <td>3</td>\n",
       "      <td>8</td>\n",
       "      <td>3</td>\n",
       "    </tr>\n",
       "    <tr>\n",
       "      <th>7</th>\n",
       "      <td>Добавить форму подписки на все основные страницы, чтобы собрать базу клиентов для email-рассылок</td>\n",
       "      <td>10</td>\n",
       "      <td>7</td>\n",
       "      <td>8</td>\n",
       "      <td>5</td>\n",
       "    </tr>\n",
       "    <tr>\n",
       "      <th>8</th>\n",
       "      <td>Запустить акцию, дающую скидку на товар в день рождения</td>\n",
       "      <td>1</td>\n",
       "      <td>9</td>\n",
       "      <td>9</td>\n",
       "      <td>5</td>\n",
       "    </tr>\n",
       "  </tbody>\n",
       "</table>\n",
       "</div>"
      ],
      "text/plain": [
       "                                                                                                     Hypothesis  \\\n",
       "0            Добавить два новых канала привлечения трафика, что позволит привлекать на 30% больше пользователей   \n",
       "1                                     Запустить собственную службу доставки, что сократит срок доставки заказов   \n",
       "2  Добавить блоки рекомендаций товаров на сайт интернет магазина, чтобы повысить конверсию и средний чек заказа   \n",
       "3           Изменить структура категорий, что увеличит конверсию, т.к. пользователи быстрее найдут нужный товар   \n",
       "4                              Изменить цвет фона главной страницы, чтобы увеличить вовлеченность пользователей   \n",
       "5                      Добавить страницу отзывов клиентов о магазине, что позволит увеличить количество заказов   \n",
       "6          Показать на главной странице баннеры с актуальными акциями и распродажами, чтобы увеличить конверсию   \n",
       "7              Добавить форму подписки на все основные страницы, чтобы собрать базу клиентов для email-рассылок   \n",
       "8                                                       Запустить акцию, дающую скидку на товар в день рождения   \n",
       "\n",
       "   Reach  Impact  Confidence  Efforts  \n",
       "0      3      10           8        6  \n",
       "1      2       5           4       10  \n",
       "2      8       3           7        3  \n",
       "3      8       3           3        8  \n",
       "4      3       1           1        1  \n",
       "5      3       2           2        3  \n",
       "6      5       3           8        3  \n",
       "7     10       7           8        5  \n",
       "8      1       9           9        5  "
      ]
     },
     "metadata": {},
     "output_type": "display_data"
    },
    {
     "data": {
      "text/html": [
       "<div>\n",
       "<style scoped>\n",
       "    .dataframe tbody tr th:only-of-type {\n",
       "        vertical-align: middle;\n",
       "    }\n",
       "\n",
       "    .dataframe tbody tr th {\n",
       "        vertical-align: top;\n",
       "    }\n",
       "\n",
       "    .dataframe thead th {\n",
       "        text-align: right;\n",
       "    }\n",
       "</style>\n",
       "<table border=\"1\" class=\"dataframe\">\n",
       "  <thead>\n",
       "    <tr style=\"text-align: right;\">\n",
       "      <th></th>\n",
       "      <th>Hypothesis</th>\n",
       "      <th>ICE</th>\n",
       "    </tr>\n",
       "  </thead>\n",
       "  <tbody>\n",
       "    <tr>\n",
       "      <th>8</th>\n",
       "      <td>Запустить акцию, дающую скидку на товар в день рождения</td>\n",
       "      <td>16.200000</td>\n",
       "    </tr>\n",
       "    <tr>\n",
       "      <th>0</th>\n",
       "      <td>Добавить два новых канала привлечения трафика, что позволит привлекать на 30% больше пользователей</td>\n",
       "      <td>13.333333</td>\n",
       "    </tr>\n",
       "    <tr>\n",
       "      <th>7</th>\n",
       "      <td>Добавить форму подписки на все основные страницы, чтобы собрать базу клиентов для email-рассылок</td>\n",
       "      <td>11.200000</td>\n",
       "    </tr>\n",
       "    <tr>\n",
       "      <th>6</th>\n",
       "      <td>Показать на главной странице баннеры с актуальными акциями и распродажами, чтобы увеличить конверсию</td>\n",
       "      <td>8.000000</td>\n",
       "    </tr>\n",
       "    <tr>\n",
       "      <th>2</th>\n",
       "      <td>Добавить блоки рекомендаций товаров на сайт интернет магазина, чтобы повысить конверсию и средний чек заказа</td>\n",
       "      <td>7.000000</td>\n",
       "    </tr>\n",
       "    <tr>\n",
       "      <th>1</th>\n",
       "      <td>Запустить собственную службу доставки, что сократит срок доставки заказов</td>\n",
       "      <td>2.000000</td>\n",
       "    </tr>\n",
       "    <tr>\n",
       "      <th>5</th>\n",
       "      <td>Добавить страницу отзывов клиентов о магазине, что позволит увеличить количество заказов</td>\n",
       "      <td>1.333333</td>\n",
       "    </tr>\n",
       "    <tr>\n",
       "      <th>3</th>\n",
       "      <td>Изменить структура категорий, что увеличит конверсию, т.к. пользователи быстрее найдут нужный товар</td>\n",
       "      <td>1.125000</td>\n",
       "    </tr>\n",
       "    <tr>\n",
       "      <th>4</th>\n",
       "      <td>Изменить цвет фона главной страницы, чтобы увеличить вовлеченность пользователей</td>\n",
       "      <td>1.000000</td>\n",
       "    </tr>\n",
       "  </tbody>\n",
       "</table>\n",
       "</div>"
      ],
      "text/plain": [
       "                                                                                                     Hypothesis  \\\n",
       "8                                                       Запустить акцию, дающую скидку на товар в день рождения   \n",
       "0            Добавить два новых канала привлечения трафика, что позволит привлекать на 30% больше пользователей   \n",
       "7              Добавить форму подписки на все основные страницы, чтобы собрать базу клиентов для email-рассылок   \n",
       "6          Показать на главной странице баннеры с актуальными акциями и распродажами, чтобы увеличить конверсию   \n",
       "2  Добавить блоки рекомендаций товаров на сайт интернет магазина, чтобы повысить конверсию и средний чек заказа   \n",
       "1                                     Запустить собственную службу доставки, что сократит срок доставки заказов   \n",
       "5                      Добавить страницу отзывов клиентов о магазине, что позволит увеличить количество заказов   \n",
       "3           Изменить структура категорий, что увеличит конверсию, т.к. пользователи быстрее найдут нужный товар   \n",
       "4                              Изменить цвет фона главной страницы, чтобы увеличить вовлеченность пользователей   \n",
       "\n",
       "         ICE  \n",
       "8  16.200000  \n",
       "0  13.333333  \n",
       "7  11.200000  \n",
       "6   8.000000  \n",
       "2   7.000000  \n",
       "1   2.000000  \n",
       "5   1.333333  \n",
       "3   1.125000  \n",
       "4   1.000000  "
      ]
     },
     "metadata": {},
     "output_type": "display_data"
    },
    {
     "data": {
      "text/html": [
       "<div>\n",
       "<style scoped>\n",
       "    .dataframe tbody tr th:only-of-type {\n",
       "        vertical-align: middle;\n",
       "    }\n",
       "\n",
       "    .dataframe tbody tr th {\n",
       "        vertical-align: top;\n",
       "    }\n",
       "\n",
       "    .dataframe thead th {\n",
       "        text-align: right;\n",
       "    }\n",
       "</style>\n",
       "<table border=\"1\" class=\"dataframe\">\n",
       "  <thead>\n",
       "    <tr style=\"text-align: right;\">\n",
       "      <th></th>\n",
       "      <th>RICE</th>\n",
       "      <th>Hypothesis</th>\n",
       "    </tr>\n",
       "  </thead>\n",
       "  <tbody>\n",
       "    <tr>\n",
       "      <th>7</th>\n",
       "      <td>112.0</td>\n",
       "      <td>Добавить форму подписки на все основные страницы, чтобы собрать базу клиентов для email-рассылок</td>\n",
       "    </tr>\n",
       "    <tr>\n",
       "      <th>2</th>\n",
       "      <td>56.0</td>\n",
       "      <td>Добавить блоки рекомендаций товаров на сайт интернет магазина, чтобы повысить конверсию и средний чек заказа</td>\n",
       "    </tr>\n",
       "    <tr>\n",
       "      <th>0</th>\n",
       "      <td>40.0</td>\n",
       "      <td>Добавить два новых канала привлечения трафика, что позволит привлекать на 30% больше пользователей</td>\n",
       "    </tr>\n",
       "    <tr>\n",
       "      <th>6</th>\n",
       "      <td>40.0</td>\n",
       "      <td>Показать на главной странице баннеры с актуальными акциями и распродажами, чтобы увеличить конверсию</td>\n",
       "    </tr>\n",
       "    <tr>\n",
       "      <th>8</th>\n",
       "      <td>16.2</td>\n",
       "      <td>Запустить акцию, дающую скидку на товар в день рождения</td>\n",
       "    </tr>\n",
       "    <tr>\n",
       "      <th>3</th>\n",
       "      <td>9.0</td>\n",
       "      <td>Изменить структура категорий, что увеличит конверсию, т.к. пользователи быстрее найдут нужный товар</td>\n",
       "    </tr>\n",
       "    <tr>\n",
       "      <th>1</th>\n",
       "      <td>4.0</td>\n",
       "      <td>Запустить собственную службу доставки, что сократит срок доставки заказов</td>\n",
       "    </tr>\n",
       "    <tr>\n",
       "      <th>5</th>\n",
       "      <td>4.0</td>\n",
       "      <td>Добавить страницу отзывов клиентов о магазине, что позволит увеличить количество заказов</td>\n",
       "    </tr>\n",
       "    <tr>\n",
       "      <th>4</th>\n",
       "      <td>3.0</td>\n",
       "      <td>Изменить цвет фона главной страницы, чтобы увеличить вовлеченность пользователей</td>\n",
       "    </tr>\n",
       "  </tbody>\n",
       "</table>\n",
       "</div>"
      ],
      "text/plain": [
       "    RICE  \\\n",
       "7  112.0   \n",
       "2   56.0   \n",
       "0   40.0   \n",
       "6   40.0   \n",
       "8   16.2   \n",
       "3    9.0   \n",
       "1    4.0   \n",
       "5    4.0   \n",
       "4    3.0   \n",
       "\n",
       "                                                                                                     Hypothesis  \n",
       "7              Добавить форму подписки на все основные страницы, чтобы собрать базу клиентов для email-рассылок  \n",
       "2  Добавить блоки рекомендаций товаров на сайт интернет магазина, чтобы повысить конверсию и средний чек заказа  \n",
       "0            Добавить два новых канала привлечения трафика, что позволит привлекать на 30% больше пользователей  \n",
       "6          Показать на главной странице баннеры с актуальными акциями и распродажами, чтобы увеличить конверсию  \n",
       "8                                                       Запустить акцию, дающую скидку на товар в день рождения  \n",
       "3           Изменить структура категорий, что увеличит конверсию, т.к. пользователи быстрее найдут нужный товар  \n",
       "1                                     Запустить собственную службу доставки, что сократит срок доставки заказов  \n",
       "5                      Добавить страницу отзывов клиентов о магазине, что позволит увеличить количество заказов  \n",
       "4                              Изменить цвет фона главной страницы, чтобы увеличить вовлеченность пользователей  "
      ]
     },
     "metadata": {},
     "output_type": "display_data"
    }
   ],
   "source": [
    "data = pd.read_csv('/datasets/hypothesis.csv')\n",
    "\n",
    "pd.set_option('display.max_columns', None)\n",
    "pd.options.display.max_colwidth = 150\n",
    "\n",
    "display(data)\n",
    "\n",
    "data['ICE'] = (data['Impact'] * data['Confidence']) / data['Efforts']\n",
    "display(data[{'Hypothesis', 'ICE'}].sort_values(by='ICE', ascending=False))\n",
    "\n",
    "data['RICE'] = (data['Reach'] * data['Impact'] * data['Confidence']) / data['Efforts']\n",
    "display(data[{'Hypothesis', 'RICE'}].sort_values(by='RICE', ascending=False))"
   ]
  },
  {
   "cell_type": "markdown",
   "metadata": {},
   "source": [
    "### Вывод:   \n",
    "\n",
    "\n",
    " Провели приоритизацию способами ICE и RICE. Видим, что после применения второго способа приоритеты значительно изменились. Гипотеза \"Добавить форму подписки на все основные страницы, чтобы собрать базу клиентов для email-рассылок\" теперь стала однозначным лидером. Так происходит потому, что в способе RICE дополнительно учитывается параметр Reach, который показывает  скольких пользователей затронет изменение, которое вы хотите внести. Значит гипотеза \"Добавить форму подписки на все основные страницы, чтобы собрать базу клиентов для email-рассылок\" охватит самое большое количество пользователей."
   ]
  },
  {
   "cell_type": "markdown",
   "metadata": {},
   "source": [
    "## Анализ A/B-теста"
   ]
  },
  {
   "cell_type": "markdown",
   "metadata": {},
   "source": [
    " Проверяю на явные дубликаты и пропуски"
   ]
  },
  {
   "cell_type": "code",
   "execution_count": 3,
   "metadata": {
    "scrolled": false
   },
   "outputs": [
    {
     "data": {
      "text/html": [
       "<div>\n",
       "<style scoped>\n",
       "    .dataframe tbody tr th:only-of-type {\n",
       "        vertical-align: middle;\n",
       "    }\n",
       "\n",
       "    .dataframe tbody tr th {\n",
       "        vertical-align: top;\n",
       "    }\n",
       "\n",
       "    .dataframe thead th {\n",
       "        text-align: right;\n",
       "    }\n",
       "</style>\n",
       "<table border=\"1\" class=\"dataframe\">\n",
       "  <thead>\n",
       "    <tr style=\"text-align: right;\">\n",
       "      <th></th>\n",
       "      <th>transactionId</th>\n",
       "      <th>visitorId</th>\n",
       "      <th>date</th>\n",
       "      <th>revenue</th>\n",
       "      <th>group</th>\n",
       "    </tr>\n",
       "  </thead>\n",
       "  <tbody>\n",
       "    <tr>\n",
       "      <th>0</th>\n",
       "      <td>3667963787</td>\n",
       "      <td>3312258926</td>\n",
       "      <td>2019-08-15</td>\n",
       "      <td>1650</td>\n",
       "      <td>B</td>\n",
       "    </tr>\n",
       "    <tr>\n",
       "      <th>1</th>\n",
       "      <td>2804400009</td>\n",
       "      <td>3642806036</td>\n",
       "      <td>2019-08-15</td>\n",
       "      <td>730</td>\n",
       "      <td>B</td>\n",
       "    </tr>\n",
       "    <tr>\n",
       "      <th>2</th>\n",
       "      <td>2961555356</td>\n",
       "      <td>4069496402</td>\n",
       "      <td>2019-08-15</td>\n",
       "      <td>400</td>\n",
       "      <td>A</td>\n",
       "    </tr>\n",
       "    <tr>\n",
       "      <th>3</th>\n",
       "      <td>3797467345</td>\n",
       "      <td>1196621759</td>\n",
       "      <td>2019-08-15</td>\n",
       "      <td>9759</td>\n",
       "      <td>B</td>\n",
       "    </tr>\n",
       "    <tr>\n",
       "      <th>4</th>\n",
       "      <td>2282983706</td>\n",
       "      <td>2322279887</td>\n",
       "      <td>2019-08-15</td>\n",
       "      <td>2308</td>\n",
       "      <td>B</td>\n",
       "    </tr>\n",
       "  </tbody>\n",
       "</table>\n",
       "</div>"
      ],
      "text/plain": [
       "   transactionId   visitorId        date  revenue group\n",
       "0     3667963787  3312258926  2019-08-15     1650     B\n",
       "1     2804400009  3642806036  2019-08-15      730     B\n",
       "2     2961555356  4069496402  2019-08-15      400     A\n",
       "3     3797467345  1196621759  2019-08-15     9759     B\n",
       "4     2282983706  2322279887  2019-08-15     2308     B"
      ]
     },
     "metadata": {},
     "output_type": "display_data"
    },
    {
     "name": "stdout",
     "output_type": "stream",
     "text": [
      "<class 'pandas.core.frame.DataFrame'>\n",
      "RangeIndex: 1197 entries, 0 to 1196\n",
      "Data columns (total 5 columns):\n",
      " #   Column         Non-Null Count  Dtype \n",
      "---  ------         --------------  ----- \n",
      " 0   transactionId  1197 non-null   int64 \n",
      " 1   visitorId      1197 non-null   int64 \n",
      " 2   date           1197 non-null   object\n",
      " 3   revenue        1197 non-null   int64 \n",
      " 4   group          1197 non-null   object\n",
      "dtypes: int64(3), object(2)\n",
      "memory usage: 46.9+ KB\n",
      "0\n"
     ]
    },
    {
     "data": {
      "text/html": [
       "<div>\n",
       "<style scoped>\n",
       "    .dataframe tbody tr th:only-of-type {\n",
       "        vertical-align: middle;\n",
       "    }\n",
       "\n",
       "    .dataframe tbody tr th {\n",
       "        vertical-align: top;\n",
       "    }\n",
       "\n",
       "    .dataframe thead th {\n",
       "        text-align: right;\n",
       "    }\n",
       "</style>\n",
       "<table border=\"1\" class=\"dataframe\">\n",
       "  <thead>\n",
       "    <tr style=\"text-align: right;\">\n",
       "      <th></th>\n",
       "      <th>date</th>\n",
       "      <th>group</th>\n",
       "      <th>visitors</th>\n",
       "    </tr>\n",
       "  </thead>\n",
       "  <tbody>\n",
       "    <tr>\n",
       "      <th>0</th>\n",
       "      <td>2019-08-01</td>\n",
       "      <td>A</td>\n",
       "      <td>719</td>\n",
       "    </tr>\n",
       "    <tr>\n",
       "      <th>1</th>\n",
       "      <td>2019-08-02</td>\n",
       "      <td>A</td>\n",
       "      <td>619</td>\n",
       "    </tr>\n",
       "    <tr>\n",
       "      <th>2</th>\n",
       "      <td>2019-08-03</td>\n",
       "      <td>A</td>\n",
       "      <td>507</td>\n",
       "    </tr>\n",
       "    <tr>\n",
       "      <th>3</th>\n",
       "      <td>2019-08-04</td>\n",
       "      <td>A</td>\n",
       "      <td>717</td>\n",
       "    </tr>\n",
       "    <tr>\n",
       "      <th>4</th>\n",
       "      <td>2019-08-05</td>\n",
       "      <td>A</td>\n",
       "      <td>756</td>\n",
       "    </tr>\n",
       "  </tbody>\n",
       "</table>\n",
       "</div>"
      ],
      "text/plain": [
       "         date group  visitors\n",
       "0  2019-08-01     A       719\n",
       "1  2019-08-02     A       619\n",
       "2  2019-08-03     A       507\n",
       "3  2019-08-04     A       717\n",
       "4  2019-08-05     A       756"
      ]
     },
     "metadata": {},
     "output_type": "display_data"
    },
    {
     "name": "stdout",
     "output_type": "stream",
     "text": [
      "<class 'pandas.core.frame.DataFrame'>\n",
      "RangeIndex: 62 entries, 0 to 61\n",
      "Data columns (total 3 columns):\n",
      " #   Column    Non-Null Count  Dtype \n",
      "---  ------    --------------  ----- \n",
      " 0   date      62 non-null     object\n",
      " 1   group     62 non-null     object\n",
      " 2   visitors  62 non-null     int64 \n",
      "dtypes: int64(1), object(2)\n",
      "memory usage: 1.6+ KB\n",
      "0\n"
     ]
    }
   ],
   "source": [
    "orders = pd.read_csv('/datasets/orders.csv')\n",
    "visitors = pd.read_csv('/datasets/visitors.csv')\n",
    "\n",
    "display(orders.head(5))\n",
    "orders.info()\n",
    "print(orders.duplicated().sum())\n",
    "\n",
    "display(visitors.head(5))\n",
    "visitors.info()\n",
    "print(orders.duplicated().sum())"
   ]
  },
  {
   "cell_type": "markdown",
   "metadata": {},
   "source": [
    " Нахожу visitorId попавшие в обе группы"
   ]
  },
  {
   "cell_type": "code",
   "execution_count": 4,
   "metadata": {},
   "outputs": [
    {
     "data": {
      "text/plain": [
       "array([   8300375,  199603092,  232979603,  237748145,  276558944,\n",
       "        351125977,  393266494,  457167155,  471551937,  477780734,\n",
       "        818047933,  963407295, 1230306981, 1294878855, 1316129916,\n",
       "       1333886533, 1404934699, 1602967004, 1614305549, 1648269707,\n",
       "       1668030113, 1738359350, 1801183820, 1959144690, 2038680547,\n",
       "       2044997962, 2378935119, 2458001652, 2579882178, 2587333274,\n",
       "       2600415354, 2654030115, 2686716486, 2712142231, 2716752286,\n",
       "       2780786433, 2927087541, 2949041841, 2954449915, 3062433592,\n",
       "       3202540741, 3234906277, 3656415546, 3717692402, 3766097110,\n",
       "       3803269165, 3891541246, 3941795274, 3951559397, 3957174400,\n",
       "       3963646447, 3972127743, 3984495233, 4069496402, 4120364173,\n",
       "       4186807279, 4256040402, 4266935830])"
      ]
     },
     "execution_count": 4,
     "metadata": {},
     "output_type": "execute_result"
    }
   ],
   "source": [
    "np.intersect1d(orders.query('group == \"A\"')['visitorId'].unique(), orders.query('group == \"B\"')['visitorId'].unique())"
   ]
  },
  {
   "cell_type": "markdown",
   "metadata": {},
   "source": [
    " Для частоты теста удалим эти id из данных"
   ]
  },
  {
   "cell_type": "code",
   "execution_count": 5,
   "metadata": {},
   "outputs": [
    {
     "data": {
      "text/html": [
       "<div>\n",
       "<style scoped>\n",
       "    .dataframe tbody tr th:only-of-type {\n",
       "        vertical-align: middle;\n",
       "    }\n",
       "\n",
       "    .dataframe tbody tr th {\n",
       "        vertical-align: top;\n",
       "    }\n",
       "\n",
       "    .dataframe thead th {\n",
       "        text-align: right;\n",
       "    }\n",
       "</style>\n",
       "<table border=\"1\" class=\"dataframe\">\n",
       "  <thead>\n",
       "    <tr style=\"text-align: right;\">\n",
       "      <th></th>\n",
       "      <th>index</th>\n",
       "      <th>transactionId</th>\n",
       "      <th>visitorId</th>\n",
       "      <th>date</th>\n",
       "      <th>revenue</th>\n",
       "      <th>group</th>\n",
       "    </tr>\n",
       "  </thead>\n",
       "  <tbody>\n",
       "    <tr>\n",
       "      <th>0</th>\n",
       "      <td>0</td>\n",
       "      <td>3667963787</td>\n",
       "      <td>3312258926</td>\n",
       "      <td>2019-08-15</td>\n",
       "      <td>1650</td>\n",
       "      <td>B</td>\n",
       "    </tr>\n",
       "    <tr>\n",
       "      <th>1</th>\n",
       "      <td>1</td>\n",
       "      <td>2804400009</td>\n",
       "      <td>3642806036</td>\n",
       "      <td>2019-08-15</td>\n",
       "      <td>730</td>\n",
       "      <td>B</td>\n",
       "    </tr>\n",
       "    <tr>\n",
       "      <th>2</th>\n",
       "      <td>3</td>\n",
       "      <td>3797467345</td>\n",
       "      <td>1196621759</td>\n",
       "      <td>2019-08-15</td>\n",
       "      <td>9759</td>\n",
       "      <td>B</td>\n",
       "    </tr>\n",
       "    <tr>\n",
       "      <th>3</th>\n",
       "      <td>4</td>\n",
       "      <td>2282983706</td>\n",
       "      <td>2322279887</td>\n",
       "      <td>2019-08-15</td>\n",
       "      <td>2308</td>\n",
       "      <td>B</td>\n",
       "    </tr>\n",
       "    <tr>\n",
       "      <th>4</th>\n",
       "      <td>5</td>\n",
       "      <td>182168103</td>\n",
       "      <td>935554773</td>\n",
       "      <td>2019-08-15</td>\n",
       "      <td>2210</td>\n",
       "      <td>B</td>\n",
       "    </tr>\n",
       "    <tr>\n",
       "      <th>...</th>\n",
       "      <td>...</td>\n",
       "      <td>...</td>\n",
       "      <td>...</td>\n",
       "      <td>...</td>\n",
       "      <td>...</td>\n",
       "      <td>...</td>\n",
       "    </tr>\n",
       "    <tr>\n",
       "      <th>1011</th>\n",
       "      <td>1191</td>\n",
       "      <td>3592955527</td>\n",
       "      <td>608641596</td>\n",
       "      <td>2019-08-14</td>\n",
       "      <td>16490</td>\n",
       "      <td>B</td>\n",
       "    </tr>\n",
       "    <tr>\n",
       "      <th>1012</th>\n",
       "      <td>1192</td>\n",
       "      <td>2662137336</td>\n",
       "      <td>3733762160</td>\n",
       "      <td>2019-08-14</td>\n",
       "      <td>6490</td>\n",
       "      <td>B</td>\n",
       "    </tr>\n",
       "    <tr>\n",
       "      <th>1013</th>\n",
       "      <td>1193</td>\n",
       "      <td>2203539145</td>\n",
       "      <td>370388673</td>\n",
       "      <td>2019-08-14</td>\n",
       "      <td>3190</td>\n",
       "      <td>A</td>\n",
       "    </tr>\n",
       "    <tr>\n",
       "      <th>1014</th>\n",
       "      <td>1194</td>\n",
       "      <td>1807773912</td>\n",
       "      <td>573423106</td>\n",
       "      <td>2019-08-14</td>\n",
       "      <td>10550</td>\n",
       "      <td>A</td>\n",
       "    </tr>\n",
       "    <tr>\n",
       "      <th>1015</th>\n",
       "      <td>1196</td>\n",
       "      <td>3936777065</td>\n",
       "      <td>2108080724</td>\n",
       "      <td>2019-08-15</td>\n",
       "      <td>202740</td>\n",
       "      <td>B</td>\n",
       "    </tr>\n",
       "  </tbody>\n",
       "</table>\n",
       "<p>1016 rows × 6 columns</p>\n",
       "</div>"
      ],
      "text/plain": [
       "      index  transactionId   visitorId        date  revenue group\n",
       "0         0     3667963787  3312258926  2019-08-15     1650     B\n",
       "1         1     2804400009  3642806036  2019-08-15      730     B\n",
       "2         3     3797467345  1196621759  2019-08-15     9759     B\n",
       "3         4     2282983706  2322279887  2019-08-15     2308     B\n",
       "4         5      182168103   935554773  2019-08-15     2210     B\n",
       "...     ...            ...         ...         ...      ...   ...\n",
       "1011   1191     3592955527   608641596  2019-08-14    16490     B\n",
       "1012   1192     2662137336  3733762160  2019-08-14     6490     B\n",
       "1013   1193     2203539145   370388673  2019-08-14     3190     A\n",
       "1014   1194     1807773912   573423106  2019-08-14    10550     A\n",
       "1015   1196     3936777065  2108080724  2019-08-15   202740     B\n",
       "\n",
       "[1016 rows x 6 columns]"
      ]
     },
     "metadata": {},
     "output_type": "display_data"
    }
   ],
   "source": [
    "\n",
    "\n",
    "dublicat =   [ 8300375,  199603092,  232979603,  237748145,  276558944,\n",
    "        351125977,  393266494,  457167155,  471551937,  477780734,\n",
    "        818047933,  963407295, 1230306981, 1294878855, 1316129916,\n",
    "        1333886533, 1404934699, 1602967004, 1614305549, 1648269707,\n",
    "        1668030113, 1738359350, 1801183820, 1959144690, 2038680547,\n",
    "        2044997962, 2378935119, 2458001652, 2579882178, 2587333274,\n",
    "        2600415354, 2654030115, 2686716486, 2712142231, 2716752286,\n",
    "        2780786433, 2927087541, 2949041841, 2954449915, 3062433592,\n",
    "        3202540741, 3234906277, 3656415546, 3717692402, 3766097110,\n",
    "        3803269165, 3891541246, 3941795274, 3951559397, 3957174400,\n",
    "        3963646447, 3972127743, 3984495233, 4069496402, 4120364173,\n",
    "        4186807279, 4256040402, 4266935830]\n",
    "orders = orders.query('visitorId != @dublicat').reset_index() \n",
    "display(orders) \n",
    "\n"
   ]
  },
  {
   "cell_type": "markdown",
   "metadata": {},
   "source": [
    " Вывод: \n",
    "    \n",
    "    1. Пропусков и дубликатов в данных нет.\n",
    "    \n",
    "    2. Пользователей попавших в обе группы удалили. \n",
    "    \n",
    "    3. Данные готовы к анализу.\n",
    "    \n",
    "   "
   ]
  },
  {
   "cell_type": "markdown",
   "metadata": {},
   "source": [
    "Создаю масив уникальных пар значений дат и групп теста"
   ]
  },
  {
   "cell_type": "code",
   "execution_count": 6,
   "metadata": {},
   "outputs": [],
   "source": [
    "dates_groups = orders[['date','group']].drop_duplicates()"
   ]
  },
  {
   "cell_type": "markdown",
   "metadata": {},
   "source": [
    "Собераю агрегированные кумулятивные по дням данные"
   ]
  },
  {
   "cell_type": "code",
   "execution_count": 7,
   "metadata": {},
   "outputs": [],
   "source": [
    "orders_aggregated = dates_groups.apply(lambda x: orders[np.logical_and(orders['date'] <= x['date'], orders['group'] == x['group'])]\\\n",
    ".agg({'date' : 'max', 'group' : 'max', 'transactionId' : 'nunique', 'visitorId' : 'nunique', 'revenue' : 'sum'}), axis=1).sort_values(by=['date','group'])\n",
    "\n",
    "visitors_aggregated = dates_groups.apply(lambda x: visitors[np.logical_and(visitors['date'] <= x['date'], visitors['group'] == x['group'])].agg({'date' : 'max', 'group' : 'max', 'visitors' : 'sum'}), axis=1).sort_values(by=['date','group'])"
   ]
  },
  {
   "cell_type": "markdown",
   "metadata": {},
   "source": [
    "Объединяю обе таблицы в одну с понятными названиями столбцов"
   ]
  },
  {
   "cell_type": "code",
   "execution_count": 8,
   "metadata": {},
   "outputs": [
    {
     "data": {
      "text/html": [
       "<div>\n",
       "<style scoped>\n",
       "    .dataframe tbody tr th:only-of-type {\n",
       "        vertical-align: middle;\n",
       "    }\n",
       "\n",
       "    .dataframe tbody tr th {\n",
       "        vertical-align: top;\n",
       "    }\n",
       "\n",
       "    .dataframe thead th {\n",
       "        text-align: right;\n",
       "    }\n",
       "</style>\n",
       "<table border=\"1\" class=\"dataframe\">\n",
       "  <thead>\n",
       "    <tr style=\"text-align: right;\">\n",
       "      <th></th>\n",
       "      <th>date</th>\n",
       "      <th>group</th>\n",
       "      <th>orders</th>\n",
       "      <th>buyers</th>\n",
       "      <th>revenue</th>\n",
       "      <th>visitors</th>\n",
       "    </tr>\n",
       "  </thead>\n",
       "  <tbody>\n",
       "    <tr>\n",
       "      <th>0</th>\n",
       "      <td>2019-08-01</td>\n",
       "      <td>A</td>\n",
       "      <td>23</td>\n",
       "      <td>19</td>\n",
       "      <td>142779</td>\n",
       "      <td>719</td>\n",
       "    </tr>\n",
       "    <tr>\n",
       "      <th>1</th>\n",
       "      <td>2019-08-01</td>\n",
       "      <td>B</td>\n",
       "      <td>17</td>\n",
       "      <td>17</td>\n",
       "      <td>59758</td>\n",
       "      <td>713</td>\n",
       "    </tr>\n",
       "    <tr>\n",
       "      <th>2</th>\n",
       "      <td>2019-08-02</td>\n",
       "      <td>A</td>\n",
       "      <td>42</td>\n",
       "      <td>36</td>\n",
       "      <td>234381</td>\n",
       "      <td>1338</td>\n",
       "    </tr>\n",
       "    <tr>\n",
       "      <th>3</th>\n",
       "      <td>2019-08-02</td>\n",
       "      <td>B</td>\n",
       "      <td>40</td>\n",
       "      <td>39</td>\n",
       "      <td>221801</td>\n",
       "      <td>1294</td>\n",
       "    </tr>\n",
       "    <tr>\n",
       "      <th>4</th>\n",
       "      <td>2019-08-03</td>\n",
       "      <td>A</td>\n",
       "      <td>66</td>\n",
       "      <td>60</td>\n",
       "      <td>346854</td>\n",
       "      <td>1845</td>\n",
       "    </tr>\n",
       "  </tbody>\n",
       "</table>\n",
       "</div>"
      ],
      "text/plain": [
       "         date group  orders  buyers  revenue  visitors\n",
       "0  2019-08-01     A      23      19   142779       719\n",
       "1  2019-08-01     B      17      17    59758       713\n",
       "2  2019-08-02     A      42      36   234381      1338\n",
       "3  2019-08-02     B      40      39   221801      1294\n",
       "4  2019-08-03     A      66      60   346854      1845"
      ]
     },
     "metadata": {},
     "output_type": "display_data"
    }
   ],
   "source": [
    "cumulative_data = orders_aggregated.merge(visitors_aggregated, left_on=['date', 'group'], right_on=['date', 'group'])\n",
    "cumulative_data.columns = ['date', 'group', 'orders', 'buyers', 'revenue', 'visitors']\n",
    "\n",
    "display(cumulative_data.head(5))"
   ]
  },
  {
   "cell_type": "markdown",
   "metadata": {},
   "source": [
    "### Строю графики кумулятивной выручки по дням и группам A/B-тестирования"
   ]
  },
  {
   "cell_type": "code",
   "execution_count": 9,
   "metadata": {},
   "outputs": [
    {
     "data": {
      "image/png": "[encoded data removed]",
      "text/plain": [
       "<Figure size 1080x360 with 1 Axes>"
      ]
     },
     "metadata": {
      "needs_background": "light"
     },
     "output_type": "display_data"
    }
   ],
   "source": [
    "cumulative_revenue_a = cumulative_data[cumulative_data['group']=='A'][['date','revenue', 'orders']]\n",
    "cumulative_revenue_b = cumulative_data[cumulative_data['group']=='B'][['date','revenue', 'orders']]\n",
    "\n",
    "plt.figure(figsize=(15,5))\n",
    "plt.plot(cumulative_revenue_a['date'], cumulative_revenue_a['revenue'], label='A')\n",
    "plt.plot(cumulative_revenue_b['date'], cumulative_revenue_b['revenue'], label='B')\n",
    "\n",
    "plt.xlabel('Дата')\n",
    "plt.ylabel('Выручка в тысячах')\n",
    "plt.title('Кумулятивная выручка по дням')\n",
    "plt.xticks(rotation=90)\n",
    "plt.legend()\n",
    "plt.show()"
   ]
  },
  {
   "cell_type": "markdown",
   "metadata": {},
   "source": [
    "Вывод: \n",
    "\n",
    "1. Выручка увеличивается в течении всего теста.\n",
    "\n",
    "2. Выручка группы B практически постоянно выше выручки группы А.\n",
    "\n",
    "3. В графике есть резкие скачки, что показывает о наличии выбросов. Либо очень дорогшие заказы, либо всплеск числа заказов.\n",
    "\n",
    "4. Надо посмотреть график по среднему чеку."
   ]
  },
  {
   "cell_type": "markdown",
   "metadata": {},
   "source": [
    "### Строю графики среднего чека по группам"
   ]
  },
  {
   "cell_type": "code",
   "execution_count": 10,
   "metadata": {},
   "outputs": [
    {
     "data": {
      "image/png": "[encoded data removed]",
      "text/plain": [
       "<Figure size 1080x360 with 1 Axes>"
      ]
     },
     "metadata": {
      "needs_background": "light"
     },
     "output_type": "display_data"
    }
   ],
   "source": [
    "plt.figure(figsize=(15,5))\n",
    "plt.plot(cumulative_revenue_a['date'], cumulative_revenue_a['revenue']/cumulative_revenue_a['orders'], label='A')\n",
    "plt.plot(cumulative_revenue_b['date'], cumulative_revenue_b['revenue']/cumulative_revenue_b['orders'], label='B')\n",
    "\n",
    "plt.xlabel('Дата')\n",
    "plt.ylabel('Размер среднего чека')\n",
    "plt.title('Размер среднего чека по группам')\n",
    "plt.xticks(rotation=90)\n",
    "\n",
    "plt.legend()\n",
    "plt.show()"
   ]
  },
  {
   "cell_type": "markdown",
   "metadata": {},
   "source": [
    "Вывод:\n",
    "\n",
    "1. Показатели среднего чека группы А к концу более или менее стабилизируется.\n",
    "\n",
    "2. В группу В после середины теста попал аномально дорогой заказ.\n",
    "\n",
    "3. Построить график относительного различия для среднего чека."
   ]
  },
  {
   "cell_type": "markdown",
   "metadata": {},
   "source": [
    "### Строю график относительного различия для среднего чека"
   ]
  },
  {
   "cell_type": "code",
   "execution_count": 11,
   "metadata": {},
   "outputs": [
    {
     "data": {
      "image/png": "[encoded data removed]",
      "text/plain": [
       "<Figure size 1080x360 with 1 Axes>"
      ]
     },
     "metadata": {
      "needs_background": "light"
     },
     "output_type": "display_data"
    }
   ],
   "source": [
    "merged_cumulative_revenue = cumulative_revenue_a.merge(cumulative_revenue_b, left_on='date', right_on='date', how='left', suffixes=['A', 'B'])\n",
    "\n",
    "plt.figure(figsize=(15,5))\n",
    "plt.plot(merged_cumulative_revenue['date'], (merged_cumulative_revenue['revenueB']/merged_cumulative_revenue['ordersB'])/(merged_cumulative_revenue['revenueA']/merged_cumulative_revenue['ordersA'])-1)\n",
    "\n",
    "plt.xlabel('Дата')\n",
    "plt.ylabel('Отношение среднего чека B/A')\n",
    "plt.title('Относительное различие для среднего чека')\n",
    "plt.xticks(rotation=90)\n",
    "\n",
    "plt.axhline(y=0, color='black', linestyle='--')\n",
    "plt.show()"
   ]
  },
  {
   "cell_type": "markdown",
   "metadata": {},
   "source": [
    "Вывод:\n",
    "\n",
    "На графике чётко видны скачки, что говорит о наличии выбросов. Для правильного анализа их надо будет удалить."
   ]
  },
  {
   "cell_type": "markdown",
   "metadata": {},
   "source": [
    "### Строю график кумулятивной конверсии по группам"
   ]
  },
  {
   "cell_type": "code",
   "execution_count": 12,
   "metadata": {},
   "outputs": [
    {
     "data": {
      "image/png": "[encoded data removed]",
      "text/plain": [
       "<Figure size 1080x360 with 1 Axes>"
      ]
     },
     "metadata": {
      "needs_background": "light"
     },
     "output_type": "display_data"
    }
   ],
   "source": [
    "cumulative_data['conversion'] = cumulative_data['orders']/cumulative_data['visitors']\n",
    "\n",
    "cumulative_data_a = cumulative_data[cumulative_data['group']=='A']\n",
    "cumulative_data_b = cumulative_data[cumulative_data['group']=='B']\n",
    "\n",
    "plt.figure(figsize=(15,5))\n",
    "plt.plot(cumulative_data_a['date'], cumulative_data_a['conversion'], label='A')\n",
    "plt.plot(cumulative_data_b['date'], cumulative_data_b['conversion'], label='B')\n",
    "\n",
    "plt.xlabel('Дата')\n",
    "plt.ylabel('Уровень конверсии')\n",
    "plt.title('Кумулятивная конверсия по группам')\n",
    "plt.xticks(rotation=90)\n",
    "\n",
    "plt.legend()\n",
    "plt.show()"
   ]
  },
  {
   "cell_type": "markdown",
   "metadata": {},
   "source": [
    "Вывод: \n",
    "\n",
    "После стабилизации конверсия группы В стабильно выше."
   ]
  },
  {
   "cell_type": "markdown",
   "metadata": {},
   "source": [
    "### Строю график относительного изменения кумулятивной конверсии "
   ]
  },
  {
   "cell_type": "code",
   "execution_count": 13,
   "metadata": {},
   "outputs": [
    {
     "data": {
      "image/png": "[encoded data removed]",
      "text/plain": [
       "<Figure size 1080x360 with 1 Axes>"
      ]
     },
     "metadata": {
      "needs_background": "light"
     },
     "output_type": "display_data"
    }
   ],
   "source": [
    "merged_сumulative_сonversions = cumulative_data_a[['date','conversion']].merge(cumulative_data_b[['date','conversion']], left_on='date', right_on='date', how='left', suffixes=['A', 'B'])\n",
    "\n",
    "plt.figure(figsize=(15,5))\n",
    "plt.plot(merged_сumulative_сonversions['date'], merged_сumulative_сonversions['conversionB']/merged_сumulative_сonversions['conversionA']-1, label=\"Относительный прирост конверсии группы B относительно группы A\")\n",
    "\n",
    "\n",
    "plt.axhline(y=0, color='black', linestyle='--')\n",
    "plt.axhline(y=-0.1, color='grey', linestyle='--')\n",
    "plt.axis([\"2019-08-01\", '2019-08-31', -0.6, 0.6])\n",
    "\n",
    "plt.xlabel('Дата')\n",
    "plt.ylabel('Отношение конверсии  B/A')\n",
    "plt.title('Относительное изменение кумулятивной конверсии')\n",
    "plt.xticks(rotation=90)\n",
    "\n",
    "plt.show()"
   ]
  },
  {
   "cell_type": "markdown",
   "metadata": {},
   "source": [
    "Вывод: \n",
    "\n",
    "После стабилизации конверсия группы В стабильно выше."
   ]
  },
  {
   "cell_type": "markdown",
   "metadata": {},
   "source": [
    "### Постройте точечный график количества заказов по пользователям"
   ]
  },
  {
   "cell_type": "code",
   "execution_count": 14,
   "metadata": {},
   "outputs": [
    {
     "name": "stdout",
     "output_type": "stream",
     "text": [
      "         userId  orders\n",
      "908  3967698036       3\n",
      "55    249864742       3\n",
      "478  2108163459       3\n",
      "687  2988190573       3\n",
      "890  3908431265       3\n",
      "138   611059232       3\n",
      "632  2742574263       3\n",
      "157   678354126       2\n",
      "323  1404560065       2\n",
      "452  1985475298       2\n"
     ]
    },
    {
     "data": {
      "image/png": "[encoded data removed]",
      "text/plain": [
       "<Figure size 432x288 with 1 Axes>"
      ]
     },
     "metadata": {
      "needs_background": "light"
     },
     "output_type": "display_data"
    }
   ],
   "source": [
    "orders_by_users = (orders.groupby('visitorId', as_index=False).agg({'transactionId': pd.Series.nunique}))\n",
    "    \n",
    "\n",
    "orders_by_users.columns = ['userId', 'orders']\n",
    "\n",
    "print(orders_by_users.sort_values(by='orders', ascending=False).head(10))\n",
    "\n",
    "x_values = pd.Series(range(0,len(orders_by_users)))\n",
    "\n",
    "plt.scatter(x_values, orders_by_users['orders'])\n",
    "plt.show()"
   ]
  },
  {
   "cell_type": "markdown",
   "metadata": {},
   "source": [
    "Вывод:\n",
    "\n",
    "Количество пользователей у которых больше 2 заказов значительно уменьшается."
   ]
  },
  {
   "cell_type": "markdown",
   "metadata": {},
   "source": [
    "### Подсчитываю 95-й и 99-й перцентили количества заказов на пользователя"
   ]
  },
  {
   "cell_type": "code",
   "execution_count": 15,
   "metadata": {},
   "outputs": [
    {
     "name": "stdout",
     "output_type": "stream",
     "text": [
      "[1. 2.]\n"
     ]
    }
   ],
   "source": [
    "print(np.percentile(orders_by_users['orders'], [95, 99]))"
   ]
  },
  {
   "cell_type": "markdown",
   "metadata": {},
   "source": [
    "Вывод: \n",
    "\n",
    "1. Не более 5% пользователей делают больше 1 заказов. И 1% не больше 2.\n",
    "\n",
    "2. В дальнейших иследованиях буду использовать данные пользователей до 1 заказов"
   ]
  },
  {
   "cell_type": "markdown",
   "metadata": {},
   "source": [
    "### Строю точечный график стоимостей заказов"
   ]
  },
  {
   "cell_type": "code",
   "execution_count": 16,
   "metadata": {},
   "outputs": [
    {
     "data": {
      "image/png": "[encoded data removed]",
      "text/plain": [
       "<Figure size 432x288 with 1 Axes>"
      ]
     },
     "metadata": {
      "needs_background": "light"
     },
     "output_type": "display_data"
    }
   ],
   "source": [
    "x_values = pd.Series(range(0,len(orders['revenue'])))\n",
    "plt.scatter(x_values, orders['revenue'])\n",
    "plt.show()"
   ]
  },
  {
   "cell_type": "markdown",
   "metadata": {},
   "source": [
    "Вывод:\n",
    "\n",
    "Видны пару явно более дорогих заказов."
   ]
  },
  {
   "cell_type": "markdown",
   "metadata": {},
   "source": [
    "### Подсчитываю 95-й и 99-й перцентили стоимости заказов"
   ]
  },
  {
   "cell_type": "code",
   "execution_count": 17,
   "metadata": {},
   "outputs": [
    {
     "name": "stdout",
     "output_type": "stream",
     "text": [
      "[26785. 53904.]\n"
     ]
    }
   ],
   "source": [
    "print(np.percentile(orders['revenue'], [95, 99])) "
   ]
  },
  {
   "cell_type": "markdown",
   "metadata": {},
   "source": [
    "Вывод:\n",
    "\n",
    "1. Не более чеи у 5% чек дороже 26785 и у 1% дороже 53904.\n",
    "\n",
    "2. Для исключения выбросов надо брать данные со средним чеком до 28000."
   ]
  },
  {
   "cell_type": "markdown",
   "metadata": {},
   "source": [
    "### Посчитаю статистическую значимость различий в конверсии между группами по «сырым» данным."
   ]
  },
  {
   "cell_type": "markdown",
   "metadata": {},
   "source": [
    "Подготовим данные"
   ]
  },
  {
   "cell_type": "code",
   "execution_count": 18,
   "metadata": {},
   "outputs": [
    {
     "data": {
      "text/html": [
       "<div>\n",
       "<style scoped>\n",
       "    .dataframe tbody tr th:only-of-type {\n",
       "        vertical-align: middle;\n",
       "    }\n",
       "\n",
       "    .dataframe tbody tr th {\n",
       "        vertical-align: top;\n",
       "    }\n",
       "\n",
       "    .dataframe thead th {\n",
       "        text-align: right;\n",
       "    }\n",
       "</style>\n",
       "<table border=\"1\" class=\"dataframe\">\n",
       "  <thead>\n",
       "    <tr style=\"text-align: right;\">\n",
       "      <th></th>\n",
       "      <th>date</th>\n",
       "      <th>ordersPerDateA</th>\n",
       "      <th>revenuePerDateA</th>\n",
       "      <th>ordersPerDateB</th>\n",
       "      <th>revenuePerDateB</th>\n",
       "      <th>ordersCummulativeA</th>\n",
       "      <th>revenueCummulativeA</th>\n",
       "      <th>ordersCummulativeB</th>\n",
       "      <th>revenueCummulativeB</th>\n",
       "      <th>visitorsPerDateA</th>\n",
       "      <th>visitorsPerDateB</th>\n",
       "      <th>visitorsCummulativeA</th>\n",
       "      <th>visitorsCummulativeB</th>\n",
       "    </tr>\n",
       "  </thead>\n",
       "  <tbody>\n",
       "    <tr>\n",
       "      <th>0</th>\n",
       "      <td>2019-08-01</td>\n",
       "      <td>23</td>\n",
       "      <td>142779</td>\n",
       "      <td>17</td>\n",
       "      <td>59758</td>\n",
       "      <td>23</td>\n",
       "      <td>142779</td>\n",
       "      <td>17</td>\n",
       "      <td>59758</td>\n",
       "      <td>719</td>\n",
       "      <td>713</td>\n",
       "      <td>719</td>\n",
       "      <td>713</td>\n",
       "    </tr>\n",
       "    <tr>\n",
       "      <th>1</th>\n",
       "      <td>2019-08-02</td>\n",
       "      <td>19</td>\n",
       "      <td>91602</td>\n",
       "      <td>23</td>\n",
       "      <td>162043</td>\n",
       "      <td>42</td>\n",
       "      <td>234381</td>\n",
       "      <td>40</td>\n",
       "      <td>221801</td>\n",
       "      <td>619</td>\n",
       "      <td>581</td>\n",
       "      <td>1338</td>\n",
       "      <td>1294</td>\n",
       "    </tr>\n",
       "    <tr>\n",
       "      <th>2</th>\n",
       "      <td>2019-08-03</td>\n",
       "      <td>24</td>\n",
       "      <td>112473</td>\n",
       "      <td>14</td>\n",
       "      <td>67049</td>\n",
       "      <td>66</td>\n",
       "      <td>346854</td>\n",
       "      <td>54</td>\n",
       "      <td>288850</td>\n",
       "      <td>507</td>\n",
       "      <td>509</td>\n",
       "      <td>1845</td>\n",
       "      <td>1803</td>\n",
       "    </tr>\n",
       "    <tr>\n",
       "      <th>3</th>\n",
       "      <td>2019-08-04</td>\n",
       "      <td>11</td>\n",
       "      <td>41176</td>\n",
       "      <td>14</td>\n",
       "      <td>96890</td>\n",
       "      <td>77</td>\n",
       "      <td>388030</td>\n",
       "      <td>68</td>\n",
       "      <td>385740</td>\n",
       "      <td>717</td>\n",
       "      <td>770</td>\n",
       "      <td>2562</td>\n",
       "      <td>2573</td>\n",
       "    </tr>\n",
       "    <tr>\n",
       "      <th>4</th>\n",
       "      <td>2019-08-05</td>\n",
       "      <td>22</td>\n",
       "      <td>86383</td>\n",
       "      <td>21</td>\n",
       "      <td>89908</td>\n",
       "      <td>99</td>\n",
       "      <td>474413</td>\n",
       "      <td>89</td>\n",
       "      <td>475648</td>\n",
       "      <td>756</td>\n",
       "      <td>707</td>\n",
       "      <td>3318</td>\n",
       "      <td>3280</td>\n",
       "    </tr>\n",
       "  </tbody>\n",
       "</table>\n",
       "</div>"
      ],
      "text/plain": [
       "         date  ordersPerDateA  revenuePerDateA  ordersPerDateB  \\\n",
       "0  2019-08-01              23           142779              17   \n",
       "1  2019-08-02              19            91602              23   \n",
       "2  2019-08-03              24           112473              14   \n",
       "3  2019-08-04              11            41176              14   \n",
       "4  2019-08-05              22            86383              21   \n",
       "\n",
       "   revenuePerDateB  ordersCummulativeA  revenueCummulativeA  \\\n",
       "0            59758                  23               142779   \n",
       "1           162043                  42               234381   \n",
       "2            67049                  66               346854   \n",
       "3            96890                  77               388030   \n",
       "4            89908                  99               474413   \n",
       "\n",
       "   ordersCummulativeB  revenueCummulativeB  visitorsPerDateA  \\\n",
       "0                  17                59758               719   \n",
       "1                  40               221801               619   \n",
       "2                  54               288850               507   \n",
       "3                  68               385740               717   \n",
       "4                  89               475648               756   \n",
       "\n",
       "   visitorsPerDateB  visitorsCummulativeA  visitorsCummulativeB  \n",
       "0               713                   719                   713  \n",
       "1               581                  1338                  1294  \n",
       "2               509                  1845                  1803  \n",
       "3               770                  2562                  2573  \n",
       "4               707                  3318                  3280  "
      ]
     },
     "execution_count": 18,
     "metadata": {},
     "output_type": "execute_result"
    }
   ],
   "source": [
    "visitorsADaily = visitors[visitors['group'] == 'A'][['date', 'visitors']]\n",
    "visitorsADaily.columns = ['date', 'visitorsPerDateA']\n",
    "\n",
    "visitorsACummulative = visitorsADaily.apply(\n",
    "    lambda x: visitorsADaily[visitorsADaily['date'] <= x['date']].agg(\n",
    "        {'date': 'max', 'visitorsPerDateA': 'sum'}\n",
    "    ),\n",
    "    axis=1,\n",
    ")\n",
    "visitorsACummulative.columns = ['date', 'visitorsCummulativeA']\n",
    "\n",
    "visitorsBDaily = visitors[visitors['group'] == 'B'][['date', 'visitors']]\n",
    "visitorsBDaily.columns = ['date', 'visitorsPerDateB']\n",
    "\n",
    "visitorsBCummulative = visitorsBDaily.apply(\n",
    "    lambda x: visitorsBDaily[visitorsBDaily['date'] <= x['date']].agg(\n",
    "        {'date': 'max', 'visitorsPerDateB': 'sum'}\n",
    "    ),\n",
    "    axis=1,\n",
    ")\n",
    "visitorsBCummulative.columns = ['date', 'visitorsCummulativeB']\n",
    "\n",
    "ordersADaily = (\n",
    "    orders[orders['group'] == 'A'][['date', 'transactionId', 'visitorId', 'revenue']]\n",
    "    .groupby('date', as_index=False)\n",
    "    .agg({'transactionId': pd.Series.nunique, 'revenue': 'sum'})\n",
    ")\n",
    "ordersADaily.columns = ['date', 'ordersPerDateA', 'revenuePerDateA']\n",
    "\n",
    "ordersACummulative = ordersADaily.apply(\n",
    "    lambda x: ordersADaily[ordersADaily['date'] <= x['date']].agg(\n",
    "        {'date': 'max', 'ordersPerDateA': 'sum', 'revenuePerDateA': 'sum'}\n",
    "    ),\n",
    "    axis=1,\n",
    ").sort_values(by=['date'])\n",
    "ordersACummulative.columns = [\n",
    "    'date',\n",
    "    'ordersCummulativeA',\n",
    "    'revenueCummulativeA',\n",
    "]\n",
    "\n",
    "ordersBDaily = (\n",
    "    orders[orders['group'] == 'B'][['date', 'transactionId', 'visitorId', 'revenue']]\n",
    "    .groupby('date', as_index=False)\n",
    "    .agg({'transactionId': pd.Series.nunique, 'revenue': 'sum'})\n",
    ")\n",
    "ordersBDaily.columns = ['date', 'ordersPerDateB', 'revenuePerDateB']\n",
    "\n",
    "ordersBCummulative = ordersBDaily.apply(\n",
    "    lambda x: ordersBDaily[ordersBDaily['date'] <= x['date']].agg(\n",
    "        {'date': 'max', 'ordersPerDateB': 'sum', 'revenuePerDateB': 'sum'}\n",
    "    ),\n",
    "    axis=1,\n",
    ").sort_values(by=['date'])\n",
    "ordersBCummulative.columns = [\n",
    "    'date',\n",
    "    'ordersCummulativeB',\n",
    "    'revenueCummulativeB',\n",
    "]\n",
    "\n",
    "data_total = (\n",
    "    ordersADaily.merge(\n",
    "        ordersBDaily, left_on='date', right_on='date', how='left'\n",
    "    )\n",
    "    .merge(ordersACummulative, left_on='date', right_on='date', how='left')\n",
    "    .merge(ordersBCummulative, left_on='date', right_on='date', how='left')\n",
    "    .merge(visitorsADaily, left_on='date', right_on='date', how='left')\n",
    "    .merge(visitorsBDaily, left_on='date', right_on='date', how='left')\n",
    "    .merge(visitorsACummulative, left_on='date', right_on='date', how='left')\n",
    "    .merge(visitorsBCummulative, left_on='date', right_on='date', how='left')\n",
    ")\n",
    "\n",
    "data_total.head(5)"
   ]
  },
  {
   "cell_type": "markdown",
   "metadata": {},
   "source": [
    "Считаем значимость"
   ]
  },
  {
   "cell_type": "markdown",
   "metadata": {},
   "source": [
    "\n",
    "    \n",
    " Постановка гипотез:\n",
    "    \n",
    "    Нулевая гипотеза: Конверсия групп А и В равна.\n",
    "    \n",
    "    Обратная гипотеза: Конверсия групп А и В не равны."
   ]
  },
  {
   "cell_type": "code",
   "execution_count": 19,
   "metadata": {},
   "outputs": [
    {
     "name": "stdout",
     "output_type": "stream",
     "text": [
      "p-value = 0.011\n",
      "Отношение В/A = 0.160\n"
     ]
    }
   ],
   "source": [
    "orders_by_users_a = orders[orders['group'] == 'A'].groupby('visitorId', as_index=False).agg({'transactionId': pd.Series.nunique})\n",
    "orders_by_users_a.columns = ['userId', 'orders']\n",
    "\n",
    "orders_by_users_b = orders[orders['group'] == 'B'].groupby('visitorId', as_index=False).agg({'transactionId': pd.Series.nunique})\n",
    "orders_by_users_b.columns = ['userId', 'orders']\n",
    "\n",
    "sampleA = pd.concat([orders_by_users_a['orders'], pd.Series(0, index=np.arange(data_total['visitorsPerDateA'].sum() - len(orders_by_users_a['orders'])), name='orders')], axis=0)\n",
    "sampleB = pd.concat([orders_by_users_b['orders'], pd.Series(0, index=np.arange(data_total['visitorsPerDateB'].sum() - len(orders_by_users_b['orders'])), name='orders')], axis=0)\n",
    "\n",
    "print('p-value =', '{0:.3f}'.format(stats.mannwhitneyu(sampleA, sampleB)[1]))\n",
    "print('Отношение В/A =', \"{0:.3f}\".format(sampleB.mean() / sampleA.mean() - 1))"
   ]
  },
  {
   "cell_type": "markdown",
   "metadata": {},
   "source": [
    "Вывод:\n",
    "\n",
    "По \"сырым данным\" нулевая гепотеза о равенстве конверсий A/B отклоняется. p-value < 0,05. Отночительный выигрыш группы В 16%. "
   ]
  },
  {
   "cell_type": "markdown",
   "metadata": {},
   "source": [
    "### Посчитаю статистическую значимость различий в среднем чеке заказа между группами по «сырым» данным"
   ]
  },
  {
   "cell_type": "markdown",
   "metadata": {},
   "source": [
    "\n",
    "    \n",
    " Постановка гипотез:\n",
    "    \n",
    "    Нулевая гипотеза: Значение среднего чека групп А и В равны.\n",
    "    \n",
    "    Обратная гипотеза: Значение среднего чека групп А и В не равны."
   ]
  },
  {
   "cell_type": "code",
   "execution_count": 20,
   "metadata": {},
   "outputs": [
    {
     "name": "stdout",
     "output_type": "stream",
     "text": [
      "p-value = 0.829\n",
      "Отношение В/A = 0.287\n"
     ]
    }
   ],
   "source": [
    "print('p-value =', '{0:.3f}'.format(stats.mannwhitneyu(orders[orders['group']=='A']['revenue'], orders[orders['group']=='B']['revenue'])[1]))\n",
    "print('Отношение В/A =', '{0:.3f}'.format(orders[orders['group']=='B']['revenue'].mean()/orders[orders['group']=='A']['revenue'].mean()-1)) "
   ]
  },
  {
   "cell_type": "markdown",
   "metadata": {},
   "source": [
    "Вывод:\n",
    "\n",
    "По \"сырым данным\" гипотезу о равенстве средних чеков опровергнуть не удалось. p-value > 0.05. Хотя относительный выигрыш группы В составил 28.7%."
   ]
  },
  {
   "cell_type": "markdown",
   "metadata": {},
   "source": [
    "### Посчитаю статистическую значимость различий в конверсии между группами по «очищенным» данным"
   ]
  },
  {
   "cell_type": "markdown",
   "metadata": {},
   "source": [
    "\n",
    "    \n",
    " Постановка гипотез:\n",
    "    \n",
    "    Нулевая гипотеза: Конверсия групп А и В равна.\n",
    "    \n",
    "    Обратная гипотеза: Конверсия групп А и В не равны."
   ]
  },
  {
   "cell_type": "code",
   "execution_count": 21,
   "metadata": {},
   "outputs": [
    {
     "name": "stdout",
     "output_type": "stream",
     "text": [
      "p-value = 0.011\n",
      "Отношение В/A = 0.185\n"
     ]
    }
   ],
   "source": [
    "usersWithManyOrders = pd.concat([orders_by_users_a[orders_by_users_a['orders'] > 1]['userId'], orders_by_users_b[orders_by_users_b['orders'] >= 2]['userId']], axis=0)\n",
    "\n",
    "usersWithExpensiveOrders = orders[orders['revenue'] > 26785]['visitorId']\n",
    "\n",
    "\n",
    "abnormalUsers = pd.concat([usersWithManyOrders, usersWithExpensiveOrders], axis=0).drop_duplicates().sort_values()\n",
    "\n",
    "\n",
    "sampleAFiltered = pd.concat([orders_by_users_a[np.logical_not(orders_by_users_a['userId'].isin(abnormalUsers))]['orders'], pd.Series(0, index=np.arange(data_total['visitorsPerDateA'].sum() - len(orders_by_users_a['orders'])), name='orders')],axis=0)\n",
    "sampleBFiltered = pd.concat([orders_by_users_b[np.logical_not(orders_by_users_b['userId'].isin(abnormalUsers))]['orders'], pd.Series(0, index=np.arange(data_total['visitorsPerDateA'].sum() - len(orders_by_users_b['orders'])), name='orders')],axis=0)\n",
    "\n",
    "\n",
    "print('p-value =', '{0:.3f}'.format(stats.mannwhitneyu(sampleAFiltered, sampleBFiltered)[1]))\n",
    "print('Отношение В/A =', '{0:.3f}'.format(sampleBFiltered.mean()/sampleAFiltered.mean()-1)) "
   ]
  },
  {
   "cell_type": "markdown",
   "metadata": {},
   "source": [
    "Вывод:\n",
    "\n",
    "По \"очищенным\" данным так же отвергается гипотеза о равенстве конверсий. p-value < 0.05. Отношение В/A = 18.5%."
   ]
  },
  {
   "cell_type": "markdown",
   "metadata": {},
   "source": [
    "### Посчитаю статистическую значимость различий в среднем чеке заказа между группами по «очищенным» данным"
   ]
  },
  {
   "cell_type": "markdown",
   "metadata": {},
   "source": [
    "\n",
    "    \n",
    " Постановка гипотез:\n",
    "    \n",
    "    Нулевая гипотеза: Значение среднего чека групп А и В равны.\n",
    "    \n",
    "    Обратная гипотеза: Значение среднего чека групп А и В не равны."
   ]
  },
  {
   "cell_type": "code",
   "execution_count": 22,
   "metadata": {},
   "outputs": [
    {
     "name": "stdout",
     "output_type": "stream",
     "text": [
      "p-value = 0.727\n",
      "Отношение В/A = -0.034\n"
     ]
    }
   ],
   "source": [
    "print('p-value =', '{0:.3f}'.format(stats.mannwhitneyu(orders[np.logical_and(orders['group'] == 'A', np.logical_not(orders['visitorId'].isin(abnormalUsers)))]['revenue'], orders[np.logical_and(orders['group'] == 'B', np.logical_not(orders['visitorId'].isin(abnormalUsers)))]['revenue'])[1]))\n",
    "\n",
    "print('Отношение В/A =', '{0:.3f}'.format(orders[np.logical_and(orders['group'] == 'B', np.logical_not(orders['visitorId'].isin(abnormalUsers)))]['revenue'].mean() / orders[np.logical_and(orders['group'] == 'A', np.logical_not(orders['visitorId'].isin(abnormalUsers)))]['revenue'].mean() - 1))"
   ]
  },
  {
   "cell_type": "markdown",
   "metadata": {},
   "source": [
    "Вывод:\n",
    "\n",
    "По \"очищенным\" так же не удалось отвергнуть гепотезу о равенстве средних чеков. p-value > 0.05. Мало того относительная разница стала выше в группе А на 3.4%."
   ]
  },
  {
   "cell_type": "markdown",
   "metadata": {},
   "source": [
    "## Вывод:\n",
    "\n",
    "1. Считаю, что тест надо остановить и зафиксировать победу группы В.\n",
    "\n",
    "2. Потому что видим, что средний чек хоть и равен между группами, но конверсия в группе В однозначно выше. Следовательно и покупательская способность группы В будет выше."
   ]
  },
  {
   "cell_type": "markdown",
   "metadata": {},
   "source": [
    "#   Общий вывод:\n",
    "    \n",
    "    1. Загруженные данные были проверены. Обнаружена проблема дубликатов id по группам. Решена путём удаления этих id из данных.\n",
    "    \n",
    "    2. Была проведена приоретизация гипотез. Найдена гипотеза, которая охватит наибольшее количество пользователей. Гипотеза: \"Добавить форму подписки на все основные страницы, чтобы собрать базу клиентов для email-рассылок\".\n",
    "    \n",
    "    3. Анализ данных показал, что средний чек по группам примерно равен, а выручка и конверсия группы \"В\" явно выше. Также было обнаружено, что в данных есть аномальные выбросы по количеству заказов и их стоймости.\n",
    "    \n",
    "    4. Была произведена проверка гипотез по данным с аномалиями и по \"очищенным\" данным.\n",
    "    \n",
    "    5. В итоге пришли к выводу, что тест может быть остановлен и зафиксирована победа группы \"B\".\n",
    "    \n",
    "    \n",
    "    \n",
    "    "
   ]
  },
  {
   "cell_type": "code",
   "execution_count": null,
   "metadata": {},
   "outputs": [],
   "source": []
  }
 ],
 "metadata": {
  "ExecuteTimeLog": [
   {
    "duration": 1115,
    "start_time": "2022-03-02T12:13:18.073Z"
   },
   {
    "duration": 83,
    "start_time": "2022-03-02T12:17:22.790Z"
   },
   {
    "duration": 43,
    "start_time": "2022-03-02T12:18:13.179Z"
   },
   {
    "duration": 21,
    "start_time": "2022-03-02T12:18:38.798Z"
   },
   {
    "duration": 135,
    "start_time": "2022-03-02T12:23:32.800Z"
   },
   {
    "duration": 25,
    "start_time": "2022-03-02T12:24:53.244Z"
   },
   {
    "duration": 26,
    "start_time": "2022-03-02T12:25:16.908Z"
   },
   {
    "duration": 29,
    "start_time": "2022-03-02T12:43:56.136Z"
   },
   {
    "duration": 41,
    "start_time": "2022-03-02T12:46:12.909Z"
   },
   {
    "duration": 1760,
    "start_time": "2022-03-02T13:29:17.754Z"
   },
   {
    "duration": 45,
    "start_time": "2022-03-02T13:30:51.427Z"
   },
   {
    "duration": 8,
    "start_time": "2022-03-02T13:41:20.847Z"
   },
   {
    "duration": 6221,
    "start_time": "2022-03-02T13:45:43.905Z"
   },
   {
    "duration": 519,
    "start_time": "2022-03-02T13:50:08.722Z"
   },
   {
    "duration": 15,
    "start_time": "2022-03-02T13:52:29.544Z"
   },
   {
    "duration": 1232,
    "start_time": "2022-03-02T13:53:50.515Z"
   },
   {
    "duration": 47,
    "start_time": "2022-03-02T13:53:51.749Z"
   },
   {
    "duration": 43,
    "start_time": "2022-03-02T13:53:51.799Z"
   },
   {
    "duration": 8,
    "start_time": "2022-03-02T13:53:51.844Z"
   },
   {
    "duration": 541,
    "start_time": "2022-03-02T13:53:51.854Z"
   },
   {
    "duration": 14,
    "start_time": "2022-03-02T13:53:52.398Z"
   },
   {
    "duration": 4,
    "start_time": "2022-03-02T13:58:25.095Z"
   },
   {
    "duration": 8,
    "start_time": "2022-03-02T14:01:07.874Z"
   },
   {
    "duration": 517,
    "start_time": "2022-03-02T14:02:06.544Z"
   },
   {
    "duration": 14,
    "start_time": "2022-03-02T14:03:12.599Z"
   },
   {
    "duration": 442,
    "start_time": "2022-03-02T14:08:08.959Z"
   },
   {
    "duration": 652,
    "start_time": "2022-03-02T14:12:28.063Z"
   },
   {
    "duration": 687,
    "start_time": "2022-03-02T14:16:54.278Z"
   },
   {
    "duration": 729,
    "start_time": "2022-03-02T14:18:31.866Z"
   },
   {
    "duration": 592,
    "start_time": "2022-03-02T14:19:02.313Z"
   },
   {
    "duration": 632,
    "start_time": "2022-03-02T14:19:27.002Z"
   },
   {
    "duration": 721,
    "start_time": "2022-03-02T14:19:55.445Z"
   },
   {
    "duration": 702,
    "start_time": "2022-03-02T14:33:01.158Z"
   },
   {
    "duration": 512,
    "start_time": "2022-03-02T14:49:04.775Z"
   },
   {
    "duration": 537,
    "start_time": "2022-03-02T14:49:21.259Z"
   },
   {
    "duration": 678,
    "start_time": "2022-03-02T14:49:57.204Z"
   },
   {
    "duration": 605,
    "start_time": "2022-03-02T15:46:52.601Z"
   },
   {
    "duration": 888,
    "start_time": "2022-03-02T15:49:40.866Z"
   },
   {
    "duration": 643,
    "start_time": "2022-03-02T15:51:31.079Z"
   },
   {
    "duration": 241,
    "start_time": "2022-03-02T16:01:22.959Z"
   },
   {
    "duration": 445,
    "start_time": "2022-03-02T16:08:00.540Z"
   },
   {
    "duration": 702,
    "start_time": "2022-03-02T16:10:41.945Z"
   },
   {
    "duration": 526,
    "start_time": "2022-03-02T16:12:52.571Z"
   },
   {
    "duration": 838,
    "start_time": "2022-03-02T16:13:51.390Z"
   },
   {
    "duration": 737,
    "start_time": "2022-03-02T16:14:19.164Z"
   },
   {
    "duration": 256,
    "start_time": "2022-03-02T16:47:21.533Z"
   },
   {
    "duration": 426,
    "start_time": "2022-03-02T16:48:52.656Z"
   },
   {
    "duration": 209,
    "start_time": "2022-03-02T16:49:55.921Z"
   },
   {
    "duration": 192,
    "start_time": "2022-03-02T16:50:31.759Z"
   },
   {
    "duration": 219,
    "start_time": "2022-03-02T16:52:32.562Z"
   },
   {
    "duration": 212,
    "start_time": "2022-03-02T16:52:49.850Z"
   },
   {
    "duration": 610,
    "start_time": "2022-03-02T16:54:38.672Z"
   },
   {
    "duration": 623,
    "start_time": "2022-03-02T16:58:17.576Z"
   },
   {
    "duration": 6,
    "start_time": "2022-03-02T17:01:44.261Z"
   },
   {
    "duration": 6,
    "start_time": "2022-03-02T17:02:02.501Z"
   },
   {
    "duration": 380,
    "start_time": "2022-03-02T17:29:03.595Z"
   },
   {
    "duration": 7,
    "start_time": "2022-03-02T17:35:04.344Z"
   },
   {
    "duration": 1058,
    "start_time": "2022-03-03T08:52:28.227Z"
   },
   {
    "duration": 32,
    "start_time": "2022-03-03T08:52:29.287Z"
   },
   {
    "duration": 45,
    "start_time": "2022-03-03T08:52:29.321Z"
   },
   {
    "duration": 5,
    "start_time": "2022-03-03T08:52:29.368Z"
   },
   {
    "duration": 284,
    "start_time": "2022-03-03T08:52:29.374Z"
   },
   {
    "duration": 252,
    "start_time": "2022-03-03T08:52:29.660Z"
   },
   {
    "duration": -127,
    "start_time": "2022-03-03T08:52:30.041Z"
   },
   {
    "duration": -129,
    "start_time": "2022-03-03T08:52:30.043Z"
   },
   {
    "duration": -129,
    "start_time": "2022-03-03T08:52:30.044Z"
   },
   {
    "duration": -130,
    "start_time": "2022-03-03T08:52:30.046Z"
   },
   {
    "duration": -129,
    "start_time": "2022-03-03T08:52:30.046Z"
   },
   {
    "duration": -130,
    "start_time": "2022-03-03T08:52:30.048Z"
   },
   {
    "duration": -149,
    "start_time": "2022-03-03T08:52:30.068Z"
   },
   {
    "duration": -149,
    "start_time": "2022-03-03T08:52:30.069Z"
   },
   {
    "duration": -150,
    "start_time": "2022-03-03T08:52:30.071Z"
   },
   {
    "duration": 989,
    "start_time": "2022-03-03T08:53:48.098Z"
   },
   {
    "duration": 36,
    "start_time": "2022-03-03T08:53:49.088Z"
   },
   {
    "duration": 40,
    "start_time": "2022-03-03T08:53:49.126Z"
   },
   {
    "duration": 5,
    "start_time": "2022-03-03T08:53:49.168Z"
   },
   {
    "duration": 286,
    "start_time": "2022-03-03T08:53:49.175Z"
   },
   {
    "duration": 8,
    "start_time": "2022-03-03T08:53:49.463Z"
   },
   {
    "duration": 368,
    "start_time": "2022-03-03T08:53:49.472Z"
   },
   {
    "duration": 357,
    "start_time": "2022-03-03T08:53:49.842Z"
   },
   {
    "duration": 503,
    "start_time": "2022-03-03T08:53:50.201Z"
   },
   {
    "duration": 372,
    "start_time": "2022-03-03T08:53:50.706Z"
   },
   {
    "duration": 459,
    "start_time": "2022-03-03T08:53:51.080Z"
   },
   {
    "duration": 375,
    "start_time": "2022-03-03T08:53:51.541Z"
   },
   {
    "duration": 16,
    "start_time": "2022-03-03T08:53:51.918Z"
   },
   {
    "duration": 289,
    "start_time": "2022-03-03T08:53:51.936Z"
   },
   {
    "duration": 4,
    "start_time": "2022-03-03T08:53:52.232Z"
   },
   {
    "duration": 260,
    "start_time": "2022-03-03T09:00:22.460Z"
   },
   {
    "duration": 142,
    "start_time": "2022-03-03T10:01:26.519Z"
   },
   {
    "duration": 422,
    "start_time": "2022-03-03T10:01:50.996Z"
   },
   {
    "duration": 4872,
    "start_time": "2022-03-03T10:07:26.329Z"
   },
   {
    "duration": 262,
    "start_time": "2022-03-03T10:09:20.364Z"
   },
   {
    "duration": 124,
    "start_time": "2022-03-03T10:17:37.701Z"
   },
   {
    "duration": 153,
    "start_time": "2022-03-03T10:22:32.648Z"
   },
   {
    "duration": 141,
    "start_time": "2022-03-03T10:24:50.218Z"
   },
   {
    "duration": 9,
    "start_time": "2022-03-03T10:37:25.157Z"
   },
   {
    "duration": 10,
    "start_time": "2022-03-03T10:38:34.193Z"
   },
   {
    "duration": 4604,
    "start_time": "2022-03-03T11:16:32.320Z"
   },
   {
    "duration": 4483,
    "start_time": "2022-03-03T11:18:43.066Z"
   },
   {
    "duration": 10,
    "start_time": "2022-03-03T11:20:18.345Z"
   },
   {
    "duration": 12,
    "start_time": "2022-03-03T11:23:24.403Z"
   },
   {
    "duration": 18,
    "start_time": "2022-03-03T11:25:07.579Z"
   },
   {
    "duration": 16,
    "start_time": "2022-03-03T11:25:43.583Z"
   },
   {
    "duration": 4498,
    "start_time": "2022-03-03T11:39:44.852Z"
   },
   {
    "duration": 8,
    "start_time": "2022-03-03T11:40:59.389Z"
   },
   {
    "duration": 227,
    "start_time": "2022-03-03T11:48:37.869Z"
   },
   {
    "duration": 13,
    "start_time": "2022-03-03T11:48:47.088Z"
   },
   {
    "duration": 1051,
    "start_time": "2022-03-03T12:12:52.129Z"
   },
   {
    "duration": 34,
    "start_time": "2022-03-03T12:12:53.182Z"
   },
   {
    "duration": 44,
    "start_time": "2022-03-03T12:12:53.218Z"
   },
   {
    "duration": 5,
    "start_time": "2022-03-03T12:12:53.264Z"
   },
   {
    "duration": 287,
    "start_time": "2022-03-03T12:12:53.270Z"
   },
   {
    "duration": 8,
    "start_time": "2022-03-03T12:12:53.559Z"
   },
   {
    "duration": 378,
    "start_time": "2022-03-03T12:12:53.569Z"
   },
   {
    "duration": 353,
    "start_time": "2022-03-03T12:12:53.949Z"
   },
   {
    "duration": 499,
    "start_time": "2022-03-03T12:12:54.303Z"
   },
   {
    "duration": 378,
    "start_time": "2022-03-03T12:12:54.803Z"
   },
   {
    "duration": 471,
    "start_time": "2022-03-03T12:12:55.183Z"
   },
   {
    "duration": 380,
    "start_time": "2022-03-03T12:12:55.656Z"
   },
   {
    "duration": 4,
    "start_time": "2022-03-03T12:12:56.038Z"
   },
   {
    "duration": 298,
    "start_time": "2022-03-03T12:12:56.043Z"
   },
   {
    "duration": 4,
    "start_time": "2022-03-03T12:12:56.342Z"
   },
   {
    "duration": 308,
    "start_time": "2022-03-03T12:12:56.348Z"
   },
   {
    "duration": 134,
    "start_time": "2022-03-03T12:12:56.657Z"
   },
   {
    "duration": 10,
    "start_time": "2022-03-03T12:12:56.793Z"
   },
   {
    "duration": 36,
    "start_time": "2022-03-03T12:12:56.804Z"
   },
   {
    "duration": 13,
    "start_time": "2022-03-03T12:12:56.842Z"
   },
   {
    "duration": 1072,
    "start_time": "2022-03-03T20:47:37.686Z"
   },
   {
    "duration": 49,
    "start_time": "2022-03-03T20:47:38.760Z"
   },
   {
    "duration": 90,
    "start_time": "2022-03-03T20:47:38.811Z"
   },
   {
    "duration": 6,
    "start_time": "2022-03-03T20:47:38.903Z"
   },
   {
    "duration": 316,
    "start_time": "2022-03-03T20:47:38.911Z"
   },
   {
    "duration": 10,
    "start_time": "2022-03-03T20:47:39.228Z"
   },
   {
    "duration": 447,
    "start_time": "2022-03-03T20:47:39.239Z"
   },
   {
    "duration": 435,
    "start_time": "2022-03-03T20:47:39.689Z"
   },
   {
    "duration": 505,
    "start_time": "2022-03-03T20:47:40.126Z"
   },
   {
    "duration": 459,
    "start_time": "2022-03-03T20:47:40.633Z"
   },
   {
    "duration": 533,
    "start_time": "2022-03-03T20:47:41.094Z"
   },
   {
    "duration": 439,
    "start_time": "2022-03-03T20:47:41.629Z"
   },
   {
    "duration": 4,
    "start_time": "2022-03-03T20:47:42.077Z"
   },
   {
    "duration": 321,
    "start_time": "2022-03-03T20:47:42.083Z"
   },
   {
    "duration": 5,
    "start_time": "2022-03-03T20:47:42.405Z"
   },
   {
    "duration": 280,
    "start_time": "2022-03-03T20:47:42.411Z"
   },
   {
    "duration": 151,
    "start_time": "2022-03-03T20:47:42.692Z"
   },
   {
    "duration": 9,
    "start_time": "2022-03-03T20:47:42.845Z"
   },
   {
    "duration": 21,
    "start_time": "2022-03-03T20:47:42.877Z"
   },
   {
    "duration": 23,
    "start_time": "2022-03-03T20:47:42.900Z"
   },
   {
    "duration": 212,
    "start_time": "2022-03-04T09:05:21.913Z"
   },
   {
    "duration": 1090,
    "start_time": "2022-03-04T09:05:30.044Z"
   },
   {
    "duration": 36,
    "start_time": "2022-03-04T09:05:31.135Z"
   },
   {
    "duration": 41,
    "start_time": "2022-03-04T09:05:31.173Z"
   },
   {
    "duration": 6,
    "start_time": "2022-03-04T09:05:31.216Z"
   },
   {
    "duration": 331,
    "start_time": "2022-03-04T09:05:31.224Z"
   },
   {
    "duration": 9,
    "start_time": "2022-03-04T09:05:31.557Z"
   },
   {
    "duration": 439,
    "start_time": "2022-03-04T09:05:31.568Z"
   },
   {
    "duration": 408,
    "start_time": "2022-03-04T09:05:32.009Z"
   },
   {
    "duration": 494,
    "start_time": "2022-03-04T09:05:32.419Z"
   },
   {
    "duration": 447,
    "start_time": "2022-03-04T09:05:32.915Z"
   },
   {
    "duration": 536,
    "start_time": "2022-03-04T09:05:33.363Z"
   },
   {
    "duration": 386,
    "start_time": "2022-03-04T09:05:33.901Z"
   },
   {
    "duration": 4,
    "start_time": "2022-03-04T09:05:34.289Z"
   },
   {
    "duration": 311,
    "start_time": "2022-03-04T09:05:34.295Z"
   },
   {
    "duration": 4,
    "start_time": "2022-03-04T09:05:34.607Z"
   },
   {
    "duration": 273,
    "start_time": "2022-03-04T09:05:34.613Z"
   },
   {
    "duration": 133,
    "start_time": "2022-03-04T09:05:34.888Z"
   },
   {
    "duration": 9,
    "start_time": "2022-03-04T09:05:35.023Z"
   },
   {
    "duration": 33,
    "start_time": "2022-03-04T09:05:35.034Z"
   },
   {
    "duration": 13,
    "start_time": "2022-03-04T09:05:35.069Z"
   },
   {
    "duration": 32,
    "start_time": "2022-03-04T09:06:03.109Z"
   },
   {
    "duration": 39,
    "start_time": "2022-03-04T09:06:55.271Z"
   },
   {
    "duration": 36,
    "start_time": "2022-03-04T09:08:17.977Z"
   },
   {
    "duration": 39,
    "start_time": "2022-03-04T09:30:32.560Z"
   },
   {
    "duration": 62,
    "start_time": "2022-03-04T09:30:54.530Z"
   },
   {
    "duration": 45,
    "start_time": "2022-03-04T09:31:55.649Z"
   },
   {
    "duration": 12,
    "start_time": "2022-03-04T09:33:30.080Z"
   },
   {
    "duration": 53,
    "start_time": "2022-03-04T09:35:11.289Z"
   },
   {
    "duration": 50,
    "start_time": "2022-03-04T09:35:38.379Z"
   },
   {
    "duration": 546,
    "start_time": "2022-03-04T09:58:09.103Z"
   },
   {
    "duration": 419,
    "start_time": "2022-03-04T09:58:19.491Z"
   },
   {
    "duration": 410,
    "start_time": "2022-03-04T10:06:03.816Z"
   },
   {
    "duration": 415,
    "start_time": "2022-03-04T10:07:13.620Z"
   },
   {
    "duration": 715,
    "start_time": "2022-03-04T10:10:50.263Z"
   },
   {
    "duration": 593,
    "start_time": "2022-03-04T10:11:36.777Z"
   },
   {
    "duration": 436,
    "start_time": "2022-03-04T10:12:52.360Z"
   },
   {
    "duration": 433,
    "start_time": "2022-03-04T10:13:24.686Z"
   },
   {
    "duration": 421,
    "start_time": "2022-03-04T10:14:42.880Z"
   },
   {
    "duration": 362,
    "start_time": "2022-03-04T10:15:05.741Z"
   },
   {
    "duration": 441,
    "start_time": "2022-03-04T10:15:28.101Z"
   },
   {
    "duration": 505,
    "start_time": "2022-03-04T10:18:24.055Z"
   },
   {
    "duration": 709,
    "start_time": "2022-03-04T10:23:11.380Z"
   },
   {
    "duration": 2071,
    "start_time": "2022-03-04T10:23:38.609Z"
   },
   {
    "duration": 773,
    "start_time": "2022-03-04T10:24:04.161Z"
   },
   {
    "duration": 456,
    "start_time": "2022-03-04T10:25:05.658Z"
   },
   {
    "duration": 403,
    "start_time": "2022-03-04T10:26:03.082Z"
   },
   {
    "duration": 362,
    "start_time": "2022-03-04T10:29:25.564Z"
   },
   {
    "duration": 473,
    "start_time": "2022-03-04T10:34:55.345Z"
   },
   {
    "duration": 383,
    "start_time": "2022-03-04T10:38:12.868Z"
   },
   {
    "duration": 502,
    "start_time": "2022-03-04T10:40:04.124Z"
   },
   {
    "duration": 451,
    "start_time": "2022-03-04T10:44:21.013Z"
   },
   {
    "duration": 350,
    "start_time": "2022-03-04T11:01:19.506Z"
   },
   {
    "duration": 279,
    "start_time": "2022-03-04T11:01:47.642Z"
   },
   {
    "duration": 15,
    "start_time": "2022-03-04T11:50:33.488Z"
   },
   {
    "duration": 17,
    "start_time": "2022-03-04T11:52:24.373Z"
   },
   {
    "duration": 10,
    "start_time": "2022-03-04T11:58:03.653Z"
   },
   {
    "duration": 415,
    "start_time": "2022-03-04T12:01:12.896Z"
   },
   {
    "duration": 10,
    "start_time": "2022-03-04T12:04:39.966Z"
   },
   {
    "duration": 11,
    "start_time": "2022-03-04T12:07:39.324Z"
   },
   {
    "duration": 219,
    "start_time": "2022-03-04T12:13:24.874Z"
   },
   {
    "duration": 10,
    "start_time": "2022-03-04T12:21:16.699Z"
   },
   {
    "duration": 10,
    "start_time": "2022-03-04T12:47:09.953Z"
   },
   {
    "duration": 27,
    "start_time": "2022-03-04T12:50:12.056Z"
   },
   {
    "duration": 40,
    "start_time": "2022-03-04T12:57:23.004Z"
   },
   {
    "duration": 40,
    "start_time": "2022-03-04T12:59:19.112Z"
   },
   {
    "duration": 37,
    "start_time": "2022-03-04T13:02:49.522Z"
   },
   {
    "duration": 244,
    "start_time": "2022-03-04T13:04:29.081Z"
   },
   {
    "duration": 228,
    "start_time": "2022-03-04T13:04:54.676Z"
   },
   {
    "duration": 994,
    "start_time": "2022-03-04T13:05:19.625Z"
   },
   {
    "duration": 41,
    "start_time": "2022-03-04T13:05:20.621Z"
   },
   {
    "duration": 47,
    "start_time": "2022-03-04T13:05:20.664Z"
   },
   {
    "duration": 285,
    "start_time": "2022-03-04T13:05:20.713Z"
   },
   {
    "duration": -1106,
    "start_time": "2022-03-04T13:05:22.107Z"
   },
   {
    "duration": -1110,
    "start_time": "2022-03-04T13:05:22.112Z"
   },
   {
    "duration": -1111,
    "start_time": "2022-03-04T13:05:22.114Z"
   },
   {
    "duration": -1112,
    "start_time": "2022-03-04T13:05:22.116Z"
   },
   {
    "duration": -1113,
    "start_time": "2022-03-04T13:05:22.118Z"
   },
   {
    "duration": -1115,
    "start_time": "2022-03-04T13:05:22.121Z"
   },
   {
    "duration": -1220,
    "start_time": "2022-03-04T13:05:22.227Z"
   },
   {
    "duration": -1224,
    "start_time": "2022-03-04T13:05:22.232Z"
   },
   {
    "duration": -1225,
    "start_time": "2022-03-04T13:05:22.234Z"
   },
   {
    "duration": -1226,
    "start_time": "2022-03-04T13:05:22.236Z"
   },
   {
    "duration": -1227,
    "start_time": "2022-03-04T13:05:22.238Z"
   },
   {
    "duration": -1229,
    "start_time": "2022-03-04T13:05:22.241Z"
   },
   {
    "duration": -1232,
    "start_time": "2022-03-04T13:05:22.245Z"
   },
   {
    "duration": -1234,
    "start_time": "2022-03-04T13:05:22.248Z"
   },
   {
    "duration": -1235,
    "start_time": "2022-03-04T13:05:22.250Z"
   },
   {
    "duration": -1237,
    "start_time": "2022-03-04T13:05:22.253Z"
   },
   {
    "duration": -1241,
    "start_time": "2022-03-04T13:05:22.258Z"
   },
   {
    "duration": 27,
    "start_time": "2022-03-04T13:06:04.902Z"
   },
   {
    "duration": 24,
    "start_time": "2022-03-04T13:06:46.467Z"
   },
   {
    "duration": 240,
    "start_time": "2022-03-04T13:22:15.061Z"
   },
   {
    "duration": 225,
    "start_time": "2022-03-04T13:24:28.732Z"
   },
   {
    "duration": 207,
    "start_time": "2022-03-04T13:24:54.537Z"
   },
   {
    "duration": 31,
    "start_time": "2022-03-04T13:25:38.993Z"
   },
   {
    "duration": 37,
    "start_time": "2022-03-04T13:31:24.944Z"
   },
   {
    "duration": 5046,
    "start_time": "2022-03-04T13:40:04.343Z"
   },
   {
    "duration": 9,
    "start_time": "2022-03-04T13:41:03.297Z"
   },
   {
    "duration": 30,
    "start_time": "2022-03-04T13:45:52.422Z"
   },
   {
    "duration": 30,
    "start_time": "2022-03-04T13:51:35.094Z"
   },
   {
    "duration": 224,
    "start_time": "2022-03-04T14:12:56.255Z"
   },
   {
    "duration": 33,
    "start_time": "2022-03-04T14:14:48.903Z"
   },
   {
    "duration": 32,
    "start_time": "2022-03-04T14:15:25.966Z"
   },
   {
    "duration": 63,
    "start_time": "2022-03-04T14:26:55.324Z"
   },
   {
    "duration": 90,
    "start_time": "2022-03-04T14:28:33.222Z"
   },
   {
    "duration": 59,
    "start_time": "2022-03-04T14:28:59.144Z"
   },
   {
    "duration": 69,
    "start_time": "2022-03-04T14:30:32.282Z"
   },
   {
    "duration": 33,
    "start_time": "2022-03-04T14:32:19.694Z"
   },
   {
    "duration": 63,
    "start_time": "2022-03-04T14:34:42.078Z"
   },
   {
    "duration": 64,
    "start_time": "2022-03-04T14:36:20.760Z"
   },
   {
    "duration": 85,
    "start_time": "2022-03-04T14:36:49.151Z"
   },
   {
    "duration": 82,
    "start_time": "2022-03-04T14:37:23.614Z"
   },
   {
    "duration": 67,
    "start_time": "2022-03-04T14:40:36.194Z"
   },
   {
    "duration": 5,
    "start_time": "2022-03-04T14:43:28.330Z"
   },
   {
    "duration": 72,
    "start_time": "2022-03-04T14:44:43.494Z"
   },
   {
    "duration": 36,
    "start_time": "2022-03-04T14:45:45.000Z"
   },
   {
    "duration": 45,
    "start_time": "2022-03-04T14:46:52.512Z"
   },
   {
    "duration": 21,
    "start_time": "2022-03-04T14:48:52.996Z"
   },
   {
    "duration": 22,
    "start_time": "2022-03-04T14:50:27.859Z"
   },
   {
    "duration": 21,
    "start_time": "2022-03-04T14:51:20.479Z"
   },
   {
    "duration": 28,
    "start_time": "2022-03-04T14:52:21.902Z"
   },
   {
    "duration": 21,
    "start_time": "2022-03-04T14:53:17.143Z"
   },
   {
    "duration": 9,
    "start_time": "2022-03-04T14:53:44.118Z"
   },
   {
    "duration": 4646,
    "start_time": "2022-03-04T14:54:25.181Z"
   },
   {
    "duration": 10,
    "start_time": "2022-03-04T14:55:10.084Z"
   },
   {
    "duration": 1074,
    "start_time": "2022-03-04T14:55:33.133Z"
   },
   {
    "duration": 35,
    "start_time": "2022-03-04T14:55:34.209Z"
   },
   {
    "duration": 51,
    "start_time": "2022-03-04T14:55:34.246Z"
   },
   {
    "duration": 9,
    "start_time": "2022-03-04T14:55:34.298Z"
   },
   {
    "duration": 21,
    "start_time": "2022-03-04T14:55:34.309Z"
   },
   {
    "duration": 5,
    "start_time": "2022-03-04T14:55:34.332Z"
   },
   {
    "duration": 306,
    "start_time": "2022-03-04T14:55:34.359Z"
   },
   {
    "duration": 12,
    "start_time": "2022-03-04T14:55:34.668Z"
   },
   {
    "duration": 377,
    "start_time": "2022-03-04T14:55:34.682Z"
   },
   {
    "duration": 385,
    "start_time": "2022-03-04T14:55:35.061Z"
   },
   {
    "duration": 453,
    "start_time": "2022-03-04T14:55:35.448Z"
   },
   {
    "duration": 371,
    "start_time": "2022-03-04T14:55:35.903Z"
   },
   {
    "duration": 456,
    "start_time": "2022-03-04T14:55:36.276Z"
   },
   {
    "duration": 394,
    "start_time": "2022-03-04T14:55:36.734Z"
   },
   {
    "duration": 4,
    "start_time": "2022-03-04T14:55:37.129Z"
   },
   {
    "duration": 324,
    "start_time": "2022-03-04T14:55:37.135Z"
   },
   {
    "duration": 5,
    "start_time": "2022-03-04T14:55:37.460Z"
   },
   {
    "duration": 287,
    "start_time": "2022-03-04T14:55:37.466Z"
   },
   {
    "duration": 123,
    "start_time": "2022-03-04T14:55:37.759Z"
   },
   {
    "duration": 9,
    "start_time": "2022-03-04T14:55:37.884Z"
   },
   {
    "duration": 16,
    "start_time": "2022-03-04T14:55:37.895Z"
   },
   {
    "duration": 12,
    "start_time": "2022-03-04T14:55:37.913Z"
   },
   {
    "duration": 25,
    "start_time": "2022-03-04T14:59:51.204Z"
   },
   {
    "duration": 18,
    "start_time": "2022-03-04T15:01:13.929Z"
   },
   {
    "duration": 1062,
    "start_time": "2022-03-04T15:01:26.850Z"
   },
   {
    "duration": 36,
    "start_time": "2022-03-04T15:01:27.914Z"
   },
   {
    "duration": 46,
    "start_time": "2022-03-04T15:01:27.959Z"
   },
   {
    "duration": 9,
    "start_time": "2022-03-04T15:01:28.007Z"
   },
   {
    "duration": 24,
    "start_time": "2022-03-04T15:01:28.018Z"
   },
   {
    "duration": 15,
    "start_time": "2022-03-04T15:01:28.044Z"
   },
   {
    "duration": 323,
    "start_time": "2022-03-04T15:01:28.061Z"
   },
   {
    "duration": 12,
    "start_time": "2022-03-04T15:01:28.386Z"
   },
   {
    "duration": 406,
    "start_time": "2022-03-04T15:01:28.401Z"
   },
   {
    "duration": 390,
    "start_time": "2022-03-04T15:01:28.810Z"
   },
   {
    "duration": 501,
    "start_time": "2022-03-04T15:01:29.201Z"
   },
   {
    "duration": 395,
    "start_time": "2022-03-04T15:01:29.703Z"
   },
   {
    "duration": 465,
    "start_time": "2022-03-04T15:01:30.100Z"
   },
   {
    "duration": 427,
    "start_time": "2022-03-04T15:01:30.567Z"
   },
   {
    "duration": 5,
    "start_time": "2022-03-04T15:01:30.995Z"
   },
   {
    "duration": 282,
    "start_time": "2022-03-04T15:01:31.001Z"
   },
   {
    "duration": 4,
    "start_time": "2022-03-04T15:01:31.285Z"
   },
   {
    "duration": 290,
    "start_time": "2022-03-04T15:01:31.290Z"
   },
   {
    "duration": 143,
    "start_time": "2022-03-04T15:01:31.582Z"
   },
   {
    "duration": 9,
    "start_time": "2022-03-04T15:01:31.726Z"
   },
   {
    "duration": 32,
    "start_time": "2022-03-04T15:01:31.736Z"
   },
   {
    "duration": 13,
    "start_time": "2022-03-04T15:01:31.769Z"
   },
   {
    "duration": 1016,
    "start_time": "2022-03-04T15:03:00.813Z"
   },
   {
    "duration": 39,
    "start_time": "2022-03-04T15:03:01.830Z"
   },
   {
    "duration": 46,
    "start_time": "2022-03-04T15:03:01.871Z"
   },
   {
    "duration": 9,
    "start_time": "2022-03-04T15:03:01.919Z"
   },
   {
    "duration": 32,
    "start_time": "2022-03-04T15:03:01.929Z"
   },
   {
    "duration": 6,
    "start_time": "2022-03-04T15:03:01.963Z"
   },
   {
    "duration": 315,
    "start_time": "2022-03-04T15:03:01.970Z"
   },
   {
    "duration": 11,
    "start_time": "2022-03-04T15:03:02.288Z"
   },
   {
    "duration": 375,
    "start_time": "2022-03-04T15:03:02.302Z"
   },
   {
    "duration": 380,
    "start_time": "2022-03-04T15:03:02.679Z"
   },
   {
    "duration": 463,
    "start_time": "2022-03-04T15:03:03.061Z"
   },
   {
    "duration": 377,
    "start_time": "2022-03-04T15:03:03.525Z"
   },
   {
    "duration": 448,
    "start_time": "2022-03-04T15:03:03.904Z"
   },
   {
    "duration": 428,
    "start_time": "2022-03-04T15:03:04.353Z"
   },
   {
    "duration": 4,
    "start_time": "2022-03-04T15:03:04.782Z"
   },
   {
    "duration": 289,
    "start_time": "2022-03-04T15:03:04.788Z"
   },
   {
    "duration": 4,
    "start_time": "2022-03-04T15:03:05.079Z"
   },
   {
    "duration": 279,
    "start_time": "2022-03-04T15:03:05.085Z"
   },
   {
    "duration": 135,
    "start_time": "2022-03-04T15:03:05.365Z"
   },
   {
    "duration": 11,
    "start_time": "2022-03-04T15:03:05.502Z"
   },
   {
    "duration": 17,
    "start_time": "2022-03-04T15:03:05.514Z"
   },
   {
    "duration": 34,
    "start_time": "2022-03-04T15:03:05.533Z"
   },
   {
    "duration": 16,
    "start_time": "2022-03-04T15:09:57.987Z"
   },
   {
    "duration": 1056,
    "start_time": "2022-03-04T15:10:18.968Z"
   },
   {
    "duration": 36,
    "start_time": "2022-03-04T15:10:20.026Z"
   },
   {
    "duration": 47,
    "start_time": "2022-03-04T15:10:20.064Z"
   },
   {
    "duration": 10,
    "start_time": "2022-03-04T15:10:20.113Z"
   },
   {
    "duration": 21,
    "start_time": "2022-03-04T15:10:20.125Z"
   },
   {
    "duration": 26,
    "start_time": "2022-03-04T15:10:20.147Z"
   },
   {
    "duration": 325,
    "start_time": "2022-03-04T15:10:20.175Z"
   },
   {
    "duration": 12,
    "start_time": "2022-03-04T15:10:20.502Z"
   },
   {
    "duration": 393,
    "start_time": "2022-03-04T15:10:20.516Z"
   },
   {
    "duration": 390,
    "start_time": "2022-03-04T15:10:20.911Z"
   },
   {
    "duration": 488,
    "start_time": "2022-03-04T15:10:21.303Z"
   },
   {
    "duration": 385,
    "start_time": "2022-03-04T15:10:21.793Z"
   },
   {
    "duration": 471,
    "start_time": "2022-03-04T15:10:22.180Z"
   },
   {
    "duration": 433,
    "start_time": "2022-03-04T15:10:22.652Z"
   },
   {
    "duration": 4,
    "start_time": "2022-03-04T15:10:23.087Z"
   },
   {
    "duration": 282,
    "start_time": "2022-03-04T15:10:23.092Z"
   },
   {
    "duration": 5,
    "start_time": "2022-03-04T15:10:23.375Z"
   },
   {
    "duration": 281,
    "start_time": "2022-03-04T15:10:23.381Z"
   },
   {
    "duration": 134,
    "start_time": "2022-03-04T15:10:23.663Z"
   },
   {
    "duration": 9,
    "start_time": "2022-03-04T15:10:23.798Z"
   },
   {
    "duration": 15,
    "start_time": "2022-03-04T15:10:23.809Z"
   },
   {
    "duration": 37,
    "start_time": "2022-03-04T15:10:23.826Z"
   },
   {
    "duration": 987,
    "start_time": "2022-03-04T15:14:01.524Z"
   },
   {
    "duration": 36,
    "start_time": "2022-03-04T15:14:02.512Z"
   },
   {
    "duration": 49,
    "start_time": "2022-03-04T15:14:02.559Z"
   },
   {
    "duration": 9,
    "start_time": "2022-03-04T15:14:02.610Z"
   },
   {
    "duration": 20,
    "start_time": "2022-03-04T15:14:02.621Z"
   },
   {
    "duration": 5,
    "start_time": "2022-03-04T15:14:02.643Z"
   },
   {
    "duration": 336,
    "start_time": "2022-03-04T15:14:02.649Z"
   },
   {
    "duration": 11,
    "start_time": "2022-03-04T15:14:02.988Z"
   },
   {
    "duration": 370,
    "start_time": "2022-03-04T15:14:03.001Z"
   },
   {
    "duration": 372,
    "start_time": "2022-03-04T15:14:03.373Z"
   },
   {
    "duration": 473,
    "start_time": "2022-03-04T15:14:03.746Z"
   },
   {
    "duration": 376,
    "start_time": "2022-03-04T15:14:04.220Z"
   },
   {
    "duration": 449,
    "start_time": "2022-03-04T15:14:04.597Z"
   },
   {
    "duration": 439,
    "start_time": "2022-03-04T15:14:05.048Z"
   },
   {
    "duration": 4,
    "start_time": "2022-03-04T15:14:05.489Z"
   },
   {
    "duration": 292,
    "start_time": "2022-03-04T15:14:05.494Z"
   },
   {
    "duration": 5,
    "start_time": "2022-03-04T15:14:05.787Z"
   },
   {
    "duration": 298,
    "start_time": "2022-03-04T15:14:05.793Z"
   },
   {
    "duration": 135,
    "start_time": "2022-03-04T15:14:06.093Z"
   },
   {
    "duration": 30,
    "start_time": "2022-03-04T15:14:06.229Z"
   },
   {
    "duration": 18,
    "start_time": "2022-03-04T15:14:06.260Z"
   },
   {
    "duration": 14,
    "start_time": "2022-03-04T15:14:06.280Z"
   },
   {
    "duration": 1013,
    "start_time": "2022-03-04T15:26:43.209Z"
   },
   {
    "duration": 41,
    "start_time": "2022-03-04T15:26:44.223Z"
   },
   {
    "duration": 46,
    "start_time": "2022-03-04T15:26:44.267Z"
   },
   {
    "duration": 10,
    "start_time": "2022-03-04T15:26:44.314Z"
   },
   {
    "duration": 17,
    "start_time": "2022-03-04T15:26:44.325Z"
   },
   {
    "duration": 19,
    "start_time": "2022-03-04T15:26:44.343Z"
   },
   {
    "duration": 330,
    "start_time": "2022-03-04T15:26:44.364Z"
   },
   {
    "duration": 12,
    "start_time": "2022-03-04T15:26:44.697Z"
   },
   {
    "duration": 393,
    "start_time": "2022-03-04T15:26:44.712Z"
   },
   {
    "duration": 393,
    "start_time": "2022-03-04T15:26:45.106Z"
   },
   {
    "duration": 512,
    "start_time": "2022-03-04T15:26:45.500Z"
   },
   {
    "duration": 455,
    "start_time": "2022-03-04T15:26:46.014Z"
   },
   {
    "duration": 458,
    "start_time": "2022-03-04T15:26:46.470Z"
   },
   {
    "duration": 438,
    "start_time": "2022-03-04T15:26:46.929Z"
   },
   {
    "duration": 4,
    "start_time": "2022-03-04T15:26:47.369Z"
   },
   {
    "duration": 295,
    "start_time": "2022-03-04T15:26:47.374Z"
   },
   {
    "duration": 4,
    "start_time": "2022-03-04T15:26:47.671Z"
   },
   {
    "duration": 285,
    "start_time": "2022-03-04T15:26:47.676Z"
   },
   {
    "duration": 137,
    "start_time": "2022-03-04T15:26:47.963Z"
   },
   {
    "duration": 10,
    "start_time": "2022-03-04T15:26:48.102Z"
   },
   {
    "duration": 17,
    "start_time": "2022-03-04T15:26:48.113Z"
   },
   {
    "duration": 38,
    "start_time": "2022-03-04T15:26:48.132Z"
   },
   {
    "duration": 1045,
    "start_time": "2022-03-14T16:32:57.054Z"
   },
   {
    "duration": 44,
    "start_time": "2022-03-14T16:32:58.101Z"
   },
   {
    "duration": 54,
    "start_time": "2022-03-14T16:32:58.148Z"
   },
   {
    "duration": 10,
    "start_time": "2022-03-14T16:32:58.204Z"
   },
   {
    "duration": 28,
    "start_time": "2022-03-14T16:32:58.216Z"
   },
   {
    "duration": 8,
    "start_time": "2022-03-14T16:32:58.246Z"
   },
   {
    "duration": 359,
    "start_time": "2022-03-14T16:32:58.256Z"
   },
   {
    "duration": 12,
    "start_time": "2022-03-14T16:32:58.617Z"
   },
   {
    "duration": 494,
    "start_time": "2022-03-14T16:32:58.632Z"
   },
   {
    "duration": 380,
    "start_time": "2022-03-14T16:32:59.129Z"
   },
   {
    "duration": 456,
    "start_time": "2022-03-14T16:32:59.511Z"
   },
   {
    "duration": 378,
    "start_time": "2022-03-14T16:32:59.969Z"
   },
   {
    "duration": 493,
    "start_time": "2022-03-14T16:33:00.349Z"
   },
   {
    "duration": 459,
    "start_time": "2022-03-14T16:33:00.844Z"
   },
   {
    "duration": 5,
    "start_time": "2022-03-14T16:33:01.305Z"
   },
   {
    "duration": 356,
    "start_time": "2022-03-14T16:33:01.312Z"
   },
   {
    "duration": 5,
    "start_time": "2022-03-14T16:33:01.670Z"
   },
   {
    "duration": 332,
    "start_time": "2022-03-14T16:33:01.677Z"
   },
   {
    "duration": 160,
    "start_time": "2022-03-14T16:33:02.011Z"
   },
   {
    "duration": 29,
    "start_time": "2022-03-14T16:33:02.173Z"
   },
   {
    "duration": 74,
    "start_time": "2022-03-14T16:33:02.203Z"
   },
   {
    "duration": 39,
    "start_time": "2022-03-14T16:33:02.279Z"
   },
   {
    "duration": 1038,
    "start_time": "2022-03-17T16:33:05.572Z"
   },
   {
    "duration": 102,
    "start_time": "2022-03-17T16:33:06.612Z"
   },
   {
    "duration": 79,
    "start_time": "2022-03-17T16:33:06.716Z"
   },
   {
    "duration": 10,
    "start_time": "2022-03-17T16:33:06.797Z"
   },
   {
    "duration": 35,
    "start_time": "2022-03-17T16:33:06.809Z"
   },
   {
    "duration": 15,
    "start_time": "2022-03-17T16:33:06.846Z"
   },
   {
    "duration": 277,
    "start_time": "2022-03-17T16:33:06.862Z"
   },
   {
    "duration": 12,
    "start_time": "2022-03-17T16:33:07.140Z"
   },
   {
    "duration": 343,
    "start_time": "2022-03-17T16:33:07.154Z"
   },
   {
    "duration": 344,
    "start_time": "2022-03-17T16:33:07.499Z"
   },
   {
    "duration": 406,
    "start_time": "2022-03-17T16:33:07.845Z"
   },
   {
    "duration": 381,
    "start_time": "2022-03-17T16:33:08.254Z"
   },
   {
    "duration": 440,
    "start_time": "2022-03-17T16:33:08.637Z"
   },
   {
    "duration": 286,
    "start_time": "2022-03-17T16:33:09.080Z"
   },
   {
    "duration": 4,
    "start_time": "2022-03-17T16:33:09.367Z"
   },
   {
    "duration": 167,
    "start_time": "2022-03-17T16:33:09.373Z"
   },
   {
    "duration": 5,
    "start_time": "2022-03-17T16:33:09.541Z"
   },
   {
    "duration": 253,
    "start_time": "2022-03-17T16:33:09.547Z"
   },
   {
    "duration": 182,
    "start_time": "2022-03-17T16:33:09.801Z"
   },
   {
    "duration": 11,
    "start_time": "2022-03-17T16:33:09.984Z"
   },
   {
    "duration": 48,
    "start_time": "2022-03-17T16:33:09.996Z"
   },
   {
    "duration": 13,
    "start_time": "2022-03-17T16:33:10.046Z"
   }
  ],
  "kernelspec": {
   "display_name": "Python 3 (ipykernel)",
   "language": "python",
   "name": "python3"
  },
  "language_info": {
   "codemirror_mode": {
    "name": "ipython",
    "version": 3
   },
   "file_extension": ".py",
   "mimetype": "text/x-python",
   "name": "python",
   "nbconvert_exporter": "python",
   "pygments_lexer": "ipython3",
   "version": "3.9.7"
  },
  "toc": {
   "base_numbering": 1,
   "nav_menu": {
    "height": "12.2333px",
    "width": "160px"
   },
   "number_sections": true,
   "sideBar": true,
   "skip_h1_title": true,
   "title_cell": "Table of Contents",
   "title_sidebar": "Contents",
   "toc_cell": false,
   "toc_position": {},
   "toc_section_display": true,
   "toc_window_display": false
  }
 },
 "nbformat": 4,
 "nbformat_minor": 2
}
