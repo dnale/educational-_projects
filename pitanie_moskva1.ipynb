{
 "cells": [
  {
   "cell_type": "markdown",
   "metadata": {},
   "source": [
    "# Рынок заведений общественного питания Москвы"
   ]
  },
  {
   "cell_type": "markdown",
   "metadata": {},
   "source": [
    "Исследование рынка общественного питания в Москве"
   ]
  },
  {
   "cell_type": "markdown",
   "metadata": {},
   "source": [
    "1 Загрузить и подготовить данные\n",
    "\n",
    "2 Анализ данных\n",
    "\n",
    "3 Сделать вывод\n",
    "\n",
    "4 Написать рекомендации\n",
    "\n",
    "5 Сделать презентацию"
   ]
  },
  {
   "cell_type": "markdown",
   "metadata": {},
   "source": [
    "## Загрузка данных и подготовка их к иследованию"
   ]
  },
  {
   "cell_type": "code",
   "execution_count": 1,
   "metadata": {},
   "outputs": [],
   "source": [
    "import pandas as pd\n",
    "import datetime as dt\n",
    "import numpy as np\n",
    "import matplotlib.pyplot as plt\n",
    "import seaborn as sns\n",
    "import plotly.express as px"
   ]
  },
  {
   "cell_type": "code",
   "execution_count": 2,
   "metadata": {},
   "outputs": [
    {
     "name": "stdout",
     "output_type": "stream",
     "text": [
      "<class 'pandas.core.frame.DataFrame'>\n",
      "RangeIndex: 15366 entries, 0 to 15365\n",
      "Data columns (total 6 columns):\n",
      " #   Column       Non-Null Count  Dtype \n",
      "---  ------       --------------  ----- \n",
      " 0   id           15366 non-null  int64 \n",
      " 1   object_name  15366 non-null  object\n",
      " 2   chain        15366 non-null  object\n",
      " 3   object_type  15366 non-null  object\n",
      " 4   address      15366 non-null  object\n",
      " 5   number       15366 non-null  int64 \n",
      "dtypes: int64(2), object(4)\n",
      "memory usage: 720.4+ KB\n",
      "0\n"
     ]
    },
    {
     "data": {
      "text/html": [
       "<div>\n",
       "<style scoped>\n",
       "    .dataframe tbody tr th:only-of-type {\n",
       "        vertical-align: middle;\n",
       "    }\n",
       "\n",
       "    .dataframe tbody tr th {\n",
       "        vertical-align: top;\n",
       "    }\n",
       "\n",
       "    .dataframe thead th {\n",
       "        text-align: right;\n",
       "    }\n",
       "</style>\n",
       "<table border=\"1\" class=\"dataframe\">\n",
       "  <thead>\n",
       "    <tr style=\"text-align: right;\">\n",
       "      <th></th>\n",
       "      <th>id</th>\n",
       "      <th>object_name</th>\n",
       "      <th>chain</th>\n",
       "      <th>object_type</th>\n",
       "      <th>address</th>\n",
       "      <th>number</th>\n",
       "    </tr>\n",
       "  </thead>\n",
       "  <tbody>\n",
       "    <tr>\n",
       "      <th>0</th>\n",
       "      <td>151635</td>\n",
       "      <td>сметана</td>\n",
       "      <td>нет</td>\n",
       "      <td>кафе</td>\n",
       "      <td>город Москва, улица Егора Абакумова, дом 9</td>\n",
       "      <td>48</td>\n",
       "    </tr>\n",
       "    <tr>\n",
       "      <th>1</th>\n",
       "      <td>77874</td>\n",
       "      <td>родник</td>\n",
       "      <td>нет</td>\n",
       "      <td>кафе</td>\n",
       "      <td>город Москва, улица Талалихина, дом 2/1, корпус 1</td>\n",
       "      <td>35</td>\n",
       "    </tr>\n",
       "    <tr>\n",
       "      <th>2</th>\n",
       "      <td>24309</td>\n",
       "      <td>кафе «академия»</td>\n",
       "      <td>нет</td>\n",
       "      <td>кафе</td>\n",
       "      <td>город Москва, Абельмановская улица, дом 6</td>\n",
       "      <td>95</td>\n",
       "    </tr>\n",
       "    <tr>\n",
       "      <th>3</th>\n",
       "      <td>21894</td>\n",
       "      <td>пиццетория</td>\n",
       "      <td>да</td>\n",
       "      <td>кафе</td>\n",
       "      <td>город Москва, Абрамцевская улица, дом 1</td>\n",
       "      <td>40</td>\n",
       "    </tr>\n",
       "    <tr>\n",
       "      <th>4</th>\n",
       "      <td>119365</td>\n",
       "      <td>кафе «вишневая метель»</td>\n",
       "      <td>нет</td>\n",
       "      <td>кафе</td>\n",
       "      <td>город Москва, Абрамцевская улица, дом 9, корпус 1</td>\n",
       "      <td>50</td>\n",
       "    </tr>\n",
       "    <tr>\n",
       "      <th>...</th>\n",
       "      <td>...</td>\n",
       "      <td>...</td>\n",
       "      <td>...</td>\n",
       "      <td>...</td>\n",
       "      <td>...</td>\n",
       "      <td>...</td>\n",
       "    </tr>\n",
       "    <tr>\n",
       "      <th>15361</th>\n",
       "      <td>208537</td>\n",
       "      <td>шоколадница</td>\n",
       "      <td>да</td>\n",
       "      <td>кафе</td>\n",
       "      <td>город Москва, 3-й Крутицкий переулок, дом 18</td>\n",
       "      <td>50</td>\n",
       "    </tr>\n",
       "    <tr>\n",
       "      <th>15362</th>\n",
       "      <td>209264</td>\n",
       "      <td>шоколадница</td>\n",
       "      <td>да</td>\n",
       "      <td>кафе</td>\n",
       "      <td>город Москва, улица Земляной Вал, дом 33</td>\n",
       "      <td>10</td>\n",
       "    </tr>\n",
       "    <tr>\n",
       "      <th>15363</th>\n",
       "      <td>209186</td>\n",
       "      <td>шоколадница</td>\n",
       "      <td>да</td>\n",
       "      <td>кафе</td>\n",
       "      <td>город Москва, улица Земляной Вал, дом 33</td>\n",
       "      <td>20</td>\n",
       "    </tr>\n",
       "    <tr>\n",
       "      <th>15364</th>\n",
       "      <td>221900</td>\n",
       "      <td>шоколадница</td>\n",
       "      <td>да</td>\n",
       "      <td>кафе</td>\n",
       "      <td>город Москва, поселение Московский, Киевское ш...</td>\n",
       "      <td>36</td>\n",
       "    </tr>\n",
       "    <tr>\n",
       "      <th>15365</th>\n",
       "      <td>222535</td>\n",
       "      <td>шоколадница</td>\n",
       "      <td>да</td>\n",
       "      <td>кафе</td>\n",
       "      <td>город Москва, Ходынский бульвар, дом 4</td>\n",
       "      <td>10</td>\n",
       "    </tr>\n",
       "  </tbody>\n",
       "</table>\n",
       "<p>15366 rows × 6 columns</p>\n",
       "</div>"
      ],
      "text/plain": [
       "           id             object_name chain object_type  \\\n",
       "0      151635                 сметана   нет        кафе   \n",
       "1       77874                  родник   нет        кафе   \n",
       "2       24309         кафе «академия»   нет        кафе   \n",
       "3       21894              пиццетория    да        кафе   \n",
       "4      119365  кафе «вишневая метель»   нет        кафе   \n",
       "...       ...                     ...   ...         ...   \n",
       "15361  208537             шоколадница    да        кафе   \n",
       "15362  209264             шоколадница    да        кафе   \n",
       "15363  209186             шоколадница    да        кафе   \n",
       "15364  221900             шоколадница    да        кафе   \n",
       "15365  222535             шоколадница    да        кафе   \n",
       "\n",
       "                                                 address  number  \n",
       "0             город Москва, улица Егора Абакумова, дом 9      48  \n",
       "1      город Москва, улица Талалихина, дом 2/1, корпус 1      35  \n",
       "2              город Москва, Абельмановская улица, дом 6      95  \n",
       "3                город Москва, Абрамцевская улица, дом 1      40  \n",
       "4      город Москва, Абрамцевская улица, дом 9, корпус 1      50  \n",
       "...                                                  ...     ...  \n",
       "15361       город Москва, 3-й Крутицкий переулок, дом 18      50  \n",
       "15362           город Москва, улица Земляной Вал, дом 33      10  \n",
       "15363           город Москва, улица Земляной Вал, дом 33      20  \n",
       "15364  город Москва, поселение Московский, Киевское ш...      36  \n",
       "15365             город Москва, Ходынский бульвар, дом 4      10  \n",
       "\n",
       "[15366 rows x 6 columns]"
      ]
     },
     "metadata": {},
     "output_type": "display_data"
    },
    {
     "data": {
      "text/plain": [
       "кафе                                 6099\n",
       "столовая                             2587\n",
       "ресторан                             2285\n",
       "предприятие быстрого обслуживания    1923\n",
       "бар                                   856\n",
       "буфет                                 585\n",
       "кафетерий                             398\n",
       "закусочная                            360\n",
       "магазин (отдел кулинарии)             273\n",
       "Name: object_type, dtype: int64"
      ]
     },
     "metadata": {},
     "output_type": "display_data"
    },
    {
     "data": {
      "text/plain": [
       "столовая           321\n",
       "кафе               278\n",
       "шаурма             250\n",
       "шоколадница        158\n",
       "kfc                155\n",
       "                  ... \n",
       "вятское сервис       1\n",
       "кафе «галес»         1\n",
       "кафе вкусняшка       1\n",
       "токмакоff            1\n",
       "коникс школьник      1\n",
       "Name: object_name, Length: 9924, dtype: int64"
      ]
     },
     "metadata": {},
     "output_type": "display_data"
    },
    {
     "data": {
      "text/plain": [
       "count    15366.000000\n",
       "mean        59.547182\n",
       "std         74.736833\n",
       "min          0.000000\n",
       "25%         12.000000\n",
       "50%         40.000000\n",
       "75%         80.000000\n",
       "max       1700.000000\n",
       "Name: number, dtype: float64"
      ]
     },
     "metadata": {},
     "output_type": "display_data"
    },
    {
     "data": {
      "image/png": "[encoded data removed]",
      "text/plain": [
       "<Figure size 432x288 with 1 Axes>"
      ]
     },
     "metadata": {
      "needs_background": "light"
     },
     "output_type": "display_data"
    }
   ],
   "source": [
    "rest_data = pd.read_csv('/datasets/rest_data.csv')\n",
    "\n",
    "rest_data.info()\n",
    "\n",
    "print(rest_data.duplicated().sum())\n",
    "\n",
    "rest_data['object_name'] = rest_data['object_name'].str.lower()\n",
    "\n",
    "\n",
    "display(rest_data)\n",
    "display(rest_data['object_type'].value_counts())\n",
    "display(rest_data['object_name'].value_counts())\n",
    "display(rest_data['number'].describe())\n",
    "\n",
    "import warnings\n",
    "warnings.simplefilter(action='ignore', category=FutureWarning) \n",
    "        \n",
    "plt.title('Количество посадочных мест')\n",
    "ax = sns.distplot(rest_data['number'], bins=100)\n",
    "plt.show()"
   ]
  },
  {
   "cell_type": "code",
   "execution_count": 3,
   "metadata": {},
   "outputs": [
    {
     "data": {
      "text/plain": [
       "count    13042.000000\n",
       "mean        66.563180\n",
       "std         63.177112\n",
       "min          5.000000\n",
       "25%         24.000000\n",
       "50%         45.000000\n",
       "75%         89.000000\n",
       "max        343.000000\n",
       "Name: number, dtype: float64"
      ]
     },
     "metadata": {},
     "output_type": "display_data"
    },
    {
     "data": {
      "image/png": "[encoded data removed]",
      "text/plain": [
       "<Figure size 432x288 with 1 Axes>"
      ]
     },
     "metadata": {
      "needs_background": "light"
     },
     "output_type": "display_data"
    }
   ],
   "source": [
    "rest_data = rest_data.query('number >= 5 and number < 350')\n",
    "\n",
    "import warnings\n",
    "warnings.simplefilter(action='ignore', category=FutureWarning) \n",
    "\n",
    "display(rest_data['number'].describe())\n",
    "plt.title('Количество посадочных мест')\n",
    "ax = sns.distplot(rest_data['number'], bins=100)\n",
    "plt.show()"
   ]
  },
  {
   "cell_type": "markdown",
   "metadata": {},
   "source": [
    "Вывод:\n",
    "\n",
    "\n",
    "1. Пропусков в данных нет\n",
    "\n",
    "2. Дубликатов в данных нет\n",
    "\n",
    "3. Типы данных правильные\n",
    "\n",
    "4. В колонке object_name названия привели к единому регистру\n",
    "\n",
    "5. Данные готовы к анализу."
   ]
  },
  {
   "cell_type": "markdown",
   "metadata": {},
   "source": [
    "## Анализ данных"
   ]
  },
  {
   "cell_type": "markdown",
   "metadata": {},
   "source": [
    "### Виды объектов питания"
   ]
  },
  {
   "cell_type": "code",
   "execution_count": 20,
   "metadata": {},
   "outputs": [
    {
     "data": {
      "text/html": [
       "<div>\n",
       "<style scoped>\n",
       "    .dataframe tbody tr th:only-of-type {\n",
       "        vertical-align: middle;\n",
       "    }\n",
       "\n",
       "    .dataframe tbody tr th {\n",
       "        vertical-align: top;\n",
       "    }\n",
       "\n",
       "    .dataframe thead th {\n",
       "        text-align: right;\n",
       "    }\n",
       "</style>\n",
       "<table border=\"1\" class=\"dataframe\">\n",
       "  <thead>\n",
       "    <tr style=\"text-align: right;\">\n",
       "      <th></th>\n",
       "      <th>вид</th>\n",
       "      <th>количество</th>\n",
       "    </tr>\n",
       "  </thead>\n",
       "  <tbody>\n",
       "    <tr>\n",
       "      <th>0</th>\n",
       "      <td>кафе</td>\n",
       "      <td>5530</td>\n",
       "    </tr>\n",
       "    <tr>\n",
       "      <th>1</th>\n",
       "      <td>столовая</td>\n",
       "      <td>2455</td>\n",
       "    </tr>\n",
       "    <tr>\n",
       "      <th>2</th>\n",
       "      <td>ресторан</td>\n",
       "      <td>2168</td>\n",
       "    </tr>\n",
       "    <tr>\n",
       "      <th>3</th>\n",
       "      <td>предприятие быстрого обслуживания</td>\n",
       "      <td>970</td>\n",
       "    </tr>\n",
       "    <tr>\n",
       "      <th>4</th>\n",
       "      <td>бар</td>\n",
       "      <td>790</td>\n",
       "    </tr>\n",
       "    <tr>\n",
       "      <th>5</th>\n",
       "      <td>буфет</td>\n",
       "      <td>499</td>\n",
       "    </tr>\n",
       "    <tr>\n",
       "      <th>6</th>\n",
       "      <td>кафетерий</td>\n",
       "      <td>205</td>\n",
       "    </tr>\n",
       "    <tr>\n",
       "      <th>7</th>\n",
       "      <td>закусочная</td>\n",
       "      <td>127</td>\n",
       "    </tr>\n",
       "    <tr>\n",
       "      <th>8</th>\n",
       "      <td>магазин (отдел кулинарии)</td>\n",
       "      <td>84</td>\n",
       "    </tr>\n",
       "  </tbody>\n",
       "</table>\n",
       "</div>"
      ],
      "text/plain": [
       "                                 вид  количество\n",
       "0                               кафе        5530\n",
       "1                           столовая        2455\n",
       "2                           ресторан        2168\n",
       "3  предприятие быстрого обслуживания         970\n",
       "4                                бар         790\n",
       "5                              буфет         499\n",
       "6                          кафетерий         205\n",
       "7                         закусочная         127\n",
       "8          магазин (отдел кулинарии)          84"
      ]
     },
     "metadata": {},
     "output_type": "display_data"
    },
    {
     "data": {
      "image/png": "[encoded data removed]",
      "text/plain": [
       "<Figure size 864x504 with 1 Axes>"
      ]
     },
     "metadata": {
      "needs_background": "light"
     },
     "output_type": "display_data"
    }
   ],
   "source": [
    "type = rest_data['object_type'].value_counts().reset_index()\n",
    "type.columns = ['вид', 'количество']\n",
    "display(type)\n",
    "\n",
    "plt.figure(figsize=(12, 7))\n",
    "plt.xticks(rotation=90)\n",
    "plt.title('Виды объектов питания')\n",
    "ax = sns.barplot(x='вид', y='количество', data=type)\n",
    "\n"
   ]
  },
  {
   "cell_type": "markdown",
   "metadata": {},
   "source": [
    "Однозначный лидер по колличеству объектов являются кафе. Далее идут столовые, рестораны и предприятия быстого питания."
   ]
  },
  {
   "cell_type": "markdown",
   "metadata": {},
   "source": [
    "### Сетевые и не сетевые объекты питания "
   ]
  },
  {
   "cell_type": "code",
   "execution_count": 21,
   "metadata": {},
   "outputs": [
    {
     "data": {
      "text/html": [
       "<div>\n",
       "<style scoped>\n",
       "    .dataframe tbody tr th:only-of-type {\n",
       "        vertical-align: middle;\n",
       "    }\n",
       "\n",
       "    .dataframe tbody tr th {\n",
       "        vertical-align: top;\n",
       "    }\n",
       "\n",
       "    .dataframe thead th {\n",
       "        text-align: right;\n",
       "    }\n",
       "</style>\n",
       "<table border=\"1\" class=\"dataframe\">\n",
       "  <thead>\n",
       "    <tr style=\"text-align: right;\">\n",
       "      <th></th>\n",
       "      <th>сети</th>\n",
       "      <th>количество</th>\n",
       "    </tr>\n",
       "  </thead>\n",
       "  <tbody>\n",
       "    <tr>\n",
       "      <th>0</th>\n",
       "      <td>нет</td>\n",
       "      <td>10281</td>\n",
       "    </tr>\n",
       "    <tr>\n",
       "      <th>1</th>\n",
       "      <td>да</td>\n",
       "      <td>2547</td>\n",
       "    </tr>\n",
       "  </tbody>\n",
       "</table>\n",
       "</div>"
      ],
      "text/plain": [
       "  сети  количество\n",
       "0  нет       10281\n",
       "1   да        2547"
      ]
     },
     "metadata": {},
     "output_type": "display_data"
    },
    {
     "data": {
      "image/png": "[encoded data removed]",
      "text/plain": [
       "<Figure size 864x504 with 1 Axes>"
      ]
     },
     "metadata": {
      "needs_background": "light"
     },
     "output_type": "display_data"
    }
   ],
   "source": [
    "networks = rest_data['chain'].value_counts().reset_index()\n",
    "networks.columns = ['сети', 'количество']\n",
    "display(networks)\n",
    "\n",
    "plt.figure(figsize=(12, 7))\n",
    "plt.xticks(rotation=90)\n",
    "plt.title('Сетевые и не сетевые объекты')\n",
    "ax = sns.barplot(x='сети', y='количество', data=networks)\n",
    "\n"
   ]
  },
  {
   "cell_type": "markdown",
   "metadata": {},
   "source": [
    "Не сетевых объектов питания в разы больше."
   ]
  },
  {
   "cell_type": "markdown",
   "metadata": {},
   "source": [
    "### Сетевые объекты питания"
   ]
  },
  {
   "cell_type": "code",
   "execution_count": 22,
   "metadata": {},
   "outputs": [
    {
     "data": {
      "text/html": [
       "<div>\n",
       "<style scoped>\n",
       "    .dataframe tbody tr th:only-of-type {\n",
       "        vertical-align: middle;\n",
       "    }\n",
       "\n",
       "    .dataframe tbody tr th {\n",
       "        vertical-align: top;\n",
       "    }\n",
       "\n",
       "    .dataframe thead th {\n",
       "        text-align: right;\n",
       "    }\n",
       "</style>\n",
       "<table border=\"1\" class=\"dataframe\">\n",
       "  <thead>\n",
       "    <tr style=\"text-align: right;\">\n",
       "      <th></th>\n",
       "      <th>id</th>\n",
       "      <th>object_name</th>\n",
       "      <th>chain</th>\n",
       "      <th>object_type</th>\n",
       "      <th>address</th>\n",
       "      <th>number</th>\n",
       "      <th>street</th>\n",
       "    </tr>\n",
       "  </thead>\n",
       "  <tbody>\n",
       "    <tr>\n",
       "      <th>3</th>\n",
       "      <td>21894</td>\n",
       "      <td>пиццетория</td>\n",
       "      <td>да</td>\n",
       "      <td>кафе</td>\n",
       "      <td>город Москва, Абрамцевская улица, дом 1</td>\n",
       "      <td>40</td>\n",
       "      <td>Абрамцевская улица</td>\n",
       "    </tr>\n",
       "    <tr>\n",
       "      <th>6</th>\n",
       "      <td>148815</td>\n",
       "      <td>брусника</td>\n",
       "      <td>да</td>\n",
       "      <td>кафе</td>\n",
       "      <td>город Москва, переулок Сивцев Вражек, дом 6/2</td>\n",
       "      <td>10</td>\n",
       "      <td>переулок Сивцев Вражек</td>\n",
       "    </tr>\n",
       "    <tr>\n",
       "      <th>13</th>\n",
       "      <td>22579</td>\n",
       "      <td>алло пицца</td>\n",
       "      <td>да</td>\n",
       "      <td>кафе</td>\n",
       "      <td>город Москва, улица Авиаторов, дом 14</td>\n",
       "      <td>32</td>\n",
       "      <td>улица Авиаторов</td>\n",
       "    </tr>\n",
       "    <tr>\n",
       "      <th>16</th>\n",
       "      <td>144107</td>\n",
       "      <td>суши wok</td>\n",
       "      <td>да</td>\n",
       "      <td>предприятие быстрого обслуживания</td>\n",
       "      <td>город Москва, Азовская улица, дом 3</td>\n",
       "      <td>7</td>\n",
       "      <td>Азовская улица</td>\n",
       "    </tr>\n",
       "    <tr>\n",
       "      <th>18</th>\n",
       "      <td>58565</td>\n",
       "      <td>тануки</td>\n",
       "      <td>да</td>\n",
       "      <td>ресторан</td>\n",
       "      <td>город Москва, Большая Академическая улица, дом 65</td>\n",
       "      <td>160</td>\n",
       "      <td>Большая Академическая улица</td>\n",
       "    </tr>\n",
       "    <tr>\n",
       "      <th>...</th>\n",
       "      <td>...</td>\n",
       "      <td>...</td>\n",
       "      <td>...</td>\n",
       "      <td>...</td>\n",
       "      <td>...</td>\n",
       "      <td>...</td>\n",
       "      <td>...</td>\n",
       "    </tr>\n",
       "    <tr>\n",
       "      <th>15361</th>\n",
       "      <td>208537</td>\n",
       "      <td>шоколадница</td>\n",
       "      <td>да</td>\n",
       "      <td>кафе</td>\n",
       "      <td>город Москва, 3-й Крутицкий переулок, дом 18</td>\n",
       "      <td>50</td>\n",
       "      <td>3-й Крутицкий переулок</td>\n",
       "    </tr>\n",
       "    <tr>\n",
       "      <th>15362</th>\n",
       "      <td>209264</td>\n",
       "      <td>шоколадница</td>\n",
       "      <td>да</td>\n",
       "      <td>кафе</td>\n",
       "      <td>город Москва, улица Земляной Вал, дом 33</td>\n",
       "      <td>10</td>\n",
       "      <td>улица Земляной Вал</td>\n",
       "    </tr>\n",
       "    <tr>\n",
       "      <th>15363</th>\n",
       "      <td>209186</td>\n",
       "      <td>шоколадница</td>\n",
       "      <td>да</td>\n",
       "      <td>кафе</td>\n",
       "      <td>город Москва, улица Земляной Вал, дом 33</td>\n",
       "      <td>20</td>\n",
       "      <td>улица Земляной Вал</td>\n",
       "    </tr>\n",
       "    <tr>\n",
       "      <th>15364</th>\n",
       "      <td>221900</td>\n",
       "      <td>шоколадница</td>\n",
       "      <td>да</td>\n",
       "      <td>кафе</td>\n",
       "      <td>город Москва, поселение Московский, Киевское ш...</td>\n",
       "      <td>36</td>\n",
       "      <td>поселение Московский</td>\n",
       "    </tr>\n",
       "    <tr>\n",
       "      <th>15365</th>\n",
       "      <td>222535</td>\n",
       "      <td>шоколадница</td>\n",
       "      <td>да</td>\n",
       "      <td>кафе</td>\n",
       "      <td>город Москва, Ходынский бульвар, дом 4</td>\n",
       "      <td>10</td>\n",
       "      <td>Ходынский бульвар</td>\n",
       "    </tr>\n",
       "  </tbody>\n",
       "</table>\n",
       "<p>2547 rows × 7 columns</p>\n",
       "</div>"
      ],
      "text/plain": [
       "           id  object_name chain                        object_type  \\\n",
       "3       21894   пиццетория    да                               кафе   \n",
       "6      148815     брусника    да                               кафе   \n",
       "13      22579   алло пицца    да                               кафе   \n",
       "16     144107     суши wok    да  предприятие быстрого обслуживания   \n",
       "18      58565       тануки    да                           ресторан   \n",
       "...       ...          ...   ...                                ...   \n",
       "15361  208537  шоколадница    да                               кафе   \n",
       "15362  209264  шоколадница    да                               кафе   \n",
       "15363  209186  шоколадница    да                               кафе   \n",
       "15364  221900  шоколадница    да                               кафе   \n",
       "15365  222535  шоколадница    да                               кафе   \n",
       "\n",
       "                                                 address  number  \\\n",
       "3                город Москва, Абрамцевская улица, дом 1      40   \n",
       "6          город Москва, переулок Сивцев Вражек, дом 6/2      10   \n",
       "13                 город Москва, улица Авиаторов, дом 14      32   \n",
       "16                   город Москва, Азовская улица, дом 3       7   \n",
       "18     город Москва, Большая Академическая улица, дом 65     160   \n",
       "...                                                  ...     ...   \n",
       "15361       город Москва, 3-й Крутицкий переулок, дом 18      50   \n",
       "15362           город Москва, улица Земляной Вал, дом 33      10   \n",
       "15363           город Москва, улица Земляной Вал, дом 33      20   \n",
       "15364  город Москва, поселение Московский, Киевское ш...      36   \n",
       "15365             город Москва, Ходынский бульвар, дом 4      10   \n",
       "\n",
       "                            street  \n",
       "3               Абрамцевская улица  \n",
       "6           переулок Сивцев Вражек  \n",
       "13                 улица Авиаторов  \n",
       "16                  Азовская улица  \n",
       "18     Большая Академическая улица  \n",
       "...                            ...  \n",
       "15361       3-й Крутицкий переулок  \n",
       "15362           улица Земляной Вал  \n",
       "15363           улица Земляной Вал  \n",
       "15364         поселение Московский  \n",
       "15365            Ходынский бульвар  \n",
       "\n",
       "[2547 rows x 7 columns]"
      ]
     },
     "metadata": {},
     "output_type": "display_data"
    },
    {
     "data": {
      "text/html": [
       "<div>\n",
       "<style scoped>\n",
       "    .dataframe tbody tr th:only-of-type {\n",
       "        vertical-align: middle;\n",
       "    }\n",
       "\n",
       "    .dataframe tbody tr th {\n",
       "        vertical-align: top;\n",
       "    }\n",
       "\n",
       "    .dataframe thead th {\n",
       "        text-align: right;\n",
       "    }\n",
       "</style>\n",
       "<table border=\"1\" class=\"dataframe\">\n",
       "  <thead>\n",
       "    <tr style=\"text-align: right;\">\n",
       "      <th></th>\n",
       "      <th>вид</th>\n",
       "      <th>количество</th>\n",
       "      <th>доля%</th>\n",
       "    </tr>\n",
       "  </thead>\n",
       "  <tbody>\n",
       "    <tr>\n",
       "      <th>1</th>\n",
       "      <td>предприятие быстрого обслуживания</td>\n",
       "      <td>606</td>\n",
       "      <td>24.68</td>\n",
       "    </tr>\n",
       "    <tr>\n",
       "      <th>2</th>\n",
       "      <td>ресторан</td>\n",
       "      <td>511</td>\n",
       "      <td>23.57</td>\n",
       "    </tr>\n",
       "    <tr>\n",
       "      <th>0</th>\n",
       "      <td>кафе</td>\n",
       "      <td>1295</td>\n",
       "      <td>23.42</td>\n",
       "    </tr>\n",
       "    <tr>\n",
       "      <th>6</th>\n",
       "      <td>кафетерий</td>\n",
       "      <td>30</td>\n",
       "      <td>14.63</td>\n",
       "    </tr>\n",
       "    <tr>\n",
       "      <th>5</th>\n",
       "      <td>закусочная</td>\n",
       "      <td>31</td>\n",
       "      <td>6.21</td>\n",
       "    </tr>\n",
       "    <tr>\n",
       "      <th>4</th>\n",
       "      <td>бар</td>\n",
       "      <td>33</td>\n",
       "      <td>4.18</td>\n",
       "    </tr>\n",
       "    <tr>\n",
       "      <th>3</th>\n",
       "      <td>магазин (отдел кулинарии)</td>\n",
       "      <td>35</td>\n",
       "      <td>3.61</td>\n",
       "    </tr>\n",
       "    <tr>\n",
       "      <th>8</th>\n",
       "      <td>столовая</td>\n",
       "      <td>3</td>\n",
       "      <td>3.57</td>\n",
       "    </tr>\n",
       "    <tr>\n",
       "      <th>7</th>\n",
       "      <td>буфет</td>\n",
       "      <td>3</td>\n",
       "      <td>2.36</td>\n",
       "    </tr>\n",
       "  </tbody>\n",
       "</table>\n",
       "</div>"
      ],
      "text/plain": [
       "                                 вид  количество  доля%\n",
       "1  предприятие быстрого обслуживания         606  24.68\n",
       "2                           ресторан         511  23.57\n",
       "0                               кафе        1295  23.42\n",
       "6                          кафетерий          30  14.63\n",
       "5                         закусочная          31   6.21\n",
       "4                                бар          33   4.18\n",
       "3          магазин (отдел кулинарии)          35   3.61\n",
       "8                           столовая           3   3.57\n",
       "7                              буфет           3   2.36"
      ]
     },
     "metadata": {},
     "output_type": "display_data"
    },
    {
     "data": {
      "image/png": "[encoded data removed]",
      "text/plain": [
       "<Figure size 864x504 with 1 Axes>"
      ]
     },
     "metadata": {
      "needs_background": "light"
     },
     "output_type": "display_data"
    }
   ],
   "source": [
    "networks_rest = rest_data.query('chain == \"да\"')\n",
    "networks_type = networks_rest['object_type'].value_counts().reset_index()\n",
    "networks_type.columns = ['вид', 'количество']\n",
    "\n",
    "networks_type['доля%'] = ((networks_type['количество'] / type['количество']) * 100).round(2)\n",
    "\n",
    "display(networks_rest)\n",
    "networks_type = networks_type.sort_values(by='доля%', ascending=False)\n",
    "display(networks_type)\n",
    "\n",
    "plt.figure(figsize=(12, 7))\n",
    "plt.xticks(rotation=90)\n",
    "plt.title('Доля объектов питания')\n",
    "ax = sns.barplot(x='вид', y='доля%', data=networks_type)\n",
    "\n"
   ]
  },
  {
   "cell_type": "markdown",
   "metadata": {},
   "source": [
    "<div class=\"alert alert-info\">  По доле от общего количества в сетях лидирует предприятия быстрого обслуживания. На втором месте рестораны, а кафе только третье место."
   ]
  },
  {
   "cell_type": "code",
   "execution_count": 7,
   "metadata": {},
   "outputs": [
    {
     "data": {
      "image/png": "[encoded data removed]",
      "text/plain": [
       "<Figure size 864x504 with 1 Axes>"
      ]
     },
     "metadata": {
      "needs_background": "light"
     },
     "output_type": "display_data"
    }
   ],
   "source": [
    "plt.figure(figsize=(12, 7))\n",
    "plt.xticks(rotation=90)\n",
    "plt.title('Количество посадочных мест по видам объектов')\n",
    "ax = sns.barplot(x='object_type', y='number', data=networks_rest)\n"
   ]
  },
  {
   "cell_type": "markdown",
   "metadata": {},
   "source": [
    "Для сетевых объектов питания характерно большее количество заведений с не большим количеством посадочных мест."
   ]
  },
  {
   "cell_type": "markdown",
   "metadata": {},
   "source": [
    "### Виды заведений по среднему количеству посадочных мест"
   ]
  },
  {
   "cell_type": "code",
   "execution_count": 8,
   "metadata": {
    "scrolled": false
   },
   "outputs": [
    {
     "data": {
      "image/png": "[encoded data removed]",
      "text/plain": [
       "<Figure size 864x504 with 1 Axes>"
      ]
     },
     "metadata": {
      "needs_background": "light"
     },
     "output_type": "display_data"
    }
   ],
   "source": [
    "number = rest_data.groupby('object_type')['number'].mean().reset_index().sort_values(by='number', ascending=False)\n",
    "plt.figure(figsize=(12, 7))\n",
    "plt.xticks(rotation=90)\n",
    "plt.title('Количество посадочных мест по видам объектов')\n",
    "ax = sns.barplot(x='object_type', y='number', data=number )"
   ]
  },
  {
   "cell_type": "markdown",
   "metadata": {},
   "source": [
    "По среднему количесву посадочных мест однозначный лидер это столовые. На втором месте рестораны, дальше идут буфеты, бары и кафе."
   ]
  },
  {
   "cell_type": "markdown",
   "metadata": {},
   "source": [
    "### Исследовагие адресного расположения"
   ]
  },
  {
   "cell_type": "markdown",
   "metadata": {},
   "source": [
    "Адреса делю на отдельные столбцы"
   ]
  },
  {
   "cell_type": "code",
   "execution_count": 9,
   "metadata": {},
   "outputs": [
    {
     "data": {
      "text/html": [
       "<div>\n",
       "<style scoped>\n",
       "    .dataframe tbody tr th:only-of-type {\n",
       "        vertical-align: middle;\n",
       "    }\n",
       "\n",
       "    .dataframe tbody tr th {\n",
       "        vertical-align: top;\n",
       "    }\n",
       "\n",
       "    .dataframe thead th {\n",
       "        text-align: right;\n",
       "    }\n",
       "</style>\n",
       "<table border=\"1\" class=\"dataframe\">\n",
       "  <thead>\n",
       "    <tr style=\"text-align: right;\">\n",
       "      <th></th>\n",
       "      <th>0</th>\n",
       "      <th>1</th>\n",
       "      <th>2</th>\n",
       "      <th>3</th>\n",
       "      <th>4</th>\n",
       "      <th>5</th>\n",
       "      <th>6</th>\n",
       "    </tr>\n",
       "  </thead>\n",
       "  <tbody>\n",
       "    <tr>\n",
       "      <th>0</th>\n",
       "      <td>город Москва</td>\n",
       "      <td>улица Егора Абакумова</td>\n",
       "      <td>дом 9</td>\n",
       "      <td>None</td>\n",
       "      <td>None</td>\n",
       "      <td>None</td>\n",
       "      <td>None</td>\n",
       "    </tr>\n",
       "    <tr>\n",
       "      <th>1</th>\n",
       "      <td>город Москва</td>\n",
       "      <td>улица Талалихина</td>\n",
       "      <td>дом 2/1</td>\n",
       "      <td>корпус 1</td>\n",
       "      <td>None</td>\n",
       "      <td>None</td>\n",
       "      <td>None</td>\n",
       "    </tr>\n",
       "    <tr>\n",
       "      <th>2</th>\n",
       "      <td>город Москва</td>\n",
       "      <td>Абельмановская улица</td>\n",
       "      <td>дом 6</td>\n",
       "      <td>None</td>\n",
       "      <td>None</td>\n",
       "      <td>None</td>\n",
       "      <td>None</td>\n",
       "    </tr>\n",
       "    <tr>\n",
       "      <th>3</th>\n",
       "      <td>город Москва</td>\n",
       "      <td>Абрамцевская улица</td>\n",
       "      <td>дом 1</td>\n",
       "      <td>None</td>\n",
       "      <td>None</td>\n",
       "      <td>None</td>\n",
       "      <td>None</td>\n",
       "    </tr>\n",
       "    <tr>\n",
       "      <th>4</th>\n",
       "      <td>город Москва</td>\n",
       "      <td>Абрамцевская улица</td>\n",
       "      <td>дом 9</td>\n",
       "      <td>корпус 1</td>\n",
       "      <td>None</td>\n",
       "      <td>None</td>\n",
       "      <td>None</td>\n",
       "    </tr>\n",
       "    <tr>\n",
       "      <th>...</th>\n",
       "      <td>...</td>\n",
       "      <td>...</td>\n",
       "      <td>...</td>\n",
       "      <td>...</td>\n",
       "      <td>...</td>\n",
       "      <td>...</td>\n",
       "      <td>...</td>\n",
       "    </tr>\n",
       "    <tr>\n",
       "      <th>15361</th>\n",
       "      <td>город Москва</td>\n",
       "      <td>3-й Крутицкий переулок</td>\n",
       "      <td>дом 18</td>\n",
       "      <td>None</td>\n",
       "      <td>None</td>\n",
       "      <td>None</td>\n",
       "      <td>None</td>\n",
       "    </tr>\n",
       "    <tr>\n",
       "      <th>15362</th>\n",
       "      <td>город Москва</td>\n",
       "      <td>улица Земляной Вал</td>\n",
       "      <td>дом 33</td>\n",
       "      <td>None</td>\n",
       "      <td>None</td>\n",
       "      <td>None</td>\n",
       "      <td>None</td>\n",
       "    </tr>\n",
       "    <tr>\n",
       "      <th>15363</th>\n",
       "      <td>город Москва</td>\n",
       "      <td>улица Земляной Вал</td>\n",
       "      <td>дом 33</td>\n",
       "      <td>None</td>\n",
       "      <td>None</td>\n",
       "      <td>None</td>\n",
       "      <td>None</td>\n",
       "    </tr>\n",
       "    <tr>\n",
       "      <th>15364</th>\n",
       "      <td>город Москва</td>\n",
       "      <td>поселение Московский</td>\n",
       "      <td>Киевское шоссе</td>\n",
       "      <td>22-й километр</td>\n",
       "      <td>домовладение 4</td>\n",
       "      <td>строение 1</td>\n",
       "      <td>None</td>\n",
       "    </tr>\n",
       "    <tr>\n",
       "      <th>15365</th>\n",
       "      <td>город Москва</td>\n",
       "      <td>Ходынский бульвар</td>\n",
       "      <td>дом 4</td>\n",
       "      <td>None</td>\n",
       "      <td>None</td>\n",
       "      <td>None</td>\n",
       "      <td>None</td>\n",
       "    </tr>\n",
       "  </tbody>\n",
       "</table>\n",
       "<p>13042 rows × 7 columns</p>\n",
       "</div>"
      ],
      "text/plain": [
       "                  0                        1                2               3  \\\n",
       "0      город Москва    улица Егора Абакумова            дом 9            None   \n",
       "1      город Москва         улица Талалихина          дом 2/1        корпус 1   \n",
       "2      город Москва     Абельмановская улица            дом 6            None   \n",
       "3      город Москва       Абрамцевская улица            дом 1            None   \n",
       "4      город Москва       Абрамцевская улица            дом 9        корпус 1   \n",
       "...             ...                      ...              ...             ...   \n",
       "15361  город Москва   3-й Крутицкий переулок           дом 18            None   \n",
       "15362  город Москва       улица Земляной Вал           дом 33            None   \n",
       "15363  город Москва       улица Земляной Вал           дом 33            None   \n",
       "15364  город Москва     поселение Московский   Киевское шоссе   22-й километр   \n",
       "15365  город Москва        Ходынский бульвар            дом 4            None   \n",
       "\n",
       "                     4            5     6  \n",
       "0                 None         None  None  \n",
       "1                 None         None  None  \n",
       "2                 None         None  None  \n",
       "3                 None         None  None  \n",
       "4                 None         None  None  \n",
       "...                ...          ...   ...  \n",
       "15361             None         None  None  \n",
       "15362             None         None  None  \n",
       "15363             None         None  None  \n",
       "15364   домовладение 4   строение 1  None  \n",
       "15365             None         None  None  \n",
       "\n",
       "[13042 rows x 7 columns]"
      ]
     },
     "execution_count": 9,
     "metadata": {},
     "output_type": "execute_result"
    }
   ],
   "source": [
    "rest_address = rest_data['address'].str.split(',', expand=True)\n",
    "rest_address"
   ]
  },
  {
   "cell_type": "markdown",
   "metadata": {},
   "source": [
    "Добавляю в таблицу отдельный стобец с улицами"
   ]
  },
  {
   "cell_type": "code",
   "execution_count": 10,
   "metadata": {
    "scrolled": false
   },
   "outputs": [
    {
     "data": {
      "text/html": [
       "<div>\n",
       "<style scoped>\n",
       "    .dataframe tbody tr th:only-of-type {\n",
       "        vertical-align: middle;\n",
       "    }\n",
       "\n",
       "    .dataframe tbody tr th {\n",
       "        vertical-align: top;\n",
       "    }\n",
       "\n",
       "    .dataframe thead th {\n",
       "        text-align: right;\n",
       "    }\n",
       "</style>\n",
       "<table border=\"1\" class=\"dataframe\">\n",
       "  <thead>\n",
       "    <tr style=\"text-align: right;\">\n",
       "      <th></th>\n",
       "      <th>id</th>\n",
       "      <th>object_name</th>\n",
       "      <th>chain</th>\n",
       "      <th>object_type</th>\n",
       "      <th>address</th>\n",
       "      <th>number</th>\n",
       "      <th>street</th>\n",
       "    </tr>\n",
       "  </thead>\n",
       "  <tbody>\n",
       "    <tr>\n",
       "      <th>0</th>\n",
       "      <td>151635</td>\n",
       "      <td>сметана</td>\n",
       "      <td>нет</td>\n",
       "      <td>кафе</td>\n",
       "      <td>город Москва, улица Егора Абакумова, дом 9</td>\n",
       "      <td>48</td>\n",
       "      <td>улица Егора Абакумова</td>\n",
       "    </tr>\n",
       "    <tr>\n",
       "      <th>1</th>\n",
       "      <td>77874</td>\n",
       "      <td>родник</td>\n",
       "      <td>нет</td>\n",
       "      <td>кафе</td>\n",
       "      <td>город Москва, улица Талалихина, дом 2/1, корпус 1</td>\n",
       "      <td>35</td>\n",
       "      <td>улица Талалихина</td>\n",
       "    </tr>\n",
       "    <tr>\n",
       "      <th>2</th>\n",
       "      <td>24309</td>\n",
       "      <td>кафе «академия»</td>\n",
       "      <td>нет</td>\n",
       "      <td>кафе</td>\n",
       "      <td>город Москва, Абельмановская улица, дом 6</td>\n",
       "      <td>95</td>\n",
       "      <td>Абельмановская улица</td>\n",
       "    </tr>\n",
       "    <tr>\n",
       "      <th>3</th>\n",
       "      <td>21894</td>\n",
       "      <td>пиццетория</td>\n",
       "      <td>да</td>\n",
       "      <td>кафе</td>\n",
       "      <td>город Москва, Абрамцевская улица, дом 1</td>\n",
       "      <td>40</td>\n",
       "      <td>Абрамцевская улица</td>\n",
       "    </tr>\n",
       "    <tr>\n",
       "      <th>4</th>\n",
       "      <td>119365</td>\n",
       "      <td>кафе «вишневая метель»</td>\n",
       "      <td>нет</td>\n",
       "      <td>кафе</td>\n",
       "      <td>город Москва, Абрамцевская улица, дом 9, корпус 1</td>\n",
       "      <td>50</td>\n",
       "      <td>Абрамцевская улица</td>\n",
       "    </tr>\n",
       "    <tr>\n",
       "      <th>...</th>\n",
       "      <td>...</td>\n",
       "      <td>...</td>\n",
       "      <td>...</td>\n",
       "      <td>...</td>\n",
       "      <td>...</td>\n",
       "      <td>...</td>\n",
       "      <td>...</td>\n",
       "    </tr>\n",
       "    <tr>\n",
       "      <th>15361</th>\n",
       "      <td>208537</td>\n",
       "      <td>шоколадница</td>\n",
       "      <td>да</td>\n",
       "      <td>кафе</td>\n",
       "      <td>город Москва, 3-й Крутицкий переулок, дом 18</td>\n",
       "      <td>50</td>\n",
       "      <td>3-й Крутицкий переулок</td>\n",
       "    </tr>\n",
       "    <tr>\n",
       "      <th>15362</th>\n",
       "      <td>209264</td>\n",
       "      <td>шоколадница</td>\n",
       "      <td>да</td>\n",
       "      <td>кафе</td>\n",
       "      <td>город Москва, улица Земляной Вал, дом 33</td>\n",
       "      <td>10</td>\n",
       "      <td>улица Земляной Вал</td>\n",
       "    </tr>\n",
       "    <tr>\n",
       "      <th>15363</th>\n",
       "      <td>209186</td>\n",
       "      <td>шоколадница</td>\n",
       "      <td>да</td>\n",
       "      <td>кафе</td>\n",
       "      <td>город Москва, улица Земляной Вал, дом 33</td>\n",
       "      <td>20</td>\n",
       "      <td>улица Земляной Вал</td>\n",
       "    </tr>\n",
       "    <tr>\n",
       "      <th>15364</th>\n",
       "      <td>221900</td>\n",
       "      <td>шоколадница</td>\n",
       "      <td>да</td>\n",
       "      <td>кафе</td>\n",
       "      <td>город Москва, поселение Московский, Киевское ш...</td>\n",
       "      <td>36</td>\n",
       "      <td>поселение Московский</td>\n",
       "    </tr>\n",
       "    <tr>\n",
       "      <th>15365</th>\n",
       "      <td>222535</td>\n",
       "      <td>шоколадница</td>\n",
       "      <td>да</td>\n",
       "      <td>кафе</td>\n",
       "      <td>город Москва, Ходынский бульвар, дом 4</td>\n",
       "      <td>10</td>\n",
       "      <td>Ходынский бульвар</td>\n",
       "    </tr>\n",
       "  </tbody>\n",
       "</table>\n",
       "<p>13042 rows × 7 columns</p>\n",
       "</div>"
      ],
      "text/plain": [
       "           id             object_name chain object_type  \\\n",
       "0      151635                 сметана   нет        кафе   \n",
       "1       77874                  родник   нет        кафе   \n",
       "2       24309         кафе «академия»   нет        кафе   \n",
       "3       21894              пиццетория    да        кафе   \n",
       "4      119365  кафе «вишневая метель»   нет        кафе   \n",
       "...       ...                     ...   ...         ...   \n",
       "15361  208537             шоколадница    да        кафе   \n",
       "15362  209264             шоколадница    да        кафе   \n",
       "15363  209186             шоколадница    да        кафе   \n",
       "15364  221900             шоколадница    да        кафе   \n",
       "15365  222535             шоколадница    да        кафе   \n",
       "\n",
       "                                                 address  number  \\\n",
       "0             город Москва, улица Егора Абакумова, дом 9      48   \n",
       "1      город Москва, улица Талалихина, дом 2/1, корпус 1      35   \n",
       "2              город Москва, Абельмановская улица, дом 6      95   \n",
       "3                город Москва, Абрамцевская улица, дом 1      40   \n",
       "4      город Москва, Абрамцевская улица, дом 9, корпус 1      50   \n",
       "...                                                  ...     ...   \n",
       "15361       город Москва, 3-й Крутицкий переулок, дом 18      50   \n",
       "15362           город Москва, улица Земляной Вал, дом 33      10   \n",
       "15363           город Москва, улица Земляной Вал, дом 33      20   \n",
       "15364  город Москва, поселение Московский, Киевское ш...      36   \n",
       "15365             город Москва, Ходынский бульвар, дом 4      10   \n",
       "\n",
       "                       street  \n",
       "0       улица Егора Абакумова  \n",
       "1            улица Талалихина  \n",
       "2        Абельмановская улица  \n",
       "3          Абрамцевская улица  \n",
       "4          Абрамцевская улица  \n",
       "...                       ...  \n",
       "15361  3-й Крутицкий переулок  \n",
       "15362      улица Земляной Вал  \n",
       "15363      улица Земляной Вал  \n",
       "15364    поселение Московский  \n",
       "15365       Ходынский бульвар  \n",
       "\n",
       "[13042 rows x 7 columns]"
      ]
     },
     "execution_count": 10,
     "metadata": {},
     "output_type": "execute_result"
    }
   ],
   "source": [
    "rest_data['street'] = rest_address[1]\n",
    "rest_data['street'] = rest_data['street'].str.strip()\n",
    "rest_data"
   ]
  },
  {
   "cell_type": "markdown",
   "metadata": {},
   "source": [
    "### Топ 10 улиц по количеству заведений питания"
   ]
  },
  {
   "cell_type": "code",
   "execution_count": 23,
   "metadata": {},
   "outputs": [
    {
     "data": {
      "text/html": [
       "<div>\n",
       "<style scoped>\n",
       "    .dataframe tbody tr th:only-of-type {\n",
       "        vertical-align: middle;\n",
       "    }\n",
       "\n",
       "    .dataframe tbody tr th {\n",
       "        vertical-align: top;\n",
       "    }\n",
       "\n",
       "    .dataframe thead th {\n",
       "        text-align: right;\n",
       "    }\n",
       "</style>\n",
       "<table border=\"1\" class=\"dataframe\">\n",
       "  <thead>\n",
       "    <tr style=\"text-align: right;\">\n",
       "      <th></th>\n",
       "      <th>улица</th>\n",
       "      <th>количество</th>\n",
       "    </tr>\n",
       "  </thead>\n",
       "  <tbody>\n",
       "    <tr>\n",
       "      <th>0</th>\n",
       "      <td>проспект Мира</td>\n",
       "      <td>189</td>\n",
       "    </tr>\n",
       "    <tr>\n",
       "      <th>1</th>\n",
       "      <td>Ленинградский проспект</td>\n",
       "      <td>147</td>\n",
       "    </tr>\n",
       "    <tr>\n",
       "      <th>2</th>\n",
       "      <td>Пресненская набережная</td>\n",
       "      <td>139</td>\n",
       "    </tr>\n",
       "    <tr>\n",
       "      <th>3</th>\n",
       "      <td>Профсоюзная улица</td>\n",
       "      <td>137</td>\n",
       "    </tr>\n",
       "    <tr>\n",
       "      <th>4</th>\n",
       "      <td>Ленинский проспект</td>\n",
       "      <td>131</td>\n",
       "    </tr>\n",
       "    <tr>\n",
       "      <th>5</th>\n",
       "      <td>Варшавское шоссе</td>\n",
       "      <td>127</td>\n",
       "    </tr>\n",
       "    <tr>\n",
       "      <th>6</th>\n",
       "      <td>проспект Вернадского</td>\n",
       "      <td>119</td>\n",
       "    </tr>\n",
       "    <tr>\n",
       "      <th>7</th>\n",
       "      <td>поселение Сосенское</td>\n",
       "      <td>106</td>\n",
       "    </tr>\n",
       "    <tr>\n",
       "      <th>8</th>\n",
       "      <td>Кутузовский проспект</td>\n",
       "      <td>95</td>\n",
       "    </tr>\n",
       "    <tr>\n",
       "      <th>9</th>\n",
       "      <td>Дмитровское шоссе</td>\n",
       "      <td>90</td>\n",
       "    </tr>\n",
       "  </tbody>\n",
       "</table>\n",
       "</div>"
      ],
      "text/plain": [
       "                    улица  количество\n",
       "0           проспект Мира         189\n",
       "1  Ленинградский проспект         147\n",
       "2  Пресненская набережная         139\n",
       "3       Профсоюзная улица         137\n",
       "4      Ленинский проспект         131\n",
       "5        Варшавское шоссе         127\n",
       "6    проспект Вернадского         119\n",
       "7     поселение Сосенское         106\n",
       "8    Кутузовский проспект          95\n",
       "9       Дмитровское шоссе          90"
      ]
     },
     "metadata": {},
     "output_type": "display_data"
    },
    {
     "data": {
      "image/png": "[encoded data removed]",
      "text/plain": [
       "<Figure size 864x504 with 1 Axes>"
      ]
     },
     "metadata": {
      "needs_background": "light"
     },
     "output_type": "display_data"
    }
   ],
   "source": [
    "rest_data = rest_data.query('street != \"город Зеленоград\"')\n",
    "\n",
    "street = rest_data['street'].value_counts().reset_index()\n",
    "street.columns = ['улица', 'количество']\n",
    "top_street = street.head(10)\n",
    "display(top_street)\n",
    "\n",
    "plt.figure(figsize=(12, 7))\n",
    "plt.xticks(rotation=90)\n",
    "plt.title('Топ улиц по количеству заведений питания')\n",
    "ax = sns.barplot(x='улица', y='количество', data=top_street)\n"
   ]
  },
  {
   "cell_type": "markdown",
   "metadata": {},
   "source": [
    "### Районы в которых распологаются топ 10 улиц"
   ]
  },
  {
   "cell_type": "markdown",
   "metadata": {},
   "source": [
    "Загружаем данные о районах Москвы из внешнего источника"
   ]
  },
  {
   "cell_type": "code",
   "execution_count": 12,
   "metadata": {},
   "outputs": [
    {
     "data": {
      "text/html": [
       "<div>\n",
       "<style scoped>\n",
       "    .dataframe tbody tr th:only-of-type {\n",
       "        vertical-align: middle;\n",
       "    }\n",
       "\n",
       "    .dataframe tbody tr th {\n",
       "        vertical-align: top;\n",
       "    }\n",
       "\n",
       "    .dataframe thead th {\n",
       "        text-align: right;\n",
       "    }\n",
       "</style>\n",
       "<table border=\"1\" class=\"dataframe\">\n",
       "  <thead>\n",
       "    <tr style=\"text-align: right;\">\n",
       "      <th></th>\n",
       "      <th>улица</th>\n",
       "      <th>areaid</th>\n",
       "      <th>округ</th>\n",
       "      <th>район</th>\n",
       "    </tr>\n",
       "  </thead>\n",
       "  <tbody>\n",
       "    <tr>\n",
       "      <th>0</th>\n",
       "      <td>Выставочный переулок</td>\n",
       "      <td>17</td>\n",
       "      <td>ЦАО</td>\n",
       "      <td>Пресненский район</td>\n",
       "    </tr>\n",
       "    <tr>\n",
       "      <th>1</th>\n",
       "      <td>улица Гашека</td>\n",
       "      <td>17</td>\n",
       "      <td>ЦАО</td>\n",
       "      <td>Пресненский район</td>\n",
       "    </tr>\n",
       "    <tr>\n",
       "      <th>2</th>\n",
       "      <td>Большая Никитская улица</td>\n",
       "      <td>17</td>\n",
       "      <td>ЦАО</td>\n",
       "      <td>Пресненский район</td>\n",
       "    </tr>\n",
       "    <tr>\n",
       "      <th>3</th>\n",
       "      <td>Глубокий переулок</td>\n",
       "      <td>17</td>\n",
       "      <td>ЦАО</td>\n",
       "      <td>Пресненский район</td>\n",
       "    </tr>\n",
       "    <tr>\n",
       "      <th>4</th>\n",
       "      <td>Большой Гнездниковский переулок</td>\n",
       "      <td>17</td>\n",
       "      <td>ЦАО</td>\n",
       "      <td>Пресненский район</td>\n",
       "    </tr>\n",
       "    <tr>\n",
       "      <th>...</th>\n",
       "      <td>...</td>\n",
       "      <td>...</td>\n",
       "      <td>...</td>\n",
       "      <td>...</td>\n",
       "    </tr>\n",
       "    <tr>\n",
       "      <th>4393</th>\n",
       "      <td>Вознесенский проезд</td>\n",
       "      <td>17</td>\n",
       "      <td>ЦАО</td>\n",
       "      <td>Пресненский район</td>\n",
       "    </tr>\n",
       "    <tr>\n",
       "      <th>4394</th>\n",
       "      <td>Волков переулок</td>\n",
       "      <td>17</td>\n",
       "      <td>ЦАО</td>\n",
       "      <td>Пресненский район</td>\n",
       "    </tr>\n",
       "    <tr>\n",
       "      <th>4395</th>\n",
       "      <td>Поварская улица</td>\n",
       "      <td>17</td>\n",
       "      <td>ЦАО</td>\n",
       "      <td>Пресненский район</td>\n",
       "    </tr>\n",
       "    <tr>\n",
       "      <th>4396</th>\n",
       "      <td>Кудринская площадь</td>\n",
       "      <td>17</td>\n",
       "      <td>ЦАО</td>\n",
       "      <td>Пресненский район</td>\n",
       "    </tr>\n",
       "    <tr>\n",
       "      <th>4397</th>\n",
       "      <td>Вспольный переулок</td>\n",
       "      <td>17</td>\n",
       "      <td>ЦАО</td>\n",
       "      <td>Пресненский район</td>\n",
       "    </tr>\n",
       "  </tbody>\n",
       "</table>\n",
       "<p>4398 rows × 4 columns</p>\n",
       "</div>"
      ],
      "text/plain": [
       "                                улица  areaid округ              район\n",
       "0                Выставочный переулок      17   ЦАО  Пресненский район\n",
       "1                        улица Гашека      17   ЦАО  Пресненский район\n",
       "2             Большая Никитская улица      17   ЦАО  Пресненский район\n",
       "3                   Глубокий переулок      17   ЦАО  Пресненский район\n",
       "4     Большой Гнездниковский переулок      17   ЦАО  Пресненский район\n",
       "...                               ...     ...   ...                ...\n",
       "4393              Вознесенский проезд      17   ЦАО  Пресненский район\n",
       "4394                  Волков переулок      17   ЦАО  Пресненский район\n",
       "4395                  Поварская улица      17   ЦАО  Пресненский район\n",
       "4396               Кудринская площадь      17   ЦАО  Пресненский район\n",
       "4397               Вспольный переулок      17   ЦАО  Пресненский район\n",
       "\n",
       "[4398 rows x 4 columns]"
      ]
     },
     "execution_count": 12,
     "metadata": {},
     "output_type": "execute_result"
    }
   ],
   "source": [
    "area = pd.read_csv('https://frs.noosphere.ru/xmlui/bitstream/handle/20.500.11925/714058/mosgaz-streets.csv')\n",
    "area.columns = ['улица', 'areaid', 'округ', 'район']\n",
    "area"
   ]
  },
  {
   "cell_type": "code",
   "execution_count": 13,
   "metadata": {
    "scrolled": false
   },
   "outputs": [
    {
     "data": {
      "text/html": [
       "<div>\n",
       "<style scoped>\n",
       "    .dataframe tbody tr th:only-of-type {\n",
       "        vertical-align: middle;\n",
       "    }\n",
       "\n",
       "    .dataframe tbody tr th {\n",
       "        vertical-align: top;\n",
       "    }\n",
       "\n",
       "    .dataframe thead th {\n",
       "        text-align: right;\n",
       "    }\n",
       "</style>\n",
       "<table border=\"1\" class=\"dataframe\">\n",
       "  <thead>\n",
       "    <tr style=\"text-align: right;\">\n",
       "      <th></th>\n",
       "      <th>улица</th>\n",
       "      <th>количество</th>\n",
       "      <th>areaid</th>\n",
       "      <th>округ</th>\n",
       "      <th>район</th>\n",
       "    </tr>\n",
       "  </thead>\n",
       "  <tbody>\n",
       "    <tr>\n",
       "      <th>0</th>\n",
       "      <td>проспект Мира</td>\n",
       "      <td>189</td>\n",
       "      <td>70.0</td>\n",
       "      <td>СВАО</td>\n",
       "      <td>Алексеевский район</td>\n",
       "    </tr>\n",
       "    <tr>\n",
       "      <th>1</th>\n",
       "      <td>проспект Мира</td>\n",
       "      <td>189</td>\n",
       "      <td>86.0</td>\n",
       "      <td>СВАО</td>\n",
       "      <td>Ярославский Район</td>\n",
       "    </tr>\n",
       "    <tr>\n",
       "      <th>2</th>\n",
       "      <td>проспект Мира</td>\n",
       "      <td>189</td>\n",
       "      <td>78.0</td>\n",
       "      <td>СВАО</td>\n",
       "      <td>Район Марьина роща</td>\n",
       "    </tr>\n",
       "    <tr>\n",
       "      <th>3</th>\n",
       "      <td>проспект Мира</td>\n",
       "      <td>189</td>\n",
       "      <td>79.0</td>\n",
       "      <td>СВАО</td>\n",
       "      <td>Останкинский район</td>\n",
       "    </tr>\n",
       "    <tr>\n",
       "      <th>4</th>\n",
       "      <td>проспект Мира</td>\n",
       "      <td>189</td>\n",
       "      <td>81.0</td>\n",
       "      <td>СВАО</td>\n",
       "      <td>Район Ростокино</td>\n",
       "    </tr>\n",
       "    <tr>\n",
       "      <th>5</th>\n",
       "      <td>проспект Мира</td>\n",
       "      <td>189</td>\n",
       "      <td>82.0</td>\n",
       "      <td>СВАО</td>\n",
       "      <td>Район Свиблово</td>\n",
       "    </tr>\n",
       "    <tr>\n",
       "      <th>6</th>\n",
       "      <td>проспект Мира</td>\n",
       "      <td>189</td>\n",
       "      <td>16.0</td>\n",
       "      <td>ЦАО</td>\n",
       "      <td>Мещанский район</td>\n",
       "    </tr>\n",
       "    <tr>\n",
       "      <th>7</th>\n",
       "      <td>Ленинградский проспект</td>\n",
       "      <td>147</td>\n",
       "      <td>54.0</td>\n",
       "      <td>САО</td>\n",
       "      <td>Район Аэропорт</td>\n",
       "    </tr>\n",
       "    <tr>\n",
       "      <th>8</th>\n",
       "      <td>Ленинградский проспект</td>\n",
       "      <td>147</td>\n",
       "      <td>55.0</td>\n",
       "      <td>САО</td>\n",
       "      <td>Район Беговой</td>\n",
       "    </tr>\n",
       "    <tr>\n",
       "      <th>9</th>\n",
       "      <td>Ленинградский проспект</td>\n",
       "      <td>147</td>\n",
       "      <td>69.0</td>\n",
       "      <td>САО</td>\n",
       "      <td>Хорошевский район</td>\n",
       "    </tr>\n",
       "    <tr>\n",
       "      <th>10</th>\n",
       "      <td>Ленинградский проспект</td>\n",
       "      <td>147</td>\n",
       "      <td>66.0</td>\n",
       "      <td>САО</td>\n",
       "      <td>Район Сокол</td>\n",
       "    </tr>\n",
       "    <tr>\n",
       "      <th>11</th>\n",
       "      <td>Пресненская набережная</td>\n",
       "      <td>139</td>\n",
       "      <td>17.0</td>\n",
       "      <td>ЦАО</td>\n",
       "      <td>Пресненский район</td>\n",
       "    </tr>\n",
       "    <tr>\n",
       "      <th>12</th>\n",
       "      <td>Профсоюзная улица</td>\n",
       "      <td>137</td>\n",
       "      <td>123.0</td>\n",
       "      <td>ЮЗАО</td>\n",
       "      <td>Академический район</td>\n",
       "    </tr>\n",
       "    <tr>\n",
       "      <th>13</th>\n",
       "      <td>Профсоюзная улица</td>\n",
       "      <td>137</td>\n",
       "      <td>132.0</td>\n",
       "      <td>ЮЗАО</td>\n",
       "      <td>Район Черемушки</td>\n",
       "    </tr>\n",
       "    <tr>\n",
       "      <th>14</th>\n",
       "      <td>Профсоюзная улица</td>\n",
       "      <td>137</td>\n",
       "      <td>134.0</td>\n",
       "      <td>ЮЗАО</td>\n",
       "      <td>Район Ясенево</td>\n",
       "    </tr>\n",
       "    <tr>\n",
       "      <th>15</th>\n",
       "      <td>Профсоюзная улица</td>\n",
       "      <td>137</td>\n",
       "      <td>126.0</td>\n",
       "      <td>ЮЗАО</td>\n",
       "      <td>Район Коньково</td>\n",
       "    </tr>\n",
       "    <tr>\n",
       "      <th>16</th>\n",
       "      <td>Профсоюзная улица</td>\n",
       "      <td>137</td>\n",
       "      <td>129.0</td>\n",
       "      <td>ЮЗАО</td>\n",
       "      <td>Обручевский район</td>\n",
       "    </tr>\n",
       "    <tr>\n",
       "      <th>17</th>\n",
       "      <td>Профсоюзная улица</td>\n",
       "      <td>137</td>\n",
       "      <td>131.0</td>\n",
       "      <td>ЮЗАО</td>\n",
       "      <td>Район Теплый Стан</td>\n",
       "    </tr>\n",
       "    <tr>\n",
       "      <th>18</th>\n",
       "      <td>Ленинский проспект</td>\n",
       "      <td>131</td>\n",
       "      <td>44.0</td>\n",
       "      <td>ЗАО</td>\n",
       "      <td>Район Проспект Вернадского</td>\n",
       "    </tr>\n",
       "    <tr>\n",
       "      <th>19</th>\n",
       "      <td>Ленинский проспект</td>\n",
       "      <td>131</td>\n",
       "      <td>47.0</td>\n",
       "      <td>ЗАО</td>\n",
       "      <td>Район Тропарево-Никулино</td>\n",
       "    </tr>\n",
       "    <tr>\n",
       "      <th>20</th>\n",
       "      <td>Ленинский проспект</td>\n",
       "      <td>131</td>\n",
       "      <td>99.0</td>\n",
       "      <td>ЮАО</td>\n",
       "      <td>Донской район</td>\n",
       "    </tr>\n",
       "    <tr>\n",
       "      <th>21</th>\n",
       "      <td>Ленинский проспект</td>\n",
       "      <td>131</td>\n",
       "      <td>124.0</td>\n",
       "      <td>ЮЗАО</td>\n",
       "      <td>Район Гагаринский</td>\n",
       "    </tr>\n",
       "    <tr>\n",
       "      <th>22</th>\n",
       "      <td>Ленинский проспект</td>\n",
       "      <td>131</td>\n",
       "      <td>128.0</td>\n",
       "      <td>ЮЗАО</td>\n",
       "      <td>Ломоносовский район</td>\n",
       "    </tr>\n",
       "    <tr>\n",
       "      <th>23</th>\n",
       "      <td>Ленинский проспект</td>\n",
       "      <td>131</td>\n",
       "      <td>129.0</td>\n",
       "      <td>ЮЗАО</td>\n",
       "      <td>Обручевский район</td>\n",
       "    </tr>\n",
       "    <tr>\n",
       "      <th>24</th>\n",
       "      <td>Ленинский проспект</td>\n",
       "      <td>131</td>\n",
       "      <td>131.0</td>\n",
       "      <td>ЮЗАО</td>\n",
       "      <td>Район Теплый Стан</td>\n",
       "    </tr>\n",
       "    <tr>\n",
       "      <th>25</th>\n",
       "      <td>Ленинский проспект</td>\n",
       "      <td>131</td>\n",
       "      <td>21.0</td>\n",
       "      <td>ЦАО</td>\n",
       "      <td>Район Якиманка</td>\n",
       "    </tr>\n",
       "    <tr>\n",
       "      <th>26</th>\n",
       "      <td>Варшавское шоссе</td>\n",
       "      <td>127</td>\n",
       "      <td>109.0</td>\n",
       "      <td>ЮАО</td>\n",
       "      <td>Район Чертаново Центральное</td>\n",
       "    </tr>\n",
       "    <tr>\n",
       "      <th>27</th>\n",
       "      <td>Варшавское шоссе</td>\n",
       "      <td>127</td>\n",
       "      <td>108.0</td>\n",
       "      <td>ЮАО</td>\n",
       "      <td>Район Чертаново Северное</td>\n",
       "    </tr>\n",
       "    <tr>\n",
       "      <th>28</th>\n",
       "      <td>Варшавское шоссе</td>\n",
       "      <td>127</td>\n",
       "      <td>110.0</td>\n",
       "      <td>ЮАО</td>\n",
       "      <td>Район Чертаново Южное</td>\n",
       "    </tr>\n",
       "    <tr>\n",
       "      <th>29</th>\n",
       "      <td>Варшавское шоссе</td>\n",
       "      <td>127</td>\n",
       "      <td>99.0</td>\n",
       "      <td>ЮАО</td>\n",
       "      <td>Донской район</td>\n",
       "    </tr>\n",
       "    <tr>\n",
       "      <th>30</th>\n",
       "      <td>Варшавское шоссе</td>\n",
       "      <td>127</td>\n",
       "      <td>102.0</td>\n",
       "      <td>ЮАО</td>\n",
       "      <td>Район Нагатино-Садовники</td>\n",
       "    </tr>\n",
       "    <tr>\n",
       "      <th>31</th>\n",
       "      <td>Варшавское шоссе</td>\n",
       "      <td>127</td>\n",
       "      <td>104.0</td>\n",
       "      <td>ЮАО</td>\n",
       "      <td>Нагорный район</td>\n",
       "    </tr>\n",
       "    <tr>\n",
       "      <th>32</th>\n",
       "      <td>Варшавское шоссе</td>\n",
       "      <td>127</td>\n",
       "      <td>130.0</td>\n",
       "      <td>ЮЗАО</td>\n",
       "      <td>Район Северное Бутово</td>\n",
       "    </tr>\n",
       "    <tr>\n",
       "      <th>33</th>\n",
       "      <td>Варшавское шоссе</td>\n",
       "      <td>127</td>\n",
       "      <td>133.0</td>\n",
       "      <td>ЮЗАО</td>\n",
       "      <td>Район Южное Бутово</td>\n",
       "    </tr>\n",
       "    <tr>\n",
       "      <th>34</th>\n",
       "      <td>проспект Вернадского</td>\n",
       "      <td>119</td>\n",
       "      <td>44.0</td>\n",
       "      <td>ЗАО</td>\n",
       "      <td>Район Проспект Вернадского</td>\n",
       "    </tr>\n",
       "    <tr>\n",
       "      <th>35</th>\n",
       "      <td>проспект Вернадского</td>\n",
       "      <td>119</td>\n",
       "      <td>45.0</td>\n",
       "      <td>ЗАО</td>\n",
       "      <td>Район Раменки</td>\n",
       "    </tr>\n",
       "    <tr>\n",
       "      <th>36</th>\n",
       "      <td>проспект Вернадского</td>\n",
       "      <td>119</td>\n",
       "      <td>47.0</td>\n",
       "      <td>ЗАО</td>\n",
       "      <td>Район Тропарево-Никулино</td>\n",
       "    </tr>\n",
       "    <tr>\n",
       "      <th>37</th>\n",
       "      <td>проспект Вернадского</td>\n",
       "      <td>119</td>\n",
       "      <td>124.0</td>\n",
       "      <td>ЮЗАО</td>\n",
       "      <td>Район Гагаринский</td>\n",
       "    </tr>\n",
       "    <tr>\n",
       "      <th>38</th>\n",
       "      <td>проспект Вернадского</td>\n",
       "      <td>119</td>\n",
       "      <td>128.0</td>\n",
       "      <td>ЮЗАО</td>\n",
       "      <td>Ломоносовский район</td>\n",
       "    </tr>\n",
       "    <tr>\n",
       "      <th>39</th>\n",
       "      <td>поселение Сосенское</td>\n",
       "      <td>106</td>\n",
       "      <td>NaN</td>\n",
       "      <td>NaN</td>\n",
       "      <td>NaN</td>\n",
       "    </tr>\n",
       "    <tr>\n",
       "      <th>40</th>\n",
       "      <td>Кутузовский проспект</td>\n",
       "      <td>95</td>\n",
       "      <td>38.0</td>\n",
       "      <td>ЗАО</td>\n",
       "      <td>Район Дорогомилово</td>\n",
       "    </tr>\n",
       "    <tr>\n",
       "      <th>41</th>\n",
       "      <td>Кутузовский проспект</td>\n",
       "      <td>95</td>\n",
       "      <td>49.0</td>\n",
       "      <td>ЗАО</td>\n",
       "      <td>Район Фили-Давыдково</td>\n",
       "    </tr>\n",
       "    <tr>\n",
       "      <th>42</th>\n",
       "      <td>Дмитровское шоссе</td>\n",
       "      <td>90</td>\n",
       "      <td>56.0</td>\n",
       "      <td>САО</td>\n",
       "      <td>Бескудниковский Район</td>\n",
       "    </tr>\n",
       "    <tr>\n",
       "      <th>43</th>\n",
       "      <td>Дмитровское шоссе</td>\n",
       "      <td>90</td>\n",
       "      <td>60.0</td>\n",
       "      <td>САО</td>\n",
       "      <td>Дмитровский район</td>\n",
       "    </tr>\n",
       "    <tr>\n",
       "      <th>44</th>\n",
       "      <td>Дмитровское шоссе</td>\n",
       "      <td>90</td>\n",
       "      <td>67.0</td>\n",
       "      <td>САО</td>\n",
       "      <td>Тимирязевский Район</td>\n",
       "    </tr>\n",
       "    <tr>\n",
       "      <th>45</th>\n",
       "      <td>Дмитровское шоссе</td>\n",
       "      <td>90</td>\n",
       "      <td>58.0</td>\n",
       "      <td>САО</td>\n",
       "      <td>Район Восточное Дегунино</td>\n",
       "    </tr>\n",
       "    <tr>\n",
       "      <th>46</th>\n",
       "      <td>Дмитровское шоссе</td>\n",
       "      <td>90</td>\n",
       "      <td>61.0</td>\n",
       "      <td>САО</td>\n",
       "      <td>Район Западное Дегунино</td>\n",
       "    </tr>\n",
       "    <tr>\n",
       "      <th>47</th>\n",
       "      <td>Дмитровское шоссе</td>\n",
       "      <td>90</td>\n",
       "      <td>75.0</td>\n",
       "      <td>СВАО</td>\n",
       "      <td>Район Лианозово</td>\n",
       "    </tr>\n",
       "    <tr>\n",
       "      <th>48</th>\n",
       "      <td>Дмитровское шоссе</td>\n",
       "      <td>90</td>\n",
       "      <td>84.0</td>\n",
       "      <td>СВАО</td>\n",
       "      <td>Район Северный</td>\n",
       "    </tr>\n",
       "  </tbody>\n",
       "</table>\n",
       "</div>"
      ],
      "text/plain": [
       "                     улица  количество  areaid округ  \\\n",
       "0            проспект Мира         189    70.0  СВАО   \n",
       "1            проспект Мира         189    86.0  СВАО   \n",
       "2            проспект Мира         189    78.0  СВАО   \n",
       "3            проспект Мира         189    79.0  СВАО   \n",
       "4            проспект Мира         189    81.0  СВАО   \n",
       "5            проспект Мира         189    82.0  СВАО   \n",
       "6            проспект Мира         189    16.0   ЦАО   \n",
       "7   Ленинградский проспект         147    54.0   САО   \n",
       "8   Ленинградский проспект         147    55.0   САО   \n",
       "9   Ленинградский проспект         147    69.0   САО   \n",
       "10  Ленинградский проспект         147    66.0   САО   \n",
       "11  Пресненская набережная         139    17.0   ЦАО   \n",
       "12       Профсоюзная улица         137   123.0  ЮЗАО   \n",
       "13       Профсоюзная улица         137   132.0  ЮЗАО   \n",
       "14       Профсоюзная улица         137   134.0  ЮЗАО   \n",
       "15       Профсоюзная улица         137   126.0  ЮЗАО   \n",
       "16       Профсоюзная улица         137   129.0  ЮЗАО   \n",
       "17       Профсоюзная улица         137   131.0  ЮЗАО   \n",
       "18      Ленинский проспект         131    44.0   ЗАО   \n",
       "19      Ленинский проспект         131    47.0   ЗАО   \n",
       "20      Ленинский проспект         131    99.0   ЮАО   \n",
       "21      Ленинский проспект         131   124.0  ЮЗАО   \n",
       "22      Ленинский проспект         131   128.0  ЮЗАО   \n",
       "23      Ленинский проспект         131   129.0  ЮЗАО   \n",
       "24      Ленинский проспект         131   131.0  ЮЗАО   \n",
       "25      Ленинский проспект         131    21.0   ЦАО   \n",
       "26        Варшавское шоссе         127   109.0   ЮАО   \n",
       "27        Варшавское шоссе         127   108.0   ЮАО   \n",
       "28        Варшавское шоссе         127   110.0   ЮАО   \n",
       "29        Варшавское шоссе         127    99.0   ЮАО   \n",
       "30        Варшавское шоссе         127   102.0   ЮАО   \n",
       "31        Варшавское шоссе         127   104.0   ЮАО   \n",
       "32        Варшавское шоссе         127   130.0  ЮЗАО   \n",
       "33        Варшавское шоссе         127   133.0  ЮЗАО   \n",
       "34    проспект Вернадского         119    44.0   ЗАО   \n",
       "35    проспект Вернадского         119    45.0   ЗАО   \n",
       "36    проспект Вернадского         119    47.0   ЗАО   \n",
       "37    проспект Вернадского         119   124.0  ЮЗАО   \n",
       "38    проспект Вернадского         119   128.0  ЮЗАО   \n",
       "39     поселение Сосенское         106     NaN   NaN   \n",
       "40    Кутузовский проспект          95    38.0   ЗАО   \n",
       "41    Кутузовский проспект          95    49.0   ЗАО   \n",
       "42       Дмитровское шоссе          90    56.0   САО   \n",
       "43       Дмитровское шоссе          90    60.0   САО   \n",
       "44       Дмитровское шоссе          90    67.0   САО   \n",
       "45       Дмитровское шоссе          90    58.0   САО   \n",
       "46       Дмитровское шоссе          90    61.0   САО   \n",
       "47       Дмитровское шоссе          90    75.0  СВАО   \n",
       "48       Дмитровское шоссе          90    84.0  СВАО   \n",
       "\n",
       "                          район  \n",
       "0            Алексеевский район  \n",
       "1             Ярославский Район  \n",
       "2            Район Марьина роща  \n",
       "3            Останкинский район  \n",
       "4               Район Ростокино  \n",
       "5                Район Свиблово  \n",
       "6               Мещанский район  \n",
       "7                Район Аэропорт  \n",
       "8                 Район Беговой  \n",
       "9             Хорошевский район  \n",
       "10                  Район Сокол  \n",
       "11            Пресненский район  \n",
       "12          Академический район  \n",
       "13              Район Черемушки  \n",
       "14                Район Ясенево  \n",
       "15               Район Коньково  \n",
       "16            Обручевский район  \n",
       "17            Район Теплый Стан  \n",
       "18   Район Проспект Вернадского  \n",
       "19     Район Тропарево-Никулино  \n",
       "20                Донской район  \n",
       "21            Район Гагаринский  \n",
       "22          Ломоносовский район  \n",
       "23            Обручевский район  \n",
       "24            Район Теплый Стан  \n",
       "25               Район Якиманка  \n",
       "26  Район Чертаново Центральное  \n",
       "27     Район Чертаново Северное  \n",
       "28        Район Чертаново Южное  \n",
       "29                Донской район  \n",
       "30     Район Нагатино-Садовники  \n",
       "31               Нагорный район  \n",
       "32        Район Северное Бутово  \n",
       "33           Район Южное Бутово  \n",
       "34   Район Проспект Вернадского  \n",
       "35                Район Раменки  \n",
       "36     Район Тропарево-Никулино  \n",
       "37            Район Гагаринский  \n",
       "38          Ломоносовский район  \n",
       "39                          NaN  \n",
       "40           Район Дорогомилово  \n",
       "41         Район Фили-Давыдково  \n",
       "42        Бескудниковский Район  \n",
       "43            Дмитровский район  \n",
       "44          Тимирязевский Район  \n",
       "45     Район Восточное Дегунино  \n",
       "46      Район Западное Дегунино  \n",
       "47              Район Лианозово  \n",
       "48               Район Северный  "
      ]
     },
     "metadata": {},
     "output_type": "display_data"
    },
    {
     "data": {
      "text/plain": [
       "ЮЗАО    14\n",
       "САО      9\n",
       "СВАО     8\n",
       "ЮАО      7\n",
       "ЗАО      7\n",
       "ЦАО      3\n",
       "Name: округ, dtype: int64"
      ]
     },
     "execution_count": 13,
     "metadata": {},
     "output_type": "execute_result"
    }
   ],
   "source": [
    "top_area = top_street.merge(area, on='улица', how='left')\n",
    "display(top_area)\n",
    "top_area['округ'].value_counts()"
   ]
  },
  {
   "cell_type": "markdown",
   "metadata": {},
   "source": [
    " Больше улиц с большим количесвом заведений питания находится в Юго-Западном, Западном и  Южном административных округах."
   ]
  },
  {
   "cell_type": "markdown",
   "metadata": {},
   "source": [
    "### Улицы с одним заведением питания"
   ]
  },
  {
   "cell_type": "code",
   "execution_count": 14,
   "metadata": {},
   "outputs": [
    {
     "data": {
      "text/html": [
       "<div>\n",
       "<style scoped>\n",
       "    .dataframe tbody tr th:only-of-type {\n",
       "        vertical-align: middle;\n",
       "    }\n",
       "\n",
       "    .dataframe tbody tr th {\n",
       "        vertical-align: top;\n",
       "    }\n",
       "\n",
       "    .dataframe thead th {\n",
       "        text-align: right;\n",
       "    }\n",
       "</style>\n",
       "<table border=\"1\" class=\"dataframe\">\n",
       "  <thead>\n",
       "    <tr style=\"text-align: right;\">\n",
       "      <th></th>\n",
       "      <th>улица</th>\n",
       "      <th>количество</th>\n",
       "    </tr>\n",
       "  </thead>\n",
       "  <tbody>\n",
       "    <tr>\n",
       "      <th>1262</th>\n",
       "      <td>Малый Лёвшинский переулок</td>\n",
       "      <td>1</td>\n",
       "    </tr>\n",
       "    <tr>\n",
       "      <th>1263</th>\n",
       "      <td>владение 99А</td>\n",
       "      <td>1</td>\n",
       "    </tr>\n",
       "    <tr>\n",
       "      <th>1264</th>\n",
       "      <td>Канатчиковский проезд</td>\n",
       "      <td>1</td>\n",
       "    </tr>\n",
       "    <tr>\n",
       "      <th>1265</th>\n",
       "      <td>Мартеновская улица</td>\n",
       "      <td>1</td>\n",
       "    </tr>\n",
       "    <tr>\n",
       "      <th>1266</th>\n",
       "      <td>1-я Гражданская улица</td>\n",
       "      <td>1</td>\n",
       "    </tr>\n",
       "    <tr>\n",
       "      <th>...</th>\n",
       "      <td>...</td>\n",
       "      <td>...</td>\n",
       "    </tr>\n",
       "    <tr>\n",
       "      <th>1853</th>\n",
       "      <td>78-й километр Московской Кольцевой Автодороги</td>\n",
       "      <td>1</td>\n",
       "    </tr>\n",
       "    <tr>\n",
       "      <th>1854</th>\n",
       "      <td>Таганрогская улица</td>\n",
       "      <td>1</td>\n",
       "    </tr>\n",
       "    <tr>\n",
       "      <th>1855</th>\n",
       "      <td>Успенский переулок</td>\n",
       "      <td>1</td>\n",
       "    </tr>\n",
       "    <tr>\n",
       "      <th>1856</th>\n",
       "      <td>Международная улица</td>\n",
       "      <td>1</td>\n",
       "    </tr>\n",
       "    <tr>\n",
       "      <th>1857</th>\n",
       "      <td>3-й проезд Подбельского</td>\n",
       "      <td>1</td>\n",
       "    </tr>\n",
       "  </tbody>\n",
       "</table>\n",
       "<p>596 rows × 2 columns</p>\n",
       "</div>"
      ],
      "text/plain": [
       "                                              улица  количество\n",
       "1262                      Малый Лёвшинский переулок           1\n",
       "1263                                   владение 99А           1\n",
       "1264                          Канатчиковский проезд           1\n",
       "1265                             Мартеновская улица           1\n",
       "1266                          1-я Гражданская улица           1\n",
       "...                                             ...         ...\n",
       "1853  78-й километр Московской Кольцевой Автодороги           1\n",
       "1854                             Таганрогская улица           1\n",
       "1855                             Успенский переулок           1\n",
       "1856                            Международная улица           1\n",
       "1857                        3-й проезд Подбельского           1\n",
       "\n",
       "[596 rows x 2 columns]"
      ]
     },
     "execution_count": 14,
     "metadata": {},
     "output_type": "execute_result"
    }
   ],
   "source": [
    "street_one = street.query('количество == 1')\n",
    "street_one"
   ]
  },
  {
   "cell_type": "markdown",
   "metadata": {},
   "source": [
    "### Районы с улицами по одному заведению питания"
   ]
  },
  {
   "cell_type": "code",
   "execution_count": 15,
   "metadata": {},
   "outputs": [
    {
     "data": {
      "text/html": [
       "<div>\n",
       "<style scoped>\n",
       "    .dataframe tbody tr th:only-of-type {\n",
       "        vertical-align: middle;\n",
       "    }\n",
       "\n",
       "    .dataframe tbody tr th {\n",
       "        vertical-align: top;\n",
       "    }\n",
       "\n",
       "    .dataframe thead th {\n",
       "        text-align: right;\n",
       "    }\n",
       "</style>\n",
       "<table border=\"1\" class=\"dataframe\">\n",
       "  <thead>\n",
       "    <tr style=\"text-align: right;\">\n",
       "      <th></th>\n",
       "      <th>улица</th>\n",
       "      <th>количество</th>\n",
       "      <th>areaid</th>\n",
       "      <th>округ</th>\n",
       "      <th>район</th>\n",
       "    </tr>\n",
       "  </thead>\n",
       "  <tbody>\n",
       "    <tr>\n",
       "      <th>0</th>\n",
       "      <td>Малый Лёвшинский переулок</td>\n",
       "      <td>1</td>\n",
       "      <td>20.0</td>\n",
       "      <td>ЦАО</td>\n",
       "      <td>Район Хамовники</td>\n",
       "    </tr>\n",
       "    <tr>\n",
       "      <th>1</th>\n",
       "      <td>владение 99А</td>\n",
       "      <td>1</td>\n",
       "      <td>NaN</td>\n",
       "      <td>NaN</td>\n",
       "      <td>NaN</td>\n",
       "    </tr>\n",
       "    <tr>\n",
       "      <th>2</th>\n",
       "      <td>Канатчиковский проезд</td>\n",
       "      <td>1</td>\n",
       "      <td>99.0</td>\n",
       "      <td>ЮАО</td>\n",
       "      <td>Донской район</td>\n",
       "    </tr>\n",
       "    <tr>\n",
       "      <th>3</th>\n",
       "      <td>Мартеновская улица</td>\n",
       "      <td>1</td>\n",
       "      <td>31.0</td>\n",
       "      <td>ВАО</td>\n",
       "      <td>Район Новогиреево</td>\n",
       "    </tr>\n",
       "    <tr>\n",
       "      <th>4</th>\n",
       "      <td>Мартеновская улица</td>\n",
       "      <td>1</td>\n",
       "      <td>32.0</td>\n",
       "      <td>ВАО</td>\n",
       "      <td>Район Перово</td>\n",
       "    </tr>\n",
       "    <tr>\n",
       "      <th>...</th>\n",
       "      <td>...</td>\n",
       "      <td>...</td>\n",
       "      <td>...</td>\n",
       "      <td>...</td>\n",
       "      <td>...</td>\n",
       "    </tr>\n",
       "    <tr>\n",
       "      <th>638</th>\n",
       "      <td>78-й километр Московской Кольцевой Автодороги</td>\n",
       "      <td>1</td>\n",
       "      <td>NaN</td>\n",
       "      <td>NaN</td>\n",
       "      <td>NaN</td>\n",
       "    </tr>\n",
       "    <tr>\n",
       "      <th>639</th>\n",
       "      <td>Таганрогская улица</td>\n",
       "      <td>1</td>\n",
       "      <td>115.0</td>\n",
       "      <td>ЮВАО</td>\n",
       "      <td>Район Люблино</td>\n",
       "    </tr>\n",
       "    <tr>\n",
       "      <th>640</th>\n",
       "      <td>Успенский переулок</td>\n",
       "      <td>1</td>\n",
       "      <td>19.0</td>\n",
       "      <td>ЦАО</td>\n",
       "      <td>Тверской район</td>\n",
       "    </tr>\n",
       "    <tr>\n",
       "      <th>641</th>\n",
       "      <td>Международная улица</td>\n",
       "      <td>1</td>\n",
       "      <td>18.0</td>\n",
       "      <td>ЦАО</td>\n",
       "      <td>Таганский район</td>\n",
       "    </tr>\n",
       "    <tr>\n",
       "      <th>642</th>\n",
       "      <td>3-й проезд Подбельского</td>\n",
       "      <td>1</td>\n",
       "      <td>22.0</td>\n",
       "      <td>ВАО</td>\n",
       "      <td>Район Богородское</td>\n",
       "    </tr>\n",
       "  </tbody>\n",
       "</table>\n",
       "<p>643 rows × 5 columns</p>\n",
       "</div>"
      ],
      "text/plain": [
       "                                             улица  количество  areaid округ  \\\n",
       "0                        Малый Лёвшинский переулок           1    20.0   ЦАО   \n",
       "1                                     владение 99А           1     NaN   NaN   \n",
       "2                            Канатчиковский проезд           1    99.0   ЮАО   \n",
       "3                               Мартеновская улица           1    31.0   ВАО   \n",
       "4                               Мартеновская улица           1    32.0   ВАО   \n",
       "..                                             ...         ...     ...   ...   \n",
       "638  78-й километр Московской Кольцевой Автодороги           1     NaN   NaN   \n",
       "639                             Таганрогская улица           1   115.0  ЮВАО   \n",
       "640                             Успенский переулок           1    19.0   ЦАО   \n",
       "641                            Международная улица           1    18.0   ЦАО   \n",
       "642                        3-й проезд Подбельского           1    22.0   ВАО   \n",
       "\n",
       "                 район  \n",
       "0      Район Хамовники  \n",
       "1                  NaN  \n",
       "2        Донской район  \n",
       "3    Район Новогиреево  \n",
       "4         Район Перово  \n",
       "..                 ...  \n",
       "638                NaN  \n",
       "639      Район Люблино  \n",
       "640     Тверской район  \n",
       "641    Таганский район  \n",
       "642  Район Богородское  \n",
       "\n",
       "[643 rows x 5 columns]"
      ]
     },
     "metadata": {},
     "output_type": "display_data"
    },
    {
     "data": {
      "text/plain": [
       "ЦАО           189\n",
       "ВАО            74\n",
       "СВАО           69\n",
       "САО            62\n",
       "ЮВАО           57\n",
       "ЗАО            44\n",
       "ЮАО            32\n",
       "ЮЗАО           29\n",
       "СЗАО           28\n",
       "Зеленоград      1\n",
       "Name: округ, dtype: int64"
      ]
     },
     "execution_count": 15,
     "metadata": {},
     "output_type": "execute_result"
    }
   ],
   "source": [
    "street_one_area = street_one.merge(area, on='улица', how ='left')\n",
    "display(street_one_area)\n",
    "street_one_area['округ'].value_counts()"
   ]
  },
  {
   "cell_type": "markdown",
   "metadata": {},
   "source": [
    "Абсолютный лидер это Центральный административный округ. Так же много в Восточном и Северо-Восточном адмистративных округах."
   ]
  },
  {
   "cell_type": "markdown",
   "metadata": {},
   "source": [
    "### Изучение количества посадочных мест на улицах с большим количеством заведений"
   ]
  },
  {
   "cell_type": "code",
   "execution_count": 16,
   "metadata": {},
   "outputs": [
    {
     "data": {
      "text/html": [
       "<div>\n",
       "<style scoped>\n",
       "    .dataframe tbody tr th:only-of-type {\n",
       "        vertical-align: middle;\n",
       "    }\n",
       "\n",
       "    .dataframe tbody tr th {\n",
       "        vertical-align: top;\n",
       "    }\n",
       "\n",
       "    .dataframe thead th {\n",
       "        text-align: right;\n",
       "    }\n",
       "</style>\n",
       "<table border=\"1\" class=\"dataframe\">\n",
       "  <thead>\n",
       "    <tr style=\"text-align: right;\">\n",
       "      <th></th>\n",
       "      <th>id</th>\n",
       "      <th>object_name</th>\n",
       "      <th>chain</th>\n",
       "      <th>object_type</th>\n",
       "      <th>address</th>\n",
       "      <th>number</th>\n",
       "      <th>street</th>\n",
       "    </tr>\n",
       "  </thead>\n",
       "  <tbody>\n",
       "    <tr>\n",
       "      <th>151</th>\n",
       "      <td>155973</td>\n",
       "      <td>кафе «андерсон»</td>\n",
       "      <td>да</td>\n",
       "      <td>кафе</td>\n",
       "      <td>город Москва, Варшавское шоссе, дом 2</td>\n",
       "      <td>150</td>\n",
       "      <td>Варшавское шоссе</td>\n",
       "    </tr>\n",
       "    <tr>\n",
       "      <th>152</th>\n",
       "      <td>23618</td>\n",
       "      <td>кафе «subway»</td>\n",
       "      <td>да</td>\n",
       "      <td>кафе</td>\n",
       "      <td>город Москва, Варшавское шоссе, дом 7, корпус 1</td>\n",
       "      <td>36</td>\n",
       "      <td>Варшавское шоссе</td>\n",
       "    </tr>\n",
       "    <tr>\n",
       "      <th>153</th>\n",
       "      <td>155852</td>\n",
       "      <td>кафе «ламаджо»</td>\n",
       "      <td>нет</td>\n",
       "      <td>кафе</td>\n",
       "      <td>город Москва, Варшавское шоссе, дом 29</td>\n",
       "      <td>30</td>\n",
       "      <td>Варшавское шоссе</td>\n",
       "    </tr>\n",
       "    <tr>\n",
       "      <th>156</th>\n",
       "      <td>26279</td>\n",
       "      <td>ресторан «макдоналдс»</td>\n",
       "      <td>да</td>\n",
       "      <td>кафе</td>\n",
       "      <td>город Москва, Варшавское шоссе, дом 143А</td>\n",
       "      <td>70</td>\n",
       "      <td>Варшавское шоссе</td>\n",
       "    </tr>\n",
       "    <tr>\n",
       "      <th>165</th>\n",
       "      <td>141687</td>\n",
       "      <td>пироговая рогова</td>\n",
       "      <td>нет</td>\n",
       "      <td>кафе</td>\n",
       "      <td>город Москва, проспект Вернадского, дом 9/10</td>\n",
       "      <td>42</td>\n",
       "      <td>проспект Вернадского</td>\n",
       "    </tr>\n",
       "    <tr>\n",
       "      <th>...</th>\n",
       "      <td>...</td>\n",
       "      <td>...</td>\n",
       "      <td>...</td>\n",
       "      <td>...</td>\n",
       "      <td>...</td>\n",
       "      <td>...</td>\n",
       "      <td>...</td>\n",
       "    </tr>\n",
       "    <tr>\n",
       "      <th>15260</th>\n",
       "      <td>211703</td>\n",
       "      <td>милти</td>\n",
       "      <td>да</td>\n",
       "      <td>кафе</td>\n",
       "      <td>город Москва, Пресненская набережная, дом 4, с...</td>\n",
       "      <td>10</td>\n",
       "      <td>Пресненская набережная</td>\n",
       "    </tr>\n",
       "    <tr>\n",
       "      <th>15308</th>\n",
       "      <td>213629</td>\n",
       "      <td>додо пицца</td>\n",
       "      <td>да</td>\n",
       "      <td>кафе</td>\n",
       "      <td>город Москва, Пресненская набережная, дом 12</td>\n",
       "      <td>25</td>\n",
       "      <td>Пресненская набережная</td>\n",
       "    </tr>\n",
       "    <tr>\n",
       "      <th>15347</th>\n",
       "      <td>222491</td>\n",
       "      <td>кальянная «мята lounge»</td>\n",
       "      <td>да</td>\n",
       "      <td>кафе</td>\n",
       "      <td>город Москва, Профсоюзная улица, дом 142, корп...</td>\n",
       "      <td>40</td>\n",
       "      <td>Профсоюзная улица</td>\n",
       "    </tr>\n",
       "    <tr>\n",
       "      <th>15350</th>\n",
       "      <td>213061</td>\n",
       "      <td>мята</td>\n",
       "      <td>да</td>\n",
       "      <td>кафетерий</td>\n",
       "      <td>город Москва, Каширское шоссе, дом 96, корпус 1</td>\n",
       "      <td>35</td>\n",
       "      <td>Каширское шоссе</td>\n",
       "    </tr>\n",
       "    <tr>\n",
       "      <th>15358</th>\n",
       "      <td>213724</td>\n",
       "      <td>шоколадница</td>\n",
       "      <td>да</td>\n",
       "      <td>кафе</td>\n",
       "      <td>город Москва, Варшавское шоссе, дом 87Б</td>\n",
       "      <td>54</td>\n",
       "      <td>Варшавское шоссе</td>\n",
       "    </tr>\n",
       "  </tbody>\n",
       "</table>\n",
       "<p>1279 rows × 7 columns</p>\n",
       "</div>"
      ],
      "text/plain": [
       "           id              object_name chain object_type  \\\n",
       "151    155973          кафе «андерсон»    да        кафе   \n",
       "152     23618            кафе «subway»    да        кафе   \n",
       "153    155852           кафе «ламаджо»   нет        кафе   \n",
       "156     26279    ресторан «макдоналдс»    да        кафе   \n",
       "165    141687         пироговая рогова   нет        кафе   \n",
       "...       ...                      ...   ...         ...   \n",
       "15260  211703                    милти    да        кафе   \n",
       "15308  213629               додо пицца    да        кафе   \n",
       "15347  222491  кальянная «мята lounge»    да        кафе   \n",
       "15350  213061                     мята    да   кафетерий   \n",
       "15358  213724              шоколадница    да        кафе   \n",
       "\n",
       "                                                 address  number  \\\n",
       "151                город Москва, Варшавское шоссе, дом 2     150   \n",
       "152      город Москва, Варшавское шоссе, дом 7, корпус 1      36   \n",
       "153               город Москва, Варшавское шоссе, дом 29      30   \n",
       "156             город Москва, Варшавское шоссе, дом 143А      70   \n",
       "165         город Москва, проспект Вернадского, дом 9/10      42   \n",
       "...                                                  ...     ...   \n",
       "15260  город Москва, Пресненская набережная, дом 4, с...      10   \n",
       "15308       город Москва, Пресненская набережная, дом 12      25   \n",
       "15347  город Москва, Профсоюзная улица, дом 142, корп...      40   \n",
       "15350    город Москва, Каширское шоссе, дом 96, корпус 1      35   \n",
       "15358            город Москва, Варшавское шоссе, дом 87Б      54   \n",
       "\n",
       "                       street  \n",
       "151          Варшавское шоссе  \n",
       "152          Варшавское шоссе  \n",
       "153          Варшавское шоссе  \n",
       "156          Варшавское шоссе  \n",
       "165      проспект Вернадского  \n",
       "...                       ...  \n",
       "15260  Пресненская набережная  \n",
       "15308  Пресненская набережная  \n",
       "15347       Профсоюзная улица  \n",
       "15350         Каширское шоссе  \n",
       "15358        Варшавское шоссе  \n",
       "\n",
       "[1279 rows x 7 columns]"
      ]
     },
     "execution_count": 16,
     "metadata": {},
     "output_type": "execute_result"
    }
   ],
   "source": [
    "street_top = ['проспект Мира', 'Профсоюзная улица', 'Ленинградский проспект', 'Пресненская набережная', 'Варшавское шоссе', 'Ленинский проспект', 'поселение Сосенское', 'проспект Вернадского', 'Кутузовский проспект', 'Каширское шоссе']\n",
    "\n",
    "filtr_street = rest_data['street'].isin(street_top)\n",
    "\n",
    "street_number = rest_data[filtr_street]\n",
    "\n",
    "street_number"
   ]
  },
  {
   "cell_type": "code",
   "execution_count": 17,
   "metadata": {},
   "outputs": [
    {
     "data": {
      "image/png": "[encoded data removed]",
      "text/plain": [
       "<Figure size 864x504 with 1 Axes>"
      ]
     },
     "metadata": {
      "needs_background": "light"
     },
     "output_type": "display_data"
    }
   ],
   "source": [
    "plt.figure(figsize=(12, 7))\n",
    "plt.xticks(rotation=90)\n",
    "plt.title('Среднее количество посадочных мест по улицам')\n",
    "ax = sns.barplot(x='street', y='number', data=street_number )"
   ]
  },
  {
   "cell_type": "code",
   "execution_count": 18,
   "metadata": {},
   "outputs": [
    {
     "data": {
      "text/html": [
       "<div>\n",
       "<style scoped>\n",
       "    .dataframe tbody tr th:only-of-type {\n",
       "        vertical-align: middle;\n",
       "    }\n",
       "\n",
       "    .dataframe tbody tr th {\n",
       "        vertical-align: top;\n",
       "    }\n",
       "\n",
       "    .dataframe thead th {\n",
       "        text-align: right;\n",
       "    }\n",
       "</style>\n",
       "<table border=\"1\" class=\"dataframe\">\n",
       "  <thead>\n",
       "    <tr style=\"text-align: right;\">\n",
       "      <th></th>\n",
       "      <th>улица</th>\n",
       "      <th>number</th>\n",
       "    </tr>\n",
       "  </thead>\n",
       "  <tbody>\n",
       "    <tr>\n",
       "      <th>0</th>\n",
       "      <td>Варшавское шоссе</td>\n",
       "      <td>59.897638</td>\n",
       "    </tr>\n",
       "    <tr>\n",
       "      <th>1</th>\n",
       "      <td>Каширское шоссе</td>\n",
       "      <td>57.539326</td>\n",
       "    </tr>\n",
       "    <tr>\n",
       "      <th>2</th>\n",
       "      <td>Кутузовский проспект</td>\n",
       "      <td>71.515789</td>\n",
       "    </tr>\n",
       "    <tr>\n",
       "      <th>3</th>\n",
       "      <td>Ленинградский проспект</td>\n",
       "      <td>56.884354</td>\n",
       "    </tr>\n",
       "    <tr>\n",
       "      <th>4</th>\n",
       "      <td>Ленинский проспект</td>\n",
       "      <td>67.312977</td>\n",
       "    </tr>\n",
       "    <tr>\n",
       "      <th>5</th>\n",
       "      <td>Пресненская набережная</td>\n",
       "      <td>48.733813</td>\n",
       "    </tr>\n",
       "    <tr>\n",
       "      <th>6</th>\n",
       "      <td>Профсоюзная улица</td>\n",
       "      <td>61.525547</td>\n",
       "    </tr>\n",
       "    <tr>\n",
       "      <th>7</th>\n",
       "      <td>поселение Сосенское</td>\n",
       "      <td>29.207547</td>\n",
       "    </tr>\n",
       "    <tr>\n",
       "      <th>8</th>\n",
       "      <td>проспект Вернадского</td>\n",
       "      <td>63.302521</td>\n",
       "    </tr>\n",
       "    <tr>\n",
       "      <th>9</th>\n",
       "      <td>проспект Мира</td>\n",
       "      <td>67.608466</td>\n",
       "    </tr>\n",
       "  </tbody>\n",
       "</table>\n",
       "</div>"
      ],
      "text/plain": [
       "                    улица     number\n",
       "0        Варшавское шоссе  59.897638\n",
       "1         Каширское шоссе  57.539326\n",
       "2    Кутузовский проспект  71.515789\n",
       "3  Ленинградский проспект  56.884354\n",
       "4      Ленинский проспект  67.312977\n",
       "5  Пресненская набережная  48.733813\n",
       "6       Профсоюзная улица  61.525547\n",
       "7     поселение Сосенское  29.207547\n",
       "8    проспект Вернадского  63.302521\n",
       "9           проспект Мира  67.608466"
      ]
     },
     "metadata": {},
     "output_type": "display_data"
    },
    {
     "data": {
      "text/html": [
       "<div>\n",
       "<style scoped>\n",
       "    .dataframe tbody tr th:only-of-type {\n",
       "        vertical-align: middle;\n",
       "    }\n",
       "\n",
       "    .dataframe tbody tr th {\n",
       "        vertical-align: top;\n",
       "    }\n",
       "\n",
       "    .dataframe thead th {\n",
       "        text-align: right;\n",
       "    }\n",
       "</style>\n",
       "<table border=\"1\" class=\"dataframe\">\n",
       "  <thead>\n",
       "    <tr style=\"text-align: right;\">\n",
       "      <th></th>\n",
       "      <th>улица</th>\n",
       "      <th>number</th>\n",
       "      <th>количество</th>\n",
       "    </tr>\n",
       "  </thead>\n",
       "  <tbody>\n",
       "    <tr>\n",
       "      <th>8</th>\n",
       "      <td>проспект Мира</td>\n",
       "      <td>67.608466</td>\n",
       "      <td>189</td>\n",
       "    </tr>\n",
       "    <tr>\n",
       "      <th>2</th>\n",
       "      <td>Ленинградский проспект</td>\n",
       "      <td>56.884354</td>\n",
       "      <td>147</td>\n",
       "    </tr>\n",
       "    <tr>\n",
       "      <th>4</th>\n",
       "      <td>Пресненская набережная</td>\n",
       "      <td>48.733813</td>\n",
       "      <td>139</td>\n",
       "    </tr>\n",
       "    <tr>\n",
       "      <th>5</th>\n",
       "      <td>Профсоюзная улица</td>\n",
       "      <td>61.525547</td>\n",
       "      <td>137</td>\n",
       "    </tr>\n",
       "    <tr>\n",
       "      <th>3</th>\n",
       "      <td>Ленинский проспект</td>\n",
       "      <td>67.312977</td>\n",
       "      <td>131</td>\n",
       "    </tr>\n",
       "    <tr>\n",
       "      <th>0</th>\n",
       "      <td>Варшавское шоссе</td>\n",
       "      <td>59.897638</td>\n",
       "      <td>127</td>\n",
       "    </tr>\n",
       "    <tr>\n",
       "      <th>7</th>\n",
       "      <td>проспект Вернадского</td>\n",
       "      <td>63.302521</td>\n",
       "      <td>119</td>\n",
       "    </tr>\n",
       "    <tr>\n",
       "      <th>6</th>\n",
       "      <td>поселение Сосенское</td>\n",
       "      <td>29.207547</td>\n",
       "      <td>106</td>\n",
       "    </tr>\n",
       "    <tr>\n",
       "      <th>1</th>\n",
       "      <td>Кутузовский проспект</td>\n",
       "      <td>71.515789</td>\n",
       "      <td>95</td>\n",
       "    </tr>\n",
       "  </tbody>\n",
       "</table>\n",
       "</div>"
      ],
      "text/plain": [
       "                    улица     number  количество\n",
       "8           проспект Мира  67.608466         189\n",
       "2  Ленинградский проспект  56.884354         147\n",
       "4  Пресненская набережная  48.733813         139\n",
       "5       Профсоюзная улица  61.525547         137\n",
       "3      Ленинский проспект  67.312977         131\n",
       "0        Варшавское шоссе  59.897638         127\n",
       "7    проспект Вернадского  63.302521         119\n",
       "6     поселение Сосенское  29.207547         106\n",
       "1    Кутузовский проспект  71.515789          95"
      ]
     },
     "execution_count": 18,
     "metadata": {},
     "output_type": "execute_result"
    }
   ],
   "source": [
    "top_street_number = street_number.groupby('street')['number'].mean().reset_index()\n",
    "top_street_number.columns = ['улица', 'number']\n",
    "display(top_street_number)\n",
    "top_numbe = top_street_number.merge(top_street).sort_values(by='количество', ascending=False)\n",
    "top_numbe"
   ]
  },
  {
   "cell_type": "code",
   "execution_count": 19,
   "metadata": {},
   "outputs": [
    {
     "data": {
      "image/png": "[encoded data removed]",
      "text/plain": [
       "<Figure size 864x216 with 1 Axes>"
      ]
     },
     "metadata": {
      "needs_background": "light"
     },
     "output_type": "display_data"
    }
   ],
   "source": [
    "import warnings\n",
    "warnings.simplefilter(action='ignore', category=FutureWarning) \n",
    "plt.figure(figsize=(12, 3))\n",
    "ax = sns.distplot(top_numbe['number'], bins=10)\n",
    "plt.title('Плотность распределения посадочных мест')\n",
    "plt.show()"
   ]
  },
  {
   "cell_type": "markdown",
   "metadata": {},
   "source": [
    "От количества заведений на улице количество посадочных мест не имеет зависимости. В основном это заведения со средним количеством посадочных мест."
   ]
  },
  {
   "cell_type": "markdown",
   "metadata": {},
   "source": [
    "## Вывод:"
   ]
  },
  {
   "cell_type": "markdown",
   "metadata": {},
   "source": [
    "1 Пропусков в данных нет. Дубликатов в данных нет. Типы данных правильные. В колонке object_name названия привели к единому регистру.\n",
    "\n",
    "2 Названия по типу объектов питания корректны.\n",
    "\n",
    "3 По названию объектов есть повторения, но у них разные адреса. А значит это разные объекты питания.\n",
    "\n",
    "4 В данных по количеству посадочных мест обнаружились аномалии. Убрал значения меньше 5 посадочных мест и больше 350.\n",
    "\n",
    "5 По виду заведений однозначно лидирует \"кафе\".\n",
    "\n",
    "6 Не сетевых объектов почти в 5 раз больше.\n",
    "\n",
    "7 По доле от общего количества в сетях лидирует предприятия быстрого обслуживания. На втором месте рестораны, а кафе только третье место.\n",
    "\n",
    "8 Для сетевых объектов питания характерно большее количество заведений с не большим количеством посадочных мест.\n",
    "\n",
    "9 В основном приобладают заведения со средним числом посадочных мест. Исключение составляют столовые и рестораны. Там количество посадочных мест намного выше среднего.\n",
    "\n",
    "10  Больше улиц с большим количесвом заведений питания находится в Юго-Западном, Западном и  Южном административных округах.\n",
    "\n",
    "11 На улицах с большим количеством объектов питания скорее всего имеет место высоая проходимость клиентов. Это культурные и деловые центры.\n",
    "\n",
    "12 Улицы с очень маленьким количеством заведений находятся в Центральном, Восточном и еверо-Восточном административных округах.\n",
    "\n",
    "13 Заведения на улицах с большим количесвом объектов питанитя имеют среднее количество посадочных мест.\n",
    "\n"
   ]
  },
  {
   "cell_type": "markdown",
   "metadata": {},
   "source": [
    "## Рекомендации:\n"
   ]
  },
  {
   "cell_type": "markdown",
   "metadata": {},
   "source": [
    "Считаю, что целесообразно начинать развивать сеть кафе или пунктов быстрого питания в Центральном, Восточном и Северо-Восточном округах, с малым и среднем количеством посадочных мест."
   ]
  },
  {
   "cell_type": "markdown",
   "metadata": {},
   "source": [
    "## Презентация :  https://disk.yandex.ru/i/gbUVgd6HLAIO1w"
   ]
  },
  {
   "cell_type": "code",
   "execution_count": null,
   "metadata": {},
   "outputs": [],
   "source": []
  }
 ],
 "metadata": {
  "ExecuteTimeLog": [
   {
    "duration": 82,
    "start_time": "2022-03-15T15:48:23.791Z"
   },
   {
    "duration": 616,
    "start_time": "2022-03-15T15:50:48.422Z"
   },
   {
    "duration": 52,
    "start_time": "2022-03-15T15:52:38.311Z"
   },
   {
    "duration": 46,
    "start_time": "2022-03-15T15:54:15.383Z"
   },
   {
    "duration": 53,
    "start_time": "2022-03-15T15:54:41.350Z"
   },
   {
    "duration": 73,
    "start_time": "2022-03-15T15:59:38.578Z"
   },
   {
    "duration": 79,
    "start_time": "2022-03-15T16:06:19.551Z"
   },
   {
    "duration": 80,
    "start_time": "2022-03-15T16:07:11.592Z"
   },
   {
    "duration": 472,
    "start_time": "2022-03-15T16:26:04.766Z"
   },
   {
    "duration": 468,
    "start_time": "2022-03-15T16:27:36.145Z"
   },
   {
    "duration": 509,
    "start_time": "2022-03-15T16:28:57.307Z"
   },
   {
    "duration": 553,
    "start_time": "2022-03-15T16:32:38.733Z"
   },
   {
    "duration": 447,
    "start_time": "2022-03-15T16:33:27.555Z"
   },
   {
    "duration": 528,
    "start_time": "2022-03-15T16:39:15.026Z"
   },
   {
    "duration": 7,
    "start_time": "2022-03-15T16:39:22.353Z"
   },
   {
    "duration": 12,
    "start_time": "2022-03-15T16:41:53.341Z"
   },
   {
    "duration": 7,
    "start_time": "2022-03-15T16:42:40.570Z"
   },
   {
    "duration": 10,
    "start_time": "2022-03-15T16:42:56.160Z"
   },
   {
    "duration": 222,
    "start_time": "2022-03-15T16:58:33.966Z"
   },
   {
    "duration": 605,
    "start_time": "2022-03-15T17:02:38.910Z"
   },
   {
    "duration": 465,
    "start_time": "2022-03-15T17:02:55.146Z"
   },
   {
    "duration": 195,
    "start_time": "2022-03-15T17:04:46.068Z"
   },
   {
    "duration": 212,
    "start_time": "2022-03-15T17:15:32.465Z"
   },
   {
    "duration": 227,
    "start_time": "2022-03-15T17:15:47.178Z"
   },
   {
    "duration": 193,
    "start_time": "2022-03-15T17:16:20.392Z"
   },
   {
    "duration": 416,
    "start_time": "2022-03-15T17:16:58.884Z"
   },
   {
    "duration": 413,
    "start_time": "2022-03-15T17:19:46.903Z"
   },
   {
    "duration": 389,
    "start_time": "2022-03-15T17:20:33.681Z"
   },
   {
    "duration": 534,
    "start_time": "2022-03-15T17:20:39.901Z"
   },
   {
    "duration": 231,
    "start_time": "2022-03-15T17:22:21.578Z"
   },
   {
    "duration": 238,
    "start_time": "2022-03-15T17:22:47.274Z"
   },
   {
    "duration": 221,
    "start_time": "2022-03-15T17:23:50.057Z"
   },
   {
    "duration": 838,
    "start_time": "2022-03-15T17:24:57.160Z"
   },
   {
    "duration": 405,
    "start_time": "2022-03-15T17:25:14.205Z"
   },
   {
    "duration": 391,
    "start_time": "2022-03-15T17:28:29.543Z"
   },
   {
    "duration": 227,
    "start_time": "2022-03-15T17:31:52.294Z"
   },
   {
    "duration": 439,
    "start_time": "2022-03-15T17:32:31.781Z"
   },
   {
    "duration": 1894,
    "start_time": "2022-03-16T14:33:18.965Z"
   },
   {
    "duration": 365,
    "start_time": "2022-03-16T14:33:20.862Z"
   },
   {
    "duration": 1113,
    "start_time": "2022-03-16T14:33:21.230Z"
   },
   {
    "duration": 8404,
    "start_time": "2022-03-16T14:42:42.420Z"
   },
   {
    "duration": 14,
    "start_time": "2022-03-16T14:43:04.080Z"
   },
   {
    "duration": 16,
    "start_time": "2022-03-16T14:45:19.616Z"
   },
   {
    "duration": 572,
    "start_time": "2022-03-16T14:47:44.630Z"
   },
   {
    "duration": 386,
    "start_time": "2022-03-16T14:48:59.067Z"
   },
   {
    "duration": 27,
    "start_time": "2022-03-16T14:59:38.915Z"
   },
   {
    "duration": 43,
    "start_time": "2022-03-16T15:04:24.305Z"
   },
   {
    "duration": 348,
    "start_time": "2022-03-16T15:06:57.650Z"
   },
   {
    "duration": 396,
    "start_time": "2022-03-16T15:07:29.369Z"
   },
   {
    "duration": 572,
    "start_time": "2022-03-16T15:07:42.108Z"
   },
   {
    "duration": 435,
    "start_time": "2022-03-16T15:12:15.830Z"
   },
   {
    "duration": 602,
    "start_time": "2022-03-16T15:22:22.947Z"
   },
   {
    "duration": 375,
    "start_time": "2022-03-16T15:23:36.989Z"
   },
   {
    "duration": 337,
    "start_time": "2022-03-16T15:24:02.029Z"
   },
   {
    "duration": 366,
    "start_time": "2022-03-16T15:25:44.163Z"
   },
   {
    "duration": 356,
    "start_time": "2022-03-16T15:26:30.367Z"
   },
   {
    "duration": 350,
    "start_time": "2022-03-16T15:27:04.806Z"
   },
   {
    "duration": 336,
    "start_time": "2022-03-16T15:28:19.511Z"
   },
   {
    "duration": 354,
    "start_time": "2022-03-16T15:28:43.354Z"
   },
   {
    "duration": 872,
    "start_time": "2022-03-16T15:29:18.914Z"
   },
   {
    "duration": 1225,
    "start_time": "2022-03-16T15:35:06.584Z"
   },
   {
    "duration": 1139,
    "start_time": "2022-03-16T15:35:31.669Z"
   },
   {
    "duration": 927,
    "start_time": "2022-03-16T15:36:05.932Z"
   },
   {
    "duration": 419,
    "start_time": "2022-03-16T15:41:28.035Z"
   },
   {
    "duration": 549,
    "start_time": "2022-03-16T15:41:48.958Z"
   },
   {
    "duration": 517,
    "start_time": "2022-03-16T15:42:04.255Z"
   },
   {
    "duration": 1013,
    "start_time": "2022-03-16T15:44:17.513Z"
   },
   {
    "duration": 1260,
    "start_time": "2022-03-16T16:02:25.487Z"
   },
   {
    "duration": 1778,
    "start_time": "2022-03-16T16:04:56.255Z"
   },
   {
    "duration": 1342,
    "start_time": "2022-03-16T16:05:15.731Z"
   },
   {
    "duration": 101,
    "start_time": "2022-03-16T16:21:29.585Z"
   },
   {
    "duration": 104,
    "start_time": "2022-03-16T16:25:09.905Z"
   },
   {
    "duration": 1629,
    "start_time": "2022-03-16T16:27:13.045Z"
   },
   {
    "duration": 1412,
    "start_time": "2022-03-16T17:45:22.693Z"
   },
   {
    "duration": 88,
    "start_time": "2022-03-16T17:45:24.107Z"
   },
   {
    "duration": 784,
    "start_time": "2022-03-16T17:45:24.197Z"
   },
   {
    "duration": 381,
    "start_time": "2022-03-16T17:45:24.982Z"
   },
   {
    "duration": 300,
    "start_time": "2022-03-16T17:45:25.364Z"
   },
   {
    "duration": 698,
    "start_time": "2022-03-16T17:45:25.666Z"
   },
   {
    "duration": 787,
    "start_time": "2022-03-16T17:45:26.366Z"
   },
   {
    "duration": 1357,
    "start_time": "2022-03-16T17:45:27.156Z"
   },
   {
    "duration": 303,
    "start_time": "2022-03-16T17:47:32.544Z"
   },
   {
    "duration": 71,
    "start_time": "2022-03-16T17:48:01.695Z"
   },
   {
    "duration": 37,
    "start_time": "2022-03-16T17:50:33.945Z"
   },
   {
    "duration": 41,
    "start_time": "2022-03-16T17:53:32.172Z"
   },
   {
    "duration": 1399,
    "start_time": "2022-03-16T17:54:02.509Z"
   },
   {
    "duration": 86,
    "start_time": "2022-03-16T17:54:03.910Z"
   },
   {
    "duration": 776,
    "start_time": "2022-03-16T17:54:03.998Z"
   },
   {
    "duration": 384,
    "start_time": "2022-03-16T17:54:04.776Z"
   },
   {
    "duration": 297,
    "start_time": "2022-03-16T17:54:05.162Z"
   },
   {
    "duration": 707,
    "start_time": "2022-03-16T17:54:05.461Z"
   },
   {
    "duration": 811,
    "start_time": "2022-03-16T17:54:06.170Z"
   },
   {
    "duration": 1370,
    "start_time": "2022-03-16T17:54:06.983Z"
   },
   {
    "duration": 3282,
    "start_time": "2022-03-16T17:54:08.355Z"
   },
   {
    "duration": 2679,
    "start_time": "2022-03-16T17:55:40.548Z"
   },
   {
    "duration": 52,
    "start_time": "2022-03-16T17:56:06.323Z"
   },
   {
    "duration": 54,
    "start_time": "2022-03-16T17:56:34.308Z"
   },
   {
    "duration": 1408,
    "start_time": "2022-03-16T17:56:44.214Z"
   },
   {
    "duration": 93,
    "start_time": "2022-03-16T17:56:45.624Z"
   },
   {
    "duration": 789,
    "start_time": "2022-03-16T17:56:45.719Z"
   },
   {
    "duration": 416,
    "start_time": "2022-03-16T17:56:46.510Z"
   },
   {
    "duration": 314,
    "start_time": "2022-03-16T17:56:46.928Z"
   },
   {
    "duration": 716,
    "start_time": "2022-03-16T17:56:47.243Z"
   },
   {
    "duration": 800,
    "start_time": "2022-03-16T17:56:47.961Z"
   },
   {
    "duration": 1155,
    "start_time": "2022-03-16T17:56:48.763Z"
   },
   {
    "duration": 57,
    "start_time": "2022-03-16T17:56:49.920Z"
   },
   {
    "duration": 23,
    "start_time": "2022-03-16T18:01:10.742Z"
   },
   {
    "duration": 47,
    "start_time": "2022-03-16T18:01:33.544Z"
   },
   {
    "duration": 302,
    "start_time": "2022-03-16T18:02:01.956Z"
   },
   {
    "duration": 109,
    "start_time": "2022-03-16T18:02:12.903Z"
   },
   {
    "duration": 108,
    "start_time": "2022-03-16T18:02:18.860Z"
   },
   {
    "duration": 1514,
    "start_time": "2022-03-16T18:03:13.636Z"
   },
   {
    "duration": 86,
    "start_time": "2022-03-16T18:03:15.152Z"
   },
   {
    "duration": 818,
    "start_time": "2022-03-16T18:03:15.241Z"
   },
   {
    "duration": 372,
    "start_time": "2022-03-16T18:03:16.061Z"
   },
   {
    "duration": 287,
    "start_time": "2022-03-16T18:03:16.435Z"
   },
   {
    "duration": 726,
    "start_time": "2022-03-16T18:03:16.724Z"
   },
   {
    "duration": 845,
    "start_time": "2022-03-16T18:03:17.451Z"
   },
   {
    "duration": 1884,
    "start_time": "2022-03-16T18:03:18.298Z"
   },
   {
    "duration": 55,
    "start_time": "2022-03-16T18:03:20.184Z"
   },
   {
    "duration": 188,
    "start_time": "2022-03-16T18:04:38.408Z"
   },
   {
    "duration": 38,
    "start_time": "2022-03-16T18:05:01.615Z"
   },
   {
    "duration": 1413,
    "start_time": "2022-03-16T18:05:15.493Z"
   },
   {
    "duration": 84,
    "start_time": "2022-03-16T18:05:16.908Z"
   },
   {
    "duration": 805,
    "start_time": "2022-03-16T18:05:16.998Z"
   },
   {
    "duration": 268,
    "start_time": "2022-03-16T18:05:17.804Z"
   },
   {
    "duration": 322,
    "start_time": "2022-03-16T18:05:18.073Z"
   },
   {
    "duration": 795,
    "start_time": "2022-03-16T18:05:18.397Z"
   },
   {
    "duration": 785,
    "start_time": "2022-03-16T18:05:19.194Z"
   },
   {
    "duration": 1067,
    "start_time": "2022-03-16T18:05:19.980Z"
   },
   {
    "duration": 55,
    "start_time": "2022-03-16T18:05:21.049Z"
   },
   {
    "duration": 38,
    "start_time": "2022-03-16T18:05:35.848Z"
   },
   {
    "duration": 36,
    "start_time": "2022-03-16T18:12:33.082Z"
   },
   {
    "duration": 38,
    "start_time": "2022-03-16T18:13:05.165Z"
   },
   {
    "duration": 161,
    "start_time": "2022-03-16T18:13:30.894Z"
   },
   {
    "duration": 42,
    "start_time": "2022-03-16T18:15:47.965Z"
   },
   {
    "duration": 34,
    "start_time": "2022-03-16T18:18:27.570Z"
   },
   {
    "duration": 35,
    "start_time": "2022-03-16T18:18:59.752Z"
   },
   {
    "duration": 31,
    "start_time": "2022-03-16T18:19:43.087Z"
   },
   {
    "duration": 301,
    "start_time": "2022-03-16T18:20:17.240Z"
   },
   {
    "duration": 32,
    "start_time": "2022-03-16T18:21:17.227Z"
   },
   {
    "duration": 56,
    "start_time": "2022-03-16T18:21:39.285Z"
   },
   {
    "duration": 32,
    "start_time": "2022-03-16T18:21:53.888Z"
   },
   {
    "duration": 1461,
    "start_time": "2022-03-16T18:22:01.349Z"
   },
   {
    "duration": 93,
    "start_time": "2022-03-16T18:22:02.812Z"
   },
   {
    "duration": 785,
    "start_time": "2022-03-16T18:22:02.907Z"
   },
   {
    "duration": 421,
    "start_time": "2022-03-16T18:22:03.695Z"
   },
   {
    "duration": 297,
    "start_time": "2022-03-16T18:22:04.118Z"
   },
   {
    "duration": 725,
    "start_time": "2022-03-16T18:22:04.417Z"
   },
   {
    "duration": 802,
    "start_time": "2022-03-16T18:22:05.144Z"
   },
   {
    "duration": 1306,
    "start_time": "2022-03-16T18:22:05.948Z"
   },
   {
    "duration": 58,
    "start_time": "2022-03-16T18:22:07.257Z"
   },
   {
    "duration": 1496,
    "start_time": "2022-03-17T14:55:22.542Z"
   },
   {
    "duration": 115,
    "start_time": "2022-03-17T14:55:24.040Z"
   },
   {
    "duration": 475,
    "start_time": "2022-03-17T14:55:24.157Z"
   },
   {
    "duration": 110,
    "start_time": "2022-03-17T14:55:24.634Z"
   },
   {
    "duration": 122,
    "start_time": "2022-03-17T14:55:24.747Z"
   },
   {
    "duration": 475,
    "start_time": "2022-03-17T14:55:24.870Z"
   },
   {
    "duration": 632,
    "start_time": "2022-03-17T14:55:25.346Z"
   },
   {
    "duration": 2261,
    "start_time": "2022-03-17T14:55:25.980Z"
   },
   {
    "duration": 58,
    "start_time": "2022-03-17T14:55:28.243Z"
   },
   {
    "duration": 17,
    "start_time": "2022-03-17T15:05:29.480Z"
   },
   {
    "duration": 13,
    "start_time": "2022-03-17T15:09:06.093Z"
   },
   {
    "duration": 61,
    "start_time": "2022-03-17T15:12:30.131Z"
   },
   {
    "duration": 62,
    "start_time": "2022-03-17T15:45:48.459Z"
   },
   {
    "duration": 11,
    "start_time": "2022-03-17T15:47:52.657Z"
   },
   {
    "duration": 13,
    "start_time": "2022-03-17T15:52:20.969Z"
   },
   {
    "duration": 192,
    "start_time": "2022-03-17T16:17:00.217Z"
   },
   {
    "duration": 176,
    "start_time": "2022-03-17T16:19:35.837Z"
   },
   {
    "duration": 23,
    "start_time": "2022-03-17T16:23:58.990Z"
   },
   {
    "duration": 5,
    "start_time": "2022-03-17T16:25:24.719Z"
   },
   {
    "duration": 15,
    "start_time": "2022-03-17T16:29:20.593Z"
   },
   {
    "duration": 11,
    "start_time": "2022-03-17T16:29:45.521Z"
   },
   {
    "duration": 5,
    "start_time": "2022-03-17T16:30:18.850Z"
   },
   {
    "duration": 25,
    "start_time": "2022-03-17T16:37:34.553Z"
   },
   {
    "duration": 25,
    "start_time": "2022-03-17T16:37:53.296Z"
   },
   {
    "duration": 1386,
    "start_time": "2022-03-17T16:38:53.216Z"
   },
   {
    "duration": 125,
    "start_time": "2022-03-17T16:38:54.604Z"
   },
   {
    "duration": 463,
    "start_time": "2022-03-17T16:38:54.731Z"
   },
   {
    "duration": 71,
    "start_time": "2022-03-17T16:38:55.195Z"
   },
   {
    "duration": 120,
    "start_time": "2022-03-17T16:38:55.268Z"
   },
   {
    "duration": 480,
    "start_time": "2022-03-17T16:38:55.389Z"
   },
   {
    "duration": 652,
    "start_time": "2022-03-17T16:38:55.871Z"
   },
   {
    "duration": 62,
    "start_time": "2022-03-17T16:38:56.525Z"
   },
   {
    "duration": 82,
    "start_time": "2022-03-17T16:38:56.589Z"
   },
   {
    "duration": 19,
    "start_time": "2022-03-17T16:38:56.673Z"
   },
   {
    "duration": 190,
    "start_time": "2022-03-17T16:38:56.694Z"
   },
   {
    "duration": 19,
    "start_time": "2022-03-17T16:40:24.318Z"
   },
   {
    "duration": 20,
    "start_time": "2022-03-17T16:41:03.617Z"
   },
   {
    "duration": 12,
    "start_time": "2022-03-17T16:41:19.573Z"
   },
   {
    "duration": 171,
    "start_time": "2022-03-17T16:43:04.682Z"
   },
   {
    "duration": 1315,
    "start_time": "2022-03-18T03:55:34.409Z"
   },
   {
    "duration": 107,
    "start_time": "2022-03-18T03:55:35.726Z"
   },
   {
    "duration": 421,
    "start_time": "2022-03-18T03:55:35.834Z"
   },
   {
    "duration": 57,
    "start_time": "2022-03-18T03:55:36.257Z"
   },
   {
    "duration": 119,
    "start_time": "2022-03-18T03:55:36.315Z"
   },
   {
    "duration": 426,
    "start_time": "2022-03-18T03:55:36.435Z"
   },
   {
    "duration": 549,
    "start_time": "2022-03-18T03:55:36.862Z"
   },
   {
    "duration": 49,
    "start_time": "2022-03-18T03:55:37.413Z"
   },
   {
    "duration": 65,
    "start_time": "2022-03-18T03:55:37.463Z"
   },
   {
    "duration": 11,
    "start_time": "2022-03-18T03:55:37.531Z"
   },
   {
    "duration": 210,
    "start_time": "2022-03-18T03:55:37.543Z"
   },
   {
    "duration": 148,
    "start_time": "2022-03-18T04:02:33.901Z"
   },
   {
    "duration": 14,
    "start_time": "2022-03-18T04:16:34.521Z"
   },
   {
    "duration": 19,
    "start_time": "2022-03-18T04:21:27.050Z"
   },
   {
    "duration": 11,
    "start_time": "2022-03-18T04:27:04.912Z"
   },
   {
    "duration": 11,
    "start_time": "2022-03-18T04:29:06.072Z"
   },
   {
    "duration": 1577,
    "start_time": "2022-03-18T04:29:41.804Z"
   },
   {
    "duration": 139,
    "start_time": "2022-03-18T04:29:43.384Z"
   },
   {
    "duration": 557,
    "start_time": "2022-03-18T04:29:43.525Z"
   },
   {
    "duration": 134,
    "start_time": "2022-03-18T04:29:44.086Z"
   },
   {
    "duration": 115,
    "start_time": "2022-03-18T04:29:44.222Z"
   },
   {
    "duration": 395,
    "start_time": "2022-03-18T04:29:44.339Z"
   },
   {
    "duration": 536,
    "start_time": "2022-03-18T04:29:44.735Z"
   },
   {
    "duration": 54,
    "start_time": "2022-03-18T04:29:45.272Z"
   },
   {
    "duration": 71,
    "start_time": "2022-03-18T04:29:45.328Z"
   },
   {
    "duration": 12,
    "start_time": "2022-03-18T04:29:45.402Z"
   },
   {
    "duration": 16,
    "start_time": "2022-03-18T04:29:45.416Z"
   },
   {
    "duration": 1835,
    "start_time": "2022-03-18T06:29:14.865Z"
   },
   {
    "duration": 132,
    "start_time": "2022-03-18T06:29:16.703Z"
   },
   {
    "duration": 657,
    "start_time": "2022-03-18T06:29:16.837Z"
   },
   {
    "duration": 173,
    "start_time": "2022-03-18T06:29:17.496Z"
   },
   {
    "duration": 122,
    "start_time": "2022-03-18T06:29:17.672Z"
   },
   {
    "duration": 759,
    "start_time": "2022-03-18T06:29:17.797Z"
   },
   {
    "duration": 987,
    "start_time": "2022-03-18T06:29:18.558Z"
   },
   {
    "duration": 88,
    "start_time": "2022-03-18T06:29:19.547Z"
   },
   {
    "duration": 104,
    "start_time": "2022-03-18T06:29:19.638Z"
   },
   {
    "duration": 31,
    "start_time": "2022-03-18T06:29:19.745Z"
   },
   {
    "duration": 17,
    "start_time": "2022-03-18T06:29:19.778Z"
   },
   {
    "duration": 1611,
    "start_time": "2022-03-18T06:30:01.481Z"
   },
   {
    "duration": 131,
    "start_time": "2022-03-18T06:30:03.095Z"
   },
   {
    "duration": 608,
    "start_time": "2022-03-18T06:30:03.229Z"
   },
   {
    "duration": 165,
    "start_time": "2022-03-18T06:30:03.840Z"
   },
   {
    "duration": 184,
    "start_time": "2022-03-18T06:30:04.008Z"
   },
   {
    "duration": 716,
    "start_time": "2022-03-18T06:30:04.194Z"
   },
   {
    "duration": 968,
    "start_time": "2022-03-18T06:30:04.912Z"
   },
   {
    "duration": 92,
    "start_time": "2022-03-18T06:30:05.883Z"
   },
   {
    "duration": 105,
    "start_time": "2022-03-18T06:30:05.978Z"
   },
   {
    "duration": 17,
    "start_time": "2022-03-18T06:30:06.086Z"
   },
   {
    "duration": 18,
    "start_time": "2022-03-18T06:30:06.105Z"
   },
   {
    "duration": 18,
    "start_time": "2022-03-18T06:31:45.662Z"
   },
   {
    "duration": 1583,
    "start_time": "2022-03-18T06:32:13.953Z"
   },
   {
    "duration": 147,
    "start_time": "2022-03-18T06:32:15.539Z"
   },
   {
    "duration": 612,
    "start_time": "2022-03-18T06:32:15.690Z"
   },
   {
    "duration": 107,
    "start_time": "2022-03-18T06:32:16.305Z"
   },
   {
    "duration": 125,
    "start_time": "2022-03-18T06:32:16.468Z"
   },
   {
    "duration": 748,
    "start_time": "2022-03-18T06:32:16.595Z"
   },
   {
    "duration": 1010,
    "start_time": "2022-03-18T06:32:17.347Z"
   },
   {
    "duration": 81,
    "start_time": "2022-03-18T06:32:18.360Z"
   },
   {
    "duration": 108,
    "start_time": "2022-03-18T06:32:18.444Z"
   },
   {
    "duration": 24,
    "start_time": "2022-03-18T06:32:18.569Z"
   },
   {
    "duration": 27,
    "start_time": "2022-03-18T06:32:18.595Z"
   },
   {
    "duration": 2068,
    "start_time": "2022-03-18T07:08:51.789Z"
   },
   {
    "duration": 1697,
    "start_time": "2022-03-18T07:09:05.056Z"
   },
   {
    "duration": 12,
    "start_time": "2022-03-18T07:10:44.346Z"
   },
   {
    "duration": 13,
    "start_time": "2022-03-18T07:56:38.841Z"
   },
   {
    "duration": 16,
    "start_time": "2022-03-18T08:42:54.094Z"
   },
   {
    "duration": 92,
    "start_time": "2022-03-18T08:52:08.523Z"
   },
   {
    "duration": 1554,
    "start_time": "2022-03-18T08:52:23.425Z"
   },
   {
    "duration": 125,
    "start_time": "2022-03-18T08:52:24.982Z"
   },
   {
    "duration": 593,
    "start_time": "2022-03-18T08:52:25.110Z"
   },
   {
    "duration": 200,
    "start_time": "2022-03-18T08:52:25.706Z"
   },
   {
    "duration": 170,
    "start_time": "2022-03-18T08:52:25.910Z"
   },
   {
    "duration": 711,
    "start_time": "2022-03-18T08:52:26.082Z"
   },
   {
    "duration": 959,
    "start_time": "2022-03-18T08:52:26.796Z"
   },
   {
    "duration": 88,
    "start_time": "2022-03-18T08:52:27.757Z"
   },
   {
    "duration": 99,
    "start_time": "2022-03-18T08:52:27.847Z"
   },
   {
    "duration": 16,
    "start_time": "2022-03-18T08:52:27.968Z"
   },
   {
    "duration": 16,
    "start_time": "2022-03-18T08:52:27.986Z"
   },
   {
    "duration": 18,
    "start_time": "2022-03-18T08:53:53.389Z"
   },
   {
    "duration": 16,
    "start_time": "2022-03-18T08:54:40.757Z"
   },
   {
    "duration": 14,
    "start_time": "2022-03-18T08:57:21.097Z"
   },
   {
    "duration": 1823,
    "start_time": "2022-03-18T15:06:19.866Z"
   },
   {
    "duration": 129,
    "start_time": "2022-03-18T15:06:21.692Z"
   },
   {
    "duration": 592,
    "start_time": "2022-03-18T15:06:21.823Z"
   },
   {
    "duration": 169,
    "start_time": "2022-03-18T15:06:22.417Z"
   },
   {
    "duration": 143,
    "start_time": "2022-03-18T15:06:22.590Z"
   },
   {
    "duration": 779,
    "start_time": "2022-03-18T15:06:22.735Z"
   },
   {
    "duration": 1012,
    "start_time": "2022-03-18T15:06:23.516Z"
   },
   {
    "duration": 91,
    "start_time": "2022-03-18T15:06:24.531Z"
   },
   {
    "duration": 98,
    "start_time": "2022-03-18T15:06:24.624Z"
   },
   {
    "duration": 17,
    "start_time": "2022-03-18T15:06:24.725Z"
   },
   {
    "duration": 37,
    "start_time": "2022-03-18T15:06:24.745Z"
   },
   {
    "duration": 16,
    "start_time": "2022-03-18T15:23:37.341Z"
   },
   {
    "duration": 15,
    "start_time": "2022-03-18T15:24:13.912Z"
   },
   {
    "duration": 13,
    "start_time": "2022-03-18T15:24:54.825Z"
   },
   {
    "duration": 74,
    "start_time": "2022-03-18T15:27:01.695Z"
   },
   {
    "duration": 75,
    "start_time": "2022-03-18T15:27:20.711Z"
   },
   {
    "duration": 16,
    "start_time": "2022-03-18T15:27:43.019Z"
   },
   {
    "duration": 16,
    "start_time": "2022-03-18T15:27:50.744Z"
   },
   {
    "duration": 14,
    "start_time": "2022-03-18T15:27:59.603Z"
   },
   {
    "duration": 223,
    "start_time": "2022-03-18T15:34:19.639Z"
   },
   {
    "duration": 86,
    "start_time": "2022-03-18T15:34:37.264Z"
   },
   {
    "duration": 56,
    "start_time": "2022-03-18T15:34:50.709Z"
   },
   {
    "duration": 150,
    "start_time": "2022-03-18T15:35:14.394Z"
   },
   {
    "duration": 101,
    "start_time": "2022-03-18T15:37:06.056Z"
   },
   {
    "duration": 22,
    "start_time": "2022-03-18T15:38:02.990Z"
   },
   {
    "duration": 91,
    "start_time": "2022-03-18T15:38:41.764Z"
   },
   {
    "duration": 25,
    "start_time": "2022-03-18T15:41:40.809Z"
   },
   {
    "duration": 78,
    "start_time": "2022-03-18T15:42:00.806Z"
   },
   {
    "duration": 1675,
    "start_time": "2022-03-18T15:43:09.371Z"
   },
   {
    "duration": 150,
    "start_time": "2022-03-18T15:43:11.048Z"
   },
   {
    "duration": 639,
    "start_time": "2022-03-18T15:43:11.200Z"
   },
   {
    "duration": 234,
    "start_time": "2022-03-18T15:43:11.843Z"
   },
   {
    "duration": 149,
    "start_time": "2022-03-18T15:43:12.080Z"
   },
   {
    "duration": 785,
    "start_time": "2022-03-18T15:43:12.232Z"
   },
   {
    "duration": 1087,
    "start_time": "2022-03-18T15:43:13.021Z"
   },
   {
    "duration": 260,
    "start_time": "2022-03-18T15:43:14.110Z"
   },
   {
    "duration": 0,
    "start_time": "2022-03-18T15:43:14.374Z"
   },
   {
    "duration": 0,
    "start_time": "2022-03-18T15:43:14.376Z"
   },
   {
    "duration": 0,
    "start_time": "2022-03-18T15:43:14.379Z"
   },
   {
    "duration": 0,
    "start_time": "2022-03-18T15:43:14.381Z"
   },
   {
    "duration": 71,
    "start_time": "2022-03-18T15:44:07.665Z"
   },
   {
    "duration": 24,
    "start_time": "2022-03-18T15:44:12.518Z"
   },
   {
    "duration": 1556,
    "start_time": "2022-03-18T15:44:27.613Z"
   },
   {
    "duration": 141,
    "start_time": "2022-03-18T15:44:29.172Z"
   },
   {
    "duration": 809,
    "start_time": "2022-03-18T15:44:29.316Z"
   },
   {
    "duration": 183,
    "start_time": "2022-03-18T15:44:30.131Z"
   },
   {
    "duration": 167,
    "start_time": "2022-03-18T15:44:30.317Z"
   },
   {
    "duration": 801,
    "start_time": "2022-03-18T15:44:30.487Z"
   },
   {
    "duration": 1095,
    "start_time": "2022-03-18T15:44:31.291Z"
   },
   {
    "duration": 101,
    "start_time": "2022-03-18T15:44:32.391Z"
   },
   {
    "duration": 24,
    "start_time": "2022-03-18T15:44:32.494Z"
   },
   {
    "duration": 98,
    "start_time": "2022-03-18T15:44:32.522Z"
   },
   {
    "duration": 106,
    "start_time": "2022-03-18T15:44:32.623Z"
   },
   {
    "duration": 40,
    "start_time": "2022-03-18T15:44:32.731Z"
   },
   {
    "duration": 28,
    "start_time": "2022-03-18T15:44:32.774Z"
   },
   {
    "duration": 14,
    "start_time": "2022-03-18T15:45:03.130Z"
   },
   {
    "duration": 15,
    "start_time": "2022-03-18T15:46:05.542Z"
   },
   {
    "duration": 19,
    "start_time": "2022-03-18T15:46:43.677Z"
   },
   {
    "duration": 1463,
    "start_time": "2022-03-18T15:52:54.504Z"
   },
   {
    "duration": 126,
    "start_time": "2022-03-18T15:52:55.970Z"
   },
   {
    "duration": 569,
    "start_time": "2022-03-18T15:52:56.098Z"
   },
   {
    "duration": 139,
    "start_time": "2022-03-18T15:52:56.669Z"
   },
   {
    "duration": 160,
    "start_time": "2022-03-18T15:52:56.811Z"
   },
   {
    "duration": 754,
    "start_time": "2022-03-18T15:52:56.974Z"
   },
   {
    "duration": 1015,
    "start_time": "2022-03-18T15:52:57.731Z"
   },
   {
    "duration": 65,
    "start_time": "2022-03-18T15:52:58.748Z"
   },
   {
    "duration": 23,
    "start_time": "2022-03-18T15:52:58.815Z"
   },
   {
    "duration": 107,
    "start_time": "2022-03-18T15:52:58.840Z"
   },
   {
    "duration": 17,
    "start_time": "2022-03-18T15:52:58.967Z"
   },
   {
    "duration": 16,
    "start_time": "2022-03-18T15:52:58.987Z"
   },
   {
    "duration": 8,
    "start_time": "2022-03-18T15:54:25.613Z"
   },
   {
    "duration": 15,
    "start_time": "2022-03-18T15:54:37.973Z"
   },
   {
    "duration": 9,
    "start_time": "2022-03-18T16:02:26.236Z"
   },
   {
    "duration": 20,
    "start_time": "2022-03-18T16:03:46.075Z"
   },
   {
    "duration": 26,
    "start_time": "2022-03-18T16:05:02.150Z"
   },
   {
    "duration": 544,
    "start_time": "2022-03-18T16:19:03.601Z"
   },
   {
    "duration": 756,
    "start_time": "2022-03-18T16:43:57.752Z"
   },
   {
    "duration": 8,
    "start_time": "2022-03-18T16:47:08.127Z"
   },
   {
    "duration": 16,
    "start_time": "2022-03-18T16:47:18.565Z"
   },
   {
    "duration": 10,
    "start_time": "2022-03-18T16:47:41.294Z"
   },
   {
    "duration": 17,
    "start_time": "2022-03-18T16:52:19.628Z"
   },
   {
    "duration": 27,
    "start_time": "2022-03-18T17:03:13.566Z"
   },
   {
    "duration": 30,
    "start_time": "2022-03-18T17:05:21.252Z"
   },
   {
    "duration": 38,
    "start_time": "2022-03-18T17:06:55.135Z"
   },
   {
    "duration": 617,
    "start_time": "2022-03-18T17:08:54.499Z"
   },
   {
    "duration": 819,
    "start_time": "2022-03-18T17:10:48.539Z"
   },
   {
    "duration": 1393,
    "start_time": "2022-03-19T11:14:04.842Z"
   },
   {
    "duration": 98,
    "start_time": "2022-03-19T11:14:06.238Z"
   },
   {
    "duration": 396,
    "start_time": "2022-03-19T11:14:06.338Z"
   },
   {
    "duration": 133,
    "start_time": "2022-03-19T11:14:06.736Z"
   },
   {
    "duration": 120,
    "start_time": "2022-03-19T11:14:06.872Z"
   },
   {
    "duration": 421,
    "start_time": "2022-03-19T11:14:06.994Z"
   },
   {
    "duration": 556,
    "start_time": "2022-03-19T11:14:07.417Z"
   },
   {
    "duration": 59,
    "start_time": "2022-03-19T11:14:07.975Z"
   },
   {
    "duration": 18,
    "start_time": "2022-03-19T11:14:08.035Z"
   },
   {
    "duration": 10,
    "start_time": "2022-03-19T11:14:08.054Z"
   },
   {
    "duration": 74,
    "start_time": "2022-03-19T11:14:08.065Z"
   },
   {
    "duration": 22,
    "start_time": "2022-03-19T11:14:08.141Z"
   },
   {
    "duration": 35,
    "start_time": "2022-03-19T11:14:08.165Z"
   },
   {
    "duration": 894,
    "start_time": "2022-03-19T11:14:08.204Z"
   },
   {
    "duration": 51,
    "start_time": "2022-03-19T11:14:09.101Z"
   },
   {
    "duration": 1034,
    "start_time": "2022-03-19T11:14:09.154Z"
   },
   {
    "duration": 136,
    "start_time": "2022-03-19T11:22:59.352Z"
   },
   {
    "duration": 8,
    "start_time": "2022-03-19T11:23:14.711Z"
   },
   {
    "duration": 4,
    "start_time": "2022-03-19T11:29:02.709Z"
   },
   {
    "duration": 120,
    "start_time": "2022-03-19T11:30:33.575Z"
   },
   {
    "duration": 147,
    "start_time": "2022-03-19T11:36:28.025Z"
   },
   {
    "duration": 100,
    "start_time": "2022-03-19T11:37:10.978Z"
   },
   {
    "duration": 141,
    "start_time": "2022-03-19T11:37:21.503Z"
   },
   {
    "duration": 1099,
    "start_time": "2022-03-19T11:42:47.742Z"
   },
   {
    "duration": 137,
    "start_time": "2022-03-19T11:45:47.067Z"
   },
   {
    "duration": 133,
    "start_time": "2022-03-19T11:47:15.896Z"
   },
   {
    "duration": 131,
    "start_time": "2022-03-19T11:48:28.509Z"
   },
   {
    "duration": 15,
    "start_time": "2022-03-19T11:52:31.638Z"
   },
   {
    "duration": 1149,
    "start_time": "2022-03-19T11:52:44.435Z"
   },
   {
    "duration": 98,
    "start_time": "2022-03-19T11:52:45.586Z"
   },
   {
    "duration": 381,
    "start_time": "2022-03-19T11:52:45.685Z"
   },
   {
    "duration": 78,
    "start_time": "2022-03-19T11:52:46.067Z"
   },
   {
    "duration": 117,
    "start_time": "2022-03-19T11:52:46.147Z"
   },
   {
    "duration": 386,
    "start_time": "2022-03-19T11:52:46.266Z"
   },
   {
    "duration": 557,
    "start_time": "2022-03-19T11:52:46.654Z"
   },
   {
    "duration": 50,
    "start_time": "2022-03-19T11:52:47.213Z"
   },
   {
    "duration": 16,
    "start_time": "2022-03-19T11:52:47.265Z"
   },
   {
    "duration": 7,
    "start_time": "2022-03-19T11:52:47.284Z"
   },
   {
    "duration": 84,
    "start_time": "2022-03-19T11:52:47.293Z"
   },
   {
    "duration": 11,
    "start_time": "2022-03-19T11:52:47.379Z"
   },
   {
    "duration": 41,
    "start_time": "2022-03-19T11:52:47.392Z"
   },
   {
    "duration": 400,
    "start_time": "2022-03-19T11:52:47.434Z"
   },
   {
    "duration": 21,
    "start_time": "2022-03-19T11:52:47.836Z"
   },
   {
    "duration": 9,
    "start_time": "2022-03-19T11:52:47.859Z"
   },
   {
    "duration": 160,
    "start_time": "2022-03-19T11:52:47.870Z"
   },
   {
    "duration": 1814,
    "start_time": "2022-03-19T14:21:37.923Z"
   },
   {
    "duration": 129,
    "start_time": "2022-03-19T14:21:39.740Z"
   },
   {
    "duration": 571,
    "start_time": "2022-03-19T14:21:39.871Z"
   },
   {
    "duration": 152,
    "start_time": "2022-03-19T14:21:40.445Z"
   },
   {
    "duration": 147,
    "start_time": "2022-03-19T14:21:40.600Z"
   },
   {
    "duration": 695,
    "start_time": "2022-03-19T14:21:40.768Z"
   },
   {
    "duration": 941,
    "start_time": "2022-03-19T14:21:41.468Z"
   },
   {
    "duration": 74,
    "start_time": "2022-03-19T14:21:42.412Z"
   },
   {
    "duration": 24,
    "start_time": "2022-03-19T14:21:42.488Z"
   },
   {
    "duration": 11,
    "start_time": "2022-03-19T14:21:42.514Z"
   },
   {
    "duration": 117,
    "start_time": "2022-03-19T14:21:42.527Z"
   },
   {
    "duration": 29,
    "start_time": "2022-03-19T14:21:42.647Z"
   },
   {
    "duration": 28,
    "start_time": "2022-03-19T14:21:42.679Z"
   },
   {
    "duration": 724,
    "start_time": "2022-03-19T14:21:42.710Z"
   },
   {
    "duration": 42,
    "start_time": "2022-03-19T14:21:43.437Z"
   },
   {
    "duration": 13,
    "start_time": "2022-03-19T14:21:43.481Z"
   },
   {
    "duration": 259,
    "start_time": "2022-03-19T14:21:43.497Z"
   },
   {
    "duration": 38,
    "start_time": "2022-03-19T14:22:59.926Z"
   },
   {
    "duration": 705,
    "start_time": "2022-03-19T14:29:34.027Z"
   },
   {
    "duration": 235,
    "start_time": "2022-03-19T14:33:17.133Z"
   },
   {
    "duration": 165,
    "start_time": "2022-03-19T14:34:39.553Z"
   },
   {
    "duration": 102,
    "start_time": "2022-03-19T14:37:01.226Z"
   },
   {
    "duration": 217,
    "start_time": "2022-03-19T14:37:10.825Z"
   },
   {
    "duration": 190,
    "start_time": "2022-03-19T14:40:47.776Z"
   },
   {
    "duration": 12,
    "start_time": "2022-03-19T14:40:54.358Z"
   },
   {
    "duration": 16,
    "start_time": "2022-03-19T14:41:04.591Z"
   },
   {
    "duration": 15,
    "start_time": "2022-03-19T14:45:16.438Z"
   },
   {
    "duration": 33,
    "start_time": "2022-03-19T14:47:12.758Z"
   },
   {
    "duration": 10,
    "start_time": "2022-03-19T14:47:20.358Z"
   },
   {
    "duration": 1517,
    "start_time": "2022-03-19T14:47:37.937Z"
   },
   {
    "duration": 130,
    "start_time": "2022-03-19T14:47:39.457Z"
   },
   {
    "duration": 550,
    "start_time": "2022-03-19T14:47:39.589Z"
   },
   {
    "duration": 159,
    "start_time": "2022-03-19T14:47:40.141Z"
   },
   {
    "duration": 129,
    "start_time": "2022-03-19T14:47:40.303Z"
   },
   {
    "duration": 703,
    "start_time": "2022-03-19T14:47:40.434Z"
   },
   {
    "duration": 944,
    "start_time": "2022-03-19T14:47:41.140Z"
   },
   {
    "duration": 63,
    "start_time": "2022-03-19T14:47:42.087Z"
   },
   {
    "duration": 34,
    "start_time": "2022-03-19T14:47:42.168Z"
   },
   {
    "duration": 12,
    "start_time": "2022-03-19T14:47:42.204Z"
   },
   {
    "duration": 118,
    "start_time": "2022-03-19T14:47:42.219Z"
   },
   {
    "duration": 262,
    "start_time": "2022-03-19T14:47:42.339Z"
   },
   {
    "duration": 16,
    "start_time": "2022-03-19T14:47:42.603Z"
   },
   {
    "duration": 16,
    "start_time": "2022-03-19T14:47:42.623Z"
   },
   {
    "duration": 33,
    "start_time": "2022-03-19T14:47:42.641Z"
   },
   {
    "duration": 449,
    "start_time": "2022-03-19T14:47:42.676Z"
   },
   {
    "duration": 0,
    "start_time": "2022-03-19T14:47:43.128Z"
   },
   {
    "duration": 0,
    "start_time": "2022-03-19T14:47:43.130Z"
   },
   {
    "duration": 28,
    "start_time": "2022-03-19T14:48:33.117Z"
   },
   {
    "duration": 688,
    "start_time": "2022-03-19T14:48:55.196Z"
   },
   {
    "duration": 29,
    "start_time": "2022-03-19T14:49:01.625Z"
   },
   {
    "duration": 199,
    "start_time": "2022-03-19T14:49:17.239Z"
   },
   {
    "duration": 27,
    "start_time": "2022-03-19T14:50:16.375Z"
   },
   {
    "duration": 85,
    "start_time": "2022-03-19T14:50:52.735Z"
   },
   {
    "duration": 1610,
    "start_time": "2022-03-19T14:52:02.228Z"
   },
   {
    "duration": 342,
    "start_time": "2022-03-19T14:52:03.841Z"
   },
   {
    "duration": 617,
    "start_time": "2022-03-19T14:52:04.186Z"
   },
   {
    "duration": 170,
    "start_time": "2022-03-19T14:52:04.807Z"
   },
   {
    "duration": 137,
    "start_time": "2022-03-19T14:52:04.979Z"
   },
   {
    "duration": 795,
    "start_time": "2022-03-19T14:52:05.119Z"
   },
   {
    "duration": 1011,
    "start_time": "2022-03-19T14:52:05.917Z"
   },
   {
    "duration": 71,
    "start_time": "2022-03-19T14:52:06.930Z"
   },
   {
    "duration": 33,
    "start_time": "2022-03-19T14:52:07.003Z"
   },
   {
    "duration": 34,
    "start_time": "2022-03-19T14:52:07.040Z"
   },
   {
    "duration": 105,
    "start_time": "2022-03-19T14:52:07.077Z"
   },
   {
    "duration": 243,
    "start_time": "2022-03-19T14:52:07.184Z"
   },
   {
    "duration": 16,
    "start_time": "2022-03-19T14:52:07.430Z"
   },
   {
    "duration": 17,
    "start_time": "2022-03-19T14:52:07.448Z"
   },
   {
    "duration": 28,
    "start_time": "2022-03-19T14:52:07.467Z"
   },
   {
    "duration": 777,
    "start_time": "2022-03-19T14:52:07.497Z"
   },
   {
    "duration": 28,
    "start_time": "2022-03-19T14:52:08.276Z"
   },
   {
    "duration": 231,
    "start_time": "2022-03-19T14:52:08.307Z"
   },
   {
    "duration": 84,
    "start_time": "2022-03-19T14:55:38.205Z"
   },
   {
    "duration": 26,
    "start_time": "2022-03-19T14:56:04.407Z"
   },
   {
    "duration": 17,
    "start_time": "2022-03-19T14:57:00.816Z"
   },
   {
    "duration": 25,
    "start_time": "2022-03-19T14:58:54.918Z"
   },
   {
    "duration": 743,
    "start_time": "2022-03-19T14:59:01.968Z"
   },
   {
    "duration": 33,
    "start_time": "2022-03-19T14:59:06.544Z"
   },
   {
    "duration": 235,
    "start_time": "2022-03-19T14:59:10.038Z"
   },
   {
    "duration": 17,
    "start_time": "2022-03-19T15:01:45.294Z"
   },
   {
    "duration": 28,
    "start_time": "2022-03-19T15:03:08.939Z"
   },
   {
    "duration": 29,
    "start_time": "2022-03-19T15:07:09.058Z"
   },
   {
    "duration": 28,
    "start_time": "2022-03-19T15:08:40.853Z"
   },
   {
    "duration": 30,
    "start_time": "2022-03-19T15:18:17.273Z"
   },
   {
    "duration": 265,
    "start_time": "2022-03-19T15:26:25.898Z"
   },
   {
    "duration": 252,
    "start_time": "2022-03-19T15:29:11.927Z"
   },
   {
    "duration": 260,
    "start_time": "2022-03-19T15:29:43.347Z"
   },
   {
    "duration": 357,
    "start_time": "2022-03-19T17:11:25.671Z"
   },
   {
    "duration": 1831,
    "start_time": "2022-03-20T11:31:47.135Z"
   },
   {
    "duration": 137,
    "start_time": "2022-03-20T11:31:48.969Z"
   },
   {
    "duration": 529,
    "start_time": "2022-03-20T11:31:49.108Z"
   },
   {
    "duration": 140,
    "start_time": "2022-03-20T11:31:49.639Z"
   },
   {
    "duration": 122,
    "start_time": "2022-03-20T11:31:49.782Z"
   },
   {
    "duration": 616,
    "start_time": "2022-03-20T11:31:49.906Z"
   },
   {
    "duration": 581,
    "start_time": "2022-03-20T11:31:50.523Z"
   },
   {
    "duration": 59,
    "start_time": "2022-03-20T11:31:51.106Z"
   },
   {
    "duration": 23,
    "start_time": "2022-03-20T11:31:51.167Z"
   },
   {
    "duration": 99,
    "start_time": "2022-03-20T11:31:51.192Z"
   },
   {
    "duration": 223,
    "start_time": "2022-03-20T11:31:51.293Z"
   },
   {
    "duration": 24,
    "start_time": "2022-03-20T11:31:51.519Z"
   },
   {
    "duration": 10,
    "start_time": "2022-03-20T11:31:51.545Z"
   },
   {
    "duration": 29,
    "start_time": "2022-03-20T11:31:51.558Z"
   },
   {
    "duration": 18,
    "start_time": "2022-03-20T11:31:51.588Z"
   },
   {
    "duration": 404,
    "start_time": "2022-03-20T11:31:51.607Z"
   },
   {
    "duration": 20,
    "start_time": "2022-03-20T11:31:52.013Z"
   },
   {
    "duration": 171,
    "start_time": "2022-03-20T11:31:52.034Z"
   },
   {
    "duration": 1710,
    "start_time": "2022-03-20T11:41:11.007Z"
   },
   {
    "duration": 165,
    "start_time": "2022-03-20T11:41:12.720Z"
   },
   {
    "duration": 425,
    "start_time": "2022-03-20T11:41:12.887Z"
   },
   {
    "duration": 157,
    "start_time": "2022-03-20T11:41:13.315Z"
   },
   {
    "duration": 89,
    "start_time": "2022-03-20T11:41:13.474Z"
   },
   {
    "duration": 443,
    "start_time": "2022-03-20T11:41:13.566Z"
   },
   {
    "duration": 625,
    "start_time": "2022-03-20T11:41:14.011Z"
   },
   {
    "duration": 59,
    "start_time": "2022-03-20T11:41:14.638Z"
   },
   {
    "duration": 34,
    "start_time": "2022-03-20T11:41:14.699Z"
   },
   {
    "duration": 148,
    "start_time": "2022-03-20T11:41:14.737Z"
   },
   {
    "duration": 257,
    "start_time": "2022-03-20T11:41:14.888Z"
   },
   {
    "duration": 21,
    "start_time": "2022-03-20T11:41:15.147Z"
   },
   {
    "duration": 15,
    "start_time": "2022-03-20T11:41:15.170Z"
   },
   {
    "duration": 25,
    "start_time": "2022-03-20T11:41:15.187Z"
   },
   {
    "duration": 20,
    "start_time": "2022-03-20T11:41:15.214Z"
   },
   {
    "duration": 415,
    "start_time": "2022-03-20T11:41:15.264Z"
   },
   {
    "duration": 21,
    "start_time": "2022-03-20T11:41:15.680Z"
   },
   {
    "duration": 261,
    "start_time": "2022-03-20T11:41:15.702Z"
   },
   {
    "duration": 1718,
    "start_time": "2022-03-20T11:49:07.279Z"
   },
   {
    "duration": 158,
    "start_time": "2022-03-20T11:49:09.000Z"
   },
   {
    "duration": 435,
    "start_time": "2022-03-20T11:49:09.166Z"
   },
   {
    "duration": 103,
    "start_time": "2022-03-20T11:49:09.603Z"
   },
   {
    "duration": 132,
    "start_time": "2022-03-20T11:49:09.764Z"
   },
   {
    "duration": 430,
    "start_time": "2022-03-20T11:49:09.898Z"
   },
   {
    "duration": 602,
    "start_time": "2022-03-20T11:49:10.330Z"
   },
   {
    "duration": 69,
    "start_time": "2022-03-20T11:49:10.934Z"
   },
   {
    "duration": 27,
    "start_time": "2022-03-20T11:49:11.005Z"
   },
   {
    "duration": 86,
    "start_time": "2022-03-20T11:49:11.035Z"
   },
   {
    "duration": 217,
    "start_time": "2022-03-20T11:49:11.123Z"
   },
   {
    "duration": 21,
    "start_time": "2022-03-20T11:49:11.342Z"
   },
   {
    "duration": 14,
    "start_time": "2022-03-20T11:49:11.364Z"
   },
   {
    "duration": 20,
    "start_time": "2022-03-20T11:49:11.380Z"
   },
   {
    "duration": 19,
    "start_time": "2022-03-20T11:49:11.402Z"
   },
   {
    "duration": 469,
    "start_time": "2022-03-20T11:49:11.423Z"
   },
   {
    "duration": 21,
    "start_time": "2022-03-20T11:49:11.894Z"
   },
   {
    "duration": 178,
    "start_time": "2022-03-20T11:49:11.917Z"
   },
   {
    "duration": 65,
    "start_time": "2022-03-20T12:34:25.327Z"
   },
   {
    "duration": 1440,
    "start_time": "2022-03-20T12:35:35.008Z"
   },
   {
    "duration": 104,
    "start_time": "2022-03-20T12:35:36.450Z"
   },
   {
    "duration": 602,
    "start_time": "2022-03-20T12:35:36.563Z"
   },
   {
    "duration": 214,
    "start_time": "2022-03-20T12:35:37.168Z"
   },
   {
    "duration": 85,
    "start_time": "2022-03-20T12:35:37.384Z"
   },
   {
    "duration": 419,
    "start_time": "2022-03-20T12:35:37.470Z"
   },
   {
    "duration": 632,
    "start_time": "2022-03-20T12:35:37.891Z"
   },
   {
    "duration": 63,
    "start_time": "2022-03-20T12:35:38.524Z"
   },
   {
    "duration": 25,
    "start_time": "2022-03-20T12:35:38.588Z"
   },
   {
    "duration": 93,
    "start_time": "2022-03-20T12:35:38.616Z"
   },
   {
    "duration": 237,
    "start_time": "2022-03-20T12:35:38.711Z"
   },
   {
    "duration": 21,
    "start_time": "2022-03-20T12:35:38.950Z"
   },
   {
    "duration": 13,
    "start_time": "2022-03-20T12:35:38.973Z"
   },
   {
    "duration": 38,
    "start_time": "2022-03-20T12:35:38.989Z"
   },
   {
    "duration": 44,
    "start_time": "2022-03-20T12:35:39.029Z"
   },
   {
    "duration": 436,
    "start_time": "2022-03-20T12:35:39.075Z"
   },
   {
    "duration": 22,
    "start_time": "2022-03-20T12:35:39.513Z"
   },
   {
    "duration": 185,
    "start_time": "2022-03-20T12:35:39.537Z"
   },
   {
    "duration": 161,
    "start_time": "2022-03-20T12:37:02.603Z"
   },
   {
    "duration": 59,
    "start_time": "2022-03-20T12:37:55.586Z"
   },
   {
    "duration": 1388,
    "start_time": "2022-03-20T12:38:35.794Z"
   },
   {
    "duration": 127,
    "start_time": "2022-03-20T12:38:37.184Z"
   },
   {
    "duration": 432,
    "start_time": "2022-03-20T12:38:37.312Z"
   },
   {
    "duration": 121,
    "start_time": "2022-03-20T12:38:37.746Z"
   },
   {
    "duration": 152,
    "start_time": "2022-03-20T12:38:37.869Z"
   },
   {
    "duration": 725,
    "start_time": "2022-03-20T12:38:38.062Z"
   },
   {
    "duration": 916,
    "start_time": "2022-03-20T12:38:38.790Z"
   },
   {
    "duration": 73,
    "start_time": "2022-03-20T12:38:39.708Z"
   },
   {
    "duration": 26,
    "start_time": "2022-03-20T12:38:39.783Z"
   },
   {
    "duration": 89,
    "start_time": "2022-03-20T12:38:39.812Z"
   },
   {
    "duration": 201,
    "start_time": "2022-03-20T12:38:39.903Z"
   },
   {
    "duration": 23,
    "start_time": "2022-03-20T12:38:40.106Z"
   },
   {
    "duration": 16,
    "start_time": "2022-03-20T12:38:40.132Z"
   },
   {
    "duration": 29,
    "start_time": "2022-03-20T12:38:40.150Z"
   },
   {
    "duration": 27,
    "start_time": "2022-03-20T12:38:40.181Z"
   },
   {
    "duration": 541,
    "start_time": "2022-03-20T12:38:40.211Z"
   },
   {
    "duration": 29,
    "start_time": "2022-03-20T12:38:40.754Z"
   },
   {
    "duration": 280,
    "start_time": "2022-03-20T12:38:40.786Z"
   },
   {
    "duration": 22,
    "start_time": "2022-03-20T12:40:45.020Z"
   },
   {
    "duration": 1359,
    "start_time": "2022-03-20T12:41:09.133Z"
   },
   {
    "duration": 146,
    "start_time": "2022-03-20T12:41:10.494Z"
   },
   {
    "duration": 589,
    "start_time": "2022-03-20T12:41:10.642Z"
   },
   {
    "duration": 136,
    "start_time": "2022-03-20T12:41:11.233Z"
   },
   {
    "duration": 119,
    "start_time": "2022-03-20T12:41:11.370Z"
   },
   {
    "duration": 522,
    "start_time": "2022-03-20T12:41:11.491Z"
   },
   {
    "duration": 624,
    "start_time": "2022-03-20T12:41:12.014Z"
   },
   {
    "duration": 58,
    "start_time": "2022-03-20T12:41:12.640Z"
   },
   {
    "duration": 23,
    "start_time": "2022-03-20T12:41:12.700Z"
   },
   {
    "duration": 90,
    "start_time": "2022-03-20T12:41:12.726Z"
   },
   {
    "duration": 187,
    "start_time": "2022-03-20T12:41:12.818Z"
   },
   {
    "duration": 19,
    "start_time": "2022-03-20T12:41:13.007Z"
   },
   {
    "duration": 12,
    "start_time": "2022-03-20T12:41:13.027Z"
   },
   {
    "duration": 25,
    "start_time": "2022-03-20T12:41:13.041Z"
   },
   {
    "duration": 16,
    "start_time": "2022-03-20T12:41:13.068Z"
   },
   {
    "duration": 441,
    "start_time": "2022-03-20T12:41:13.085Z"
   },
   {
    "duration": 39,
    "start_time": "2022-03-20T12:41:13.528Z"
   },
   {
    "duration": 174,
    "start_time": "2022-03-20T12:41:13.570Z"
   },
   {
    "duration": 275,
    "start_time": "2022-03-20T13:01:59.094Z"
   },
   {
    "duration": 1243,
    "start_time": "2022-03-20T14:27:11.571Z"
   },
   {
    "duration": 120,
    "start_time": "2022-03-20T14:27:12.816Z"
   },
   {
    "duration": 389,
    "start_time": "2022-03-20T14:27:12.938Z"
   },
   {
    "duration": 136,
    "start_time": "2022-03-20T14:27:13.329Z"
   },
   {
    "duration": 119,
    "start_time": "2022-03-20T14:27:13.467Z"
   },
   {
    "duration": 424,
    "start_time": "2022-03-20T14:27:13.588Z"
   },
   {
    "duration": 284,
    "start_time": "2022-03-20T14:27:14.014Z"
   },
   {
    "duration": 48,
    "start_time": "2022-03-20T14:27:14.300Z"
   },
   {
    "duration": 24,
    "start_time": "2022-03-20T14:27:14.364Z"
   },
   {
    "duration": 87,
    "start_time": "2022-03-20T14:27:14.391Z"
   },
   {
    "duration": 218,
    "start_time": "2022-03-20T14:27:14.479Z"
   },
   {
    "duration": 19,
    "start_time": "2022-03-20T14:27:14.698Z"
   },
   {
    "duration": 13,
    "start_time": "2022-03-20T14:27:14.719Z"
   },
   {
    "duration": 34,
    "start_time": "2022-03-20T14:27:14.733Z"
   },
   {
    "duration": 17,
    "start_time": "2022-03-20T14:27:14.769Z"
   },
   {
    "duration": 454,
    "start_time": "2022-03-20T14:27:14.787Z"
   },
   {
    "duration": 33,
    "start_time": "2022-03-20T14:27:15.242Z"
   },
   {
    "duration": 159,
    "start_time": "2022-03-20T14:27:15.277Z"
   },
   {
    "duration": 2999,
    "start_time": "2022-03-21T06:14:02.996Z"
   },
   {
    "duration": 386,
    "start_time": "2022-03-21T06:14:05.997Z"
   },
   {
    "duration": 11629,
    "start_time": "2022-03-21T06:14:06.385Z"
   },
   {
    "duration": 91,
    "start_time": "2022-03-21T06:14:18.016Z"
   },
   {
    "duration": 96,
    "start_time": "2022-03-21T06:14:18.108Z"
   },
   {
    "duration": 390,
    "start_time": "2022-03-21T06:14:18.206Z"
   },
   {
    "duration": 254,
    "start_time": "2022-03-21T06:14:18.597Z"
   },
   {
    "duration": 54,
    "start_time": "2022-03-21T06:14:18.853Z"
   },
   {
    "duration": 22,
    "start_time": "2022-03-21T06:14:18.909Z"
   },
   {
    "duration": 77,
    "start_time": "2022-03-21T06:14:18.933Z"
   },
   {
    "duration": 287,
    "start_time": "2022-03-21T06:14:19.012Z"
   },
   {
    "duration": 17,
    "start_time": "2022-03-21T06:14:19.300Z"
   },
   {
    "duration": 10,
    "start_time": "2022-03-21T06:14:19.318Z"
   },
   {
    "duration": 16,
    "start_time": "2022-03-21T06:14:19.330Z"
   },
   {
    "duration": 39,
    "start_time": "2022-03-21T06:14:19.348Z"
   },
   {
    "duration": 375,
    "start_time": "2022-03-21T06:14:19.389Z"
   },
   {
    "duration": 25,
    "start_time": "2022-03-21T06:14:19.765Z"
   },
   {
    "duration": 144,
    "start_time": "2022-03-21T06:14:19.792Z"
   },
   {
    "duration": 53,
    "start_time": "2022-03-21T08:43:48.500Z"
   },
   {
    "duration": 1516,
    "start_time": "2022-03-21T08:44:02.280Z"
   },
   {
    "duration": 106,
    "start_time": "2022-03-21T08:44:03.798Z"
   },
   {
    "duration": 406,
    "start_time": "2022-03-21T08:44:03.908Z"
   },
   {
    "duration": 114,
    "start_time": "2022-03-21T08:44:04.316Z"
   },
   {
    "duration": 119,
    "start_time": "2022-03-21T08:44:04.431Z"
   },
   {
    "duration": 524,
    "start_time": "2022-03-21T08:44:04.552Z"
   },
   {
    "duration": 241,
    "start_time": "2022-03-21T08:44:05.078Z"
   },
   {
    "duration": 48,
    "start_time": "2022-03-21T08:44:05.321Z"
   },
   {
    "duration": 45,
    "start_time": "2022-03-21T08:44:05.371Z"
   },
   {
    "duration": 64,
    "start_time": "2022-03-21T08:44:05.419Z"
   },
   {
    "duration": 208,
    "start_time": "2022-03-21T08:44:05.485Z"
   },
   {
    "duration": 22,
    "start_time": "2022-03-21T08:44:05.695Z"
   },
   {
    "duration": 12,
    "start_time": "2022-03-21T08:44:05.718Z"
   },
   {
    "duration": 25,
    "start_time": "2022-03-21T08:44:05.732Z"
   },
   {
    "duration": 19,
    "start_time": "2022-03-21T08:44:05.758Z"
   },
   {
    "duration": 478,
    "start_time": "2022-03-21T08:44:05.778Z"
   },
   {
    "duration": 23,
    "start_time": "2022-03-21T08:44:06.258Z"
   },
   {
    "duration": 188,
    "start_time": "2022-03-21T08:44:06.283Z"
   },
   {
    "duration": 50,
    "start_time": "2022-03-21T15:03:44.259Z"
   },
   {
    "duration": 1606,
    "start_time": "2022-03-21T15:03:51.311Z"
   },
   {
    "duration": 125,
    "start_time": "2022-03-21T15:03:52.920Z"
   },
   {
    "duration": 501,
    "start_time": "2022-03-21T15:03:53.046Z"
   },
   {
    "duration": 97,
    "start_time": "2022-03-21T15:03:53.549Z"
   },
   {
    "duration": 133,
    "start_time": "2022-03-21T15:03:53.647Z"
   },
   {
    "duration": 484,
    "start_time": "2022-03-21T15:03:53.803Z"
   },
   {
    "duration": 322,
    "start_time": "2022-03-21T15:03:54.289Z"
   },
   {
    "duration": 56,
    "start_time": "2022-03-21T15:03:54.613Z"
   },
   {
    "duration": 53,
    "start_time": "2022-03-21T15:03:54.670Z"
   },
   {
    "duration": 95,
    "start_time": "2022-03-21T15:03:54.727Z"
   },
   {
    "duration": 274,
    "start_time": "2022-03-21T15:03:54.824Z"
   },
   {
    "duration": 28,
    "start_time": "2022-03-21T15:03:55.100Z"
   },
   {
    "duration": 12,
    "start_time": "2022-03-21T15:03:55.130Z"
   },
   {
    "duration": 22,
    "start_time": "2022-03-21T15:03:55.145Z"
   },
   {
    "duration": 22,
    "start_time": "2022-03-21T15:03:55.201Z"
   },
   {
    "duration": 489,
    "start_time": "2022-03-21T15:03:55.225Z"
   },
   {
    "duration": 26,
    "start_time": "2022-03-21T15:03:55.716Z"
   },
   {
    "duration": 195,
    "start_time": "2022-03-21T15:03:55.744Z"
   },
   {
    "duration": 121,
    "start_time": "2022-03-21T15:06:16.333Z"
   },
   {
    "duration": 129,
    "start_time": "2022-03-21T15:09:04.904Z"
   },
   {
    "duration": 197,
    "start_time": "2022-03-21T15:17:02.020Z"
   },
   {
    "duration": 139,
    "start_time": "2022-03-21T15:17:10.398Z"
   },
   {
    "duration": 348,
    "start_time": "2022-03-21T15:19:38.899Z"
   },
   {
    "duration": 294,
    "start_time": "2022-03-21T15:20:41.662Z"
   },
   {
    "duration": 387,
    "start_time": "2022-03-21T15:23:58.551Z"
   },
   {
    "duration": 511,
    "start_time": "2022-03-21T15:30:23.633Z"
   },
   {
    "duration": 396,
    "start_time": "2022-03-21T15:35:18.072Z"
   },
   {
    "duration": 529,
    "start_time": "2022-03-21T15:37:47.988Z"
   },
   {
    "duration": 413,
    "start_time": "2022-03-21T15:38:44.055Z"
   },
   {
    "duration": 406,
    "start_time": "2022-03-21T15:39:20.058Z"
   },
   {
    "duration": 537,
    "start_time": "2022-03-21T15:40:19.484Z"
   },
   {
    "duration": 399,
    "start_time": "2022-03-21T15:40:58.064Z"
   },
   {
    "duration": 437,
    "start_time": "2022-03-21T15:45:16.515Z"
   },
   {
    "duration": 432,
    "start_time": "2022-03-21T15:46:09.129Z"
   },
   {
    "duration": 424,
    "start_time": "2022-03-21T15:46:45.750Z"
   },
   {
    "duration": 399,
    "start_time": "2022-03-21T15:48:27.992Z"
   },
   {
    "duration": 453,
    "start_time": "2022-03-21T15:50:02.861Z"
   },
   {
    "duration": 265,
    "start_time": "2022-03-21T15:50:27.611Z"
   },
   {
    "duration": 261,
    "start_time": "2022-03-21T15:51:16.356Z"
   },
   {
    "duration": 271,
    "start_time": "2022-03-21T15:51:26.175Z"
   },
   {
    "duration": 416,
    "start_time": "2022-03-21T15:51:49.475Z"
   },
   {
    "duration": 434,
    "start_time": "2022-03-21T15:51:54.246Z"
   },
   {
    "duration": 414,
    "start_time": "2022-03-21T15:53:36.712Z"
   },
   {
    "duration": 299,
    "start_time": "2022-03-21T15:53:40.472Z"
   },
   {
    "duration": 415,
    "start_time": "2022-03-21T15:54:15.891Z"
   },
   {
    "duration": 276,
    "start_time": "2022-03-21T15:54:19.416Z"
   },
   {
    "duration": 267,
    "start_time": "2022-03-21T15:54:26.812Z"
   },
   {
    "duration": 1352,
    "start_time": "2022-03-21T15:55:43.373Z"
   },
   {
    "duration": 430,
    "start_time": "2022-03-21T15:55:44.727Z"
   },
   {
    "duration": 299,
    "start_time": "2022-03-21T15:55:45.159Z"
   },
   {
    "duration": 699,
    "start_time": "2022-03-21T15:55:45.460Z"
   },
   {
    "duration": 141,
    "start_time": "2022-03-21T15:55:46.161Z"
   },
   {
    "duration": 118,
    "start_time": "2022-03-21T15:55:46.308Z"
   },
   {
    "duration": 484,
    "start_time": "2022-03-21T15:55:46.428Z"
   },
   {
    "duration": 235,
    "start_time": "2022-03-21T15:55:46.915Z"
   },
   {
    "duration": 64,
    "start_time": "2022-03-21T15:55:47.153Z"
   },
   {
    "duration": 25,
    "start_time": "2022-03-21T15:55:47.219Z"
   },
   {
    "duration": 98,
    "start_time": "2022-03-21T15:55:47.246Z"
   },
   {
    "duration": 216,
    "start_time": "2022-03-21T15:55:47.346Z"
   },
   {
    "duration": 21,
    "start_time": "2022-03-21T15:55:47.564Z"
   },
   {
    "duration": 15,
    "start_time": "2022-03-21T15:55:47.588Z"
   },
   {
    "duration": 34,
    "start_time": "2022-03-21T15:55:47.606Z"
   },
   {
    "duration": 18,
    "start_time": "2022-03-21T15:55:47.642Z"
   },
   {
    "duration": 601,
    "start_time": "2022-03-21T15:55:47.662Z"
   },
   {
    "duration": 24,
    "start_time": "2022-03-21T15:55:48.265Z"
   },
   {
    "duration": 186,
    "start_time": "2022-03-21T15:55:48.290Z"
   },
   {
    "duration": 26,
    "start_time": "2022-03-21T16:04:03.801Z"
   },
   {
    "duration": 23,
    "start_time": "2022-03-21T16:05:32.822Z"
   },
   {
    "duration": 287,
    "start_time": "2022-03-21T16:18:12.664Z"
   },
   {
    "duration": 455,
    "start_time": "2022-03-21T16:18:42.201Z"
   },
   {
    "duration": 868,
    "start_time": "2022-03-21T16:19:22.605Z"
   },
   {
    "duration": 733,
    "start_time": "2022-03-21T16:19:48.291Z"
   },
   {
    "duration": 477,
    "start_time": "2022-03-21T16:20:49.331Z"
   },
   {
    "duration": 129,
    "start_time": "2022-03-21T16:39:33.587Z"
   },
   {
    "duration": 124,
    "start_time": "2022-03-21T16:41:16.008Z"
   },
   {
    "duration": 212,
    "start_time": "2022-03-21T16:42:41.442Z"
   },
   {
    "duration": 174,
    "start_time": "2022-03-21T16:43:29.936Z"
   },
   {
    "duration": 75,
    "start_time": "2022-03-21T16:44:26.092Z"
   },
   {
    "duration": 111,
    "start_time": "2022-03-21T16:46:04.428Z"
   },
   {
    "duration": 73,
    "start_time": "2022-03-21T16:46:43.938Z"
   },
   {
    "duration": 81,
    "start_time": "2022-03-21T16:47:58.224Z"
   },
   {
    "duration": 81,
    "start_time": "2022-03-21T16:54:39.529Z"
   },
   {
    "duration": 1317,
    "start_time": "2022-03-21T17:22:21.990Z"
   },
   {
    "duration": 155,
    "start_time": "2022-03-21T17:22:23.309Z"
   },
   {
    "duration": 0,
    "start_time": "2022-03-21T17:22:23.467Z"
   },
   {
    "duration": 0,
    "start_time": "2022-03-21T17:22:23.468Z"
   },
   {
    "duration": 0,
    "start_time": "2022-03-21T17:22:23.470Z"
   },
   {
    "duration": 0,
    "start_time": "2022-03-21T17:22:23.471Z"
   },
   {
    "duration": 0,
    "start_time": "2022-03-21T17:22:23.472Z"
   },
   {
    "duration": 0,
    "start_time": "2022-03-21T17:22:23.474Z"
   },
   {
    "duration": 0,
    "start_time": "2022-03-21T17:22:23.475Z"
   },
   {
    "duration": 0,
    "start_time": "2022-03-21T17:22:23.476Z"
   },
   {
    "duration": 0,
    "start_time": "2022-03-21T17:22:23.478Z"
   },
   {
    "duration": 0,
    "start_time": "2022-03-21T17:22:23.479Z"
   },
   {
    "duration": 1,
    "start_time": "2022-03-21T17:22:23.479Z"
   },
   {
    "duration": 0,
    "start_time": "2022-03-21T17:22:23.481Z"
   },
   {
    "duration": 0,
    "start_time": "2022-03-21T17:22:23.482Z"
   },
   {
    "duration": 0,
    "start_time": "2022-03-21T17:22:23.483Z"
   },
   {
    "duration": 0,
    "start_time": "2022-03-21T17:22:23.485Z"
   },
   {
    "duration": 0,
    "start_time": "2022-03-21T17:22:23.486Z"
   },
   {
    "duration": 0,
    "start_time": "2022-03-21T17:22:23.487Z"
   },
   {
    "duration": 748,
    "start_time": "2022-03-21T17:24:08.011Z"
   },
   {
    "duration": 1435,
    "start_time": "2022-03-21T17:24:13.353Z"
   },
   {
    "duration": 664,
    "start_time": "2022-03-21T17:24:14.791Z"
   },
   {
    "duration": 526,
    "start_time": "2022-03-21T17:24:15.458Z"
   },
   {
    "duration": 690,
    "start_time": "2022-03-21T17:24:15.985Z"
   },
   {
    "duration": 144,
    "start_time": "2022-03-21T17:24:16.679Z"
   },
   {
    "duration": 124,
    "start_time": "2022-03-21T17:24:16.825Z"
   },
   {
    "duration": 459,
    "start_time": "2022-03-21T17:24:16.950Z"
   },
   {
    "duration": 232,
    "start_time": "2022-03-21T17:24:17.411Z"
   },
   {
    "duration": 61,
    "start_time": "2022-03-21T17:24:17.645Z"
   },
   {
    "duration": 24,
    "start_time": "2022-03-21T17:24:17.708Z"
   },
   {
    "duration": 94,
    "start_time": "2022-03-21T17:24:17.734Z"
   },
   {
    "duration": 239,
    "start_time": "2022-03-21T17:24:17.830Z"
   },
   {
    "duration": 38,
    "start_time": "2022-03-21T17:24:18.071Z"
   },
   {
    "duration": 18,
    "start_time": "2022-03-21T17:24:18.113Z"
   },
   {
    "duration": 26,
    "start_time": "2022-03-21T17:24:18.133Z"
   },
   {
    "duration": 46,
    "start_time": "2022-03-21T17:24:18.162Z"
   },
   {
    "duration": 476,
    "start_time": "2022-03-21T17:24:18.210Z"
   },
   {
    "duration": 33,
    "start_time": "2022-03-21T17:24:18.688Z"
   },
   {
    "duration": 174,
    "start_time": "2022-03-21T17:24:18.723Z"
   },
   {
    "duration": 741,
    "start_time": "2022-03-21T17:25:57.900Z"
   },
   {
    "duration": 648,
    "start_time": "2022-03-21T17:26:08.377Z"
   },
   {
    "duration": 1427,
    "start_time": "2022-03-21T17:26:17.082Z"
   },
   {
    "duration": 650,
    "start_time": "2022-03-21T17:26:18.511Z"
   },
   {
    "duration": 450,
    "start_time": "2022-03-21T17:26:19.163Z"
   },
   {
    "duration": 734,
    "start_time": "2022-03-21T17:26:19.617Z"
   },
   {
    "duration": 93,
    "start_time": "2022-03-21T17:26:20.353Z"
   },
   {
    "duration": 164,
    "start_time": "2022-03-21T17:26:20.448Z"
   },
   {
    "duration": 469,
    "start_time": "2022-03-21T17:26:20.614Z"
   },
   {
    "duration": 225,
    "start_time": "2022-03-21T17:26:21.085Z"
   },
   {
    "duration": 48,
    "start_time": "2022-03-21T17:26:21.312Z"
   },
   {
    "duration": 50,
    "start_time": "2022-03-21T17:26:21.363Z"
   },
   {
    "duration": 88,
    "start_time": "2022-03-21T17:26:21.414Z"
   },
   {
    "duration": 238,
    "start_time": "2022-03-21T17:26:21.504Z"
   },
   {
    "duration": 24,
    "start_time": "2022-03-21T17:26:21.744Z"
   },
   {
    "duration": 13,
    "start_time": "2022-03-21T17:26:21.770Z"
   },
   {
    "duration": 31,
    "start_time": "2022-03-21T17:26:21.786Z"
   },
   {
    "duration": 29,
    "start_time": "2022-03-21T17:26:21.819Z"
   },
   {
    "duration": 510,
    "start_time": "2022-03-21T17:26:21.850Z"
   },
   {
    "duration": 52,
    "start_time": "2022-03-21T17:26:22.362Z"
   },
   {
    "duration": 166,
    "start_time": "2022-03-21T17:26:22.417Z"
   },
   {
    "duration": 1494,
    "start_time": "2022-03-26T15:03:49.534Z"
   },
   {
    "duration": 608,
    "start_time": "2022-03-26T15:03:51.031Z"
   },
   {
    "duration": 473,
    "start_time": "2022-03-26T15:03:51.641Z"
   },
   {
    "duration": 499,
    "start_time": "2022-03-26T15:03:52.116Z"
   },
   {
    "duration": 102,
    "start_time": "2022-03-26T15:03:52.617Z"
   },
   {
    "duration": 119,
    "start_time": "2022-03-26T15:03:52.721Z"
   },
   {
    "duration": 400,
    "start_time": "2022-03-26T15:03:52.842Z"
   },
   {
    "duration": 216,
    "start_time": "2022-03-26T15:03:53.244Z"
   },
   {
    "duration": 53,
    "start_time": "2022-03-26T15:03:53.461Z"
   },
   {
    "duration": 26,
    "start_time": "2022-03-26T15:03:53.517Z"
   },
   {
    "duration": 92,
    "start_time": "2022-03-26T15:03:53.545Z"
   },
   {
    "duration": 190,
    "start_time": "2022-03-26T15:03:53.639Z"
   },
   {
    "duration": 26,
    "start_time": "2022-03-26T15:03:53.831Z"
   },
   {
    "duration": 13,
    "start_time": "2022-03-26T15:03:53.859Z"
   },
   {
    "duration": 41,
    "start_time": "2022-03-26T15:03:53.874Z"
   },
   {
    "duration": 18,
    "start_time": "2022-03-26T15:03:53.918Z"
   },
   {
    "duration": 419,
    "start_time": "2022-03-26T15:03:53.939Z"
   },
   {
    "duration": 23,
    "start_time": "2022-03-26T15:03:54.360Z"
   },
   {
    "duration": 161,
    "start_time": "2022-03-26T15:03:54.385Z"
   },
   {
    "duration": 205,
    "start_time": "2022-03-26T15:11:53.382Z"
   },
   {
    "duration": 243,
    "start_time": "2022-03-26T15:14:17.374Z"
   },
   {
    "duration": 213,
    "start_time": "2022-03-26T15:16:58.646Z"
   },
   {
    "duration": 231,
    "start_time": "2022-03-26T15:20:42.719Z"
   }
  ],
  "kernelspec": {
   "display_name": "Python 3 (ipykernel)",
   "language": "python",
   "name": "python3"
  },
  "language_info": {
   "codemirror_mode": {
    "name": "ipython",
    "version": 3
   },
   "file_extension": ".py",
   "mimetype": "text/x-python",
   "name": "python",
   "nbconvert_exporter": "python",
   "pygments_lexer": "ipython3",
   "version": "3.9.7"
  },
  "toc": {
   "base_numbering": 1,
   "nav_menu": {},
   "number_sections": true,
   "sideBar": true,
   "skip_h1_title": true,
   "title_cell": "Table of Contents",
   "title_sidebar": "Contents",
   "toc_cell": false,
   "toc_position": {},
   "toc_section_display": true,
   "toc_window_display": false
  }
 },
 "nbformat": 4,
 "nbformat_minor": 2
}
