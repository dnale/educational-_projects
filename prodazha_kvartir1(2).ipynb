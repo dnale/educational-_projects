{
 "cells": [
  {
   "cell_type": "markdown",
   "metadata": {},
   "source": [
    "# Исследование объявлений о продаже квартир\n",
    "\n",
    "В нашем распоряжении находится архив объявлений о продаже квартир в Санкт-Петербурге и пригорадах.\n",
    "\n",
    "Надо определить рыночную стоймость недвижимости.\n",
    "\n",
    "Зависимость стоймости от различных факторов"
   ]
  },
  {
   "cell_type": "markdown",
   "metadata": {},
   "source": [
    "## Изучение данных из файла"
   ]
  },
  {
   "cell_type": "code",
   "execution_count": 1,
   "metadata": {},
   "outputs": [],
   "source": [
    "import pandas as pd\n",
    "import numpy as np"
   ]
  },
  {
   "cell_type": "code",
   "execution_count": 2,
   "metadata": {
    "scrolled": false
   },
   "outputs": [
    {
     "name": "stdout",
     "output_type": "stream",
     "text": [
      "<class 'pandas.core.frame.DataFrame'>\n",
      "RangeIndex: 23699 entries, 0 to 23698\n",
      "Data columns (total 22 columns):\n",
      " #   Column                Non-Null Count  Dtype  \n",
      "---  ------                --------------  -----  \n",
      " 0   total_images          23699 non-null  int64  \n",
      " 1   last_price            23699 non-null  float64\n",
      " 2   total_area            23699 non-null  float64\n",
      " 3   first_day_exposition  23699 non-null  object \n",
      " 4   rooms                 23699 non-null  int64  \n",
      " 5   ceiling_height        14504 non-null  float64\n",
      " 6   floors_total          23613 non-null  float64\n",
      " 7   living_area           21796 non-null  float64\n",
      " 8   floor                 23699 non-null  int64  \n",
      " 9   is_apartment          2775 non-null   object \n",
      " 10  studio                23699 non-null  bool   \n",
      " 11  open_plan             23699 non-null  bool   \n",
      " 12  kitchen_area          21421 non-null  float64\n",
      " 13  balcony               12180 non-null  float64\n",
      " 14  locality_name         23650 non-null  object \n",
      " 15  airports_nearest      18157 non-null  float64\n",
      " 16  cityCenters_nearest   18180 non-null  float64\n",
      " 17  parks_around3000      18181 non-null  float64\n",
      " 18  parks_nearest         8079 non-null   float64\n",
      " 19  ponds_around3000      18181 non-null  float64\n",
      " 20  ponds_nearest         9110 non-null   float64\n",
      " 21  days_exposition       20518 non-null  float64\n",
      "dtypes: bool(2), float64(14), int64(3), object(3)\n",
      "memory usage: 3.7+ MB\n"
     ]
    },
    {
     "data": {
      "text/html": [
       "<div>\n",
       "<style scoped>\n",
       "    .dataframe tbody tr th:only-of-type {\n",
       "        vertical-align: middle;\n",
       "    }\n",
       "\n",
       "    .dataframe tbody tr th {\n",
       "        vertical-align: top;\n",
       "    }\n",
       "\n",
       "    .dataframe thead th {\n",
       "        text-align: right;\n",
       "    }\n",
       "</style>\n",
       "<table border=\"1\" class=\"dataframe\">\n",
       "  <thead>\n",
       "    <tr style=\"text-align: right;\">\n",
       "      <th></th>\n",
       "      <th>total_images</th>\n",
       "      <th>last_price</th>\n",
       "      <th>total_area</th>\n",
       "      <th>first_day_exposition</th>\n",
       "      <th>rooms</th>\n",
       "      <th>ceiling_height</th>\n",
       "      <th>floors_total</th>\n",
       "      <th>living_area</th>\n",
       "      <th>floor</th>\n",
       "      <th>is_apartment</th>\n",
       "      <th>...</th>\n",
       "      <th>kitchen_area</th>\n",
       "      <th>balcony</th>\n",
       "      <th>locality_name</th>\n",
       "      <th>airports_nearest</th>\n",
       "      <th>cityCenters_nearest</th>\n",
       "      <th>parks_around3000</th>\n",
       "      <th>parks_nearest</th>\n",
       "      <th>ponds_around3000</th>\n",
       "      <th>ponds_nearest</th>\n",
       "      <th>days_exposition</th>\n",
       "    </tr>\n",
       "  </thead>\n",
       "  <tbody>\n",
       "    <tr>\n",
       "      <th>0</th>\n",
       "      <td>20</td>\n",
       "      <td>13000000.0</td>\n",
       "      <td>108.00</td>\n",
       "      <td>2019-03-07T00:00:00</td>\n",
       "      <td>3</td>\n",
       "      <td>2.70</td>\n",
       "      <td>16.0</td>\n",
       "      <td>51.00</td>\n",
       "      <td>8</td>\n",
       "      <td>NaN</td>\n",
       "      <td>...</td>\n",
       "      <td>25.00</td>\n",
       "      <td>NaN</td>\n",
       "      <td>Санкт-Петербург</td>\n",
       "      <td>18863.0</td>\n",
       "      <td>16028.0</td>\n",
       "      <td>1.0</td>\n",
       "      <td>482.0</td>\n",
       "      <td>2.0</td>\n",
       "      <td>755.0</td>\n",
       "      <td>NaN</td>\n",
       "    </tr>\n",
       "    <tr>\n",
       "      <th>1</th>\n",
       "      <td>7</td>\n",
       "      <td>3350000.0</td>\n",
       "      <td>40.40</td>\n",
       "      <td>2018-12-04T00:00:00</td>\n",
       "      <td>1</td>\n",
       "      <td>NaN</td>\n",
       "      <td>11.0</td>\n",
       "      <td>18.60</td>\n",
       "      <td>1</td>\n",
       "      <td>NaN</td>\n",
       "      <td>...</td>\n",
       "      <td>11.00</td>\n",
       "      <td>2.0</td>\n",
       "      <td>посёлок Шушары</td>\n",
       "      <td>12817.0</td>\n",
       "      <td>18603.0</td>\n",
       "      <td>0.0</td>\n",
       "      <td>NaN</td>\n",
       "      <td>0.0</td>\n",
       "      <td>NaN</td>\n",
       "      <td>81.0</td>\n",
       "    </tr>\n",
       "    <tr>\n",
       "      <th>2</th>\n",
       "      <td>10</td>\n",
       "      <td>5196000.0</td>\n",
       "      <td>56.00</td>\n",
       "      <td>2015-08-20T00:00:00</td>\n",
       "      <td>2</td>\n",
       "      <td>NaN</td>\n",
       "      <td>5.0</td>\n",
       "      <td>34.30</td>\n",
       "      <td>4</td>\n",
       "      <td>NaN</td>\n",
       "      <td>...</td>\n",
       "      <td>8.30</td>\n",
       "      <td>0.0</td>\n",
       "      <td>Санкт-Петербург</td>\n",
       "      <td>21741.0</td>\n",
       "      <td>13933.0</td>\n",
       "      <td>1.0</td>\n",
       "      <td>90.0</td>\n",
       "      <td>2.0</td>\n",
       "      <td>574.0</td>\n",
       "      <td>558.0</td>\n",
       "    </tr>\n",
       "    <tr>\n",
       "      <th>3</th>\n",
       "      <td>0</td>\n",
       "      <td>64900000.0</td>\n",
       "      <td>159.00</td>\n",
       "      <td>2015-07-24T00:00:00</td>\n",
       "      <td>3</td>\n",
       "      <td>NaN</td>\n",
       "      <td>14.0</td>\n",
       "      <td>NaN</td>\n",
       "      <td>9</td>\n",
       "      <td>NaN</td>\n",
       "      <td>...</td>\n",
       "      <td>NaN</td>\n",
       "      <td>0.0</td>\n",
       "      <td>Санкт-Петербург</td>\n",
       "      <td>28098.0</td>\n",
       "      <td>6800.0</td>\n",
       "      <td>2.0</td>\n",
       "      <td>84.0</td>\n",
       "      <td>3.0</td>\n",
       "      <td>234.0</td>\n",
       "      <td>424.0</td>\n",
       "    </tr>\n",
       "    <tr>\n",
       "      <th>4</th>\n",
       "      <td>2</td>\n",
       "      <td>10000000.0</td>\n",
       "      <td>100.00</td>\n",
       "      <td>2018-06-19T00:00:00</td>\n",
       "      <td>2</td>\n",
       "      <td>3.03</td>\n",
       "      <td>14.0</td>\n",
       "      <td>32.00</td>\n",
       "      <td>13</td>\n",
       "      <td>NaN</td>\n",
       "      <td>...</td>\n",
       "      <td>41.00</td>\n",
       "      <td>NaN</td>\n",
       "      <td>Санкт-Петербург</td>\n",
       "      <td>31856.0</td>\n",
       "      <td>8098.0</td>\n",
       "      <td>2.0</td>\n",
       "      <td>112.0</td>\n",
       "      <td>1.0</td>\n",
       "      <td>48.0</td>\n",
       "      <td>121.0</td>\n",
       "    </tr>\n",
       "    <tr>\n",
       "      <th>5</th>\n",
       "      <td>10</td>\n",
       "      <td>2890000.0</td>\n",
       "      <td>30.40</td>\n",
       "      <td>2018-09-10T00:00:00</td>\n",
       "      <td>1</td>\n",
       "      <td>NaN</td>\n",
       "      <td>12.0</td>\n",
       "      <td>14.40</td>\n",
       "      <td>5</td>\n",
       "      <td>NaN</td>\n",
       "      <td>...</td>\n",
       "      <td>9.10</td>\n",
       "      <td>NaN</td>\n",
       "      <td>городской посёлок Янино-1</td>\n",
       "      <td>NaN</td>\n",
       "      <td>NaN</td>\n",
       "      <td>NaN</td>\n",
       "      <td>NaN</td>\n",
       "      <td>NaN</td>\n",
       "      <td>NaN</td>\n",
       "      <td>55.0</td>\n",
       "    </tr>\n",
       "    <tr>\n",
       "      <th>6</th>\n",
       "      <td>6</td>\n",
       "      <td>3700000.0</td>\n",
       "      <td>37.30</td>\n",
       "      <td>2017-11-02T00:00:00</td>\n",
       "      <td>1</td>\n",
       "      <td>NaN</td>\n",
       "      <td>26.0</td>\n",
       "      <td>10.60</td>\n",
       "      <td>6</td>\n",
       "      <td>NaN</td>\n",
       "      <td>...</td>\n",
       "      <td>14.40</td>\n",
       "      <td>1.0</td>\n",
       "      <td>посёлок Парголово</td>\n",
       "      <td>52996.0</td>\n",
       "      <td>19143.0</td>\n",
       "      <td>0.0</td>\n",
       "      <td>NaN</td>\n",
       "      <td>0.0</td>\n",
       "      <td>NaN</td>\n",
       "      <td>155.0</td>\n",
       "    </tr>\n",
       "    <tr>\n",
       "      <th>7</th>\n",
       "      <td>5</td>\n",
       "      <td>7915000.0</td>\n",
       "      <td>71.60</td>\n",
       "      <td>2019-04-18T00:00:00</td>\n",
       "      <td>2</td>\n",
       "      <td>NaN</td>\n",
       "      <td>24.0</td>\n",
       "      <td>NaN</td>\n",
       "      <td>22</td>\n",
       "      <td>NaN</td>\n",
       "      <td>...</td>\n",
       "      <td>18.90</td>\n",
       "      <td>2.0</td>\n",
       "      <td>Санкт-Петербург</td>\n",
       "      <td>23982.0</td>\n",
       "      <td>11634.0</td>\n",
       "      <td>0.0</td>\n",
       "      <td>NaN</td>\n",
       "      <td>0.0</td>\n",
       "      <td>NaN</td>\n",
       "      <td>NaN</td>\n",
       "    </tr>\n",
       "    <tr>\n",
       "      <th>8</th>\n",
       "      <td>20</td>\n",
       "      <td>2900000.0</td>\n",
       "      <td>33.16</td>\n",
       "      <td>2018-05-23T00:00:00</td>\n",
       "      <td>1</td>\n",
       "      <td>NaN</td>\n",
       "      <td>27.0</td>\n",
       "      <td>15.43</td>\n",
       "      <td>26</td>\n",
       "      <td>NaN</td>\n",
       "      <td>...</td>\n",
       "      <td>8.81</td>\n",
       "      <td>NaN</td>\n",
       "      <td>посёлок Мурино</td>\n",
       "      <td>NaN</td>\n",
       "      <td>NaN</td>\n",
       "      <td>NaN</td>\n",
       "      <td>NaN</td>\n",
       "      <td>NaN</td>\n",
       "      <td>NaN</td>\n",
       "      <td>189.0</td>\n",
       "    </tr>\n",
       "    <tr>\n",
       "      <th>9</th>\n",
       "      <td>18</td>\n",
       "      <td>5400000.0</td>\n",
       "      <td>61.00</td>\n",
       "      <td>2017-02-26T00:00:00</td>\n",
       "      <td>3</td>\n",
       "      <td>2.50</td>\n",
       "      <td>9.0</td>\n",
       "      <td>43.60</td>\n",
       "      <td>7</td>\n",
       "      <td>NaN</td>\n",
       "      <td>...</td>\n",
       "      <td>6.50</td>\n",
       "      <td>2.0</td>\n",
       "      <td>Санкт-Петербург</td>\n",
       "      <td>50898.0</td>\n",
       "      <td>15008.0</td>\n",
       "      <td>0.0</td>\n",
       "      <td>NaN</td>\n",
       "      <td>0.0</td>\n",
       "      <td>NaN</td>\n",
       "      <td>289.0</td>\n",
       "    </tr>\n",
       "    <tr>\n",
       "      <th>10</th>\n",
       "      <td>5</td>\n",
       "      <td>5050000.0</td>\n",
       "      <td>39.60</td>\n",
       "      <td>2017-11-16T00:00:00</td>\n",
       "      <td>1</td>\n",
       "      <td>2.67</td>\n",
       "      <td>12.0</td>\n",
       "      <td>20.30</td>\n",
       "      <td>3</td>\n",
       "      <td>NaN</td>\n",
       "      <td>...</td>\n",
       "      <td>8.50</td>\n",
       "      <td>NaN</td>\n",
       "      <td>Санкт-Петербург</td>\n",
       "      <td>38357.0</td>\n",
       "      <td>13878.0</td>\n",
       "      <td>1.0</td>\n",
       "      <td>310.0</td>\n",
       "      <td>2.0</td>\n",
       "      <td>553.0</td>\n",
       "      <td>137.0</td>\n",
       "    </tr>\n",
       "    <tr>\n",
       "      <th>11</th>\n",
       "      <td>9</td>\n",
       "      <td>3300000.0</td>\n",
       "      <td>44.00</td>\n",
       "      <td>2018-08-27T00:00:00</td>\n",
       "      <td>2</td>\n",
       "      <td>NaN</td>\n",
       "      <td>5.0</td>\n",
       "      <td>31.00</td>\n",
       "      <td>4</td>\n",
       "      <td>False</td>\n",
       "      <td>...</td>\n",
       "      <td>6.00</td>\n",
       "      <td>1.0</td>\n",
       "      <td>Ломоносов</td>\n",
       "      <td>48252.0</td>\n",
       "      <td>51677.0</td>\n",
       "      <td>0.0</td>\n",
       "      <td>NaN</td>\n",
       "      <td>0.0</td>\n",
       "      <td>NaN</td>\n",
       "      <td>7.0</td>\n",
       "    </tr>\n",
       "    <tr>\n",
       "      <th>12</th>\n",
       "      <td>10</td>\n",
       "      <td>3890000.0</td>\n",
       "      <td>54.00</td>\n",
       "      <td>2016-06-30T00:00:00</td>\n",
       "      <td>2</td>\n",
       "      <td>NaN</td>\n",
       "      <td>5.0</td>\n",
       "      <td>30.00</td>\n",
       "      <td>5</td>\n",
       "      <td>NaN</td>\n",
       "      <td>...</td>\n",
       "      <td>9.00</td>\n",
       "      <td>0.0</td>\n",
       "      <td>Сертолово</td>\n",
       "      <td>NaN</td>\n",
       "      <td>NaN</td>\n",
       "      <td>NaN</td>\n",
       "      <td>NaN</td>\n",
       "      <td>NaN</td>\n",
       "      <td>NaN</td>\n",
       "      <td>90.0</td>\n",
       "    </tr>\n",
       "    <tr>\n",
       "      <th>13</th>\n",
       "      <td>20</td>\n",
       "      <td>3550000.0</td>\n",
       "      <td>42.80</td>\n",
       "      <td>2017-07-01T00:00:00</td>\n",
       "      <td>2</td>\n",
       "      <td>2.56</td>\n",
       "      <td>5.0</td>\n",
       "      <td>27.00</td>\n",
       "      <td>5</td>\n",
       "      <td>NaN</td>\n",
       "      <td>...</td>\n",
       "      <td>5.20</td>\n",
       "      <td>1.0</td>\n",
       "      <td>Петергоф</td>\n",
       "      <td>37868.0</td>\n",
       "      <td>33058.0</td>\n",
       "      <td>1.0</td>\n",
       "      <td>294.0</td>\n",
       "      <td>3.0</td>\n",
       "      <td>298.0</td>\n",
       "      <td>366.0</td>\n",
       "    </tr>\n",
       "    <tr>\n",
       "      <th>14</th>\n",
       "      <td>1</td>\n",
       "      <td>4400000.0</td>\n",
       "      <td>36.00</td>\n",
       "      <td>2016-06-23T00:00:00</td>\n",
       "      <td>1</td>\n",
       "      <td>NaN</td>\n",
       "      <td>6.0</td>\n",
       "      <td>17.00</td>\n",
       "      <td>1</td>\n",
       "      <td>NaN</td>\n",
       "      <td>...</td>\n",
       "      <td>8.00</td>\n",
       "      <td>0.0</td>\n",
       "      <td>Пушкин</td>\n",
       "      <td>20782.0</td>\n",
       "      <td>30759.0</td>\n",
       "      <td>0.0</td>\n",
       "      <td>NaN</td>\n",
       "      <td>1.0</td>\n",
       "      <td>96.0</td>\n",
       "      <td>203.0</td>\n",
       "    </tr>\n",
       "  </tbody>\n",
       "</table>\n",
       "<p>15 rows × 22 columns</p>\n",
       "</div>"
      ],
      "text/plain": [
       "    total_images  last_price  total_area first_day_exposition  rooms  \\\n",
       "0             20  13000000.0      108.00  2019-03-07T00:00:00      3   \n",
       "1              7   3350000.0       40.40  2018-12-04T00:00:00      1   \n",
       "2             10   5196000.0       56.00  2015-08-20T00:00:00      2   \n",
       "3              0  64900000.0      159.00  2015-07-24T00:00:00      3   \n",
       "4              2  10000000.0      100.00  2018-06-19T00:00:00      2   \n",
       "5             10   2890000.0       30.40  2018-09-10T00:00:00      1   \n",
       "6              6   3700000.0       37.30  2017-11-02T00:00:00      1   \n",
       "7              5   7915000.0       71.60  2019-04-18T00:00:00      2   \n",
       "8             20   2900000.0       33.16  2018-05-23T00:00:00      1   \n",
       "9             18   5400000.0       61.00  2017-02-26T00:00:00      3   \n",
       "10             5   5050000.0       39.60  2017-11-16T00:00:00      1   \n",
       "11             9   3300000.0       44.00  2018-08-27T00:00:00      2   \n",
       "12            10   3890000.0       54.00  2016-06-30T00:00:00      2   \n",
       "13            20   3550000.0       42.80  2017-07-01T00:00:00      2   \n",
       "14             1   4400000.0       36.00  2016-06-23T00:00:00      1   \n",
       "\n",
       "    ceiling_height  floors_total  living_area  floor is_apartment  ...  \\\n",
       "0             2.70          16.0        51.00      8          NaN  ...   \n",
       "1              NaN          11.0        18.60      1          NaN  ...   \n",
       "2              NaN           5.0        34.30      4          NaN  ...   \n",
       "3              NaN          14.0          NaN      9          NaN  ...   \n",
       "4             3.03          14.0        32.00     13          NaN  ...   \n",
       "5              NaN          12.0        14.40      5          NaN  ...   \n",
       "6              NaN          26.0        10.60      6          NaN  ...   \n",
       "7              NaN          24.0          NaN     22          NaN  ...   \n",
       "8              NaN          27.0        15.43     26          NaN  ...   \n",
       "9             2.50           9.0        43.60      7          NaN  ...   \n",
       "10            2.67          12.0        20.30      3          NaN  ...   \n",
       "11             NaN           5.0        31.00      4        False  ...   \n",
       "12             NaN           5.0        30.00      5          NaN  ...   \n",
       "13            2.56           5.0        27.00      5          NaN  ...   \n",
       "14             NaN           6.0        17.00      1          NaN  ...   \n",
       "\n",
       "    kitchen_area  balcony              locality_name  airports_nearest  \\\n",
       "0          25.00      NaN            Санкт-Петербург           18863.0   \n",
       "1          11.00      2.0             посёлок Шушары           12817.0   \n",
       "2           8.30      0.0            Санкт-Петербург           21741.0   \n",
       "3            NaN      0.0            Санкт-Петербург           28098.0   \n",
       "4          41.00      NaN            Санкт-Петербург           31856.0   \n",
       "5           9.10      NaN  городской посёлок Янино-1               NaN   \n",
       "6          14.40      1.0          посёлок Парголово           52996.0   \n",
       "7          18.90      2.0            Санкт-Петербург           23982.0   \n",
       "8           8.81      NaN             посёлок Мурино               NaN   \n",
       "9           6.50      2.0            Санкт-Петербург           50898.0   \n",
       "10          8.50      NaN            Санкт-Петербург           38357.0   \n",
       "11          6.00      1.0                  Ломоносов           48252.0   \n",
       "12          9.00      0.0                  Сертолово               NaN   \n",
       "13          5.20      1.0                   Петергоф           37868.0   \n",
       "14          8.00      0.0                     Пушкин           20782.0   \n",
       "\n",
       "   cityCenters_nearest  parks_around3000  parks_nearest  ponds_around3000  \\\n",
       "0              16028.0               1.0          482.0               2.0   \n",
       "1              18603.0               0.0            NaN               0.0   \n",
       "2              13933.0               1.0           90.0               2.0   \n",
       "3               6800.0               2.0           84.0               3.0   \n",
       "4               8098.0               2.0          112.0               1.0   \n",
       "5                  NaN               NaN            NaN               NaN   \n",
       "6              19143.0               0.0            NaN               0.0   \n",
       "7              11634.0               0.0            NaN               0.0   \n",
       "8                  NaN               NaN            NaN               NaN   \n",
       "9              15008.0               0.0            NaN               0.0   \n",
       "10             13878.0               1.0          310.0               2.0   \n",
       "11             51677.0               0.0            NaN               0.0   \n",
       "12                 NaN               NaN            NaN               NaN   \n",
       "13             33058.0               1.0          294.0               3.0   \n",
       "14             30759.0               0.0            NaN               1.0   \n",
       "\n",
       "    ponds_nearest  days_exposition  \n",
       "0           755.0              NaN  \n",
       "1             NaN             81.0  \n",
       "2           574.0            558.0  \n",
       "3           234.0            424.0  \n",
       "4            48.0            121.0  \n",
       "5             NaN             55.0  \n",
       "6             NaN            155.0  \n",
       "7             NaN              NaN  \n",
       "8             NaN            189.0  \n",
       "9             NaN            289.0  \n",
       "10          553.0            137.0  \n",
       "11            NaN              7.0  \n",
       "12            NaN             90.0  \n",
       "13          298.0            366.0  \n",
       "14           96.0            203.0  \n",
       "\n",
       "[15 rows x 22 columns]"
      ]
     },
     "execution_count": 2,
     "metadata": {},
     "output_type": "execute_result"
    }
   ],
   "source": [
    "\n",
    "data = pd.read_csv('/datasets/real_estate_data.csv', sep='\\t')\n",
    "data.info()\n",
    "data.head(15)"
   ]
  },
  {
   "cell_type": "markdown",
   "metadata": {},
   "source": [
    "### Вывод"
   ]
  },
  {
   "cell_type": "markdown",
   "metadata": {},
   "source": [
    "Названия столбцов написаны корректно. В некоторых столбцах есть пропуски. Так же в некоторых столбцах надо поменять тип данных"
   ]
  },
  {
   "cell_type": "markdown",
   "metadata": {},
   "source": [
    "## Предобработка данных"
   ]
  },
  {
   "cell_type": "markdown",
   "metadata": {},
   "source": [
    "Видим достаточно много пропущеных данных. Пропущеные значения в столбце balcony можно заменить на 0.\n",
    "Так как пропуски скорее всего обозначают отсутствие балконов. Так же пропуски в столбце ceiling_height можно заменить\n",
    "медианным значением. Потому, что вцелом показатели давольно близки по значениям, но что бы исключить влияние возможных пиковых значений применяю медианну. Пропуски в других столбцах заполнять не будем. Так как не найти значения на замену."
   ]
  },
  {
   "cell_type": "code",
   "execution_count": 3,
   "metadata": {},
   "outputs": [
    {
     "name": "stdout",
     "output_type": "stream",
     "text": [
      "total_images                0\n",
      "last_price                  0\n",
      "total_area                  0\n",
      "first_day_exposition        0\n",
      "rooms                       0\n",
      "ceiling_height           9195\n",
      "floors_total               86\n",
      "living_area              1903\n",
      "floor                       0\n",
      "is_apartment            20924\n",
      "studio                      0\n",
      "open_plan                   0\n",
      "kitchen_area             2278\n",
      "balcony                 11519\n",
      "locality_name              49\n",
      "airports_nearest         5542\n",
      "cityCenters_nearest      5519\n",
      "parks_around3000         5518\n",
      "parks_nearest           15620\n",
      "ponds_around3000         5518\n",
      "ponds_nearest           14589\n",
      "days_exposition          3181\n",
      "dtype: int64\n"
     ]
    }
   ],
   "source": [
    "print(data.isna().sum())\n"
   ]
  },
  {
   "cell_type": "code",
   "execution_count": 4,
   "metadata": {
    "scrolled": false
   },
   "outputs": [
    {
     "data": {
      "text/html": [
       "<div>\n",
       "<style scoped>\n",
       "    .dataframe tbody tr th:only-of-type {\n",
       "        vertical-align: middle;\n",
       "    }\n",
       "\n",
       "    .dataframe tbody tr th {\n",
       "        vertical-align: top;\n",
       "    }\n",
       "\n",
       "    .dataframe thead th {\n",
       "        text-align: right;\n",
       "    }\n",
       "</style>\n",
       "<table border=\"1\" class=\"dataframe\">\n",
       "  <thead>\n",
       "    <tr style=\"text-align: right;\">\n",
       "      <th></th>\n",
       "      <th>total_images</th>\n",
       "      <th>last_price</th>\n",
       "      <th>total_area</th>\n",
       "      <th>first_day_exposition</th>\n",
       "      <th>rooms</th>\n",
       "      <th>ceiling_height</th>\n",
       "      <th>floors_total</th>\n",
       "      <th>living_area</th>\n",
       "      <th>floor</th>\n",
       "      <th>is_apartment</th>\n",
       "      <th>...</th>\n",
       "      <th>kitchen_area</th>\n",
       "      <th>balcony</th>\n",
       "      <th>locality_name</th>\n",
       "      <th>airports_nearest</th>\n",
       "      <th>cityCenters_nearest</th>\n",
       "      <th>parks_around3000</th>\n",
       "      <th>parks_nearest</th>\n",
       "      <th>ponds_around3000</th>\n",
       "      <th>ponds_nearest</th>\n",
       "      <th>days_exposition</th>\n",
       "    </tr>\n",
       "  </thead>\n",
       "  <tbody>\n",
       "    <tr>\n",
       "      <th>0</th>\n",
       "      <td>20</td>\n",
       "      <td>13000000.0</td>\n",
       "      <td>108.00</td>\n",
       "      <td>2019-03-07T00:00:00</td>\n",
       "      <td>3</td>\n",
       "      <td>2.70</td>\n",
       "      <td>16.0</td>\n",
       "      <td>51.00</td>\n",
       "      <td>8</td>\n",
       "      <td>NaN</td>\n",
       "      <td>...</td>\n",
       "      <td>25.00</td>\n",
       "      <td>0.0</td>\n",
       "      <td>Санкт-Петербург</td>\n",
       "      <td>18863.0</td>\n",
       "      <td>16028.0</td>\n",
       "      <td>1.0</td>\n",
       "      <td>482.0</td>\n",
       "      <td>2.0</td>\n",
       "      <td>755.0</td>\n",
       "      <td>NaN</td>\n",
       "    </tr>\n",
       "    <tr>\n",
       "      <th>1</th>\n",
       "      <td>7</td>\n",
       "      <td>3350000.0</td>\n",
       "      <td>40.40</td>\n",
       "      <td>2018-12-04T00:00:00</td>\n",
       "      <td>1</td>\n",
       "      <td>2.64</td>\n",
       "      <td>11.0</td>\n",
       "      <td>18.60</td>\n",
       "      <td>1</td>\n",
       "      <td>NaN</td>\n",
       "      <td>...</td>\n",
       "      <td>11.00</td>\n",
       "      <td>2.0</td>\n",
       "      <td>посёлок Шушары</td>\n",
       "      <td>12817.0</td>\n",
       "      <td>18603.0</td>\n",
       "      <td>0.0</td>\n",
       "      <td>NaN</td>\n",
       "      <td>0.0</td>\n",
       "      <td>NaN</td>\n",
       "      <td>81.0</td>\n",
       "    </tr>\n",
       "    <tr>\n",
       "      <th>2</th>\n",
       "      <td>10</td>\n",
       "      <td>5196000.0</td>\n",
       "      <td>56.00</td>\n",
       "      <td>2015-08-20T00:00:00</td>\n",
       "      <td>2</td>\n",
       "      <td>2.60</td>\n",
       "      <td>5.0</td>\n",
       "      <td>34.30</td>\n",
       "      <td>4</td>\n",
       "      <td>NaN</td>\n",
       "      <td>...</td>\n",
       "      <td>8.30</td>\n",
       "      <td>0.0</td>\n",
       "      <td>Санкт-Петербург</td>\n",
       "      <td>21741.0</td>\n",
       "      <td>13933.0</td>\n",
       "      <td>1.0</td>\n",
       "      <td>90.0</td>\n",
       "      <td>2.0</td>\n",
       "      <td>574.0</td>\n",
       "      <td>558.0</td>\n",
       "    </tr>\n",
       "    <tr>\n",
       "      <th>3</th>\n",
       "      <td>0</td>\n",
       "      <td>64900000.0</td>\n",
       "      <td>159.00</td>\n",
       "      <td>2015-07-24T00:00:00</td>\n",
       "      <td>3</td>\n",
       "      <td>2.65</td>\n",
       "      <td>14.0</td>\n",
       "      <td>NaN</td>\n",
       "      <td>9</td>\n",
       "      <td>NaN</td>\n",
       "      <td>...</td>\n",
       "      <td>NaN</td>\n",
       "      <td>0.0</td>\n",
       "      <td>Санкт-Петербург</td>\n",
       "      <td>28098.0</td>\n",
       "      <td>6800.0</td>\n",
       "      <td>2.0</td>\n",
       "      <td>84.0</td>\n",
       "      <td>3.0</td>\n",
       "      <td>234.0</td>\n",
       "      <td>424.0</td>\n",
       "    </tr>\n",
       "    <tr>\n",
       "      <th>4</th>\n",
       "      <td>2</td>\n",
       "      <td>10000000.0</td>\n",
       "      <td>100.00</td>\n",
       "      <td>2018-06-19T00:00:00</td>\n",
       "      <td>2</td>\n",
       "      <td>3.03</td>\n",
       "      <td>14.0</td>\n",
       "      <td>32.00</td>\n",
       "      <td>13</td>\n",
       "      <td>NaN</td>\n",
       "      <td>...</td>\n",
       "      <td>41.00</td>\n",
       "      <td>0.0</td>\n",
       "      <td>Санкт-Петербург</td>\n",
       "      <td>31856.0</td>\n",
       "      <td>8098.0</td>\n",
       "      <td>2.0</td>\n",
       "      <td>112.0</td>\n",
       "      <td>1.0</td>\n",
       "      <td>48.0</td>\n",
       "      <td>121.0</td>\n",
       "    </tr>\n",
       "    <tr>\n",
       "      <th>5</th>\n",
       "      <td>10</td>\n",
       "      <td>2890000.0</td>\n",
       "      <td>30.40</td>\n",
       "      <td>2018-09-10T00:00:00</td>\n",
       "      <td>1</td>\n",
       "      <td>2.64</td>\n",
       "      <td>12.0</td>\n",
       "      <td>14.40</td>\n",
       "      <td>5</td>\n",
       "      <td>NaN</td>\n",
       "      <td>...</td>\n",
       "      <td>9.10</td>\n",
       "      <td>0.0</td>\n",
       "      <td>городской посёлок Янино-1</td>\n",
       "      <td>NaN</td>\n",
       "      <td>NaN</td>\n",
       "      <td>NaN</td>\n",
       "      <td>NaN</td>\n",
       "      <td>NaN</td>\n",
       "      <td>NaN</td>\n",
       "      <td>55.0</td>\n",
       "    </tr>\n",
       "    <tr>\n",
       "      <th>6</th>\n",
       "      <td>6</td>\n",
       "      <td>3700000.0</td>\n",
       "      <td>37.30</td>\n",
       "      <td>2017-11-02T00:00:00</td>\n",
       "      <td>1</td>\n",
       "      <td>2.64</td>\n",
       "      <td>26.0</td>\n",
       "      <td>10.60</td>\n",
       "      <td>6</td>\n",
       "      <td>NaN</td>\n",
       "      <td>...</td>\n",
       "      <td>14.40</td>\n",
       "      <td>1.0</td>\n",
       "      <td>посёлок Парголово</td>\n",
       "      <td>52996.0</td>\n",
       "      <td>19143.0</td>\n",
       "      <td>0.0</td>\n",
       "      <td>NaN</td>\n",
       "      <td>0.0</td>\n",
       "      <td>NaN</td>\n",
       "      <td>155.0</td>\n",
       "    </tr>\n",
       "    <tr>\n",
       "      <th>7</th>\n",
       "      <td>5</td>\n",
       "      <td>7915000.0</td>\n",
       "      <td>71.60</td>\n",
       "      <td>2019-04-18T00:00:00</td>\n",
       "      <td>2</td>\n",
       "      <td>2.60</td>\n",
       "      <td>24.0</td>\n",
       "      <td>NaN</td>\n",
       "      <td>22</td>\n",
       "      <td>NaN</td>\n",
       "      <td>...</td>\n",
       "      <td>18.90</td>\n",
       "      <td>2.0</td>\n",
       "      <td>Санкт-Петербург</td>\n",
       "      <td>23982.0</td>\n",
       "      <td>11634.0</td>\n",
       "      <td>0.0</td>\n",
       "      <td>NaN</td>\n",
       "      <td>0.0</td>\n",
       "      <td>NaN</td>\n",
       "      <td>NaN</td>\n",
       "    </tr>\n",
       "    <tr>\n",
       "      <th>8</th>\n",
       "      <td>20</td>\n",
       "      <td>2900000.0</td>\n",
       "      <td>33.16</td>\n",
       "      <td>2018-05-23T00:00:00</td>\n",
       "      <td>1</td>\n",
       "      <td>2.64</td>\n",
       "      <td>27.0</td>\n",
       "      <td>15.43</td>\n",
       "      <td>26</td>\n",
       "      <td>NaN</td>\n",
       "      <td>...</td>\n",
       "      <td>8.81</td>\n",
       "      <td>0.0</td>\n",
       "      <td>посёлок Мурино</td>\n",
       "      <td>NaN</td>\n",
       "      <td>NaN</td>\n",
       "      <td>NaN</td>\n",
       "      <td>NaN</td>\n",
       "      <td>NaN</td>\n",
       "      <td>NaN</td>\n",
       "      <td>189.0</td>\n",
       "    </tr>\n",
       "    <tr>\n",
       "      <th>9</th>\n",
       "      <td>18</td>\n",
       "      <td>5400000.0</td>\n",
       "      <td>61.00</td>\n",
       "      <td>2017-02-26T00:00:00</td>\n",
       "      <td>3</td>\n",
       "      <td>2.50</td>\n",
       "      <td>9.0</td>\n",
       "      <td>43.60</td>\n",
       "      <td>7</td>\n",
       "      <td>NaN</td>\n",
       "      <td>...</td>\n",
       "      <td>6.50</td>\n",
       "      <td>2.0</td>\n",
       "      <td>Санкт-Петербург</td>\n",
       "      <td>50898.0</td>\n",
       "      <td>15008.0</td>\n",
       "      <td>0.0</td>\n",
       "      <td>NaN</td>\n",
       "      <td>0.0</td>\n",
       "      <td>NaN</td>\n",
       "      <td>289.0</td>\n",
       "    </tr>\n",
       "    <tr>\n",
       "      <th>10</th>\n",
       "      <td>5</td>\n",
       "      <td>5050000.0</td>\n",
       "      <td>39.60</td>\n",
       "      <td>2017-11-16T00:00:00</td>\n",
       "      <td>1</td>\n",
       "      <td>2.67</td>\n",
       "      <td>12.0</td>\n",
       "      <td>20.30</td>\n",
       "      <td>3</td>\n",
       "      <td>NaN</td>\n",
       "      <td>...</td>\n",
       "      <td>8.50</td>\n",
       "      <td>0.0</td>\n",
       "      <td>Санкт-Петербург</td>\n",
       "      <td>38357.0</td>\n",
       "      <td>13878.0</td>\n",
       "      <td>1.0</td>\n",
       "      <td>310.0</td>\n",
       "      <td>2.0</td>\n",
       "      <td>553.0</td>\n",
       "      <td>137.0</td>\n",
       "    </tr>\n",
       "    <tr>\n",
       "      <th>11</th>\n",
       "      <td>9</td>\n",
       "      <td>3300000.0</td>\n",
       "      <td>44.00</td>\n",
       "      <td>2018-08-27T00:00:00</td>\n",
       "      <td>2</td>\n",
       "      <td>2.60</td>\n",
       "      <td>5.0</td>\n",
       "      <td>31.00</td>\n",
       "      <td>4</td>\n",
       "      <td>False</td>\n",
       "      <td>...</td>\n",
       "      <td>6.00</td>\n",
       "      <td>1.0</td>\n",
       "      <td>Ломоносов</td>\n",
       "      <td>48252.0</td>\n",
       "      <td>51677.0</td>\n",
       "      <td>0.0</td>\n",
       "      <td>NaN</td>\n",
       "      <td>0.0</td>\n",
       "      <td>NaN</td>\n",
       "      <td>7.0</td>\n",
       "    </tr>\n",
       "    <tr>\n",
       "      <th>12</th>\n",
       "      <td>10</td>\n",
       "      <td>3890000.0</td>\n",
       "      <td>54.00</td>\n",
       "      <td>2016-06-30T00:00:00</td>\n",
       "      <td>2</td>\n",
       "      <td>2.60</td>\n",
       "      <td>5.0</td>\n",
       "      <td>30.00</td>\n",
       "      <td>5</td>\n",
       "      <td>NaN</td>\n",
       "      <td>...</td>\n",
       "      <td>9.00</td>\n",
       "      <td>0.0</td>\n",
       "      <td>Сертолово</td>\n",
       "      <td>NaN</td>\n",
       "      <td>NaN</td>\n",
       "      <td>NaN</td>\n",
       "      <td>NaN</td>\n",
       "      <td>NaN</td>\n",
       "      <td>NaN</td>\n",
       "      <td>90.0</td>\n",
       "    </tr>\n",
       "    <tr>\n",
       "      <th>13</th>\n",
       "      <td>20</td>\n",
       "      <td>3550000.0</td>\n",
       "      <td>42.80</td>\n",
       "      <td>2017-07-01T00:00:00</td>\n",
       "      <td>2</td>\n",
       "      <td>2.56</td>\n",
       "      <td>5.0</td>\n",
       "      <td>27.00</td>\n",
       "      <td>5</td>\n",
       "      <td>NaN</td>\n",
       "      <td>...</td>\n",
       "      <td>5.20</td>\n",
       "      <td>1.0</td>\n",
       "      <td>Петергоф</td>\n",
       "      <td>37868.0</td>\n",
       "      <td>33058.0</td>\n",
       "      <td>1.0</td>\n",
       "      <td>294.0</td>\n",
       "      <td>3.0</td>\n",
       "      <td>298.0</td>\n",
       "      <td>366.0</td>\n",
       "    </tr>\n",
       "    <tr>\n",
       "      <th>14</th>\n",
       "      <td>1</td>\n",
       "      <td>4400000.0</td>\n",
       "      <td>36.00</td>\n",
       "      <td>2016-06-23T00:00:00</td>\n",
       "      <td>1</td>\n",
       "      <td>2.64</td>\n",
       "      <td>6.0</td>\n",
       "      <td>17.00</td>\n",
       "      <td>1</td>\n",
       "      <td>NaN</td>\n",
       "      <td>...</td>\n",
       "      <td>8.00</td>\n",
       "      <td>0.0</td>\n",
       "      <td>Пушкин</td>\n",
       "      <td>20782.0</td>\n",
       "      <td>30759.0</td>\n",
       "      <td>0.0</td>\n",
       "      <td>NaN</td>\n",
       "      <td>1.0</td>\n",
       "      <td>96.0</td>\n",
       "      <td>203.0</td>\n",
       "    </tr>\n",
       "  </tbody>\n",
       "</table>\n",
       "<p>15 rows × 22 columns</p>\n",
       "</div>"
      ],
      "text/plain": [
       "    total_images  last_price  total_area first_day_exposition  rooms  \\\n",
       "0             20  13000000.0      108.00  2019-03-07T00:00:00      3   \n",
       "1              7   3350000.0       40.40  2018-12-04T00:00:00      1   \n",
       "2             10   5196000.0       56.00  2015-08-20T00:00:00      2   \n",
       "3              0  64900000.0      159.00  2015-07-24T00:00:00      3   \n",
       "4              2  10000000.0      100.00  2018-06-19T00:00:00      2   \n",
       "5             10   2890000.0       30.40  2018-09-10T00:00:00      1   \n",
       "6              6   3700000.0       37.30  2017-11-02T00:00:00      1   \n",
       "7              5   7915000.0       71.60  2019-04-18T00:00:00      2   \n",
       "8             20   2900000.0       33.16  2018-05-23T00:00:00      1   \n",
       "9             18   5400000.0       61.00  2017-02-26T00:00:00      3   \n",
       "10             5   5050000.0       39.60  2017-11-16T00:00:00      1   \n",
       "11             9   3300000.0       44.00  2018-08-27T00:00:00      2   \n",
       "12            10   3890000.0       54.00  2016-06-30T00:00:00      2   \n",
       "13            20   3550000.0       42.80  2017-07-01T00:00:00      2   \n",
       "14             1   4400000.0       36.00  2016-06-23T00:00:00      1   \n",
       "\n",
       "    ceiling_height  floors_total  living_area  floor is_apartment  ...  \\\n",
       "0             2.70          16.0        51.00      8          NaN  ...   \n",
       "1             2.64          11.0        18.60      1          NaN  ...   \n",
       "2             2.60           5.0        34.30      4          NaN  ...   \n",
       "3             2.65          14.0          NaN      9          NaN  ...   \n",
       "4             3.03          14.0        32.00     13          NaN  ...   \n",
       "5             2.64          12.0        14.40      5          NaN  ...   \n",
       "6             2.64          26.0        10.60      6          NaN  ...   \n",
       "7             2.60          24.0          NaN     22          NaN  ...   \n",
       "8             2.64          27.0        15.43     26          NaN  ...   \n",
       "9             2.50           9.0        43.60      7          NaN  ...   \n",
       "10            2.67          12.0        20.30      3          NaN  ...   \n",
       "11            2.60           5.0        31.00      4        False  ...   \n",
       "12            2.60           5.0        30.00      5          NaN  ...   \n",
       "13            2.56           5.0        27.00      5          NaN  ...   \n",
       "14            2.64           6.0        17.00      1          NaN  ...   \n",
       "\n",
       "    kitchen_area  balcony              locality_name  airports_nearest  \\\n",
       "0          25.00      0.0            Санкт-Петербург           18863.0   \n",
       "1          11.00      2.0             посёлок Шушары           12817.0   \n",
       "2           8.30      0.0            Санкт-Петербург           21741.0   \n",
       "3            NaN      0.0            Санкт-Петербург           28098.0   \n",
       "4          41.00      0.0            Санкт-Петербург           31856.0   \n",
       "5           9.10      0.0  городской посёлок Янино-1               NaN   \n",
       "6          14.40      1.0          посёлок Парголово           52996.0   \n",
       "7          18.90      2.0            Санкт-Петербург           23982.0   \n",
       "8           8.81      0.0             посёлок Мурино               NaN   \n",
       "9           6.50      2.0            Санкт-Петербург           50898.0   \n",
       "10          8.50      0.0            Санкт-Петербург           38357.0   \n",
       "11          6.00      1.0                  Ломоносов           48252.0   \n",
       "12          9.00      0.0                  Сертолово               NaN   \n",
       "13          5.20      1.0                   Петергоф           37868.0   \n",
       "14          8.00      0.0                     Пушкин           20782.0   \n",
       "\n",
       "   cityCenters_nearest  parks_around3000  parks_nearest  ponds_around3000  \\\n",
       "0              16028.0               1.0          482.0               2.0   \n",
       "1              18603.0               0.0            NaN               0.0   \n",
       "2              13933.0               1.0           90.0               2.0   \n",
       "3               6800.0               2.0           84.0               3.0   \n",
       "4               8098.0               2.0          112.0               1.0   \n",
       "5                  NaN               NaN            NaN               NaN   \n",
       "6              19143.0               0.0            NaN               0.0   \n",
       "7              11634.0               0.0            NaN               0.0   \n",
       "8                  NaN               NaN            NaN               NaN   \n",
       "9              15008.0               0.0            NaN               0.0   \n",
       "10             13878.0               1.0          310.0               2.0   \n",
       "11             51677.0               0.0            NaN               0.0   \n",
       "12                 NaN               NaN            NaN               NaN   \n",
       "13             33058.0               1.0          294.0               3.0   \n",
       "14             30759.0               0.0            NaN               1.0   \n",
       "\n",
       "    ponds_nearest  days_exposition  \n",
       "0           755.0              NaN  \n",
       "1             NaN             81.0  \n",
       "2           574.0            558.0  \n",
       "3           234.0            424.0  \n",
       "4            48.0            121.0  \n",
       "5             NaN             55.0  \n",
       "6             NaN            155.0  \n",
       "7             NaN              NaN  \n",
       "8             NaN            189.0  \n",
       "9             NaN            289.0  \n",
       "10          553.0            137.0  \n",
       "11            NaN              7.0  \n",
       "12            NaN             90.0  \n",
       "13          298.0            366.0  \n",
       "14           96.0            203.0  \n",
       "\n",
       "[15 rows x 22 columns]"
      ]
     },
     "execution_count": 4,
     "metadata": {},
     "output_type": "execute_result"
    }
   ],
   "source": [
    "data['balcony'] = data['balcony'].fillna(0)\n",
    "data['ceiling_height'] = data['ceiling_height'].fillna(data.groupby('rooms')['ceiling_height'].transform('median'))\n",
    "data.head(15)"
   ]
  },
  {
   "cell_type": "markdown",
   "metadata": {},
   "source": [
    "В стобцах floors_total, balcony, cityCenters_nearest, days_exposition меню тип на цельночисленный. Для удобства в дальнейшей обработки."
   ]
  },
  {
   "cell_type": "code",
   "execution_count": 5,
   "metadata": {},
   "outputs": [
    {
     "data": {
      "text/html": [
       "<div>\n",
       "<style scoped>\n",
       "    .dataframe tbody tr th:only-of-type {\n",
       "        vertical-align: middle;\n",
       "    }\n",
       "\n",
       "    .dataframe tbody tr th {\n",
       "        vertical-align: top;\n",
       "    }\n",
       "\n",
       "    .dataframe thead th {\n",
       "        text-align: right;\n",
       "    }\n",
       "</style>\n",
       "<table border=\"1\" class=\"dataframe\">\n",
       "  <thead>\n",
       "    <tr style=\"text-align: right;\">\n",
       "      <th></th>\n",
       "      <th>total_images</th>\n",
       "      <th>last_price</th>\n",
       "      <th>total_area</th>\n",
       "      <th>first_day_exposition</th>\n",
       "      <th>rooms</th>\n",
       "      <th>ceiling_height</th>\n",
       "      <th>floors_total</th>\n",
       "      <th>living_area</th>\n",
       "      <th>floor</th>\n",
       "      <th>is_apartment</th>\n",
       "      <th>...</th>\n",
       "      <th>kitchen_area</th>\n",
       "      <th>balcony</th>\n",
       "      <th>locality_name</th>\n",
       "      <th>airports_nearest</th>\n",
       "      <th>cityCenters_nearest</th>\n",
       "      <th>parks_around3000</th>\n",
       "      <th>parks_nearest</th>\n",
       "      <th>ponds_around3000</th>\n",
       "      <th>ponds_nearest</th>\n",
       "      <th>days_exposition</th>\n",
       "    </tr>\n",
       "  </thead>\n",
       "  <tbody>\n",
       "    <tr>\n",
       "      <th>0</th>\n",
       "      <td>20</td>\n",
       "      <td>13000000.0</td>\n",
       "      <td>108.0</td>\n",
       "      <td>2019-03-07T00:00:00</td>\n",
       "      <td>3</td>\n",
       "      <td>2.7</td>\n",
       "      <td>16</td>\n",
       "      <td>51.0</td>\n",
       "      <td>8</td>\n",
       "      <td>NaN</td>\n",
       "      <td>...</td>\n",
       "      <td>25.0</td>\n",
       "      <td>0</td>\n",
       "      <td>Санкт-Петербург</td>\n",
       "      <td>18863.0</td>\n",
       "      <td>16028</td>\n",
       "      <td>1.0</td>\n",
       "      <td>482.0</td>\n",
       "      <td>2.0</td>\n",
       "      <td>755.0</td>\n",
       "      <td>&lt;NA&gt;</td>\n",
       "    </tr>\n",
       "    <tr>\n",
       "      <th>1</th>\n",
       "      <td>7</td>\n",
       "      <td>3350000.0</td>\n",
       "      <td>40.4</td>\n",
       "      <td>2018-12-04T00:00:00</td>\n",
       "      <td>1</td>\n",
       "      <td>2.6</td>\n",
       "      <td>11</td>\n",
       "      <td>18.6</td>\n",
       "      <td>1</td>\n",
       "      <td>NaN</td>\n",
       "      <td>...</td>\n",
       "      <td>11.0</td>\n",
       "      <td>2</td>\n",
       "      <td>посёлок Шушары</td>\n",
       "      <td>12817.0</td>\n",
       "      <td>18603</td>\n",
       "      <td>0.0</td>\n",
       "      <td>NaN</td>\n",
       "      <td>0.0</td>\n",
       "      <td>NaN</td>\n",
       "      <td>81</td>\n",
       "    </tr>\n",
       "    <tr>\n",
       "      <th>2</th>\n",
       "      <td>10</td>\n",
       "      <td>5196000.0</td>\n",
       "      <td>56.0</td>\n",
       "      <td>2015-08-20T00:00:00</td>\n",
       "      <td>2</td>\n",
       "      <td>2.6</td>\n",
       "      <td>5</td>\n",
       "      <td>34.3</td>\n",
       "      <td>4</td>\n",
       "      <td>NaN</td>\n",
       "      <td>...</td>\n",
       "      <td>8.3</td>\n",
       "      <td>0</td>\n",
       "      <td>Санкт-Петербург</td>\n",
       "      <td>21741.0</td>\n",
       "      <td>13933</td>\n",
       "      <td>1.0</td>\n",
       "      <td>90.0</td>\n",
       "      <td>2.0</td>\n",
       "      <td>574.0</td>\n",
       "      <td>558</td>\n",
       "    </tr>\n",
       "    <tr>\n",
       "      <th>3</th>\n",
       "      <td>0</td>\n",
       "      <td>64900000.0</td>\n",
       "      <td>159.0</td>\n",
       "      <td>2015-07-24T00:00:00</td>\n",
       "      <td>3</td>\n",
       "      <td>2.6</td>\n",
       "      <td>14</td>\n",
       "      <td>NaN</td>\n",
       "      <td>9</td>\n",
       "      <td>NaN</td>\n",
       "      <td>...</td>\n",
       "      <td>NaN</td>\n",
       "      <td>0</td>\n",
       "      <td>Санкт-Петербург</td>\n",
       "      <td>28098.0</td>\n",
       "      <td>6800</td>\n",
       "      <td>2.0</td>\n",
       "      <td>84.0</td>\n",
       "      <td>3.0</td>\n",
       "      <td>234.0</td>\n",
       "      <td>424</td>\n",
       "    </tr>\n",
       "    <tr>\n",
       "      <th>4</th>\n",
       "      <td>2</td>\n",
       "      <td>10000000.0</td>\n",
       "      <td>100.0</td>\n",
       "      <td>2018-06-19T00:00:00</td>\n",
       "      <td>2</td>\n",
       "      <td>3.0</td>\n",
       "      <td>14</td>\n",
       "      <td>32.0</td>\n",
       "      <td>13</td>\n",
       "      <td>NaN</td>\n",
       "      <td>...</td>\n",
       "      <td>41.0</td>\n",
       "      <td>0</td>\n",
       "      <td>Санкт-Петербург</td>\n",
       "      <td>31856.0</td>\n",
       "      <td>8098</td>\n",
       "      <td>2.0</td>\n",
       "      <td>112.0</td>\n",
       "      <td>1.0</td>\n",
       "      <td>48.0</td>\n",
       "      <td>121</td>\n",
       "    </tr>\n",
       "  </tbody>\n",
       "</table>\n",
       "<p>5 rows × 22 columns</p>\n",
       "</div>"
      ],
      "text/plain": [
       "   total_images  last_price  total_area first_day_exposition  rooms  \\\n",
       "0            20  13000000.0       108.0  2019-03-07T00:00:00      3   \n",
       "1             7   3350000.0        40.4  2018-12-04T00:00:00      1   \n",
       "2            10   5196000.0        56.0  2015-08-20T00:00:00      2   \n",
       "3             0  64900000.0       159.0  2015-07-24T00:00:00      3   \n",
       "4             2  10000000.0       100.0  2018-06-19T00:00:00      2   \n",
       "\n",
       "   ceiling_height  floors_total  living_area  floor is_apartment  ...  \\\n",
       "0             2.7            16         51.0      8          NaN  ...   \n",
       "1             2.6            11         18.6      1          NaN  ...   \n",
       "2             2.6             5         34.3      4          NaN  ...   \n",
       "3             2.6            14          NaN      9          NaN  ...   \n",
       "4             3.0            14         32.0     13          NaN  ...   \n",
       "\n",
       "   kitchen_area  balcony    locality_name  airports_nearest  \\\n",
       "0          25.0        0  Санкт-Петербург           18863.0   \n",
       "1          11.0        2   посёлок Шушары           12817.0   \n",
       "2           8.3        0  Санкт-Петербург           21741.0   \n",
       "3           NaN        0  Санкт-Петербург           28098.0   \n",
       "4          41.0        0  Санкт-Петербург           31856.0   \n",
       "\n",
       "  cityCenters_nearest  parks_around3000  parks_nearest  ponds_around3000  \\\n",
       "0               16028               1.0          482.0               2.0   \n",
       "1               18603               0.0            NaN               0.0   \n",
       "2               13933               1.0           90.0               2.0   \n",
       "3                6800               2.0           84.0               3.0   \n",
       "4                8098               2.0          112.0               1.0   \n",
       "\n",
       "   ponds_nearest  days_exposition  \n",
       "0          755.0             <NA>  \n",
       "1            NaN               81  \n",
       "2          574.0              558  \n",
       "3          234.0              424  \n",
       "4           48.0              121  \n",
       "\n",
       "[5 rows x 22 columns]"
      ]
     },
     "execution_count": 5,
     "metadata": {},
     "output_type": "execute_result"
    }
   ],
   "source": [
    "data = data.round(1).astype({'floors_total': 'Int64', 'balcony': 'Int64', 'cityCenters_nearest': 'Int64', 'days_exposition': 'Int64'})\n",
    "data.head()    "
   ]
  },
  {
   "cell_type": "markdown",
   "metadata": {},
   "source": [
    "Столбец first_day_exposition перевёл в формат datetime и убрал значения часов, которые имеют нулевые значения и в дальнейшем будут не нужны."
   ]
  },
  {
   "cell_type": "code",
   "execution_count": 6,
   "metadata": {},
   "outputs": [
    {
     "data": {
      "text/html": [
       "<div>\n",
       "<style scoped>\n",
       "    .dataframe tbody tr th:only-of-type {\n",
       "        vertical-align: middle;\n",
       "    }\n",
       "\n",
       "    .dataframe tbody tr th {\n",
       "        vertical-align: top;\n",
       "    }\n",
       "\n",
       "    .dataframe thead th {\n",
       "        text-align: right;\n",
       "    }\n",
       "</style>\n",
       "<table border=\"1\" class=\"dataframe\">\n",
       "  <thead>\n",
       "    <tr style=\"text-align: right;\">\n",
       "      <th></th>\n",
       "      <th>total_images</th>\n",
       "      <th>last_price</th>\n",
       "      <th>total_area</th>\n",
       "      <th>first_day_exposition</th>\n",
       "      <th>rooms</th>\n",
       "      <th>ceiling_height</th>\n",
       "      <th>floors_total</th>\n",
       "      <th>living_area</th>\n",
       "      <th>floor</th>\n",
       "      <th>is_apartment</th>\n",
       "      <th>...</th>\n",
       "      <th>kitchen_area</th>\n",
       "      <th>balcony</th>\n",
       "      <th>locality_name</th>\n",
       "      <th>airports_nearest</th>\n",
       "      <th>cityCenters_nearest</th>\n",
       "      <th>parks_around3000</th>\n",
       "      <th>parks_nearest</th>\n",
       "      <th>ponds_around3000</th>\n",
       "      <th>ponds_nearest</th>\n",
       "      <th>days_exposition</th>\n",
       "    </tr>\n",
       "  </thead>\n",
       "  <tbody>\n",
       "    <tr>\n",
       "      <th>0</th>\n",
       "      <td>20</td>\n",
       "      <td>13000000.0</td>\n",
       "      <td>108.0</td>\n",
       "      <td>2019-03-07</td>\n",
       "      <td>3</td>\n",
       "      <td>2.7</td>\n",
       "      <td>16</td>\n",
       "      <td>51.0</td>\n",
       "      <td>8</td>\n",
       "      <td>NaN</td>\n",
       "      <td>...</td>\n",
       "      <td>25.0</td>\n",
       "      <td>0</td>\n",
       "      <td>Санкт-Петербург</td>\n",
       "      <td>18863.0</td>\n",
       "      <td>16028</td>\n",
       "      <td>1.0</td>\n",
       "      <td>482.0</td>\n",
       "      <td>2.0</td>\n",
       "      <td>755.0</td>\n",
       "      <td>&lt;NA&gt;</td>\n",
       "    </tr>\n",
       "    <tr>\n",
       "      <th>1</th>\n",
       "      <td>7</td>\n",
       "      <td>3350000.0</td>\n",
       "      <td>40.4</td>\n",
       "      <td>2018-12-04</td>\n",
       "      <td>1</td>\n",
       "      <td>2.6</td>\n",
       "      <td>11</td>\n",
       "      <td>18.6</td>\n",
       "      <td>1</td>\n",
       "      <td>NaN</td>\n",
       "      <td>...</td>\n",
       "      <td>11.0</td>\n",
       "      <td>2</td>\n",
       "      <td>посёлок Шушары</td>\n",
       "      <td>12817.0</td>\n",
       "      <td>18603</td>\n",
       "      <td>0.0</td>\n",
       "      <td>NaN</td>\n",
       "      <td>0.0</td>\n",
       "      <td>NaN</td>\n",
       "      <td>81</td>\n",
       "    </tr>\n",
       "    <tr>\n",
       "      <th>2</th>\n",
       "      <td>10</td>\n",
       "      <td>5196000.0</td>\n",
       "      <td>56.0</td>\n",
       "      <td>2015-08-20</td>\n",
       "      <td>2</td>\n",
       "      <td>2.6</td>\n",
       "      <td>5</td>\n",
       "      <td>34.3</td>\n",
       "      <td>4</td>\n",
       "      <td>NaN</td>\n",
       "      <td>...</td>\n",
       "      <td>8.3</td>\n",
       "      <td>0</td>\n",
       "      <td>Санкт-Петербург</td>\n",
       "      <td>21741.0</td>\n",
       "      <td>13933</td>\n",
       "      <td>1.0</td>\n",
       "      <td>90.0</td>\n",
       "      <td>2.0</td>\n",
       "      <td>574.0</td>\n",
       "      <td>558</td>\n",
       "    </tr>\n",
       "    <tr>\n",
       "      <th>3</th>\n",
       "      <td>0</td>\n",
       "      <td>64900000.0</td>\n",
       "      <td>159.0</td>\n",
       "      <td>2015-07-24</td>\n",
       "      <td>3</td>\n",
       "      <td>2.6</td>\n",
       "      <td>14</td>\n",
       "      <td>NaN</td>\n",
       "      <td>9</td>\n",
       "      <td>NaN</td>\n",
       "      <td>...</td>\n",
       "      <td>NaN</td>\n",
       "      <td>0</td>\n",
       "      <td>Санкт-Петербург</td>\n",
       "      <td>28098.0</td>\n",
       "      <td>6800</td>\n",
       "      <td>2.0</td>\n",
       "      <td>84.0</td>\n",
       "      <td>3.0</td>\n",
       "      <td>234.0</td>\n",
       "      <td>424</td>\n",
       "    </tr>\n",
       "    <tr>\n",
       "      <th>4</th>\n",
       "      <td>2</td>\n",
       "      <td>10000000.0</td>\n",
       "      <td>100.0</td>\n",
       "      <td>2018-06-19</td>\n",
       "      <td>2</td>\n",
       "      <td>3.0</td>\n",
       "      <td>14</td>\n",
       "      <td>32.0</td>\n",
       "      <td>13</td>\n",
       "      <td>NaN</td>\n",
       "      <td>...</td>\n",
       "      <td>41.0</td>\n",
       "      <td>0</td>\n",
       "      <td>Санкт-Петербург</td>\n",
       "      <td>31856.0</td>\n",
       "      <td>8098</td>\n",
       "      <td>2.0</td>\n",
       "      <td>112.0</td>\n",
       "      <td>1.0</td>\n",
       "      <td>48.0</td>\n",
       "      <td>121</td>\n",
       "    </tr>\n",
       "  </tbody>\n",
       "</table>\n",
       "<p>5 rows × 22 columns</p>\n",
       "</div>"
      ],
      "text/plain": [
       "   total_images  last_price  total_area first_day_exposition  rooms  \\\n",
       "0            20  13000000.0       108.0           2019-03-07      3   \n",
       "1             7   3350000.0        40.4           2018-12-04      1   \n",
       "2            10   5196000.0        56.0           2015-08-20      2   \n",
       "3             0  64900000.0       159.0           2015-07-24      3   \n",
       "4             2  10000000.0       100.0           2018-06-19      2   \n",
       "\n",
       "   ceiling_height  floors_total  living_area  floor is_apartment  ...  \\\n",
       "0             2.7            16         51.0      8          NaN  ...   \n",
       "1             2.6            11         18.6      1          NaN  ...   \n",
       "2             2.6             5         34.3      4          NaN  ...   \n",
       "3             2.6            14          NaN      9          NaN  ...   \n",
       "4             3.0            14         32.0     13          NaN  ...   \n",
       "\n",
       "   kitchen_area  balcony    locality_name  airports_nearest  \\\n",
       "0          25.0        0  Санкт-Петербург           18863.0   \n",
       "1          11.0        2   посёлок Шушары           12817.0   \n",
       "2           8.3        0  Санкт-Петербург           21741.0   \n",
       "3           NaN        0  Санкт-Петербург           28098.0   \n",
       "4          41.0        0  Санкт-Петербург           31856.0   \n",
       "\n",
       "  cityCenters_nearest  parks_around3000  parks_nearest  ponds_around3000  \\\n",
       "0               16028               1.0          482.0               2.0   \n",
       "1               18603               0.0            NaN               0.0   \n",
       "2               13933               1.0           90.0               2.0   \n",
       "3                6800               2.0           84.0               3.0   \n",
       "4                8098               2.0          112.0               1.0   \n",
       "\n",
       "   ponds_nearest  days_exposition  \n",
       "0          755.0             <NA>  \n",
       "1            NaN               81  \n",
       "2          574.0              558  \n",
       "3          234.0              424  \n",
       "4           48.0              121  \n",
       "\n",
       "[5 rows x 22 columns]"
      ]
     },
     "execution_count": 6,
     "metadata": {},
     "output_type": "execute_result"
    }
   ],
   "source": [
    "data['first_day_exposition'] = pd.to_datetime(data['first_day_exposition'], format='%Y-%m-%d')\n",
    "data.head()"
   ]
  },
  {
   "cell_type": "markdown",
   "metadata": {},
   "source": [
    "\n",
    "    \n",
    "1. Причина пропусков в том, что большая часть данных в таблице взято из объявлений продавцов квартир. Что то мог не указать продавец, что то могло потеряться при переносе данных.\n",
    "    \n",
    "2. Пропуска заполнены не по всем данным. Так как для них нет возможности логически подобрать значения для заполнения.       "
   ]
  },
  {
   "cell_type": "markdown",
   "metadata": {},
   "source": [
    "\n",
    "\n",
    "### Вывод: \n",
    "    \n",
    " 1. Предобработка закончена.\n",
    "    \n",
    " 2. Заполнены пропуски.\n",
    "    \n",
    " 3. Часть пропусков не заполнена, но это не окажет влияния на дальнейший анализ. \n",
    "    \n",
    " 4. Изменён тип данных.\n",
    "    \n",
    " 5. Сделано фарматирование даты.\n",
    "    \n",
    " 6. Данные готовы для анализа."
   ]
  },
  {
   "cell_type": "markdown",
   "metadata": {},
   "source": [
    "## Расчёты и добавление результатов в таблицу"
   ]
  },
  {
   "cell_type": "markdown",
   "metadata": {},
   "source": [
    "Расчитал и занёс в таблицу стоймость квадратного метра. Добавил столбец по дням недели. Занёс категории этажей квартир. Так же занёс отнашение жилой площади к общей и площади кухни к общей."
   ]
  },
  {
   "cell_type": "code",
   "execution_count": 7,
   "metadata": {},
   "outputs": [],
   "source": [
    "data['price_metr'] = data['last_price'] / data['total_area']\n",
    "data['price_metr'] = data['price_metr'].round(0)\n",
    "data['first_day_weekday'] = data['first_day_exposition'].dt.weekday\n",
    "\n",
    "data['floor'] = np.isnan(np.nan)\n",
    "\n",
    "def floor_definition(data):\n",
    "    if (data['floor'] == 1):\n",
    "        return 'первый'\n",
    "    elif (data['floors_total'] == data['floor']) & (data['floor'] != 1):\n",
    "        return 'последний'\n",
    "    else:\n",
    "        return 'другой'\n",
    "\n",
    "data['floor_cat'] = data.apply(floor_definition, axis = 1)\n",
    "\n",
    "data['ratio_living_area'] = data['living_area'] / data['total_area']\n",
    "data['ratio_living_area'] = data['ratio_living_area'].round(2)\n",
    "data['ratio_kitchen_area'] = data['kitchen_area'] / data['total_area']\n",
    "data['ratio_kitchen_area'] = data['ratio_kitchen_area'].round(2)"
   ]
  },
  {
   "cell_type": "code",
   "execution_count": 8,
   "metadata": {},
   "outputs": [
    {
     "data": {
      "text/html": [
       "<div>\n",
       "<style scoped>\n",
       "    .dataframe tbody tr th:only-of-type {\n",
       "        vertical-align: middle;\n",
       "    }\n",
       "\n",
       "    .dataframe tbody tr th {\n",
       "        vertical-align: top;\n",
       "    }\n",
       "\n",
       "    .dataframe thead th {\n",
       "        text-align: right;\n",
       "    }\n",
       "</style>\n",
       "<table border=\"1\" class=\"dataframe\">\n",
       "  <thead>\n",
       "    <tr style=\"text-align: right;\">\n",
       "      <th></th>\n",
       "      <th>total_images</th>\n",
       "      <th>last_price</th>\n",
       "      <th>total_area</th>\n",
       "      <th>first_day_exposition</th>\n",
       "      <th>rooms</th>\n",
       "      <th>ceiling_height</th>\n",
       "      <th>floors_total</th>\n",
       "      <th>living_area</th>\n",
       "      <th>floor</th>\n",
       "      <th>is_apartment</th>\n",
       "      <th>...</th>\n",
       "      <th>ponds_around3000</th>\n",
       "      <th>ponds_nearest</th>\n",
       "      <th>days_exposition</th>\n",
       "      <th>price_metr</th>\n",
       "      <th>first_day_weekday</th>\n",
       "      <th>floor_cat</th>\n",
       "      <th>ratio_living_area</th>\n",
       "      <th>ratio_kitchen_area</th>\n",
       "      <th>year</th>\n",
       "      <th>month</th>\n",
       "    </tr>\n",
       "  </thead>\n",
       "  <tbody>\n",
       "    <tr>\n",
       "      <th>0</th>\n",
       "      <td>20</td>\n",
       "      <td>13000000.0</td>\n",
       "      <td>108.0</td>\n",
       "      <td>2019-03-07</td>\n",
       "      <td>3</td>\n",
       "      <td>2.7</td>\n",
       "      <td>16</td>\n",
       "      <td>51.0</td>\n",
       "      <td>True</td>\n",
       "      <td>NaN</td>\n",
       "      <td>...</td>\n",
       "      <td>2.0</td>\n",
       "      <td>755.0</td>\n",
       "      <td>&lt;NA&gt;</td>\n",
       "      <td>120370.0</td>\n",
       "      <td>3</td>\n",
       "      <td>первый</td>\n",
       "      <td>0.47</td>\n",
       "      <td>0.23</td>\n",
       "      <td>2019</td>\n",
       "      <td>3</td>\n",
       "    </tr>\n",
       "    <tr>\n",
       "      <th>1</th>\n",
       "      <td>7</td>\n",
       "      <td>3350000.0</td>\n",
       "      <td>40.4</td>\n",
       "      <td>2018-12-04</td>\n",
       "      <td>1</td>\n",
       "      <td>2.6</td>\n",
       "      <td>11</td>\n",
       "      <td>18.6</td>\n",
       "      <td>True</td>\n",
       "      <td>NaN</td>\n",
       "      <td>...</td>\n",
       "      <td>0.0</td>\n",
       "      <td>NaN</td>\n",
       "      <td>81</td>\n",
       "      <td>82921.0</td>\n",
       "      <td>1</td>\n",
       "      <td>первый</td>\n",
       "      <td>0.46</td>\n",
       "      <td>0.27</td>\n",
       "      <td>2018</td>\n",
       "      <td>12</td>\n",
       "    </tr>\n",
       "    <tr>\n",
       "      <th>2</th>\n",
       "      <td>10</td>\n",
       "      <td>5196000.0</td>\n",
       "      <td>56.0</td>\n",
       "      <td>2015-08-20</td>\n",
       "      <td>2</td>\n",
       "      <td>2.6</td>\n",
       "      <td>5</td>\n",
       "      <td>34.3</td>\n",
       "      <td>True</td>\n",
       "      <td>NaN</td>\n",
       "      <td>...</td>\n",
       "      <td>2.0</td>\n",
       "      <td>574.0</td>\n",
       "      <td>558</td>\n",
       "      <td>92786.0</td>\n",
       "      <td>3</td>\n",
       "      <td>первый</td>\n",
       "      <td>0.61</td>\n",
       "      <td>0.15</td>\n",
       "      <td>2015</td>\n",
       "      <td>8</td>\n",
       "    </tr>\n",
       "    <tr>\n",
       "      <th>3</th>\n",
       "      <td>0</td>\n",
       "      <td>64900000.0</td>\n",
       "      <td>159.0</td>\n",
       "      <td>2015-07-24</td>\n",
       "      <td>3</td>\n",
       "      <td>2.6</td>\n",
       "      <td>14</td>\n",
       "      <td>NaN</td>\n",
       "      <td>True</td>\n",
       "      <td>NaN</td>\n",
       "      <td>...</td>\n",
       "      <td>3.0</td>\n",
       "      <td>234.0</td>\n",
       "      <td>424</td>\n",
       "      <td>408176.0</td>\n",
       "      <td>4</td>\n",
       "      <td>первый</td>\n",
       "      <td>NaN</td>\n",
       "      <td>NaN</td>\n",
       "      <td>2015</td>\n",
       "      <td>7</td>\n",
       "    </tr>\n",
       "    <tr>\n",
       "      <th>4</th>\n",
       "      <td>2</td>\n",
       "      <td>10000000.0</td>\n",
       "      <td>100.0</td>\n",
       "      <td>2018-06-19</td>\n",
       "      <td>2</td>\n",
       "      <td>3.0</td>\n",
       "      <td>14</td>\n",
       "      <td>32.0</td>\n",
       "      <td>True</td>\n",
       "      <td>NaN</td>\n",
       "      <td>...</td>\n",
       "      <td>1.0</td>\n",
       "      <td>48.0</td>\n",
       "      <td>121</td>\n",
       "      <td>100000.0</td>\n",
       "      <td>1</td>\n",
       "      <td>первый</td>\n",
       "      <td>0.32</td>\n",
       "      <td>0.41</td>\n",
       "      <td>2018</td>\n",
       "      <td>6</td>\n",
       "    </tr>\n",
       "  </tbody>\n",
       "</table>\n",
       "<p>5 rows × 29 columns</p>\n",
       "</div>"
      ],
      "text/plain": [
       "   total_images  last_price  total_area first_day_exposition  rooms  \\\n",
       "0            20  13000000.0       108.0           2019-03-07      3   \n",
       "1             7   3350000.0        40.4           2018-12-04      1   \n",
       "2            10   5196000.0        56.0           2015-08-20      2   \n",
       "3             0  64900000.0       159.0           2015-07-24      3   \n",
       "4             2  10000000.0       100.0           2018-06-19      2   \n",
       "\n",
       "   ceiling_height  floors_total  living_area  floor is_apartment  ...  \\\n",
       "0             2.7            16         51.0   True          NaN  ...   \n",
       "1             2.6            11         18.6   True          NaN  ...   \n",
       "2             2.6             5         34.3   True          NaN  ...   \n",
       "3             2.6            14          NaN   True          NaN  ...   \n",
       "4             3.0            14         32.0   True          NaN  ...   \n",
       "\n",
       "   ponds_around3000  ponds_nearest  days_exposition  price_metr  \\\n",
       "0               2.0          755.0             <NA>    120370.0   \n",
       "1               0.0            NaN               81     82921.0   \n",
       "2               2.0          574.0              558     92786.0   \n",
       "3               3.0          234.0              424    408176.0   \n",
       "4               1.0           48.0              121    100000.0   \n",
       "\n",
       "  first_day_weekday  floor_cat  ratio_living_area  ratio_kitchen_area  year  \\\n",
       "0                 3     первый               0.47                0.23  2019   \n",
       "1                 1     первый               0.46                0.27  2018   \n",
       "2                 3     первый               0.61                0.15  2015   \n",
       "3                 4     первый                NaN                 NaN  2015   \n",
       "4                 1     первый               0.32                0.41  2018   \n",
       "\n",
       "   month  \n",
       "0      3  \n",
       "1     12  \n",
       "2      8  \n",
       "3      7  \n",
       "4      6  \n",
       "\n",
       "[5 rows x 29 columns]"
      ]
     },
     "execution_count": 8,
     "metadata": {},
     "output_type": "execute_result"
    }
   ],
   "source": [
    "data['year'] = data['first_day_exposition'].dt.year\n",
    "data['month'] = data['first_day_exposition'].dt.month\n",
    "data.head()"
   ]
  },
  {
   "cell_type": "markdown",
   "metadata": {},
   "source": [
    "## Исследовательский анализ данных"
   ]
  },
  {
   "cell_type": "markdown",
   "metadata": {},
   "source": [
    " Провожу анализ данных по площади, стоимости кварир, колличества комнат,высоты потолков."
   ]
  },
  {
   "cell_type": "markdown",
   "metadata": {},
   "source": [
    "### Площадь"
   ]
  },
  {
   "cell_type": "code",
   "execution_count": 9,
   "metadata": {},
   "outputs": [
    {
     "name": "stdout",
     "output_type": "stream",
     "text": [
      "count    23699.000000\n",
      "mean        60.348635\n",
      "std         35.654086\n",
      "min         12.000000\n",
      "25%         40.000000\n",
      "50%         52.000000\n",
      "75%         69.900000\n",
      "max        900.000000\n",
      "Name: total_area, dtype: float64\n"
     ]
    },
    {
     "data": {
      "image/png": "[encoded data removed]",
      "text/plain": [
       "<Figure size 432x288 with 1 Axes>"
      ]
     },
     "metadata": {
      "needs_background": "light"
     },
     "output_type": "display_data"
    }
   ],
   "source": [
    "data['total_area'].hist(bins=100)\n",
    "print(data['total_area'].describe())"
   ]
  },
  {
   "cell_type": "markdown",
   "metadata": {},
   "source": [
    "Данные по площади достаточно едины. Есть аномально малые и аномально большие значения, но их не много и сильного влияния не оказывают. Среднее не сильно отличается от медианы."
   ]
  },
  {
   "cell_type": "markdown",
   "metadata": {},
   "source": [
    "### Цена"
   ]
  },
  {
   "cell_type": "code",
   "execution_count": 10,
   "metadata": {},
   "outputs": [
    {
     "name": "stdout",
     "output_type": "stream",
     "text": [
      "count     23699.000000\n",
      "mean       6541.548772\n",
      "std       10887.013268\n",
      "min          12.190000\n",
      "25%        3400.000000\n",
      "50%        4650.000000\n",
      "75%        6800.000000\n",
      "max      763000.000000\n",
      "Name: last_price, dtype: float64\n"
     ]
    },
    {
     "data": {
      "image/png": "[encoded data removed]",
      "text/plain": [
       "<Figure size 432x288 with 1 Axes>"
      ]
     },
     "metadata": {
      "needs_background": "light"
     },
     "output_type": "display_data"
    }
   ],
   "source": [
    "data['last_price'] = data['last_price'] / 1000\n",
    "data['last_price'].hist(bins=50)\n",
    "print(data['last_price'].describe())"
   ]
  },
  {
   "cell_type": "markdown",
   "metadata": {},
   "source": [
    "Для удобства визуализации перевёл цены в тысячи. Также есть аномально низкая и высокая цена. Верхняя аномалия поднимает среднее среднее."
   ]
  },
  {
   "cell_type": "markdown",
   "metadata": {},
   "source": [
    "### Колличество комнат"
   ]
  },
  {
   "cell_type": "code",
   "execution_count": 11,
   "metadata": {},
   "outputs": [
    {
     "name": "stdout",
     "output_type": "stream",
     "text": [
      "count    23699.000000\n",
      "mean         2.070636\n",
      "std          1.078405\n",
      "min          0.000000\n",
      "25%          1.000000\n",
      "50%          2.000000\n",
      "75%          3.000000\n",
      "max         19.000000\n",
      "Name: rooms, dtype: float64\n"
     ]
    },
    {
     "data": {
      "image/png": "[encoded data removed]",
      "text/plain": [
       "<Figure size 432x288 with 1 Axes>"
      ]
     },
     "metadata": {
      "needs_background": "light"
     },
     "output_type": "display_data"
    }
   ],
   "source": [
    "data['rooms'].hist(bins=20)\n",
    "print(data['rooms'].describe())"
   ]
  },
  {
   "cell_type": "markdown",
   "metadata": {},
   "source": [
    "Максимальный показатель в 19 выглядит не правдоподобно, но в целом всё в порядке"
   ]
  },
  {
   "cell_type": "markdown",
   "metadata": {},
   "source": [
    "### Высота потолков"
   ]
  },
  {
   "cell_type": "code",
   "execution_count": 12,
   "metadata": {},
   "outputs": [
    {
     "name": "stdout",
     "output_type": "stream",
     "text": [
      "count    23698.000000\n",
      "mean         2.715305\n",
      "std          0.990779\n",
      "min          1.000000\n",
      "25%          2.600000\n",
      "50%          2.600000\n",
      "75%          2.700000\n",
      "max        100.000000\n",
      "Name: ceiling_height, dtype: float64\n"
     ]
    },
    {
     "data": {
      "image/png": "[encoded data removed]",
      "text/plain": [
       "<Figure size 432x288 with 1 Axes>"
      ]
     },
     "metadata": {
      "needs_background": "light"
     },
     "output_type": "display_data"
    }
   ],
   "source": [
    "data['ceiling_height'].hist(bins=50)\n",
    "print(data['ceiling_height'].describe())"
   ]
  },
  {
   "cell_type": "markdown",
   "metadata": {},
   "source": [
    "Опять же есть аномально низкое минимальное значение в 1.0 и максимальное в 100. Но сильного влияния на остальные данные они не имеют. Среднее практически равно медиане."
   ]
  },
  {
   "cell_type": "markdown",
   "metadata": {},
   "source": [
    "### Время продажи квартир"
   ]
  },
  {
   "cell_type": "code",
   "execution_count": 13,
   "metadata": {},
   "outputs": [
    {
     "name": "stdout",
     "output_type": "stream",
     "text": [
      "count    20518.000000\n",
      "mean       180.888634\n",
      "std        219.727988\n",
      "min          1.000000\n",
      "25%         45.000000\n",
      "50%         95.000000\n",
      "75%        232.000000\n",
      "max       1580.000000\n",
      "Name: days_exposition, dtype: float64\n"
     ]
    },
    {
     "data": {
      "image/png": "[encoded data removed]",
      "text/plain": [
       "<Figure size 432x288 with 1 Axes>"
      ]
     },
     "metadata": {
      "needs_background": "light"
     },
     "output_type": "display_data"
    }
   ],
   "source": [
    "data['days_exposition'].hist(bins=100)\n",
    "print(data['days_exposition'].describe())"
   ]
  },
  {
   "cell_type": "markdown",
   "metadata": {},
   "source": [
    "Есть очень быстрые продажи за один день. И слишком долгие до 1580 дней. Это сильно влияет на данные. Среднее 180 почти в два  раза больше медианы 95. Считаю обычным временем продажи от 7 до 400 дней. "
   ]
  },
  {
   "cell_type": "code",
   "execution_count": 14,
   "metadata": {},
   "outputs": [
    {
     "data": {
      "image/png": "[encoded data removed]",
      "text/plain": [
       "<Figure size 432x288 with 1 Axes>"
      ]
     },
     "metadata": {
      "needs_background": "light"
     },
     "output_type": "display_data"
    },
    {
     "name": "stdout",
     "output_type": "stream",
     "text": [
      "count    15403.000000\n",
      "mean       122.887100\n",
      "std         99.979215\n",
      "min          8.000000\n",
      "25%         41.000000\n",
      "50%         94.000000\n",
      "75%        180.000000\n",
      "max        399.000000\n",
      "Name: days_exposition, dtype: float64\n"
     ]
    },
    {
     "data": {
      "image/png": "[encoded data removed]",
      "text/plain": [
       "<Figure size 432x288 with 1 Axes>"
      ]
     },
     "metadata": {
      "needs_background": "light"
     },
     "output_type": "display_data"
    }
   ],
   "source": [
    "import matplotlib.pyplot as plt\n",
    "\n",
    "days_share = data.query('days_exposition > 7 and days_exposition < 400')\n",
    "days_share['days_exposition'].hist(bins=100)\n",
    "plt.show()\n",
    "days_share = days_share.drop(days_share[(days_share['days_exposition'] == 45) | (days_share['days_exposition'] == 60) | (days_share['days_exposition'] == 90)].index)\n",
    "days_share['days_exposition'].hist(bins=100)\n",
    "print(days_share['days_exposition'].describe())"
   ]
  },
  {
   "cell_type": "markdown",
   "metadata": {},
   "source": [
    "Сделал срез от 7 до 400 дней. Обнаружил два пика на 45, 60 и 90 день. Возможно это автоматическое снятие с публикации по сроку. В остальном график имеет плавное падение."
   ]
  },
  {
   "cell_type": "markdown",
   "metadata": {},
   "source": [
    "###  Факторы влияющие на стоимость кватиры"
   ]
  },
  {
   "cell_type": "code",
   "execution_count": 15,
   "metadata": {
    "scrolled": true
   },
   "outputs": [
    {
     "name": "stdout",
     "output_type": "stream",
     "text": [
      "0.6536749599588508\n"
     ]
    },
    {
     "data": {
      "text/plain": [
       "total_area\n",
       "19.5        945.75\n",
       "14.0       1190.00\n",
       "18.8       1350.00\n",
       "18.5       1500.00\n",
       "22.4       1600.00\n",
       "           ...    \n",
       "410.0    240000.00\n",
       "285.7    245000.00\n",
       "618.0    300000.00\n",
       "401.0    401300.00\n",
       "900.0    420000.00\n",
       "Name: last_price, Length: 1449, dtype: float64"
      ]
     },
     "execution_count": 15,
     "metadata": {},
     "output_type": "execute_result"
    }
   ],
   "source": [
    "print(data['total_area'].corr(data['last_price']))\n",
    "\n",
    "data.groupby('total_area')['last_price'].median().sort_values()\n"
   ]
  },
  {
   "cell_type": "markdown",
   "metadata": {},
   "source": [
    "Определённо с увеличением площади растёт и цена. Корреляция выше среднего."
   ]
  },
  {
   "cell_type": "code",
   "execution_count": 16,
   "metadata": {},
   "outputs": [
    {
     "name": "stdout",
     "output_type": "stream",
     "text": [
      "0.3633428499648953\n"
     ]
    },
    {
     "data": {
      "text/plain": [
       "rooms\n",
       "0       2700.000\n",
       "1       3600.000\n",
       "2       4770.169\n",
       "3       6200.000\n",
       "4       9000.000\n",
       "5      14000.000\n",
       "6      19000.000\n",
       "10     23000.000\n",
       "8      23095.000\n",
       "9      23750.000\n",
       "7      24900.000\n",
       "11     25250.000\n",
       "14     26829.500\n",
       "16     28500.000\n",
       "19     32250.000\n",
       "15     65000.000\n",
       "12    420000.000\n",
       "Name: last_price, dtype: float64"
      ]
     },
     "execution_count": 16,
     "metadata": {},
     "output_type": "execute_result"
    }
   ],
   "source": [
    "print(data['rooms'].corr(data['last_price']))\n",
    "\n",
    "data.groupby('rooms')['last_price'].median().sort_values()\n"
   ]
  },
  {
   "cell_type": "markdown",
   "metadata": {},
   "source": [
    "С увеличение колличества комнат соответственно растёт и цена. Корреляция ниже среднего. зависимость цены от колличечтва комнат не высока."
   ]
  },
  {
   "cell_type": "code",
   "execution_count": 17,
   "metadata": {},
   "outputs": [
    {
     "data": {
      "text/plain": [
       "cityCenters_nearest\n",
       "11122      1190.0\n",
       "4165       1686.0\n",
       "41626      1800.0\n",
       "5238       1800.0\n",
       "60223      1800.0\n",
       "           ...   \n",
       "3794     180000.0\n",
       "5297     190870.0\n",
       "6235     245000.0\n",
       "1073     289238.4\n",
       "1197     330000.0\n",
       "Name: last_price, Length: 7642, dtype: float64"
      ]
     },
     "execution_count": 17,
     "metadata": {},
     "output_type": "execute_result"
    }
   ],
   "source": [
    "data.groupby('cityCenters_nearest')['last_price'].median().sort_values()\n"
   ]
  },
  {
   "cell_type": "markdown",
   "metadata": {},
   "source": [
    "Чем ближе к центру тем определённо дороже."
   ]
  },
  {
   "cell_type": "code",
   "execution_count": 18,
   "metadata": {},
   "outputs": [
    {
     "data": {
      "text/plain": [
       "floor_cat\n",
       "первый    4650.0\n",
       "Name: last_price, dtype: float64"
      ]
     },
     "execution_count": 18,
     "metadata": {},
     "output_type": "execute_result"
    }
   ],
   "source": [
    "data.groupby('floor_cat')['last_price'].median()\n"
   ]
  },
  {
   "cell_type": "markdown",
   "metadata": {},
   "source": [
    "Меньше всего катируются первые этажи. Цена последних чуть выше. Ну а в середине самые дорогие."
   ]
  },
  {
   "cell_type": "code",
   "execution_count": 19,
   "metadata": {},
   "outputs": [
    {
     "data": {
      "text/plain": [
       "year\n",
       "2017    4500.0\n",
       "2016    4550.0\n",
       "2018    4550.0\n",
       "2019    5050.0\n",
       "2015    5350.0\n",
       "2014    7700.0\n",
       "Name: last_price, dtype: float64"
      ]
     },
     "execution_count": 19,
     "metadata": {},
     "output_type": "execute_result"
    }
   ],
   "source": [
    "data.groupby('year')['last_price'].median().sort_values()\n"
   ]
  },
  {
   "cell_type": "markdown",
   "metadata": {},
   "source": [
    " В 2014 были очень высокие цены. Следующие года стали падать, но в 19 снова выросли."
   ]
  },
  {
   "cell_type": "code",
   "execution_count": 20,
   "metadata": {},
   "outputs": [
    {
     "data": {
      "text/plain": [
       "month\n",
       "6     4400.0\n",
       "5     4515.0\n",
       "8     4570.0\n",
       "10    4570.0\n",
       "1     4600.0\n",
       "2     4650.0\n",
       "3     4650.0\n",
       "7     4650.0\n",
       "9     4700.0\n",
       "11    4700.0\n",
       "12    4700.0\n",
       "4     4800.0\n",
       "Name: last_price, dtype: float64"
      ]
     },
     "execution_count": 20,
     "metadata": {},
     "output_type": "execute_result"
    }
   ],
   "source": [
    "data.groupby('month')['last_price'].median().sort_values()\n"
   ]
  },
  {
   "cell_type": "markdown",
   "metadata": {},
   "source": [
    " В последнии месяцы года цена чуть выше, но не значительно. Сильной разницы по месяцам нет"
   ]
  },
  {
   "cell_type": "code",
   "execution_count": 21,
   "metadata": {},
   "outputs": [
    {
     "data": {
      "text/plain": [
       "first_day_weekday\n",
       "6    4550.0\n",
       "5    4555.0\n",
       "4    4585.0\n",
       "0    4650.0\n",
       "3    4650.0\n",
       "2    4700.0\n",
       "1    4730.0\n",
       "Name: last_price, dtype: float64"
      ]
     },
     "execution_count": 21,
     "metadata": {},
     "output_type": "execute_result"
    }
   ],
   "source": [
    "data.groupby('first_day_weekday')['last_price'].median().sort_values()\n"
   ]
  },
  {
   "cell_type": "markdown",
   "metadata": {},
   "source": [
    "А вот от дня подачи объявления практически ни чего не зависит."
   ]
  },
  {
   "cell_type": "markdown",
   "metadata": {},
   "source": [
    "### Топ 10"
   ]
  },
  {
   "cell_type": "code",
   "execution_count": 22,
   "metadata": {},
   "outputs": [
    {
     "data": {
      "text/plain": [
       "Санкт-Петербург      15721\n",
       "посёлок Мурино         522\n",
       "посёлок Шушары         440\n",
       "Всеволожск             398\n",
       "Пушкин                 369\n",
       "Колпино                338\n",
       "посёлок Парголово      327\n",
       "Гатчина                307\n",
       "деревня Кудрово        299\n",
       "Выборг                 237\n",
       "Name: locality_name, dtype: int64"
      ]
     },
     "execution_count": 22,
     "metadata": {},
     "output_type": "execute_result"
    }
   ],
   "source": [
    "city = data['locality_name'].value_counts().head(10)\n",
    "\n",
    "city\n"
   ]
  },
  {
   "cell_type": "code",
   "execution_count": 23,
   "metadata": {},
   "outputs": [
    {
     "name": "stdout",
     "output_type": "stream",
     "text": [
      "locality_name\n",
      "Санкт-Петербург      114849.017365\n",
      "Пушкин               103125.818428\n",
      "деревня Кудрово       92472.013378\n",
      "посёлок Парголово     90177.207951\n",
      "посёлок Мурино        85752.528736\n",
      "посёлок Шушары        78678.009091\n",
      "Колпино               75424.322485\n",
      "Гатчина               68746.061889\n",
      "Всеволожск            68655.364322\n",
      "Выборг                58141.780591\n",
      "Name: price_metr, dtype: float64\n"
     ]
    },
    {
     "data": {
      "text/plain": [
       "['Санкт-Петербург',\n",
       " 'посёлок Мурино',\n",
       " 'посёлок Шушары',\n",
       " 'Всеволожск',\n",
       " 'Пушкин',\n",
       " 'Колпино',\n",
       " 'посёлок Парголово',\n",
       " 'Гатчина',\n",
       " 'деревня Кудрово',\n",
       " 'Выборг']"
      ]
     },
     "execution_count": 23,
     "metadata": {},
     "output_type": "execute_result"
    },
    {
     "data": {
      "image/png": "[encoded data removed]",
      "text/plain": [
       "<Figure size 720x216 with 1 Axes>"
      ]
     },
     "metadata": {
      "needs_background": "light"
     },
     "output_type": "display_data"
    }
   ],
   "source": [
    "citi_name = ['Санкт-Петербург', 'посёлок Мурино', 'посёлок Шушары', 'Всеволожск', 'Пушкин', 'Колпино', 'посёлок Парголово', 'Гатчина', 'деревня Кудрово', 'Выборг']      \n",
    "data_filtr = data['locality_name'].isin(citi_name)\n",
    "city_fitr = data[data_filtr]\n",
    "citi_top = city_fitr.groupby('locality_name')['price_metr'].mean()\n",
    "\n",
    "print(citi_top.sort_values(ascending=False).head(10))\n",
    "\n",
    "citi_top.plot(style='o-', figsize=(10, 3))\n",
    "\n",
    "citi_name\n"
   ]
  },
  {
   "cell_type": "markdown",
   "metadata": {},
   "source": [
    "Нашёл топ 10 по популярности. Прощитал среднюю стоймость кв. метра в этих населённых пунктах. Соответственно В Санкт-Петербурге самое доргое жильё, а в Выборге самое дешовое."
   ]
  },
  {
   "cell_type": "code",
   "execution_count": 24,
   "metadata": {},
   "outputs": [
    {
     "data": {
      "text/plain": [
       "cityCenters_km\n",
       "11.122      1190.0\n",
       "4.165       1686.0\n",
       "5.238       1800.0\n",
       "5.639       1900.0\n",
       "2.111       2100.0\n",
       "            ...   \n",
       "3.794     180000.0\n",
       "5.297     190870.0\n",
       "6.235     245000.0\n",
       "1.073     289238.4\n",
       "1.197     330000.0\n",
       "Name: last_price, Length: 6299, dtype: float64"
      ]
     },
     "execution_count": 24,
     "metadata": {},
     "output_type": "execute_result"
    }
   ],
   "source": [
    "data_spb = data.query('locality_name == \"Санкт-Петербург\"')\n",
    "pd.set_option('mode.chained_assignment', None)\n",
    "data_spb['cityCenters_km'] = (data_spb['cityCenters_nearest'] / 1000)\n",
    "\n",
    "centr_km = data_spb.groupby('cityCenters_km')['last_price'].median().sort_values()\n",
    "centr_km"
   ]
  },
  {
   "cell_type": "markdown",
   "metadata": {},
   "source": [
    " Устойчевый рост по мере приближения."
   ]
  },
  {
   "cell_type": "markdown",
   "metadata": {},
   "source": [
    "### Поиск центра города"
   ]
  },
  {
   "cell_type": "code",
   "execution_count": 25,
   "metadata": {},
   "outputs": [
    {
     "data": {
      "image/png": "[encoded data removed]",
      "text/plain": [
       "<Figure size 432x288 with 1 Axes>"
      ]
     },
     "metadata": {
      "needs_background": "light"
     },
     "output_type": "display_data"
    },
    {
     "data": {
      "text/plain": [
       "<AxesSubplot:xlabel='cityCenters_km'>"
      ]
     },
     "execution_count": 25,
     "metadata": {},
     "output_type": "execute_result"
    },
    {
     "data": {
      "image/png": "[encoded data removed]",
      "text/plain": [
       "<Figure size 432x288 with 1 Axes>"
      ]
     },
     "metadata": {
      "needs_background": "light"
     },
     "output_type": "display_data"
    }
   ],
   "source": [
    "data_spb.plot(x='cityCenters_km', y='last_price', kind='scatter')\n",
    "plt.show()\n",
    "\n",
    "centr_km.plot()"
   ]
  },
  {
   "cell_type": "markdown",
   "metadata": {},
   "source": [
    "По графику видим скачок цены на уровне 7км. от центра. Так что область менее 7км. можно считать цетром."
   ]
  },
  {
   "cell_type": "markdown",
   "metadata": {},
   "source": [
    "### Влияние на цены в центре"
   ]
  },
  {
   "cell_type": "code",
   "execution_count": 26,
   "metadata": {},
   "outputs": [
    {
     "name": "stdout",
     "output_type": "stream",
     "text": [
      "0.6075769272535283\n"
     ]
    },
    {
     "data": {
      "text/plain": [
       "total_area\n",
       "13.2       1686.0\n",
       "17.0       1900.0\n",
       "16.0       2100.0\n",
       "23.0       2176.0\n",
       "138.7      2200.0\n",
       "           ...   \n",
       "268.0    190870.0\n",
       "410.0    240000.0\n",
       "285.7    245000.0\n",
       "618.0    300000.0\n",
       "401.0    401300.0\n",
       "Name: last_price, Length: 1075, dtype: float64"
      ]
     },
     "execution_count": 26,
     "metadata": {},
     "output_type": "execute_result"
    }
   ],
   "source": [
    "data_spb_center = data_spb.query('cityCenters_km < 7')\n",
    "\n",
    "print(data_spb_center['total_area'].corr(data_spb_center['last_price']))\n",
    "data_spb_center.groupby('total_area')['last_price'].median().sort_values()"
   ]
  },
  {
   "cell_type": "markdown",
   "metadata": {},
   "source": [
    "Корреляция так же выше среднего, но не много меньше чем во всех квартирах."
   ]
  },
  {
   "cell_type": "code",
   "execution_count": 27,
   "metadata": {},
   "outputs": [
    {
     "name": "stdout",
     "output_type": "stream",
     "text": [
      "0.3098733910278382\n"
     ]
    },
    {
     "data": {
      "text/plain": [
       "rooms\n",
       "0      5200.0\n",
       "1      6100.0\n",
       "2      7800.0\n",
       "3     10000.0\n",
       "4     12000.0\n",
       "5     14800.0\n",
       "6     19500.0\n",
       "8     21045.0\n",
       "7     24900.0\n",
       "11    25250.0\n",
       "10    27750.0\n",
       "16    28500.0\n",
       "14    28659.0\n",
       "9     29000.0\n",
       "19    32250.0\n",
       "15    65000.0\n",
       "Name: last_price, dtype: float64"
      ]
     },
     "execution_count": 27,
     "metadata": {},
     "output_type": "execute_result"
    }
   ],
   "source": [
    "print(data_spb_center['rooms'].corr(data_spb_center['last_price']))\n",
    "data_spb_center.groupby('rooms')['last_price'].median().sort_values()"
   ]
  },
  {
   "cell_type": "markdown",
   "metadata": {},
   "source": [
    " Зависимость есть, но так же меньше чем в общем иследовании."
   ]
  },
  {
   "cell_type": "code",
   "execution_count": 28,
   "metadata": {},
   "outputs": [
    {
     "data": {
      "text/plain": [
       "cityCenters_nearest\n",
       "4165      1686.0\n",
       "5238      1800.0\n",
       "5639      1900.0\n",
       "2111      2100.0\n",
       "2903      2385.0\n",
       "          ...   \n",
       "3794    180000.0\n",
       "5297    190870.0\n",
       "6235    245000.0\n",
       "1073    289238.4\n",
       "1197    330000.0\n",
       "Name: last_price, Length: 1770, dtype: float64"
      ]
     },
     "execution_count": 28,
     "metadata": {},
     "output_type": "execute_result"
    }
   ],
   "source": [
    "data_spb_center.groupby('cityCenters_nearest')['last_price'].median().sort_values()"
   ]
  },
  {
   "cell_type": "markdown",
   "metadata": {},
   "source": [
    " Внутри центрального кольца зависимость от растояния на много меньше."
   ]
  },
  {
   "cell_type": "code",
   "execution_count": 29,
   "metadata": {},
   "outputs": [
    {
     "data": {
      "text/plain": [
       "floor_cat\n",
       "первый    9300.0\n",
       "Name: last_price, dtype: float64"
      ]
     },
     "execution_count": 29,
     "metadata": {},
     "output_type": "execute_result"
    }
   ],
   "source": [
    "data_spb_center.groupby('floor_cat')['last_price'].median()"
   ]
  },
  {
   "cell_type": "markdown",
   "metadata": {},
   "source": [
    " Конечно, как и в общем иследовании первые этажи уступают, но разница по ценам намного больше."
   ]
  },
  {
   "cell_type": "code",
   "execution_count": 30,
   "metadata": {},
   "outputs": [
    {
     "data": {
      "text/plain": [
       "year\n",
       "2018     8925.0\n",
       "2017     9125.0\n",
       "2016     9400.0\n",
       "2019     9949.5\n",
       "2015    10500.0\n",
       "2014    19800.0\n",
       "Name: last_price, dtype: float64"
      ]
     },
     "execution_count": 30,
     "metadata": {},
     "output_type": "execute_result"
    }
   ],
   "source": [
    "data_spb_center.groupby('year')['last_price'].median().sort_values()"
   ]
  },
  {
   "cell_type": "markdown",
   "metadata": {},
   "source": [
    "  Так же самые большие цены были 2014. С2015 цены стали падать, но 2019 произошёл скачёк цен."
   ]
  },
  {
   "cell_type": "code",
   "execution_count": 31,
   "metadata": {},
   "outputs": [
    {
     "data": {
      "text/plain": [
       "month\n",
       "6      8600.0\n",
       "10     8700.0\n",
       "12     8800.0\n",
       "8      8970.0\n",
       "5      8980.0\n",
       "7      9250.0\n",
       "4      9300.0\n",
       "3      9490.0\n",
       "2      9510.0\n",
       "11     9590.0\n",
       "9      9925.0\n",
       "1     10350.0\n",
       "Name: last_price, dtype: float64"
      ]
     },
     "execution_count": 31,
     "metadata": {},
     "output_type": "execute_result"
    }
   ],
   "source": [
    "data_spb_center.groupby('month')['last_price'].median().sort_values()"
   ]
  },
  {
   "cell_type": "markdown",
   "metadata": {},
   "source": [
    " Чуть выше цена при подачи оъявления в январе, по остальным месяцам разница не существенна."
   ]
  },
  {
   "cell_type": "code",
   "execution_count": 32,
   "metadata": {},
   "outputs": [
    {
     "data": {
      "text/plain": [
       "first_day_weekday\n",
       "5    8900.0000\n",
       "4    9020.0000\n",
       "1    9286.3825\n",
       "2    9395.0000\n",
       "3    9410.0000\n",
       "0    9500.0000\n",
       "6    9500.0000\n",
       "Name: last_price, dtype: float64"
      ]
     },
     "execution_count": 32,
     "metadata": {},
     "output_type": "execute_result"
    }
   ],
   "source": [
    "data_spb_center.groupby('first_day_weekday')['last_price'].median().sort_values()"
   ]
  },
  {
   "cell_type": "markdown",
   "metadata": {},
   "source": [
    " При подачи объявления в субботу средняя цена чуть меньше. В остальном разница не велика."
   ]
  },
  {
   "cell_type": "markdown",
   "metadata": {},
   "source": [
    "## Общий вывод"
   ]
  },
  {
   "cell_type": "markdown",
   "metadata": {},
   "source": [
    "\n",
    "    \n",
    "1. Факторов влияющих на стоймость квартиры очень много. \n",
    " \n",
    "2. Самое большое влияние имеет площадь квартиры. \n",
    "    \n",
    "3. За линией центра приближонность к ней имеет намного большее влияние, чем уже внутри этой линии.  \n",
    "    \n",
    "4. Из за множества факторов влияющих и соответственно данных, обработка и анализ затрудненны. \n",
    "    \n",
    "5. Часть данных заносится из объявлений, которые подают сами продавцы. Из за этого много неточностей и артефактов в данных."
   ]
  },
  {
   "cell_type": "code",
   "execution_count": null,
   "metadata": {},
   "outputs": [],
   "source": []
  }
 ],
 "metadata": {
  "ExecuteTimeLog": [
   {
    "duration": 1253,
    "start_time": "2021-12-16T04:20:32.637Z"
   },
   {
    "duration": 65,
    "start_time": "2021-12-16T04:22:43.640Z"
   },
   {
    "duration": 59,
    "start_time": "2021-12-16T04:29:40.424Z"
   },
   {
    "duration": 59,
    "start_time": "2021-12-16T04:30:28.824Z"
   },
   {
    "duration": 57,
    "start_time": "2021-12-16T04:35:13.742Z"
   },
   {
    "duration": 57,
    "start_time": "2021-12-16T04:35:41.231Z"
   },
   {
    "duration": 703,
    "start_time": "2021-12-16T06:08:03.575Z"
   },
   {
    "duration": 96,
    "start_time": "2021-12-16T06:09:20.717Z"
   },
   {
    "duration": 58,
    "start_time": "2021-12-16T06:09:37.036Z"
   },
   {
    "duration": 62,
    "start_time": "2021-12-16T06:10:45.533Z"
   },
   {
    "duration": 65,
    "start_time": "2021-12-16T06:16:00.026Z"
   },
   {
    "duration": 62,
    "start_time": "2021-12-16T06:16:18.526Z"
   },
   {
    "duration": 78,
    "start_time": "2021-12-16T06:17:26.761Z"
   },
   {
    "duration": 108,
    "start_time": "2021-12-16T06:20:54.221Z"
   },
   {
    "duration": 76,
    "start_time": "2021-12-16T06:21:09.462Z"
   },
   {
    "duration": 111,
    "start_time": "2021-12-16T06:22:07.580Z"
   },
   {
    "duration": 318,
    "start_time": "2021-12-16T08:42:06.599Z"
   },
   {
    "duration": 732,
    "start_time": "2021-12-16T08:42:13.576Z"
   },
   {
    "duration": 351,
    "start_time": "2021-12-16T08:42:14.310Z"
   },
   {
    "duration": 46,
    "start_time": "2021-12-16T08:47:48.442Z"
   },
   {
    "duration": 1249,
    "start_time": "2021-12-16T15:04:31.042Z"
   },
   {
    "duration": -946,
    "start_time": "2021-12-16T15:04:33.239Z"
   },
   {
    "duration": 136,
    "start_time": "2021-12-16T15:05:06.435Z"
   },
   {
    "duration": 35,
    "start_time": "2021-12-16T15:06:57.627Z"
   },
   {
    "duration": 12,
    "start_time": "2021-12-16T15:17:54.675Z"
   },
   {
    "duration": 97,
    "start_time": "2021-12-16T16:00:49.203Z"
   },
   {
    "duration": 275,
    "start_time": "2021-12-16T16:03:55.396Z"
   },
   {
    "duration": 842,
    "start_time": "2021-12-16T16:04:15.733Z"
   },
   {
    "duration": 10,
    "start_time": "2021-12-16T16:04:16.578Z"
   },
   {
    "duration": 442,
    "start_time": "2021-12-16T16:04:16.592Z"
   },
   {
    "duration": 5,
    "start_time": "2021-12-16T16:05:04.554Z"
   },
   {
    "duration": 63,
    "start_time": "2021-12-16T16:05:28.478Z"
   },
   {
    "duration": 7184,
    "start_time": "2021-12-16T16:13:40.279Z"
   },
   {
    "duration": 7478,
    "start_time": "2021-12-16T16:16:39.064Z"
   },
   {
    "duration": 70,
    "start_time": "2021-12-16T16:18:07.361Z"
   },
   {
    "duration": 105,
    "start_time": "2021-12-16T16:19:05.579Z"
   },
   {
    "duration": 48,
    "start_time": "2021-12-16T16:19:13.586Z"
   },
   {
    "duration": 975,
    "start_time": "2021-12-17T09:41:40.515Z"
   },
   {
    "duration": 32,
    "start_time": "2021-12-17T09:41:41.493Z"
   },
   {
    "duration": 72,
    "start_time": "2021-12-17T09:41:41.528Z"
   },
   {
    "duration": 75,
    "start_time": "2021-12-17T10:44:59.611Z"
   },
   {
    "duration": 360,
    "start_time": "2021-12-17T10:46:35.645Z"
   },
   {
    "duration": 265,
    "start_time": "2021-12-17T10:49:00.703Z"
   },
   {
    "duration": 306,
    "start_time": "2021-12-17T10:50:08.384Z"
   },
   {
    "duration": 347,
    "start_time": "2021-12-17T11:36:27.491Z"
   },
   {
    "duration": 94,
    "start_time": "2021-12-17T11:55:18.392Z"
   },
   {
    "duration": 100,
    "start_time": "2021-12-17T11:58:09.066Z"
   },
   {
    "duration": 367,
    "start_time": "2021-12-17T12:10:42.307Z"
   },
   {
    "duration": 262,
    "start_time": "2021-12-17T12:12:58.500Z"
   },
   {
    "duration": 339,
    "start_time": "2021-12-17T12:15:57.727Z"
   },
   {
    "duration": 305,
    "start_time": "2021-12-17T12:25:31.935Z"
   },
   {
    "duration": 311,
    "start_time": "2021-12-17T12:26:16.790Z"
   },
   {
    "duration": 249,
    "start_time": "2021-12-17T12:27:27.655Z"
   },
   {
    "duration": 250,
    "start_time": "2021-12-17T12:28:24.552Z"
   },
   {
    "duration": 99,
    "start_time": "2021-12-17T12:43:25.420Z"
   },
   {
    "duration": 263,
    "start_time": "2021-12-17T12:50:36.431Z"
   },
   {
    "duration": 283,
    "start_time": "2021-12-17T12:53:14.881Z"
   },
   {
    "duration": 85,
    "start_time": "2021-12-17T12:59:07.331Z"
   },
   {
    "duration": 41,
    "start_time": "2021-12-17T12:59:52.858Z"
   },
   {
    "duration": 50,
    "start_time": "2021-12-17T13:00:23.644Z"
   },
   {
    "duration": 71,
    "start_time": "2021-12-17T13:01:57.117Z"
   },
   {
    "duration": 37,
    "start_time": "2021-12-17T13:02:35.493Z"
   },
   {
    "duration": 58,
    "start_time": "2021-12-17T13:17:15.303Z"
   },
   {
    "duration": 59,
    "start_time": "2021-12-17T13:27:10.367Z"
   },
   {
    "duration": 77,
    "start_time": "2021-12-17T13:27:48.009Z"
   },
   {
    "duration": 6,
    "start_time": "2021-12-17T13:31:14.170Z"
   },
   {
    "duration": 62,
    "start_time": "2021-12-17T13:33:31.003Z"
   },
   {
    "duration": 1265,
    "start_time": "2021-12-17T13:38:26.814Z"
   },
   {
    "duration": 1351,
    "start_time": "2021-12-17T13:38:43.687Z"
   },
   {
    "duration": 1301,
    "start_time": "2021-12-17T13:41:02.258Z"
   },
   {
    "duration": 7359,
    "start_time": "2021-12-17T13:47:34.431Z"
   },
   {
    "duration": 2176,
    "start_time": "2021-12-17T13:48:01.343Z"
   },
   {
    "duration": 40,
    "start_time": "2021-12-17T13:51:15.922Z"
   },
   {
    "duration": 336,
    "start_time": "2021-12-17T13:51:42.481Z"
   },
   {
    "duration": 244,
    "start_time": "2021-12-17T13:52:05.953Z"
   },
   {
    "duration": 307,
    "start_time": "2021-12-17T13:53:30.699Z"
   },
   {
    "duration": 282,
    "start_time": "2021-12-17T13:53:56.498Z"
   },
   {
    "duration": 278,
    "start_time": "2021-12-17T13:54:16.035Z"
   },
   {
    "duration": 1010,
    "start_time": "2021-12-17T13:54:29.939Z"
   },
   {
    "duration": 1013,
    "start_time": "2021-12-17T13:54:52.293Z"
   },
   {
    "duration": 17,
    "start_time": "2021-12-17T13:54:53.310Z"
   },
   {
    "duration": 60,
    "start_time": "2021-12-17T13:54:53.330Z"
   },
   {
    "duration": 160,
    "start_time": "2021-12-17T13:54:53.393Z"
   },
   {
    "duration": 62,
    "start_time": "2021-12-17T13:54:53.557Z"
   },
   {
    "duration": 2182,
    "start_time": "2021-12-17T13:54:53.622Z"
   },
   {
    "duration": 98,
    "start_time": "2021-12-17T13:56:17.953Z"
   },
   {
    "duration": 940,
    "start_time": "2021-12-17T13:57:17.332Z"
   },
   {
    "duration": 11,
    "start_time": "2021-12-17T13:57:18.275Z"
   },
   {
    "duration": 80,
    "start_time": "2021-12-17T13:57:18.289Z"
   },
   {
    "duration": 78,
    "start_time": "2021-12-17T13:57:18.372Z"
   },
   {
    "duration": 45,
    "start_time": "2021-12-17T13:57:18.452Z"
   },
   {
    "duration": 1853,
    "start_time": "2021-12-17T13:57:18.500Z"
   },
   {
    "duration": 1490,
    "start_time": "2021-12-17T14:00:40.069Z"
   },
   {
    "duration": 1415,
    "start_time": "2021-12-17T14:06:20.849Z"
   },
   {
    "duration": 413,
    "start_time": "2021-12-17T14:20:39.038Z"
   },
   {
    "duration": 624,
    "start_time": "2021-12-17T14:22:41.216Z"
   },
   {
    "duration": 266,
    "start_time": "2021-12-17T14:23:20.429Z"
   },
   {
    "duration": 337,
    "start_time": "2021-12-17T14:23:36.261Z"
   },
   {
    "duration": 456,
    "start_time": "2021-12-17T14:26:57.894Z"
   },
   {
    "duration": 531,
    "start_time": "2021-12-17T14:28:10.367Z"
   },
   {
    "duration": 615,
    "start_time": "2021-12-17T14:33:48.453Z"
   },
   {
    "duration": 718,
    "start_time": "2021-12-17T14:44:57.509Z"
   },
   {
    "duration": 548,
    "start_time": "2021-12-17T14:46:17.061Z"
   },
   {
    "duration": 593,
    "start_time": "2021-12-17T14:59:56.879Z"
   },
   {
    "duration": 459,
    "start_time": "2021-12-17T15:02:10.401Z"
   },
   {
    "duration": 903,
    "start_time": "2021-12-17T15:05:10.131Z"
   },
   {
    "duration": 11,
    "start_time": "2021-12-17T15:05:11.037Z"
   },
   {
    "duration": 69,
    "start_time": "2021-12-17T15:05:11.052Z"
   },
   {
    "duration": 105,
    "start_time": "2021-12-17T15:05:11.124Z"
   },
   {
    "duration": 88,
    "start_time": "2021-12-17T15:05:11.232Z"
   },
   {
    "duration": 1749,
    "start_time": "2021-12-17T15:05:11.323Z"
   },
   {
    "duration": 681,
    "start_time": "2021-12-17T15:05:13.074Z"
   },
   {
    "duration": 312,
    "start_time": "2021-12-17T15:05:13.758Z"
   },
   {
    "duration": 308,
    "start_time": "2021-12-17T15:14:19.287Z"
   },
   {
    "duration": 400,
    "start_time": "2021-12-17T15:14:39.920Z"
   },
   {
    "duration": 417,
    "start_time": "2021-12-17T15:14:59.777Z"
   },
   {
    "duration": 307,
    "start_time": "2021-12-17T15:17:56.754Z"
   },
   {
    "duration": 432,
    "start_time": "2021-12-17T15:18:58.099Z"
   },
   {
    "duration": 321,
    "start_time": "2021-12-17T15:21:01.405Z"
   },
   {
    "duration": 306,
    "start_time": "2021-12-17T15:21:39.949Z"
   },
   {
    "duration": 502,
    "start_time": "2021-12-17T15:22:18.687Z"
   },
   {
    "duration": 489,
    "start_time": "2021-12-17T15:23:58.864Z"
   },
   {
    "duration": 555,
    "start_time": "2021-12-17T15:24:15.120Z"
   },
   {
    "duration": 313,
    "start_time": "2021-12-17T15:24:41.025Z"
   },
   {
    "duration": 327,
    "start_time": "2021-12-17T15:24:50.552Z"
   },
   {
    "duration": 310,
    "start_time": "2021-12-17T15:25:17.929Z"
   },
   {
    "duration": 942,
    "start_time": "2021-12-17T15:25:29.808Z"
   },
   {
    "duration": 11,
    "start_time": "2021-12-17T15:25:30.753Z"
   },
   {
    "duration": 91,
    "start_time": "2021-12-17T15:25:30.766Z"
   },
   {
    "duration": 71,
    "start_time": "2021-12-17T15:25:30.860Z"
   },
   {
    "duration": 46,
    "start_time": "2021-12-17T15:25:30.933Z"
   },
   {
    "duration": 1291,
    "start_time": "2021-12-17T15:25:30.981Z"
   },
   {
    "duration": 714,
    "start_time": "2021-12-17T15:25:32.275Z"
   },
   {
    "duration": 327,
    "start_time": "2021-12-17T15:25:32.993Z"
   },
   {
    "duration": 449,
    "start_time": "2021-12-17T15:25:33.324Z"
   },
   {
    "duration": 367,
    "start_time": "2021-12-17T15:33:10.528Z"
   },
   {
    "duration": 377,
    "start_time": "2021-12-17T15:33:29.183Z"
   },
   {
    "duration": 291,
    "start_time": "2021-12-17T15:40:01.101Z"
   },
   {
    "duration": 312,
    "start_time": "2021-12-17T15:40:55.646Z"
   },
   {
    "duration": 429,
    "start_time": "2021-12-17T15:41:18.846Z"
   },
   {
    "duration": 6432,
    "start_time": "2021-12-17T15:57:38.795Z"
   },
   {
    "duration": 882,
    "start_time": "2021-12-17T15:58:43.970Z"
   },
   {
    "duration": 10,
    "start_time": "2021-12-17T15:58:44.855Z"
   },
   {
    "duration": 74,
    "start_time": "2021-12-17T15:58:44.869Z"
   },
   {
    "duration": 75,
    "start_time": "2021-12-17T15:58:44.946Z"
   },
   {
    "duration": 45,
    "start_time": "2021-12-17T15:58:45.023Z"
   },
   {
    "duration": 1231,
    "start_time": "2021-12-17T15:58:45.071Z"
   },
   {
    "duration": 813,
    "start_time": "2021-12-17T15:58:46.304Z"
   },
   {
    "duration": 313,
    "start_time": "2021-12-17T15:58:47.119Z"
   },
   {
    "duration": 357,
    "start_time": "2021-12-17T15:58:47.436Z"
   },
   {
    "duration": 542,
    "start_time": "2021-12-17T15:58:47.796Z"
   },
   {
    "duration": 6919,
    "start_time": "2021-12-17T15:58:48.341Z"
   },
   {
    "duration": 339,
    "start_time": "2021-12-17T16:00:34.424Z"
   },
   {
    "duration": 454,
    "start_time": "2021-12-17T16:02:05.865Z"
   },
   {
    "duration": 604,
    "start_time": "2021-12-17T16:02:45.088Z"
   },
   {
    "duration": 965,
    "start_time": "2021-12-17T16:24:57.489Z"
   },
   {
    "duration": 1180,
    "start_time": "2021-12-17T16:26:00.547Z"
   },
   {
    "duration": 588,
    "start_time": "2021-12-17T16:26:19.570Z"
   },
   {
    "duration": 40,
    "start_time": "2021-12-17T17:11:39.316Z"
   },
   {
    "duration": 10,
    "start_time": "2021-12-17T17:14:19.966Z"
   },
   {
    "duration": 9,
    "start_time": "2021-12-17T17:16:01.959Z"
   },
   {
    "duration": 255,
    "start_time": "2021-12-17T17:35:53.262Z"
   },
   {
    "duration": 252,
    "start_time": "2021-12-17T17:36:22.910Z"
   },
   {
    "duration": 76,
    "start_time": "2021-12-17T17:40:33.331Z"
   },
   {
    "duration": 17,
    "start_time": "2021-12-17T17:42:33.621Z"
   },
   {
    "duration": 18,
    "start_time": "2021-12-17T17:42:59.732Z"
   },
   {
    "duration": 561,
    "start_time": "2021-12-17T17:46:40.678Z"
   },
   {
    "duration": 721,
    "start_time": "2021-12-17T17:48:45.440Z"
   },
   {
    "duration": 708,
    "start_time": "2021-12-17T17:50:40.138Z"
   },
   {
    "duration": 540,
    "start_time": "2021-12-17T17:57:27.287Z"
   },
   {
    "duration": 531,
    "start_time": "2021-12-17T17:58:19.288Z"
   },
   {
    "duration": 567,
    "start_time": "2021-12-17T17:59:51.561Z"
   },
   {
    "duration": 663,
    "start_time": "2021-12-17T18:01:06.545Z"
   },
   {
    "duration": 575,
    "start_time": "2021-12-17T18:01:25.049Z"
   },
   {
    "duration": 613,
    "start_time": "2021-12-17T18:02:05.538Z"
   },
   {
    "duration": 583,
    "start_time": "2021-12-17T18:02:23.219Z"
   },
   {
    "duration": 688,
    "start_time": "2021-12-18T09:12:22.362Z"
   },
   {
    "duration": 8,
    "start_time": "2021-12-18T09:12:23.052Z"
   },
   {
    "duration": 45,
    "start_time": "2021-12-18T09:12:23.062Z"
   },
   {
    "duration": 40,
    "start_time": "2021-12-18T09:12:23.109Z"
   },
   {
    "duration": 30,
    "start_time": "2021-12-18T09:12:23.150Z"
   },
   {
    "duration": 733,
    "start_time": "2021-12-18T09:12:23.181Z"
   },
   {
    "duration": 424,
    "start_time": "2021-12-18T09:12:23.916Z"
   },
   {
    "duration": 193,
    "start_time": "2021-12-18T09:12:24.342Z"
   },
   {
    "duration": 215,
    "start_time": "2021-12-18T09:12:24.537Z"
   },
   {
    "duration": 255,
    "start_time": "2021-12-18T09:12:24.754Z"
   },
   {
    "duration": 351,
    "start_time": "2021-12-18T09:12:25.010Z"
   },
   {
    "duration": 358,
    "start_time": "2021-12-18T09:12:25.363Z"
   },
   {
    "duration": 8,
    "start_time": "2021-12-18T09:16:56.902Z"
   },
   {
    "duration": 7,
    "start_time": "2021-12-18T09:17:46.150Z"
   },
   {
    "duration": 6,
    "start_time": "2021-12-18T09:19:21.623Z"
   },
   {
    "duration": 5,
    "start_time": "2021-12-18T09:19:44.256Z"
   },
   {
    "duration": 8,
    "start_time": "2021-12-18T09:22:15.731Z"
   },
   {
    "duration": 341,
    "start_time": "2021-12-18T09:26:53.388Z"
   },
   {
    "duration": 716,
    "start_time": "2021-12-18T09:28:35.532Z"
   },
   {
    "duration": 8,
    "start_time": "2021-12-18T09:28:36.250Z"
   },
   {
    "duration": 48,
    "start_time": "2021-12-18T09:28:36.261Z"
   },
   {
    "duration": 39,
    "start_time": "2021-12-18T09:28:36.311Z"
   },
   {
    "duration": 29,
    "start_time": "2021-12-18T09:28:36.352Z"
   },
   {
    "duration": 724,
    "start_time": "2021-12-18T09:28:36.383Z"
   },
   {
    "duration": 425,
    "start_time": "2021-12-18T09:28:37.109Z"
   },
   {
    "duration": 189,
    "start_time": "2021-12-18T09:28:37.537Z"
   },
   {
    "duration": 223,
    "start_time": "2021-12-18T09:28:37.728Z"
   },
   {
    "duration": 254,
    "start_time": "2021-12-18T09:28:37.952Z"
   },
   {
    "duration": 349,
    "start_time": "2021-12-18T09:28:38.208Z"
   },
   {
    "duration": 359,
    "start_time": "2021-12-18T09:28:38.558Z"
   },
   {
    "duration": 358,
    "start_time": "2021-12-18T09:28:38.919Z"
   },
   {
    "duration": 428,
    "start_time": "2021-12-18T09:30:20.896Z"
   },
   {
    "duration": 378,
    "start_time": "2021-12-18T09:35:46.339Z"
   },
   {
    "duration": 348,
    "start_time": "2021-12-18T09:37:50.636Z"
   },
   {
    "duration": 351,
    "start_time": "2021-12-18T09:38:11.725Z"
   },
   {
    "duration": 668,
    "start_time": "2021-12-18T09:39:15.118Z"
   },
   {
    "duration": 684,
    "start_time": "2021-12-18T09:39:24.558Z"
   },
   {
    "duration": 9,
    "start_time": "2021-12-18T09:39:25.244Z"
   },
   {
    "duration": 51,
    "start_time": "2021-12-18T09:39:25.258Z"
   },
   {
    "duration": 42,
    "start_time": "2021-12-18T09:39:25.311Z"
   },
   {
    "duration": 52,
    "start_time": "2021-12-18T09:39:25.356Z"
   },
   {
    "duration": 708,
    "start_time": "2021-12-18T09:39:25.410Z"
   },
   {
    "duration": 428,
    "start_time": "2021-12-18T09:39:26.121Z"
   },
   {
    "duration": 195,
    "start_time": "2021-12-18T09:39:26.550Z"
   },
   {
    "duration": 218,
    "start_time": "2021-12-18T09:39:26.747Z"
   },
   {
    "duration": 278,
    "start_time": "2021-12-18T09:39:26.968Z"
   },
   {
    "duration": 387,
    "start_time": "2021-12-18T09:39:27.248Z"
   },
   {
    "duration": 372,
    "start_time": "2021-12-18T09:39:27.636Z"
   },
   {
    "duration": 428,
    "start_time": "2021-12-18T09:39:28.010Z"
   },
   {
    "duration": 452,
    "start_time": "2021-12-18T09:40:04.969Z"
   },
   {
    "duration": 347,
    "start_time": "2021-12-18T09:42:19.915Z"
   },
   {
    "duration": 453,
    "start_time": "2021-12-18T09:42:31.459Z"
   },
   {
    "duration": 400,
    "start_time": "2021-12-18T09:43:26.364Z"
   },
   {
    "duration": 434,
    "start_time": "2021-12-18T09:46:17.150Z"
   },
   {
    "duration": 764,
    "start_time": "2021-12-18T09:46:57.104Z"
   },
   {
    "duration": 8,
    "start_time": "2021-12-18T09:46:57.870Z"
   },
   {
    "duration": 42,
    "start_time": "2021-12-18T09:46:57.880Z"
   },
   {
    "duration": 39,
    "start_time": "2021-12-18T09:46:57.923Z"
   },
   {
    "duration": 43,
    "start_time": "2021-12-18T09:46:57.964Z"
   },
   {
    "duration": 746,
    "start_time": "2021-12-18T09:46:58.009Z"
   },
   {
    "duration": 417,
    "start_time": "2021-12-18T09:46:58.756Z"
   },
   {
    "duration": 194,
    "start_time": "2021-12-18T09:46:59.175Z"
   },
   {
    "duration": 212,
    "start_time": "2021-12-18T09:46:59.371Z"
   },
   {
    "duration": 255,
    "start_time": "2021-12-18T09:46:59.585Z"
   },
   {
    "duration": 346,
    "start_time": "2021-12-18T09:46:59.842Z"
   },
   {
    "duration": 434,
    "start_time": "2021-12-18T09:47:00.189Z"
   },
   {
    "duration": -1528,
    "start_time": "2021-12-18T09:47:02.153Z"
   },
   {
    "duration": 388,
    "start_time": "2021-12-18T09:47:54.640Z"
   },
   {
    "duration": 347,
    "start_time": "2021-12-18T09:50:12.178Z"
   },
   {
    "duration": 531,
    "start_time": "2021-12-18T09:56:22.150Z"
   },
   {
    "duration": 352,
    "start_time": "2021-12-18T09:56:36.502Z"
   },
   {
    "duration": 339,
    "start_time": "2021-12-18T09:58:36.176Z"
   },
   {
    "duration": 725,
    "start_time": "2021-12-18T09:59:05.130Z"
   },
   {
    "duration": 8,
    "start_time": "2021-12-18T09:59:05.857Z"
   },
   {
    "duration": 52,
    "start_time": "2021-12-18T09:59:05.870Z"
   },
   {
    "duration": 44,
    "start_time": "2021-12-18T09:59:05.924Z"
   },
   {
    "duration": 49,
    "start_time": "2021-12-18T09:59:05.969Z"
   },
   {
    "duration": 766,
    "start_time": "2021-12-18T09:59:06.020Z"
   },
   {
    "duration": 441,
    "start_time": "2021-12-18T09:59:06.789Z"
   },
   {
    "duration": 202,
    "start_time": "2021-12-18T09:59:07.232Z"
   },
   {
    "duration": 228,
    "start_time": "2021-12-18T09:59:07.436Z"
   },
   {
    "duration": 268,
    "start_time": "2021-12-18T09:59:07.666Z"
   },
   {
    "duration": 370,
    "start_time": "2021-12-18T09:59:07.936Z"
   },
   {
    "duration": 376,
    "start_time": "2021-12-18T09:59:08.308Z"
   },
   {
    "duration": 436,
    "start_time": "2021-12-18T09:59:08.686Z"
   },
   {
    "duration": 352,
    "start_time": "2021-12-18T10:00:08.277Z"
   },
   {
    "duration": 343,
    "start_time": "2021-12-18T10:01:34.053Z"
   },
   {
    "duration": 403,
    "start_time": "2021-12-18T10:02:09.798Z"
   },
   {
    "duration": 407,
    "start_time": "2021-12-18T10:03:00.687Z"
   },
   {
    "duration": 351,
    "start_time": "2021-12-18T10:03:24.518Z"
   },
   {
    "duration": 350,
    "start_time": "2021-12-18T10:04:12.255Z"
   },
   {
    "duration": 370,
    "start_time": "2021-12-18T10:04:47.768Z"
   },
   {
    "duration": 8,
    "start_time": "2021-12-18T10:04:57.096Z"
   },
   {
    "duration": 347,
    "start_time": "2021-12-18T10:05:04.608Z"
   },
   {
    "duration": 387,
    "start_time": "2021-12-18T10:07:31.714Z"
   },
   {
    "duration": 360,
    "start_time": "2021-12-18T10:07:47.106Z"
   },
   {
    "duration": 428,
    "start_time": "2021-12-18T10:07:55.594Z"
   },
   {
    "duration": 9,
    "start_time": "2021-12-18T10:08:00.306Z"
   },
   {
    "duration": 378,
    "start_time": "2021-12-18T10:08:05.569Z"
   },
   {
    "duration": 365,
    "start_time": "2021-12-18T10:12:15.710Z"
   },
   {
    "duration": 505,
    "start_time": "2021-12-18T10:23:34.855Z"
   },
   {
    "duration": 350,
    "start_time": "2021-12-18T10:24:49.502Z"
   },
   {
    "duration": 452,
    "start_time": "2021-12-18T10:25:28.607Z"
   },
   {
    "duration": 509,
    "start_time": "2021-12-18T10:25:44.206Z"
   },
   {
    "duration": 668,
    "start_time": "2021-12-18T10:30:27.923Z"
   },
   {
    "duration": 664,
    "start_time": "2021-12-18T10:37:01.512Z"
   },
   {
    "duration": 7,
    "start_time": "2021-12-18T10:39:41.937Z"
   },
   {
    "duration": 772,
    "start_time": "2021-12-18T10:49:07.520Z"
   },
   {
    "duration": 711,
    "start_time": "2021-12-18T10:53:35.064Z"
   },
   {
    "duration": 8,
    "start_time": "2021-12-18T10:53:35.777Z"
   },
   {
    "duration": 38,
    "start_time": "2021-12-18T10:53:35.789Z"
   },
   {
    "duration": 41,
    "start_time": "2021-12-18T10:53:35.828Z"
   },
   {
    "duration": 46,
    "start_time": "2021-12-18T10:53:35.871Z"
   },
   {
    "duration": 721,
    "start_time": "2021-12-18T10:53:35.919Z"
   },
   {
    "duration": 526,
    "start_time": "2021-12-18T10:53:36.642Z"
   },
   {
    "duration": 193,
    "start_time": "2021-12-18T10:53:37.170Z"
   },
   {
    "duration": 217,
    "start_time": "2021-12-18T10:53:37.365Z"
   },
   {
    "duration": 257,
    "start_time": "2021-12-18T10:53:37.584Z"
   },
   {
    "duration": 364,
    "start_time": "2021-12-18T10:53:37.842Z"
   },
   {
    "duration": 709,
    "start_time": "2021-12-18T10:53:38.208Z"
   },
   {
    "duration": 538,
    "start_time": "2021-12-18T11:07:39.174Z"
   },
   {
    "duration": 749,
    "start_time": "2021-12-18T11:08:12.655Z"
   },
   {
    "duration": 556,
    "start_time": "2021-12-18T11:14:21.820Z"
   },
   {
    "duration": 16,
    "start_time": "2021-12-18T11:14:49.699Z"
   },
   {
    "duration": 399,
    "start_time": "2021-12-18T11:17:31.189Z"
   },
   {
    "duration": 406,
    "start_time": "2021-12-18T11:20:34.079Z"
   },
   {
    "duration": 471,
    "start_time": "2021-12-18T11:21:08.056Z"
   },
   {
    "duration": 362,
    "start_time": "2021-12-18T11:21:33.904Z"
   },
   {
    "duration": 15026,
    "start_time": "2021-12-18T11:22:10.689Z"
   },
   {
    "duration": -1496,
    "start_time": "2021-12-18T11:23:18.679Z"
   },
   {
    "duration": 935,
    "start_time": "2021-12-18T11:24:34.943Z"
   },
   {
    "duration": 9,
    "start_time": "2021-12-18T11:24:35.880Z"
   },
   {
    "duration": 44,
    "start_time": "2021-12-18T11:24:35.891Z"
   },
   {
    "duration": 39,
    "start_time": "2021-12-18T11:24:35.937Z"
   },
   {
    "duration": 49,
    "start_time": "2021-12-18T11:24:35.978Z"
   },
   {
    "duration": 773,
    "start_time": "2021-12-18T11:24:36.029Z"
   },
   {
    "duration": 482,
    "start_time": "2021-12-18T11:24:36.806Z"
   },
   {
    "duration": 201,
    "start_time": "2021-12-18T11:24:37.291Z"
   },
   {
    "duration": 261,
    "start_time": "2021-12-18T11:24:37.494Z"
   },
   {
    "duration": 254,
    "start_time": "2021-12-18T11:24:37.757Z"
   },
   {
    "duration": 384,
    "start_time": "2021-12-18T11:24:38.013Z"
   },
   {
    "duration": 718,
    "start_time": "2021-12-18T11:24:38.400Z"
   },
   {
    "duration": 9180,
    "start_time": "2021-12-18T11:24:39.120Z"
   },
   {
    "duration": 894,
    "start_time": "2021-12-18T11:29:00.543Z"
   },
   {
    "duration": 369,
    "start_time": "2021-12-18T11:29:27.942Z"
   },
   {
    "duration": 417,
    "start_time": "2021-12-18T11:30:49.215Z"
   },
   {
    "duration": 297,
    "start_time": "2021-12-18T11:31:35.120Z"
   },
   {
    "duration": 293,
    "start_time": "2021-12-18T11:32:07.633Z"
   },
   {
    "duration": 297,
    "start_time": "2021-12-18T11:34:01.353Z"
   },
   {
    "duration": 333,
    "start_time": "2021-12-18T11:38:25.973Z"
   },
   {
    "duration": 308,
    "start_time": "2021-12-18T11:54:05.233Z"
   },
   {
    "duration": 669,
    "start_time": "2021-12-18T12:01:30.367Z"
   },
   {
    "duration": 8682,
    "start_time": "2021-12-18T12:12:21.262Z"
   },
   {
    "duration": 9047,
    "start_time": "2021-12-18T12:29:47.419Z"
   },
   {
    "duration": 11,
    "start_time": "2021-12-18T12:30:15.099Z"
   },
   {
    "duration": 18,
    "start_time": "2021-12-18T12:30:38.610Z"
   },
   {
    "duration": 699,
    "start_time": "2021-12-18T12:31:02.665Z"
   },
   {
    "duration": 8,
    "start_time": "2021-12-18T12:31:03.366Z"
   },
   {
    "duration": 41,
    "start_time": "2021-12-18T12:31:03.376Z"
   },
   {
    "duration": 44,
    "start_time": "2021-12-18T12:31:03.419Z"
   },
   {
    "duration": 55,
    "start_time": "2021-12-18T12:31:03.465Z"
   },
   {
    "duration": 950,
    "start_time": "2021-12-18T12:31:03.522Z"
   },
   {
    "duration": 433,
    "start_time": "2021-12-18T12:31:04.474Z"
   },
   {
    "duration": 196,
    "start_time": "2021-12-18T12:31:04.910Z"
   },
   {
    "duration": 227,
    "start_time": "2021-12-18T12:31:05.108Z"
   },
   {
    "duration": 273,
    "start_time": "2021-12-18T12:31:05.336Z"
   },
   {
    "duration": 366,
    "start_time": "2021-12-18T12:31:05.611Z"
   },
   {
    "duration": 1150,
    "start_time": "2021-12-18T12:31:05.979Z"
   },
   {
    "duration": 531,
    "start_time": "2021-12-18T12:31:07.131Z"
   },
   {
    "duration": 384,
    "start_time": "2021-12-18T12:31:07.664Z"
   },
   {
    "duration": 765,
    "start_time": "2021-12-18T12:31:08.049Z"
   },
   {
    "duration": 18,
    "start_time": "2021-12-18T12:31:08.815Z"
   },
   {
    "duration": 700,
    "start_time": "2021-12-18T12:31:51.796Z"
   },
   {
    "duration": 404,
    "start_time": "2021-12-18T12:32:04.171Z"
   },
   {
    "duration": 430,
    "start_time": "2021-12-18T12:38:10.496Z"
   },
   {
    "duration": 729,
    "start_time": "2021-12-18T12:39:13.916Z"
   },
   {
    "duration": 8,
    "start_time": "2021-12-18T12:39:14.647Z"
   },
   {
    "duration": 38,
    "start_time": "2021-12-18T12:39:14.657Z"
   },
   {
    "duration": 45,
    "start_time": "2021-12-18T12:39:14.696Z"
   },
   {
    "duration": 29,
    "start_time": "2021-12-18T12:39:14.742Z"
   },
   {
    "duration": 425,
    "start_time": "2021-12-18T12:39:14.773Z"
   },
   {
    "duration": -1409,
    "start_time": "2021-12-18T12:39:16.609Z"
   },
   {
    "duration": -1409,
    "start_time": "2021-12-18T12:39:16.610Z"
   },
   {
    "duration": -1410,
    "start_time": "2021-12-18T12:39:16.612Z"
   },
   {
    "duration": -1410,
    "start_time": "2021-12-18T12:39:16.613Z"
   },
   {
    "duration": -1410,
    "start_time": "2021-12-18T12:39:16.614Z"
   },
   {
    "duration": -1411,
    "start_time": "2021-12-18T12:39:16.616Z"
   },
   {
    "duration": -1412,
    "start_time": "2021-12-18T12:39:16.618Z"
   },
   {
    "duration": -1415,
    "start_time": "2021-12-18T12:39:16.622Z"
   },
   {
    "duration": -1415,
    "start_time": "2021-12-18T12:39:16.623Z"
   },
   {
    "duration": -1416,
    "start_time": "2021-12-18T12:39:16.625Z"
   },
   {
    "duration": 5637,
    "start_time": "2021-12-18T12:40:34.422Z"
   },
   {
    "duration": 803,
    "start_time": "2021-12-18T12:41:04.386Z"
   },
   {
    "duration": 17,
    "start_time": "2021-12-18T12:41:05.191Z"
   },
   {
    "duration": 34,
    "start_time": "2021-12-18T12:41:05.210Z"
   },
   {
    "duration": 60,
    "start_time": "2021-12-18T12:41:05.246Z"
   },
   {
    "duration": 33,
    "start_time": "2021-12-18T12:41:05.308Z"
   },
   {
    "duration": 7626,
    "start_time": "2021-12-18T12:41:05.343Z"
   },
   {
    "duration": -1415,
    "start_time": "2021-12-18T12:41:14.386Z"
   },
   {
    "duration": -1415,
    "start_time": "2021-12-18T12:41:14.387Z"
   },
   {
    "duration": -1415,
    "start_time": "2021-12-18T12:41:14.388Z"
   },
   {
    "duration": -1415,
    "start_time": "2021-12-18T12:41:14.389Z"
   },
   {
    "duration": -1419,
    "start_time": "2021-12-18T12:41:14.394Z"
   },
   {
    "duration": -1420,
    "start_time": "2021-12-18T12:41:14.396Z"
   },
   {
    "duration": -1420,
    "start_time": "2021-12-18T12:41:14.397Z"
   },
   {
    "duration": -1421,
    "start_time": "2021-12-18T12:41:14.399Z"
   },
   {
    "duration": -1421,
    "start_time": "2021-12-18T12:41:14.400Z"
   },
   {
    "duration": -1421,
    "start_time": "2021-12-18T12:41:14.401Z"
   },
   {
    "duration": 6161,
    "start_time": "2021-12-18T12:41:48.663Z"
   },
   {
    "duration": 757,
    "start_time": "2021-12-18T12:42:09.672Z"
   },
   {
    "duration": 9,
    "start_time": "2021-12-18T12:42:10.431Z"
   },
   {
    "duration": 31,
    "start_time": "2021-12-18T12:42:10.443Z"
   },
   {
    "duration": 64,
    "start_time": "2021-12-18T12:42:10.476Z"
   },
   {
    "duration": 31,
    "start_time": "2021-12-18T12:42:10.542Z"
   },
   {
    "duration": 758,
    "start_time": "2021-12-18T12:42:10.575Z"
   },
   {
    "duration": 435,
    "start_time": "2021-12-18T12:42:11.335Z"
   },
   {
    "duration": 196,
    "start_time": "2021-12-18T12:42:11.772Z"
   },
   {
    "duration": 232,
    "start_time": "2021-12-18T12:42:11.971Z"
   },
   {
    "duration": 336,
    "start_time": "2021-12-18T12:42:12.206Z"
   },
   {
    "duration": 373,
    "start_time": "2021-12-18T12:42:12.544Z"
   },
   {
    "duration": 724,
    "start_time": "2021-12-18T12:42:12.920Z"
   },
   {
    "duration": 373,
    "start_time": "2021-12-18T12:42:13.646Z"
   },
   {
    "duration": 308,
    "start_time": "2021-12-18T12:42:14.020Z"
   },
   {
    "duration": 396,
    "start_time": "2021-12-18T12:42:14.330Z"
   },
   {
    "duration": 15,
    "start_time": "2021-12-18T12:42:14.728Z"
   },
   {
    "duration": 18,
    "start_time": "2021-12-18T12:45:00.986Z"
   },
   {
    "duration": 17,
    "start_time": "2021-12-18T12:46:06.123Z"
   },
   {
    "duration": 15,
    "start_time": "2021-12-18T12:49:02.604Z"
   },
   {
    "duration": 740,
    "start_time": "2021-12-18T12:50:25.404Z"
   },
   {
    "duration": 8,
    "start_time": "2021-12-18T12:50:26.147Z"
   },
   {
    "duration": 29,
    "start_time": "2021-12-18T12:50:26.157Z"
   },
   {
    "duration": 67,
    "start_time": "2021-12-18T12:50:26.188Z"
   },
   {
    "duration": 50,
    "start_time": "2021-12-18T12:50:26.257Z"
   },
   {
    "duration": 716,
    "start_time": "2021-12-18T12:50:26.309Z"
   },
   {
    "duration": 453,
    "start_time": "2021-12-18T12:50:27.026Z"
   },
   {
    "duration": 192,
    "start_time": "2021-12-18T12:50:27.483Z"
   },
   {
    "duration": 222,
    "start_time": "2021-12-18T12:50:27.677Z"
   },
   {
    "duration": 242,
    "start_time": "2021-12-18T12:50:27.901Z"
   },
   {
    "duration": 339,
    "start_time": "2021-12-18T12:50:28.145Z"
   },
   {
    "duration": 664,
    "start_time": "2021-12-18T12:50:28.486Z"
   },
   {
    "duration": 361,
    "start_time": "2021-12-18T12:50:29.151Z"
   },
   {
    "duration": 306,
    "start_time": "2021-12-18T12:50:29.513Z"
   },
   {
    "duration": 400,
    "start_time": "2021-12-18T12:50:29.821Z"
   },
   {
    "duration": 15,
    "start_time": "2021-12-18T12:50:30.223Z"
   },
   {
    "duration": 16,
    "start_time": "2021-12-18T12:56:52.074Z"
   },
   {
    "duration": 9254,
    "start_time": "2021-12-18T13:05:53.857Z"
   },
   {
    "duration": 8679,
    "start_time": "2021-12-18T13:06:31.178Z"
   },
   {
    "duration": 13,
    "start_time": "2021-12-18T13:06:50.994Z"
   },
   {
    "duration": 15,
    "start_time": "2021-12-18T13:07:17.186Z"
   },
   {
    "duration": 16,
    "start_time": "2021-12-18T13:10:29.844Z"
   },
   {
    "duration": 10013,
    "start_time": "2021-12-18T13:10:54.998Z"
   },
   {
    "duration": 16,
    "start_time": "2021-12-18T13:11:46.230Z"
   },
   {
    "duration": 343,
    "start_time": "2021-12-18T13:17:50.290Z"
   },
   {
    "duration": 376,
    "start_time": "2021-12-18T13:24:14.271Z"
   },
   {
    "duration": 4,
    "start_time": "2021-12-18T13:33:20.647Z"
   },
   {
    "duration": 5,
    "start_time": "2021-12-18T13:34:08.462Z"
   },
   {
    "duration": 8,
    "start_time": "2021-12-18T13:35:29.359Z"
   },
   {
    "duration": 2113,
    "start_time": "2021-12-18T13:44:02.742Z"
   },
   {
    "duration": 9,
    "start_time": "2021-12-18T13:54:01.742Z"
   },
   {
    "duration": 10,
    "start_time": "2021-12-18T13:55:34.583Z"
   },
   {
    "duration": 8,
    "start_time": "2021-12-18T14:15:38.492Z"
   },
   {
    "duration": 380,
    "start_time": "2021-12-18T14:16:19.132Z"
   },
   {
    "duration": 384,
    "start_time": "2021-12-18T14:17:49.318Z"
   },
   {
    "duration": 410,
    "start_time": "2021-12-18T14:18:03.878Z"
   },
   {
    "duration": 346,
    "start_time": "2021-12-18T14:18:24.702Z"
   },
   {
    "duration": 14,
    "start_time": "2021-12-18T14:18:57.894Z"
   },
   {
    "duration": 10,
    "start_time": "2021-12-18T14:20:05.823Z"
   },
   {
    "duration": 10,
    "start_time": "2021-12-18T14:20:42.471Z"
   },
   {
    "duration": 10,
    "start_time": "2021-12-18T14:21:28.352Z"
   },
   {
    "duration": 11,
    "start_time": "2021-12-18T14:21:49.721Z"
   },
   {
    "duration": 876,
    "start_time": "2021-12-18T14:24:27.698Z"
   },
   {
    "duration": 8,
    "start_time": "2021-12-18T14:24:28.576Z"
   },
   {
    "duration": 45,
    "start_time": "2021-12-18T14:24:28.587Z"
   },
   {
    "duration": 42,
    "start_time": "2021-12-18T14:24:28.634Z"
   },
   {
    "duration": 52,
    "start_time": "2021-12-18T14:24:28.678Z"
   },
   {
    "duration": 737,
    "start_time": "2021-12-18T14:24:28.731Z"
   },
   {
    "duration": 431,
    "start_time": "2021-12-18T14:24:29.470Z"
   },
   {
    "duration": 192,
    "start_time": "2021-12-18T14:24:29.907Z"
   },
   {
    "duration": 224,
    "start_time": "2021-12-18T14:24:30.101Z"
   },
   {
    "duration": 284,
    "start_time": "2021-12-18T14:24:30.327Z"
   },
   {
    "duration": 358,
    "start_time": "2021-12-18T14:24:30.613Z"
   },
   {
    "duration": 753,
    "start_time": "2021-12-18T14:24:30.973Z"
   },
   {
    "duration": 2342,
    "start_time": "2021-12-18T14:24:31.728Z"
   },
   {
    "duration": 9,
    "start_time": "2021-12-18T14:24:34.072Z"
   },
   {
    "duration": 28,
    "start_time": "2021-12-18T14:24:34.082Z"
   },
   {
    "duration": 410,
    "start_time": "2021-12-18T14:24:34.112Z"
   },
   {
    "duration": 5,
    "start_time": "2021-12-18T14:27:51.482Z"
   },
   {
    "duration": 8,
    "start_time": "2021-12-18T14:28:07.618Z"
   },
   {
    "duration": 509,
    "start_time": "2021-12-18T14:38:55.275Z"
   },
   {
    "duration": 297,
    "start_time": "2021-12-18T14:39:13.163Z"
   },
   {
    "duration": 349,
    "start_time": "2021-12-18T15:00:13.835Z"
   },
   {
    "duration": 862,
    "start_time": "2021-12-18T15:02:00.987Z"
   },
   {
    "duration": 10,
    "start_time": "2021-12-18T15:02:01.852Z"
   },
   {
    "duration": 117,
    "start_time": "2021-12-18T15:02:01.864Z"
   },
   {
    "duration": 65,
    "start_time": "2021-12-18T15:02:01.983Z"
   },
   {
    "duration": 57,
    "start_time": "2021-12-18T15:02:02.051Z"
   },
   {
    "duration": 907,
    "start_time": "2021-12-18T15:02:02.110Z"
   },
   {
    "duration": 470,
    "start_time": "2021-12-18T15:02:03.020Z"
   },
   {
    "duration": 289,
    "start_time": "2021-12-18T15:02:03.493Z"
   },
   {
    "duration": 227,
    "start_time": "2021-12-18T15:02:03.783Z"
   },
   {
    "duration": 290,
    "start_time": "2021-12-18T15:02:04.011Z"
   },
   {
    "duration": 374,
    "start_time": "2021-12-18T15:02:04.303Z"
   },
   {
    "duration": 1205,
    "start_time": "2021-12-18T15:02:04.679Z"
   },
   {
    "duration": 2765,
    "start_time": "2021-12-18T15:02:05.886Z"
   },
   {
    "duration": 9,
    "start_time": "2021-12-18T15:02:08.654Z"
   },
   {
    "duration": 46,
    "start_time": "2021-12-18T15:02:08.666Z"
   },
   {
    "duration": 19,
    "start_time": "2021-12-18T15:02:08.714Z"
   },
   {
    "duration": 434,
    "start_time": "2021-12-18T15:02:08.735Z"
   },
   {
    "duration": 10,
    "start_time": "2021-12-18T15:03:39.585Z"
   },
   {
    "duration": 116,
    "start_time": "2021-12-18T15:07:28.756Z"
   },
   {
    "duration": 369,
    "start_time": "2021-12-18T15:08:14.949Z"
   },
   {
    "duration": 384,
    "start_time": "2021-12-18T15:19:39.165Z"
   },
   {
    "duration": 110,
    "start_time": "2021-12-18T15:20:39.315Z"
   },
   {
    "duration": 3,
    "start_time": "2021-12-18T15:21:01.541Z"
   },
   {
    "duration": 9,
    "start_time": "2021-12-18T15:22:54.270Z"
   },
   {
    "duration": 12,
    "start_time": "2021-12-18T15:24:12.263Z"
   },
   {
    "duration": 6,
    "start_time": "2021-12-18T15:29:36.475Z"
   },
   {
    "duration": 9,
    "start_time": "2021-12-18T15:29:43.954Z"
   },
   {
    "duration": 8,
    "start_time": "2021-12-18T15:30:03.363Z"
   },
   {
    "duration": 112,
    "start_time": "2021-12-18T15:41:50.284Z"
   },
   {
    "duration": 6,
    "start_time": "2021-12-18T15:42:01.844Z"
   },
   {
    "duration": 9,
    "start_time": "2021-12-18T15:42:05.964Z"
   },
   {
    "duration": 10,
    "start_time": "2021-12-18T15:42:23.448Z"
   },
   {
    "duration": 355,
    "start_time": "2021-12-18T15:55:31.167Z"
   },
   {
    "duration": 340,
    "start_time": "2021-12-18T15:57:45.553Z"
   },
   {
    "duration": 352,
    "start_time": "2021-12-18T15:58:44.609Z"
   },
   {
    "duration": 10320,
    "start_time": "2021-12-18T16:02:30.796Z"
   },
   {
    "duration": 10803,
    "start_time": "2021-12-18T16:04:52.790Z"
   },
   {
    "duration": 11,
    "start_time": "2021-12-18T16:07:37.720Z"
   },
   {
    "duration": 27967,
    "start_time": "2021-12-18T16:10:06.585Z"
   },
   {
    "duration": 9624,
    "start_time": "2021-12-18T16:13:25.531Z"
   },
   {
    "duration": 342,
    "start_time": "2021-12-18T16:14:56.509Z"
   },
   {
    "duration": 9,
    "start_time": "2021-12-18T16:16:44.062Z"
   },
   {
    "duration": 176,
    "start_time": "2021-12-18T16:46:45.206Z"
   },
   {
    "duration": 364,
    "start_time": "2021-12-18T16:47:21.693Z"
   },
   {
    "duration": 958,
    "start_time": "2021-12-18T16:47:38.215Z"
   },
   {
    "duration": 8,
    "start_time": "2021-12-18T16:47:39.175Z"
   },
   {
    "duration": 37,
    "start_time": "2021-12-18T16:47:39.185Z"
   },
   {
    "duration": 46,
    "start_time": "2021-12-18T16:47:39.225Z"
   },
   {
    "duration": 50,
    "start_time": "2021-12-18T16:47:39.273Z"
   },
   {
    "duration": 1062,
    "start_time": "2021-12-18T16:47:39.325Z"
   },
   {
    "duration": 469,
    "start_time": "2021-12-18T16:47:40.389Z"
   },
   {
    "duration": 291,
    "start_time": "2021-12-18T16:47:40.862Z"
   },
   {
    "duration": 220,
    "start_time": "2021-12-18T16:47:41.155Z"
   },
   {
    "duration": 396,
    "start_time": "2021-12-18T16:47:41.377Z"
   },
   {
    "duration": 619,
    "start_time": "2021-12-18T16:47:41.775Z"
   },
   {
    "duration": 719,
    "start_time": "2021-12-18T16:47:42.396Z"
   },
   {
    "duration": 3107,
    "start_time": "2021-12-18T16:47:43.117Z"
   },
   {
    "duration": 9,
    "start_time": "2021-12-18T16:47:46.226Z"
   },
   {
    "duration": 12,
    "start_time": "2021-12-18T16:47:46.236Z"
   },
   {
    "duration": 10,
    "start_time": "2021-12-18T16:47:46.250Z"
   },
   {
    "duration": 457,
    "start_time": "2021-12-18T16:47:46.262Z"
   },
   {
    "duration": 10,
    "start_time": "2021-12-18T16:47:46.712Z"
   },
   {
    "duration": 10,
    "start_time": "2021-12-18T16:47:46.714Z"
   },
   {
    "duration": 9,
    "start_time": "2021-12-18T16:48:52.251Z"
   },
   {
    "duration": 9663,
    "start_time": "2021-12-18T16:52:27.573Z"
   },
   {
    "duration": 10,
    "start_time": "2021-12-18T16:52:53.230Z"
   },
   {
    "duration": 9999,
    "start_time": "2021-12-18T16:54:23.382Z"
   },
   {
    "duration": 9,
    "start_time": "2021-12-18T16:58:24.498Z"
   },
   {
    "duration": 11,
    "start_time": "2021-12-18T16:58:51.506Z"
   },
   {
    "duration": 7,
    "start_time": "2021-12-18T16:59:07.362Z"
   },
   {
    "duration": 7,
    "start_time": "2021-12-18T16:59:22.018Z"
   },
   {
    "duration": 9,
    "start_time": "2021-12-18T16:59:41.858Z"
   },
   {
    "duration": 9,
    "start_time": "2021-12-18T17:00:11.283Z"
   },
   {
    "duration": 9,
    "start_time": "2021-12-18T17:02:41.005Z"
   },
   {
    "duration": 9,
    "start_time": "2021-12-18T17:04:15.910Z"
   },
   {
    "duration": 9850,
    "start_time": "2021-12-18T17:05:30.591Z"
   },
   {
    "duration": 9,
    "start_time": "2021-12-18T17:05:50.456Z"
   },
   {
    "duration": 340,
    "start_time": "2021-12-18T17:05:54.295Z"
   },
   {
    "duration": 643,
    "start_time": "2021-12-19T11:58:06.932Z"
   },
   {
    "duration": 15,
    "start_time": "2021-12-19T11:58:07.577Z"
   },
   {
    "duration": 28,
    "start_time": "2021-12-19T11:58:07.594Z"
   },
   {
    "duration": 35,
    "start_time": "2021-12-19T11:58:07.624Z"
   },
   {
    "duration": 49,
    "start_time": "2021-12-19T11:58:07.661Z"
   },
   {
    "duration": 756,
    "start_time": "2021-12-19T11:58:07.712Z"
   },
   {
    "duration": 422,
    "start_time": "2021-12-19T11:58:08.469Z"
   },
   {
    "duration": 228,
    "start_time": "2021-12-19T11:58:08.901Z"
   },
   {
    "duration": 218,
    "start_time": "2021-12-19T11:58:09.131Z"
   },
   {
    "duration": 237,
    "start_time": "2021-12-19T11:58:09.351Z"
   },
   {
    "duration": 331,
    "start_time": "2021-12-19T11:58:09.589Z"
   },
   {
    "duration": 739,
    "start_time": "2021-12-19T11:58:09.922Z"
   },
   {
    "duration": 2064,
    "start_time": "2021-12-19T11:58:10.663Z"
   },
   {
    "duration": 8,
    "start_time": "2021-12-19T11:58:12.728Z"
   },
   {
    "duration": 9,
    "start_time": "2021-12-19T11:58:12.737Z"
   },
   {
    "duration": 6,
    "start_time": "2021-12-19T11:58:12.747Z"
   },
   {
    "duration": 9,
    "start_time": "2021-12-19T11:58:12.755Z"
   },
   {
    "duration": 8,
    "start_time": "2021-12-19T11:58:12.792Z"
   },
   {
    "duration": 313,
    "start_time": "2021-12-19T11:58:12.802Z"
   },
   {
    "duration": 6,
    "start_time": "2021-12-19T12:06:12.739Z"
   },
   {
    "duration": 235,
    "start_time": "2021-12-19T12:11:53.160Z"
   },
   {
    "duration": 241,
    "start_time": "2021-12-19T12:13:38.665Z"
   },
   {
    "duration": 238,
    "start_time": "2021-12-19T12:13:54.993Z"
   },
   {
    "duration": 71,
    "start_time": "2021-12-19T12:14:30.498Z"
   },
   {
    "duration": 239,
    "start_time": "2021-12-19T12:24:00.380Z"
   },
   {
    "duration": 289,
    "start_time": "2021-12-19T12:35:55.618Z"
   },
   {
    "duration": 17,
    "start_time": "2021-12-19T12:36:23.145Z"
   },
   {
    "duration": 8,
    "start_time": "2021-12-19T12:37:22.995Z"
   },
   {
    "duration": 5,
    "start_time": "2021-12-19T12:38:53.811Z"
   },
   {
    "duration": 7,
    "start_time": "2021-12-19T12:39:30.499Z"
   },
   {
    "duration": 39,
    "start_time": "2021-12-19T12:39:41.907Z"
   },
   {
    "duration": 267,
    "start_time": "2021-12-19T12:41:31.237Z"
   },
   {
    "duration": 7,
    "start_time": "2021-12-19T12:42:58.782Z"
   },
   {
    "duration": 8,
    "start_time": "2021-12-19T12:44:29.335Z"
   },
   {
    "duration": 7,
    "start_time": "2021-12-19T12:58:30.114Z"
   },
   {
    "duration": 295,
    "start_time": "2021-12-19T13:00:27.922Z"
   },
   {
    "duration": 7,
    "start_time": "2021-12-19T13:01:13.244Z"
   },
   {
    "duration": 7,
    "start_time": "2021-12-19T13:03:35.053Z"
   },
   {
    "duration": 37,
    "start_time": "2021-12-19T13:03:47.325Z"
   },
   {
    "duration": 1909,
    "start_time": "2021-12-19T13:06:00.607Z"
   },
   {
    "duration": 275,
    "start_time": "2021-12-19T13:09:57.210Z"
   },
   {
    "duration": 235,
    "start_time": "2021-12-19T13:10:37.026Z"
   },
   {
    "duration": 58,
    "start_time": "2021-12-19T13:17:49.480Z"
   },
   {
    "duration": 14,
    "start_time": "2021-12-19T13:20:52.434Z"
   },
   {
    "duration": 15,
    "start_time": "2021-12-19T13:23:04.820Z"
   },
   {
    "duration": 13,
    "start_time": "2021-12-19T13:24:00.893Z"
   },
   {
    "duration": 14,
    "start_time": "2021-12-19T13:26:12.966Z"
   },
   {
    "duration": 41,
    "start_time": "2021-12-19T13:52:46.635Z"
   },
   {
    "duration": 44,
    "start_time": "2021-12-19T14:00:02.865Z"
   },
   {
    "duration": 10,
    "start_time": "2021-12-19T14:01:42.305Z"
   },
   {
    "duration": 44,
    "start_time": "2021-12-19T14:02:19.496Z"
   },
   {
    "duration": 47,
    "start_time": "2021-12-19T14:12:13.313Z"
   },
   {
    "duration": 16,
    "start_time": "2021-12-19T14:12:32.377Z"
   },
   {
    "duration": 14,
    "start_time": "2021-12-19T14:14:28.792Z"
   },
   {
    "duration": 15,
    "start_time": "2021-12-19T14:17:49.724Z"
   },
   {
    "duration": 11,
    "start_time": "2021-12-19T14:17:59.852Z"
   },
   {
    "duration": 11,
    "start_time": "2021-12-19T14:19:48.109Z"
   },
   {
    "duration": 578,
    "start_time": "2021-12-19T14:28:14.227Z"
   },
   {
    "duration": 714,
    "start_time": "2021-12-19T14:34:23.524Z"
   },
   {
    "duration": 7,
    "start_time": "2021-12-19T14:34:24.240Z"
   },
   {
    "duration": 27,
    "start_time": "2021-12-19T14:34:24.249Z"
   },
   {
    "duration": 39,
    "start_time": "2021-12-19T14:34:24.288Z"
   },
   {
    "duration": 26,
    "start_time": "2021-12-19T14:34:24.328Z"
   },
   {
    "duration": 723,
    "start_time": "2021-12-19T14:34:24.356Z"
   },
   {
    "duration": 408,
    "start_time": "2021-12-19T14:34:25.081Z"
   },
   {
    "duration": 230,
    "start_time": "2021-12-19T14:34:25.494Z"
   },
   {
    "duration": 201,
    "start_time": "2021-12-19T14:34:25.726Z"
   },
   {
    "duration": 244,
    "start_time": "2021-12-19T14:34:25.929Z"
   },
   {
    "duration": 345,
    "start_time": "2021-12-19T14:34:26.175Z"
   },
   {
    "duration": 649,
    "start_time": "2021-12-19T14:34:26.522Z"
   },
   {
    "duration": 2193,
    "start_time": "2021-12-19T14:34:27.173Z"
   },
   {
    "duration": 23,
    "start_time": "2021-12-19T14:34:29.369Z"
   },
   {
    "duration": 14,
    "start_time": "2021-12-19T14:34:29.399Z"
   },
   {
    "duration": 10,
    "start_time": "2021-12-19T14:34:29.415Z"
   },
   {
    "duration": 21,
    "start_time": "2021-12-19T14:34:29.427Z"
   },
   {
    "duration": 22,
    "start_time": "2021-12-19T14:34:29.450Z"
   },
   {
    "duration": 24,
    "start_time": "2021-12-19T14:34:29.474Z"
   },
   {
    "duration": 420,
    "start_time": "2021-12-19T14:34:29.501Z"
   },
   {
    "duration": 491,
    "start_time": "2021-12-19T14:35:45.754Z"
   },
   {
    "duration": 520,
    "start_time": "2021-12-19T14:36:03.066Z"
   },
   {
    "duration": 12,
    "start_time": "2021-12-19T14:42:02.679Z"
   },
   {
    "duration": 266,
    "start_time": "2021-12-19T15:21:53.996Z"
   },
   {
    "duration": 599,
    "start_time": "2021-12-19T15:22:20.556Z"
   },
   {
    "duration": 12,
    "start_time": "2021-12-19T15:23:51.413Z"
   },
   {
    "duration": 1614,
    "start_time": "2021-12-19T15:27:44.527Z"
   },
   {
    "duration": 680,
    "start_time": "2021-12-19T15:28:00.792Z"
   },
   {
    "duration": 267,
    "start_time": "2021-12-19T15:28:12.544Z"
   },
   {
    "duration": 232,
    "start_time": "2021-12-19T15:28:25.576Z"
   },
   {
    "duration": 672,
    "start_time": "2021-12-19T15:28:43.424Z"
   },
   {
    "duration": 10,
    "start_time": "2021-12-19T15:28:44.099Z"
   },
   {
    "duration": 28,
    "start_time": "2021-12-19T15:28:44.114Z"
   },
   {
    "duration": 62,
    "start_time": "2021-12-19T15:28:44.143Z"
   },
   {
    "duration": 29,
    "start_time": "2021-12-19T15:28:44.207Z"
   },
   {
    "duration": 780,
    "start_time": "2021-12-19T15:28:44.237Z"
   },
   {
    "duration": 423,
    "start_time": "2021-12-19T15:28:45.020Z"
   },
   {
    "duration": 242,
    "start_time": "2021-12-19T15:28:45.445Z"
   },
   {
    "duration": 198,
    "start_time": "2021-12-19T15:28:45.689Z"
   },
   {
    "duration": 380,
    "start_time": "2021-12-19T15:28:45.889Z"
   },
   {
    "duration": 517,
    "start_time": "2021-12-19T15:28:46.271Z"
   },
   {
    "duration": 722,
    "start_time": "2021-12-19T15:28:46.791Z"
   },
   {
    "duration": 2075,
    "start_time": "2021-12-19T15:28:47.514Z"
   },
   {
    "duration": 20,
    "start_time": "2021-12-19T15:28:49.591Z"
   },
   {
    "duration": 9,
    "start_time": "2021-12-19T15:28:49.612Z"
   },
   {
    "duration": 7,
    "start_time": "2021-12-19T15:28:49.623Z"
   },
   {
    "duration": 8,
    "start_time": "2021-12-19T15:28:49.632Z"
   },
   {
    "duration": 15,
    "start_time": "2021-12-19T15:28:49.642Z"
   },
   {
    "duration": 16,
    "start_time": "2021-12-19T15:28:49.689Z"
   },
   {
    "duration": 428,
    "start_time": "2021-12-19T15:28:49.706Z"
   },
   {
    "duration": 13,
    "start_time": "2021-12-19T15:35:49.878Z"
   },
   {
    "duration": 41,
    "start_time": "2021-12-19T15:52:29.754Z"
   },
   {
    "duration": 687,
    "start_time": "2021-12-19T16:13:59.900Z"
   },
   {
    "duration": 7,
    "start_time": "2021-12-19T16:14:00.589Z"
   },
   {
    "duration": 27,
    "start_time": "2021-12-19T16:14:00.600Z"
   },
   {
    "duration": 37,
    "start_time": "2021-12-19T16:14:00.629Z"
   },
   {
    "duration": 46,
    "start_time": "2021-12-19T16:14:00.667Z"
   },
   {
    "duration": 687,
    "start_time": "2021-12-19T16:14:00.715Z"
   },
   {
    "duration": 446,
    "start_time": "2021-12-19T16:14:01.404Z"
   },
   {
    "duration": 238,
    "start_time": "2021-12-19T16:14:01.852Z"
   },
   {
    "duration": 193,
    "start_time": "2021-12-19T16:14:02.091Z"
   },
   {
    "duration": 278,
    "start_time": "2021-12-19T16:14:02.287Z"
   },
   {
    "duration": 545,
    "start_time": "2021-12-19T16:14:02.566Z"
   },
   {
    "duration": 635,
    "start_time": "2021-12-19T16:14:03.113Z"
   },
   {
    "duration": 2081,
    "start_time": "2021-12-19T16:14:03.750Z"
   },
   {
    "duration": 8,
    "start_time": "2021-12-19T16:14:05.832Z"
   },
   {
    "duration": 8,
    "start_time": "2021-12-19T16:14:05.841Z"
   },
   {
    "duration": 8,
    "start_time": "2021-12-19T16:14:05.851Z"
   },
   {
    "duration": 30,
    "start_time": "2021-12-19T16:14:05.861Z"
   },
   {
    "duration": 13,
    "start_time": "2021-12-19T16:14:05.892Z"
   },
   {
    "duration": 16,
    "start_time": "2021-12-19T16:14:05.906Z"
   },
   {
    "duration": 456,
    "start_time": "2021-12-19T16:14:05.924Z"
   },
   {
    "duration": 2228,
    "start_time": "2021-12-19T16:14:06.382Z"
   },
   {
    "duration": 11,
    "start_time": "2021-12-19T16:56:33.602Z"
   },
   {
    "duration": 645,
    "start_time": "2021-12-19T16:56:44.391Z"
   },
   {
    "duration": 7,
    "start_time": "2021-12-19T16:56:45.038Z"
   },
   {
    "duration": 34,
    "start_time": "2021-12-19T16:56:45.047Z"
   },
   {
    "duration": 39,
    "start_time": "2021-12-19T16:56:45.087Z"
   },
   {
    "duration": 26,
    "start_time": "2021-12-19T16:56:45.127Z"
   },
   {
    "duration": 681,
    "start_time": "2021-12-19T16:56:45.154Z"
   },
   {
    "duration": 385,
    "start_time": "2021-12-19T16:56:45.837Z"
   },
   {
    "duration": 231,
    "start_time": "2021-12-19T16:56:46.224Z"
   },
   {
    "duration": 199,
    "start_time": "2021-12-19T16:56:46.457Z"
   },
   {
    "duration": 238,
    "start_time": "2021-12-19T16:56:46.657Z"
   },
   {
    "duration": 329,
    "start_time": "2021-12-19T16:56:46.896Z"
   },
   {
    "duration": 701,
    "start_time": "2021-12-19T16:56:47.227Z"
   },
   {
    "duration": 1927,
    "start_time": "2021-12-19T16:56:47.930Z"
   },
   {
    "duration": 7,
    "start_time": "2021-12-19T16:56:49.859Z"
   },
   {
    "duration": 22,
    "start_time": "2021-12-19T16:56:49.868Z"
   },
   {
    "duration": 7,
    "start_time": "2021-12-19T16:56:49.891Z"
   },
   {
    "duration": 9,
    "start_time": "2021-12-19T16:56:49.900Z"
   },
   {
    "duration": 15,
    "start_time": "2021-12-19T16:56:49.911Z"
   },
   {
    "duration": 13,
    "start_time": "2021-12-19T16:56:49.928Z"
   },
   {
    "duration": 453,
    "start_time": "2021-12-19T16:56:49.944Z"
   },
   {
    "duration": 2270,
    "start_time": "2021-12-19T16:56:50.398Z"
   },
   {
    "duration": 649,
    "start_time": "2021-12-19T17:02:34.908Z"
   },
   {
    "duration": 7,
    "start_time": "2021-12-19T17:02:35.559Z"
   },
   {
    "duration": 31,
    "start_time": "2021-12-19T17:02:35.568Z"
   },
   {
    "duration": 37,
    "start_time": "2021-12-19T17:02:35.601Z"
   },
   {
    "duration": 27,
    "start_time": "2021-12-19T17:02:35.640Z"
   },
   {
    "duration": 681,
    "start_time": "2021-12-19T17:02:35.669Z"
   },
   {
    "duration": 387,
    "start_time": "2021-12-19T17:02:36.352Z"
   },
   {
    "duration": 234,
    "start_time": "2021-12-19T17:02:36.741Z"
   },
   {
    "duration": 197,
    "start_time": "2021-12-19T17:02:36.976Z"
   },
   {
    "duration": 226,
    "start_time": "2021-12-19T17:02:37.174Z"
   },
   {
    "duration": 323,
    "start_time": "2021-12-19T17:02:37.401Z"
   },
   {
    "duration": 636,
    "start_time": "2021-12-19T17:02:37.726Z"
   },
   {
    "duration": 2005,
    "start_time": "2021-12-19T17:02:38.364Z"
   },
   {
    "duration": 19,
    "start_time": "2021-12-19T17:02:40.371Z"
   },
   {
    "duration": 8,
    "start_time": "2021-12-19T17:02:40.392Z"
   },
   {
    "duration": 40,
    "start_time": "2021-12-19T17:02:40.402Z"
   },
   {
    "duration": 14,
    "start_time": "2021-12-19T17:02:40.443Z"
   },
   {
    "duration": 32,
    "start_time": "2021-12-19T17:02:40.458Z"
   },
   {
    "duration": 22,
    "start_time": "2021-12-19T17:02:40.492Z"
   },
   {
    "duration": 456,
    "start_time": "2021-12-19T17:02:40.516Z"
   },
   {
    "duration": 2644,
    "start_time": "2021-12-19T17:02:40.973Z"
   },
   {
    "duration": 12,
    "start_time": "2021-12-19T17:03:17.162Z"
   },
   {
    "duration": 675,
    "start_time": "2021-12-19T17:03:22.381Z"
   },
   {
    "duration": 9,
    "start_time": "2021-12-19T17:03:23.058Z"
   },
   {
    "duration": 35,
    "start_time": "2021-12-19T17:03:23.069Z"
   },
   {
    "duration": 36,
    "start_time": "2021-12-19T17:03:23.106Z"
   },
   {
    "duration": 27,
    "start_time": "2021-12-19T17:03:23.144Z"
   },
   {
    "duration": 671,
    "start_time": "2021-12-19T17:03:23.188Z"
   },
   {
    "duration": 393,
    "start_time": "2021-12-19T17:03:23.861Z"
   },
   {
    "duration": 256,
    "start_time": "2021-12-19T17:03:24.255Z"
   },
   {
    "duration": 253,
    "start_time": "2021-12-19T17:03:24.514Z"
   },
   {
    "duration": 228,
    "start_time": "2021-12-19T17:03:24.769Z"
   },
   {
    "duration": 330,
    "start_time": "2021-12-19T17:03:24.998Z"
   },
   {
    "duration": 647,
    "start_time": "2021-12-19T17:03:25.330Z"
   },
   {
    "duration": 2158,
    "start_time": "2021-12-19T17:03:25.979Z"
   },
   {
    "duration": 7,
    "start_time": "2021-12-19T17:03:28.138Z"
   },
   {
    "duration": 20,
    "start_time": "2021-12-19T17:03:28.146Z"
   },
   {
    "duration": 5,
    "start_time": "2021-12-19T17:03:28.168Z"
   },
   {
    "duration": 17,
    "start_time": "2021-12-19T17:03:28.174Z"
   },
   {
    "duration": 18,
    "start_time": "2021-12-19T17:03:28.192Z"
   },
   {
    "duration": 12,
    "start_time": "2021-12-19T17:03:28.211Z"
   },
   {
    "duration": 465,
    "start_time": "2021-12-19T17:03:28.224Z"
   },
   {
    "duration": 2261,
    "start_time": "2021-12-19T17:03:28.690Z"
   },
   {
    "duration": 113,
    "start_time": "2021-12-19T17:42:11.372Z"
   },
   {
    "duration": 224,
    "start_time": "2021-12-19T17:45:28.719Z"
   },
   {
    "duration": 634,
    "start_time": "2021-12-19T17:46:02.408Z"
   },
   {
    "duration": 6,
    "start_time": "2021-12-19T17:46:03.044Z"
   },
   {
    "duration": 36,
    "start_time": "2021-12-19T17:46:03.052Z"
   },
   {
    "duration": 38,
    "start_time": "2021-12-19T17:46:03.090Z"
   },
   {
    "duration": 25,
    "start_time": "2021-12-19T17:46:03.130Z"
   },
   {
    "duration": 682,
    "start_time": "2021-12-19T17:46:03.156Z"
   },
   {
    "duration": 385,
    "start_time": "2021-12-19T17:46:03.840Z"
   },
   {
    "duration": 263,
    "start_time": "2021-12-19T17:46:04.228Z"
   },
   {
    "duration": 267,
    "start_time": "2021-12-19T17:46:04.494Z"
   },
   {
    "duration": 238,
    "start_time": "2021-12-19T17:46:04.762Z"
   },
   {
    "duration": 329,
    "start_time": "2021-12-19T17:46:05.002Z"
   },
   {
    "duration": 630,
    "start_time": "2021-12-19T17:46:05.333Z"
   },
   {
    "duration": 2188,
    "start_time": "2021-12-19T17:46:05.964Z"
   },
   {
    "duration": 8,
    "start_time": "2021-12-19T17:46:08.154Z"
   },
   {
    "duration": 26,
    "start_time": "2021-12-19T17:46:08.164Z"
   },
   {
    "duration": 6,
    "start_time": "2021-12-19T17:46:08.191Z"
   },
   {
    "duration": 7,
    "start_time": "2021-12-19T17:46:08.199Z"
   },
   {
    "duration": 15,
    "start_time": "2021-12-19T17:46:08.207Z"
   },
   {
    "duration": 10,
    "start_time": "2021-12-19T17:46:08.224Z"
   },
   {
    "duration": 445,
    "start_time": "2021-12-19T17:46:08.236Z"
   },
   {
    "duration": 2234,
    "start_time": "2021-12-19T17:46:08.683Z"
   },
   {
    "duration": 91,
    "start_time": "2021-12-19T17:47:20.532Z"
   },
   {
    "duration": 11,
    "start_time": "2021-12-19T17:47:35.155Z"
   },
   {
    "duration": 12,
    "start_time": "2021-12-19T17:49:44.398Z"
   },
   {
    "duration": 659,
    "start_time": "2021-12-19T17:49:51.813Z"
   },
   {
    "duration": 8,
    "start_time": "2021-12-19T17:49:52.474Z"
   },
   {
    "duration": 27,
    "start_time": "2021-12-19T17:49:52.488Z"
   },
   {
    "duration": 36,
    "start_time": "2021-12-19T17:49:52.517Z"
   },
   {
    "duration": 44,
    "start_time": "2021-12-19T17:49:52.555Z"
   },
   {
    "duration": 724,
    "start_time": "2021-12-19T17:49:52.601Z"
   },
   {
    "duration": 387,
    "start_time": "2021-12-19T17:49:53.327Z"
   },
   {
    "duration": 232,
    "start_time": "2021-12-19T17:49:53.716Z"
   },
   {
    "duration": 191,
    "start_time": "2021-12-19T17:49:53.950Z"
   },
   {
    "duration": 229,
    "start_time": "2021-12-19T17:49:54.143Z"
   },
   {
    "duration": 316,
    "start_time": "2021-12-19T17:49:54.373Z"
   },
   {
    "duration": 615,
    "start_time": "2021-12-19T17:49:54.691Z"
   },
   {
    "duration": 1917,
    "start_time": "2021-12-19T17:49:55.307Z"
   },
   {
    "duration": 7,
    "start_time": "2021-12-19T17:49:57.225Z"
   },
   {
    "duration": 8,
    "start_time": "2021-12-19T17:49:57.233Z"
   },
   {
    "duration": 6,
    "start_time": "2021-12-19T17:49:57.243Z"
   },
   {
    "duration": 6,
    "start_time": "2021-12-19T17:49:57.251Z"
   },
   {
    "duration": 41,
    "start_time": "2021-12-19T17:49:57.258Z"
   },
   {
    "duration": 10,
    "start_time": "2021-12-19T17:49:57.301Z"
   },
   {
    "duration": 430,
    "start_time": "2021-12-19T17:49:57.313Z"
   },
   {
    "duration": 2231,
    "start_time": "2021-12-19T17:49:57.744Z"
   },
   {
    "duration": 11,
    "start_time": "2021-12-19T17:50:42.844Z"
   },
   {
    "duration": 691,
    "start_time": "2021-12-20T13:30:00.667Z"
   },
   {
    "duration": 8,
    "start_time": "2021-12-20T13:30:01.360Z"
   },
   {
    "duration": 60,
    "start_time": "2021-12-20T13:30:01.370Z"
   },
   {
    "duration": 59,
    "start_time": "2021-12-20T13:30:01.433Z"
   },
   {
    "duration": 31,
    "start_time": "2021-12-20T13:30:01.494Z"
   },
   {
    "duration": 736,
    "start_time": "2021-12-20T13:30:01.527Z"
   },
   {
    "duration": 486,
    "start_time": "2021-12-20T13:30:02.265Z"
   },
   {
    "duration": 266,
    "start_time": "2021-12-20T13:30:02.753Z"
   },
   {
    "duration": 229,
    "start_time": "2021-12-20T13:30:03.021Z"
   },
   {
    "duration": 276,
    "start_time": "2021-12-20T13:30:03.251Z"
   },
   {
    "duration": 366,
    "start_time": "2021-12-20T13:30:03.529Z"
   },
   {
    "duration": 730,
    "start_time": "2021-12-20T13:30:03.897Z"
   },
   {
    "duration": 2197,
    "start_time": "2021-12-20T13:30:04.629Z"
   },
   {
    "duration": 7,
    "start_time": "2021-12-20T13:30:06.827Z"
   },
   {
    "duration": 14,
    "start_time": "2021-12-20T13:30:06.836Z"
   },
   {
    "duration": 14,
    "start_time": "2021-12-20T13:30:06.852Z"
   },
   {
    "duration": 12,
    "start_time": "2021-12-20T13:30:06.867Z"
   },
   {
    "duration": 14,
    "start_time": "2021-12-20T13:30:06.892Z"
   },
   {
    "duration": 11,
    "start_time": "2021-12-20T13:30:06.908Z"
   },
   {
    "duration": 504,
    "start_time": "2021-12-20T13:30:06.921Z"
   },
   {
    "duration": 2468,
    "start_time": "2021-12-20T13:30:07.426Z"
   },
   {
    "duration": 10,
    "start_time": "2021-12-20T13:31:10.392Z"
   },
   {
    "duration": 8,
    "start_time": "2021-12-20T14:37:49.979Z"
   },
   {
    "duration": 8,
    "start_time": "2021-12-20T14:40:35.507Z"
   },
   {
    "duration": 764,
    "start_time": "2021-12-20T16:06:37.757Z"
   },
   {
    "duration": 147,
    "start_time": "2021-12-20T16:06:38.523Z"
   },
   {
    "duration": 11,
    "start_time": "2021-12-20T16:06:38.673Z"
   },
   {
    "duration": 77,
    "start_time": "2021-12-20T16:06:38.687Z"
   },
   {
    "duration": 60,
    "start_time": "2021-12-20T16:06:38.767Z"
   },
   {
    "duration": 63,
    "start_time": "2021-12-20T16:06:38.830Z"
   },
   {
    "duration": 1344,
    "start_time": "2021-12-20T16:06:38.895Z"
   },
   {
    "duration": 715,
    "start_time": "2021-12-20T16:06:40.242Z"
   },
   {
    "duration": 439,
    "start_time": "2021-12-20T16:06:40.960Z"
   },
   {
    "duration": 371,
    "start_time": "2021-12-20T16:06:41.402Z"
   },
   {
    "duration": 430,
    "start_time": "2021-12-20T16:06:41.775Z"
   },
   {
    "duration": 626,
    "start_time": "2021-12-20T16:06:42.208Z"
   },
   {
    "duration": 1288,
    "start_time": "2021-12-20T16:06:42.837Z"
   },
   {
    "duration": 5406,
    "start_time": "2021-12-20T16:06:44.128Z"
   },
   {
    "duration": 14,
    "start_time": "2021-12-20T16:06:49.537Z"
   },
   {
    "duration": 35,
    "start_time": "2021-12-20T16:06:49.553Z"
   },
   {
    "duration": 15,
    "start_time": "2021-12-20T16:06:49.591Z"
   },
   {
    "duration": 46,
    "start_time": "2021-12-20T16:06:49.609Z"
   },
   {
    "duration": 53,
    "start_time": "2021-12-20T16:06:49.658Z"
   },
   {
    "duration": 17,
    "start_time": "2021-12-20T16:06:49.714Z"
   },
   {
    "duration": 671,
    "start_time": "2021-12-20T16:06:49.734Z"
   },
   {
    "duration": 4392,
    "start_time": "2021-12-20T16:06:50.408Z"
   },
   {
    "duration": 1337,
    "start_time": "2021-12-20T16:56:38.422Z"
   },
   {
    "duration": 1257,
    "start_time": "2021-12-20T16:57:05.117Z"
   },
   {
    "duration": 1272,
    "start_time": "2021-12-20T16:57:30.051Z"
   },
   {
    "duration": 54,
    "start_time": "2021-12-20T16:58:21.723Z"
   },
   {
    "duration": 40,
    "start_time": "2021-12-20T17:02:21.982Z"
   },
   {
    "duration": 94,
    "start_time": "2021-12-20T17:04:04.824Z"
   },
   {
    "duration": 45,
    "start_time": "2021-12-20T17:04:15.568Z"
   },
   {
    "duration": 13,
    "start_time": "2021-12-20T17:29:18.218Z"
   },
   {
    "duration": 958,
    "start_time": "2021-12-20T17:31:20.596Z"
   },
   {
    "duration": 210,
    "start_time": "2021-12-20T17:31:21.558Z"
   },
   {
    "duration": 15,
    "start_time": "2021-12-20T17:31:21.773Z"
   },
   {
    "duration": 92,
    "start_time": "2021-12-20T17:31:21.792Z"
   },
   {
    "duration": 105,
    "start_time": "2021-12-20T17:31:21.887Z"
   },
   {
    "duration": 76,
    "start_time": "2021-12-20T17:31:21.995Z"
   },
   {
    "duration": 1343,
    "start_time": "2021-12-20T17:31:22.074Z"
   },
   {
    "duration": 62,
    "start_time": "2021-12-20T17:31:23.420Z"
   },
   {
    "duration": 834,
    "start_time": "2021-12-20T17:31:23.487Z"
   },
   {
    "duration": 476,
    "start_time": "2021-12-20T17:31:24.325Z"
   },
   {
    "duration": 394,
    "start_time": "2021-12-20T17:31:24.804Z"
   },
   {
    "duration": 516,
    "start_time": "2021-12-20T17:31:25.200Z"
   },
   {
    "duration": 954,
    "start_time": "2021-12-20T17:31:25.719Z"
   },
   {
    "duration": 1463,
    "start_time": "2021-12-20T17:31:26.676Z"
   },
   {
    "duration": 4923,
    "start_time": "2021-12-20T17:31:28.141Z"
   },
   {
    "duration": 14,
    "start_time": "2021-12-20T17:31:33.066Z"
   },
   {
    "duration": 11,
    "start_time": "2021-12-20T17:31:33.082Z"
   },
   {
    "duration": 10,
    "start_time": "2021-12-20T17:31:33.095Z"
   },
   {
    "duration": 59,
    "start_time": "2021-12-20T17:31:33.108Z"
   },
   {
    "duration": 38,
    "start_time": "2021-12-20T17:31:33.170Z"
   },
   {
    "duration": 22,
    "start_time": "2021-12-20T17:31:33.211Z"
   },
   {
    "duration": 718,
    "start_time": "2021-12-20T17:31:33.236Z"
   },
   {
    "duration": 6185,
    "start_time": "2021-12-20T17:31:33.956Z"
   },
   {
    "duration": 11,
    "start_time": "2021-12-20T17:31:57.594Z"
   },
   {
    "duration": 10,
    "start_time": "2021-12-20T17:32:26.106Z"
   },
   {
    "duration": 9,
    "start_time": "2021-12-20T17:42:44.857Z"
   },
   {
    "duration": 6,
    "start_time": "2021-12-20T17:45:02.715Z"
   },
   {
    "duration": 13,
    "start_time": "2021-12-20T17:46:15.604Z"
   },
   {
    "duration": 10,
    "start_time": "2021-12-20T17:48:03.005Z"
   },
   {
    "duration": 11,
    "start_time": "2021-12-20T17:57:22.491Z"
   },
   {
    "duration": 10,
    "start_time": "2021-12-20T17:57:32.531Z"
   },
   {
    "duration": 13,
    "start_time": "2021-12-20T18:00:11.220Z"
   },
   {
    "duration": 420,
    "start_time": "2021-12-20T18:01:35.983Z"
   },
   {
    "duration": 16,
    "start_time": "2021-12-20T18:01:59.607Z"
   },
   {
    "duration": 11,
    "start_time": "2021-12-20T18:08:03.180Z"
   },
   {
    "duration": 22,
    "start_time": "2021-12-20T18:14:16.120Z"
   },
   {
    "duration": 28,
    "start_time": "2021-12-20T18:28:12.619Z"
   },
   {
    "duration": 29,
    "start_time": "2021-12-20T18:32:38.326Z"
   },
   {
    "duration": 426,
    "start_time": "2021-12-21T07:50:03.302Z"
   },
   {
    "duration": 498,
    "start_time": "2021-12-21T07:50:58.647Z"
   },
   {
    "duration": 361,
    "start_time": "2021-12-21T07:52:06.661Z"
   },
   {
    "duration": 780,
    "start_time": "2021-12-21T07:52:24.271Z"
   },
   {
    "duration": 147,
    "start_time": "2021-12-21T07:52:25.053Z"
   },
   {
    "duration": 10,
    "start_time": "2021-12-21T07:52:25.203Z"
   },
   {
    "duration": 79,
    "start_time": "2021-12-21T07:52:25.215Z"
   },
   {
    "duration": 79,
    "start_time": "2021-12-21T07:52:25.296Z"
   },
   {
    "duration": 52,
    "start_time": "2021-12-21T07:52:25.377Z"
   },
   {
    "duration": 1359,
    "start_time": "2021-12-21T07:52:25.432Z"
   },
   {
    "duration": 44,
    "start_time": "2021-12-21T07:52:26.794Z"
   },
   {
    "duration": 698,
    "start_time": "2021-12-21T07:52:26.842Z"
   },
   {
    "duration": 433,
    "start_time": "2021-12-21T07:52:27.543Z"
   },
   {
    "duration": 354,
    "start_time": "2021-12-21T07:52:27.978Z"
   },
   {
    "duration": 427,
    "start_time": "2021-12-21T07:52:28.334Z"
   },
   {
    "duration": 584,
    "start_time": "2021-12-21T07:52:28.763Z"
   },
   {
    "duration": 1155,
    "start_time": "2021-12-21T07:52:29.349Z"
   },
   {
    "duration": 12,
    "start_time": "2021-12-21T07:52:30.506Z"
   },
   {
    "duration": 10,
    "start_time": "2021-12-21T07:52:30.520Z"
   },
   {
    "duration": 42,
    "start_time": "2021-12-21T07:52:30.532Z"
   },
   {
    "duration": 10,
    "start_time": "2021-12-21T07:52:30.576Z"
   },
   {
    "duration": 11,
    "start_time": "2021-12-21T07:52:30.588Z"
   },
   {
    "duration": 14,
    "start_time": "2021-12-21T07:52:30.601Z"
   },
   {
    "duration": 121,
    "start_time": "2021-12-21T07:52:30.617Z"
   },
   {
    "duration": 21,
    "start_time": "2021-12-21T07:52:30.740Z"
   },
   {
    "duration": 25,
    "start_time": "2021-12-21T07:52:30.764Z"
   },
   {
    "duration": 29,
    "start_time": "2021-12-21T07:52:30.792Z"
   },
   {
    "duration": 673,
    "start_time": "2021-12-21T07:52:30.860Z"
   },
   {
    "duration": 3998,
    "start_time": "2021-12-21T07:52:31.535Z"
   },
   {
    "duration": 464,
    "start_time": "2021-12-21T07:54:18.270Z"
   },
   {
    "duration": 10,
    "start_time": "2021-12-21T07:55:40.615Z"
   },
   {
    "duration": 15,
    "start_time": "2021-12-21T07:56:17.504Z"
   },
   {
    "duration": 13,
    "start_time": "2021-12-21T07:59:41.211Z"
   },
   {
    "duration": 1541,
    "start_time": "2021-12-21T08:05:57.529Z"
   },
   {
    "duration": 21,
    "start_time": "2021-12-21T08:06:53.394Z"
   },
   {
    "duration": 1227,
    "start_time": "2021-12-21T08:08:08.856Z"
   },
   {
    "duration": 13,
    "start_time": "2021-12-21T08:11:01.490Z"
   },
   {
    "duration": 22,
    "start_time": "2021-12-21T08:11:16.691Z"
   },
   {
    "duration": 11,
    "start_time": "2021-12-21T08:11:41.787Z"
   },
   {
    "duration": 14,
    "start_time": "2021-12-21T08:12:50.452Z"
   },
   {
    "duration": 26,
    "start_time": "2021-12-21T08:16:55.959Z"
   },
   {
    "duration": 873,
    "start_time": "2021-12-21T08:30:38.673Z"
   },
   {
    "duration": 852,
    "start_time": "2021-12-21T08:33:04.794Z"
   },
   {
    "duration": 6281,
    "start_time": "2021-12-21T08:35:20.275Z"
   },
   {
    "duration": 2031,
    "start_time": "2021-12-21T08:36:09.828Z"
   },
   {
    "duration": 900,
    "start_time": "2021-12-21T08:37:04.117Z"
   },
   {
    "duration": 811,
    "start_time": "2021-12-21T08:39:07.534Z"
   },
   {
    "duration": 3104,
    "start_time": "2021-12-21T08:39:49.126Z"
   },
   {
    "duration": 630,
    "start_time": "2021-12-21T08:40:50.568Z"
   },
   {
    "duration": 610,
    "start_time": "2021-12-21T08:41:59.190Z"
   },
   {
    "duration": 459,
    "start_time": "2021-12-21T08:44:06.090Z"
   },
   {
    "duration": 393,
    "start_time": "2021-12-21T08:44:35.947Z"
   },
   {
    "duration": 149,
    "start_time": "2021-12-21T08:45:05.994Z"
   },
   {
    "duration": 526,
    "start_time": "2021-12-21T08:45:24.746Z"
   },
   {
    "duration": 492,
    "start_time": "2021-12-21T08:45:49.546Z"
   },
   {
    "duration": 425,
    "start_time": "2021-12-21T08:46:06.323Z"
   },
   {
    "duration": 555,
    "start_time": "2021-12-21T08:46:36.204Z"
   },
   {
    "duration": 123,
    "start_time": "2021-12-21T08:47:39.700Z"
   },
   {
    "duration": 422,
    "start_time": "2021-12-21T08:47:57.412Z"
   },
   {
    "duration": 816,
    "start_time": "2021-12-21T08:48:07.901Z"
   },
   {
    "duration": 371,
    "start_time": "2021-12-21T08:51:56.912Z"
   },
   {
    "duration": 789,
    "start_time": "2021-12-21T08:57:17.261Z"
   },
   {
    "duration": 157,
    "start_time": "2021-12-21T08:57:18.052Z"
   },
   {
    "duration": 14,
    "start_time": "2021-12-21T08:57:18.213Z"
   },
   {
    "duration": 81,
    "start_time": "2021-12-21T08:57:18.230Z"
   },
   {
    "duration": 84,
    "start_time": "2021-12-21T08:57:18.314Z"
   },
   {
    "duration": 60,
    "start_time": "2021-12-21T08:57:18.400Z"
   },
   {
    "duration": 1238,
    "start_time": "2021-12-21T08:57:18.462Z"
   },
   {
    "duration": 68,
    "start_time": "2021-12-21T08:57:19.705Z"
   },
   {
    "duration": 733,
    "start_time": "2021-12-21T08:57:19.778Z"
   },
   {
    "duration": 478,
    "start_time": "2021-12-21T08:57:20.515Z"
   },
   {
    "duration": 430,
    "start_time": "2021-12-21T08:57:20.995Z"
   },
   {
    "duration": 473,
    "start_time": "2021-12-21T08:57:21.428Z"
   },
   {
    "duration": 659,
    "start_time": "2021-12-21T08:57:21.903Z"
   },
   {
    "duration": 1282,
    "start_time": "2021-12-21T08:57:22.565Z"
   },
   {
    "duration": 26,
    "start_time": "2021-12-21T08:57:23.849Z"
   },
   {
    "duration": 21,
    "start_time": "2021-12-21T08:57:23.878Z"
   },
   {
    "duration": 24,
    "start_time": "2021-12-21T08:57:23.902Z"
   },
   {
    "duration": 42,
    "start_time": "2021-12-21T08:57:23.929Z"
   },
   {
    "duration": 17,
    "start_time": "2021-12-21T08:57:23.975Z"
   },
   {
    "duration": 19,
    "start_time": "2021-12-21T08:57:23.994Z"
   },
   {
    "duration": 118,
    "start_time": "2021-12-21T08:57:24.015Z"
   },
   {
    "duration": 26,
    "start_time": "2021-12-21T08:57:24.136Z"
   },
   {
    "duration": 29,
    "start_time": "2021-12-21T08:57:24.169Z"
   },
   {
    "duration": 31,
    "start_time": "2021-12-21T08:57:24.202Z"
   },
   {
    "duration": 875,
    "start_time": "2021-12-21T08:57:24.235Z"
   },
   {
    "duration": 4903,
    "start_time": "2021-12-21T08:57:25.113Z"
   },
   {
    "duration": 876,
    "start_time": "2021-12-21T09:04:59.278Z"
   },
   {
    "duration": 792,
    "start_time": "2021-12-21T09:05:31.525Z"
   },
   {
    "duration": 9,
    "start_time": "2021-12-21T09:08:43.736Z"
   },
   {
    "duration": 1560,
    "start_time": "2021-12-21T09:19:24.815Z"
   },
   {
    "duration": 4377,
    "start_time": "2021-12-21T09:20:21.129Z"
   },
   {
    "duration": 4540,
    "start_time": "2021-12-21T09:20:25.944Z"
   },
   {
    "duration": 782,
    "start_time": "2021-12-21T09:21:18.922Z"
   },
   {
    "duration": 720,
    "start_time": "2021-12-21T09:21:42.331Z"
   },
   {
    "duration": 384,
    "start_time": "2021-12-21T09:21:58.240Z"
   },
   {
    "duration": 847,
    "start_time": "2021-12-21T09:23:52.538Z"
   },
   {
    "duration": 642,
    "start_time": "2021-12-21T09:24:50.220Z"
   },
   {
    "duration": 739,
    "start_time": "2021-12-21T09:25:00.876Z"
   },
   {
    "duration": 953,
    "start_time": "2021-12-21T09:25:13.884Z"
   },
   {
    "duration": 736,
    "start_time": "2021-12-21T09:29:06.240Z"
   },
   {
    "duration": 775,
    "start_time": "2021-12-21T09:30:36.687Z"
   },
   {
    "duration": -953,
    "start_time": "2021-12-21T09:41:15.310Z"
   },
   {
    "duration": 24,
    "start_time": "2021-12-21T09:41:54.383Z"
   },
   {
    "duration": 15511,
    "start_time": "2021-12-21T09:42:04.102Z"
   },
   {
    "duration": 23,
    "start_time": "2021-12-21T09:42:42.352Z"
   },
   {
    "duration": 14310,
    "start_time": "2021-12-21T09:42:51.633Z"
   },
   {
    "duration": -975,
    "start_time": "2021-12-21T09:43:06.921Z"
   },
   {
    "duration": 23,
    "start_time": "2021-12-21T09:43:27.585Z"
   },
   {
    "duration": 655,
    "start_time": "2021-12-21T09:45:02.284Z"
   },
   {
    "duration": 345,
    "start_time": "2021-12-21T11:30:16.306Z"
   },
   {
    "duration": 824,
    "start_time": "2021-12-21T11:31:19.966Z"
   },
   {
    "duration": 150,
    "start_time": "2021-12-21T11:31:20.793Z"
   },
   {
    "duration": 12,
    "start_time": "2021-12-21T11:31:20.946Z"
   },
   {
    "duration": 74,
    "start_time": "2021-12-21T11:31:20.961Z"
   },
   {
    "duration": 64,
    "start_time": "2021-12-21T11:31:21.037Z"
   },
   {
    "duration": 48,
    "start_time": "2021-12-21T11:31:21.117Z"
   },
   {
    "duration": 1229,
    "start_time": "2021-12-21T11:31:21.167Z"
   },
   {
    "duration": 53,
    "start_time": "2021-12-21T11:31:22.400Z"
   },
   {
    "duration": 701,
    "start_time": "2021-12-21T11:31:22.456Z"
   },
   {
    "duration": 409,
    "start_time": "2021-12-21T11:31:23.160Z"
   },
   {
    "duration": 357,
    "start_time": "2021-12-21T11:31:23.571Z"
   },
   {
    "duration": 420,
    "start_time": "2021-12-21T11:31:23.930Z"
   },
   {
    "duration": 583,
    "start_time": "2021-12-21T11:31:24.353Z"
   },
   {
    "duration": 1125,
    "start_time": "2021-12-21T11:31:24.938Z"
   },
   {
    "duration": 14,
    "start_time": "2021-12-21T11:31:26.065Z"
   },
   {
    "duration": 36,
    "start_time": "2021-12-21T11:31:26.081Z"
   },
   {
    "duration": 21,
    "start_time": "2021-12-21T11:31:26.120Z"
   },
   {
    "duration": 10,
    "start_time": "2021-12-21T11:31:26.143Z"
   },
   {
    "duration": 8,
    "start_time": "2021-12-21T11:31:26.155Z"
   },
   {
    "duration": 54,
    "start_time": "2021-12-21T11:31:26.166Z"
   },
   {
    "duration": 95,
    "start_time": "2021-12-21T11:31:26.222Z"
   },
   {
    "duration": 10,
    "start_time": "2021-12-21T11:31:26.319Z"
   },
   {
    "duration": 19,
    "start_time": "2021-12-21T11:31:26.334Z"
   },
   {
    "duration": 26,
    "start_time": "2021-12-21T11:31:26.356Z"
   },
   {
    "duration": 654,
    "start_time": "2021-12-21T11:31:26.418Z"
   },
   {
    "duration": 800,
    "start_time": "2021-12-21T11:31:27.076Z"
   },
   {
    "duration": 40,
    "start_time": "2021-12-21T11:31:27.879Z"
   },
   {
    "duration": 282,
    "start_time": "2021-12-21T11:37:20.584Z"
   },
   {
    "duration": 23,
    "start_time": "2021-12-21T11:41:05.257Z"
   },
   {
    "duration": 288,
    "start_time": "2021-12-21T11:41:32.770Z"
   },
   {
    "duration": 281,
    "start_time": "2021-12-21T11:41:47.771Z"
   },
   {
    "duration": 668,
    "start_time": "2021-12-21T11:43:00.515Z"
   },
   {
    "duration": 659,
    "start_time": "2021-12-21T11:44:07.540Z"
   },
   {
    "duration": 1023,
    "start_time": "2021-12-21T11:44:48.157Z"
   },
   {
    "duration": 917,
    "start_time": "2021-12-21T11:45:12.581Z"
   },
   {
    "duration": 24,
    "start_time": "2021-12-21T11:45:17.133Z"
   },
   {
    "duration": 1021,
    "start_time": "2021-12-21T11:45:56.173Z"
   },
   {
    "duration": 14,
    "start_time": "2021-12-21T11:49:56.600Z"
   },
   {
    "duration": 12,
    "start_time": "2021-12-21T11:54:30.843Z"
   },
   {
    "duration": 55,
    "start_time": "2021-12-21T11:55:38.452Z"
   },
   {
    "duration": 358,
    "start_time": "2021-12-21T11:56:58.029Z"
   },
   {
    "duration": 12,
    "start_time": "2021-12-21T11:57:45.117Z"
   },
   {
    "duration": 858,
    "start_time": "2021-12-21T11:58:43.142Z"
   },
   {
    "duration": 13,
    "start_time": "2021-12-21T11:59:20.014Z"
   },
   {
    "duration": 9,
    "start_time": "2021-12-21T12:05:21.090Z"
   },
   {
    "duration": 277,
    "start_time": "2021-12-21T12:20:44.933Z"
   },
   {
    "duration": 300,
    "start_time": "2021-12-21T12:26:01.776Z"
   },
   {
    "duration": 285,
    "start_time": "2021-12-21T12:27:18.153Z"
   },
   {
    "duration": 10,
    "start_time": "2021-12-21T12:29:15.442Z"
   },
   {
    "duration": 10,
    "start_time": "2021-12-21T12:36:17.056Z"
   },
   {
    "duration": 10,
    "start_time": "2021-12-21T12:38:59.699Z"
   },
   {
    "duration": 810,
    "start_time": "2021-12-22T07:56:49.445Z"
   },
   {
    "duration": 148,
    "start_time": "2021-12-22T07:56:50.258Z"
   },
   {
    "duration": 22,
    "start_time": "2021-12-22T07:56:50.409Z"
   },
   {
    "duration": 50,
    "start_time": "2021-12-22T07:56:50.434Z"
   },
   {
    "duration": 87,
    "start_time": "2021-12-22T07:56:50.486Z"
   },
   {
    "duration": 58,
    "start_time": "2021-12-22T07:56:50.575Z"
   },
   {
    "duration": 1160,
    "start_time": "2021-12-22T07:56:50.636Z"
   },
   {
    "duration": 52,
    "start_time": "2021-12-22T07:56:51.801Z"
   },
   {
    "duration": 694,
    "start_time": "2021-12-22T07:56:51.856Z"
   },
   {
    "duration": 689,
    "start_time": "2021-12-22T07:56:52.552Z"
   },
   {
    "duration": 499,
    "start_time": "2021-12-22T07:56:53.245Z"
   },
   {
    "duration": 433,
    "start_time": "2021-12-22T07:56:53.747Z"
   },
   {
    "duration": 600,
    "start_time": "2021-12-22T07:56:54.182Z"
   },
   {
    "duration": 1144,
    "start_time": "2021-12-22T07:56:54.785Z"
   },
   {
    "duration": 14,
    "start_time": "2021-12-22T07:56:55.932Z"
   },
   {
    "duration": 33,
    "start_time": "2021-12-22T07:56:55.949Z"
   },
   {
    "duration": 46,
    "start_time": "2021-12-22T07:56:55.985Z"
   },
   {
    "duration": 9,
    "start_time": "2021-12-22T07:56:56.033Z"
   },
   {
    "duration": 10,
    "start_time": "2021-12-22T07:56:56.045Z"
   },
   {
    "duration": 20,
    "start_time": "2021-12-22T07:56:56.057Z"
   },
   {
    "duration": 109,
    "start_time": "2021-12-22T07:56:56.080Z"
   },
   {
    "duration": 30,
    "start_time": "2021-12-22T07:56:56.192Z"
   },
   {
    "duration": 289,
    "start_time": "2021-12-22T07:56:56.227Z"
   },
   {
    "duration": 29,
    "start_time": "2021-12-22T07:56:56.518Z"
   },
   {
    "duration": 1278,
    "start_time": "2021-12-22T07:56:56.550Z"
   },
   {
    "duration": 21,
    "start_time": "2021-12-22T07:56:57.832Z"
   },
   {
    "duration": 25,
    "start_time": "2021-12-22T07:56:57.856Z"
   },
   {
    "duration": 16,
    "start_time": "2021-12-22T07:56:57.883Z"
   },
   {
    "duration": 29,
    "start_time": "2021-12-22T07:56:57.901Z"
   },
   {
    "duration": 17,
    "start_time": "2021-12-22T07:56:57.932Z"
   },
   {
    "duration": 31,
    "start_time": "2021-12-22T07:56:57.952Z"
   },
   {
    "duration": 28,
    "start_time": "2021-12-22T07:56:57.985Z"
   },
   {
    "duration": 723,
    "start_time": "2022-02-18T16:05:44.918Z"
   },
   {
    "duration": 153,
    "start_time": "2022-02-18T16:05:45.644Z"
   },
   {
    "duration": 11,
    "start_time": "2022-02-18T16:05:45.802Z"
   },
   {
    "duration": 49,
    "start_time": "2022-02-18T16:05:45.815Z"
   },
   {
    "duration": 90,
    "start_time": "2022-02-18T16:05:45.866Z"
   },
   {
    "duration": 71,
    "start_time": "2022-02-18T16:05:45.958Z"
   },
   {
    "duration": 1204,
    "start_time": "2022-02-18T16:05:46.034Z"
   },
   {
    "duration": 54,
    "start_time": "2022-02-18T16:05:47.241Z"
   },
   {
    "duration": 700,
    "start_time": "2022-02-18T16:05:47.297Z"
   },
   {
    "duration": 427,
    "start_time": "2022-02-18T16:05:48.000Z"
   },
   {
    "duration": 355,
    "start_time": "2022-02-18T16:05:48.430Z"
   },
   {
    "duration": 449,
    "start_time": "2022-02-18T16:05:48.787Z"
   },
   {
    "duration": 585,
    "start_time": "2022-02-18T16:05:49.238Z"
   },
   {
    "duration": 1282,
    "start_time": "2022-02-18T16:05:49.825Z"
   },
   {
    "duration": 14,
    "start_time": "2022-02-18T16:05:51.109Z"
   },
   {
    "duration": 12,
    "start_time": "2022-02-18T16:05:51.126Z"
   },
   {
    "duration": 55,
    "start_time": "2022-02-18T16:05:51.140Z"
   },
   {
    "duration": 11,
    "start_time": "2022-02-18T16:05:51.197Z"
   },
   {
    "duration": 12,
    "start_time": "2022-02-18T16:05:51.210Z"
   },
   {
    "duration": 15,
    "start_time": "2022-02-18T16:05:51.225Z"
   },
   {
    "duration": 118,
    "start_time": "2022-02-18T16:05:51.243Z"
   },
   {
    "duration": 28,
    "start_time": "2022-02-18T16:05:51.365Z"
   },
   {
    "duration": 307,
    "start_time": "2022-02-18T16:05:51.396Z"
   },
   {
    "duration": 28,
    "start_time": "2022-02-18T16:05:51.705Z"
   },
   {
    "duration": 927,
    "start_time": "2022-02-18T16:05:51.736Z"
   },
   {
    "duration": 38,
    "start_time": "2022-02-18T16:05:52.666Z"
   },
   {
    "duration": 13,
    "start_time": "2022-02-18T16:05:52.707Z"
   },
   {
    "duration": 14,
    "start_time": "2022-02-18T16:05:52.722Z"
   },
   {
    "duration": 56,
    "start_time": "2022-02-18T16:05:52.739Z"
   },
   {
    "duration": 9,
    "start_time": "2022-02-18T16:05:52.798Z"
   },
   {
    "duration": 11,
    "start_time": "2022-02-18T16:05:52.809Z"
   },
   {
    "duration": 8,
    "start_time": "2022-02-18T16:05:52.822Z"
   },
   {
    "duration": 70,
    "start_time": "2022-03-18T07:14:43.145Z"
   },
   {
    "duration": 542,
    "start_time": "2022-03-18T07:14:57.165Z"
   },
   {
    "duration": 178,
    "start_time": "2022-03-18T07:14:57.709Z"
   },
   {
    "duration": 10,
    "start_time": "2022-03-18T07:14:57.889Z"
   },
   {
    "duration": 77,
    "start_time": "2022-03-18T07:14:57.902Z"
   },
   {
    "duration": 59,
    "start_time": "2022-03-18T07:14:57.981Z"
   },
   {
    "duration": 62,
    "start_time": "2022-03-18T07:14:58.043Z"
   },
   {
    "duration": 691,
    "start_time": "2022-03-18T07:14:58.107Z"
   },
   {
    "duration": 0,
    "start_time": "2022-03-18T07:14:58.801Z"
   },
   {
    "duration": 0,
    "start_time": "2022-03-18T07:14:58.803Z"
   },
   {
    "duration": 0,
    "start_time": "2022-03-18T07:14:58.804Z"
   },
   {
    "duration": 0,
    "start_time": "2022-03-18T07:14:58.806Z"
   },
   {
    "duration": 0,
    "start_time": "2022-03-18T07:14:58.808Z"
   },
   {
    "duration": 0,
    "start_time": "2022-03-18T07:14:58.810Z"
   },
   {
    "duration": 0,
    "start_time": "2022-03-18T07:14:58.811Z"
   },
   {
    "duration": 0,
    "start_time": "2022-03-18T07:14:58.813Z"
   },
   {
    "duration": 0,
    "start_time": "2022-03-18T07:14:58.815Z"
   },
   {
    "duration": 0,
    "start_time": "2022-03-18T07:14:58.817Z"
   },
   {
    "duration": 0,
    "start_time": "2022-03-18T07:14:58.819Z"
   },
   {
    "duration": 0,
    "start_time": "2022-03-18T07:14:58.820Z"
   },
   {
    "duration": 0,
    "start_time": "2022-03-18T07:14:58.822Z"
   },
   {
    "duration": 0,
    "start_time": "2022-03-18T07:14:58.823Z"
   },
   {
    "duration": 0,
    "start_time": "2022-03-18T07:14:58.825Z"
   },
   {
    "duration": 0,
    "start_time": "2022-03-18T07:14:58.826Z"
   },
   {
    "duration": 0,
    "start_time": "2022-03-18T07:14:58.828Z"
   },
   {
    "duration": 0,
    "start_time": "2022-03-18T07:14:58.829Z"
   },
   {
    "duration": 0,
    "start_time": "2022-03-18T07:14:58.831Z"
   },
   {
    "duration": 0,
    "start_time": "2022-03-18T07:14:58.833Z"
   },
   {
    "duration": 0,
    "start_time": "2022-03-18T07:14:58.834Z"
   },
   {
    "duration": 0,
    "start_time": "2022-03-18T07:14:58.835Z"
   },
   {
    "duration": 0,
    "start_time": "2022-03-18T07:14:58.837Z"
   },
   {
    "duration": 0,
    "start_time": "2022-03-18T07:14:58.868Z"
   },
   {
    "duration": 0,
    "start_time": "2022-03-18T07:14:58.870Z"
   },
   {
    "duration": 651,
    "start_time": "2022-03-18T07:16:15.419Z"
   },
   {
    "duration": 189,
    "start_time": "2022-03-18T07:16:16.073Z"
   },
   {
    "duration": 14,
    "start_time": "2022-03-18T07:16:16.267Z"
   },
   {
    "duration": 54,
    "start_time": "2022-03-18T07:16:16.285Z"
   },
   {
    "duration": 64,
    "start_time": "2022-03-18T07:16:16.368Z"
   },
   {
    "duration": 68,
    "start_time": "2022-03-18T07:16:16.435Z"
   },
   {
    "duration": 875,
    "start_time": "2022-03-18T07:16:16.506Z"
   },
   {
    "duration": 0,
    "start_time": "2022-03-18T07:16:17.384Z"
   },
   {
    "duration": 0,
    "start_time": "2022-03-18T07:16:17.385Z"
   },
   {
    "duration": 0,
    "start_time": "2022-03-18T07:16:17.387Z"
   },
   {
    "duration": 0,
    "start_time": "2022-03-18T07:16:17.389Z"
   },
   {
    "duration": 0,
    "start_time": "2022-03-18T07:16:17.390Z"
   },
   {
    "duration": 0,
    "start_time": "2022-03-18T07:16:17.391Z"
   },
   {
    "duration": 0,
    "start_time": "2022-03-18T07:16:17.393Z"
   },
   {
    "duration": 0,
    "start_time": "2022-03-18T07:16:17.395Z"
   },
   {
    "duration": 0,
    "start_time": "2022-03-18T07:16:17.397Z"
   },
   {
    "duration": 0,
    "start_time": "2022-03-18T07:16:17.399Z"
   },
   {
    "duration": 0,
    "start_time": "2022-03-18T07:16:17.400Z"
   },
   {
    "duration": 0,
    "start_time": "2022-03-18T07:16:17.402Z"
   },
   {
    "duration": 0,
    "start_time": "2022-03-18T07:16:17.404Z"
   },
   {
    "duration": 0,
    "start_time": "2022-03-18T07:16:17.405Z"
   },
   {
    "duration": 0,
    "start_time": "2022-03-18T07:16:17.407Z"
   },
   {
    "duration": 0,
    "start_time": "2022-03-18T07:16:17.410Z"
   },
   {
    "duration": 0,
    "start_time": "2022-03-18T07:16:17.412Z"
   },
   {
    "duration": 0,
    "start_time": "2022-03-18T07:16:17.414Z"
   },
   {
    "duration": 0,
    "start_time": "2022-03-18T07:16:17.416Z"
   },
   {
    "duration": 0,
    "start_time": "2022-03-18T07:16:17.418Z"
   },
   {
    "duration": 0,
    "start_time": "2022-03-18T07:16:17.420Z"
   },
   {
    "duration": 0,
    "start_time": "2022-03-18T07:16:17.422Z"
   },
   {
    "duration": 0,
    "start_time": "2022-03-18T07:16:17.468Z"
   },
   {
    "duration": 0,
    "start_time": "2022-03-18T07:16:17.471Z"
   },
   {
    "duration": 0,
    "start_time": "2022-03-18T07:16:17.473Z"
   },
   {
    "duration": 623,
    "start_time": "2022-03-18T07:16:42.581Z"
   },
   {
    "duration": 248,
    "start_time": "2022-03-18T08:48:17.300Z"
   },
   {
    "duration": 423,
    "start_time": "2022-03-19T11:25:59.819Z"
   },
   {
    "duration": 124,
    "start_time": "2022-03-19T11:26:00.244Z"
   },
   {
    "duration": 9,
    "start_time": "2022-03-19T11:26:00.370Z"
   },
   {
    "duration": 52,
    "start_time": "2022-03-19T11:26:00.382Z"
   },
   {
    "duration": 43,
    "start_time": "2022-03-19T11:26:00.436Z"
   },
   {
    "duration": 30,
    "start_time": "2022-03-19T11:26:00.481Z"
   },
   {
    "duration": 696,
    "start_time": "2022-03-19T11:26:00.533Z"
   },
   {
    "duration": 0,
    "start_time": "2022-03-19T11:26:01.232Z"
   },
   {
    "duration": 0,
    "start_time": "2022-03-19T11:26:01.233Z"
   },
   {
    "duration": 0,
    "start_time": "2022-03-19T11:26:01.234Z"
   },
   {
    "duration": 0,
    "start_time": "2022-03-19T11:26:01.235Z"
   },
   {
    "duration": 0,
    "start_time": "2022-03-19T11:26:01.236Z"
   },
   {
    "duration": 0,
    "start_time": "2022-03-19T11:26:01.237Z"
   },
   {
    "duration": 0,
    "start_time": "2022-03-19T11:26:01.238Z"
   },
   {
    "duration": 0,
    "start_time": "2022-03-19T11:26:01.239Z"
   },
   {
    "duration": 0,
    "start_time": "2022-03-19T11:26:01.240Z"
   },
   {
    "duration": 0,
    "start_time": "2022-03-19T11:26:01.241Z"
   },
   {
    "duration": 0,
    "start_time": "2022-03-19T11:26:01.242Z"
   },
   {
    "duration": 0,
    "start_time": "2022-03-19T11:26:01.243Z"
   },
   {
    "duration": 0,
    "start_time": "2022-03-19T11:26:01.244Z"
   },
   {
    "duration": 0,
    "start_time": "2022-03-19T11:26:01.245Z"
   },
   {
    "duration": 0,
    "start_time": "2022-03-19T11:26:01.246Z"
   },
   {
    "duration": 0,
    "start_time": "2022-03-19T11:26:01.248Z"
   },
   {
    "duration": 0,
    "start_time": "2022-03-19T11:26:01.249Z"
   },
   {
    "duration": 0,
    "start_time": "2022-03-19T11:26:01.250Z"
   },
   {
    "duration": 0,
    "start_time": "2022-03-19T11:26:01.251Z"
   },
   {
    "duration": 0,
    "start_time": "2022-03-19T11:26:01.252Z"
   },
   {
    "duration": 0,
    "start_time": "2022-03-19T11:26:01.254Z"
   },
   {
    "duration": 0,
    "start_time": "2022-03-19T11:26:01.255Z"
   },
   {
    "duration": 0,
    "start_time": "2022-03-19T11:26:01.256Z"
   },
   {
    "duration": 0,
    "start_time": "2022-03-19T11:26:01.257Z"
   },
   {
    "duration": 1,
    "start_time": "2022-03-19T11:26:01.258Z"
   },
   {
    "duration": 430,
    "start_time": "2022-03-23T15:25:41.135Z"
   },
   {
    "duration": 116,
    "start_time": "2022-03-23T15:25:41.567Z"
   },
   {
    "duration": 8,
    "start_time": "2022-03-23T15:25:41.684Z"
   },
   {
    "duration": 32,
    "start_time": "2022-03-23T15:25:41.694Z"
   },
   {
    "duration": 57,
    "start_time": "2022-03-23T15:25:41.728Z"
   },
   {
    "duration": 27,
    "start_time": "2022-03-23T15:25:41.786Z"
   },
   {
    "duration": 786,
    "start_time": "2022-03-23T15:25:41.815Z"
   },
   {
    "duration": 0,
    "start_time": "2022-03-23T15:25:42.603Z"
   },
   {
    "duration": 0,
    "start_time": "2022-03-23T15:25:42.605Z"
   },
   {
    "duration": 0,
    "start_time": "2022-03-23T15:25:42.606Z"
   },
   {
    "duration": 0,
    "start_time": "2022-03-23T15:25:42.607Z"
   },
   {
    "duration": 0,
    "start_time": "2022-03-23T15:25:42.608Z"
   },
   {
    "duration": 0,
    "start_time": "2022-03-23T15:25:42.608Z"
   },
   {
    "duration": 1,
    "start_time": "2022-03-23T15:25:42.609Z"
   },
   {
    "duration": 0,
    "start_time": "2022-03-23T15:25:42.610Z"
   },
   {
    "duration": 0,
    "start_time": "2022-03-23T15:25:42.611Z"
   },
   {
    "duration": 0,
    "start_time": "2022-03-23T15:25:42.612Z"
   },
   {
    "duration": 0,
    "start_time": "2022-03-23T15:25:42.613Z"
   },
   {
    "duration": 0,
    "start_time": "2022-03-23T15:25:42.614Z"
   },
   {
    "duration": 0,
    "start_time": "2022-03-23T15:25:42.615Z"
   },
   {
    "duration": 0,
    "start_time": "2022-03-23T15:25:42.616Z"
   },
   {
    "duration": 0,
    "start_time": "2022-03-23T15:25:42.617Z"
   },
   {
    "duration": 0,
    "start_time": "2022-03-23T15:25:42.618Z"
   },
   {
    "duration": 0,
    "start_time": "2022-03-23T15:25:42.618Z"
   },
   {
    "duration": 0,
    "start_time": "2022-03-23T15:25:42.619Z"
   },
   {
    "duration": 0,
    "start_time": "2022-03-23T15:25:42.620Z"
   },
   {
    "duration": 0,
    "start_time": "2022-03-23T15:25:42.621Z"
   },
   {
    "duration": 0,
    "start_time": "2022-03-23T15:25:42.622Z"
   },
   {
    "duration": 0,
    "start_time": "2022-03-23T15:25:42.623Z"
   },
   {
    "duration": 0,
    "start_time": "2022-03-23T15:25:42.625Z"
   },
   {
    "duration": 0,
    "start_time": "2022-03-23T15:25:42.626Z"
   },
   {
    "duration": 0,
    "start_time": "2022-03-23T15:25:42.627Z"
   },
   {
    "duration": 12,
    "start_time": "2022-03-23T15:27:06.490Z"
   },
   {
    "duration": 491,
    "start_time": "2022-03-23T15:27:22.705Z"
   },
   {
    "duration": 137,
    "start_time": "2022-03-23T15:27:23.199Z"
   },
   {
    "duration": 9,
    "start_time": "2022-03-23T15:27:23.338Z"
   },
   {
    "duration": 53,
    "start_time": "2022-03-23T15:27:23.349Z"
   },
   {
    "duration": 43,
    "start_time": "2022-03-23T15:27:23.404Z"
   },
   {
    "duration": 40,
    "start_time": "2022-03-23T15:27:23.450Z"
   },
   {
    "duration": 16,
    "start_time": "2022-03-23T15:27:23.492Z"
   },
   {
    "duration": 54,
    "start_time": "2022-03-23T15:27:23.509Z"
   },
   {
    "duration": 718,
    "start_time": "2022-03-23T15:27:23.565Z"
   },
   {
    "duration": 194,
    "start_time": "2022-03-23T15:27:24.286Z"
   },
   {
    "duration": 194,
    "start_time": "2022-03-23T15:27:24.482Z"
   },
   {
    "duration": 270,
    "start_time": "2022-03-23T15:27:24.678Z"
   },
   {
    "duration": 248,
    "start_time": "2022-03-23T15:27:24.950Z"
   },
   {
    "duration": 472,
    "start_time": "2022-03-23T15:27:25.200Z"
   },
   {
    "duration": 12,
    "start_time": "2022-03-23T15:27:25.674Z"
   },
   {
    "duration": 9,
    "start_time": "2022-03-23T15:27:25.687Z"
   },
   {
    "duration": 12,
    "start_time": "2022-03-23T15:27:25.697Z"
   },
   {
    "duration": 132,
    "start_time": "2022-03-23T15:27:25.710Z"
   },
   {
    "duration": 0,
    "start_time": "2022-03-23T15:27:25.844Z"
   },
   {
    "duration": 0,
    "start_time": "2022-03-23T15:27:25.845Z"
   },
   {
    "duration": 0,
    "start_time": "2022-03-23T15:27:25.846Z"
   },
   {
    "duration": 0,
    "start_time": "2022-03-23T15:27:25.848Z"
   },
   {
    "duration": 0,
    "start_time": "2022-03-23T15:27:25.862Z"
   },
   {
    "duration": 0,
    "start_time": "2022-03-23T15:27:25.864Z"
   },
   {
    "duration": 0,
    "start_time": "2022-03-23T15:27:25.864Z"
   },
   {
    "duration": 0,
    "start_time": "2022-03-23T15:27:25.866Z"
   },
   {
    "duration": 0,
    "start_time": "2022-03-23T15:27:25.867Z"
   },
   {
    "duration": 0,
    "start_time": "2022-03-23T15:27:25.868Z"
   },
   {
    "duration": 0,
    "start_time": "2022-03-23T15:27:25.869Z"
   },
   {
    "duration": 0,
    "start_time": "2022-03-23T15:27:25.870Z"
   },
   {
    "duration": 0,
    "start_time": "2022-03-23T15:27:25.871Z"
   },
   {
    "duration": 0,
    "start_time": "2022-03-23T15:27:25.872Z"
   },
   {
    "duration": 690,
    "start_time": "2022-03-23T15:31:30.826Z"
   },
   {
    "duration": 920,
    "start_time": "2022-03-23T15:41:07.488Z"
   },
   {
    "duration": 762,
    "start_time": "2022-03-23T15:41:14.852Z"
   },
   {
    "duration": 433,
    "start_time": "2022-03-23T15:41:41.573Z"
   },
   {
    "duration": 134,
    "start_time": "2022-03-23T15:41:42.008Z"
   },
   {
    "duration": 8,
    "start_time": "2022-03-23T15:41:42.143Z"
   },
   {
    "duration": 44,
    "start_time": "2022-03-23T15:41:42.153Z"
   },
   {
    "duration": 41,
    "start_time": "2022-03-23T15:41:42.199Z"
   },
   {
    "duration": 46,
    "start_time": "2022-03-23T15:41:42.241Z"
   },
   {
    "duration": 866,
    "start_time": "2022-03-23T15:41:42.289Z"
   },
   {
    "duration": 0,
    "start_time": "2022-03-23T15:41:43.158Z"
   },
   {
    "duration": 0,
    "start_time": "2022-03-23T15:41:43.159Z"
   },
   {
    "duration": 0,
    "start_time": "2022-03-23T15:41:43.161Z"
   },
   {
    "duration": 0,
    "start_time": "2022-03-23T15:41:43.163Z"
   },
   {
    "duration": 0,
    "start_time": "2022-03-23T15:41:43.164Z"
   },
   {
    "duration": 0,
    "start_time": "2022-03-23T15:41:43.165Z"
   },
   {
    "duration": 0,
    "start_time": "2022-03-23T15:41:43.166Z"
   },
   {
    "duration": 0,
    "start_time": "2022-03-23T15:41:43.167Z"
   },
   {
    "duration": 0,
    "start_time": "2022-03-23T15:41:43.168Z"
   },
   {
    "duration": 0,
    "start_time": "2022-03-23T15:41:43.169Z"
   },
   {
    "duration": 0,
    "start_time": "2022-03-23T15:41:43.170Z"
   },
   {
    "duration": 0,
    "start_time": "2022-03-23T15:41:43.171Z"
   },
   {
    "duration": 0,
    "start_time": "2022-03-23T15:41:43.172Z"
   },
   {
    "duration": 0,
    "start_time": "2022-03-23T15:41:43.173Z"
   },
   {
    "duration": 0,
    "start_time": "2022-03-23T15:41:43.174Z"
   },
   {
    "duration": 0,
    "start_time": "2022-03-23T15:41:43.175Z"
   },
   {
    "duration": 0,
    "start_time": "2022-03-23T15:41:43.176Z"
   },
   {
    "duration": 0,
    "start_time": "2022-03-23T15:41:43.177Z"
   },
   {
    "duration": 0,
    "start_time": "2022-03-23T15:41:43.177Z"
   },
   {
    "duration": 1,
    "start_time": "2022-03-23T15:41:43.178Z"
   },
   {
    "duration": 0,
    "start_time": "2022-03-23T15:41:43.180Z"
   },
   {
    "duration": 0,
    "start_time": "2022-03-23T15:41:43.181Z"
   },
   {
    "duration": 0,
    "start_time": "2022-03-23T15:41:43.182Z"
   },
   {
    "duration": 0,
    "start_time": "2022-03-23T15:41:43.183Z"
   },
   {
    "duration": 0,
    "start_time": "2022-03-23T15:41:43.184Z"
   },
   {
    "duration": 24,
    "start_time": "2022-03-23T15:52:35.161Z"
   },
   {
    "duration": 522,
    "start_time": "2022-03-23T15:52:47.611Z"
   },
   {
    "duration": 181,
    "start_time": "2022-03-23T15:52:48.135Z"
   },
   {
    "duration": 7,
    "start_time": "2022-03-23T15:52:48.318Z"
   },
   {
    "duration": 48,
    "start_time": "2022-03-23T15:52:48.327Z"
   },
   {
    "duration": 41,
    "start_time": "2022-03-23T15:52:48.377Z"
   },
   {
    "duration": 47,
    "start_time": "2022-03-23T15:52:48.420Z"
   },
   {
    "duration": 81,
    "start_time": "2022-03-23T15:52:48.469Z"
   },
   {
    "duration": 0,
    "start_time": "2022-03-23T15:52:48.563Z"
   },
   {
    "duration": 0,
    "start_time": "2022-03-23T15:52:48.564Z"
   },
   {
    "duration": 0,
    "start_time": "2022-03-23T15:52:48.566Z"
   },
   {
    "duration": 0,
    "start_time": "2022-03-23T15:52:48.567Z"
   },
   {
    "duration": 0,
    "start_time": "2022-03-23T15:52:48.568Z"
   },
   {
    "duration": 0,
    "start_time": "2022-03-23T15:52:48.568Z"
   },
   {
    "duration": 0,
    "start_time": "2022-03-23T15:52:48.570Z"
   },
   {
    "duration": 0,
    "start_time": "2022-03-23T15:52:48.571Z"
   },
   {
    "duration": 0,
    "start_time": "2022-03-23T15:52:48.572Z"
   },
   {
    "duration": 0,
    "start_time": "2022-03-23T15:52:48.573Z"
   },
   {
    "duration": 0,
    "start_time": "2022-03-23T15:52:48.574Z"
   },
   {
    "duration": 0,
    "start_time": "2022-03-23T15:52:48.575Z"
   },
   {
    "duration": 0,
    "start_time": "2022-03-23T15:52:48.576Z"
   },
   {
    "duration": 0,
    "start_time": "2022-03-23T15:52:48.576Z"
   },
   {
    "duration": 0,
    "start_time": "2022-03-23T15:52:48.577Z"
   },
   {
    "duration": 0,
    "start_time": "2022-03-23T15:52:48.578Z"
   },
   {
    "duration": 0,
    "start_time": "2022-03-23T15:52:48.579Z"
   },
   {
    "duration": 0,
    "start_time": "2022-03-23T15:52:48.581Z"
   },
   {
    "duration": 0,
    "start_time": "2022-03-23T15:52:48.582Z"
   },
   {
    "duration": 0,
    "start_time": "2022-03-23T15:52:48.583Z"
   },
   {
    "duration": 0,
    "start_time": "2022-03-23T15:52:48.584Z"
   },
   {
    "duration": 0,
    "start_time": "2022-03-23T15:52:48.586Z"
   },
   {
    "duration": 0,
    "start_time": "2022-03-23T15:52:48.587Z"
   },
   {
    "duration": 0,
    "start_time": "2022-03-23T15:52:48.588Z"
   },
   {
    "duration": 0,
    "start_time": "2022-03-23T15:52:48.589Z"
   },
   {
    "duration": 949,
    "start_time": "2022-03-23T15:55:40.058Z"
   },
   {
    "duration": 140,
    "start_time": "2022-03-23T15:58:41.694Z"
   },
   {
    "duration": 716,
    "start_time": "2022-03-23T15:59:20.855Z"
   },
   {
    "duration": 707,
    "start_time": "2022-03-23T16:00:16.960Z"
   },
   {
    "duration": 515,
    "start_time": "2022-03-25T15:39:13.765Z"
   },
   {
    "duration": 176,
    "start_time": "2022-03-25T15:39:14.284Z"
   },
   {
    "duration": 11,
    "start_time": "2022-03-25T15:39:14.474Z"
   },
   {
    "duration": 54,
    "start_time": "2022-03-25T15:39:14.488Z"
   },
   {
    "duration": 85,
    "start_time": "2022-03-25T15:39:14.545Z"
   },
   {
    "duration": 79,
    "start_time": "2022-03-25T15:39:14.633Z"
   },
   {
    "duration": 964,
    "start_time": "2022-03-25T15:39:14.716Z"
   },
   {
    "duration": 0,
    "start_time": "2022-03-25T15:39:15.690Z"
   },
   {
    "duration": 0,
    "start_time": "2022-03-25T15:39:15.692Z"
   },
   {
    "duration": 0,
    "start_time": "2022-03-25T15:39:15.696Z"
   },
   {
    "duration": 0,
    "start_time": "2022-03-25T15:39:15.697Z"
   },
   {
    "duration": 0,
    "start_time": "2022-03-25T15:39:15.699Z"
   },
   {
    "duration": 0,
    "start_time": "2022-03-25T15:39:15.701Z"
   },
   {
    "duration": 0,
    "start_time": "2022-03-25T15:39:15.703Z"
   },
   {
    "duration": 0,
    "start_time": "2022-03-25T15:39:15.705Z"
   },
   {
    "duration": 0,
    "start_time": "2022-03-25T15:39:15.707Z"
   },
   {
    "duration": 0,
    "start_time": "2022-03-25T15:39:15.709Z"
   },
   {
    "duration": 0,
    "start_time": "2022-03-25T15:39:15.711Z"
   },
   {
    "duration": 0,
    "start_time": "2022-03-25T15:39:15.713Z"
   },
   {
    "duration": 0,
    "start_time": "2022-03-25T15:39:15.715Z"
   },
   {
    "duration": 0,
    "start_time": "2022-03-25T15:39:15.717Z"
   },
   {
    "duration": 0,
    "start_time": "2022-03-25T15:39:15.719Z"
   },
   {
    "duration": 0,
    "start_time": "2022-03-25T15:39:15.721Z"
   },
   {
    "duration": 0,
    "start_time": "2022-03-25T15:39:15.724Z"
   },
   {
    "duration": 0,
    "start_time": "2022-03-25T15:39:15.726Z"
   },
   {
    "duration": 0,
    "start_time": "2022-03-25T15:39:15.727Z"
   },
   {
    "duration": 0,
    "start_time": "2022-03-25T15:39:15.729Z"
   },
   {
    "duration": 0,
    "start_time": "2022-03-25T15:39:15.782Z"
   },
   {
    "duration": 0,
    "start_time": "2022-03-25T15:39:15.785Z"
   },
   {
    "duration": 0,
    "start_time": "2022-03-25T15:39:15.786Z"
   },
   {
    "duration": 0,
    "start_time": "2022-03-25T15:39:15.788Z"
   },
   {
    "duration": 0,
    "start_time": "2022-03-25T15:39:15.790Z"
   },
   {
    "duration": 913,
    "start_time": "2022-03-25T15:41:42.532Z"
   },
   {
    "duration": 46,
    "start_time": "2022-03-25T15:41:51.132Z"
   },
   {
    "duration": 663,
    "start_time": "2022-03-25T15:41:56.074Z"
   },
   {
    "duration": 134,
    "start_time": "2022-03-25T15:44:18.382Z"
   },
   {
    "duration": 199,
    "start_time": "2022-03-25T15:46:37.317Z"
   },
   {
    "duration": 129,
    "start_time": "2022-03-25T15:47:39.780Z"
   },
   {
    "duration": 649,
    "start_time": "2022-03-25T15:50:00.471Z"
   },
   {
    "duration": 795,
    "start_time": "2022-03-25T15:50:30.808Z"
   },
   {
    "duration": 607,
    "start_time": "2022-03-25T15:55:09.187Z"
   },
   {
    "duration": 30,
    "start_time": "2022-03-25T15:56:37.659Z"
   },
   {
    "duration": 22,
    "start_time": "2022-03-25T15:56:57.902Z"
   },
   {
    "duration": 21,
    "start_time": "2022-03-25T15:57:32.166Z"
   },
   {
    "duration": 383,
    "start_time": "2022-03-25T15:57:56.970Z"
   },
   {
    "duration": 486,
    "start_time": "2022-03-25T15:58:21.755Z"
   },
   {
    "duration": 471,
    "start_time": "2022-03-25T15:58:31.304Z"
   },
   {
    "duration": 173,
    "start_time": "2022-03-25T15:58:31.778Z"
   },
   {
    "duration": 21,
    "start_time": "2022-03-25T15:58:31.953Z"
   },
   {
    "duration": 54,
    "start_time": "2022-03-25T15:58:31.978Z"
   },
   {
    "duration": 91,
    "start_time": "2022-03-25T15:58:32.034Z"
   },
   {
    "duration": 66,
    "start_time": "2022-03-25T15:58:32.128Z"
   },
   {
    "duration": 442,
    "start_time": "2022-03-25T15:58:32.196Z"
   },
   {
    "duration": 52,
    "start_time": "2022-03-25T15:58:32.641Z"
   },
   {
    "duration": 980,
    "start_time": "2022-03-25T15:58:32.696Z"
   },
   {
    "duration": 308,
    "start_time": "2022-03-25T15:58:33.682Z"
   },
   {
    "duration": 258,
    "start_time": "2022-03-25T15:58:33.992Z"
   },
   {
    "duration": 510,
    "start_time": "2022-03-25T15:58:34.253Z"
   },
   {
    "duration": 420,
    "start_time": "2022-03-25T15:58:34.766Z"
   },
   {
    "duration": 834,
    "start_time": "2022-03-25T15:58:35.189Z"
   },
   {
    "duration": 15,
    "start_time": "2022-03-25T15:58:36.025Z"
   },
   {
    "duration": 32,
    "start_time": "2022-03-25T15:58:36.043Z"
   },
   {
    "duration": 16,
    "start_time": "2022-03-25T15:58:36.078Z"
   },
   {
    "duration": 11,
    "start_time": "2022-03-25T15:58:36.096Z"
   },
   {
    "duration": 10,
    "start_time": "2022-03-25T15:58:36.110Z"
   },
   {
    "duration": 140,
    "start_time": "2022-03-25T15:58:36.122Z"
   },
   {
    "duration": 12,
    "start_time": "2022-03-25T15:58:36.274Z"
   },
   {
    "duration": 13,
    "start_time": "2022-03-25T15:58:36.289Z"
   },
   {
    "duration": 349,
    "start_time": "2022-03-25T15:58:36.304Z"
   },
   {
    "duration": 134,
    "start_time": "2022-03-25T15:58:36.656Z"
   },
   {
    "duration": 0,
    "start_time": "2022-03-25T15:58:36.794Z"
   },
   {
    "duration": 0,
    "start_time": "2022-03-25T15:58:36.796Z"
   },
   {
    "duration": 0,
    "start_time": "2022-03-25T15:58:36.798Z"
   },
   {
    "duration": 0,
    "start_time": "2022-03-25T15:58:36.800Z"
   },
   {
    "duration": 0,
    "start_time": "2022-03-25T15:58:36.803Z"
   },
   {
    "duration": 0,
    "start_time": "2022-03-25T15:58:36.805Z"
   },
   {
    "duration": 0,
    "start_time": "2022-03-25T15:58:36.808Z"
   },
   {
    "duration": 0,
    "start_time": "2022-03-25T15:58:36.810Z"
   },
   {
    "duration": 25,
    "start_time": "2022-03-25T16:02:33.280Z"
   },
   {
    "duration": 27,
    "start_time": "2022-03-25T16:04:15.712Z"
   },
   {
    "duration": 506,
    "start_time": "2022-03-25T16:04:24.894Z"
   },
   {
    "duration": 188,
    "start_time": "2022-03-25T16:04:25.403Z"
   },
   {
    "duration": 15,
    "start_time": "2022-03-25T16:04:25.594Z"
   },
   {
    "duration": 103,
    "start_time": "2022-03-25T16:04:25.613Z"
   },
   {
    "duration": 94,
    "start_time": "2022-03-25T16:04:25.719Z"
   },
   {
    "duration": 81,
    "start_time": "2022-03-25T16:04:25.815Z"
   },
   {
    "duration": 708,
    "start_time": "2022-03-25T16:04:25.900Z"
   },
   {
    "duration": 81,
    "start_time": "2022-03-25T16:04:26.612Z"
   },
   {
    "duration": 1197,
    "start_time": "2022-03-25T16:04:26.696Z"
   },
   {
    "duration": 570,
    "start_time": "2022-03-25T16:04:27.899Z"
   },
   {
    "duration": 428,
    "start_time": "2022-03-25T16:04:28.475Z"
   },
   {
    "duration": 501,
    "start_time": "2022-03-25T16:04:28.907Z"
   },
   {
    "duration": 635,
    "start_time": "2022-03-25T16:04:29.411Z"
   },
   {
    "duration": 959,
    "start_time": "2022-03-25T16:04:30.050Z"
   },
   {
    "duration": 18,
    "start_time": "2022-03-25T16:04:31.012Z"
   },
   {
    "duration": 42,
    "start_time": "2022-03-25T16:04:31.033Z"
   },
   {
    "duration": 16,
    "start_time": "2022-03-25T16:04:31.078Z"
   },
   {
    "duration": 12,
    "start_time": "2022-03-25T16:04:31.096Z"
   },
   {
    "duration": 11,
    "start_time": "2022-03-25T16:04:31.110Z"
   },
   {
    "duration": 53,
    "start_time": "2022-03-25T16:04:31.123Z"
   },
   {
    "duration": 9,
    "start_time": "2022-03-25T16:04:31.179Z"
   },
   {
    "duration": 20,
    "start_time": "2022-03-25T16:04:31.190Z"
   },
   {
    "duration": 240,
    "start_time": "2022-03-25T16:04:31.213Z"
   },
   {
    "duration": 39,
    "start_time": "2022-03-25T16:04:31.456Z"
   },
   {
    "duration": 579,
    "start_time": "2022-03-25T16:04:31.497Z"
   },
   {
    "duration": 21,
    "start_time": "2022-03-25T16:04:32.078Z"
   },
   {
    "duration": 14,
    "start_time": "2022-03-25T16:04:32.102Z"
   },
   {
    "duration": 54,
    "start_time": "2022-03-25T16:04:32.122Z"
   },
   {
    "duration": 11,
    "start_time": "2022-03-25T16:04:32.179Z"
   },
   {
    "duration": 12,
    "start_time": "2022-03-25T16:04:32.193Z"
   },
   {
    "duration": 16,
    "start_time": "2022-03-25T16:04:32.208Z"
   },
   {
    "duration": 48,
    "start_time": "2022-03-25T16:04:32.227Z"
   }
  ],
  "kernelspec": {
   "display_name": "Python 3 (ipykernel)",
   "language": "python",
   "name": "python3"
  },
  "language_info": {
   "codemirror_mode": {
    "name": "ipython",
    "version": 3
   },
   "file_extension": ".py",
   "mimetype": "text/x-python",
   "name": "python",
   "nbconvert_exporter": "python",
   "pygments_lexer": "ipython3",
   "version": "3.9.7"
  },
  "toc": {
   "base_numbering": 1,
   "nav_menu": {},
   "number_sections": false,
   "sideBar": false,
   "skip_h1_title": false,
   "title_cell": "Содержание",
   "title_sidebar": "Contents",
   "toc_cell": false,
   "toc_position": {
    "height": "742px",
    "left": "30.6px",
    "top": "111.133px",
    "width": "365.033px"
   },
   "toc_section_display": true,
   "toc_window_display": false
  }
 },
 "nbformat": 4,
 "nbformat_minor": 2
}
